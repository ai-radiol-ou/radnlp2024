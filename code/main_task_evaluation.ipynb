{
 "cells": [
  {
   "cell_type": "code",
   "execution_count": 6,
   "metadata": {},
   "outputs": [],
   "source": [
    "import pandas as pd\n",
    "import numpy as np"
   ]
  },
  {
   "cell_type": "code",
   "execution_count": 2,
   "metadata": {},
   "outputs": [
    {
     "data": {
      "text/plain": [
       "{'Joint accuracy (fine)': 0.7037037037037037,\n",
       " 'T accuracy (fine)': 0.8518518518518519,\n",
       " 'N accuracy (fine)': 0.9259259259259259,\n",
       " 'M accuracy (fine)': 0.8333333333333334,\n",
       " 'Joint accuracy (coarse)': 0.7962962962962963,\n",
       " 'T accuracy (coarse)': 0.9444444444444444,\n",
       " 'N accuracy (coarse)': 0.9259259259259259,\n",
       " 'M accuracy (coarse)': 0.8888888888888888}"
      ]
     },
     "execution_count": 2,
     "metadata": {},
     "output_type": "execute_result"
    }
   ],
   "source": [
    "# Define a function to evaluate predictions\n",
    "def evaluate_predictions(labels, submission):\n",
    "    # Helper function to determine coarse equivalence\n",
    "    def map_to_coarse_T(value):\n",
    "        if value in ['Tis', 'T1mi', 'T1a', 'T1b', 'T1c']:\n",
    "            return 'T1'\n",
    "        elif value in ['T2a', 'T2b']:\n",
    "            return 'T2'\n",
    "        return value\n",
    "\n",
    "    def map_to_coarse_M(value):\n",
    "        if value in ['M1a', 'M1b', 'M1c']:\n",
    "            return 'M1'\n",
    "        return value\n",
    "\n",
    "    # Merge the data on 'id'\n",
    "    merged = pd.merge(labels, submission, on='id', suffixes=('_label', '_pred'))\n",
    "\n",
    "    # Fine-grained accuracies\n",
    "    merged['T_correct_fine'] = merged['t_label'] == merged['t_pred']\n",
    "    merged['N_correct_fine'] = merged['n_label'] == merged['n_pred']\n",
    "    merged['M_correct_fine'] = merged['m_label'] == merged['m_pred']\n",
    "    merged['Joint_correct_fine'] = (\n",
    "        merged['T_correct_fine'] & \n",
    "        merged['N_correct_fine'] & \n",
    "        merged['M_correct_fine']\n",
    "    )\n",
    "\n",
    "    # Coarse-grained mappings\n",
    "    merged['t_label_coarse'] = merged['t_label'].map(map_to_coarse_T)\n",
    "    merged['t_pred_coarse'] = merged['t_pred'].map(map_to_coarse_T)\n",
    "    merged['m_label_coarse'] = merged['m_label'].map(map_to_coarse_M)\n",
    "    merged['m_pred_coarse'] = merged['m_pred'].map(map_to_coarse_M)\n",
    "\n",
    "    # Coarse-grained accuracies\n",
    "    merged['T_correct_coarse'] = merged['t_label_coarse'] == merged['t_pred_coarse']\n",
    "    merged['M_correct_coarse'] = merged['m_label_coarse'] == merged['m_pred_coarse']\n",
    "    merged['Joint_correct_coarse'] = (\n",
    "        merged['T_correct_coarse'] & \n",
    "        merged['N_correct_fine'] & \n",
    "        merged['M_correct_coarse']\n",
    "    )\n",
    "\n",
    "    # Calculate metrics\n",
    "    metrics = {\n",
    "        'Joint accuracy (fine)': merged['Joint_correct_fine'].mean(),\n",
    "        'T accuracy (fine)': merged['T_correct_fine'].mean(),\n",
    "        'N accuracy (fine)': merged['N_correct_fine'].mean(),\n",
    "        'M accuracy (fine)': merged['M_correct_fine'].mean(),\n",
    "        'Joint accuracy (coarse)': merged['Joint_correct_coarse'].mean(),\n",
    "        'T accuracy (coarse)': merged['T_correct_coarse'].mean(),\n",
    "        'N accuracy (coarse)': merged['N_correct_fine'].mean(),  # Same as fine\n",
    "        'M accuracy (coarse)': merged['M_correct_coarse'].mean()\n",
    "    }\n",
    "\n",
    "    return metrics, merged\n",
    "\n",
    "# Execute the function\n",
    "metrics_result, merged_result = evaluate_predictions(labels, submission)\n",
    "\n",
    "# Display the metrics\n",
    "metrics_result\n",
    "\n"
   ]
  },
  {
   "cell_type": "code",
   "execution_count": 7,
   "metadata": {},
   "outputs": [
    {
     "data": {
      "text/plain": [
       "{'Joint accuracy (fine)': 0.7037037037037037,\n",
       " 'T accuracy (fine)': 0.8518518518518519,\n",
       " 'N accuracy (fine)': 0.9259259259259259,\n",
       " 'M accuracy (fine)': 0.8333333333333334,\n",
       " 'Joint accuracy (coarse)': 0.7962962962962963,\n",
       " 'T accuracy (coarse)': 0.9444444444444444,\n",
       " 'N accuracy (coarse)': 0.9259259259259259,\n",
       " 'M accuracy (coarse)': 0.8888888888888888}"
      ]
     },
     "execution_count": 7,
     "metadata": {},
     "output_type": "execute_result"
    }
   ],
   "source": [
    "label_file_path = '../radnlp_2024_train_val_20240731/ja/main_task/val/label.csv'\n",
    "submission_file_path = '../submission_gpt-4o-2024-05-13.csv'\n",
    "\n",
    "labels = pd.read_csv(label_file_path)\n",
    "submission = pd.read_csv(submission_file_path)\n",
    "\n",
    "# Execute the function\n",
    "metrics_result, merged_result = evaluate_predictions(labels, submission)\n",
    "\n",
    "# Display the metrics\n",
    "metrics_result"
   ]
  },
  {
   "cell_type": "code",
   "execution_count": 4,
   "metadata": {},
   "outputs": [
    {
     "data": {
      "text/plain": [
       "{'Joint accuracy (fine)': 0.35185185185185186,\n",
       " 'T accuracy (fine)': 0.5925925925925926,\n",
       " 'N accuracy (fine)': 0.7407407407407407,\n",
       " 'M accuracy (fine)': 0.8703703703703703,\n",
       " 'Joint accuracy (coarse)': 0.5185185185185185,\n",
       " 'T accuracy (coarse)': 0.7592592592592593,\n",
       " 'N accuracy (coarse)': 0.7407407407407407,\n",
       " 'M accuracy (coarse)': 0.9444444444444444}"
      ]
     },
     "execution_count": 4,
     "metadata": {},
     "output_type": "execute_result"
    }
   ],
   "source": [
    "label_file_path = '../radnlp_2024_train_val_20240731/ja/main_task/val/label.csv'\n",
    "submission_file_path = '../submission_gpt-4o-mini-2024-07-18.csv'\n",
    "\n",
    "labels = pd.read_csv(label_file_path)\n",
    "submission = pd.read_csv(submission_file_path)\n",
    "\n",
    "# Execute the function\n",
    "metrics_result, merged_result = evaluate_predictions(labels, submission)\n",
    "\n",
    "# Display the metrics\n",
    "metrics_result\n"
   ]
  },
  {
   "cell_type": "code",
   "execution_count": 5,
   "metadata": {},
   "outputs": [
    {
     "data": {
      "text/plain": [
       "{'Joint accuracy (fine)': 0.9074074074074074,\n",
       " 'T accuracy (fine)': 0.9444444444444444,\n",
       " 'N accuracy (fine)': 0.9629629629629629,\n",
       " 'M accuracy (fine)': 1.0,\n",
       " 'Joint accuracy (coarse)': 0.9259259259259259,\n",
       " 'T accuracy (coarse)': 0.9629629629629629,\n",
       " 'N accuracy (coarse)': 0.9629629629629629,\n",
       " 'M accuracy (coarse)': 1.0}"
      ]
     },
     "execution_count": 5,
     "metadata": {},
     "output_type": "execute_result"
    }
   ],
   "source": [
    "label_file_path = '../radnlp_2024_train_val_20240731/ja/main_task/val/label.csv'\n",
    "submission_file_path = '../submission_o1-preview-2024-09-12.csv'\n",
    "\n",
    "labels = pd.read_csv(label_file_path)\n",
    "submission = pd.read_csv(submission_file_path)\n",
    "\n",
    "# Execute the function\n",
    "metrics_result, merged_result = evaluate_predictions(labels, submission)\n",
    "\n",
    "# Display the metrics\n",
    "metrics_result"
   ]
  },
  {
   "cell_type": "code",
   "execution_count": null,
   "metadata": {},
   "outputs": [],
   "source": []
  }
 ],
 "metadata": {
  "kernelspec": {
   "display_name": "base",
   "language": "python",
   "name": "python3"
  },
  "language_info": {
   "codemirror_mode": {
    "name": "ipython",
    "version": 3
   },
   "file_extension": ".py",
   "mimetype": "text/x-python",
   "name": "python",
   "nbconvert_exporter": "python",
   "pygments_lexer": "ipython3",
   "version": "3.8.8"
  }
 },
 "nbformat": 4,
 "nbformat_minor": 2
}
