{
 "cells": [
  {
   "cell_type": "code",
   "execution_count": 5,
   "metadata": {},
   "outputs": [],
   "source": [
    "from sklearn.metrics import fbeta_score\n",
    "import pandas as pd\n",
    "\n",
    "def calculate_micro_f2_per_label(data, label):\n",
    "    \"\"\"\n",
    "    Calculate micro F2 score for a specific label.\n",
    "\n",
    "    Args:\n",
    "        data (pd.DataFrame): DataFrame containing true and predicted labels.\n",
    "        label (str): The column name of the label to calculate F2 score.\n",
    "\n",
    "    Returns:\n",
    "        float: Micro F2 score for the given label.\n",
    "    \"\"\"\n",
    "    return fbeta_score(data[f\"{label}_true\"], data[f\"{label}_pred\"], beta=2.0, pos_label=1, average='binary', zero_division=0)\n",
    "\n",
    "\n",
    "def evaluate_micro_f2(labels, predictions):\n",
    "    \"\"\"\n",
    "    Evaluate micro F2 scores for all target labels.\n",
    "\n",
    "    Args:\n",
    "        labels (pd.DataFrame): True labels for the dataset.\n",
    "        predictions (pd.DataFrame): Predicted labels for the dataset.\n",
    "\n",
    "    Returns:\n",
    "        dict: Dictionary containing micro F2 scores for each label and overall score.\n",
    "    \"\"\"\n",
    "    # Merge the true labels and predictions on id and sentence_index\n",
    "    merged = pd.merge(labels, predictions, on=['id', 'sentence_index'], suffixes=('_true', '_pred'))\n",
    "    print(merged.head())\n",
    "    # Define the target labels\n",
    "    target_labels = [\n",
    "        \"omittable\", \"measure\", \"extension\", \"atelectasis\", \"satellite\",\n",
    "        \"lymphadenopathy\", \"pleural\", \"distant\"\n",
    "    ]\n",
    "\n",
    "    # Initialize a dictionary to store results\n",
    "    results = {}\n",
    "\n",
    "    # Calculate F2 scores for each label\n",
    "    for label in target_labels:\n",
    "        results[f\"{label.capitalize()} micro F2.0\"] = calculate_micro_f2_per_label(merged, label)\n",
    "\n",
    "    # Calculate the overall F2 score (excluding omittable because of special handling)\n",
    "    overall_labels = merged[[f\"{label}_true\" for label in target_labels]]\n",
    "    overall_preds = merged[[f\"{label}_pred\" for label in target_labels]]\n",
    "    results[\"Overall micro F2.0\"] = fbeta_score(\n",
    "        overall_labels.values.ravel(), overall_preds.values.ravel(), beta=2.0,  pos_label=1, average='binary', zero_division=0\n",
    "    )\n",
    "\n",
    "    return results\n"
   ]
  },
  {
   "cell_type": "code",
   "execution_count": 8,
   "metadata": {},
   "outputs": [
    {
     "name": "stdout",
     "output_type": "stream",
     "text": [
      "       id  sentence_index  omittable_true  measure_true  extension_true  \\\n",
      "0  147290               0               0             1               0   \n",
      "1  147290               1               1             0               0   \n",
      "2  147290               2               1             0               0   \n",
      "3  147290               3               1             0               0   \n",
      "4  241752               0               0             1               0   \n",
      "\n",
      "   atelectasis_true  satellite_true  lymphadenopathy_true  pleural_true  \\\n",
      "0                 0               0                     0             0   \n",
      "1                 0               0                     0             0   \n",
      "2                 0               0                     0             0   \n",
      "3                 0               0                     0             0   \n",
      "4                 0               0                     0             0   \n",
      "\n",
      "   distant_true  omittable_pred  measure_pred  extension_pred  \\\n",
      "0             0               0             1               0   \n",
      "1             0               1             0               0   \n",
      "2             0               1             0               0   \n",
      "3             0               1             0               0   \n",
      "4             0               0             1               0   \n",
      "\n",
      "   atelectasis_pred  satellite_pred  lymphadenopathy_pred  pleural_pred  \\\n",
      "0                 0               0                     0             0   \n",
      "1                 0               0                     0             0   \n",
      "2                 0               0                     0             0   \n",
      "3                 0               0                     0             0   \n",
      "4                 0               0                     0             0   \n",
      "\n",
      "   distant_pred  \n",
      "0             0  \n",
      "1             0  \n",
      "2             0  \n",
      "3             0  \n",
      "4             0  \n"
     ]
    },
    {
     "data": {
      "text/plain": [
       "{'Omittable micro F2.0': 1.0,\n",
       " 'Measure micro F2.0': 1.0,\n",
       " 'Extension micro F2.0': 1.0,\n",
       " 'Atelectasis micro F2.0': 1.0,\n",
       " 'Satellite micro F2.0': 1.0,\n",
       " 'Lymphadenopathy micro F2.0': 1.0,\n",
       " 'Pleural micro F2.0': 1.0,\n",
       " 'Distant micro F2.0': 1.0,\n",
       " 'Overall micro F2.0': 1.0}"
      ]
     },
     "execution_count": 8,
     "metadata": {},
     "output_type": "execute_result"
    }
   ],
   "source": [
    "label = pd.read_csv('../radnlp_2024_train_val_20240731/ja/sub_task/val/label.csv')\n",
    "submission = pd.read_csv('../radnlp_2024_train_val_20240731/ja/sub_task/val/label.csv')\n",
    "\n",
    "evaluate_micro_f2(label, submission)"
   ]
  },
  {
   "cell_type": "code",
   "execution_count": null,
   "metadata": {},
   "outputs": [],
   "source": []
  }
 ],
 "metadata": {
  "kernelspec": {
   "display_name": "base",
   "language": "python",
   "name": "python3"
  },
  "language_info": {
   "codemirror_mode": {
    "name": "ipython",
    "version": 3
   },
   "file_extension": ".py",
   "mimetype": "text/x-python",
   "name": "python",
   "nbconvert_exporter": "python",
   "pygments_lexer": "ipython3",
   "version": "3.8.8"
  }
 },
 "nbformat": 4,
 "nbformat_minor": 2
}
