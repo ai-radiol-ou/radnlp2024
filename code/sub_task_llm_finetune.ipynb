{
 "cells": [
  {
   "cell_type": "markdown",
   "metadata": {},
   "source": [
    "## finetuning\n",
    "#### huggingface上にあるLLMをinstallしてきてfinetuning"
   ]
  },
  {
   "cell_type": "code",
   "execution_count": 1,
   "metadata": {},
   "outputs": [
    {
     "name": "stderr",
     "output_type": "stream",
     "text": [
      "/home/jubuntu/anaconda3/envs/unsloth/lib/python3.10/site-packages/transformers/utils/hub.py:128: FutureWarning: Using `TRANSFORMERS_CACHE` is deprecated and will be removed in v5 of Transformers. Use `HF_HOME` instead.\n",
      "  warnings.warn(\n",
      "WARNING: BNB_CUDA_VERSION=121 environment variable detected; loading libbitsandbytes_cuda121.so.\n",
      "This can be used to load a bitsandbytes version that is different from the PyTorch CUDA version.\n",
      "If this was unintended set the BNB_CUDA_VERSION variable to an empty string: export BNB_CUDA_VERSION=\n",
      "If you use the manual override make sure the right libcudart.so is in your LD_LIBRARY_PATH\n",
      "For example by adding the following to your .bashrc: export LD_LIBRARY_PATH=$LD_LIBRARY_PATH:<path_to_cuda_dir/lib64\n",
      "\n"
     ]
    },
    {
     "name": "stdout",
     "output_type": "stream",
     "text": [
      "🦥 Unsloth: Will patch your computer to enable 2x faster free finetuning.\n",
      "🦥 Unsloth Zoo will now patch everything to make training faster!\n"
     ]
    }
   ],
   "source": [
    "import torch\n",
    "from transformers import AutoTokenizer, AutoModelForCausalLM, Trainer, TrainingArguments\n",
    "from datasets import Dataset\n",
    "from accelerate import Accelerator\n",
    "from tqdm import tqdm\n",
    "from utils import validate_and_correct_tnm_output\n",
    "import pandas as pd\n",
    "import bitsandbytes as bnb\n",
    "from unsloth import FastLanguageModel \n",
    "from unsloth import is_bfloat16_supported\n",
    "import torch\n",
    "from trl import SFTTrainer\n",
    "from transformers import TrainingArguments\n",
    "from datasets import load_dataset\n",
    "from utils import validate_and_correct_sub_output\n"
   ]
  },
  {
   "cell_type": "code",
   "execution_count": 2,
   "metadata": {},
   "outputs": [
    {
     "name": "stdout",
     "output_type": "stream",
     "text": [
      "Using device: cuda\n"
     ]
    },
    {
     "data": {
      "application/vnd.jupyter.widget-view+json": {
       "model_id": "e26854069de642b0bf33f7d0ab276787",
       "version_major": 2,
       "version_minor": 0
      },
      "text/plain": [
       "Map:   0%|          | 0/1020 [00:00<?, ? examples/s]"
      ]
     },
     "metadata": {},
     "output_type": "display_data"
    },
    {
     "data": {
      "application/vnd.jupyter.widget-view+json": {
       "model_id": "502b78afc12f4a36818d52ac49dcd530",
       "version_major": 2,
       "version_minor": 0
      },
      "text/plain": [
       "Map:   0%|          | 0/451 [00:00<?, ? examples/s]"
      ]
     },
     "metadata": {},
     "output_type": "display_data"
    },
    {
     "name": "stdout",
     "output_type": "stream",
     "text": [
      "{'text': '<start_of_turn>userあなたは優秀な医師です。以下の文章に基づき肺癌に関して常に正しい判断ができます。以下の文章全体を考慮し、指定された対象文について、以下のどのラベルに該当するかを判断してください。\\n\\n(i) Omttable - 明らかに，陰性所見のみであるか，または肺癌のステージと無関係な内容である区間。ここでの「明らかに」とは，肺癌ステージング基準についての知識を用いなくても容易に判定できる程度を想定しています。\\n(ii) Measure - Omittable に該当せず，かつ主に原発巣の大きさについて述べている区間。\\n(iii) Estension - Omittable に該当せず，かつ原発巣の進展範囲について述べている区間。\\n(iv) Atelectasis - Omittable に該当せず，かつ無気肺もしくは閉塞性肺炎を示している区間。\\n(v) Satelliite - Omittable に該当せず，かつ原発巣とは離れた肺内悪性病変 (肺内転移や癌性リンパ管症など) を示している区間。\\n(vi) Lymphadenopathy - Omittable に該当せず，かつ領域リンパ節腫大を示している区間。\\n(vii) Pleural - Omittable に該当せず，かつ胸水，心嚢水，胸膜播種，心膜播種を示している区間。\\n(viii) Distant - Omittable に該当せず，かつ遠隔転移を示している区間。\\n\\n文章全体:\\n左上葉全体が無気肺になっています。 左上葉気管支は閉塞して造影  CT  で増強効果の乏しい 74mm  の腫瘤があります。 肺癌と考えます。 左肺門、同側縦隔リンパ節腫大しリンパ節転移と考えます。 気管右側にもリンパ節腫大があり、こちらもリンパ節転移を疑います。 左下葉気管支も腫瘍により浸潤あり、狭窄しています。 胸水貯留は認めません。 撮影範囲の腹部臓器に粗大な異常を認めません。\\n\\n対象文:\\n左上葉全体が無気肺になっています。\\n\\n次のトピックに該当する場合は「1」、該当しない場合は「0」としてください。\\n1. omittable\\n2. measure\\n3. extension\\n4. atelectasis\\n5. satellite\\n6. lymphadenopathy\\n7. pleural\\n8. distant\\n\\n出力形式: 0または1をスペース区切りで出力してください。\\n例: 1 0 0 0 0 0 0 0\\n出力： <end_of_turn>\\n<start_of_turn>model 0 0 0 1 0 0 0 0 <end_of_turn>'}\n"
     ]
    }
   ],
   "source": [
    "## データセットの準備\n",
    "import os\n",
    "import json\n",
    "import torch\n",
    "from transformers import AutoTokenizer, AutoModelForCausalLM, Trainer, TrainingArguments\n",
    "from datasets import Dataset\n",
    "from accelerate import Accelerator\n",
    "from tqdm import tqdm\n",
    "from utils import validate_and_correct_tnm_output\n",
    "import pandas as pd\n",
    "import bitsandbytes as bnb\n",
    "from unsloth import FastLanguageModel \n",
    "from unsloth import is_bfloat16_supported\n",
    "import torch\n",
    "from trl import SFTTrainer\n",
    "from transformers import TrainingArguments\n",
    "from datasets import load_dataset\n",
    "from utils import validate_and_correct_sub_output\n",
    "max_seq_length = 2048 # Supports RoPE Scaling interally, so choose any!\n",
    "# Get LAION dataset\n",
    "# url = \"https://huggingface.co/datasets/laion/OIG/resolve/main/unified_chip2.jsonl\"\n",
    "# dataset = load_dataset(\"json\", data_files = {\"train\" : url}, split = \"train\")\n",
    "\n",
    "\n",
    "# GPUの確認\n",
    "device = torch.device(\"cuda\" if torch.cuda.is_available() else \"cpu\")\n",
    "print(f\"Using device: {device}\")\n",
    "\n",
    "# モデルとトークナイザーのロード\n",
    "model_name =\"tokyotech-llm/Llama-3.1-Swallow-8B-Instruct-v0.1\"\n",
    "#\"google/gemma-2-2b-jpn-it\"\"pfnet/Llama3-Preferred-MedSwallow-70B\"# \n",
    "\n",
    "def prepare_dataset(dataset_train,label_train):\n",
    "    data = []\n",
    "    grouped_text = dataset_train.groupby('id')['text'].apply(' '.join)\n",
    "    data_df = dataset_train.merge(grouped_text, on='id', how='left', suffixes=('', '_all'))\n",
    "    data_df = data_df.merge(label_train, on=['id','sentence_index'], how='left')\n",
    "    for n in range(len(data_df)):\n",
    "        entry = data_df.iloc[n]\n",
    "        data.append({\n",
    "            \"prompt\": entry[\"text\"],\n",
    "            \"context\": entry[\"text_all\"],\n",
    "            \"completion\": ' '.join(entry[[\"omittable\",\"measure\",\"extension\",\"atelectasis\",\"satellite\",\"lymphadenopathy\",\"pleural\",\"distant\"]].astype('str').to_list()),\n",
    "            \"id\": entry[\"id\"],\n",
    "            \"sentence_index\": entry[\"sentence_index\"]\n",
    "        })\n",
    "    return Dataset.from_list(data)\n",
    "\n",
    "# データセットのロード\n",
    "# sentences.csv を読み込み\n",
    "sentences_path = '../radnlp_2024_train_val_test/ja/sub_task/train/sentences.csv'\n",
    "dataset_train = pd.read_csv(sentences_path)\n",
    "sentences_path = '../radnlp_2024_train_val_test/ja/sub_task/val/sentences.csv'\n",
    "dataset_val = pd.read_csv(sentences_path)\n",
    "\n",
    "label_path = '../radnlp_2024_train_val_test/ja/sub_task/train/label.csv'\n",
    "label_train = pd.read_csv(label_path)\n",
    "label_path = '../radnlp_2024_train_val_test/ja/sub_task/val/label.csv'\n",
    "label_val = pd.read_csv(label_path)\n",
    "\n",
    "dataset_train = prepare_dataset(dataset_train,label_train)\n",
    "dataset_val = prepare_dataset(dataset_val,label_val)\n",
    "\n",
    "with open('../subtask_prompt.txt', 'r', encoding='utf-8') as file:\n",
    "    subtask_prompt_text = file.read()\n",
    "\n",
    "def generate_sub_prompt(subtask_prompt_text, context, sentence):\n",
    "    return (\n",
    "        \"あなたは優秀な医師です。以下の文章に基づき肺癌に関して常に正しい判断ができます。\"\n",
    "        \"以下の文章全体を考慮し、指定された対象文について、以下のどのラベルに該当するかを判断してください。\\n\\n\"\n",
    "        f\"{subtask_prompt_text}\\n\\n\"\n",
    "        f\"文章全体:\\n{context}\\n\\n\"\n",
    "        f\"対象文:\\n{sentence}\\n\\n\"\n",
    "        \"次のトピックに該当する場合は「1」、該当しない場合は「0」としてください。\\n\"\n",
    "        \"1. omittable\\n\"\n",
    "        \"2. measure\\n\"\n",
    "        \"3. extension\\n\"\n",
    "        \"4. atelectasis\\n\"\n",
    "        \"5. satellite\\n\"\n",
    "        \"6. lymphadenopathy\\n\"\n",
    "        \"7. pleural\\n\"\n",
    "        \"8. distant\\n\\n\"\n",
    "        \"出力形式: 0または1をスペース区切りで出力してください。\\n\"\n",
    "        \"例: 1 0 0 0 0 0 0 0\\n\"\n",
    "        \"出力：\"\n",
    "    )\n",
    "\n",
    "\n",
    "def preprocess_function(examples):\n",
    "    model_inputs = {}\n",
    "    inputs = [\n",
    "    f\"<start_of_turn>user{generate_sub_prompt(subtask_prompt_text, context, prompt)} <end_of_turn>\\n\"\n",
    "    f\"<start_of_turn>model {completion} <end_of_turn>\"\n",
    "    for prompt, context, completion in zip(examples['prompt'], examples['context'], examples['completion'])]\n",
    "    \n",
    "    questions = [\n",
    "    f\"<start_of_turn>user{generate_sub_prompt(subtask_prompt_text, context, prompt)} <end_of_turn>\\n\"\n",
    "    f\"<start_of_turn>model \"\n",
    "    for prompt, context in zip(examples['prompt'], examples['context'])]\n",
    "\n",
    "    ids = [id for id in examples['id']]\n",
    "    # 元のテキストも保持\n",
    "    model_inputs['text'] = inputs\n",
    "    model_inputs[\"id\"] = ids\n",
    "    model_inputs[\"question\"] = questions\n",
    "    \n",
    "    return model_inputs\n",
    "\n",
    "# 元のテキストを保持しつつデータセットを生成\n",
    "train_dataset = dataset_train.map(preprocess_function, batched=True).remove_columns([\"prompt\", \"completion\",\"id\",\"question\",\"context\",\"sentence_index\"]) \n",
    "eval_dataset = dataset_val.map(preprocess_function, batched=True)#.remove_columns([\"prompt\", \"completion\",\"id\"]) \n",
    "\n",
    "##sample output\n",
    "print(train_dataset[0])\n"
   ]
  },
  {
   "cell_type": "code",
   "execution_count": 3,
   "metadata": {},
   "outputs": [],
   "source": [
    "## inferenceのコード\n",
    "\n",
    "# 推論関数の定義\n",
    "def inference(dataset, model, tokenizer, max_length=2048):\n",
    "\n",
    "    results = []\n",
    "    for data in tqdm(eval_dataset):\n",
    "        # 入力テキストを取得\n",
    "        input_text = data[\"question\"]\n",
    "        \n",
    "        # トークナイズ (モデルが理解できる形式に変換)\n",
    "        inputs = tokenizer(input_text, return_tensors=\"pt\", truncation=True, max_length=2048).to(model.device)\n",
    "        # モデルの推論\n",
    "        with torch.no_grad():\n",
    "            outputs = model.generate(\n",
    "                inputs[\"input_ids\"],\n",
    "                max_new_tokens=20,\n",
    "                early_stopping=True,  # 早期終了を有効化\n",
    "                eos_token_id=tokenizer.eos_token_id,  # EOSトークンを設定\n",
    "                do_sample=False# トークンの確率質量\n",
    "            )\n",
    "        input_length = len(inputs[\"input_ids\"][0])\n",
    "        \n",
    "        # デコード (トークン列をテキストに変換)\n",
    "        output_text = tokenizer.decode(outputs[0][input_length:], skip_special_tokens=True)\n",
    "        \n",
    "        # 結果を保存\n",
    "        results.append({\n",
    "            \"id\": data[\"id\"],\n",
    "            \"sentence_index\": data[\"sentence_index\"],\n",
    "            \"input\": input_text,\n",
    "            \"generated_output\": output_text,\n",
    "            \"expected_output\": data[\"completion\"]\n",
    "        })\n",
    "    return results"
   ]
  },
  {
   "cell_type": "code",
   "execution_count": 4,
   "metadata": {},
   "outputs": [
    {
     "name": "stderr",
     "output_type": "stream",
     "text": [
      "`rope_scaling`'s original_max_position_embeddings field must be less than max_position_embeddings, got 8192 and max_position_embeddings=8192\n"
     ]
    },
    {
     "name": "stdout",
     "output_type": "stream",
     "text": [
      "==((====))==  Unsloth 2024.11.10: Fast Llama patching. Transformers:4.46.3.\n",
      "   \\\\   /|    GPU: NVIDIA RTX A6000. Max memory: 47.425 GB. Platform: Linux.\n",
      "O^O/ \\_/ \\    Torch: 2.5.1. CUDA: 8.6. CUDA Toolkit: 12.1. Triton: 3.1.0\n",
      "\\        /    Bfloat16 = TRUE. FA [Xformers = 0.0.28.post3. FA2 = False]\n",
      " \"-____-\"     Free Apache license: http://github.com/unslothai/unsloth\n",
      "Unsloth: Fast downloading is enabled - ignore downloading bars which are red colored!\n"
     ]
    },
    {
     "name": "stderr",
     "output_type": "stream",
     "text": [
      "`rope_scaling`'s original_max_position_embeddings field must be less than max_position_embeddings, got 8192 and max_position_embeddings=8192\n",
      "`rope_scaling`'s original_max_position_embeddings field must be less than max_position_embeddings, got 8192 and max_position_embeddings=8192\n"
     ]
    },
    {
     "data": {
      "application/vnd.jupyter.widget-view+json": {
       "model_id": "d38891f97aba46c59081372209303e54",
       "version_major": 2,
       "version_minor": 0
      },
      "text/plain": [
       "Downloading shards:   0%|          | 0/4 [00:00<?, ?it/s]"
      ]
     },
     "metadata": {},
     "output_type": "display_data"
    },
    {
     "data": {
      "application/vnd.jupyter.widget-view+json": {
       "model_id": "543b08590c234120a9cf696f3b2be4a5",
       "version_major": 2,
       "version_minor": 0
      },
      "text/plain": [
       "Loading checkpoint shards:   0%|          | 0/4 [00:00<?, ?it/s]"
      ]
     },
     "metadata": {},
     "output_type": "display_data"
    },
    {
     "data": {
      "text/plain": [
       "LlamaForCausalLM(\n",
       "  (model): LlamaModel(\n",
       "    (embed_tokens): Embedding(128256, 4096, padding_idx=128004)\n",
       "    (layers): ModuleList(\n",
       "      (0-31): 32 x LlamaDecoderLayer(\n",
       "        (self_attn): LlamaAttention(\n",
       "          (q_proj): Linear4bit(in_features=4096, out_features=4096, bias=False)\n",
       "          (k_proj): Linear4bit(in_features=4096, out_features=1024, bias=False)\n",
       "          (v_proj): Linear4bit(in_features=4096, out_features=1024, bias=False)\n",
       "          (o_proj): Linear4bit(in_features=4096, out_features=4096, bias=False)\n",
       "          (rotary_emb): LlamaExtendedRotaryEmbedding()\n",
       "        )\n",
       "        (mlp): LlamaMLP(\n",
       "          (gate_proj): Linear4bit(in_features=4096, out_features=14336, bias=False)\n",
       "          (up_proj): Linear4bit(in_features=4096, out_features=14336, bias=False)\n",
       "          (down_proj): Linear4bit(in_features=14336, out_features=4096, bias=False)\n",
       "          (act_fn): SiLU()\n",
       "        )\n",
       "        (input_layernorm): LlamaRMSNorm((4096,), eps=1e-05)\n",
       "        (post_attention_layernorm): LlamaRMSNorm((4096,), eps=1e-05)\n",
       "      )\n",
       "    )\n",
       "    (norm): LlamaRMSNorm((4096,), eps=1e-05)\n",
       "    (rotary_emb): LlamaRotaryEmbedding()\n",
       "  )\n",
       "  (lm_head): Linear(in_features=4096, out_features=128256, bias=False)\n",
       ")"
      ]
     },
     "execution_count": 4,
     "metadata": {},
     "output_type": "execute_result"
    }
   ],
   "source": [
    "model, tokenizer = FastLanguageModel.from_pretrained(\n",
    "    model_name = model_name,\n",
    "    max_seq_length = max_seq_length,\n",
    "    dtype = None,\n",
    "    load_in_4bit = True,\n",
    ")\n",
    "tokenizer = AutoTokenizer.from_pretrained(model_name,attn_implementation=\"eager\", add_eos_token=True,)\n",
    "# パディングトークンが設定されていない場合、EOSトークンを設定\n",
    "if tokenizer.pad_token is None:\n",
    "    tokenizer.pad_token = tokenizer.eos_token\n",
    "tokenizer.padding_side = \"right\"\n",
    "## finetune前の確認\n",
    "# モデルの推論モード設定\n",
    "FastLanguageModel.for_inference(model)"
   ]
  },
  {
   "cell_type": "code",
   "execution_count": 5,
   "metadata": {},
   "outputs": [
    {
     "name": "stderr",
     "output_type": "stream",
     "text": [
      "100%|██████████| 451/451 [06:18<00:00,  1.19it/s]"
     ]
    },
    {
     "name": "stdout",
     "output_type": "stream",
     "text": [
      "結果が../model_outputs/sentence_submission_Llama-3.1-Swallow-8B-Instruct-v0.1_pretrained.csvに保存されました！\n"
     ]
    },
    {
     "name": "stderr",
     "output_type": "stream",
     "text": [
      "\n"
     ]
    }
   ],
   "source": [
    "# 推論実行\n",
    "inference_results = inference(eval_dataset, model, tokenizer)\n",
    "\n",
    "output_csv = f'../model_outputs/sentence_submission_{os.path.basename(model_name)}_pretrained.csv'\n",
    "results = []\n",
    "# 結果を表示\n",
    "for i, result in enumerate(inference_results):\n",
    "\n",
    "    try:\n",
    "        output = result['generated_output']\n",
    "        # TNM分類の形式を検証・修正\n",
    "        output = validate_and_correct_sub_output(output)\n",
    "\n",
    "        predictions = list(map(int, output.split()))\n",
    "                # 結果をリストに保存\n",
    "        results.append({\n",
    "            \"id\": result['id'],\n",
    "            \"sentence_index\": result['sentence_index'],\n",
    "            \"omittable\": predictions[0],\n",
    "            \"measure\": predictions[1],\n",
    "            \"extension\": predictions[2],\n",
    "            \"atelectasis\": predictions[3],\n",
    "            \"satellite\": predictions[4],\n",
    "            \"lymphadenopathy\": predictions[5],\n",
    "            \"pleural\": predictions[6],\n",
    "            \"distant\": predictions[7],\n",
    "        })\n",
    "    except Exception as e:\n",
    "        print(f\"エラーが発生しました: ID={result['id']}, sentence_index={result['sentence_index']} - {e}\")\n",
    "        continue\n",
    "# DataFrameに変換してCSVファイルに保存\n",
    "results_df = pd.DataFrame(results)\n",
    "#final_df = pd.concat([df, results_df], ignore_index=True)\n",
    "results_df.to_csv(output_csv, index=False)\n",
    "\n",
    "print(f\"結果が{output_csv}に保存されました！\")\n"
   ]
  },
  {
   "cell_type": "code",
   "execution_count": 6,
   "metadata": {},
   "outputs": [
    {
     "name": "stderr",
     "output_type": "stream",
     "text": [
      "Unsloth 2024.11.10 patched 32 layers with 32 QKV layers, 32 O layers and 32 MLP layers.\n"
     ]
    },
    {
     "data": {
      "application/vnd.jupyter.widget-view+json": {
       "model_id": "bb961c7ee6de43669f09c57a17b3be54",
       "version_major": 2,
       "version_minor": 0
      },
      "text/plain": [
       "Map (num_proc=2):   0%|          | 0/1020 [00:00<?, ? examples/s]"
      ]
     },
     "metadata": {},
     "output_type": "display_data"
    },
    {
     "name": "stderr",
     "output_type": "stream",
     "text": [
      "max_steps is given, it will override any value given in num_train_epochs\n"
     ]
    },
    {
     "data": {
      "application/vnd.jupyter.widget-view+json": {
       "model_id": "324e92f520104b05b7cc0e05ae694795",
       "version_major": 2,
       "version_minor": 0
      },
      "text/plain": [
       "Map:   0%|          | 0/1020 [00:00<?, ? examples/s]"
      ]
     },
     "metadata": {},
     "output_type": "display_data"
    }
   ],
   "source": [
    "from trl import SFTTrainer\n",
    "from transformers import TrainingArguments, DataCollatorForSeq2Seq\n",
    "from unsloth import is_bfloat16_supported\n",
    "from unsloth.chat_templates import train_on_responses_only\n",
    "\n",
    "FastLanguageModel.for_training(model)\n",
    "model = FastLanguageModel.get_peft_model(\n",
    "    model,\n",
    "    r = 16, # Choose any number > 0 ! Suggested 8, 16, 32, 64, 128\n",
    "    target_modules = [\"q_proj\", \"k_proj\", \"v_proj\", \"o_proj\",\n",
    "                      \"gate_proj\", \"up_proj\", \"down_proj\",],\n",
    "    lora_alpha = 16,\n",
    "    lora_dropout = 0, # Supports any, but = 0 is optimized\n",
    "    bias = \"none\",    # Supports any, but = \"none\" is optimized\n",
    "    # [NEW] \"unsloth\" uses 30% less VRAM, fits 2x larger batch sizes!\n",
    "    use_gradient_checkpointing = \"unsloth\", # True or \"unsloth\" for very long context\n",
    "    random_state = 3407,\n",
    "    use_rslora = False,  # We support rank stabilized LoRA\n",
    "    loftq_config = None, # And LoftQ\n",
    ")\n",
    "\n",
    "data_collator = DataCollatorForSeq2Seq(\n",
    "    tokenizer=tokenizer,\n",
    "    label_pad_token_id=-100,\n",
    "    padding=True,  # 動的パディングを有効にする\n",
    ")\n",
    "\n",
    "trainer = SFTTrainer(\n",
    "    model = model,\n",
    "    tokenizer = tokenizer,\n",
    "    train_dataset = train_dataset,\n",
    "    max_seq_length = max_seq_length,\n",
    "    data_collator = data_collator,\n",
    "    dataset_text_field = \"text\",\n",
    "    dataset_num_proc = 2,\n",
    "    packing = False, # Can make training 5x faster for short sequences.\n",
    "    args = TrainingArguments(\n",
    "        per_device_train_batch_size = 2,\n",
    "        gradient_accumulation_steps = 4,\n",
    "        warmup_steps = 5,\n",
    "        # num_train_epochs = 1, # Set this for 1 full training run.\n",
    "        max_steps = 90,\n",
    "        learning_rate = 2e-4,\n",
    "        fp16 = not is_bfloat16_supported(),\n",
    "        bf16 = is_bfloat16_supported(),\n",
    "        logging_steps = 1,\n",
    "        optim = \"adamw_8bit\",\n",
    "        weight_decay = 0.01,\n",
    "        lr_scheduler_type = \"linear\",\n",
    "        seed = 3407,\n",
    "        output_dir = \"../finetuned_model/swallow8b\",\n",
    "        report_to = \"none\", # Use this for WandB etc\n",
    "    ),\n",
    ")\n",
    "\n",
    "trainer = train_on_responses_only(\n",
    "    trainer,\n",
    "    instruction_part=\"<start_of_turn>user\",  # インストラクション部分を指定\n",
    "    response_part=\"<start_of_turn>model\"  # レスポンス部分を指定\n",
    ")\n"
   ]
  },
  {
   "cell_type": "code",
   "execution_count": 7,
   "metadata": {},
   "outputs": [
    {
     "name": "stderr",
     "output_type": "stream",
     "text": [
      "==((====))==  Unsloth - 2x faster free finetuning | Num GPUs = 1\n",
      "   \\\\   /|    Num examples = 1,020 | Num Epochs = 1\n",
      "O^O/ \\_/ \\    Batch size per device = 2 | Gradient Accumulation steps = 4\n",
      "\\        /    Total batch size = 8 | Total steps = 90\n",
      " \"-____-\"     Number of trainable parameters = 41,943,040\n"
     ]
    },
    {
     "data": {
      "application/vnd.jupyter.widget-view+json": {
       "model_id": "de1158dd86ad47bda70d98811819d3cc",
       "version_major": 2,
       "version_minor": 0
      },
      "text/plain": [
       "  0%|          | 0/90 [00:00<?, ?it/s]"
      ]
     },
     "metadata": {},
     "output_type": "display_data"
    },
    {
     "name": "stdout",
     "output_type": "stream",
     "text": [
      "{'loss': 0.3708, 'grad_norm': 1.2545955181121826, 'learning_rate': 4e-05, 'epoch': 0.01}\n",
      "{'loss': 0.3236, 'grad_norm': 1.0530649423599243, 'learning_rate': 8e-05, 'epoch': 0.02}\n",
      "{'loss': 0.3388, 'grad_norm': 1.117310881614685, 'learning_rate': 0.00012, 'epoch': 0.02}\n",
      "{'loss': 0.2086, 'grad_norm': 1.027769684791565, 'learning_rate': 0.00016, 'epoch': 0.03}\n",
      "{'loss': 0.1833, 'grad_norm': 0.8655968308448792, 'learning_rate': 0.0002, 'epoch': 0.04}\n",
      "{'loss': 0.1, 'grad_norm': 0.6234148144721985, 'learning_rate': 0.00019764705882352942, 'epoch': 0.05}\n",
      "{'loss': 0.0982, 'grad_norm': 0.45092466473579407, 'learning_rate': 0.00019529411764705883, 'epoch': 0.05}\n",
      "{'loss': 0.0891, 'grad_norm': 0.8836435675621033, 'learning_rate': 0.00019294117647058825, 'epoch': 0.06}\n",
      "{'loss': 0.0594, 'grad_norm': 0.3325469195842743, 'learning_rate': 0.00019058823529411766, 'epoch': 0.07}\n",
      "{'loss': 0.0616, 'grad_norm': 0.25960540771484375, 'learning_rate': 0.00018823529411764707, 'epoch': 0.08}\n",
      "{'loss': 0.1284, 'grad_norm': 0.47596344351768494, 'learning_rate': 0.00018588235294117648, 'epoch': 0.09}\n",
      "{'loss': 0.077, 'grad_norm': 0.296177476644516, 'learning_rate': 0.0001835294117647059, 'epoch': 0.09}\n",
      "{'loss': 0.0955, 'grad_norm': 0.5492081046104431, 'learning_rate': 0.0001811764705882353, 'epoch': 0.1}\n",
      "{'loss': 0.0524, 'grad_norm': 0.26900210976600647, 'learning_rate': 0.00017882352941176472, 'epoch': 0.11}\n",
      "{'loss': 0.1038, 'grad_norm': 0.7662853002548218, 'learning_rate': 0.00017647058823529413, 'epoch': 0.12}\n",
      "{'loss': 0.0535, 'grad_norm': 0.2275610864162445, 'learning_rate': 0.00017411764705882354, 'epoch': 0.13}\n",
      "{'loss': 0.0437, 'grad_norm': 0.24207477271556854, 'learning_rate': 0.00017176470588235293, 'epoch': 0.13}\n",
      "{'loss': 0.047, 'grad_norm': 0.2780834138393402, 'learning_rate': 0.00016941176470588237, 'epoch': 0.14}\n",
      "{'loss': 0.0387, 'grad_norm': 0.14032262563705444, 'learning_rate': 0.00016705882352941178, 'epoch': 0.15}\n",
      "{'loss': 0.0378, 'grad_norm': 0.24198581278324127, 'learning_rate': 0.0001647058823529412, 'epoch': 0.16}\n",
      "{'loss': 0.0584, 'grad_norm': 0.596865177154541, 'learning_rate': 0.0001623529411764706, 'epoch': 0.16}\n",
      "{'loss': 0.1263, 'grad_norm': 0.7381628751754761, 'learning_rate': 0.00016, 'epoch': 0.17}\n",
      "{'loss': 0.0519, 'grad_norm': 0.5115678310394287, 'learning_rate': 0.00015764705882352943, 'epoch': 0.18}\n",
      "{'loss': 0.0348, 'grad_norm': 0.08783793449401855, 'learning_rate': 0.00015529411764705884, 'epoch': 0.19}\n",
      "{'loss': 0.0615, 'grad_norm': 0.2742353081703186, 'learning_rate': 0.00015294117647058822, 'epoch': 0.2}\n",
      "{'loss': 0.0892, 'grad_norm': 0.36155566573143005, 'learning_rate': 0.00015058823529411766, 'epoch': 0.2}\n",
      "{'loss': 0.0423, 'grad_norm': 0.1591556817293167, 'learning_rate': 0.00014823529411764707, 'epoch': 0.21}\n",
      "{'loss': 0.0851, 'grad_norm': 0.3466700613498688, 'learning_rate': 0.00014588235294117646, 'epoch': 0.22}\n",
      "{'loss': 0.0425, 'grad_norm': 0.20719517767429352, 'learning_rate': 0.0001435294117647059, 'epoch': 0.23}\n",
      "{'loss': 0.0849, 'grad_norm': 0.33926650881767273, 'learning_rate': 0.0001411764705882353, 'epoch': 0.24}\n",
      "{'loss': 0.0444, 'grad_norm': 0.22213760018348694, 'learning_rate': 0.00013882352941176472, 'epoch': 0.24}\n",
      "{'loss': 0.0523, 'grad_norm': 0.23915064334869385, 'learning_rate': 0.00013647058823529413, 'epoch': 0.25}\n",
      "{'loss': 0.0345, 'grad_norm': 0.24094022810459137, 'learning_rate': 0.00013411764705882352, 'epoch': 0.26}\n",
      "{'loss': 0.0382, 'grad_norm': 0.29968738555908203, 'learning_rate': 0.00013176470588235296, 'epoch': 0.27}\n",
      "{'loss': 0.0395, 'grad_norm': 0.2922174334526062, 'learning_rate': 0.00012941176470588237, 'epoch': 0.27}\n",
      "{'loss': 0.015, 'grad_norm': 0.14630506932735443, 'learning_rate': 0.00012705882352941175, 'epoch': 0.28}\n",
      "{'loss': 0.0057, 'grad_norm': 0.07542253285646439, 'learning_rate': 0.0001247058823529412, 'epoch': 0.29}\n",
      "{'loss': 0.0288, 'grad_norm': 0.13400676846504211, 'learning_rate': 0.0001223529411764706, 'epoch': 0.3}\n",
      "{'loss': 0.0152, 'grad_norm': 0.7079564332962036, 'learning_rate': 0.00012, 'epoch': 0.31}\n",
      "{'loss': 0.0299, 'grad_norm': 0.5194041728973389, 'learning_rate': 0.00011764705882352942, 'epoch': 0.31}\n",
      "{'loss': 0.0998, 'grad_norm': 0.8138276934623718, 'learning_rate': 0.00011529411764705881, 'epoch': 0.32}\n",
      "{'loss': 0.0847, 'grad_norm': 0.38926488161087036, 'learning_rate': 0.00011294117647058824, 'epoch': 0.33}\n",
      "{'loss': 0.0206, 'grad_norm': 0.45393115282058716, 'learning_rate': 0.00011058823529411766, 'epoch': 0.34}\n",
      "{'loss': 0.0252, 'grad_norm': 0.8988543748855591, 'learning_rate': 0.00010823529411764706, 'epoch': 0.35}\n",
      "{'loss': 0.0474, 'grad_norm': 1.3992069959640503, 'learning_rate': 0.00010588235294117647, 'epoch': 0.35}\n",
      "{'loss': 0.0213, 'grad_norm': 0.5547489523887634, 'learning_rate': 0.0001035294117647059, 'epoch': 0.36}\n",
      "{'loss': 0.0178, 'grad_norm': 0.3511192798614502, 'learning_rate': 0.0001011764705882353, 'epoch': 0.37}\n",
      "{'loss': 0.0328, 'grad_norm': 0.6116047501564026, 'learning_rate': 9.882352941176471e-05, 'epoch': 0.38}\n",
      "{'loss': 0.0244, 'grad_norm': 0.6960515379905701, 'learning_rate': 9.647058823529412e-05, 'epoch': 0.38}\n",
      "{'loss': 0.0196, 'grad_norm': 0.2775413990020752, 'learning_rate': 9.411764705882353e-05, 'epoch': 0.39}\n",
      "{'loss': 0.0259, 'grad_norm': 0.3563412129878998, 'learning_rate': 9.176470588235295e-05, 'epoch': 0.4}\n",
      "{'loss': 0.0261, 'grad_norm': 0.3877486288547516, 'learning_rate': 8.941176470588236e-05, 'epoch': 0.41}\n",
      "{'loss': 0.0459, 'grad_norm': 0.2915958762168884, 'learning_rate': 8.705882352941177e-05, 'epoch': 0.42}\n",
      "{'loss': 0.0209, 'grad_norm': 0.24484874308109283, 'learning_rate': 8.470588235294118e-05, 'epoch': 0.42}\n",
      "{'loss': 0.0095, 'grad_norm': 0.22367939352989197, 'learning_rate': 8.23529411764706e-05, 'epoch': 0.43}\n",
      "{'loss': 0.0317, 'grad_norm': 0.3374268114566803, 'learning_rate': 8e-05, 'epoch': 0.44}\n",
      "{'loss': 0.0187, 'grad_norm': 0.12263673543930054, 'learning_rate': 7.764705882352942e-05, 'epoch': 0.45}\n",
      "{'loss': 0.0589, 'grad_norm': 0.9427492022514343, 'learning_rate': 7.529411764705883e-05, 'epoch': 0.45}\n",
      "{'loss': 0.0113, 'grad_norm': 0.29004085063934326, 'learning_rate': 7.294117647058823e-05, 'epoch': 0.46}\n",
      "{'loss': 0.0154, 'grad_norm': 0.1177838146686554, 'learning_rate': 7.058823529411765e-05, 'epoch': 0.47}\n",
      "{'loss': 0.0145, 'grad_norm': 0.5022152662277222, 'learning_rate': 6.823529411764707e-05, 'epoch': 0.48}\n",
      "{'loss': 0.0322, 'grad_norm': 0.3633955419063568, 'learning_rate': 6.588235294117648e-05, 'epoch': 0.49}\n",
      "{'loss': 0.0138, 'grad_norm': 0.20138679444789886, 'learning_rate': 6.352941176470588e-05, 'epoch': 0.49}\n",
      "{'loss': 0.0325, 'grad_norm': 0.4072614908218384, 'learning_rate': 6.11764705882353e-05, 'epoch': 0.5}\n",
      "{'loss': 0.0305, 'grad_norm': 0.4197980761528015, 'learning_rate': 5.882352941176471e-05, 'epoch': 0.51}\n",
      "{'loss': 0.0479, 'grad_norm': 0.5778933167457581, 'learning_rate': 5.647058823529412e-05, 'epoch': 0.52}\n",
      "{'loss': 0.024, 'grad_norm': 0.3583005368709564, 'learning_rate': 5.411764705882353e-05, 'epoch': 0.53}\n",
      "{'loss': 0.0486, 'grad_norm': 0.5530393719673157, 'learning_rate': 5.176470588235295e-05, 'epoch': 0.53}\n",
      "{'loss': 0.0443, 'grad_norm': 0.5148666501045227, 'learning_rate': 4.9411764705882355e-05, 'epoch': 0.54}\n",
      "{'loss': 0.0041, 'grad_norm': 0.05297963321208954, 'learning_rate': 4.705882352941177e-05, 'epoch': 0.55}\n",
      "{'loss': 0.0259, 'grad_norm': 0.3329993188381195, 'learning_rate': 4.470588235294118e-05, 'epoch': 0.56}\n",
      "{'loss': 0.0107, 'grad_norm': 0.12878713011741638, 'learning_rate': 4.235294117647059e-05, 'epoch': 0.56}\n",
      "{'loss': 0.0048, 'grad_norm': 0.04905731603503227, 'learning_rate': 4e-05, 'epoch': 0.57}\n",
      "{'loss': 0.047, 'grad_norm': 0.5408873558044434, 'learning_rate': 3.7647058823529415e-05, 'epoch': 0.58}\n",
      "{'loss': 0.0097, 'grad_norm': 0.16986438632011414, 'learning_rate': 3.529411764705883e-05, 'epoch': 0.59}\n",
      "{'loss': 0.1047, 'grad_norm': 0.7513713836669922, 'learning_rate': 3.294117647058824e-05, 'epoch': 0.6}\n",
      "{'loss': 0.0313, 'grad_norm': 0.31282666325569153, 'learning_rate': 3.058823529411765e-05, 'epoch': 0.6}\n",
      "{'loss': 0.023, 'grad_norm': 0.4619320034980774, 'learning_rate': 2.823529411764706e-05, 'epoch': 0.61}\n",
      "{'loss': 0.0087, 'grad_norm': 0.21477405726909637, 'learning_rate': 2.5882352941176475e-05, 'epoch': 0.62}\n",
      "{'loss': 0.0121, 'grad_norm': 0.27887406945228577, 'learning_rate': 2.3529411764705884e-05, 'epoch': 0.63}\n",
      "{'loss': 0.0362, 'grad_norm': 0.5187457203865051, 'learning_rate': 2.1176470588235296e-05, 'epoch': 0.64}\n",
      "{'loss': 0.0407, 'grad_norm': 0.24503466486930847, 'learning_rate': 1.8823529411764708e-05, 'epoch': 0.64}\n",
      "{'loss': 0.0172, 'grad_norm': 0.1269720196723938, 'learning_rate': 1.647058823529412e-05, 'epoch': 0.65}\n",
      "{'loss': 0.013, 'grad_norm': 0.10507948696613312, 'learning_rate': 1.411764705882353e-05, 'epoch': 0.66}\n",
      "{'loss': 0.0166, 'grad_norm': 0.3389429450035095, 'learning_rate': 1.1764705882352942e-05, 'epoch': 0.67}\n",
      "{'loss': 0.0142, 'grad_norm': 0.2483035922050476, 'learning_rate': 9.411764705882354e-06, 'epoch': 0.67}\n",
      "{'loss': 0.0062, 'grad_norm': 0.20262792706489563, 'learning_rate': 7.058823529411765e-06, 'epoch': 0.68}\n",
      "{'loss': 0.0036, 'grad_norm': 0.0412958562374115, 'learning_rate': 4.705882352941177e-06, 'epoch': 0.69}\n",
      "{'loss': 0.0192, 'grad_norm': 0.6602198481559753, 'learning_rate': 2.3529411764705885e-06, 'epoch': 0.7}\n",
      "{'loss': 0.0211, 'grad_norm': 0.18923771381378174, 'learning_rate': 0.0, 'epoch': 0.71}\n"
     ]
    },
    {
     "name": "stderr",
     "output_type": "stream",
     "text": [
      "`rope_scaling`'s original_max_position_embeddings field must be less than max_position_embeddings, got 8192 and max_position_embeddings=8192\n"
     ]
    },
    {
     "name": "stdout",
     "output_type": "stream",
     "text": [
      "{'train_runtime': 568.7856, 'train_samples_per_second': 1.266, 'train_steps_per_second': 0.158, 'train_loss': 0.054532570640246074, 'epoch': 0.71}\n"
     ]
    }
   ],
   "source": [
    "trainer_stats = trainer.train()"
   ]
  },
  {
   "cell_type": "code",
   "execution_count": 8,
   "metadata": {},
   "outputs": [
    {
     "name": "stderr",
     "output_type": "stream",
     "text": [
      "100%|██████████| 451/451 [07:14<00:00,  1.04it/s]\n"
     ]
    }
   ],
   "source": [
    "\n",
    "# モデルとトークナイザのロード\n",
    "# model_path = \"../finetuned_model/checkpoint-300\"  # トレーニング済みモデルが保存されているディレクトリ\n",
    "# model, tokenizer = FastLanguageModel.from_pretrained(\n",
    "#     model_name = model_path,\n",
    "#     max_seq_length = max_seq_length,\n",
    "#     dtype = None,\n",
    "#     load_in_4bit = True,\n",
    "# )\n",
    "\n",
    "# モデルをデバイスに移動\n",
    "#model = model.to(\"cuda\" if torch.cuda.is_available() else \"cpu\")\n",
    "FastLanguageModel.for_inference(model)\n",
    "# 推論実行\n",
    "inference_results = inference(eval_dataset, model, tokenizer)"
   ]
  },
  {
   "cell_type": "code",
   "execution_count": 9,
   "metadata": {},
   "outputs": [
    {
     "name": "stdout",
     "output_type": "stream",
     "text": [
      "結果が../model_outputs/sentence_submission_Llama-3.1-Swallow-8B-Instruct-v0.1_finetuned.csvに保存されました！\n"
     ]
    }
   ],
   "source": [
    "\n",
    "# モデルとトークナイザのロード\n",
    "# model_path = \"../finetuned_model/checkpoint-300\"  # トレーニング済みモデルが保存されているディレクトリ\n",
    "# model, tokenizer = FastLanguageModel.from_pretrained(\n",
    "#     model_name = model_path,\n",
    "#     max_seq_length = max_seq_length,\n",
    "#     dtype = None,\n",
    "#     load_in_4bit = True,\n",
    "# )\n",
    "\n",
    "output_csv = f'../model_outputs/sentence_submission_{os.path.basename(model_name)}_finetuned.csv'\n",
    "results = []\n",
    "# 結果を表示\n",
    "for i, result in enumerate(inference_results):\n",
    "\n",
    "    try:\n",
    "        output = result['generated_output']\n",
    "        # TNM分類の形式を検証・修正\n",
    "        output = validate_and_correct_sub_output(output)\n",
    "\n",
    "        predictions = list(map(int, output.split()))\n",
    "                # 結果をリストに保存\n",
    "        results.append({\n",
    "            \"id\": result['id'],\n",
    "            \"sentence_index\": result['sentence_index'],\n",
    "            \"omittable\": predictions[0],\n",
    "            \"measure\": predictions[1],\n",
    "            \"extension\": predictions[2],\n",
    "            \"atelectasis\": predictions[3],\n",
    "            \"satellite\": predictions[4],\n",
    "            \"lymphadenopathy\": predictions[5],\n",
    "            \"pleural\": predictions[6],\n",
    "            \"distant\": predictions[7],\n",
    "        })\n",
    "    except Exception as e:\n",
    "        print(f\"エラーが発生しました: ID={result['id']}, sentence_index={result['sentence_index']} - {e}\")\n",
    "        continue\n",
    "# DataFrameに変換してCSVファイルに保存\n",
    "results_df = pd.DataFrame(results)\n",
    "#final_df = pd.concat([df, results_df], ignore_index=True)\n",
    "results_df.to_csv(output_csv, index=False)\n",
    "\n",
    "print(f\"結果が{output_csv}に保存されました！\")\n"
   ]
  },
  {
   "cell_type": "code",
   "execution_count": null,
   "metadata": {},
   "outputs": [],
   "source": []
  },
  {
   "cell_type": "code",
   "execution_count": null,
   "metadata": {},
   "outputs": [],
   "source": []
  }
 ],
 "metadata": {
  "kernelspec": {
   "display_name": "unsloth",
   "language": "python",
   "name": "python3"
  },
  "language_info": {
   "codemirror_mode": {
    "name": "ipython",
    "version": 3
   },
   "file_extension": ".py",
   "mimetype": "text/x-python",
   "name": "python",
   "nbconvert_exporter": "python",
   "pygments_lexer": "ipython3",
   "version": "3.10.15"
  }
 },
 "nbformat": 4,
 "nbformat_minor": 2
}
