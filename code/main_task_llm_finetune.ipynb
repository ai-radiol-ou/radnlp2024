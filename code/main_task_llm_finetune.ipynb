{
 "cells": [
  {
   "cell_type": "markdown",
   "metadata": {},
   "source": [
    "## finetuning\n",
    "#### huggingface上にあるLLMをinstallしてきてfinetuning"
   ]
  },
  {
   "cell_type": "code",
   "execution_count": 1,
   "metadata": {},
   "outputs": [
    {
     "name": "stderr",
     "output_type": "stream",
     "text": [
      "/home/jubuntu/anaconda3/envs/unsloth/lib/python3.10/site-packages/transformers/utils/hub.py:128: FutureWarning: Using `TRANSFORMERS_CACHE` is deprecated and will be removed in v5 of Transformers. Use `HF_HOME` instead.\n",
      "  warnings.warn(\n",
      "WARNING: BNB_CUDA_VERSION=121 environment variable detected; loading libbitsandbytes_cuda121.so.\n",
      "This can be used to load a bitsandbytes version that is different from the PyTorch CUDA version.\n",
      "If this was unintended set the BNB_CUDA_VERSION variable to an empty string: export BNB_CUDA_VERSION=\n",
      "If you use the manual override make sure the right libcudart.so is in your LD_LIBRARY_PATH\n",
      "For example by adding the following to your .bashrc: export LD_LIBRARY_PATH=$LD_LIBRARY_PATH:<path_to_cuda_dir/lib64\n",
      "\n"
     ]
    },
    {
     "name": "stdout",
     "output_type": "stream",
     "text": [
      "🦥 Unsloth: Will patch your computer to enable 2x faster free finetuning.\n",
      "🦥 Unsloth Zoo will now patch everything to make training faster!\n",
      "Using device: cuda\n"
     ]
    },
    {
     "data": {
      "application/vnd.jupyter.widget-view+json": {
       "model_id": "aea00cf6e13e4b85a76b7da2b34ff8e3",
       "version_major": 2,
       "version_minor": 0
      },
      "text/plain": [
       "Map:   0%|          | 0/108 [00:00<?, ? examples/s]"
      ]
     },
     "metadata": {},
     "output_type": "display_data"
    },
    {
     "data": {
      "application/vnd.jupyter.widget-view+json": {
       "model_id": "af7258a707b345b3a6dd73dc7e115fb7",
       "version_major": 2,
       "version_minor": 0
      },
      "text/plain": [
       "Map:   0%|          | 0/54 [00:00<?, ? examples/s]"
      ]
     },
     "metadata": {},
     "output_type": "display_data"
    },
    {
     "name": "stdout",
     "output_type": "stream",
     "text": [
      "{'text': '<start_of_turn>userあなたは優秀な医師です。以下の文章に基づき肺癌に関して常に正しい判断ができます。以下の進行度分類に基づき、与えられた文章からTNM分類を選んでください。\\n\\nT0\\t原発腫瘍を認めない\\nTis\\t上皮内癌（carcinoma in situ）：肺野型の場合は、充実成分径0cmかつ病変全体径≦3cm\\nT1\\t腫瘍の充実成分径≦3cm、肺または臓側胸膜に覆われている、葉気管支より中枢への浸潤が気管支鏡上認められない（すなわち主気管支に及んでいない）\\nT1mi\\u3000微少浸潤性腺癌：部分充実型を示し、充実成分径≦0.5cmかつ病変全体径≦3cm \\nT1a\\t充実成分径≦1cmでかつTis・T1miには相当しない\\nT1b\\t充実成分径>1cmでかつ≦2cm\\nT1c\\t充実成分径>2cmでかつ≦3cm\\nT2\\t充実成分径>3cmでかつ≦5cm、または充実成分径≦3cmでも以下のいずれかであるもの\\n\\u3000\\u3000主気管支に及ぶが気管分岐部には及ばない\\n\\u3000\\u3000臓側胸膜に浸潤\\n\\u3000\\u3000肺門まで連続する部分的または一側全体の無気肺か閉塞性肺炎がある\\nT2a\\t充実成分径>3cmでかつ≦4cm\\nT2b\\t充実成分径>4cmでかつ≦5cm\\nT3\\t充実成分径>5cmでかつ≦7cm、または充実成分径≦5cmでも以下のいずれかであるもの\\n\\u3000\\u3000壁側胸膜、胸壁（superior sulcus tumorを含む）、横隔神経、心膜のいずれかに直接浸潤\\n\\u3000\\u3000同一葉内の不連続な副腫瘍結節\\nT4\\t充実成分径＞7cm、または大きさを問わず横隔膜、縦隔、心臓、大血管、気管、反回神経、食道、椎体、気管分岐部への浸潤、あるいは同側の異なった肺葉内の副腫瘍結節\\n\\n\\nN0\\t所属リンパ節転移なし\\nN1\\tがんのある肺と同じ側の気管支周囲かつ/または同じ側の肺門、肺内のリンパ節への転移がある\\nN2\\tがんのある肺と同じ側の縦隔かつ/または気管分岐部より下のリンパ節への転移がある\\nN3\\tがんのある肺と反対側の縦隔、肺門、同じ側あるいは反対側の前斜角筋（首の筋肉）、鎖骨上窩（鎖骨の上のくぼみ）のリンパ節への転移がある\\n\\n\\nM0\\t遠隔転移なし\\nM1\\t遠隔転移がある\\nM1a\\tがんのある肺と反対側の肺内の結節、胸膜または心膜の結節、悪性胸水（がんのある肺と同じ側、反対側）、悪性心嚢水がみられる\\nM1b\\t肺以外の一臓器への単発遠隔転移がある\\nM1c\\t肺以外の一臓器または多臓器への多発遠隔転移がある\\n\\n\\n\\n以下の文章を読んで、TNM分類を正確に選択し、必ず以下の形式で出力してください。TとN,NとMの間には半角スペースを挿入しそれ以外は何も出力しないでください。\\nT<number>[optional_letter] N<number>[optional_letter] M<number>[optional_letter]\\n\\n 左肺上葉に長径 12cm の腫瘤を認めます。弓部大動脈や肺動脈浸潤が疑われます。\\nT4 と考えます。\\n左肺門や縦隔リンパ節#6 の腫大が見られます。転移が疑われます。N2 と考えます。\\n胸水は認めません。\\n左第 3 肋骨は腫瘤による骨破壊が見られます。他撮像範囲の骨に遠隔転移を疑う所見は指摘できません。\\n撮像範囲の腹部に有意所見は指摘できません。 <end_of_turn>\\n<start_of_turn>model T4 N2 M0 <end_of_turn>'}\n"
     ]
    }
   ],
   "source": [
    "## データセットの準備\n",
    "import os\n",
    "import json\n",
    "import torch\n",
    "from transformers import AutoTokenizer, AutoModelForCausalLM, Trainer, TrainingArguments\n",
    "from datasets import Dataset\n",
    "from accelerate import Accelerator\n",
    "from tqdm import tqdm\n",
    "from utils import validate_and_correct_tnm_output\n",
    "import pandas as pd\n",
    "import bitsandbytes as bnb\n",
    "from unsloth import FastLanguageModel \n",
    "from unsloth import is_bfloat16_supported\n",
    "import torch\n",
    "from trl import SFTTrainer\n",
    "from transformers import TrainingArguments\n",
    "from datasets import load_dataset\n",
    "max_seq_length = 2048 # Supports RoPE Scaling interally, so choose any!\n",
    "# Get LAION dataset\n",
    "# url = \"https://huggingface.co/datasets/laion/OIG/resolve/main/unified_chip2.jsonl\"\n",
    "# dataset = load_dataset(\"json\", data_files = {\"train\" : url}, split = \"train\")\n",
    "\n",
    "\n",
    "# GPUの確認\n",
    "device = torch.device(\"cuda\" if torch.cuda.is_available() else \"cpu\")\n",
    "print(f\"Using device: {device}\")\n",
    "\n",
    "# モデルとトークナイザーのロード\n",
    "model_name =\"tokyotech-llm/Llama-3.1-Swallow-70B-Instruct-v0.1\"# \n",
    "#\"google/gemma-2-2b-jpn-it\"\n",
    "\n",
    "def prepare_dataset(jsonl_file_path):\n",
    "    data = []\n",
    "    with open(jsonl_file_path, 'r', encoding='utf-8') as jsonl_file:\n",
    "        for line in jsonl_file:\n",
    "            entry = json.loads(line.strip())\n",
    "            data.append({\n",
    "                \"prompt\": entry[\"prompt\"],\n",
    "                \"completion\": entry[\"completion\"],\n",
    "                \"id\": entry[\"id\"]\n",
    "            })\n",
    "    return Dataset.from_list(data)\n",
    "\n",
    "# データセットのロード\n",
    "jsonl_file_path_train = \"../finetune_jsons/finetune_dataset_train.jsonl\"\n",
    "dataset_train = prepare_dataset(jsonl_file_path_train)\n",
    "jsonl_file_path_val = \"../finetune_jsons/finetune_dataset_val.jsonl\"\n",
    "dataset_val = prepare_dataset(jsonl_file_path_val)\n",
    "\n",
    "with open('../tnm_prompt.txt', 'r', encoding='utf-8') as file:\n",
    "    tnm_prompt_text = file.read()\n",
    "\n",
    "tnm_prompt = (\n",
    "    \"あなたは優秀な医師です。以下の文章に基づき肺癌に関して常に正しい判断ができます。\"\n",
    "    \"以下の進行度分類に基づき、与えられた文章からTNM分類を選んでください。\\n\\n\"\n",
    "    f\"{tnm_prompt_text}\\n\\n\"\n",
    "    \"以下の文章を読んで、TNM分類を正確に選択し、必ず以下の形式で出力してください。TとN,NとMの間には半角スペースを挿入しそれ以外は何も出力しないでください。\\n\"\n",
    "    \"T<number>[optional_letter] N<number>[optional_letter] M<number>[optional_letter]\\n\\n\"\n",
    ")\n",
    "\n",
    "\n",
    "def preprocess_function(examples):\n",
    "    model_inputs = {}\n",
    "    inputs = [f\"<start_of_turn>user{tnm_prompt} {prompt} <end_of_turn>\\n<start_of_turn>model {completion} <end_of_turn>\" for prompt,completion in zip(examples['prompt'], examples['completion'])]\n",
    "    questions = [f\"<start_of_turn>user{tnm_prompt} {prompt} <end_of_turn>\\n<start_of_turn>model \" for prompt in examples['prompt']]\n",
    "\n",
    "    ids = [id for id in examples['id']]\n",
    "    # 元のテキストも保持\n",
    "    model_inputs['text'] = inputs\n",
    "    model_inputs[\"id\"] = ids\n",
    "    model_inputs[\"question\"] = questions\n",
    "    \n",
    "    return model_inputs\n",
    "\n",
    "# 元のテキストを保持しつつデータセットを生成\n",
    "train_dataset = dataset_train.map(preprocess_function, batched=True).remove_columns([\"prompt\", \"completion\",\"id\",\"question\"]) \n",
    "eval_dataset = dataset_val.map(preprocess_function, batched=True)#.remove_columns([\"prompt\", \"completion\",\"id\"]) \n",
    "\n",
    "##sample output\n",
    "print(train_dataset[0])\n"
   ]
  },
  {
   "cell_type": "code",
   "execution_count": 2,
   "metadata": {},
   "outputs": [],
   "source": [
    "## inferenceのコード\n",
    "\n",
    "# 推論関数の定義\n",
    "def inference(dataset, model, tokenizer, max_length=2048):\n",
    "\n",
    "    results = []\n",
    "    for data in tqdm(eval_dataset):\n",
    "        # 入力テキストを取得\n",
    "        input_text = data[\"question\"]\n",
    "        \n",
    "        # トークナイズ (モデルが理解できる形式に変換)\n",
    "        inputs = tokenizer(input_text, return_tensors=\"pt\", truncation=True, max_length=2048).to(model.device)\n",
    "        # モデルの推論\n",
    "        with torch.no_grad():\n",
    "            outputs = model.generate(\n",
    "                inputs[\"input_ids\"],\n",
    "                max_new_tokens=10,\n",
    "                early_stopping=True,  # 早期終了を有効化\n",
    "                eos_token_id=tokenizer.eos_token_id,  # EOSトークンを設定\n",
    "                do_sample=False# トークンの確率質量\n",
    "            )\n",
    "        input_length = len(inputs[\"input_ids\"][0])\n",
    "        \n",
    "        # デコード (トークン列をテキストに変換)\n",
    "        output_text = tokenizer.decode(outputs[0][input_length:], skip_special_tokens=True)\n",
    "        \n",
    "        # 結果を保存\n",
    "        results.append({\n",
    "            \"id\": data[\"id\"],\n",
    "            \"input\": input_text,\n",
    "            \"generated_output\": output_text,\n",
    "            \"expected_output\": data[\"completion\"]\n",
    "        })\n",
    "    return results"
   ]
  },
  {
   "cell_type": "code",
   "execution_count": 3,
   "metadata": {},
   "outputs": [
    {
     "name": "stderr",
     "output_type": "stream",
     "text": [
      "`rope_scaling`'s original_max_position_embeddings field must be less than max_position_embeddings, got 8192 and max_position_embeddings=8192\n"
     ]
    },
    {
     "name": "stdout",
     "output_type": "stream",
     "text": [
      "==((====))==  Unsloth 2024.11.10: Fast Llama patching. Transformers:4.46.3.\n",
      "   \\\\   /|    GPU: NVIDIA RTX A6000. Max memory: 47.425 GB. Platform: Linux.\n",
      "O^O/ \\_/ \\    Torch: 2.5.1. CUDA: 8.6. CUDA Toolkit: 12.1. Triton: 3.1.0\n",
      "\\        /    Bfloat16 = TRUE. FA [Xformers = 0.0.28.post3. FA2 = False]\n",
      " \"-____-\"     Free Apache license: http://github.com/unslothai/unsloth\n",
      "Unsloth: Fast downloading is enabled - ignore downloading bars which are red colored!\n"
     ]
    },
    {
     "name": "stderr",
     "output_type": "stream",
     "text": [
      "`rope_scaling`'s original_max_position_embeddings field must be less than max_position_embeddings, got 8192 and max_position_embeddings=8192\n",
      "`rope_scaling`'s original_max_position_embeddings field must be less than max_position_embeddings, got 8192 and max_position_embeddings=8192\n"
     ]
    },
    {
     "data": {
      "application/vnd.jupyter.widget-view+json": {
       "model_id": "569130793c94462b88f6335733e1cb90",
       "version_major": 2,
       "version_minor": 0
      },
      "text/plain": [
       "Downloading shards:   0%|          | 0/30 [00:00<?, ?it/s]"
      ]
     },
     "metadata": {},
     "output_type": "display_data"
    },
    {
     "data": {
      "application/vnd.jupyter.widget-view+json": {
       "model_id": "bdde43ecf55846a98e3021f40d902533",
       "version_major": 2,
       "version_minor": 0
      },
      "text/plain": [
       "Loading checkpoint shards:   0%|          | 0/30 [00:00<?, ?it/s]"
      ]
     },
     "metadata": {},
     "output_type": "display_data"
    },
    {
     "ename": "KeyboardInterrupt",
     "evalue": "",
     "output_type": "error",
     "traceback": [
      "\u001b[0;31m---------------------------------------------------------------------------\u001b[0m",
      "\u001b[0;31mKeyboardInterrupt\u001b[0m                         Traceback (most recent call last)",
      "Cell \u001b[0;32mIn[3], line 1\u001b[0m\n\u001b[0;32m----> 1\u001b[0m model, tokenizer \u001b[38;5;241m=\u001b[39m \u001b[43mFastLanguageModel\u001b[49m\u001b[38;5;241;43m.\u001b[39;49m\u001b[43mfrom_pretrained\u001b[49m\u001b[43m(\u001b[49m\n\u001b[1;32m      2\u001b[0m \u001b[43m    \u001b[49m\u001b[43mmodel_name\u001b[49m\u001b[43m \u001b[49m\u001b[38;5;241;43m=\u001b[39;49m\u001b[43m \u001b[49m\u001b[43mmodel_name\u001b[49m\u001b[43m,\u001b[49m\n\u001b[1;32m      3\u001b[0m \u001b[43m    \u001b[49m\u001b[43mmax_seq_length\u001b[49m\u001b[43m \u001b[49m\u001b[38;5;241;43m=\u001b[39;49m\u001b[43m \u001b[49m\u001b[43mmax_seq_length\u001b[49m\u001b[43m,\u001b[49m\n\u001b[1;32m      4\u001b[0m \u001b[43m    \u001b[49m\u001b[43mdtype\u001b[49m\u001b[43m \u001b[49m\u001b[38;5;241;43m=\u001b[39;49m\u001b[43m \u001b[49m\u001b[38;5;28;43;01mNone\u001b[39;49;00m\u001b[43m,\u001b[49m\n\u001b[1;32m      5\u001b[0m \u001b[43m    \u001b[49m\u001b[43mload_in_4bit\u001b[49m\u001b[43m \u001b[49m\u001b[38;5;241;43m=\u001b[39;49m\u001b[43m \u001b[49m\u001b[38;5;28;43;01mTrue\u001b[39;49;00m\u001b[43m,\u001b[49m\n\u001b[1;32m      6\u001b[0m \u001b[43m)\u001b[49m\n\u001b[1;32m      7\u001b[0m tokenizer \u001b[38;5;241m=\u001b[39m AutoTokenizer\u001b[38;5;241m.\u001b[39mfrom_pretrained(model_name,attn_implementation\u001b[38;5;241m=\u001b[39m\u001b[38;5;124m\"\u001b[39m\u001b[38;5;124meager\u001b[39m\u001b[38;5;124m\"\u001b[39m, add_eos_token\u001b[38;5;241m=\u001b[39m\u001b[38;5;28;01mTrue\u001b[39;00m,)\n\u001b[1;32m      8\u001b[0m \u001b[38;5;66;03m# パディングトークンが設定されていない場合、EOSトークンを設定\u001b[39;00m\n",
      "File \u001b[0;32m~/anaconda3/envs/unsloth/lib/python3.10/site-packages/unsloth/models/loader.py:252\u001b[0m, in \u001b[0;36mFastLanguageModel.from_pretrained\u001b[0;34m(model_name, max_seq_length, dtype, load_in_4bit, token, device_map, rope_scaling, fix_tokenizer, trust_remote_code, use_gradient_checkpointing, resize_model_vocab, revision, *args, **kwargs)\u001b[0m\n\u001b[1;32m    249\u001b[0m     tokenizer_name \u001b[38;5;241m=\u001b[39m \u001b[38;5;28;01mNone\u001b[39;00m\n\u001b[1;32m    250\u001b[0m \u001b[38;5;28;01mpass\u001b[39;00m\n\u001b[0;32m--> 252\u001b[0m model, tokenizer \u001b[38;5;241m=\u001b[39m \u001b[43mdispatch_model\u001b[49m\u001b[38;5;241;43m.\u001b[39;49m\u001b[43mfrom_pretrained\u001b[49m\u001b[43m(\u001b[49m\n\u001b[1;32m    253\u001b[0m \u001b[43m    \u001b[49m\u001b[43mmodel_name\u001b[49m\u001b[43m        \u001b[49m\u001b[38;5;241;43m=\u001b[39;49m\u001b[43m \u001b[49m\u001b[43mmodel_name\u001b[49m\u001b[43m,\u001b[49m\n\u001b[1;32m    254\u001b[0m \u001b[43m    \u001b[49m\u001b[43mmax_seq_length\u001b[49m\u001b[43m    \u001b[49m\u001b[38;5;241;43m=\u001b[39;49m\u001b[43m \u001b[49m\u001b[43mmax_seq_length\u001b[49m\u001b[43m,\u001b[49m\n\u001b[1;32m    255\u001b[0m \u001b[43m    \u001b[49m\u001b[43mdtype\u001b[49m\u001b[43m             \u001b[49m\u001b[38;5;241;43m=\u001b[39;49m\u001b[43m \u001b[49m\u001b[43m_get_dtype\u001b[49m\u001b[43m(\u001b[49m\u001b[43mdtype\u001b[49m\u001b[43m)\u001b[49m\u001b[43m,\u001b[49m\n\u001b[1;32m    256\u001b[0m \u001b[43m    \u001b[49m\u001b[43mload_in_4bit\u001b[49m\u001b[43m      \u001b[49m\u001b[38;5;241;43m=\u001b[39;49m\u001b[43m \u001b[49m\u001b[43mload_in_4bit\u001b[49m\u001b[43m,\u001b[49m\n\u001b[1;32m    257\u001b[0m \u001b[43m    \u001b[49m\u001b[43mtoken\u001b[49m\u001b[43m             \u001b[49m\u001b[38;5;241;43m=\u001b[39;49m\u001b[43m \u001b[49m\u001b[43mtoken\u001b[49m\u001b[43m,\u001b[49m\n\u001b[1;32m    258\u001b[0m \u001b[43m    \u001b[49m\u001b[43mdevice_map\u001b[49m\u001b[43m        \u001b[49m\u001b[38;5;241;43m=\u001b[39;49m\u001b[43m \u001b[49m\u001b[43mdevice_map\u001b[49m\u001b[43m,\u001b[49m\n\u001b[1;32m    259\u001b[0m \u001b[43m    \u001b[49m\u001b[43mrope_scaling\u001b[49m\u001b[43m      \u001b[49m\u001b[38;5;241;43m=\u001b[39;49m\u001b[43m \u001b[49m\u001b[43mrope_scaling\u001b[49m\u001b[43m,\u001b[49m\n\u001b[1;32m    260\u001b[0m \u001b[43m    \u001b[49m\u001b[43mfix_tokenizer\u001b[49m\u001b[43m     \u001b[49m\u001b[38;5;241;43m=\u001b[39;49m\u001b[43m \u001b[49m\u001b[43mfix_tokenizer\u001b[49m\u001b[43m,\u001b[49m\n\u001b[1;32m    261\u001b[0m \u001b[43m    \u001b[49m\u001b[43mmodel_patcher\u001b[49m\u001b[43m     \u001b[49m\u001b[38;5;241;43m=\u001b[39;49m\u001b[43m \u001b[49m\u001b[43mdispatch_model\u001b[49m\u001b[43m,\u001b[49m\n\u001b[1;32m    262\u001b[0m \u001b[43m    \u001b[49m\u001b[43mtokenizer_name\u001b[49m\u001b[43m    \u001b[49m\u001b[38;5;241;43m=\u001b[39;49m\u001b[43m \u001b[49m\u001b[43mtokenizer_name\u001b[49m\u001b[43m,\u001b[49m\n\u001b[1;32m    263\u001b[0m \u001b[43m    \u001b[49m\u001b[43mtrust_remote_code\u001b[49m\u001b[43m \u001b[49m\u001b[38;5;241;43m=\u001b[39;49m\u001b[43m \u001b[49m\u001b[43mtrust_remote_code\u001b[49m\u001b[43m,\u001b[49m\n\u001b[1;32m    264\u001b[0m \u001b[43m    \u001b[49m\u001b[43mrevision\u001b[49m\u001b[43m          \u001b[49m\u001b[38;5;241;43m=\u001b[39;49m\u001b[43m \u001b[49m\u001b[43mrevision\u001b[49m\u001b[43m \u001b[49m\u001b[38;5;28;43;01mif\u001b[39;49;00m\u001b[43m \u001b[49m\u001b[38;5;129;43;01mnot\u001b[39;49;00m\u001b[43m \u001b[49m\u001b[43mis_peft\u001b[49m\u001b[43m \u001b[49m\u001b[38;5;28;43;01melse\u001b[39;49;00m\u001b[43m \u001b[49m\u001b[38;5;28;43;01mNone\u001b[39;49;00m\u001b[43m,\u001b[49m\n\u001b[1;32m    265\u001b[0m \u001b[43m    \u001b[49m\u001b[38;5;241;43m*\u001b[39;49m\u001b[43margs\u001b[49m\u001b[43m,\u001b[49m\u001b[43m \u001b[49m\u001b[38;5;241;43m*\u001b[39;49m\u001b[38;5;241;43m*\u001b[39;49m\u001b[43mkwargs\u001b[49m\u001b[43m,\u001b[49m\n\u001b[1;32m    266\u001b[0m \u001b[43m\u001b[49m\u001b[43m)\u001b[49m\n\u001b[1;32m    268\u001b[0m \u001b[38;5;28;01mif\u001b[39;00m resize_model_vocab \u001b[38;5;129;01mis\u001b[39;00m \u001b[38;5;129;01mnot\u001b[39;00m \u001b[38;5;28;01mNone\u001b[39;00m:\n\u001b[1;32m    269\u001b[0m     model\u001b[38;5;241m.\u001b[39mresize_token_embeddings(resize_model_vocab)\n",
      "File \u001b[0;32m~/anaconda3/envs/unsloth/lib/python3.10/site-packages/unsloth/models/llama.py:1642\u001b[0m, in \u001b[0;36mFastLlamaModel.from_pretrained\u001b[0;34m(model_name, max_seq_length, dtype, load_in_4bit, token, device_map, rope_scaling, fix_tokenizer, model_patcher, tokenizer_name, trust_remote_code, **kwargs)\u001b[0m\n\u001b[1;32m   1639\u001b[0m \u001b[38;5;66;03m# Cannot be None, since HF now checks for the config\u001b[39;00m\n\u001b[1;32m   1640\u001b[0m \u001b[38;5;28;01mif\u001b[39;00m load_in_4bit: kwargs[\u001b[38;5;124m\"\u001b[39m\u001b[38;5;124mquantization_config\u001b[39m\u001b[38;5;124m\"\u001b[39m] \u001b[38;5;241m=\u001b[39m bnb_config\n\u001b[0;32m-> 1642\u001b[0m model \u001b[38;5;241m=\u001b[39m \u001b[43mAutoModelForCausalLM\u001b[49m\u001b[38;5;241;43m.\u001b[39;49m\u001b[43mfrom_pretrained\u001b[49m\u001b[43m(\u001b[49m\n\u001b[1;32m   1643\u001b[0m \u001b[43m    \u001b[49m\u001b[43mmodel_name\u001b[49m\u001b[43m,\u001b[49m\n\u001b[1;32m   1644\u001b[0m \u001b[43m    \u001b[49m\u001b[43mdevice_map\u001b[49m\u001b[43m              \u001b[49m\u001b[38;5;241;43m=\u001b[39;49m\u001b[43m \u001b[49m\u001b[43mdevice_map\u001b[49m\u001b[43m,\u001b[49m\n\u001b[1;32m   1645\u001b[0m \u001b[43m    \u001b[49m\u001b[43mtorch_dtype\u001b[49m\u001b[43m             \u001b[49m\u001b[38;5;241;43m=\u001b[39;49m\u001b[43m \u001b[49m\u001b[43mdtype\u001b[49m\u001b[43m,\u001b[49m\n\u001b[1;32m   1646\u001b[0m \u001b[43m    \u001b[49m\u001b[38;5;66;43;03m# quantization_config     = bnb_config,\u001b[39;49;00m\n\u001b[1;32m   1647\u001b[0m \u001b[43m    \u001b[49m\u001b[43mtoken\u001b[49m\u001b[43m                   \u001b[49m\u001b[38;5;241;43m=\u001b[39;49m\u001b[43m \u001b[49m\u001b[43mtoken\u001b[49m\u001b[43m,\u001b[49m\n\u001b[1;32m   1648\u001b[0m \u001b[43m    \u001b[49m\u001b[43mmax_position_embeddings\u001b[49m\u001b[43m \u001b[49m\u001b[38;5;241;43m=\u001b[39;49m\u001b[43m \u001b[49m\u001b[43mmax_position_embeddings\u001b[49m\u001b[43m,\u001b[49m\n\u001b[1;32m   1649\u001b[0m \u001b[43m    \u001b[49m\u001b[43mtrust_remote_code\u001b[49m\u001b[43m       \u001b[49m\u001b[38;5;241;43m=\u001b[39;49m\u001b[43m \u001b[49m\u001b[43mtrust_remote_code\u001b[49m\u001b[43m,\u001b[49m\n\u001b[1;32m   1650\u001b[0m \u001b[43m    \u001b[49m\u001b[43mattn_implementation\u001b[49m\u001b[43m     \u001b[49m\u001b[38;5;241;43m=\u001b[39;49m\u001b[43m \u001b[49m\u001b[38;5;124;43m\"\u001b[39;49m\u001b[38;5;124;43meager\u001b[39;49m\u001b[38;5;124;43m\"\u001b[39;49m\u001b[43m,\u001b[49m\n\u001b[1;32m   1651\u001b[0m \u001b[43m    \u001b[49m\u001b[38;5;241;43m*\u001b[39;49m\u001b[38;5;241;43m*\u001b[39;49m\u001b[43mkwargs\u001b[49m\u001b[43m,\u001b[49m\n\u001b[1;32m   1652\u001b[0m \u001b[43m\u001b[49m\u001b[43m)\u001b[49m\n\u001b[1;32m   1653\u001b[0m \u001b[38;5;66;03m# Return old flag\u001b[39;00m\n\u001b[1;32m   1654\u001b[0m os\u001b[38;5;241m.\u001b[39menviron[\u001b[38;5;124m\"\u001b[39m\u001b[38;5;124mHF_HUB_ENABLE_HF_TRANSFER\u001b[39m\u001b[38;5;124m\"\u001b[39m] \u001b[38;5;241m=\u001b[39m old_hf_transfer\n",
      "File \u001b[0;32m~/anaconda3/envs/unsloth/lib/python3.10/site-packages/transformers/models/auto/auto_factory.py:564\u001b[0m, in \u001b[0;36m_BaseAutoModelClass.from_pretrained\u001b[0;34m(cls, pretrained_model_name_or_path, *model_args, **kwargs)\u001b[0m\n\u001b[1;32m    562\u001b[0m \u001b[38;5;28;01melif\u001b[39;00m \u001b[38;5;28mtype\u001b[39m(config) \u001b[38;5;129;01min\u001b[39;00m \u001b[38;5;28mcls\u001b[39m\u001b[38;5;241m.\u001b[39m_model_mapping\u001b[38;5;241m.\u001b[39mkeys():\n\u001b[1;32m    563\u001b[0m     model_class \u001b[38;5;241m=\u001b[39m _get_model_class(config, \u001b[38;5;28mcls\u001b[39m\u001b[38;5;241m.\u001b[39m_model_mapping)\n\u001b[0;32m--> 564\u001b[0m     \u001b[38;5;28;01mreturn\u001b[39;00m \u001b[43mmodel_class\u001b[49m\u001b[38;5;241;43m.\u001b[39;49m\u001b[43mfrom_pretrained\u001b[49m\u001b[43m(\u001b[49m\n\u001b[1;32m    565\u001b[0m \u001b[43m        \u001b[49m\u001b[43mpretrained_model_name_or_path\u001b[49m\u001b[43m,\u001b[49m\u001b[43m \u001b[49m\u001b[38;5;241;43m*\u001b[39;49m\u001b[43mmodel_args\u001b[49m\u001b[43m,\u001b[49m\u001b[43m \u001b[49m\u001b[43mconfig\u001b[49m\u001b[38;5;241;43m=\u001b[39;49m\u001b[43mconfig\u001b[49m\u001b[43m,\u001b[49m\u001b[43m \u001b[49m\u001b[38;5;241;43m*\u001b[39;49m\u001b[38;5;241;43m*\u001b[39;49m\u001b[43mhub_kwargs\u001b[49m\u001b[43m,\u001b[49m\u001b[43m \u001b[49m\u001b[38;5;241;43m*\u001b[39;49m\u001b[38;5;241;43m*\u001b[39;49m\u001b[43mkwargs\u001b[49m\n\u001b[1;32m    566\u001b[0m \u001b[43m    \u001b[49m\u001b[43m)\u001b[49m\n\u001b[1;32m    567\u001b[0m \u001b[38;5;28;01mraise\u001b[39;00m \u001b[38;5;167;01mValueError\u001b[39;00m(\n\u001b[1;32m    568\u001b[0m     \u001b[38;5;124mf\u001b[39m\u001b[38;5;124m\"\u001b[39m\u001b[38;5;124mUnrecognized configuration class \u001b[39m\u001b[38;5;132;01m{\u001b[39;00mconfig\u001b[38;5;241m.\u001b[39m\u001b[38;5;18m__class__\u001b[39m\u001b[38;5;132;01m}\u001b[39;00m\u001b[38;5;124m for this kind of AutoModel: \u001b[39m\u001b[38;5;132;01m{\u001b[39;00m\u001b[38;5;28mcls\u001b[39m\u001b[38;5;241m.\u001b[39m\u001b[38;5;18m__name__\u001b[39m\u001b[38;5;132;01m}\u001b[39;00m\u001b[38;5;124m.\u001b[39m\u001b[38;5;130;01m\\n\u001b[39;00m\u001b[38;5;124m\"\u001b[39m\n\u001b[1;32m    569\u001b[0m     \u001b[38;5;124mf\u001b[39m\u001b[38;5;124m\"\u001b[39m\u001b[38;5;124mModel type should be one of \u001b[39m\u001b[38;5;132;01m{\u001b[39;00m\u001b[38;5;124m'\u001b[39m\u001b[38;5;124m, \u001b[39m\u001b[38;5;124m'\u001b[39m\u001b[38;5;241m.\u001b[39mjoin(c\u001b[38;5;241m.\u001b[39m\u001b[38;5;18m__name__\u001b[39m\u001b[38;5;250m \u001b[39m\u001b[38;5;28;01mfor\u001b[39;00m\u001b[38;5;250m \u001b[39mc\u001b[38;5;250m \u001b[39m\u001b[38;5;129;01min\u001b[39;00m\u001b[38;5;250m \u001b[39m\u001b[38;5;28mcls\u001b[39m\u001b[38;5;241m.\u001b[39m_model_mapping\u001b[38;5;241m.\u001b[39mkeys())\u001b[38;5;132;01m}\u001b[39;00m\u001b[38;5;124m.\u001b[39m\u001b[38;5;124m\"\u001b[39m\n\u001b[1;32m    570\u001b[0m )\n",
      "File \u001b[0;32m~/anaconda3/envs/unsloth/lib/python3.10/site-packages/transformers/modeling_utils.py:4225\u001b[0m, in \u001b[0;36mPreTrainedModel.from_pretrained\u001b[0;34m(cls, pretrained_model_name_or_path, config, cache_dir, ignore_mismatched_sizes, force_download, local_files_only, token, revision, use_safetensors, weights_only, *model_args, **kwargs)\u001b[0m\n\u001b[1;32m   4215\u001b[0m     \u001b[38;5;28;01mif\u001b[39;00m dtype_orig \u001b[38;5;129;01mis\u001b[39;00m \u001b[38;5;129;01mnot\u001b[39;00m \u001b[38;5;28;01mNone\u001b[39;00m:\n\u001b[1;32m   4216\u001b[0m         torch\u001b[38;5;241m.\u001b[39mset_default_dtype(dtype_orig)\n\u001b[1;32m   4218\u001b[0m     (\n\u001b[1;32m   4219\u001b[0m         model,\n\u001b[1;32m   4220\u001b[0m         missing_keys,\n\u001b[1;32m   4221\u001b[0m         unexpected_keys,\n\u001b[1;32m   4222\u001b[0m         mismatched_keys,\n\u001b[1;32m   4223\u001b[0m         offload_index,\n\u001b[1;32m   4224\u001b[0m         error_msgs,\n\u001b[0;32m-> 4225\u001b[0m     ) \u001b[38;5;241m=\u001b[39m \u001b[38;5;28;43mcls\u001b[39;49m\u001b[38;5;241;43m.\u001b[39;49m\u001b[43m_load_pretrained_model\u001b[49m\u001b[43m(\u001b[49m\n\u001b[1;32m   4226\u001b[0m \u001b[43m        \u001b[49m\u001b[43mmodel\u001b[49m\u001b[43m,\u001b[49m\n\u001b[1;32m   4227\u001b[0m \u001b[43m        \u001b[49m\u001b[43mstate_dict\u001b[49m\u001b[43m,\u001b[49m\n\u001b[1;32m   4228\u001b[0m \u001b[43m        \u001b[49m\u001b[43mloaded_state_dict_keys\u001b[49m\u001b[43m,\u001b[49m\u001b[43m  \u001b[49m\u001b[38;5;66;43;03m# XXX: rename?\u001b[39;49;00m\n\u001b[1;32m   4229\u001b[0m \u001b[43m        \u001b[49m\u001b[43mresolved_archive_file\u001b[49m\u001b[43m,\u001b[49m\n\u001b[1;32m   4230\u001b[0m \u001b[43m        \u001b[49m\u001b[43mpretrained_model_name_or_path\u001b[49m\u001b[43m,\u001b[49m\n\u001b[1;32m   4231\u001b[0m \u001b[43m        \u001b[49m\u001b[43mignore_mismatched_sizes\u001b[49m\u001b[38;5;241;43m=\u001b[39;49m\u001b[43mignore_mismatched_sizes\u001b[49m\u001b[43m,\u001b[49m\n\u001b[1;32m   4232\u001b[0m \u001b[43m        \u001b[49m\u001b[43msharded_metadata\u001b[49m\u001b[38;5;241;43m=\u001b[39;49m\u001b[43msharded_metadata\u001b[49m\u001b[43m,\u001b[49m\n\u001b[1;32m   4233\u001b[0m \u001b[43m        \u001b[49m\u001b[43m_fast_init\u001b[49m\u001b[38;5;241;43m=\u001b[39;49m\u001b[43m_fast_init\u001b[49m\u001b[43m,\u001b[49m\n\u001b[1;32m   4234\u001b[0m \u001b[43m        \u001b[49m\u001b[43mlow_cpu_mem_usage\u001b[49m\u001b[38;5;241;43m=\u001b[39;49m\u001b[43mlow_cpu_mem_usage\u001b[49m\u001b[43m,\u001b[49m\n\u001b[1;32m   4235\u001b[0m \u001b[43m        \u001b[49m\u001b[43mdevice_map\u001b[49m\u001b[38;5;241;43m=\u001b[39;49m\u001b[43mdevice_map\u001b[49m\u001b[43m,\u001b[49m\n\u001b[1;32m   4236\u001b[0m \u001b[43m        \u001b[49m\u001b[43moffload_folder\u001b[49m\u001b[38;5;241;43m=\u001b[39;49m\u001b[43moffload_folder\u001b[49m\u001b[43m,\u001b[49m\n\u001b[1;32m   4237\u001b[0m \u001b[43m        \u001b[49m\u001b[43moffload_state_dict\u001b[49m\u001b[38;5;241;43m=\u001b[39;49m\u001b[43moffload_state_dict\u001b[49m\u001b[43m,\u001b[49m\n\u001b[1;32m   4238\u001b[0m \u001b[43m        \u001b[49m\u001b[43mdtype\u001b[49m\u001b[38;5;241;43m=\u001b[39;49m\u001b[43mtorch_dtype\u001b[49m\u001b[43m,\u001b[49m\n\u001b[1;32m   4239\u001b[0m \u001b[43m        \u001b[49m\u001b[43mhf_quantizer\u001b[49m\u001b[38;5;241;43m=\u001b[39;49m\u001b[43mhf_quantizer\u001b[49m\u001b[43m,\u001b[49m\n\u001b[1;32m   4240\u001b[0m \u001b[43m        \u001b[49m\u001b[43mkeep_in_fp32_modules\u001b[49m\u001b[38;5;241;43m=\u001b[39;49m\u001b[43mkeep_in_fp32_modules\u001b[49m\u001b[43m,\u001b[49m\n\u001b[1;32m   4241\u001b[0m \u001b[43m        \u001b[49m\u001b[43mgguf_path\u001b[49m\u001b[38;5;241;43m=\u001b[39;49m\u001b[43mgguf_path\u001b[49m\u001b[43m,\u001b[49m\n\u001b[1;32m   4242\u001b[0m \u001b[43m        \u001b[49m\u001b[43mweights_only\u001b[49m\u001b[38;5;241;43m=\u001b[39;49m\u001b[43mweights_only\u001b[49m\u001b[43m,\u001b[49m\n\u001b[1;32m   4243\u001b[0m \u001b[43m    \u001b[49m\u001b[43m)\u001b[49m\n\u001b[1;32m   4245\u001b[0m \u001b[38;5;66;03m# make sure token embedding weights are still tied if needed\u001b[39;00m\n\u001b[1;32m   4246\u001b[0m model\u001b[38;5;241m.\u001b[39mtie_weights()\n",
      "File \u001b[0;32m~/anaconda3/envs/unsloth/lib/python3.10/site-packages/transformers/modeling_utils.py:4728\u001b[0m, in \u001b[0;36mPreTrainedModel._load_pretrained_model\u001b[0;34m(cls, model, state_dict, loaded_keys, resolved_archive_file, pretrained_model_name_or_path, ignore_mismatched_sizes, sharded_metadata, _fast_init, low_cpu_mem_usage, device_map, offload_folder, offload_state_dict, dtype, hf_quantizer, keep_in_fp32_modules, gguf_path, weights_only)\u001b[0m\n\u001b[1;32m   4724\u001b[0m                 set_module_tensor_to_device(\n\u001b[1;32m   4725\u001b[0m                     model_to_load, key, \u001b[38;5;124m\"\u001b[39m\u001b[38;5;124mcpu\u001b[39m\u001b[38;5;124m\"\u001b[39m, torch\u001b[38;5;241m.\u001b[39mempty(\u001b[38;5;241m*\u001b[39mparam\u001b[38;5;241m.\u001b[39msize(), dtype\u001b[38;5;241m=\u001b[39mdtype)\n\u001b[1;32m   4726\u001b[0m                 )\n\u001b[1;32m   4727\u001b[0m     \u001b[38;5;28;01melse\u001b[39;00m:\n\u001b[0;32m-> 4728\u001b[0m         new_error_msgs, offload_index, state_dict_index \u001b[38;5;241m=\u001b[39m \u001b[43m_load_state_dict_into_meta_model\u001b[49m\u001b[43m(\u001b[49m\n\u001b[1;32m   4729\u001b[0m \u001b[43m            \u001b[49m\u001b[43mmodel_to_load\u001b[49m\u001b[43m,\u001b[49m\n\u001b[1;32m   4730\u001b[0m \u001b[43m            \u001b[49m\u001b[43mstate_dict\u001b[49m\u001b[43m,\u001b[49m\n\u001b[1;32m   4731\u001b[0m \u001b[43m            \u001b[49m\u001b[43mstart_prefix\u001b[49m\u001b[43m,\u001b[49m\n\u001b[1;32m   4732\u001b[0m \u001b[43m            \u001b[49m\u001b[43mexpected_keys\u001b[49m\u001b[43m,\u001b[49m\n\u001b[1;32m   4733\u001b[0m \u001b[43m            \u001b[49m\u001b[43mdevice_map\u001b[49m\u001b[38;5;241;43m=\u001b[39;49m\u001b[43mdevice_map\u001b[49m\u001b[43m,\u001b[49m\n\u001b[1;32m   4734\u001b[0m \u001b[43m            \u001b[49m\u001b[43moffload_folder\u001b[49m\u001b[38;5;241;43m=\u001b[39;49m\u001b[43moffload_folder\u001b[49m\u001b[43m,\u001b[49m\n\u001b[1;32m   4735\u001b[0m \u001b[43m            \u001b[49m\u001b[43moffload_index\u001b[49m\u001b[38;5;241;43m=\u001b[39;49m\u001b[43moffload_index\u001b[49m\u001b[43m,\u001b[49m\n\u001b[1;32m   4736\u001b[0m \u001b[43m            \u001b[49m\u001b[43mstate_dict_folder\u001b[49m\u001b[38;5;241;43m=\u001b[39;49m\u001b[43mstate_dict_folder\u001b[49m\u001b[43m,\u001b[49m\n\u001b[1;32m   4737\u001b[0m \u001b[43m            \u001b[49m\u001b[43mstate_dict_index\u001b[49m\u001b[38;5;241;43m=\u001b[39;49m\u001b[43mstate_dict_index\u001b[49m\u001b[43m,\u001b[49m\n\u001b[1;32m   4738\u001b[0m \u001b[43m            \u001b[49m\u001b[43mdtype\u001b[49m\u001b[38;5;241;43m=\u001b[39;49m\u001b[43mdtype\u001b[49m\u001b[43m,\u001b[49m\n\u001b[1;32m   4739\u001b[0m \u001b[43m            \u001b[49m\u001b[43mhf_quantizer\u001b[49m\u001b[38;5;241;43m=\u001b[39;49m\u001b[43mhf_quantizer\u001b[49m\u001b[43m,\u001b[49m\n\u001b[1;32m   4740\u001b[0m \u001b[43m            \u001b[49m\u001b[43mis_safetensors\u001b[49m\u001b[38;5;241;43m=\u001b[39;49m\u001b[43mis_safetensors\u001b[49m\u001b[43m,\u001b[49m\n\u001b[1;32m   4741\u001b[0m \u001b[43m            \u001b[49m\u001b[43mkeep_in_fp32_modules\u001b[49m\u001b[38;5;241;43m=\u001b[39;49m\u001b[43mkeep_in_fp32_modules\u001b[49m\u001b[43m,\u001b[49m\n\u001b[1;32m   4742\u001b[0m \u001b[43m            \u001b[49m\u001b[43munexpected_keys\u001b[49m\u001b[38;5;241;43m=\u001b[39;49m\u001b[43munexpected_keys\u001b[49m\u001b[43m,\u001b[49m\n\u001b[1;32m   4743\u001b[0m \u001b[43m        \u001b[49m\u001b[43m)\u001b[49m\n\u001b[1;32m   4744\u001b[0m         error_msgs \u001b[38;5;241m+\u001b[39m\u001b[38;5;241m=\u001b[39m new_error_msgs\n\u001b[1;32m   4745\u001b[0m \u001b[38;5;28;01melse\u001b[39;00m:\n\u001b[1;32m   4746\u001b[0m     \u001b[38;5;66;03m# Sharded checkpoint or whole but low_cpu_mem_usage==True\u001b[39;00m\n",
      "File \u001b[0;32m~/anaconda3/envs/unsloth/lib/python3.10/site-packages/transformers/modeling_utils.py:993\u001b[0m, in \u001b[0;36m_load_state_dict_into_meta_model\u001b[0;34m(model, state_dict, start_prefix, expected_keys, device_map, offload_folder, offload_index, state_dict_folder, state_dict_index, dtype, hf_quantizer, is_safetensors, keep_in_fp32_modules, unexpected_keys, pretrained_model_name_or_path)\u001b[0m\n\u001b[1;32m    990\u001b[0m         param_device \u001b[38;5;241m=\u001b[39m \u001b[38;5;124m\"\u001b[39m\u001b[38;5;124mcpu\u001b[39m\u001b[38;5;124m\"\u001b[39m \u001b[38;5;28;01mif\u001b[39;00m is_local_dist_rank_0() \u001b[38;5;28;01melse\u001b[39;00m \u001b[38;5;124m\"\u001b[39m\u001b[38;5;124mmeta\u001b[39m\u001b[38;5;124m\"\u001b[39m\n\u001b[1;32m    992\u001b[0m     \u001b[38;5;66;03m# For backward compatibility with older versions of `accelerate` and for non-quantized params\u001b[39;00m\n\u001b[0;32m--> 993\u001b[0m     \u001b[43mset_module_tensor_to_device\u001b[49m\u001b[43m(\u001b[49m\u001b[43mmodel\u001b[49m\u001b[43m,\u001b[49m\u001b[43m \u001b[49m\u001b[43mparam_name\u001b[49m\u001b[43m,\u001b[49m\u001b[43m \u001b[49m\u001b[43mparam_device\u001b[49m\u001b[43m,\u001b[49m\u001b[43m \u001b[49m\u001b[38;5;241;43m*\u001b[39;49m\u001b[38;5;241;43m*\u001b[39;49m\u001b[43mset_module_kwargs\u001b[49m\u001b[43m)\u001b[49m\n\u001b[1;32m    994\u001b[0m \u001b[38;5;28;01melse\u001b[39;00m:\n\u001b[1;32m    995\u001b[0m     hf_quantizer\u001b[38;5;241m.\u001b[39mcreate_quantized_param(model, param, param_name, param_device, state_dict, unexpected_keys)\n",
      "File \u001b[0;32m~/anaconda3/envs/unsloth/lib/python3.10/site-packages/accelerate/utils/modeling.py:329\u001b[0m, in \u001b[0;36mset_module_tensor_to_device\u001b[0;34m(module, tensor_name, device, value, dtype, fp16_statistics, tied_params_map)\u001b[0m\n\u001b[1;32m    327\u001b[0m             module\u001b[38;5;241m.\u001b[39m_parameters[tensor_name] \u001b[38;5;241m=\u001b[39m param_cls(new_value, requires_grad\u001b[38;5;241m=\u001b[39mold_value\u001b[38;5;241m.\u001b[39mrequires_grad)\n\u001b[1;32m    328\u001b[0m \u001b[38;5;28;01melif\u001b[39;00m \u001b[38;5;28misinstance\u001b[39m(value, torch\u001b[38;5;241m.\u001b[39mTensor):\n\u001b[0;32m--> 329\u001b[0m     new_value \u001b[38;5;241m=\u001b[39m \u001b[43mvalue\u001b[49m\u001b[38;5;241;43m.\u001b[39;49m\u001b[43mto\u001b[49m\u001b[43m(\u001b[49m\u001b[43mdevice\u001b[49m\u001b[43m)\u001b[49m\n\u001b[1;32m    330\u001b[0m \u001b[38;5;28;01melse\u001b[39;00m:\n\u001b[1;32m    331\u001b[0m     new_value \u001b[38;5;241m=\u001b[39m torch\u001b[38;5;241m.\u001b[39mtensor(value, device\u001b[38;5;241m=\u001b[39mdevice)\n",
      "\u001b[0;31mKeyboardInterrupt\u001b[0m: "
     ]
    }
   ],
   "source": [
    "model, tokenizer = FastLanguageModel.from_pretrained(\n",
    "    model_name = model_name,\n",
    "    max_seq_length = max_seq_length,\n",
    "    dtype = None,\n",
    "    load_in_4bit = True,\n",
    ")\n",
    "tokenizer = AutoTokenizer.from_pretrained(model_name,attn_implementation=\"eager\", add_eos_token=True,)\n",
    "# パディングトークンが設定されていない場合、EOSトークンを設定\n",
    "if tokenizer.pad_token is None:\n",
    "    tokenizer.pad_token = tokenizer.eos_token\n",
    "tokenizer.padding_side = \"right\"\n",
    "## finetune前の確認\n",
    "# モデルの推論モード設定\n",
    "FastLanguageModel.for_inference(model)"
   ]
  },
  {
   "cell_type": "code",
   "execution_count": null,
   "metadata": {},
   "outputs": [
    {
     "name": "stderr",
     "output_type": "stream",
     "text": [
      "  0%|          | 0/54 [00:00<?, ?it/s]The attention mask is not set and cannot be inferred from input because pad token is same as eos token. As a consequence, you may observe unexpected behavior. Please pass your input's `attention_mask` to obtain reliable results.\n",
      "100%|██████████| 54/54 [02:40<00:00,  2.97s/it]"
     ]
    },
    {
     "name": "stdout",
     "output_type": "stream",
     "text": [
      "警告: 出力形式が不正です。修正します: \n",
      "警告: 出力形式が不正です。修正します: \n",
      "警告: 出力形式が不正です。修正します: \n",
      "警告: 出力形式が不正です。修正します: \n",
      "警告: 出力形式が不正です。修正します: \n",
      "警告: 出力形式が不正です。修正します: \n",
      "警告: 出力形式が不正です。修正します: \n",
      "警告: 出力形式が不正です。修正します: \n",
      "警告: 出力形式が不正です。修正します: \n",
      "警告: 出力形式が不正です。修正します: \n",
      "警告: 出力形式が不正です。修正します: \n",
      "警告: 出力形式が不正です。修正します: \n",
      "警告: 出力形式が不正です。修正します: \n",
      "警告: 出力形式が不正です。修正します: \n",
      "警告: 出力形式が不正です。修正します: \n",
      "警告: 出力形式が不正です。修正します: \n",
      "警告: 出力形式が不正です。修正します: \n",
      "警告: 出力形式が不正です。修正します: \n",
      "警告: 出力形式が不正です。修正します: \n",
      "警告: 出力形式が不正です。修正します: \n",
      "警告: 出力形式が不正です。修正します: \n",
      "警告: 出力形式が不正です。修正します: \n",
      "警告: 出力形式が不正です。修正します: \n",
      "警告: 出力形式が不正です。修正します: \n",
      "警告: 出力形式が不正です。修正します: TNM\n",
      "警告: 出力形式が不正です。修正します: \n",
      "警告: 出力形式が不正です。修正します: \n",
      "警告: 出力形式が不正です。修正します: \n",
      "警告: 出力形式が不正です。修正します: \n",
      "警告: 出力形式が不正です。修正します: \n",
      "警告: 出力形式が不正です。修正します: \n",
      "警告: 出力形式が不正です。修正します: \n",
      "警告: 出力形式が不正です。修正します: \n",
      "警告: 出力形式が不正です。修正します: \n",
      "警告: 出力形式が不正です。修正します: \n",
      "警告: 出力形式が不正です。修正します: \n",
      "警告: 出力形式が不正です。修正します: \n",
      "警告: 出力形式が不正です。修正します: TNM\n",
      "警告: 出力形式が不正です。修正します: \n",
      "警告: 出力形式が不正です。修正します: \n",
      "警告: 出力形式が不正です。修正します: TNM\n",
      "警告: 出力形式が不正です。修正します: \n",
      "警告: 出力形式が不正です。修正します: \n",
      "警告: 出力形式が不正です。修正します: \n",
      "警告: 出力形式が不正です。修正します: \n",
      "結果が../model_outputs/submission_Llama3-Preferred-MedSwallow-70B_pretrained.csvに保存されました！\n"
     ]
    },
    {
     "name": "stderr",
     "output_type": "stream",
     "text": [
      "\n"
     ]
    }
   ],
   "source": [
    "\n",
    "# 推論実行\n",
    "inference_results = inference(eval_dataset, model, tokenizer)\n",
    "\n",
    "output_csv = f'../model_outputs/submission_{os.path.basename(model_name)}_pretrained.csv'\n",
    "results = []\n",
    "# 結果を表示\n",
    "for i, result in enumerate(inference_results):\n",
    "\n",
    "    try:\n",
    "        tnm_stage = result['generated_output']\n",
    "        # TNM分類の形式を検証・修正\n",
    "        tnm_stage = validate_and_correct_tnm_output(tnm_stage)\n",
    "\n",
    "        # TNM分類を分割\n",
    "        tnm_parts = tnm_stage.split()\n",
    "        if len(tnm_parts) >= 3:\n",
    "            results.append({\n",
    "                \"id\": result['id'],\n",
    "                \"t\": tnm_parts[0],\n",
    "                \"n\": tnm_parts[1],\n",
    "                \"m\": tnm_parts[2],\n",
    "            })\n",
    "        else:\n",
    "            print(f\"ファイル {result['id']} のTNM分類の出力形式が正しくありません: {tnm_stage}\")\n",
    "    except Exception as e:\n",
    "        print(f\"エラーが発生しました: {result['id']} - {e}\")\n",
    "        continue\n",
    "# DataFrameに変換してCSVファイルに保存\n",
    "results_df = pd.DataFrame(results)\n",
    "#final_df = pd.concat([df, results_df], ignore_index=True)\n",
    "results_df.to_csv(output_csv, index=False)\n",
    "\n",
    "print(f\"結果が{output_csv}に保存されました！\")\n"
   ]
  },
  {
   "cell_type": "code",
   "execution_count": null,
   "metadata": {},
   "outputs": [
    {
     "name": "stderr",
     "output_type": "stream",
     "text": [
      "Unsloth 2024.11.10 patched 80 layers with 80 QKV layers, 80 O layers and 80 MLP layers.\n"
     ]
    },
    {
     "data": {
      "application/vnd.jupyter.widget-view+json": {
       "model_id": "df0ed401e5444d10b491a93005e909b8",
       "version_major": 2,
       "version_minor": 0
      },
      "text/plain": [
       "Map (num_proc=2):   0%|          | 0/108 [00:00<?, ? examples/s]"
      ]
     },
     "metadata": {},
     "output_type": "display_data"
    },
    {
     "name": "stderr",
     "output_type": "stream",
     "text": [
      "max_steps is given, it will override any value given in num_train_epochs\n"
     ]
    },
    {
     "data": {
      "application/vnd.jupyter.widget-view+json": {
       "model_id": "488bf2afadb14f578c9f0782247106a0",
       "version_major": 2,
       "version_minor": 0
      },
      "text/plain": [
       "Map:   0%|          | 0/108 [00:00<?, ? examples/s]"
      ]
     },
     "metadata": {},
     "output_type": "display_data"
    }
   ],
   "source": [
    "from trl import SFTTrainer\n",
    "from transformers import TrainingArguments, DataCollatorForSeq2Seq\n",
    "from unsloth import is_bfloat16_supported\n",
    "from unsloth.chat_templates import train_on_responses_only\n",
    "\n",
    "FastLanguageModel.for_training(model)\n",
    "model = FastLanguageModel.get_peft_model(\n",
    "    model,\n",
    "    r = 16, # Choose any number > 0 ! Suggested 8, 16, 32, 64, 128\n",
    "    target_modules = [\"q_proj\", \"k_proj\", \"v_proj\", \"o_proj\",\n",
    "                      \"gate_proj\", \"up_proj\", \"down_proj\",],\n",
    "    lora_alpha = 16,\n",
    "    lora_dropout = 0, # Supports any, but = 0 is optimized\n",
    "    bias = \"none\",    # Supports any, but = \"none\" is optimized\n",
    "    # [NEW] \"unsloth\" uses 30% less VRAM, fits 2x larger batch sizes!\n",
    "    use_gradient_checkpointing = \"unsloth\", # True or \"unsloth\" for very long context\n",
    "    random_state = 3407,\n",
    "    use_rslora = False,  # We support rank stabilized LoRA\n",
    "    loftq_config = None, # And LoftQ\n",
    ")\n",
    "\n",
    "data_collator = DataCollatorForSeq2Seq(\n",
    "    tokenizer=tokenizer,\n",
    "    label_pad_token_id=-100,\n",
    "    padding=True,  # 動的パディングを有効にする\n",
    ")\n",
    "\n",
    "trainer = SFTTrainer(\n",
    "    model = model,\n",
    "    tokenizer = tokenizer,\n",
    "    train_dataset = train_dataset,\n",
    "    max_seq_length = max_seq_length,\n",
    "    data_collator = data_collator,\n",
    "    dataset_text_field = \"text\",\n",
    "    dataset_num_proc = 2,\n",
    "    packing = False, # Can make training 5x faster for short sequences.\n",
    "    args = TrainingArguments(\n",
    "        per_device_train_batch_size = 2,\n",
    "        gradient_accumulation_steps = 4,\n",
    "        warmup_steps = 5,\n",
    "        # num_train_epochs = 1, # Set this for 1 full training run.\n",
    "        max_steps = 90,\n",
    "        learning_rate = 2e-4,\n",
    "        fp16 = not is_bfloat16_supported(),\n",
    "        bf16 = is_bfloat16_supported(),\n",
    "        logging_steps = 1,\n",
    "        optim = \"adamw_8bit\",\n",
    "        weight_decay = 0.01,\n",
    "        lr_scheduler_type = \"linear\",\n",
    "        seed = 3407,\n",
    "        output_dir = \"../finetuned_model/swallow8b\",\n",
    "        report_to = \"none\", # Use this for WandB etc\n",
    "    ),\n",
    ")\n",
    "\n",
    "trainer = train_on_responses_only(\n",
    "    trainer,\n",
    "    instruction_part=\"<start_of_turn>user\",  # インストラクション部分を指定\n",
    "    response_part=\"<start_of_turn>model\"  # レスポンス部分を指定\n",
    ")\n"
   ]
  },
  {
   "cell_type": "code",
   "execution_count": null,
   "metadata": {},
   "outputs": [
    {
     "name": "stderr",
     "output_type": "stream",
     "text": [
      "==((====))==  Unsloth - 2x faster free finetuning | Num GPUs = 1\n",
      "   \\\\   /|    Num examples = 108 | Num Epochs = 7\n",
      "O^O/ \\_/ \\    Batch size per device = 2 | Gradient Accumulation steps = 4\n",
      "\\        /    Total batch size = 8 | Total steps = 90\n",
      " \"-____-\"     Number of trainable parameters = 207,093,760\n"
     ]
    },
    {
     "data": {
      "application/vnd.jupyter.widget-view+json": {
       "model_id": "ecd95cb45b2244da868280d445f1fbad",
       "version_major": 2,
       "version_minor": 0
      },
      "text/plain": [
       "  0%|          | 0/90 [00:00<?, ?it/s]"
      ]
     },
     "metadata": {},
     "output_type": "display_data"
    },
    {
     "name": "stdout",
     "output_type": "stream",
     "text": [
      "{'loss': 1.0265, 'grad_norm': 1.720004916191101, 'learning_rate': 4e-05, 'epoch': 0.07}\n",
      "{'loss': 0.969, 'grad_norm': 1.7644158601760864, 'learning_rate': 8e-05, 'epoch': 0.15}\n",
      "{'loss': 0.9624, 'grad_norm': 1.6586874723434448, 'learning_rate': 0.00012, 'epoch': 0.22}\n",
      "{'loss': 0.8521, 'grad_norm': 1.9372386932373047, 'learning_rate': 0.00016, 'epoch': 0.3}\n",
      "{'loss': 0.4717, 'grad_norm': 2.079543352127075, 'learning_rate': 0.0002, 'epoch': 0.37}\n",
      "{'loss': 0.2394, 'grad_norm': 0.5387734174728394, 'learning_rate': 0.00019764705882352942, 'epoch': 0.44}\n",
      "{'loss': 0.2622, 'grad_norm': 1.1324212551116943, 'learning_rate': 0.00019529411764705883, 'epoch': 0.52}\n",
      "{'loss': 0.1487, 'grad_norm': 0.4620632827281952, 'learning_rate': 0.00019294117647058825, 'epoch': 0.59}\n",
      "{'loss': 0.2356, 'grad_norm': 1.2362159490585327, 'learning_rate': 0.00019058823529411766, 'epoch': 0.67}\n",
      "{'loss': 0.179, 'grad_norm': 0.6761144995689392, 'learning_rate': 0.00018823529411764707, 'epoch': 0.74}\n",
      "{'loss': 0.1715, 'grad_norm': 0.9848229289054871, 'learning_rate': 0.00018588235294117648, 'epoch': 0.81}\n",
      "{'loss': 0.1102, 'grad_norm': 0.5804834365844727, 'learning_rate': 0.0001835294117647059, 'epoch': 0.89}\n",
      "{'loss': 0.1657, 'grad_norm': 0.7461097240447998, 'learning_rate': 0.0001811764705882353, 'epoch': 0.96}\n",
      "{'loss': 0.1678, 'grad_norm': 1.1842246055603027, 'learning_rate': 0.00017882352941176472, 'epoch': 1.04}\n",
      "{'loss': 0.0736, 'grad_norm': 0.42359957098960876, 'learning_rate': 0.00017647058823529413, 'epoch': 1.11}\n",
      "{'loss': 0.156, 'grad_norm': 2.683136463165283, 'learning_rate': 0.00017411764705882354, 'epoch': 1.19}\n",
      "{'loss': 0.0649, 'grad_norm': 0.49328118562698364, 'learning_rate': 0.00017176470588235293, 'epoch': 1.26}\n",
      "{'loss': 0.1485, 'grad_norm': 1.388166069984436, 'learning_rate': 0.00016941176470588237, 'epoch': 1.33}\n",
      "{'loss': 0.0657, 'grad_norm': 0.6383389830589294, 'learning_rate': 0.00016705882352941178, 'epoch': 1.41}\n",
      "{'loss': 0.0721, 'grad_norm': 0.5791100263595581, 'learning_rate': 0.0001647058823529412, 'epoch': 1.48}\n",
      "{'loss': 0.0327, 'grad_norm': 0.5897601842880249, 'learning_rate': 0.0001623529411764706, 'epoch': 1.56}\n",
      "{'loss': 0.0571, 'grad_norm': 0.6481611728668213, 'learning_rate': 0.00016, 'epoch': 1.63}\n",
      "{'loss': 0.0859, 'grad_norm': 0.9243088960647583, 'learning_rate': 0.00015764705882352943, 'epoch': 1.7}\n",
      "{'loss': 0.0594, 'grad_norm': 0.8576626777648926, 'learning_rate': 0.00015529411764705884, 'epoch': 1.78}\n",
      "{'loss': 0.0508, 'grad_norm': 0.818824827671051, 'learning_rate': 0.00015294117647058822, 'epoch': 1.85}\n",
      "{'loss': 0.1614, 'grad_norm': 1.56020987033844, 'learning_rate': 0.00015058823529411766, 'epoch': 1.93}\n",
      "{'loss': 0.1347, 'grad_norm': 3.6337366104125977, 'learning_rate': 0.00014823529411764707, 'epoch': 2.0}\n",
      "{'loss': 0.0734, 'grad_norm': 0.7587199211120605, 'learning_rate': 0.00014588235294117646, 'epoch': 2.07}\n",
      "{'loss': 0.0282, 'grad_norm': 0.29620903730392456, 'learning_rate': 0.0001435294117647059, 'epoch': 2.15}\n",
      "{'loss': 0.0074, 'grad_norm': 0.15389101207256317, 'learning_rate': 0.0001411764705882353, 'epoch': 2.22}\n",
      "{'loss': 0.0626, 'grad_norm': 0.8001221418380737, 'learning_rate': 0.00013882352941176472, 'epoch': 2.3}\n",
      "{'loss': 0.0665, 'grad_norm': 0.6991122961044312, 'learning_rate': 0.00013647058823529413, 'epoch': 2.37}\n",
      "{'loss': 0.0138, 'grad_norm': 0.183677539229393, 'learning_rate': 0.00013411764705882352, 'epoch': 2.44}\n",
      "{'loss': 0.0253, 'grad_norm': 0.34502100944519043, 'learning_rate': 0.00013176470588235296, 'epoch': 2.52}\n",
      "{'loss': 0.0417, 'grad_norm': 1.0130029916763306, 'learning_rate': 0.00012941176470588237, 'epoch': 2.59}\n",
      "{'loss': 0.0381, 'grad_norm': 0.5432375073432922, 'learning_rate': 0.00012705882352941175, 'epoch': 2.67}\n",
      "{'loss': 0.0759, 'grad_norm': 0.6517080068588257, 'learning_rate': 0.0001247058823529412, 'epoch': 2.74}\n",
      "{'loss': 0.0223, 'grad_norm': 0.256443589925766, 'learning_rate': 0.0001223529411764706, 'epoch': 2.81}\n",
      "{'loss': 0.013, 'grad_norm': 0.2375100702047348, 'learning_rate': 0.00012, 'epoch': 2.89}\n",
      "{'loss': 0.0074, 'grad_norm': 0.30768918991088867, 'learning_rate': 0.00011764705882352942, 'epoch': 2.96}\n",
      "{'loss': 0.1541, 'grad_norm': 0.8268983364105225, 'learning_rate': 0.00011529411764705881, 'epoch': 3.04}\n",
      "{'loss': 0.0306, 'grad_norm': 1.8270924091339111, 'learning_rate': 0.00011294117647058824, 'epoch': 3.11}\n",
      "{'loss': 0.0181, 'grad_norm': 0.3437763750553131, 'learning_rate': 0.00011058823529411766, 'epoch': 3.19}\n",
      "{'loss': 0.0096, 'grad_norm': 0.3115398585796356, 'learning_rate': 0.00010823529411764706, 'epoch': 3.26}\n",
      "{'loss': 0.0406, 'grad_norm': 0.7293097376823425, 'learning_rate': 0.00010588235294117647, 'epoch': 3.33}\n",
      "{'loss': 0.0258, 'grad_norm': 0.46774420142173767, 'learning_rate': 0.0001035294117647059, 'epoch': 3.41}\n",
      "{'loss': 0.0035, 'grad_norm': 0.04558233544230461, 'learning_rate': 0.0001011764705882353, 'epoch': 3.48}\n",
      "{'loss': 0.0163, 'grad_norm': 0.5869988203048706, 'learning_rate': 9.882352941176471e-05, 'epoch': 3.56}\n",
      "{'loss': 0.0457, 'grad_norm': 0.5101605653762817, 'learning_rate': 9.647058823529412e-05, 'epoch': 3.63}\n",
      "{'loss': 0.0164, 'grad_norm': 0.31760820746421814, 'learning_rate': 9.411764705882353e-05, 'epoch': 3.7}\n",
      "{'loss': 0.0185, 'grad_norm': 0.21983370184898376, 'learning_rate': 9.176470588235295e-05, 'epoch': 3.78}\n",
      "{'loss': 0.0409, 'grad_norm': 0.4764260947704315, 'learning_rate': 8.941176470588236e-05, 'epoch': 3.85}\n",
      "{'loss': 0.0261, 'grad_norm': 0.9067381620407104, 'learning_rate': 8.705882352941177e-05, 'epoch': 3.93}\n",
      "{'loss': 0.0596, 'grad_norm': 1.8162373304367065, 'learning_rate': 8.470588235294118e-05, 'epoch': 4.0}\n",
      "{'loss': 0.0541, 'grad_norm': 1.2233855724334717, 'learning_rate': 8.23529411764706e-05, 'epoch': 4.07}\n",
      "{'loss': 0.0079, 'grad_norm': 0.130610391497612, 'learning_rate': 8e-05, 'epoch': 4.15}\n",
      "{'loss': 0.0176, 'grad_norm': 0.577339768409729, 'learning_rate': 7.764705882352942e-05, 'epoch': 4.22}\n",
      "{'loss': 0.0042, 'grad_norm': 0.09482809901237488, 'learning_rate': 7.529411764705883e-05, 'epoch': 4.3}\n",
      "{'loss': 0.0037, 'grad_norm': 0.044069305062294006, 'learning_rate': 7.294117647058823e-05, 'epoch': 4.37}\n",
      "{'loss': 0.0034, 'grad_norm': 0.044954564422369, 'learning_rate': 7.058823529411765e-05, 'epoch': 4.44}\n",
      "{'loss': 0.0018, 'grad_norm': 0.042178213596343994, 'learning_rate': 6.823529411764707e-05, 'epoch': 4.52}\n",
      "{'loss': 0.0014, 'grad_norm': 0.02422790229320526, 'learning_rate': 6.588235294117648e-05, 'epoch': 4.59}\n",
      "{'loss': 0.0035, 'grad_norm': 0.04869033023715019, 'learning_rate': 6.352941176470588e-05, 'epoch': 4.67}\n",
      "{'loss': 0.0302, 'grad_norm': 1.364347219467163, 'learning_rate': 6.11764705882353e-05, 'epoch': 4.74}\n",
      "{'loss': 0.0004, 'grad_norm': 0.008671737276017666, 'learning_rate': 5.882352941176471e-05, 'epoch': 4.81}\n",
      "{'loss': 0.0041, 'grad_norm': 0.1396089643239975, 'learning_rate': 5.647058823529412e-05, 'epoch': 4.89}\n",
      "{'loss': 0.0038, 'grad_norm': 0.1341407597064972, 'learning_rate': 5.411764705882353e-05, 'epoch': 4.96}\n",
      "{'loss': 0.0046, 'grad_norm': 0.07606794685125351, 'learning_rate': 5.176470588235295e-05, 'epoch': 5.04}\n",
      "{'loss': 0.0031, 'grad_norm': 0.06561823934316635, 'learning_rate': 4.9411764705882355e-05, 'epoch': 5.11}\n",
      "{'loss': 0.0029, 'grad_norm': 0.05421169847249985, 'learning_rate': 4.705882352941177e-05, 'epoch': 5.19}\n",
      "{'loss': 0.0004, 'grad_norm': 0.0013876758748665452, 'learning_rate': 4.470588235294118e-05, 'epoch': 5.26}\n",
      "{'loss': 0.001, 'grad_norm': 0.008503403514623642, 'learning_rate': 4.235294117647059e-05, 'epoch': 5.33}\n",
      "{'loss': 0.0004, 'grad_norm': 0.015707697719335556, 'learning_rate': 4e-05, 'epoch': 5.41}\n",
      "{'loss': 0.0098, 'grad_norm': 0.43306729197502136, 'learning_rate': 3.7647058823529415e-05, 'epoch': 5.48}\n",
      "{'loss': 0.0014, 'grad_norm': 0.056520234793424606, 'learning_rate': 3.529411764705883e-05, 'epoch': 5.56}\n",
      "{'loss': 0.0015, 'grad_norm': 0.013037868775427341, 'learning_rate': 3.294117647058824e-05, 'epoch': 5.63}\n",
      "{'loss': 0.0339, 'grad_norm': 0.8753339052200317, 'learning_rate': 3.058823529411765e-05, 'epoch': 5.7}\n",
      "{'loss': 0.0036, 'grad_norm': 0.17717739939689636, 'learning_rate': 2.823529411764706e-05, 'epoch': 5.78}\n",
      "{'loss': -0.0003, 'grad_norm': 0.00891070906072855, 'learning_rate': 2.5882352941176475e-05, 'epoch': 5.85}\n",
      "{'loss': 0.0027, 'grad_norm': 0.08144740015268326, 'learning_rate': 2.3529411764705884e-05, 'epoch': 5.93}\n",
      "{'loss': 0.0032, 'grad_norm': 0.07294444739818573, 'learning_rate': 2.1176470588235296e-05, 'epoch': 6.0}\n",
      "{'loss': 0.0027, 'grad_norm': 0.03472631424665451, 'learning_rate': 1.8823529411764708e-05, 'epoch': 6.07}\n",
      "{'loss': 0.0007, 'grad_norm': 0.0136363934725523, 'learning_rate': 1.647058823529412e-05, 'epoch': 6.15}\n",
      "{'loss': 0.0017, 'grad_norm': 0.009538374841213226, 'learning_rate': 1.411764705882353e-05, 'epoch': 6.22}\n",
      "{'loss': 0.0019, 'grad_norm': 0.035006508231163025, 'learning_rate': 1.1764705882352942e-05, 'epoch': 6.3}\n",
      "{'loss': 0.003, 'grad_norm': 0.036215897649526596, 'learning_rate': 9.411764705882354e-06, 'epoch': 6.37}\n",
      "{'loss': 0.0007, 'grad_norm': 0.05852729454636574, 'learning_rate': 7.058823529411765e-06, 'epoch': 6.44}\n",
      "{'loss': 0.0007, 'grad_norm': 0.006287571042776108, 'learning_rate': 4.705882352941177e-06, 'epoch': 6.52}\n",
      "{'loss': 0.0015, 'grad_norm': 0.007892373017966747, 'learning_rate': 2.3529411764705885e-06, 'epoch': 6.59}\n",
      "{'loss': 0.0017, 'grad_norm': 0.019893648102879524, 'learning_rate': 0.0, 'epoch': 6.67}\n",
      "{'train_runtime': 4183.9287, 'train_samples_per_second': 0.172, 'train_steps_per_second': 0.022, 'train_loss': 0.09250214769272133, 'epoch': 6.67}\n"
     ]
    }
   ],
   "source": [
    "trainer_stats = trainer.train()"
   ]
  },
  {
   "cell_type": "code",
   "execution_count": null,
   "metadata": {},
   "outputs": [
    {
     "name": "stderr",
     "output_type": "stream",
     "text": [
      "100%|██████████| 54/54 [02:47<00:00,  3.11s/it]\n"
     ]
    }
   ],
   "source": [
    "\n",
    "# モデルとトークナイザのロード\n",
    "# model_path = \"../finetuned_model/checkpoint-300\"  # トレーニング済みモデルが保存されているディレクトリ\n",
    "# model, tokenizer = FastLanguageModel.from_pretrained(\n",
    "#     model_name = model_path,\n",
    "#     max_seq_length = max_seq_length,\n",
    "#     dtype = None,\n",
    "#     load_in_4bit = True,\n",
    "# )\n",
    "\n",
    "# モデルをデバイスに移動\n",
    "#model = model.to(\"cuda\" if torch.cuda.is_available() else \"cpu\")\n",
    "FastLanguageModel.for_inference(model)\n",
    "# 推論実行\n",
    "inference_results = inference(eval_dataset, model, tokenizer)"
   ]
  },
  {
   "cell_type": "code",
   "execution_count": null,
   "metadata": {},
   "outputs": [
    {
     "name": "stdout",
     "output_type": "stream",
     "text": [
      "結果が../model_outputs/submission_Llama3-Preferred-MedSwallow-70B_finetuned.csvに保存されました！\n"
     ]
    }
   ],
   "source": [
    "\n",
    "# モデルとトークナイザのロード\n",
    "# model_path = \"../finetuned_model/checkpoint-300\"  # トレーニング済みモデルが保存されているディレクトリ\n",
    "# model, tokenizer = FastLanguageModel.from_pretrained(\n",
    "#     model_name = model_path,\n",
    "#     max_seq_length = max_seq_length,\n",
    "#     dtype = None,\n",
    "#     load_in_4bit = True,\n",
    "# )\n",
    "\n",
    "\n",
    "output_csv = f'../model_outputs/submission_{os.path.basename(model_name)}_finetuned.csv'\n",
    "results = []\n",
    "# 結果を表示\n",
    "for i, result in enumerate(inference_results):\n",
    "    try:\n",
    "        tnm_stage = result['generated_output']\n",
    "        # TNM分類の形式を検証・修正\n",
    "        tnm_stage = validate_and_correct_tnm_output(tnm_stage)\n",
    "\n",
    "        # TNM分類を分割\n",
    "        tnm_parts = tnm_stage.split()\n",
    "        if len(tnm_parts) >= 3:\n",
    "            results.append({\n",
    "                \"id\": result['id'],\n",
    "                \"t\": tnm_parts[0],\n",
    "                \"n\": tnm_parts[1],\n",
    "                \"m\": tnm_parts[2],\n",
    "            })\n",
    "        else:\n",
    "            print(f\"ファイル {result['id']} のTNM分類の出力形式が正しくありません: {tnm_stage}\")\n",
    "    except Exception as e:\n",
    "        print(f\"エラーが発生しました: {result['id']} - {e}\")\n",
    "        continue\n",
    "# DataFrameに変換してCSVファイルに保存\n",
    "results_df = pd.DataFrame(results)\n",
    "#final_df = pd.concat([df, results_df], ignore_index=True)\n",
    "results_df.to_csv(output_csv, index=False)\n",
    "\n",
    "print(f\"結果が{output_csv}に保存されました！\")\n",
    "    \n"
   ]
  },
  {
   "cell_type": "code",
   "execution_count": null,
   "metadata": {},
   "outputs": [],
   "source": []
  },
  {
   "cell_type": "code",
   "execution_count": null,
   "metadata": {},
   "outputs": [],
   "source": []
  }
 ],
 "metadata": {
  "kernelspec": {
   "display_name": "unsloth",
   "language": "python",
   "name": "python3"
  },
  "language_info": {
   "codemirror_mode": {
    "name": "ipython",
    "version": 3
   },
   "file_extension": ".py",
   "mimetype": "text/x-python",
   "name": "python",
   "nbconvert_exporter": "python",
   "pygments_lexer": "ipython3",
   "version": "3.10.15"
  }
 },
 "nbformat": 4,
 "nbformat_minor": 2
}
