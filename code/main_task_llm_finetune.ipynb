{
 "cells": [
  {
   "cell_type": "markdown",
   "metadata": {},
   "source": [
    "## finetuning\n",
    "#### huggingface上にあるLLMをinstallしてきてfinetuning"
   ]
  },
  {
   "cell_type": "code",
   "execution_count": null,
   "metadata": {},
   "outputs": [
    {
     "name": "stderr",
     "output_type": "stream",
     "text": [
      "/home/jubuntu/anaconda3/envs/unsloth/lib/python3.10/site-packages/transformers/utils/hub.py:128: FutureWarning: Using `TRANSFORMERS_CACHE` is deprecated and will be removed in v5 of Transformers. Use `HF_HOME` instead.\n",
      "  warnings.warn(\n",
      "WARNING: BNB_CUDA_VERSION=121 environment variable detected; loading libbitsandbytes_cuda121.so.\n",
      "This can be used to load a bitsandbytes version that is different from the PyTorch CUDA version.\n",
      "If this was unintended set the BNB_CUDA_VERSION variable to an empty string: export BNB_CUDA_VERSION=\n",
      "If you use the manual override make sure the right libcudart.so is in your LD_LIBRARY_PATH\n",
      "For example by adding the following to your .bashrc: export LD_LIBRARY_PATH=$LD_LIBRARY_PATH:<path_to_cuda_dir/lib64\n",
      "\n"
     ]
    },
    {
     "name": "stdout",
     "output_type": "stream",
     "text": [
      "🦥 Unsloth: Will patch your computer to enable 2x faster free finetuning.\n",
      "🦥 Unsloth Zoo will now patch everything to make training faster!\n",
      "Using device: cuda\n"
     ]
    },
    {
     "data": {
      "application/vnd.jupyter.widget-view+json": {
       "model_id": "8d4013512292424ba2a585042e4e593e",
       "version_major": 2,
       "version_minor": 0
      },
      "text/plain": [
       "Map:   0%|          | 0/108 [00:00<?, ? examples/s]"
      ]
     },
     "metadata": {},
     "output_type": "display_data"
    },
    {
     "data": {
      "application/vnd.jupyter.widget-view+json": {
       "model_id": "0e73ac53c6e34715806f16504412a61b",
       "version_major": 2,
       "version_minor": 0
      },
      "text/plain": [
       "Map:   0%|          | 0/54 [00:00<?, ? examples/s]"
      ]
     },
     "metadata": {},
     "output_type": "display_data"
    },
    {
     "name": "stdout",
     "output_type": "stream",
     "text": [
      "{'text': '<start_of_turn>userあなたは優秀な医師です。以下の文章に基づき肺癌に関して常に正しい判断ができます。以下の進行度分類に基づき、与えられた文章からTNM分類を選んでください。\\n\\nT0\\t原発腫瘍を認めない\\nTis\\t上皮内癌（carcinoma in situ）：肺野型の場合は、充実成分径0cmかつ病変全体径≦3cm\\nT1\\t腫瘍の充実成分径≦3cm、肺または臓側胸膜に覆われている、葉気管支より中枢への浸潤が気管支鏡上認められない（すなわち主気管支に及んでいない）\\nT1mi\\u3000微少浸潤性腺癌：部分充実型を示し、充実成分径≦0.5cmかつ病変全体径≦3cm \\nT1a\\t充実成分径≦1cmでかつTis・T1miには相当しない\\nT1b\\t充実成分径>1cmでかつ≦2cm\\nT1c\\t充実成分径>2cmでかつ≦3cm\\nT2\\t充実成分径>3cmでかつ≦5cm、または充実成分径≦3cmでも以下のいずれかであるもの\\n\\u3000\\u3000主気管支に及ぶが気管分岐部には及ばない\\n\\u3000\\u3000臓側胸膜に浸潤\\n\\u3000\\u3000肺門まで連続する部分的または一側全体の無気肺か閉塞性肺炎がある\\nT2a\\t充実成分径>3cmでかつ≦4cm\\nT2b\\t充実成分径>4cmでかつ≦5cm\\nT3\\t充実成分径>5cmでかつ≦7cm、または充実成分径≦5cmでも以下のいずれかであるもの\\n\\u3000\\u3000壁側胸膜、胸壁（superior sulcus tumorを含む）、横隔神経、心膜のいずれかに直接浸潤\\n\\u3000\\u3000同一葉内の不連続な副腫瘍結節\\nT4\\t充実成分径＞7cm、または大きさを問わず横隔膜、縦隔、心臓、大血管、気管、反回神経、食道、椎体、気管分岐部への浸潤、あるいは同側の異なった肺葉内の副腫瘍結節\\n\\n\\nN0\\t所属リンパ節転移なし\\nN1\\tがんのある肺と同じ側の気管支周囲かつ/または同じ側の肺門、肺内のリンパ節への転移がある\\nN2\\tがんのある肺と同じ側の縦隔かつ/または気管分岐部より下のリンパ節への転移がある\\nN3\\tがんのある肺と反対側の縦隔、肺門、同じ側あるいは反対側の前斜角筋（首の筋肉）、鎖骨上窩（鎖骨の上のくぼみ）のリンパ節への転移がある\\n\\n\\nM0\\t遠隔転移なし\\nM1\\t遠隔転移がある\\nM1a\\tがんのある肺と反対側の肺内の結節、胸膜または心膜の結節、悪性胸水（がんのある肺と同じ側、反対側）、悪性心嚢水がみられる\\nM1b\\t肺以外の一臓器への単発遠隔転移がある\\nM1c\\t肺以外の一臓器または多臓器への多発遠隔転移がある\\n\\n\\n\\n以下の文章を読んで、TNM分類を正確に選択し、必ず以下の形式で出力してください。各値は明確な記載がない場合は最も近いと思われるものとしてください（空欄にならないように注意してください）。\\nT<number>[optional_letter] N<number>[optional_letter] M<number>[optional_letter]\\n\\n 左肺上葉に長径 12cm の腫瘤を認めます。弓部大動脈や肺動脈浸潤が疑われます。\\nT4 と考えます。\\n左肺門や縦隔リンパ節#6 の腫大が見られます。転移が疑われます。N2 と考えます。\\n胸水は認めません。\\n左第 3 肋骨は腫瘤による骨破壊が見られます。他撮像範囲の骨に遠隔転移を疑う所見は指摘できません。\\n撮像範囲の腹部に有意所見は指摘できません。 <end_of_turn><start_of_turn>model T4 N2 M0<end_of_turn>'}\n"
     ]
    }
   ],
   "source": [
    "## データセットの準備\n",
    "import os\n",
    "import json\n",
    "import torch\n",
    "from transformers import AutoTokenizer, AutoModelForCausalLM, Trainer, TrainingArguments\n",
    "from datasets import Dataset\n",
    "from accelerate import Accelerator\n",
    "from tqdm import tqdm\n",
    "from utils import validate_and_correct_tnm_output\n",
    "import pandas as pd\n",
    "import bitsandbytes as bnb\n",
    "from unsloth import FastLanguageModel \n",
    "from unsloth import is_bfloat16_supported\n",
    "import torch\n",
    "from trl import SFTTrainer\n",
    "from transformers import TrainingArguments\n",
    "from datasets import load_dataset\n",
    "max_seq_length = 2048 # Supports RoPE Scaling interally, so choose any!\n",
    "# Get LAION dataset\n",
    "# url = \"https://huggingface.co/datasets/laion/OIG/resolve/main/unified_chip2.jsonl\"\n",
    "# dataset = load_dataset(\"json\", data_files = {\"train\" : url}, split = \"train\")\n",
    "\n",
    "\n",
    "# GPUの確認\n",
    "device = torch.device(\"cuda\" if torch.cuda.is_available() else \"cpu\")\n",
    "print(f\"Using device: {device}\")\n",
    "\n",
    "# モデルとトークナイザーのロード\n",
    "model_name = \"google/gemma-2-2b-jpn-it\"#\n",
    "\n",
    "\n",
    "def prepare_dataset(jsonl_file_path):\n",
    "    data = []\n",
    "    with open(jsonl_file_path, 'r', encoding='utf-8') as jsonl_file:\n",
    "        for line in jsonl_file:\n",
    "            entry = json.loads(line.strip())\n",
    "            data.append({\n",
    "                \"prompt\": entry[\"prompt\"],\n",
    "                \"completion\": entry[\"completion\"],\n",
    "                \"id\": entry[\"id\"]\n",
    "            })\n",
    "    return Dataset.from_list(data)\n",
    "\n",
    "# データセットのロード\n",
    "jsonl_file_path_train = \"../finetune_jsons/finetune_dataset_train.jsonl\"\n",
    "dataset_train = prepare_dataset(jsonl_file_path_train)\n",
    "jsonl_file_path_val = \"../finetune_jsons/finetune_dataset_val.jsonl\"\n",
    "dataset_val = prepare_dataset(jsonl_file_path_val)\n",
    "\n",
    "with open('../tnm_prompt.txt', 'r', encoding='utf-8') as file:\n",
    "    tnm_prompt_text = file.read()\n",
    "\n",
    "tnm_prompt = (\n",
    "    \"あなたは優秀な医師です。以下の文章に基づき肺癌に関して常に正しい判断ができます。\"\n",
    "    \"以下の進行度分類に基づき、与えられた文章からTNM分類を選んでください。\\n\\n\"\n",
    "    f\"{tnm_prompt_text}\\n\\n\"\n",
    "    \"以下の文章を読んで、TNM分類を正確に選択し、必ず以下の形式で出力してください。TとN,NとMの間には半角スペースを挿入しそれ以外は何も出力しないでください。\\n\"\n",
    "    \"T<number>[optional_letter] N<number>[optional_letter] M<number>[optional_letter]\\n\\n\"\n",
    ")\n",
    "\n",
    "\n",
    "def preprocess_function(examples):\n",
    "    model_inputs = {}\n",
    "    inputs = [f\"<start_of_turn>user{tnm_prompt} {prompt} <end_of_turn><start_of_turn>model {completion}<end_of_turn>\" for prompt,completion in zip(examples['prompt'], examples['completion'])]\n",
    "    questions = [f\"<start_of_turn>user{tnm_prompt} {prompt} <end_of_turn><start_of_turn>model \" for prompt in examples['prompt']]\n",
    "\n",
    "    ids = [id for id in examples['id']]\n",
    "    # 元のテキストも保持\n",
    "    model_inputs['text'] = inputs\n",
    "    model_inputs[\"id\"] = ids\n",
    "    model_inputs[\"question\"] = questions\n",
    "    \n",
    "    return model_inputs\n",
    "\n",
    "# 元のテキストを保持しつつデータセットを生成\n",
    "train_dataset = dataset_train.map(preprocess_function, batched=True).remove_columns([\"prompt\", \"completion\",\"id\",\"question\"]) \n",
    "eval_dataset = dataset_val.map(preprocess_function, batched=True)#.remove_columns([\"prompt\", \"completion\",\"id\"]) \n",
    "\n",
    "##sample output\n",
    "print(train_dataset[0])\n"
   ]
  },
  {
   "cell_type": "code",
   "execution_count": 3,
   "metadata": {},
   "outputs": [],
   "source": [
    "## inferenceのコード\n",
    "\n",
    "# 推論関数の定義\n",
    "def inference(dataset, model, tokenizer, max_length=2048):\n",
    "\n",
    "    results = []\n",
    "    for data in tqdm(eval_dataset):\n",
    "        # 入力テキストを取得\n",
    "        input_text = data[\"question\"]\n",
    "        \n",
    "        # トークナイズ (モデルが理解できる形式に変換)\n",
    "        inputs = tokenizer(input_text, return_tensors=\"pt\", truncation=True, max_length=2048).to(model.device)\n",
    "        # モデルの推論\n",
    "        with torch.no_grad():\n",
    "            outputs = model.generate(\n",
    "                inputs[\"input_ids\"],\n",
    "                max_new_tokens=10,\n",
    "                early_stopping=True,  # 早期終了を有効化\n",
    "                eos_token_id=tokenizer.eos_token_id,  # EOSトークンを設定\n",
    "                do_sample=False# トークンの確率質量\n",
    "            )\n",
    "        input_length = len(inputs[\"input_ids\"][0])\n",
    "        \n",
    "        # デコード (トークン列をテキストに変換)\n",
    "        output_text = tokenizer.decode(outputs[0][input_length:], skip_special_tokens=True)\n",
    "        \n",
    "        # 結果を保存\n",
    "        results.append({\n",
    "            \"id\": data[\"id\"],\n",
    "            \"input\": input_text,\n",
    "            \"generated_output\": output_text,\n",
    "            \"expected_output\": data[\"completion\"]\n",
    "        })\n",
    "    return results"
   ]
  },
  {
   "cell_type": "code",
   "execution_count": 4,
   "metadata": {},
   "outputs": [
    {
     "name": "stdout",
     "output_type": "stream",
     "text": [
      "Unsloth: If you want to finetune Gemma 2, install flash-attn to make it faster!\n",
      "To install flash-attn, do the below:\n",
      "\n",
      "pip install --no-deps --upgrade \"flash-attn>=2.6.3\"\n",
      "==((====))==  Unsloth 2024.11.10: Fast Gemma2 patching. Transformers:4.46.3.\n",
      "   \\\\   /|    GPU: NVIDIA RTX A6000. Max memory: 47.425 GB. Platform: Linux.\n",
      "O^O/ \\_/ \\    Torch: 2.5.1. CUDA: 8.6. CUDA Toolkit: 12.1. Triton: 3.1.0\n",
      "\\        /    Bfloat16 = TRUE. FA [Xformers = 0.0.28.post3. FA2 = False]\n",
      " \"-____-\"     Free Apache license: http://github.com/unslothai/unsloth\n",
      "Unsloth: Fast downloading is enabled - ignore downloading bars which are red colored!\n"
     ]
    },
    {
     "data": {
      "application/vnd.jupyter.widget-view+json": {
       "model_id": "735f59062476477ca8db5f0661541505",
       "version_major": 2,
       "version_minor": 0
      },
      "text/plain": [
       "Downloading shards:   0%|          | 0/2 [00:00<?, ?it/s]"
      ]
     },
     "metadata": {},
     "output_type": "display_data"
    },
    {
     "data": {
      "application/vnd.jupyter.widget-view+json": {
       "model_id": "a0a721a66bb3407d95659a659760c40e",
       "version_major": 2,
       "version_minor": 0
      },
      "text/plain": [
       "Loading checkpoint shards:   0%|          | 0/2 [00:00<?, ?it/s]"
      ]
     },
     "metadata": {},
     "output_type": "display_data"
    },
    {
     "data": {
      "text/plain": [
       "Gemma2ForCausalLM(\n",
       "  (model): Gemma2Model(\n",
       "    (embed_tokens): Embedding(256000, 2304, padding_idx=0)\n",
       "    (layers): ModuleList(\n",
       "      (0-25): 26 x Gemma2DecoderLayer(\n",
       "        (self_attn): Gemma2Attention(\n",
       "          (q_proj): Linear4bit(in_features=2304, out_features=2048, bias=False)\n",
       "          (k_proj): Linear4bit(in_features=2304, out_features=1024, bias=False)\n",
       "          (v_proj): Linear4bit(in_features=2304, out_features=1024, bias=False)\n",
       "          (o_proj): Linear4bit(in_features=2048, out_features=2304, bias=False)\n",
       "          (rotary_emb): GemmaFixedRotaryEmbedding()\n",
       "        )\n",
       "        (mlp): Gemma2MLP(\n",
       "          (gate_proj): Linear4bit(in_features=2304, out_features=9216, bias=False)\n",
       "          (up_proj): Linear4bit(in_features=2304, out_features=9216, bias=False)\n",
       "          (down_proj): Linear4bit(in_features=9216, out_features=2304, bias=False)\n",
       "          (act_fn): PytorchGELUTanh()\n",
       "        )\n",
       "        (input_layernorm): Gemma2RMSNorm((2304,), eps=1e-06)\n",
       "        (pre_feedforward_layernorm): Gemma2RMSNorm((2304,), eps=1e-06)\n",
       "        (post_feedforward_layernorm): Gemma2RMSNorm((2304,), eps=1e-06)\n",
       "        (post_attention_layernorm): Gemma2RMSNorm((2304,), eps=1e-06)\n",
       "      )\n",
       "    )\n",
       "    (norm): Gemma2RMSNorm((2304,), eps=1e-06)\n",
       "  )\n",
       "  (lm_head): Linear(in_features=2304, out_features=256000, bias=False)\n",
       ")"
      ]
     },
     "execution_count": 4,
     "metadata": {},
     "output_type": "execute_result"
    }
   ],
   "source": [
    "\n",
    "model, tokenizer = FastLanguageModel.from_pretrained(\n",
    "    model_name = model_name,\n",
    "    max_seq_length = max_seq_length,\n",
    "    dtype = None,\n",
    "    load_in_4bit = True,\n",
    ")\n",
    "tokenizer = AutoTokenizer.from_pretrained(model_name,attn_implementation=\"eager\", add_eos_token=True,)\n",
    "# パディングトークンが設定されていない場合、EOSトークンを設定\n",
    "if tokenizer.pad_token is None:\n",
    "    tokenizer.pad_token = tokenizer.eos_token\n",
    "tokenizer.padding_side = \"right\"\n",
    "## finetune前の確認\n",
    "# モデルの推論モード設定\n",
    "FastLanguageModel.for_inference(model)"
   ]
  },
  {
   "cell_type": "code",
   "execution_count": 5,
   "metadata": {},
   "outputs": [
    {
     "name": "stderr",
     "output_type": "stream",
     "text": [
      "  0%|          | 0/54 [00:00<?, ?it/s]The attention mask is not set and cannot be inferred from input because pad token is same as eos token. As a consequence, you may observe unexpected behavior. Please pass your input's `attention_mask` to obtain reliable results.\n",
      "AUTOTUNE bmm(8x931x256, 8x256x931)\n",
      "  triton_bmm_9 0.0860 ms 100.0% ACC_TYPE='tl.float32', ALLOW_TF32=False, BLOCK_K=32, BLOCK_M=64, BLOCK_N=128, B_PROLOGUE_CAST_TYPE=None, EVEN_K=False, GROUP_M=8, num_stages=3, num_warps=4\n",
      "  triton_bmm_10 0.0860 ms 100.0% ACC_TYPE='tl.float32', ALLOW_TF32=False, BLOCK_K=32, BLOCK_M=64, BLOCK_N=128, B_PROLOGUE_CAST_TYPE=None, EVEN_K=False, GROUP_M=8, num_stages=4, num_warps=8\n",
      "  triton_bmm_13 0.0870 ms 98.8% ACC_TYPE='tl.float32', ALLOW_TF32=False, BLOCK_K=32, BLOCK_M=128, BLOCK_N=64, B_PROLOGUE_CAST_TYPE=None, EVEN_K=False, GROUP_M=8, num_stages=3, num_warps=4\n",
      "  triton_bmm_14 0.0881 ms 97.7% ACC_TYPE='tl.float32', ALLOW_TF32=False, BLOCK_K=32, BLOCK_M=128, BLOCK_N=64, B_PROLOGUE_CAST_TYPE=None, EVEN_K=False, GROUP_M=8, num_stages=4, num_warps=8\n",
      "  triton_bmm_6 0.0911 ms 94.4% ACC_TYPE='tl.float32', ALLOW_TF32=False, BLOCK_K=32, BLOCK_M=64, BLOCK_N=64, B_PROLOGUE_CAST_TYPE=None, EVEN_K=False, GROUP_M=8, num_stages=2, num_warps=4\n",
      "  triton_bmm_5 0.0922 ms 93.3% ACC_TYPE='tl.float32', ALLOW_TF32=False, BLOCK_K=16, BLOCK_M=64, BLOCK_N=64, B_PROLOGUE_CAST_TYPE=None, EVEN_K=False, GROUP_M=8, num_stages=2, num_warps=4\n",
      "  triton_bmm_15 0.1014 ms 84.8% ACC_TYPE='tl.float32', ALLOW_TF32=False, BLOCK_K=32, BLOCK_M=128, BLOCK_N=128, B_PROLOGUE_CAST_TYPE=None, EVEN_K=False, GROUP_M=8, num_stages=2, num_warps=8\n",
      "  bmm 0.1167 ms 73.7% \n",
      "  triton_bmm_2 0.1229 ms 70.0% ACC_TYPE='tl.float32', ALLOW_TF32=False, BLOCK_K=32, BLOCK_M=32, BLOCK_N=64, B_PROLOGUE_CAST_TYPE=None, EVEN_K=False, GROUP_M=8, num_stages=5, num_warps=8\n",
      "  triton_bmm_3 0.1280 ms 67.2% ACC_TYPE='tl.float32', ALLOW_TF32=False, BLOCK_K=32, BLOCK_M=64, BLOCK_N=32, B_PROLOGUE_CAST_TYPE=None, EVEN_K=False, GROUP_M=8, num_stages=5, num_warps=8\n",
      "SingleProcess AUTOTUNE benchmarking takes 2.3049 seconds and 0.0037 seconds precompiling\n",
      "AUTOTUNE bmm(8x931x931, 8x931x256)\n",
      "  bmm 0.0655 ms 100.0% \n",
      "  triton_bmm_33 0.0983 ms 66.7% ACC_TYPE='tl.float32', ALLOW_TF32=False, BLOCK_K=32, BLOCK_M=128, BLOCK_N=64, B_PROLOGUE_CAST_TYPE=None, EVEN_K=False, GROUP_M=8, num_stages=4, num_warps=8\n",
      "  triton_bmm_25 0.1024 ms 64.0% ACC_TYPE='tl.float32', ALLOW_TF32=False, BLOCK_K=32, BLOCK_M=64, BLOCK_N=64, B_PROLOGUE_CAST_TYPE=None, EVEN_K=False, GROUP_M=8, num_stages=2, num_warps=4\n",
      "  triton_bmm_29 0.1116 ms 58.7% ACC_TYPE='tl.float32', ALLOW_TF32=False, BLOCK_K=32, BLOCK_M=64, BLOCK_N=128, B_PROLOGUE_CAST_TYPE=None, EVEN_K=False, GROUP_M=8, num_stages=4, num_warps=8\n",
      "  triton_bmm_22 0.1157 ms 56.6% ACC_TYPE='tl.float32', ALLOW_TF32=False, BLOCK_K=32, BLOCK_M=64, BLOCK_N=32, B_PROLOGUE_CAST_TYPE=None, EVEN_K=False, GROUP_M=8, num_stages=5, num_warps=8\n",
      "  triton_bmm_32 0.1167 ms 56.1% ACC_TYPE='tl.float32', ALLOW_TF32=False, BLOCK_K=32, BLOCK_M=128, BLOCK_N=64, B_PROLOGUE_CAST_TYPE=None, EVEN_K=False, GROUP_M=8, num_stages=3, num_warps=4\n",
      "  triton_bmm_24 0.1311 ms 50.0% ACC_TYPE='tl.float32', ALLOW_TF32=False, BLOCK_K=16, BLOCK_M=64, BLOCK_N=64, B_PROLOGUE_CAST_TYPE=None, EVEN_K=False, GROUP_M=8, num_stages=2, num_warps=4\n",
      "  triton_bmm_21 0.1321 ms 49.6% ACC_TYPE='tl.float32', ALLOW_TF32=False, BLOCK_K=32, BLOCK_M=32, BLOCK_N=64, B_PROLOGUE_CAST_TYPE=None, EVEN_K=False, GROUP_M=8, num_stages=5, num_warps=8\n",
      "  triton_bmm_34 0.1372 ms 47.8% ACC_TYPE='tl.float32', ALLOW_TF32=False, BLOCK_K=32, BLOCK_M=128, BLOCK_N=128, B_PROLOGUE_CAST_TYPE=None, EVEN_K=False, GROUP_M=8, num_stages=2, num_warps=8\n",
      "  triton_bmm_19 0.1393 ms 47.1% ACC_TYPE='tl.float32', ALLOW_TF32=False, BLOCK_K=16, BLOCK_M=32, BLOCK_N=32, B_PROLOGUE_CAST_TYPE=None, EVEN_K=False, GROUP_M=8, num_stages=1, num_warps=2\n",
      "SingleProcess AUTOTUNE benchmarking takes 2.3247 seconds and 0.0008 seconds precompiling\n",
      "100%|██████████| 54/54 [00:24<00:00,  2.23it/s]"
     ]
    },
    {
     "name": "stdout",
     "output_type": "stream",
     "text": [
      "警告: 出力形式が不正です。修正します: T4 N2 M2\n",
      "結果が../model_outputs/submission_gemma-2-2b-jpn-it_pretrained.csvに保存されました！\n"
     ]
    },
    {
     "name": "stderr",
     "output_type": "stream",
     "text": [
      "\n"
     ]
    }
   ],
   "source": [
    "\n",
    "# 推論実行\n",
    "inference_results = inference(eval_dataset, model, tokenizer)\n",
    "\n",
    "output_csv = f'../model_outputs/submission_{os.path.basename(model_name)}_pretrained.csv'\n",
    "results = []\n",
    "# 結果を表示\n",
    "for i, result in enumerate(inference_results):\n",
    "\n",
    "    try:\n",
    "        tnm_stage = result['generated_output']\n",
    "        # TNM分類の形式を検証・修正\n",
    "        tnm_stage = validate_and_correct_tnm_output(tnm_stage)\n",
    "\n",
    "        # TNM分類を分割\n",
    "        tnm_parts = tnm_stage.split()\n",
    "        if len(tnm_parts) >= 3:\n",
    "            results.append({\n",
    "                \"id\": result['id'],\n",
    "                \"t\": tnm_parts[0],\n",
    "                \"n\": tnm_parts[1],\n",
    "                \"m\": tnm_parts[2],\n",
    "            })\n",
    "        else:\n",
    "            print(f\"ファイル {result['id']} のTNM分類の出力形式が正しくありません: {tnm_stage}\")\n",
    "    except Exception as e:\n",
    "        print(f\"エラーが発生しました: {result['id']} - {e}\")\n",
    "        continue\n",
    "# DataFrameに変換してCSVファイルに保存\n",
    "results_df = pd.DataFrame(results)\n",
    "#final_df = pd.concat([df, results_df], ignore_index=True)\n",
    "results_df.to_csv(output_csv, index=False)\n",
    "\n",
    "print(f\"結果が{output_csv}に保存されました！\")\n"
   ]
  },
  {
   "cell_type": "code",
   "execution_count": 6,
   "metadata": {},
   "outputs": [
    {
     "name": "stderr",
     "output_type": "stream",
     "text": [
      "Unsloth 2024.11.10 patched 26 layers with 26 QKV layers, 26 O layers and 26 MLP layers.\n"
     ]
    },
    {
     "data": {
      "application/vnd.jupyter.widget-view+json": {
       "model_id": "f1ecfb12f12e4d1aab3f83aa67d590da",
       "version_major": 2,
       "version_minor": 0
      },
      "text/plain": [
       "Map (num_proc=2):   0%|          | 0/108 [00:00<?, ? examples/s]"
      ]
     },
     "metadata": {},
     "output_type": "display_data"
    },
    {
     "name": "stderr",
     "output_type": "stream",
     "text": [
      "max_steps is given, it will override any value given in num_train_epochs\n"
     ]
    },
    {
     "data": {
      "application/vnd.jupyter.widget-view+json": {
       "model_id": "05aff51dd9ea4329acdeed6eae4be398",
       "version_major": 2,
       "version_minor": 0
      },
      "text/plain": [
       "Map:   0%|          | 0/108 [00:00<?, ? examples/s]"
      ]
     },
     "metadata": {},
     "output_type": "display_data"
    }
   ],
   "source": [
    "from trl import SFTTrainer\n",
    "from transformers import TrainingArguments, DataCollatorForSeq2Seq\n",
    "from unsloth import is_bfloat16_supported\n",
    "from unsloth.chat_templates import train_on_responses_only\n",
    "\n",
    "FastLanguageModel.for_training(model)\n",
    "model = FastLanguageModel.get_peft_model(\n",
    "    model,\n",
    "    r = 16, # Choose any number > 0 ! Suggested 8, 16, 32, 64, 128\n",
    "    target_modules = [\"q_proj\", \"k_proj\", \"v_proj\", \"o_proj\",\n",
    "                      \"gate_proj\", \"up_proj\", \"down_proj\",],\n",
    "    lora_alpha = 16,\n",
    "    lora_dropout = 0, # Supports any, but = 0 is optimized\n",
    "    bias = \"none\",    # Supports any, but = \"none\" is optimized\n",
    "    # [NEW] \"unsloth\" uses 30% less VRAM, fits 2x larger batch sizes!\n",
    "    use_gradient_checkpointing = \"unsloth\", # True or \"unsloth\" for very long context\n",
    "    random_state = 3407,\n",
    "    use_rslora = False,  # We support rank stabilized LoRA\n",
    "    loftq_config = None, # And LoftQ\n",
    ")\n",
    "\n",
    "data_collator = DataCollatorForSeq2Seq(\n",
    "    tokenizer=tokenizer,\n",
    "    label_pad_token_id=-100,\n",
    "    padding=True,  # 動的パディングを有効にする\n",
    ")\n",
    "\n",
    "trainer = SFTTrainer(\n",
    "    model = model,\n",
    "    tokenizer = tokenizer,\n",
    "    train_dataset = train_dataset,\n",
    "    max_seq_length = max_seq_length,\n",
    "    data_collator = data_collator,\n",
    "    dataset_text_field = \"text\",\n",
    "    dataset_num_proc = 2,\n",
    "    packing = False, # Can make training 5x faster for short sequences.\n",
    "    args = TrainingArguments(\n",
    "        per_device_train_batch_size = 2,\n",
    "        gradient_accumulation_steps = 4,\n",
    "        warmup_steps = 5,\n",
    "        # num_train_epochs = 1, # Set this for 1 full training run.\n",
    "        max_steps = 20,\n",
    "        learning_rate = 2e-4,\n",
    "        fp16 = not is_bfloat16_supported(),\n",
    "        bf16 = is_bfloat16_supported(),\n",
    "        logging_steps = 1,\n",
    "        optim = \"adamw_8bit\",\n",
    "        weight_decay = 0.01,\n",
    "        lr_scheduler_type = \"linear\",\n",
    "        seed = 3407,\n",
    "        output_dir = \"../finetuned_model/swallow8b\",\n",
    "        report_to = \"none\", # Use this for WandB etc\n",
    "    ),\n",
    ")\n",
    "\n",
    "trainer = train_on_responses_only(\n",
    "    trainer,\n",
    "    instruction_part=\"<start_of_turn>user\",  # インストラクション部分を指定\n",
    "    response_part=\"<start_of_turn>model \"  # レスポンス部分を指定\n",
    ")\n"
   ]
  },
  {
   "cell_type": "code",
   "execution_count": 7,
   "metadata": {},
   "outputs": [
    {
     "name": "stderr",
     "output_type": "stream",
     "text": [
      "==((====))==  Unsloth - 2x faster free finetuning | Num GPUs = 1\n",
      "   \\\\   /|    Num examples = 108 | Num Epochs = 2\n",
      "O^O/ \\_/ \\    Batch size per device = 2 | Gradient Accumulation steps = 4\n",
      "\\        /    Total batch size = 8 | Total steps = 20\n",
      " \"-____-\"     Number of trainable parameters = 20,766,720\n"
     ]
    },
    {
     "data": {
      "application/vnd.jupyter.widget-view+json": {
       "model_id": "b16cdff94a814dd68202aca7a5f02836",
       "version_major": 2,
       "version_minor": 0
      },
      "text/plain": [
       "  0%|          | 0/20 [00:00<?, ?it/s]"
      ]
     },
     "metadata": {},
     "output_type": "display_data"
    },
    {
     "name": "stderr",
     "output_type": "stream",
     "text": [
      "AUTOTUNE bmm(16x910x256, 16x256x910)\n",
      "  bmm 0.1239 ms 100.0% \n",
      "  triton_bmm_52 0.1741 ms 71.2% ACC_TYPE='tl.float32', ALLOW_TF32=False, BLOCK_K=32, BLOCK_M=128, BLOCK_N=64, B_PROLOGUE_CAST_TYPE=None, EVEN_K=False, GROUP_M=8, num_stages=4, num_warps=8\n",
      "  triton_bmm_48 0.1843 ms 67.2% ACC_TYPE='tl.float32', ALLOW_TF32=False, BLOCK_K=32, BLOCK_M=64, BLOCK_N=128, B_PROLOGUE_CAST_TYPE=None, EVEN_K=False, GROUP_M=8, num_stages=4, num_warps=8\n",
      "  triton_bmm_43 0.1864 ms 66.5% ACC_TYPE='tl.float32', ALLOW_TF32=False, BLOCK_K=16, BLOCK_M=64, BLOCK_N=64, B_PROLOGUE_CAST_TYPE=None, EVEN_K=False, GROUP_M=8, num_stages=2, num_warps=4\n",
      "  triton_bmm_44 0.1946 ms 63.7% ACC_TYPE='tl.float32', ALLOW_TF32=False, BLOCK_K=32, BLOCK_M=64, BLOCK_N=64, B_PROLOGUE_CAST_TYPE=None, EVEN_K=False, GROUP_M=8, num_stages=2, num_warps=4\n",
      "  triton_bmm_51 0.2089 ms 59.3% ACC_TYPE='tl.float32', ALLOW_TF32=False, BLOCK_K=32, BLOCK_M=128, BLOCK_N=64, B_PROLOGUE_CAST_TYPE=None, EVEN_K=False, GROUP_M=8, num_stages=3, num_warps=4\n",
      "  triton_bmm_47 0.2263 ms 54.8% ACC_TYPE='tl.float32', ALLOW_TF32=False, BLOCK_K=32, BLOCK_M=64, BLOCK_N=128, B_PROLOGUE_CAST_TYPE=None, EVEN_K=False, GROUP_M=8, num_stages=3, num_warps=4\n",
      "  triton_bmm_41 0.2304 ms 53.8% ACC_TYPE='tl.float32', ALLOW_TF32=False, BLOCK_K=32, BLOCK_M=64, BLOCK_N=32, B_PROLOGUE_CAST_TYPE=None, EVEN_K=False, GROUP_M=8, num_stages=5, num_warps=8\n",
      "  triton_bmm_53 0.2376 ms 52.2% ACC_TYPE='tl.float32', ALLOW_TF32=False, BLOCK_K=32, BLOCK_M=128, BLOCK_N=128, B_PROLOGUE_CAST_TYPE=None, EVEN_K=False, GROUP_M=8, num_stages=2, num_warps=8\n",
      "  triton_bmm_49 0.2468 ms 50.2% ACC_TYPE='tl.float32', ALLOW_TF32=False, BLOCK_K=64, BLOCK_M=64, BLOCK_N=128, B_PROLOGUE_CAST_TYPE=None, EVEN_K=False, GROUP_M=8, num_stages=3, num_warps=4\n",
      "SingleProcess AUTOTUNE benchmarking takes 2.4515 seconds and 0.0007 seconds precompiling\n"
     ]
    },
    {
     "name": "stdout",
     "output_type": "stream",
     "text": [
      "{'loss': 3.9741, 'grad_norm': 26.70244598388672, 'learning_rate': 4e-05, 'epoch': 0.07}\n",
      "{'loss': 5.0738, 'grad_norm': 28.92735481262207, 'learning_rate': 8e-05, 'epoch': 0.15}\n",
      "{'loss': 4.3394, 'grad_norm': 21.71394157409668, 'learning_rate': 0.00012, 'epoch': 0.22}\n",
      "{'loss': 3.156, 'grad_norm': 20.723222732543945, 'learning_rate': 0.00016, 'epoch': 0.3}\n",
      "{'loss': 1.8777, 'grad_norm': 17.202960968017578, 'learning_rate': 0.0002, 'epoch': 0.37}\n",
      "{'loss': 0.9839, 'grad_norm': 16.3507137298584, 'learning_rate': 0.0001866666666666667, 'epoch': 0.44}\n",
      "{'loss': 0.6484, 'grad_norm': 5.361645221710205, 'learning_rate': 0.00017333333333333334, 'epoch': 0.52}\n",
      "{'loss': 0.2959, 'grad_norm': 1.3750429153442383, 'learning_rate': 0.00016, 'epoch': 0.59}\n",
      "{'loss': 0.4853, 'grad_norm': 2.4626662731170654, 'learning_rate': 0.00014666666666666666, 'epoch': 0.67}\n",
      "{'loss': 0.4113, 'grad_norm': 1.3375200033187866, 'learning_rate': 0.00013333333333333334, 'epoch': 0.74}\n",
      "{'loss': 0.2882, 'grad_norm': 1.2973859310150146, 'learning_rate': 0.00012, 'epoch': 0.81}\n",
      "{'loss': 0.2657, 'grad_norm': 1.1571046113967896, 'learning_rate': 0.00010666666666666667, 'epoch': 0.89}\n",
      "{'loss': 0.39, 'grad_norm': 1.374345302581787, 'learning_rate': 9.333333333333334e-05, 'epoch': 0.96}\n",
      "{'loss': 0.6006, 'grad_norm': 2.456637144088745, 'learning_rate': 8e-05, 'epoch': 1.04}\n",
      "{'loss': 0.3155, 'grad_norm': 1.6291018724441528, 'learning_rate': 6.666666666666667e-05, 'epoch': 1.11}\n",
      "{'loss': 0.3899, 'grad_norm': 3.330566644668579, 'learning_rate': 5.333333333333333e-05, 'epoch': 1.19}\n",
      "{'loss': 0.2164, 'grad_norm': 1.6484732627868652, 'learning_rate': 4e-05, 'epoch': 1.26}\n",
      "{'loss': 0.328, 'grad_norm': 2.1073296070098877, 'learning_rate': 2.6666666666666667e-05, 'epoch': 1.33}\n",
      "{'loss': 0.2098, 'grad_norm': 1.242992639541626, 'learning_rate': 1.3333333333333333e-05, 'epoch': 1.41}\n",
      "{'loss': 0.2441, 'grad_norm': 1.538522720336914, 'learning_rate': 0.0, 'epoch': 1.48}\n",
      "{'train_runtime': 53.3991, 'train_samples_per_second': 2.996, 'train_steps_per_second': 0.375, 'train_loss': 1.2246940203011036, 'epoch': 1.48}\n"
     ]
    }
   ],
   "source": [
    "trainer_stats = trainer.train()"
   ]
  },
  {
   "cell_type": "code",
   "execution_count": 8,
   "metadata": {},
   "outputs": [
    {
     "name": "stderr",
     "output_type": "stream",
     "text": [
      "100%|██████████| 54/54 [00:17<00:00,  3.03it/s]\n"
     ]
    }
   ],
   "source": [
    "\n",
    "# モデルとトークナイザのロード\n",
    "# model_path = \"../finetuned_model/checkpoint-300\"  # トレーニング済みモデルが保存されているディレクトリ\n",
    "# model, tokenizer = FastLanguageModel.from_pretrained(\n",
    "#     model_name = model_path,\n",
    "#     max_seq_length = max_seq_length,\n",
    "#     dtype = None,\n",
    "#     load_in_4bit = True,\n",
    "# )\n",
    "\n",
    "# モデルをデバイスに移動\n",
    "#model = model.to(\"cuda\" if torch.cuda.is_available() else \"cpu\")\n",
    "FastLanguageModel.for_inference(model)\n",
    "# 推論実行\n",
    "inference_results = inference(eval_dataset, model, tokenizer)"
   ]
  },
  {
   "cell_type": "code",
   "execution_count": 9,
   "metadata": {},
   "outputs": [
    {
     "name": "stdout",
     "output_type": "stream",
     "text": [
      "結果が../model_outputs/submission_gemma-2-2b-jpn-it_finetuned.csvに保存されました！\n"
     ]
    }
   ],
   "source": [
    "\n",
    "# モデルとトークナイザのロード\n",
    "# model_path = \"../finetuned_model/checkpoint-300\"  # トレーニング済みモデルが保存されているディレクトリ\n",
    "# model, tokenizer = FastLanguageModel.from_pretrained(\n",
    "#     model_name = model_path,\n",
    "#     max_seq_length = max_seq_length,\n",
    "#     dtype = None,\n",
    "#     load_in_4bit = True,\n",
    "# )\n",
    "\n",
    "\n",
    "output_csv = f'../model_outputs/submission_{os.path.basename(model_name)}_finetuned.csv'\n",
    "results = []\n",
    "# 結果を表示\n",
    "for i, result in enumerate(inference_results):\n",
    "    try:\n",
    "        tnm_stage = result['generated_output']\n",
    "        # TNM分類の形式を検証・修正\n",
    "        tnm_stage = validate_and_correct_tnm_output(tnm_stage)\n",
    "\n",
    "        # TNM分類を分割\n",
    "        tnm_parts = tnm_stage.split()\n",
    "        if len(tnm_parts) >= 3:\n",
    "            results.append({\n",
    "                \"id\": result['id'],\n",
    "                \"t\": tnm_parts[0],\n",
    "                \"n\": tnm_parts[1],\n",
    "                \"m\": tnm_parts[2],\n",
    "            })\n",
    "        else:\n",
    "            print(f\"ファイル {result['id']} のTNM分類の出力形式が正しくありません: {tnm_stage}\")\n",
    "    except Exception as e:\n",
    "        print(f\"エラーが発生しました: {result['id']} - {e}\")\n",
    "        continue\n",
    "# DataFrameに変換してCSVファイルに保存\n",
    "results_df = pd.DataFrame(results)\n",
    "#final_df = pd.concat([df, results_df], ignore_index=True)\n",
    "results_df.to_csv(output_csv, index=False)\n",
    "\n",
    "print(f\"結果が{output_csv}に保存されました！\")\n",
    "    \n"
   ]
  },
  {
   "cell_type": "code",
   "execution_count": null,
   "metadata": {},
   "outputs": [],
   "source": []
  }
 ],
 "metadata": {
  "kernelspec": {
   "display_name": "unsloth",
   "language": "python",
   "name": "python3"
  },
  "language_info": {
   "codemirror_mode": {
    "name": "ipython",
    "version": 3
   },
   "file_extension": ".py",
   "mimetype": "text/x-python",
   "name": "python",
   "nbconvert_exporter": "python",
   "pygments_lexer": "ipython3",
   "version": "3.10.15"
  }
 },
 "nbformat": 4,
 "nbformat_minor": 2
}
