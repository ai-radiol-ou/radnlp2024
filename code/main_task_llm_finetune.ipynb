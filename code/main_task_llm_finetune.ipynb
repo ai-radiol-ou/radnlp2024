{
 "cells": [
  {
   "cell_type": "markdown",
   "metadata": {},
   "source": [
    "## finetuning\n",
    "### huggingface上にあるLLMをinstallしてきてfinetuning"
   ]
  },
  {
   "cell_type": "code",
   "execution_count": 2,
   "metadata": {},
   "outputs": [
    {
     "name": "stdout",
     "output_type": "stream",
     "text": [
      "ファインチューニング用データが ../finetune_jsons/finetune_dataset_train.jsonl に保存されました！\n",
      "ファインチューニング用データが ../finetune_jsons/finetune_dataset_val.jsonl に保存されました！\n"
     ]
    }
   ],
   "source": [
    "## training dataの収納\n",
    "\n",
    "import os\n",
    "import pandas as pd\n",
    "import json\n",
    "\n",
    "# ファイルパスの設定\n",
    "\n",
    "for dataset in ['train','val']:\n",
    "    txt_folder_path = f\"../radnlp_2024_train_val_20240731/ja/main_task/{dataset}/\"  # TXTファイルが保存されているフォルダ\n",
    "    csv_file_path = f\"../radnlp_2024_train_val_20240731/ja/main_task/{dataset}/label.csv\"  # ラベルファイル\n",
    "\n",
    "    # ラベルCSVファイルを読み込む\n",
    "    label_data = pd.read_csv(csv_file_path)\n",
    "\n",
    "    # ファインチューニング用データを格納するリスト\n",
    "    finetune_data = []\n",
    "\n",
    "    # フォルダ内のTXTファイルを処理\n",
    "    for txt_file in os.listdir(txt_folder_path):\n",
    "        if txt_file.endswith(\".txt\"):\n",
    "            file_id = txt_file.split(\".\")[0]  # ファイル名からIDを取得\n",
    "            file_path = os.path.join(txt_folder_path, txt_file)\n",
    "\n",
    "            # 対応するラベルを検索\n",
    "            matching_label = label_data[label_data[\"id\"] == int(file_id)]\n",
    "            if not matching_label.empty:\n",
    "                # テキストを読み込む\n",
    "                with open(file_path, 'r', encoding='utf-8') as file:\n",
    "                    content = file.read().strip()\n",
    "\n",
    "                # ラベルを取得\n",
    "                t = matching_label[\"t\"].values[0]\n",
    "                n = matching_label[\"n\"].values[0]\n",
    "                m = matching_label[\"m\"].values[0]\n",
    "\n",
    "                # ファインチューニング用データを追加\n",
    "                finetune_data.append({\n",
    "                    \"prompt\": content,\n",
    "                    \"completion\": f\"{t} {n} {m}\"\n",
    "                })\n",
    "\n",
    "    # ファインチューニング用データをJSONL形式で保存\n",
    "    output_file = f\"../finetune_jsons/finetune_dataset_{dataset}.jsonl\"\n",
    "    with open(output_file, 'w', encoding='utf-8') as jsonl_file:\n",
    "        for entry in finetune_data:\n",
    "            json.dump(entry, jsonl_file, ensure_ascii=False)\n",
    "            jsonl_file.write('\\n')\n",
    "\n",
    "    print(f\"ファインチューニング用データが {output_file} に保存されました！\")\n"
   ]
  },
  {
   "cell_type": "code",
   "execution_count": null,
   "metadata": {},
   "outputs": [
    {
     "name": "stderr",
     "output_type": "stream",
     "text": [
      "/home/jubuntu/anaconda3/lib/python3.8/site-packages/transformers/utils/hub.py:128: FutureWarning: Using `TRANSFORMERS_CACHE` is deprecated and will be removed in v5 of Transformers. Use `HF_HOME` instead.\n",
      "  warnings.warn(\n",
      "The cache for model files in Transformers v4.22.0 has been updated. Migrating your old cache. This is a one-time only operation. You can interrupt this and resume the migration later on by calling `transformers.utils.move_cache()`.\n"
     ]
    },
    {
     "data": {
      "application/vnd.jupyter.widget-view+json": {
       "model_id": "97f0db5ee13345638503b9225ab9f0ba",
       "version_major": 2,
       "version_minor": 0
      },
      "text/plain": [
       "0it [00:00, ?it/s]"
      ]
     },
     "metadata": {},
     "output_type": "display_data"
    },
    {
     "name": "stderr",
     "output_type": "stream",
     "text": [
      "2024-11-27 00:09:58.972643: I tensorflow/core/platform/cpu_feature_guard.cc:182] This TensorFlow binary is optimized to use available CPU instructions in performance-critical operations.\n",
      "To enable the following instructions: AVX2 FMA, in other operations, rebuild TensorFlow with the appropriate compiler flags.\n",
      "2024-11-27 00:09:59.533124: W tensorflow/compiler/tf2tensorrt/utils/py_utils.cc:38] TF-TRT Warning: Could not find TensorRT\n",
      "/home/jubuntu/anaconda3/lib/python3.8/site-packages/scipy/__init__.py:146: UserWarning: A NumPy version >=1.16.5 and <1.23.0 is required for this version of SciPy (detected version 1.23.5\n",
      "  warnings.warn(f\"A NumPy version >={np_minversion} and <{np_maxversion}\"\n"
     ]
    },
    {
     "name": "stdout",
     "output_type": "stream",
     "text": [
      "Using device: cuda\n"
     ]
    },
    {
     "data": {
      "application/vnd.jupyter.widget-view+json": {
       "model_id": "4d30a91446df4549bdaa4d4ed26de37e",
       "version_major": 2,
       "version_minor": 0
      },
      "text/plain": [
       "tokenizer_config.json:   0%|          | 0.00/50.6k [00:00<?, ?B/s]"
      ]
     },
     "metadata": {},
     "output_type": "display_data"
    },
    {
     "data": {
      "application/vnd.jupyter.widget-view+json": {
       "model_id": "3932a637a46b48f9ba2ced33f8644cd3",
       "version_major": 2,
       "version_minor": 0
      },
      "text/plain": [
       "tokenizer.json:   0%|          | 0.00/9.09M [00:00<?, ?B/s]"
      ]
     },
     "metadata": {},
     "output_type": "display_data"
    },
    {
     "data": {
      "application/vnd.jupyter.widget-view+json": {
       "model_id": "e2532d293b694c19a32691e2886becec",
       "version_major": 2,
       "version_minor": 0
      },
      "text/plain": [
       "special_tokens_map.json:   0%|          | 0.00/301 [00:00<?, ?B/s]"
      ]
     },
     "metadata": {},
     "output_type": "display_data"
    },
    {
     "data": {
      "application/vnd.jupyter.widget-view+json": {
       "model_id": "5eaf14e8668647b582753061c1983a53",
       "version_major": 2,
       "version_minor": 0
      },
      "text/plain": [
       "config.json:   0%|          | 0.00/765 [00:00<?, ?B/s]"
      ]
     },
     "metadata": {},
     "output_type": "display_data"
    },
    {
     "data": {
      "application/vnd.jupyter.widget-view+json": {
       "model_id": "4ea303322bc54aacbc2b6e18890a6e76",
       "version_major": 2,
       "version_minor": 0
      },
      "text/plain": [
       "model.safetensors.index.json:   0%|          | 0.00/59.6k [00:00<?, ?B/s]"
      ]
     },
     "metadata": {},
     "output_type": "display_data"
    },
    {
     "data": {
      "application/vnd.jupyter.widget-view+json": {
       "model_id": "be6ec51206564dcc8a9899b156d72c85",
       "version_major": 2,
       "version_minor": 0
      },
      "text/plain": [
       "Downloading shards:   0%|          | 0/30 [00:00<?, ?it/s]"
      ]
     },
     "metadata": {},
     "output_type": "display_data"
    },
    {
     "data": {
      "application/vnd.jupyter.widget-view+json": {
       "model_id": "4031d8b152fd4adda569697c00e4def3",
       "version_major": 2,
       "version_minor": 0
      },
      "text/plain": [
       "model-00001-of-00030.safetensors:   0%|          | 0.00/4.58G [00:00<?, ?B/s]"
      ]
     },
     "metadata": {},
     "output_type": "display_data"
    }
   ],
   "source": [
    "import os\n",
    "import json\n",
    "import torch\n",
    "from transformers import AutoTokenizer, AutoModelForCausalLM, Trainer, TrainingArguments\n",
    "from datasets import load_dataset, Dataset\n",
    "\n",
    "# GPUの確認\n",
    "device = torch.device(\"cuda\" if torch.cuda.is_available() else \"cpu\")\n",
    "print(f\"Using device: {device}\")\n",
    "\n",
    "# モデルとトークナイザーのロード\n",
    "model_name = \"pfnet/Llama3-Preferred-MedSwallow-70B\"  # 他のモデル（例: \"bigscience/bloom-560m\"）に変更可能\n",
    "tokenizer = AutoTokenizer.from_pretrained(model_name)\n",
    "model = AutoModelForCausalLM.from_pretrained(model_name).to(device)\n",
    "\n",
    "# ファインチューニングデータの準備\n",
    "def prepare_dataset(jsonl_file_path):\n",
    "    \"\"\"\n",
    "    JSONL形式のファインチューニングデータをHugging Face Dataset形式に変換。\n",
    "    \"\"\"\n",
    "    data = []\n",
    "    with open(jsonl_file_path, 'r', encoding='utf-8') as jsonl_file:\n",
    "        for line in jsonl_file:\n",
    "            entry = json.loads(line.strip())\n",
    "            data.append({\n",
    "                \"prompt\": entry[\"prompt\"],\n",
    "                \"completion\": entry[\"completion\"]\n",
    "            })\n",
    "\n",
    "    # Hugging Face Datasetに変換\n",
    "    dataset = Dataset.from_list(data)\n",
    "    return dataset\n",
    "\n",
    "# データセットのロード\n",
    "jsonl_file_path_train = \"../finetune_jsons/finetune_dataset_train.jsonl\"\n",
    "dataset_train = prepare_dataset(jsonl_file_path_train)\n",
    "jsonl_file_path_val = \"../finetune_jsons/finetune_dataset_val.jsonl\"\n",
    "dataset_val = prepare_dataset(jsonl_file_path_val)\n",
    "\n",
    "with open('../tnm_prompt.txt', 'r', encoding='utf-8') as file:\n",
    "    tnm_prompt_text = file.read()\n",
    "    \n",
    "    \n",
    "tnm_prompt_text_base = (\n",
    "    \"あなたは優秀な医師です。以下の文章に基づき肺癌に関して常に正しい判断ができます。\"\n",
    "    \"進行度分類は以下のTNM第８版に準拠しています。何も言わずに以下を覚え、与えられた文章からよく考えてTNM分類を選んでください。\\n\\n\"\n",
    ")\n",
    "\n",
    "tnm_prompt = (\n",
    "    f\"{tnm_prompt_text_base}\\n\\n\"\n",
    "    f\"{tnm_prompt_text}\\n\\n\"\n",
    "    \"以下の文章を読んで、TNM分類を正確に選択し、必ず以下の形式で出力してください：\\n\"\n",
    "    \"T<number>[optional_letter] N<number>[optional_letter] M<number>[optional_letter]\\n\\n\"\n",
    ")\n",
    "print(tnm_prompt)\n",
    "# データをトークナイズ\n",
    "def preprocess_function(examples):\n",
    "    \"\"\"\n",
    "    入力データをトークン化し、モデル形式に変換。\n",
    "    \"\"\"\n",
    "    inputs = [f\"{tnm_prompt}{prompt} 出力：\" for prompt in examples['prompt']]\n",
    "    targets = [completion for completion in examples['completion']]\n",
    "    model_inputs = tokenizer(inputs, max_length=512, truncation=True, padding=\"max_length\")\n",
    "    labels = tokenizer(targets, max_length=128, truncation=True, padding=\"max_length\")\n",
    "    model_inputs[\"labels\"] = labels[\"input_ids\"]\n",
    "    return model_inputs\n",
    "\n",
    "train_dataset = dataset_train.map(preprocess_function, batched=True)\n",
    "eval_dataset = dataset_val.map(preprocess_function, batched=True)\n",
    "\n",
    "\n",
    "# トレーニング設定\n",
    "training_args = TrainingArguments(\n",
    "    output_dir=\"./results\",\n",
    "    evaluation_strategy=\"epoch\",\n",
    "    learning_rate=2e-5,\n",
    "    per_device_train_batch_size=4,\n",
    "    per_device_eval_batch_size=4,\n",
    "    num_train_epochs=10,\n",
    "    weight_decay=0.01,\n",
    "    logging_dir=\"./logs\",\n",
    "    logging_steps=10,\n",
    "    save_total_limit=2,\n",
    "    load_best_model_at_end=True,\n",
    "    push_to_hub=False,\n",
    "    fp16=torch.cuda.is_available()\n",
    ")\n",
    "\n",
    "# Trainerの定義\n",
    "trainer = Trainer(\n",
    "    model=model,\n",
    "    args=training_args,\n",
    "    train_dataset=train_dataset,\n",
    "    eval_dataset=eval_dataset,\n",
    "    tokenizer=tokenizer\n",
    ")\n",
    "\n",
    "# モデルのファインチューニング\n",
    "trainer.train()\n",
    "\n",
    "# ファインチューニング済みモデルの保存\n",
    "trainer.save_model(\"../finetuned_model\")\n",
    "tokenizer.save_pretrained(\"../finetuned_model\")\n",
    "\n",
    "# テストデータを用いて予測\n",
    "def predict(model, tokenizer, text):\n",
    "    \"\"\"\n",
    "    テスト用データからモデルの予測を生成。\n",
    "    \"\"\"\n",
    "    inputs = tokenizer(f\"{text} 出力：\", return_tensors=\"pt\", max_length=512, truncation=True).to(device)\n",
    "    outputs = model.generate(**inputs, max_length=128, num_return_sequences=1)\n",
    "    return tokenizer.decode(outputs[0], skip_special_tokens=True)\n",
    "\n",
    "# テスト用の入力\n",
    "test_prompt = \"左肺門部に 37mm 大の腫瘤影を認め、ご指摘の肺癌が疑われます。\\n縦隔に有意なリンパ節腫大は認めません。\\n胸水はありません。\\n背部皮下に腫瘤を認め、粉瘤などと思われます。\"\n",
    "\n",
    "# 予測を実行\n",
    "predicted_output = predict(model, tokenizer, test_prompt)\n",
    "print(\"予測結果:\", predicted_output)\n"
   ]
  },
  {
   "cell_type": "code",
   "execution_count": null,
   "metadata": {},
   "outputs": [],
   "source": []
  }
 ],
 "metadata": {
  "kernelspec": {
   "display_name": "base",
   "language": "python",
   "name": "python3"
  },
  "language_info": {
   "codemirror_mode": {
    "name": "ipython",
    "version": 3
   },
   "file_extension": ".py",
   "mimetype": "text/x-python",
   "name": "python",
   "nbconvert_exporter": "python",
   "pygments_lexer": "ipython3",
   "version": "3.8.8"
  }
 },
 "nbformat": 4,
 "nbformat_minor": 2
}
