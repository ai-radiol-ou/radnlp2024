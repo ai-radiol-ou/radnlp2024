{
 "cells": [
  {
   "cell_type": "code",
   "execution_count": 1,
   "metadata": {},
   "outputs": [],
   "source": [
    "import os\n",
    "import pandas as pd\n",
    "import numpy as np"
   ]
  },
  {
   "cell_type": "code",
   "execution_count": 2,
   "metadata": {},
   "outputs": [],
   "source": [
    "# Define a function to evaluate predictions\n",
    "def evaluate_predictions(labels, submission):\n",
    "    # Helper function to determine coarse equivalence\n",
    "    def map_to_coarse_T(value):\n",
    "        if value in ['Tis', 'T1mi', 'T1a', 'T1b', 'T1c']:\n",
    "            return 'T1'\n",
    "        elif value in ['T2a', 'T2b']:\n",
    "            return 'T2'\n",
    "        return value\n",
    "\n",
    "    def map_to_coarse_M(value):\n",
    "        if value in ['M1a', 'M1b', 'M1c']:\n",
    "            return 'M1'\n",
    "        return value\n",
    "\n",
    "    # Merge the data on 'id'\n",
    "    merged = pd.merge(labels, submission, on='id', suffixes=('_label', '_pred'))\n",
    "\n",
    "    # Fine-grained accuracies\n",
    "    merged['T_correct_fine'] = merged['t_label'] == merged['t_pred']\n",
    "    merged['N_correct_fine'] = merged['n_label'] == merged['n_pred']\n",
    "    merged['M_correct_fine'] = merged['m_label'] == merged['m_pred']\n",
    "    merged['Joint_correct_fine'] = (\n",
    "        merged['T_correct_fine'] & \n",
    "        merged['N_correct_fine'] & \n",
    "        merged['M_correct_fine']\n",
    "    )\n",
    "\n",
    "    # Coarse-grained mappings\n",
    "    merged['t_label_coarse'] = merged['t_label'].map(map_to_coarse_T)\n",
    "    merged['t_pred_coarse'] = merged['t_pred'].map(map_to_coarse_T)\n",
    "    merged['m_label_coarse'] = merged['m_label'].map(map_to_coarse_M)\n",
    "    merged['m_pred_coarse'] = merged['m_pred'].map(map_to_coarse_M)\n",
    "\n",
    "    # Coarse-grained accuracies\n",
    "    merged['T_correct_coarse'] = merged['t_label_coarse'] == merged['t_pred_coarse']\n",
    "    merged['M_correct_coarse'] = merged['m_label_coarse'] == merged['m_pred_coarse']\n",
    "    merged['Joint_correct_coarse'] = (\n",
    "        merged['T_correct_coarse'] & \n",
    "        merged['N_correct_fine'] & \n",
    "        merged['M_correct_coarse']\n",
    "    )\n",
    "\n",
    "    # Calculate metrics\n",
    "    metrics = {\n",
    "        'Joint accuracy (fine)': float(merged['Joint_correct_fine'].mean()),\n",
    "        'T accuracy (fine)': float(merged['T_correct_fine'].mean()),\n",
    "        'N accuracy (fine)': float(merged['N_correct_fine'].mean()),\n",
    "        'M accuracy (fine)': float(merged['M_correct_fine'].mean()),\n",
    "        'Joint accuracy (coarse)': float(merged['Joint_correct_coarse'].mean()),\n",
    "        'T accuracy (coarse)': float(merged['T_correct_coarse'].mean()),\n",
    "        'N accuracy (coarse)': float(merged['N_correct_fine'].mean()),  # Same as fine\n",
    "        'M accuracy (coarse)': float(merged['M_correct_coarse'].mean())\n",
    "    }\n",
    "\n",
    "    return metrics, merged\n",
    "\n",
    "def show_metrics(pred_path, gt_path):\n",
    "    print(os.path.basename(pred_path))\n",
    "    # Load the ground truth and predictions\n",
    "    gt = pd.read_csv(gt_path)\n",
    "    pred = pd.read_csv(pred_path)\n",
    "\n",
    "    # Evaluate the predictions\n",
    "    metrics, merged = evaluate_predictions(gt, pred)\n",
    "    return metrics\n"
   ]
  },
  {
   "cell_type": "code",
   "execution_count": 3,
   "metadata": {},
   "outputs": [
    {
     "name": "stdout",
     "output_type": "stream",
     "text": [
      "submission_uth.csv\n"
     ]
    },
    {
     "data": {
      "text/plain": [
       "{'Joint accuracy (fine)': 0.2037037037037037,\n",
       " 'T accuracy (fine)': 0.42592592592592593,\n",
       " 'N accuracy (fine)': 0.8148148148148148,\n",
       " 'M accuracy (fine)': 0.7592592592592593,\n",
       " 'Joint accuracy (coarse)': 0.24074074074074073,\n",
       " 'T accuracy (coarse)': 0.42592592592592593,\n",
       " 'N accuracy (coarse)': 0.8148148148148148,\n",
       " 'M accuracy (coarse)': 0.8148148148148148}"
      ]
     },
     "execution_count": 3,
     "metadata": {},
     "output_type": "execute_result"
    }
   ],
   "source": [
    "label_file_path = '../radnlp_2024_train_val_20240731/ja/main_task/val/label.csv'\n",
    "submission_file_path = './model_outputs/submission_uth.csv'\n",
    "\n",
    "show_metrics(submission_file_path, label_file_path)"
   ]
  },
  {
   "cell_type": "code",
   "execution_count": null,
   "metadata": {},
   "outputs": [],
   "source": []
  }
 ],
 "metadata": {
  "kernelspec": {
   "display_name": "env_radnlp",
   "language": "python",
   "name": "python3"
  },
  "language_info": {
   "codemirror_mode": {
    "name": "ipython",
    "version": 3
   },
   "file_extension": ".py",
   "mimetype": "text/x-python",
   "name": "python",
   "nbconvert_exporter": "python",
   "pygments_lexer": "ipython3",
   "version": "3.11.11"
  }
 },
 "nbformat": 4,
 "nbformat_minor": 2
}
