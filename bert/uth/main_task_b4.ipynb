{
 "cells": [
  {
   "cell_type": "code",
   "execution_count": 1,
   "metadata": {},
   "outputs": [],
   "source": [
    "import sys\n",
    "import os\n",
    "import glob\n",
    "from pathlib import Path\n",
    "import random\n",
    "import time\n",
    "import datetime\n",
    "from tqdm.notebook import tqdm\n",
    "import numpy as np\n",
    "import pandas as pd\n",
    "import matplotlib.pyplot as plt\n",
    "%matplotlib inline\n",
    "import seaborn as sns\n",
    "import sklearn\n",
    "from sklearn import preprocessing\n",
    "from sklearn.preprocessing import label_binarize\n",
    "from sklearn.model_selection import train_test_split\n",
    "from sklearn.utils import shuffle\n",
    "from sklearn.model_selection import KFold, StratifiedKFold, GroupKFold\n",
    "from sklearn import metrics\n",
    "from sklearn.metrics import confusion_matrix, accuracy_score, recall_score, precision_score, f1_score, roc_curve, roc_auc_score\n",
    "import re\n",
    "import transformers\n",
    "import torch \n",
    "from torch.utils.data import DataLoader, Dataset\n",
    "import torch.nn as nn\n",
    "import torch.nn.functional as F\n",
    "from torch.nn.utils.rnn import pad_sequence\n",
    "import torch.optim as optim\n",
    "from torch.optim.lr_scheduler import StepLR\n",
    "%matplotlib inline\n",
    "sns.set_theme(style='darkgrid')"
   ]
  },
  {
   "cell_type": "code",
   "execution_count": 2,
   "metadata": {},
   "outputs": [],
   "source": [
    "from pkg.UTHBERT.preprocess_text import preprocess as my_preprocess\n",
    "from pkg.UTHBERT.tokenization_mod import MecabTokenizer, FullTokenizerForMecab\n",
    "from transformers import BertModel,BertConfig"
   ]
  },
  {
   "cell_type": "code",
   "execution_count": 3,
   "metadata": {},
   "outputs": [
    {
     "name": "stdout",
     "output_type": "stream",
     "text": [
      "Using device: mps\n"
     ]
    }
   ],
   "source": [
    "def get_device() -> str:\n",
    "    \"\"\"\n",
    "    Returns the best available device for PyTorch computations.\n",
    "    \"\"\"\n",
    "    if torch.backends.mps.is_available():\n",
    "        # macOS with Apple Silicon (MPS backend)\n",
    "        return \"mps\"\n",
    "    elif torch.cuda.is_available():\n",
    "        # NVIDIA GPU\n",
    "        return \"cuda\"\n",
    "    else:\n",
    "        # Fallback to CPU\n",
    "        return \"cpu\"\n",
    "\n",
    "try:\n",
    "    device = torch.device(get_device())\n",
    "    print(f\"Using device: {device}\")\n",
    "except RuntimeError as e:\n",
    "    print(f\"Failed to initialize the device: {e}\")\n",
    "    device = torch.device(\"cpu\")  # Fallback to CPU in case of an error"
   ]
  },
  {
   "cell_type": "code",
   "execution_count": 4,
   "metadata": {},
   "outputs": [],
   "source": [
    "seed=0\n",
    "def seed_everything(seed):\n",
    "    random.seed(seed)\n",
    "    os.environ['PYTHONHASHSEED'] = str(seed)\n",
    "    np.random.seed(seed)\n",
    "    torch.manual_seed(seed)\n",
    "    torch.cuda.manual_seed(seed)\n",
    "    torch.backends.cudnn.deterministic = True\n",
    "    torch.backends.cudnn.benchmark = False #Trueで高速化重視, Falseで再現性重視\n",
    "seed_everything(seed)\n",
    "os.environ[\"CUDA_VISIBLE_DEVICES\"] = \"0\"\n",
    "torch.use_deterministic_algorithms(True)\n",
    "torch.set_num_threads(1)"
   ]
  },
  {
   "cell_type": "markdown",
   "metadata": {},
   "source": [
    "# Tokenizer"
   ]
  },
  {
   "cell_type": "code",
   "execution_count": 5,
   "metadata": {},
   "outputs": [],
   "source": [
    "dic_path = './dic'"
   ]
  },
  {
   "cell_type": "code",
   "execution_count": 6,
   "metadata": {},
   "outputs": [],
   "source": [
    "# special token for a Person's name (Do not change)\n",
    "name_token = \"＠＠Ｎ\"\n",
    "\n",
    "# path to the mecab-ipadic-neologd\n",
    "mecab_ipadic_neologd = dic_path + '/mecab-ipadic-neologd'\n",
    "\n",
    "# path to the J-Medic (We used MANBYO_201907_Dic-utf8.dic)\n",
    "mecab_J_medic = dic_path + '/MANBYO/MANBYO_201907_Dic-utf8.dic'\n",
    "\n",
    "# path to the uth-bert vocabulary\n",
    "vocab_file = dic_path + '/UTH-BERT/bert_vocab_mc_v1_25000.txt'"
   ]
  },
  {
   "cell_type": "code",
   "execution_count": 7,
   "metadata": {},
   "outputs": [],
   "source": [
    "# MecabTokenizer\n",
    "sub_tokenizer = MecabTokenizer(mecab_ipadic_neologd=mecab_ipadic_neologd,\n",
    "                               mecab_J_medic=mecab_J_medic,\n",
    "                               name_token=name_token)\n",
    "\n",
    "# FullTokenizerForMecab\n",
    "tokenizer = FullTokenizerForMecab(sub_tokenizer=sub_tokenizer,\n",
    "                                  vocab_file=vocab_file,\n",
    "                                  do_lower_case=False)"
   ]
  },
  {
   "cell_type": "code",
   "execution_count": 8,
   "metadata": {},
   "outputs": [],
   "source": [
    "def tokenize(sentence_list):\n",
    "    token_list = []\n",
    "    for s in tqdm(sentence_list):\n",
    "        tokens = tokenizer.tokenize(my_preprocess(str(s)))\n",
    "        ids = tokenizer.convert_tokens_to_ids(tokens)\n",
    "        ids = [2] + ids + [3]\n",
    "        token_list.append(ids)\n",
    "    return token_list"
   ]
  },
  {
   "cell_type": "markdown",
   "metadata": {},
   "source": [
    "# Data"
   ]
  },
  {
   "cell_type": "code",
   "execution_count": 9,
   "metadata": {},
   "outputs": [],
   "source": [
    "def create_dataframe(folder_path):\n",
    "    \"\"\"\n",
    "    指定されたフォルダ内のテキストファイルからDataFrameを作成する関数\n",
    "\n",
    "    Args:\n",
    "        folder_path (str): テキストファイルが入っているフォルダのパス\n",
    "\n",
    "    Returns:\n",
    "        pandas.DataFrame: 作成されたDataFrame\n",
    "    \"\"\"\n",
    "\n",
    "    # フォルダ内のすべてのテキストファイルのパスを取得\n",
    "    file_list = glob.glob(folder_path + \"/*.txt\")\n",
    "\n",
    "    # 空のDataFrameを作成\n",
    "    df_text = pd.DataFrame(columns=['id', 'text'])\n",
    "    \n",
    "    # label.csvを読み込む\n",
    "    df_label = pd.read_csv(os.path.join(folder_path, \"label.csv\"))\n",
    "\n",
    "    for file in file_list:\n",
    "        # ファイル名からIDを抽出\n",
    "        file_id = file.split(\"/\")[-1].split(\".\")[0]\n",
    "        # file_id = file.split(\"\\\\\")[-1].split(\".\")[0] # Windows\n",
    "        \n",
    "        # テキストファイルを読み込む\n",
    "        with open(file, 'r', encoding='utf-8') as f:\n",
    "            text = f.read()\n",
    "\n",
    "        # DataFrameに追記\n",
    "        rows = []\n",
    "        rows.append({'id': int(file_id), 'text': text})\n",
    "        df_text = pd.concat([df_text, pd.DataFrame(rows)], ignore_index=True)\n",
    "        \n",
    "    # textとlabelのDataFrameを結合\n",
    "    df = pd.merge(df_text, df_label, on='id', how='left')\n",
    "\n",
    "    return df\n",
    "\n",
    "train_folder_path = \"../../radnlp_2024_train_val_20240731/ja/main_task/train\"\n",
    "train_df = create_dataframe(train_folder_path)\n",
    "val_folder_path = \"../../radnlp_2024_train_val_20240731/ja/main_task/val\"\n",
    "val_df = create_dataframe(val_folder_path)"
   ]
  },
  {
   "cell_type": "code",
   "execution_count": 10,
   "metadata": {},
   "outputs": [
    {
     "data": {
      "text/html": [
       "<div>\n",
       "<style scoped>\n",
       "    .dataframe tbody tr th:only-of-type {\n",
       "        vertical-align: middle;\n",
       "    }\n",
       "\n",
       "    .dataframe tbody tr th {\n",
       "        vertical-align: top;\n",
       "    }\n",
       "\n",
       "    .dataframe thead th {\n",
       "        text-align: right;\n",
       "    }\n",
       "</style>\n",
       "<table border=\"1\" class=\"dataframe\">\n",
       "  <thead>\n",
       "    <tr style=\"text-align: right;\">\n",
       "      <th></th>\n",
       "      <th>id</th>\n",
       "      <th>text</th>\n",
       "      <th>t</th>\n",
       "      <th>n</th>\n",
       "      <th>m</th>\n",
       "    </tr>\n",
       "  </thead>\n",
       "  <tbody>\n",
       "    <tr>\n",
       "      <th>0</th>\n",
       "      <td>4166189</td>\n",
       "      <td>左肺上葉に長径 12cm の腫瘤を認めます。弓部大動脈や肺動脈浸潤が疑われます。\\nT4 と...</td>\n",
       "      <td>T4</td>\n",
       "      <td>N2</td>\n",
       "      <td>M0</td>\n",
       "    </tr>\n",
       "    <tr>\n",
       "      <th>1</th>\n",
       "      <td>1185427</td>\n",
       "      <td>右下葉に長径 30mm 大の腫瘤を認め、肺癌を疑います。葉間胸膜の陥入を伴い、臓\\n側胸膜浸...</td>\n",
       "      <td>T1c</td>\n",
       "      <td>N0</td>\n",
       "      <td>M0</td>\n",
       "    </tr>\n",
       "    <tr>\n",
       "      <th>2</th>\n",
       "      <td>165742</td>\n",
       "      <td>右肺尖部に長径 5 ㎝の腫瘤を認めます。辺縁に棘状影が見られ原発性肺癌を疑いま\\nす。壁側胸...</td>\n",
       "      <td>T3</td>\n",
       "      <td>N0</td>\n",
       "      <td>M0</td>\n",
       "    </tr>\n",
       "    <tr>\n",
       "      <th>3</th>\n",
       "      <td>6848850</td>\n",
       "      <td>両側肺野に肺気腫を認めます。\\n右肺下葉に分葉状腫瘤性病変を認めます（最大径 37×37×4...</td>\n",
       "      <td>T2a</td>\n",
       "      <td>N2</td>\n",
       "      <td>M1c</td>\n",
       "    </tr>\n",
       "    <tr>\n",
       "      <th>4</th>\n",
       "      <td>9818606</td>\n",
       "      <td>肺野背景に気腫性変化を認めます。\\n右肺下葉に長径 40mm の腫瘤を認めます。分葉状の形態...</td>\n",
       "      <td>T2a</td>\n",
       "      <td>N2</td>\n",
       "      <td>M1c</td>\n",
       "    </tr>\n",
       "    <tr>\n",
       "      <th>...</th>\n",
       "      <td>...</td>\n",
       "      <td>...</td>\n",
       "      <td>...</td>\n",
       "      <td>...</td>\n",
       "      <td>...</td>\n",
       "    </tr>\n",
       "    <tr>\n",
       "      <th>103</th>\n",
       "      <td>15410359</td>\n",
       "      <td>比較可能な画像検査はありません。\\n右肺尖部に長径 50mm  大の腫瘤影を認めます。病変は...</td>\n",
       "      <td>T2b</td>\n",
       "      <td>N0</td>\n",
       "      <td>M0</td>\n",
       "    </tr>\n",
       "    <tr>\n",
       "      <th>104</th>\n",
       "      <td>8602016</td>\n",
       "      <td>右肺門部に軟部影を認め、ご指摘の悪性腫瘍が疑われます。右下葉は無気肺となっ\\nています。\\n...</td>\n",
       "      <td>T2a</td>\n",
       "      <td>N3</td>\n",
       "      <td>M0</td>\n",
       "    </tr>\n",
       "    <tr>\n",
       "      <th>105</th>\n",
       "      <td>1876861</td>\n",
       "      <td>肺野は背景に慢性肺気腫の所見を認めます。\\n右肺尖部に⻑径 48mm の不整形腫瘤を認め、原...</td>\n",
       "      <td>T2b</td>\n",
       "      <td>N2</td>\n",
       "      <td>M1b</td>\n",
       "    </tr>\n",
       "    <tr>\n",
       "      <th>106</th>\n",
       "      <td>13567317</td>\n",
       "      <td>背景に間質性肺炎、肺気腫を疑います。気腫合併肺線維症のような肺癌の発生しや\\nすい状態を疑い...</td>\n",
       "      <td>T2b</td>\n",
       "      <td>N2</td>\n",
       "      <td>M0</td>\n",
       "    </tr>\n",
       "    <tr>\n",
       "      <th>107</th>\n",
       "      <td>9262204</td>\n",
       "      <td>右下葉  S9 胸膜直下に 12mm  の結節があります。\\n周囲にすりガラス影があります。...</td>\n",
       "      <td>T1b</td>\n",
       "      <td>N0</td>\n",
       "      <td>M0</td>\n",
       "    </tr>\n",
       "  </tbody>\n",
       "</table>\n",
       "<p>108 rows × 5 columns</p>\n",
       "</div>"
      ],
      "text/plain": [
       "           id                                               text    t   n    m\n",
       "0     4166189  左肺上葉に長径 12cm の腫瘤を認めます。弓部大動脈や肺動脈浸潤が疑われます。\\nT4 と...   T4  N2   M0\n",
       "1     1185427  右下葉に長径 30mm 大の腫瘤を認め、肺癌を疑います。葉間胸膜の陥入を伴い、臓\\n側胸膜浸...  T1c  N0   M0\n",
       "2      165742  右肺尖部に長径 5 ㎝の腫瘤を認めます。辺縁に棘状影が見られ原発性肺癌を疑いま\\nす。壁側胸...   T3  N0   M0\n",
       "3     6848850  両側肺野に肺気腫を認めます。\\n右肺下葉に分葉状腫瘤性病変を認めます（最大径 37×37×4...  T2a  N2  M1c\n",
       "4     9818606  肺野背景に気腫性変化を認めます。\\n右肺下葉に長径 40mm の腫瘤を認めます。分葉状の形態...  T2a  N2  M1c\n",
       "..        ...                                                ...  ...  ..  ...\n",
       "103  15410359  比較可能な画像検査はありません。\\n右肺尖部に長径 50mm  大の腫瘤影を認めます。病変は...  T2b  N0   M0\n",
       "104   8602016  右肺門部に軟部影を認め、ご指摘の悪性腫瘍が疑われます。右下葉は無気肺となっ\\nています。\\n...  T2a  N3   M0\n",
       "105   1876861  肺野は背景に慢性肺気腫の所見を認めます。\\n右肺尖部に⻑径 48mm の不整形腫瘤を認め、原...  T2b  N2  M1b\n",
       "106  13567317  背景に間質性肺炎、肺気腫を疑います。気腫合併肺線維症のような肺癌の発生しや\\nすい状態を疑い...  T2b  N2   M0\n",
       "107   9262204  右下葉  S9 胸膜直下に 12mm  の結節があります。\\n周囲にすりガラス影があります。...  T1b  N0   M0\n",
       "\n",
       "[108 rows x 5 columns]"
      ]
     },
     "execution_count": 10,
     "metadata": {},
     "output_type": "execute_result"
    }
   ],
   "source": [
    "train_df"
   ]
  },
  {
   "cell_type": "code",
   "execution_count": 11,
   "metadata": {},
   "outputs": [
    {
     "name": "stdout",
     "output_type": "stream",
     "text": [
      "t\n",
      "T4     31\n",
      "T2a    20\n",
      "T2b    19\n",
      "T3     18\n",
      "T1b     9\n",
      "T1c     8\n",
      "T0      3\n",
      "Name: count, dtype: int64\n",
      "n\n",
      "N2    45\n",
      "N0    41\n",
      "N1    13\n",
      "N3     9\n",
      "Name: count, dtype: int64\n",
      "m\n",
      "M0     74\n",
      "M1c    20\n",
      "M1b    14\n",
      "Name: count, dtype: int64\n"
     ]
    }
   ],
   "source": [
    "print(train_df['t'].value_counts())\n",
    "print(train_df['n'].value_counts())\n",
    "print(train_df['m'].value_counts())"
   ]
  },
  {
   "cell_type": "code",
   "execution_count": 12,
   "metadata": {},
   "outputs": [],
   "source": [
    "add_df = pd.read_csv(\"../add_data.csv\", encoding = 'cp932')"
   ]
  },
  {
   "cell_type": "code",
   "execution_count": 13,
   "metadata": {},
   "outputs": [
    {
     "data": {
      "text/html": [
       "<div>\n",
       "<style scoped>\n",
       "    .dataframe tbody tr th:only-of-type {\n",
       "        vertical-align: middle;\n",
       "    }\n",
       "\n",
       "    .dataframe tbody tr th {\n",
       "        vertical-align: top;\n",
       "    }\n",
       "\n",
       "    .dataframe thead th {\n",
       "        text-align: right;\n",
       "    }\n",
       "</style>\n",
       "<table border=\"1\" class=\"dataframe\">\n",
       "  <thead>\n",
       "    <tr style=\"text-align: right;\">\n",
       "      <th></th>\n",
       "      <th>id</th>\n",
       "      <th>text</th>\n",
       "      <th>t</th>\n",
       "      <th>n</th>\n",
       "      <th>m</th>\n",
       "    </tr>\n",
       "  </thead>\n",
       "  <tbody>\n",
       "    <tr>\n",
       "      <th>0</th>\n",
       "      <td>0</td>\n",
       "      <td>原発腫瘍を認めない</td>\n",
       "      <td>T0</td>\n",
       "      <td>N0</td>\n",
       "      <td>M0</td>\n",
       "    </tr>\n",
       "    <tr>\n",
       "      <th>1</th>\n",
       "      <td>1</td>\n",
       "      <td>上皮内癌（carcinoma in situ）：肺野型の場合は、充実成分径0cmかつ病変全体...</td>\n",
       "      <td>Tis</td>\n",
       "      <td>N0</td>\n",
       "      <td>M0</td>\n",
       "    </tr>\n",
       "    <tr>\n",
       "      <th>2</th>\n",
       "      <td>2</td>\n",
       "      <td>微少浸潤性腺癌：部分充実型を示し、充実成分径≦0.5cmかつ病変全体径≦3cm。かつ肺または...</td>\n",
       "      <td>T1mi</td>\n",
       "      <td>N0</td>\n",
       "      <td>M0</td>\n",
       "    </tr>\n",
       "    <tr>\n",
       "      <th>3</th>\n",
       "      <td>3</td>\n",
       "      <td>腫瘍の充実成分径≦1cmでかつTis・T1miには相当しない。かつ肺または臓側胸膜に覆われて...</td>\n",
       "      <td>T1a</td>\n",
       "      <td>N0</td>\n",
       "      <td>M0</td>\n",
       "    </tr>\n",
       "    <tr>\n",
       "      <th>4</th>\n",
       "      <td>4</td>\n",
       "      <td>腫瘍の充実成分径&gt;1cmでかつ≦2cm。かつ肺または臓側胸膜に覆われている。かつ葉気管支より...</td>\n",
       "      <td>T1b</td>\n",
       "      <td>N0</td>\n",
       "      <td>M0</td>\n",
       "    </tr>\n",
       "    <tr>\n",
       "      <th>5</th>\n",
       "      <td>5</td>\n",
       "      <td>腫瘍の充実成分径&gt;2cmでかつ≦3cm。かつ肺または臓側胸膜に覆われている。かつ葉気管支より...</td>\n",
       "      <td>T1c</td>\n",
       "      <td>N0</td>\n",
       "      <td>M0</td>\n",
       "    </tr>\n",
       "    <tr>\n",
       "      <th>6</th>\n",
       "      <td>6</td>\n",
       "      <td>腫瘍の充実成分径&gt;3cmでかつ≦4cm。または充実成分径≦3cmでも以下のいずれかであるもの...</td>\n",
       "      <td>T2a</td>\n",
       "      <td>N0</td>\n",
       "      <td>M0</td>\n",
       "    </tr>\n",
       "    <tr>\n",
       "      <th>7</th>\n",
       "      <td>7</td>\n",
       "      <td>腫瘍の充実成分径&gt;4cmでかつ≦5cm。または充実成分径≦3cmでも以下のいずれかであるもの...</td>\n",
       "      <td>T2b</td>\n",
       "      <td>N0</td>\n",
       "      <td>M0</td>\n",
       "    </tr>\n",
       "    <tr>\n",
       "      <th>8</th>\n",
       "      <td>8</td>\n",
       "      <td>充実成分径&gt;5cmでかつ≦7cm。または充実成分径≦5cmでも以下のいずれかであるもの：壁側...</td>\n",
       "      <td>T3</td>\n",
       "      <td>N0</td>\n",
       "      <td>M0</td>\n",
       "    </tr>\n",
       "    <tr>\n",
       "      <th>9</th>\n",
       "      <td>9</td>\n",
       "      <td>充実成分径＞7cm、または大きさを問わず横隔膜、縦隔、心臓、大血管、気管、反回神経、食道、椎...</td>\n",
       "      <td>T4</td>\n",
       "      <td>N0</td>\n",
       "      <td>M0</td>\n",
       "    </tr>\n",
       "    <tr>\n",
       "      <th>10</th>\n",
       "      <td>10</td>\n",
       "      <td>所属リンパ節転移なし</td>\n",
       "      <td>T0</td>\n",
       "      <td>N0</td>\n",
       "      <td>M0</td>\n",
       "    </tr>\n",
       "    <tr>\n",
       "      <th>11</th>\n",
       "      <td>11</td>\n",
       "      <td>がんのある肺と同じ側の気管支周囲かつ/または同じ側の肺門、肺内のリンパ節への転移がある</td>\n",
       "      <td>T0</td>\n",
       "      <td>N1</td>\n",
       "      <td>M0</td>\n",
       "    </tr>\n",
       "    <tr>\n",
       "      <th>12</th>\n",
       "      <td>12</td>\n",
       "      <td>がんのある肺と同じ側の縦隔かつ/または気管分岐部より下のリンパ節への転移がある</td>\n",
       "      <td>T0</td>\n",
       "      <td>N2</td>\n",
       "      <td>M0</td>\n",
       "    </tr>\n",
       "    <tr>\n",
       "      <th>13</th>\n",
       "      <td>13</td>\n",
       "      <td>がんのある肺と反対側の縦隔、肺門、同じ側あるいは反対側の前斜角筋（首の筋肉）、鎖骨上窩（鎖骨...</td>\n",
       "      <td>T0</td>\n",
       "      <td>N3</td>\n",
       "      <td>M0</td>\n",
       "    </tr>\n",
       "    <tr>\n",
       "      <th>14</th>\n",
       "      <td>14</td>\n",
       "      <td>遠隔転移なし</td>\n",
       "      <td>T0</td>\n",
       "      <td>N0</td>\n",
       "      <td>M0</td>\n",
       "    </tr>\n",
       "    <tr>\n",
       "      <th>15</th>\n",
       "      <td>15</td>\n",
       "      <td>がんのある肺と反対側の肺内の遠隔転移がある、または胸膜または心膜の遠隔転移がある、または悪性...</td>\n",
       "      <td>T0</td>\n",
       "      <td>N0</td>\n",
       "      <td>M1a</td>\n",
       "    </tr>\n",
       "    <tr>\n",
       "      <th>16</th>\n",
       "      <td>16</td>\n",
       "      <td>肺以外の一臓器への単発遠隔転移がある</td>\n",
       "      <td>T0</td>\n",
       "      <td>N0</td>\n",
       "      <td>M1b</td>\n",
       "    </tr>\n",
       "    <tr>\n",
       "      <th>17</th>\n",
       "      <td>17</td>\n",
       "      <td>肺以外の一臓器または多臓器への多発遠隔転移がある</td>\n",
       "      <td>T0</td>\n",
       "      <td>N0</td>\n",
       "      <td>M1c</td>\n",
       "    </tr>\n",
       "  </tbody>\n",
       "</table>\n",
       "</div>"
      ],
      "text/plain": [
       "    id                                               text     t   n    m\n",
       "0    0                                          原発腫瘍を認めない    T0  N0   M0\n",
       "1    1  上皮内癌（carcinoma in situ）：肺野型の場合は、充実成分径0cmかつ病変全体...   Tis  N0   M0\n",
       "2    2  微少浸潤性腺癌：部分充実型を示し、充実成分径≦0.5cmかつ病変全体径≦3cm。かつ肺または...  T1mi  N0   M0\n",
       "3    3  腫瘍の充実成分径≦1cmでかつTis・T1miには相当しない。かつ肺または臓側胸膜に覆われて...   T1a  N0   M0\n",
       "4    4  腫瘍の充実成分径>1cmでかつ≦2cm。かつ肺または臓側胸膜に覆われている。かつ葉気管支より...   T1b  N0   M0\n",
       "5    5  腫瘍の充実成分径>2cmでかつ≦3cm。かつ肺または臓側胸膜に覆われている。かつ葉気管支より...   T1c  N0   M0\n",
       "6    6  腫瘍の充実成分径>3cmでかつ≦4cm。または充実成分径≦3cmでも以下のいずれかであるもの...   T2a  N0   M0\n",
       "7    7  腫瘍の充実成分径>4cmでかつ≦5cm。または充実成分径≦3cmでも以下のいずれかであるもの...   T2b  N0   M0\n",
       "8    8  充実成分径>5cmでかつ≦7cm。または充実成分径≦5cmでも以下のいずれかであるもの：壁側...    T3  N0   M0\n",
       "9    9  充実成分径＞7cm、または大きさを問わず横隔膜、縦隔、心臓、大血管、気管、反回神経、食道、椎...    T4  N0   M0\n",
       "10  10                                         所属リンパ節転移なし    T0  N0   M0\n",
       "11  11        がんのある肺と同じ側の気管支周囲かつ/または同じ側の肺門、肺内のリンパ節への転移がある    T0  N1   M0\n",
       "12  12            がんのある肺と同じ側の縦隔かつ/または気管分岐部より下のリンパ節への転移がある    T0  N2   M0\n",
       "13  13  がんのある肺と反対側の縦隔、肺門、同じ側あるいは反対側の前斜角筋（首の筋肉）、鎖骨上窩（鎖骨...    T0  N3   M0\n",
       "14  14                                             遠隔転移なし    T0  N0   M0\n",
       "15  15  がんのある肺と反対側の肺内の遠隔転移がある、または胸膜または心膜の遠隔転移がある、または悪性...    T0  N0  M1a\n",
       "16  16                                 肺以外の一臓器への単発遠隔転移がある    T0  N0  M1b\n",
       "17  17                           肺以外の一臓器または多臓器への多発遠隔転移がある    T0  N0  M1c"
      ]
     },
     "execution_count": 13,
     "metadata": {},
     "output_type": "execute_result"
    }
   ],
   "source": [
    "add_df"
   ]
  },
  {
   "cell_type": "code",
   "execution_count": 14,
   "metadata": {},
   "outputs": [],
   "source": [
    "# 訓練データを追加する\n",
    "df_train = pd.concat([add_df, train_df])"
   ]
  },
  {
   "cell_type": "code",
   "execution_count": 15,
   "metadata": {},
   "outputs": [
    {
     "data": {
      "text/html": [
       "<div>\n",
       "<style scoped>\n",
       "    .dataframe tbody tr th:only-of-type {\n",
       "        vertical-align: middle;\n",
       "    }\n",
       "\n",
       "    .dataframe tbody tr th {\n",
       "        vertical-align: top;\n",
       "    }\n",
       "\n",
       "    .dataframe thead th {\n",
       "        text-align: right;\n",
       "    }\n",
       "</style>\n",
       "<table border=\"1\" class=\"dataframe\">\n",
       "  <thead>\n",
       "    <tr style=\"text-align: right;\">\n",
       "      <th></th>\n",
       "      <th>id</th>\n",
       "      <th>text</th>\n",
       "      <th>t</th>\n",
       "      <th>n</th>\n",
       "      <th>m</th>\n",
       "    </tr>\n",
       "  </thead>\n",
       "  <tbody>\n",
       "    <tr>\n",
       "      <th>0</th>\n",
       "      <td>0</td>\n",
       "      <td>原発腫瘍を認めない</td>\n",
       "      <td>T0</td>\n",
       "      <td>N0</td>\n",
       "      <td>M0</td>\n",
       "    </tr>\n",
       "    <tr>\n",
       "      <th>1</th>\n",
       "      <td>1</td>\n",
       "      <td>上皮内癌（carcinoma in situ）：肺野型の場合は、充実成分径0cmかつ病変全体...</td>\n",
       "      <td>Tis</td>\n",
       "      <td>N0</td>\n",
       "      <td>M0</td>\n",
       "    </tr>\n",
       "    <tr>\n",
       "      <th>2</th>\n",
       "      <td>2</td>\n",
       "      <td>微少浸潤性腺癌：部分充実型を示し、充実成分径≦0.5cmかつ病変全体径≦3cm。かつ肺または...</td>\n",
       "      <td>T1mi</td>\n",
       "      <td>N0</td>\n",
       "      <td>M0</td>\n",
       "    </tr>\n",
       "    <tr>\n",
       "      <th>3</th>\n",
       "      <td>3</td>\n",
       "      <td>腫瘍の充実成分径≦1cmでかつTis・T1miには相当しない。かつ肺または臓側胸膜に覆われて...</td>\n",
       "      <td>T1a</td>\n",
       "      <td>N0</td>\n",
       "      <td>M0</td>\n",
       "    </tr>\n",
       "    <tr>\n",
       "      <th>4</th>\n",
       "      <td>4</td>\n",
       "      <td>腫瘍の充実成分径&gt;1cmでかつ≦2cm。かつ肺または臓側胸膜に覆われている。かつ葉気管支より...</td>\n",
       "      <td>T1b</td>\n",
       "      <td>N0</td>\n",
       "      <td>M0</td>\n",
       "    </tr>\n",
       "    <tr>\n",
       "      <th>...</th>\n",
       "      <td>...</td>\n",
       "      <td>...</td>\n",
       "      <td>...</td>\n",
       "      <td>...</td>\n",
       "      <td>...</td>\n",
       "    </tr>\n",
       "    <tr>\n",
       "      <th>103</th>\n",
       "      <td>15410359</td>\n",
       "      <td>比較可能な画像検査はありません。\\n右肺尖部に長径 50mm  大の腫瘤影を認めます。病変は...</td>\n",
       "      <td>T2b</td>\n",
       "      <td>N0</td>\n",
       "      <td>M0</td>\n",
       "    </tr>\n",
       "    <tr>\n",
       "      <th>104</th>\n",
       "      <td>8602016</td>\n",
       "      <td>右肺門部に軟部影を認め、ご指摘の悪性腫瘍が疑われます。右下葉は無気肺となっ\\nています。\\n...</td>\n",
       "      <td>T2a</td>\n",
       "      <td>N3</td>\n",
       "      <td>M0</td>\n",
       "    </tr>\n",
       "    <tr>\n",
       "      <th>105</th>\n",
       "      <td>1876861</td>\n",
       "      <td>肺野は背景に慢性肺気腫の所見を認めます。\\n右肺尖部に⻑径 48mm の不整形腫瘤を認め、原...</td>\n",
       "      <td>T2b</td>\n",
       "      <td>N2</td>\n",
       "      <td>M1b</td>\n",
       "    </tr>\n",
       "    <tr>\n",
       "      <th>106</th>\n",
       "      <td>13567317</td>\n",
       "      <td>背景に間質性肺炎、肺気腫を疑います。気腫合併肺線維症のような肺癌の発生しや\\nすい状態を疑い...</td>\n",
       "      <td>T2b</td>\n",
       "      <td>N2</td>\n",
       "      <td>M0</td>\n",
       "    </tr>\n",
       "    <tr>\n",
       "      <th>107</th>\n",
       "      <td>9262204</td>\n",
       "      <td>右下葉  S9 胸膜直下に 12mm  の結節があります。\\n周囲にすりガラス影があります。...</td>\n",
       "      <td>T1b</td>\n",
       "      <td>N0</td>\n",
       "      <td>M0</td>\n",
       "    </tr>\n",
       "  </tbody>\n",
       "</table>\n",
       "<p>126 rows × 5 columns</p>\n",
       "</div>"
      ],
      "text/plain": [
       "           id                                               text     t   n  \\\n",
       "0           0                                          原発腫瘍を認めない    T0  N0   \n",
       "1           1  上皮内癌（carcinoma in situ）：肺野型の場合は、充実成分径0cmかつ病変全体...   Tis  N0   \n",
       "2           2  微少浸潤性腺癌：部分充実型を示し、充実成分径≦0.5cmかつ病変全体径≦3cm。かつ肺または...  T1mi  N0   \n",
       "3           3  腫瘍の充実成分径≦1cmでかつTis・T1miには相当しない。かつ肺または臓側胸膜に覆われて...   T1a  N0   \n",
       "4           4  腫瘍の充実成分径>1cmでかつ≦2cm。かつ肺または臓側胸膜に覆われている。かつ葉気管支より...   T1b  N0   \n",
       "..        ...                                                ...   ...  ..   \n",
       "103  15410359  比較可能な画像検査はありません。\\n右肺尖部に長径 50mm  大の腫瘤影を認めます。病変は...   T2b  N0   \n",
       "104   8602016  右肺門部に軟部影を認め、ご指摘の悪性腫瘍が疑われます。右下葉は無気肺となっ\\nています。\\n...   T2a  N3   \n",
       "105   1876861  肺野は背景に慢性肺気腫の所見を認めます。\\n右肺尖部に⻑径 48mm の不整形腫瘤を認め、原...   T2b  N2   \n",
       "106  13567317  背景に間質性肺炎、肺気腫を疑います。気腫合併肺線維症のような肺癌の発生しや\\nすい状態を疑い...   T2b  N2   \n",
       "107   9262204  右下葉  S9 胸膜直下に 12mm  の結節があります。\\n周囲にすりガラス影があります。...   T1b  N0   \n",
       "\n",
       "       m  \n",
       "0     M0  \n",
       "1     M0  \n",
       "2     M0  \n",
       "3     M0  \n",
       "4     M0  \n",
       "..   ...  \n",
       "103   M0  \n",
       "104   M0  \n",
       "105  M1b  \n",
       "106   M0  \n",
       "107   M0  \n",
       "\n",
       "[126 rows x 5 columns]"
      ]
     },
     "execution_count": 15,
     "metadata": {},
     "output_type": "execute_result"
    }
   ],
   "source": [
    "df_train"
   ]
  },
  {
   "cell_type": "code",
   "execution_count": 16,
   "metadata": {},
   "outputs": [
    {
     "data": {
      "application/vnd.jupyter.widget-view+json": {
       "model_id": "9c015347aafd42b2a33d70ae6e55e92d",
       "version_major": 2,
       "version_minor": 0
      },
      "text/plain": [
       "  0%|          | 0/108 [00:00<?, ?it/s]"
      ]
     },
     "metadata": {},
     "output_type": "display_data"
    },
    {
     "data": {
      "application/vnd.jupyter.widget-view+json": {
       "model_id": "7613a25e77b249fdb763fd5851ad96a6",
       "version_major": 2,
       "version_minor": 0
      },
      "text/plain": [
       "  0%|          | 0/54 [00:00<?, ?it/s]"
      ]
     },
     "metadata": {},
     "output_type": "display_data"
    }
   ],
   "source": [
    "X_train, X_valid = tokenize(train_df['text'].values.tolist()), tokenize(val_df['text'].values.tolist())"
   ]
  },
  {
   "cell_type": "code",
   "execution_count": 17,
   "metadata": {},
   "outputs": [],
   "source": [
    "def convert_list(text_list, label_dic):\n",
    "    \"\"\"\n",
    "    リストのテキストを、指定された辞書に基づいて数値に変換します。\n",
    "\n",
    "    Args:\n",
    "        text_list (list): 変換したいテキストのリスト\n",
    "        label_dic (dict): テキストと対応する数値の辞書\n",
    "\n",
    "    Returns:\n",
    "        list: 数値に変換されたリスト\n",
    "    \"\"\"\n",
    "\n",
    "    num_list = []\n",
    "    for text in text_list:\n",
    "        # 辞書から対応する数値を取得\n",
    "        num = label_dic.get(text, None)\n",
    "        if num is not None:\n",
    "            num_list.append(num)\n",
    "        else:\n",
    "            print(f\"対応する数値が見つかりません: {text}\")\n",
    "    return num_list\n",
    "\n",
    "label_dic_t = {'T0':0, 'Tis':1, 'T1mi':2, 'T1a':3, 'T1b':4, 'T1c':5, 'T2a':6, 'T2b':7, 'T3':8, 'T4':9}\n",
    "Yt_train, Yt_valid = convert_list(train_df['t'].values.tolist(), label_dic_t), convert_list(val_df['t'].values.tolist(), label_dic_t)\n",
    "\n",
    "label_dic_n = {'N0':0, 'N1':1, 'N2':2, 'N3':3}\n",
    "Yn_train, Yn_valid = convert_list(train_df['n'].values.tolist(), label_dic_n), convert_list(val_df['n'].values.tolist(), label_dic_n)\n",
    "\n",
    "label_dic_m = {'M0':0, 'M1a':1, 'M1b':2, 'M1c':3}\n",
    "Ym_train, Ym_valid = convert_list(train_df['m'].values.tolist(), label_dic_m), convert_list(val_df['m'].values.tolist(), label_dic_m)"
   ]
  },
  {
   "cell_type": "markdown",
   "metadata": {},
   "source": [
    "# TNM各々分類モデルを学習"
   ]
  },
  {
   "cell_type": "code",
   "execution_count": 18,
   "metadata": {},
   "outputs": [],
   "source": [
    "model_path = Path('./pkg/UTHBERT')\n",
    "save_path = Path('./model')"
   ]
  },
  {
   "cell_type": "code",
   "execution_count": 19,
   "metadata": {},
   "outputs": [],
   "source": [
    "num_classes_t=10\n",
    "num_classes_n=4\n",
    "num_classes_m=4"
   ]
  },
  {
   "cell_type": "code",
   "execution_count": 20,
   "metadata": {},
   "outputs": [],
   "source": [
    "class MyCollator(object):\n",
    "    '''\n",
    "    Args:\n",
    "    test : Set True when using with test data loader. Defaults to False\n",
    "    percentile : Trim sequences by this percentile\n",
    "    '''\n",
    "    def __init__(self,test=False,percentile=100):\n",
    "        self.test = test\n",
    "        self.percentile = percentile\n",
    "    def __call__(self, batch):\n",
    "        if not self.test:\n",
    "            data = [torch.tensor(item[0])  for item in batch]\n",
    "            target = [item[1] for item in batch]\n",
    "        else:\n",
    "            data = [item for item in batch]\n",
    "        \n",
    "        # Padding\n",
    "        data = pad_sequence(data, batch_first=True)\n",
    "        data = data.clone().detach().long()\n",
    "        masks = torch.where(data==0, 1, 0)\n",
    "        masks = masks.clone().detach().long()\n",
    "        if not self.test:\n",
    "            target = torch.tensor(target, dtype=torch.long)\n",
    "            return [data, masks, target]\n",
    "        return [data, masks]"
   ]
  },
  {
   "cell_type": "code",
   "execution_count": 21,
   "metadata": {},
   "outputs": [],
   "source": [
    "def build_data(train_data, valid_data, batch_size=8): \n",
    "        \n",
    "    collate = MyCollator(percentile=100)\n",
    "    train_loader = DataLoader(train_data, batch_size=batch_size, shuffle=True, num_workers=0, collate_fn=collate) \n",
    "    valid_loader = DataLoader(valid_data, batch_size=batch_size, shuffle=True, num_workers=0, collate_fn=collate) \n",
    "     \n",
    "    return train_loader, valid_loader"
   ]
  },
  {
   "cell_type": "code",
   "execution_count": 22,
   "metadata": {},
   "outputs": [],
   "source": [
    "config = BertConfig.from_json_file(model_path / 'bert_config.json')\n",
    "bert = BertModel.from_pretrained(model_path / 'UTH_BERT.bin', config=config)\n",
    "\n",
    "class Net(nn.Module):\n",
    "    def __init__(self, bert, num_classes):\n",
    "        super(Net, self).__init__()\n",
    "        self.bert = bert\n",
    "        self.cls = nn.Linear(768, num_classes)\n",
    "\n",
    "  # @torch.cuda.amp.autocast()\n",
    "    def forward(self, inputs_ids, pad_masks, Attention=False):\n",
    "        bout = self.bert(inputs_ids, pad_masks, output_attentions=Attention)\n",
    "        bs = len(bout[0])\n",
    "        h0 = [bout[0][i][0] for i in range(bs)]\n",
    "        h0 = torch.stack(h0,dim=0)\n",
    "        if Attention:\n",
    "            return self.cls(h0),bout\n",
    "        else:\n",
    "            return self.cls(h0)"
   ]
  },
  {
   "cell_type": "code",
   "execution_count": 23,
   "metadata": {},
   "outputs": [],
   "source": [
    "def plot_loss(train_loss, valid_loss):\n",
    "    plt.plot(train_loss)\n",
    "    plt.plot(valid_loss)\n",
    "    plt.xlabel('epoch')\n",
    "    plt.ylabel('loss')\n",
    "    plt.legend(['train_loss', 'valid_loss'], loc='upper right')\n",
    "    plt.xticks(np.arange(0, epochs + 1, 5))\n",
    "    plt.show()"
   ]
  },
  {
   "cell_type": "code",
   "execution_count": 24,
   "metadata": {},
   "outputs": [],
   "source": [
    "def plot_metrics(train_acc, test_acc, test_f1):\n",
    "    plt.plot(train_acc)\n",
    "    plt.plot(test_acc)\n",
    "    plt.plot(test_f1)\n",
    "    plt.title('model accuracy')\n",
    "    plt.xlabel('epoch')\n",
    "    plt.ylabel('accuracy')\n",
    "    plt.legend(['train_acc', 'valid_acc', 'valid_F1'], loc='lower right')\n",
    "    plt.xticks(np.arange(0, epochs + 1, 5))\n",
    "    plt.show()"
   ]
  },
  {
   "cell_type": "code",
   "execution_count": 25,
   "metadata": {},
   "outputs": [],
   "source": [
    "def macro_average_f1(label_list, pred_list):\n",
    "    return f1_score(label_list, pred_list, average='macro')"
   ]
  },
  {
   "cell_type": "code",
   "execution_count": 26,
   "metadata": {},
   "outputs": [],
   "source": [
    "def synchronize():\n",
    "    if torch.backends.mps.is_available():\n",
    "        torch.mps.synchronize()\n",
    "    elif torch.cuda.is_available():\n",
    "        torch.cuda.synchronize()\n",
    "\n",
    "def run(train_loader, valid_loader, model, num_classes, epochs=10, patience=5, delta=0.0, save_path=save_path):\n",
    "    \n",
    "    train_loss, valid_loss, train_acc, valid_acc, valid_f1 = [], [], [], [], []\n",
    "    best_f1, best_acc = 0.0, 0.0\n",
    "    best_f1_epoch, best_acc_epoch = 0, 0\n",
    "    best_valid_loss = np.inf\n",
    "    patience_counter = 0\n",
    "    \n",
    "    for epoch in range(0, epochs): \n",
    "        print(f'\\nEpoch {epoch + 1}/{epochs}')\n",
    "        print('-' * 10)\n",
    "        epoch_train_loss, epoch_valid_loss = 0.0, 0.0\n",
    "        epoch_train_acc = 0.0\n",
    "\n",
    "        model.train() \n",
    "        start = time.time()\n",
    "        for data in tqdm(train_loader): \n",
    "            inputs, masks, labels = data[0].to(device), data[1].to(device), data[2].to(device)\n",
    "            optimizer.zero_grad() \n",
    "            outputs = model(inputs, masks)\n",
    "            loss = criterion(outputs, labels)  \n",
    "            loss.backward() \n",
    "            optimizer.step() \n",
    "            epoch_train_loss += loss.item() / len(train_loader) \n",
    "            acc = (F.softmax(outputs, dim=1).argmax(dim=1) == labels).float().mean()\n",
    "            epoch_train_acc += acc.item() / len(train_loader)\n",
    "            del inputs, masks, labels, outputs, loss    \n",
    "\n",
    "        train_loss.append(epoch_train_loss)\n",
    "        train_acc.append(epoch_train_acc)\n",
    "        synchronize()\n",
    "        elapsed_time = time.time() - start\n",
    "        print(f'Train loss: {epoch_train_loss:.4f}, Train acc: {epoch_train_acc:.4f}, Time: {elapsed_time:.0f}s')\n",
    "        \n",
    "        model.eval()\n",
    "        label_li, pred_li = [], []\n",
    "        with torch.no_grad():\n",
    "            for data in valid_loader:\n",
    "                inputs, masks, labels = data[0].to(device), data[1].to(device), data[2].to(device)\n",
    "                outputs = model(inputs, masks)\n",
    "                loss = criterion(outputs, labels)\n",
    "                epoch_valid_loss += loss.item() / len(valid_loader)\n",
    "                preds = F.softmax(outputs, dim=1).argmax(dim=1)\n",
    "                label_li.extend(labels.cpu().numpy())\n",
    "                pred_li.extend(preds.cpu().numpy())\n",
    "\n",
    "        valid_loss.append(epoch_valid_loss)\n",
    "        epoch_valid_acc = accuracy_score(label_li, pred_li)\n",
    "        epoch_valid_f1 = macro_average_f1(label_li, pred_li)\n",
    "        valid_acc.append(epoch_valid_acc)\n",
    "        valid_f1.append(epoch_valid_f1)\n",
    "\n",
    "        print(f'Valid loss: {epoch_valid_loss:.4f}, Valid acc: {epoch_valid_acc:.4f}, Valid F1: {epoch_valid_f1:.4f}')\n",
    "\n",
    "        if epoch_valid_acc > best_acc: \n",
    "            best_acc = epoch_valid_acc\n",
    "            best_acc_epoch = epoch\n",
    "            torch.save(model.state_dict(), save_path / f'best_acc_4.pth')\n",
    "        if epoch_valid_f1 > best_f1: \n",
    "            best_f1 = epoch_valid_f1\n",
    "            best_f1_epoch = epoch\n",
    "            torch.save(model.state_dict(), save_path / f'best_f1_4.pth')\n",
    "\n",
    "        # # Early stopping\n",
    "        # if epoch_valid_loss < best_valid_loss - delta:\n",
    "        #     best_valid_loss = epoch_valid_loss\n",
    "        #     patience_counter = 0  # 改善があったので、カウンタをリセット\n",
    "        # else:\n",
    "        #     patience_counter += 1\n",
    "        # if patience_counter >= patience:\n",
    "        #     print(f'Early stopping at epoch {epoch + 1}')\n",
    "        #     break\n",
    "            \n",
    "    print('\\nTraining complete')\n",
    "    print(f'Best ACC: {best_acc:.4f} at epoch {best_acc_epoch}')\n",
    "    print(f'Best F1: {best_f1:.4f} at epoch {best_f1_epoch}')\n",
    "\n",
    "    return train_loss, valid_loss, train_acc, valid_acc, valid_f1 "
   ]
  },
  {
   "cell_type": "markdown",
   "metadata": {},
   "source": [
    "## T分類モデル"
   ]
  },
  {
   "cell_type": "code",
   "execution_count": 27,
   "metadata": {},
   "outputs": [],
   "source": [
    "batch_size=4\n",
    "epochs=50\n",
    "learning_rate=1e-5\n",
    "momentum=0.9"
   ]
  },
  {
   "cell_type": "code",
   "execution_count": 28,
   "metadata": {},
   "outputs": [],
   "source": [
    "train_data = []\n",
    "valid_data = []\n",
    "for x, y in zip(X_train, Yt_train):\n",
    "    data = [x, y]\n",
    "    train_data.append(data)\n",
    "for x, y in zip(X_valid, Yt_valid):\n",
    "    data = [x, y]\n",
    "    valid_data.append(data)\n",
    "    \n",
    "train_loader, valid_loader = build_data(train_data, valid_data, batch_size=batch_size)"
   ]
  },
  {
   "cell_type": "code",
   "execution_count": 29,
   "metadata": {},
   "outputs": [],
   "source": [
    "config = BertConfig.from_json_file(model_path / 'bert_config.json')\n",
    "bert = BertModel.from_pretrained(model_path / 'UTH_BERT.bin', config=config)\n",
    "model = Net(bert, num_classes_t).to(device)\n",
    "\n",
    "FREEZE=False\n",
    "if FREEZE: \n",
    "    idx=1 #Any\n",
    "    for name, param in model.named_parameters(): \n",
    "        param.requires_grad = False \n",
    "    for name, param in list(model.named_parameters())[idx:]: \n",
    "        param.requires_grad = True \n",
    "#     optimizer = optim.SGD([{'params':list(model.parameters())[idx:], 'lr':learning_rate, 'momentum':momentum}])\n",
    "    optimizer = optim.Adam([{'params':list(model.parameters())[idx:], 'lr':learning_rate}]) \n",
    "    criterion = nn.CrossEntropyLoss()\n",
    "else:  \n",
    "#     optimizer = optim.SGD(model.parameters(), lr=learning_rate, momentum=momentum)\n",
    "    optimizer = optim.Adam(model.parameters(), lr=learning_rate)\n",
    "    criterion = nn.CrossEntropyLoss()\n",
    "\n",
    "scheduler = StepLR(optimizer, step_size=3, gamma=0.1)"
   ]
  },
  {
   "cell_type": "code",
   "execution_count": 30,
   "metadata": {},
   "outputs": [
    {
     "name": "stdout",
     "output_type": "stream",
     "text": [
      "\n",
      "Epoch 1/50\n",
      "----------\n"
     ]
    },
    {
     "data": {
      "application/vnd.jupyter.widget-view+json": {
       "model_id": "6b511d46636740379b1aecdf6bb80850",
       "version_major": 2,
       "version_minor": 0
      },
      "text/plain": [
       "  0%|          | 0/27 [00:00<?, ?it/s]"
      ]
     },
     "metadata": {},
     "output_type": "display_data"
    },
    {
     "name": "stdout",
     "output_type": "stream",
     "text": [
      "Train loss: 2.0372, Train acc: 0.1852, Time: 12s\n",
      "Valid loss: 2.2787, Valid acc: 0.2963, Valid F1: 0.1331\n",
      "\n",
      "Epoch 2/50\n",
      "----------\n"
     ]
    },
    {
     "data": {
      "application/vnd.jupyter.widget-view+json": {
       "model_id": "c8d56601deb540bda43d6e3790ec46c8",
       "version_major": 2,
       "version_minor": 0
      },
      "text/plain": [
       "  0%|          | 0/27 [00:00<?, ?it/s]"
      ]
     },
     "metadata": {},
     "output_type": "display_data"
    },
    {
     "name": "stdout",
     "output_type": "stream",
     "text": [
      "Train loss: 1.8976, Train acc: 0.2963, Time: 9s\n",
      "Valid loss: 2.2751, Valid acc: 0.2778, Valid F1: 0.0778\n",
      "\n",
      "Epoch 3/50\n",
      "----------\n"
     ]
    },
    {
     "data": {
      "application/vnd.jupyter.widget-view+json": {
       "model_id": "fe40e275f7ae4089b6009eecc46984b4",
       "version_major": 2,
       "version_minor": 0
      },
      "text/plain": [
       "  0%|          | 0/27 [00:00<?, ?it/s]"
      ]
     },
     "metadata": {},
     "output_type": "display_data"
    },
    {
     "name": "stdout",
     "output_type": "stream",
     "text": [
      "Train loss: 1.8436, Train acc: 0.2870, Time: 9s\n",
      "Valid loss: 2.3600, Valid acc: 0.2593, Valid F1: 0.1080\n",
      "\n",
      "Epoch 4/50\n",
      "----------\n"
     ]
    },
    {
     "data": {
      "application/vnd.jupyter.widget-view+json": {
       "model_id": "7f6b43b5498f4d7bb2bdeb232c92fcfd",
       "version_major": 2,
       "version_minor": 0
      },
      "text/plain": [
       "  0%|          | 0/27 [00:00<?, ?it/s]"
      ]
     },
     "metadata": {},
     "output_type": "display_data"
    },
    {
     "name": "stdout",
     "output_type": "stream",
     "text": [
      "Train loss: 1.8459, Train acc: 0.2593, Time: 8s\n",
      "Valid loss: 2.3502, Valid acc: 0.3333, Valid F1: 0.1557\n",
      "\n",
      "Epoch 5/50\n",
      "----------\n"
     ]
    },
    {
     "data": {
      "application/vnd.jupyter.widget-view+json": {
       "model_id": "e3bfc679a41d46a09595f5fac31bf8c5",
       "version_major": 2,
       "version_minor": 0
      },
      "text/plain": [
       "  0%|          | 0/27 [00:00<?, ?it/s]"
      ]
     },
     "metadata": {},
     "output_type": "display_data"
    },
    {
     "name": "stdout",
     "output_type": "stream",
     "text": [
      "Train loss: 1.7805, Train acc: 0.2778, Time: 8s\n",
      "Valid loss: 2.1204, Valid acc: 0.3148, Valid F1: 0.0919\n",
      "\n",
      "Epoch 6/50\n",
      "----------\n"
     ]
    },
    {
     "data": {
      "application/vnd.jupyter.widget-view+json": {
       "model_id": "a9c90256ac864a52a5d79b9409f26024",
       "version_major": 2,
       "version_minor": 0
      },
      "text/plain": [
       "  0%|          | 0/27 [00:00<?, ?it/s]"
      ]
     },
     "metadata": {},
     "output_type": "display_data"
    },
    {
     "name": "stdout",
     "output_type": "stream",
     "text": [
      "Train loss: 1.7978, Train acc: 0.2315, Time: 8s\n",
      "Valid loss: 2.1529, Valid acc: 0.2593, Valid F1: 0.0689\n",
      "\n",
      "Epoch 7/50\n",
      "----------\n"
     ]
    },
    {
     "data": {
      "application/vnd.jupyter.widget-view+json": {
       "model_id": "bc6fb78c78b948569bce2cf682ff5b4a",
       "version_major": 2,
       "version_minor": 0
      },
      "text/plain": [
       "  0%|          | 0/27 [00:00<?, ?it/s]"
      ]
     },
     "metadata": {},
     "output_type": "display_data"
    },
    {
     "name": "stdout",
     "output_type": "stream",
     "text": [
      "Train loss: 1.8113, Train acc: 0.2870, Time: 8s\n",
      "Valid loss: 2.0910, Valid acc: 0.3333, Valid F1: 0.0643\n",
      "\n",
      "Epoch 8/50\n",
      "----------\n"
     ]
    },
    {
     "data": {
      "application/vnd.jupyter.widget-view+json": {
       "model_id": "7f3d4e2c65b246cf8f25f67ec9ebfab1",
       "version_major": 2,
       "version_minor": 0
      },
      "text/plain": [
       "  0%|          | 0/27 [00:00<?, ?it/s]"
      ]
     },
     "metadata": {},
     "output_type": "display_data"
    },
    {
     "name": "stdout",
     "output_type": "stream",
     "text": [
      "Train loss: 1.7863, Train acc: 0.3056, Time: 7s\n",
      "Valid loss: 2.1501, Valid acc: 0.3519, Valid F1: 0.1038\n",
      "\n",
      "Epoch 9/50\n",
      "----------\n"
     ]
    },
    {
     "data": {
      "application/vnd.jupyter.widget-view+json": {
       "model_id": "f83711a826654d0bbce69fb6293fbf9f",
       "version_major": 2,
       "version_minor": 0
      },
      "text/plain": [
       "  0%|          | 0/27 [00:00<?, ?it/s]"
      ]
     },
     "metadata": {},
     "output_type": "display_data"
    },
    {
     "name": "stdout",
     "output_type": "stream",
     "text": [
      "Train loss: 1.7456, Train acc: 0.2963, Time: 8s\n",
      "Valid loss: 2.2496, Valid acc: 0.2778, Valid F1: 0.0870\n",
      "\n",
      "Epoch 10/50\n",
      "----------\n"
     ]
    },
    {
     "data": {
      "application/vnd.jupyter.widget-view+json": {
       "model_id": "cbf00fc4e9e540a48fbabf394dfe3551",
       "version_major": 2,
       "version_minor": 0
      },
      "text/plain": [
       "  0%|          | 0/27 [00:00<?, ?it/s]"
      ]
     },
     "metadata": {},
     "output_type": "display_data"
    },
    {
     "name": "stdout",
     "output_type": "stream",
     "text": [
      "Train loss: 1.8055, Train acc: 0.2870, Time: 7s\n",
      "Valid loss: 2.4828, Valid acc: 0.2037, Valid F1: 0.0872\n",
      "\n",
      "Epoch 11/50\n",
      "----------\n"
     ]
    },
    {
     "data": {
      "application/vnd.jupyter.widget-view+json": {
       "model_id": "bc5f956f3bed4a42a31cb4537f3cbbd1",
       "version_major": 2,
       "version_minor": 0
      },
      "text/plain": [
       "  0%|          | 0/27 [00:00<?, ?it/s]"
      ]
     },
     "metadata": {},
     "output_type": "display_data"
    },
    {
     "name": "stdout",
     "output_type": "stream",
     "text": [
      "Train loss: 1.8349, Train acc: 0.3148, Time: 8s\n",
      "Valid loss: 2.4173, Valid acc: 0.2593, Valid F1: 0.1287\n",
      "\n",
      "Epoch 12/50\n",
      "----------\n"
     ]
    },
    {
     "data": {
      "application/vnd.jupyter.widget-view+json": {
       "model_id": "f9228dd5fb2d477d8005ef6becf7d933",
       "version_major": 2,
       "version_minor": 0
      },
      "text/plain": [
       "  0%|          | 0/27 [00:00<?, ?it/s]"
      ]
     },
     "metadata": {},
     "output_type": "display_data"
    },
    {
     "name": "stdout",
     "output_type": "stream",
     "text": [
      "Train loss: 1.7861, Train acc: 0.3148, Time: 8s\n",
      "Valid loss: 2.3802, Valid acc: 0.2778, Valid F1: 0.0560\n",
      "\n",
      "Epoch 13/50\n",
      "----------\n"
     ]
    },
    {
     "data": {
      "application/vnd.jupyter.widget-view+json": {
       "model_id": "9709c85b3a004dcd861844af970307a2",
       "version_major": 2,
       "version_minor": 0
      },
      "text/plain": [
       "  0%|          | 0/27 [00:00<?, ?it/s]"
      ]
     },
     "metadata": {},
     "output_type": "display_data"
    },
    {
     "name": "stdout",
     "output_type": "stream",
     "text": [
      "Train loss: 1.6948, Train acc: 0.3148, Time: 8s\n",
      "Valid loss: 2.5189, Valid acc: 0.2222, Valid F1: 0.1036\n",
      "\n",
      "Epoch 14/50\n",
      "----------\n"
     ]
    },
    {
     "data": {
      "application/vnd.jupyter.widget-view+json": {
       "model_id": "21bd03779e5445328ab7660ff7b34d05",
       "version_major": 2,
       "version_minor": 0
      },
      "text/plain": [
       "  0%|          | 0/27 [00:00<?, ?it/s]"
      ]
     },
     "metadata": {},
     "output_type": "display_data"
    },
    {
     "name": "stdout",
     "output_type": "stream",
     "text": [
      "Train loss: 1.7217, Train acc: 0.3333, Time: 7s\n",
      "Valid loss: 2.2595, Valid acc: 0.3704, Valid F1: 0.1301\n",
      "\n",
      "Epoch 15/50\n",
      "----------\n"
     ]
    },
    {
     "data": {
      "application/vnd.jupyter.widget-view+json": {
       "model_id": "fe6d2aa9b56343a89886b7b3efadd75c",
       "version_major": 2,
       "version_minor": 0
      },
      "text/plain": [
       "  0%|          | 0/27 [00:00<?, ?it/s]"
      ]
     },
     "metadata": {},
     "output_type": "display_data"
    },
    {
     "name": "stdout",
     "output_type": "stream",
     "text": [
      "Train loss: 1.6795, Train acc: 0.3426, Time: 8s\n",
      "Valid loss: 2.4494, Valid acc: 0.2963, Valid F1: 0.1166\n",
      "\n",
      "Epoch 16/50\n",
      "----------\n"
     ]
    },
    {
     "data": {
      "application/vnd.jupyter.widget-view+json": {
       "model_id": "330e5c9c91b44ba493b28d9137fdae5e",
       "version_major": 2,
       "version_minor": 0
      },
      "text/plain": [
       "  0%|          | 0/27 [00:00<?, ?it/s]"
      ]
     },
     "metadata": {},
     "output_type": "display_data"
    },
    {
     "name": "stdout",
     "output_type": "stream",
     "text": [
      "Train loss: 1.6621, Train acc: 0.3704, Time: 7s\n",
      "Valid loss: 2.4569, Valid acc: 0.3519, Valid F1: 0.1298\n",
      "\n",
      "Epoch 17/50\n",
      "----------\n"
     ]
    },
    {
     "data": {
      "application/vnd.jupyter.widget-view+json": {
       "model_id": "08329e3a2bfb4bf28e7f20319e1b9985",
       "version_major": 2,
       "version_minor": 0
      },
      "text/plain": [
       "  0%|          | 0/27 [00:00<?, ?it/s]"
      ]
     },
     "metadata": {},
     "output_type": "display_data"
    },
    {
     "name": "stdout",
     "output_type": "stream",
     "text": [
      "Train loss: 1.6227, Train acc: 0.3981, Time: 7s\n",
      "Valid loss: 2.3417, Valid acc: 0.2963, Valid F1: 0.1415\n",
      "\n",
      "Epoch 18/50\n",
      "----------\n"
     ]
    },
    {
     "data": {
      "application/vnd.jupyter.widget-view+json": {
       "model_id": "8d644958f81a418f87ef77624fabe580",
       "version_major": 2,
       "version_minor": 0
      },
      "text/plain": [
       "  0%|          | 0/27 [00:00<?, ?it/s]"
      ]
     },
     "metadata": {},
     "output_type": "display_data"
    },
    {
     "name": "stdout",
     "output_type": "stream",
     "text": [
      "Train loss: 1.6262, Train acc: 0.3704, Time: 7s\n",
      "Valid loss: 2.3238, Valid acc: 0.3148, Valid F1: 0.1330\n",
      "\n",
      "Epoch 19/50\n",
      "----------\n"
     ]
    },
    {
     "data": {
      "application/vnd.jupyter.widget-view+json": {
       "model_id": "6f6cc3828e5749d7aeac1b3ef9de06de",
       "version_major": 2,
       "version_minor": 0
      },
      "text/plain": [
       "  0%|          | 0/27 [00:00<?, ?it/s]"
      ]
     },
     "metadata": {},
     "output_type": "display_data"
    },
    {
     "name": "stdout",
     "output_type": "stream",
     "text": [
      "Train loss: 1.5625, Train acc: 0.3241, Time: 7s\n",
      "Valid loss: 2.3028, Valid acc: 0.3333, Valid F1: 0.1504\n",
      "\n",
      "Epoch 20/50\n",
      "----------\n"
     ]
    },
    {
     "data": {
      "application/vnd.jupyter.widget-view+json": {
       "model_id": "76f496e89dbc49f4b05f864e7bd1110f",
       "version_major": 2,
       "version_minor": 0
      },
      "text/plain": [
       "  0%|          | 0/27 [00:00<?, ?it/s]"
      ]
     },
     "metadata": {},
     "output_type": "display_data"
    },
    {
     "name": "stdout",
     "output_type": "stream",
     "text": [
      "Train loss: 1.5417, Train acc: 0.3611, Time: 7s\n",
      "Valid loss: 2.2421, Valid acc: 0.4074, Valid F1: 0.2041\n",
      "\n",
      "Epoch 21/50\n",
      "----------\n"
     ]
    },
    {
     "data": {
      "application/vnd.jupyter.widget-view+json": {
       "model_id": "fdf22ba54de1417483fc7befd5823b51",
       "version_major": 2,
       "version_minor": 0
      },
      "text/plain": [
       "  0%|          | 0/27 [00:00<?, ?it/s]"
      ]
     },
     "metadata": {},
     "output_type": "display_data"
    },
    {
     "name": "stdout",
     "output_type": "stream",
     "text": [
      "Train loss: 1.5748, Train acc: 0.4259, Time: 7s\n",
      "Valid loss: 2.3810, Valid acc: 0.3519, Valid F1: 0.1160\n",
      "\n",
      "Epoch 22/50\n",
      "----------\n"
     ]
    },
    {
     "data": {
      "application/vnd.jupyter.widget-view+json": {
       "model_id": "c5e88b74b0fa425495b66d4308e0dbb9",
       "version_major": 2,
       "version_minor": 0
      },
      "text/plain": [
       "  0%|          | 0/27 [00:00<?, ?it/s]"
      ]
     },
     "metadata": {},
     "output_type": "display_data"
    },
    {
     "name": "stdout",
     "output_type": "stream",
     "text": [
      "Train loss: 1.5782, Train acc: 0.3704, Time: 7s\n",
      "Valid loss: 2.6252, Valid acc: 0.2222, Valid F1: 0.0891\n",
      "\n",
      "Epoch 23/50\n",
      "----------\n"
     ]
    },
    {
     "data": {
      "application/vnd.jupyter.widget-view+json": {
       "model_id": "9a9de31634c245de8b6cebf0c29d477d",
       "version_major": 2,
       "version_minor": 0
      },
      "text/plain": [
       "  0%|          | 0/27 [00:00<?, ?it/s]"
      ]
     },
     "metadata": {},
     "output_type": "display_data"
    },
    {
     "name": "stdout",
     "output_type": "stream",
     "text": [
      "Train loss: 1.5934, Train acc: 0.3889, Time: 7s\n",
      "Valid loss: 2.3496, Valid acc: 0.3704, Valid F1: 0.1162\n",
      "\n",
      "Epoch 24/50\n",
      "----------\n"
     ]
    },
    {
     "data": {
      "application/vnd.jupyter.widget-view+json": {
       "model_id": "5ca009c501254c619b86e2ce0a17e595",
       "version_major": 2,
       "version_minor": 0
      },
      "text/plain": [
       "  0%|          | 0/27 [00:00<?, ?it/s]"
      ]
     },
     "metadata": {},
     "output_type": "display_data"
    },
    {
     "name": "stdout",
     "output_type": "stream",
     "text": [
      "Train loss: 1.6711, Train acc: 0.3148, Time: 7s\n",
      "Valid loss: 2.5575, Valid acc: 0.2407, Valid F1: 0.1351\n",
      "\n",
      "Epoch 25/50\n",
      "----------\n"
     ]
    },
    {
     "data": {
      "application/vnd.jupyter.widget-view+json": {
       "model_id": "943d9c11fde94b3eb40f3ad6778d5b27",
       "version_major": 2,
       "version_minor": 0
      },
      "text/plain": [
       "  0%|          | 0/27 [00:00<?, ?it/s]"
      ]
     },
     "metadata": {},
     "output_type": "display_data"
    },
    {
     "name": "stdout",
     "output_type": "stream",
     "text": [
      "Train loss: 1.6608, Train acc: 0.3704, Time: 7s\n",
      "Valid loss: 2.3906, Valid acc: 0.2593, Valid F1: 0.1237\n",
      "\n",
      "Epoch 26/50\n",
      "----------\n"
     ]
    },
    {
     "data": {
      "application/vnd.jupyter.widget-view+json": {
       "model_id": "7e42487b028c48f989bdd17272e1738f",
       "version_major": 2,
       "version_minor": 0
      },
      "text/plain": [
       "  0%|          | 0/27 [00:00<?, ?it/s]"
      ]
     },
     "metadata": {},
     "output_type": "display_data"
    },
    {
     "name": "stdout",
     "output_type": "stream",
     "text": [
      "Train loss: 1.6830, Train acc: 0.3519, Time: 8s\n",
      "Valid loss: 2.5618, Valid acc: 0.3333, Valid F1: 0.1218\n",
      "\n",
      "Epoch 27/50\n",
      "----------\n"
     ]
    },
    {
     "data": {
      "application/vnd.jupyter.widget-view+json": {
       "model_id": "28e527a5ca59453985f43e5019821a69",
       "version_major": 2,
       "version_minor": 0
      },
      "text/plain": [
       "  0%|          | 0/27 [00:00<?, ?it/s]"
      ]
     },
     "metadata": {},
     "output_type": "display_data"
    },
    {
     "name": "stdout",
     "output_type": "stream",
     "text": [
      "Train loss: 1.6215, Train acc: 0.3426, Time: 7s\n",
      "Valid loss: 2.2495, Valid acc: 0.3333, Valid F1: 0.1245\n",
      "\n",
      "Epoch 28/50\n",
      "----------\n"
     ]
    },
    {
     "data": {
      "application/vnd.jupyter.widget-view+json": {
       "model_id": "0f6c1358e271477dae5f1e54df0e2869",
       "version_major": 2,
       "version_minor": 0
      },
      "text/plain": [
       "  0%|          | 0/27 [00:00<?, ?it/s]"
      ]
     },
     "metadata": {},
     "output_type": "display_data"
    },
    {
     "name": "stdout",
     "output_type": "stream",
     "text": [
      "Train loss: 1.5811, Train acc: 0.3426, Time: 7s\n",
      "Valid loss: 2.2612, Valid acc: 0.3333, Valid F1: 0.1312\n",
      "\n",
      "Epoch 29/50\n",
      "----------\n"
     ]
    },
    {
     "data": {
      "application/vnd.jupyter.widget-view+json": {
       "model_id": "1422deaaf2994b6fbc0b27a12d395cf9",
       "version_major": 2,
       "version_minor": 0
      },
      "text/plain": [
       "  0%|          | 0/27 [00:00<?, ?it/s]"
      ]
     },
     "metadata": {},
     "output_type": "display_data"
    },
    {
     "name": "stdout",
     "output_type": "stream",
     "text": [
      "Train loss: 1.4457, Train acc: 0.4444, Time: 8s\n",
      "Valid loss: 2.4437, Valid acc: 0.3333, Valid F1: 0.1716\n",
      "\n",
      "Epoch 30/50\n",
      "----------\n"
     ]
    },
    {
     "data": {
      "application/vnd.jupyter.widget-view+json": {
       "model_id": "88a3949fd89945a99d6192152dc533a8",
       "version_major": 2,
       "version_minor": 0
      },
      "text/plain": [
       "  0%|          | 0/27 [00:00<?, ?it/s]"
      ]
     },
     "metadata": {},
     "output_type": "display_data"
    },
    {
     "name": "stdout",
     "output_type": "stream",
     "text": [
      "Train loss: 1.5366, Train acc: 0.4074, Time: 8s\n",
      "Valid loss: 2.4638, Valid acc: 0.3333, Valid F1: 0.1506\n",
      "\n",
      "Epoch 31/50\n",
      "----------\n"
     ]
    },
    {
     "data": {
      "application/vnd.jupyter.widget-view+json": {
       "model_id": "1890a3c9cf03493f9d9a3e942fb9b5df",
       "version_major": 2,
       "version_minor": 0
      },
      "text/plain": [
       "  0%|          | 0/27 [00:00<?, ?it/s]"
      ]
     },
     "metadata": {},
     "output_type": "display_data"
    },
    {
     "name": "stdout",
     "output_type": "stream",
     "text": [
      "Train loss: 1.5256, Train acc: 0.4259, Time: 7s\n",
      "Valid loss: 2.8510, Valid acc: 0.2778, Valid F1: 0.1537\n",
      "\n",
      "Epoch 32/50\n",
      "----------\n"
     ]
    },
    {
     "data": {
      "application/vnd.jupyter.widget-view+json": {
       "model_id": "fb3f26e75e174c7990eb5f43a8d3875d",
       "version_major": 2,
       "version_minor": 0
      },
      "text/plain": [
       "  0%|          | 0/27 [00:00<?, ?it/s]"
      ]
     },
     "metadata": {},
     "output_type": "display_data"
    },
    {
     "name": "stdout",
     "output_type": "stream",
     "text": [
      "Train loss: 1.5571, Train acc: 0.4074, Time: 8s\n",
      "Valid loss: 2.3075, Valid acc: 0.2963, Valid F1: 0.0976\n",
      "\n",
      "Epoch 33/50\n",
      "----------\n"
     ]
    },
    {
     "data": {
      "application/vnd.jupyter.widget-view+json": {
       "model_id": "6ede9682cf86451dab07d0040e9fdd3f",
       "version_major": 2,
       "version_minor": 0
      },
      "text/plain": [
       "  0%|          | 0/27 [00:00<?, ?it/s]"
      ]
     },
     "metadata": {},
     "output_type": "display_data"
    },
    {
     "name": "stdout",
     "output_type": "stream",
     "text": [
      "Train loss: 1.4300, Train acc: 0.4444, Time: 8s\n",
      "Valid loss: 2.3655, Valid acc: 0.3704, Valid F1: 0.1294\n",
      "\n",
      "Epoch 34/50\n",
      "----------\n"
     ]
    },
    {
     "data": {
      "application/vnd.jupyter.widget-view+json": {
       "model_id": "ce49ab8059b94802902d193a6a59d9ec",
       "version_major": 2,
       "version_minor": 0
      },
      "text/plain": [
       "  0%|          | 0/27 [00:00<?, ?it/s]"
      ]
     },
     "metadata": {},
     "output_type": "display_data"
    },
    {
     "name": "stdout",
     "output_type": "stream",
     "text": [
      "Train loss: 1.4512, Train acc: 0.4259, Time: 7s\n",
      "Valid loss: 2.4280, Valid acc: 0.3519, Valid F1: 0.1338\n",
      "\n",
      "Epoch 35/50\n",
      "----------\n"
     ]
    },
    {
     "data": {
      "application/vnd.jupyter.widget-view+json": {
       "model_id": "b5b37cf58ece4de0ae72d93712dbfec8",
       "version_major": 2,
       "version_minor": 0
      },
      "text/plain": [
       "  0%|          | 0/27 [00:00<?, ?it/s]"
      ]
     },
     "metadata": {},
     "output_type": "display_data"
    },
    {
     "name": "stdout",
     "output_type": "stream",
     "text": [
      "Train loss: 1.4191, Train acc: 0.3981, Time: 8s\n",
      "Valid loss: 2.5386, Valid acc: 0.3148, Valid F1: 0.1649\n",
      "\n",
      "Epoch 36/50\n",
      "----------\n"
     ]
    },
    {
     "data": {
      "application/vnd.jupyter.widget-view+json": {
       "model_id": "524e80f3784b4699af7a1c1910e84952",
       "version_major": 2,
       "version_minor": 0
      },
      "text/plain": [
       "  0%|          | 0/27 [00:00<?, ?it/s]"
      ]
     },
     "metadata": {},
     "output_type": "display_data"
    },
    {
     "name": "stdout",
     "output_type": "stream",
     "text": [
      "Train loss: 1.4374, Train acc: 0.3981, Time: 7s\n",
      "Valid loss: 2.3274, Valid acc: 0.3333, Valid F1: 0.1515\n",
      "\n",
      "Epoch 37/50\n",
      "----------\n"
     ]
    },
    {
     "data": {
      "application/vnd.jupyter.widget-view+json": {
       "model_id": "0a18f53d033e4e6c8546a4c75c6f5ae9",
       "version_major": 2,
       "version_minor": 0
      },
      "text/plain": [
       "  0%|          | 0/27 [00:00<?, ?it/s]"
      ]
     },
     "metadata": {},
     "output_type": "display_data"
    },
    {
     "name": "stdout",
     "output_type": "stream",
     "text": [
      "Train loss: 1.3743, Train acc: 0.4444, Time: 7s\n",
      "Valid loss: 2.7097, Valid acc: 0.2778, Valid F1: 0.1153\n",
      "\n",
      "Epoch 38/50\n",
      "----------\n"
     ]
    },
    {
     "data": {
      "application/vnd.jupyter.widget-view+json": {
       "model_id": "6bba103d1e1e429d98ed0c606e664536",
       "version_major": 2,
       "version_minor": 0
      },
      "text/plain": [
       "  0%|          | 0/27 [00:00<?, ?it/s]"
      ]
     },
     "metadata": {},
     "output_type": "display_data"
    },
    {
     "name": "stdout",
     "output_type": "stream",
     "text": [
      "Train loss: 1.3400, Train acc: 0.4722, Time: 7s\n",
      "Valid loss: 2.6354, Valid acc: 0.3704, Valid F1: 0.1436\n",
      "\n",
      "Epoch 39/50\n",
      "----------\n"
     ]
    },
    {
     "data": {
      "application/vnd.jupyter.widget-view+json": {
       "model_id": "d581224da03a40ba9730292fd535f36a",
       "version_major": 2,
       "version_minor": 0
      },
      "text/plain": [
       "  0%|          | 0/27 [00:00<?, ?it/s]"
      ]
     },
     "metadata": {},
     "output_type": "display_data"
    },
    {
     "name": "stdout",
     "output_type": "stream",
     "text": [
      "Train loss: 1.3633, Train acc: 0.4537, Time: 7s\n",
      "Valid loss: 2.4729, Valid acc: 0.3519, Valid F1: 0.1369\n",
      "\n",
      "Epoch 40/50\n",
      "----------\n"
     ]
    },
    {
     "data": {
      "application/vnd.jupyter.widget-view+json": {
       "model_id": "b4a0b64a3b0246d2a5cb9c9fd28527cc",
       "version_major": 2,
       "version_minor": 0
      },
      "text/plain": [
       "  0%|          | 0/27 [00:00<?, ?it/s]"
      ]
     },
     "metadata": {},
     "output_type": "display_data"
    },
    {
     "name": "stdout",
     "output_type": "stream",
     "text": [
      "Train loss: 1.3697, Train acc: 0.4074, Time: 7s\n",
      "Valid loss: 2.6684, Valid acc: 0.2593, Valid F1: 0.0763\n",
      "\n",
      "Epoch 41/50\n",
      "----------\n"
     ]
    },
    {
     "data": {
      "application/vnd.jupyter.widget-view+json": {
       "model_id": "819e4d56d54a4d8dad9d6b1b3b4f8621",
       "version_major": 2,
       "version_minor": 0
      },
      "text/plain": [
       "  0%|          | 0/27 [00:00<?, ?it/s]"
      ]
     },
     "metadata": {},
     "output_type": "display_data"
    },
    {
     "name": "stdout",
     "output_type": "stream",
     "text": [
      "Train loss: 1.4457, Train acc: 0.4352, Time: 7s\n",
      "Valid loss: 2.7710, Valid acc: 0.3889, Valid F1: 0.1168\n",
      "\n",
      "Epoch 42/50\n",
      "----------\n"
     ]
    },
    {
     "data": {
      "application/vnd.jupyter.widget-view+json": {
       "model_id": "a413754cd43d41558d4da7770e1c8bfa",
       "version_major": 2,
       "version_minor": 0
      },
      "text/plain": [
       "  0%|          | 0/27 [00:00<?, ?it/s]"
      ]
     },
     "metadata": {},
     "output_type": "display_data"
    },
    {
     "name": "stdout",
     "output_type": "stream",
     "text": [
      "Train loss: 1.4088, Train acc: 0.4352, Time: 7s\n",
      "Valid loss: 2.5826, Valid acc: 0.2963, Valid F1: 0.1247\n",
      "\n",
      "Epoch 43/50\n",
      "----------\n"
     ]
    },
    {
     "data": {
      "application/vnd.jupyter.widget-view+json": {
       "model_id": "fdb9415ac2f645458e67a6b5054a3b91",
       "version_major": 2,
       "version_minor": 0
      },
      "text/plain": [
       "  0%|          | 0/27 [00:00<?, ?it/s]"
      ]
     },
     "metadata": {},
     "output_type": "display_data"
    },
    {
     "name": "stdout",
     "output_type": "stream",
     "text": [
      "Train loss: 1.3843, Train acc: 0.4722, Time: 7s\n",
      "Valid loss: 2.5141, Valid acc: 0.3148, Valid F1: 0.1475\n",
      "\n",
      "Epoch 44/50\n",
      "----------\n"
     ]
    },
    {
     "data": {
      "application/vnd.jupyter.widget-view+json": {
       "model_id": "c8cc98ac9da4450ab23d29db7f920d0a",
       "version_major": 2,
       "version_minor": 0
      },
      "text/plain": [
       "  0%|          | 0/27 [00:00<?, ?it/s]"
      ]
     },
     "metadata": {},
     "output_type": "display_data"
    },
    {
     "name": "stdout",
     "output_type": "stream",
     "text": [
      "Train loss: 1.3097, Train acc: 0.4352, Time: 7s\n",
      "Valid loss: 2.6794, Valid acc: 0.2963, Valid F1: 0.1044\n",
      "\n",
      "Epoch 45/50\n",
      "----------\n"
     ]
    },
    {
     "data": {
      "application/vnd.jupyter.widget-view+json": {
       "model_id": "19acdc71773a4974b3896f2bc51ec4b3",
       "version_major": 2,
       "version_minor": 0
      },
      "text/plain": [
       "  0%|          | 0/27 [00:00<?, ?it/s]"
      ]
     },
     "metadata": {},
     "output_type": "display_data"
    },
    {
     "name": "stdout",
     "output_type": "stream",
     "text": [
      "Train loss: 1.2967, Train acc: 0.4815, Time: 7s\n",
      "Valid loss: 2.6537, Valid acc: 0.3519, Valid F1: 0.1098\n",
      "\n",
      "Epoch 46/50\n",
      "----------\n"
     ]
    },
    {
     "data": {
      "application/vnd.jupyter.widget-view+json": {
       "model_id": "e182b1968e8c4f48b297fbe46298743b",
       "version_major": 2,
       "version_minor": 0
      },
      "text/plain": [
       "  0%|          | 0/27 [00:00<?, ?it/s]"
      ]
     },
     "metadata": {},
     "output_type": "display_data"
    },
    {
     "name": "stdout",
     "output_type": "stream",
     "text": [
      "Train loss: 1.3026, Train acc: 0.4907, Time: 7s\n",
      "Valid loss: 2.7738, Valid acc: 0.3333, Valid F1: 0.1130\n",
      "\n",
      "Epoch 47/50\n",
      "----------\n"
     ]
    },
    {
     "data": {
      "application/vnd.jupyter.widget-view+json": {
       "model_id": "06efbcfc641c4331acb5aeaa9e3c2c49",
       "version_major": 2,
       "version_minor": 0
      },
      "text/plain": [
       "  0%|          | 0/27 [00:00<?, ?it/s]"
      ]
     },
     "metadata": {},
     "output_type": "display_data"
    },
    {
     "name": "stdout",
     "output_type": "stream",
     "text": [
      "Train loss: 1.1915, Train acc: 0.5556, Time: 7s\n",
      "Valid loss: 2.7126, Valid acc: 0.3704, Valid F1: 0.1455\n",
      "\n",
      "Epoch 48/50\n",
      "----------\n"
     ]
    },
    {
     "data": {
      "application/vnd.jupyter.widget-view+json": {
       "model_id": "edbbd71743e14b42819359d7fbdb2f5e",
       "version_major": 2,
       "version_minor": 0
      },
      "text/plain": [
       "  0%|          | 0/27 [00:00<?, ?it/s]"
      ]
     },
     "metadata": {},
     "output_type": "display_data"
    },
    {
     "name": "stdout",
     "output_type": "stream",
     "text": [
      "Train loss: 1.2600, Train acc: 0.5093, Time: 7s\n",
      "Valid loss: 2.8246, Valid acc: 0.3519, Valid F1: 0.1251\n",
      "\n",
      "Epoch 49/50\n",
      "----------\n"
     ]
    },
    {
     "data": {
      "application/vnd.jupyter.widget-view+json": {
       "model_id": "367616c1a75746f3a7a3e45320cde1ac",
       "version_major": 2,
       "version_minor": 0
      },
      "text/plain": [
       "  0%|          | 0/27 [00:00<?, ?it/s]"
      ]
     },
     "metadata": {},
     "output_type": "display_data"
    },
    {
     "name": "stdout",
     "output_type": "stream",
     "text": [
      "Train loss: 1.3258, Train acc: 0.4630, Time: 7s\n",
      "Valid loss: 2.8216, Valid acc: 0.3889, Valid F1: 0.1181\n",
      "\n",
      "Epoch 50/50\n",
      "----------\n"
     ]
    },
    {
     "data": {
      "application/vnd.jupyter.widget-view+json": {
       "model_id": "72c5d7e6df484b789f1716964352dd89",
       "version_major": 2,
       "version_minor": 0
      },
      "text/plain": [
       "  0%|          | 0/27 [00:00<?, ?it/s]"
      ]
     },
     "metadata": {},
     "output_type": "display_data"
    },
    {
     "name": "stdout",
     "output_type": "stream",
     "text": [
      "Train loss: 1.3051, Train acc: 0.4352, Time: 7s\n",
      "Valid loss: 2.5278, Valid acc: 0.3148, Valid F1: 0.1187\n",
      "\n",
      "Training complete\n",
      "Best ACC: 0.4074 at epoch 19\n",
      "Best F1: 0.2041 at epoch 19\n"
     ]
    }
   ],
   "source": [
    "train_loss, valid_loss, train_acc, valid_acc, valid_f1 = run(train_loader, valid_loader, model,\n",
    "                                                             num_classes_t, epochs=epochs,\n",
    "                                                             save_path=save_path/'t')"
   ]
  },
  {
   "cell_type": "code",
   "execution_count": 31,
   "metadata": {},
   "outputs": [
    {
     "data": {
      "image/png": "[encoded data removed]",
      "text/plain": [
       "<Figure size 640x480 with 1 Axes>"
      ]
     },
     "metadata": {},
     "output_type": "display_data"
    }
   ],
   "source": [
    "plot_loss(train_loss, valid_loss)"
   ]
  },
  {
   "cell_type": "code",
   "execution_count": 32,
   "metadata": {},
   "outputs": [
    {
     "data": {
      "image/png": "[encoded data removed]",
      "text/plain": [
       "<Figure size 640x480 with 1 Axes>"
      ]
     },
     "metadata": {},
     "output_type": "display_data"
    }
   ],
   "source": [
    "plot_metrics(train_acc, valid_acc, valid_f1)"
   ]
  },
  {
   "cell_type": "code",
   "execution_count": 33,
   "metadata": {},
   "outputs": [
    {
     "name": "stdout",
     "output_type": "stream",
     "text": [
      "accuracy: 0.4074074074074074, f1 score: 0.204135101010101\n"
     ]
    }
   ],
   "source": [
    "print(f'accuracy: {max(valid_acc)}, f1 score: {max(valid_f1)}')"
   ]
  },
  {
   "cell_type": "markdown",
   "metadata": {},
   "source": [
    "## N分類モデル"
   ]
  },
  {
   "cell_type": "code",
   "execution_count": 34,
   "metadata": {},
   "outputs": [],
   "source": [
    "batch_size=4\n",
    "epochs=50\n",
    "learning_rate=1e-5\n",
    "momentum=0.9"
   ]
  },
  {
   "cell_type": "code",
   "execution_count": 35,
   "metadata": {},
   "outputs": [],
   "source": [
    "train_data = []\n",
    "valid_data = []\n",
    "for x, y in zip(X_train, Yn_train):\n",
    "    data = [x, y]\n",
    "    train_data.append(data)\n",
    "for x, y in zip(X_valid, Yn_valid):\n",
    "    data = [x, y]\n",
    "    valid_data.append(data)\n",
    "    \n",
    "train_loader, valid_loader = build_data(train_data, valid_data, batch_size=batch_size)"
   ]
  },
  {
   "cell_type": "code",
   "execution_count": 36,
   "metadata": {},
   "outputs": [],
   "source": [
    "config = BertConfig.from_json_file(model_path / 'bert_config.json')\n",
    "bert = BertModel.from_pretrained(model_path / 'UTH_BERT.bin', config=config)\n",
    "model = Net(bert, num_classes_n).to(device)\n",
    "\n",
    "FREEZE=False\n",
    "if FREEZE: \n",
    "    idx=1 #Any\n",
    "    for name, param in model.named_parameters(): \n",
    "        param.requires_grad = False \n",
    "    for name, param in list(model.named_parameters())[idx:]: \n",
    "        param.requires_grad = True \n",
    "#     optimizer = optim.SGD([{'params':list(model.parameters())[idx:], 'lr':learning_rate, 'momentum':momentum}])\n",
    "    optimizer = optim.Adam([{'params':list(model.parameters())[idx:], 'lr':learning_rate}]) \n",
    "    criterion = nn.CrossEntropyLoss()\n",
    "else:  \n",
    "#     optimizer = optim.SGD(model.parameters(), lr=learning_rate, momentum=momentum)\n",
    "    optimizer = optim.Adam(model.parameters(), lr=learning_rate)\n",
    "    criterion = nn.CrossEntropyLoss()\n",
    "\n",
    "scheduler = StepLR(optimizer, step_size=3, gamma=0.1)"
   ]
  },
  {
   "cell_type": "code",
   "execution_count": 37,
   "metadata": {},
   "outputs": [
    {
     "name": "stdout",
     "output_type": "stream",
     "text": [
      "\n",
      "Epoch 1/50\n",
      "----------\n"
     ]
    },
    {
     "data": {
      "application/vnd.jupyter.widget-view+json": {
       "model_id": "d60e7c03c80e471a9b099bdd05a33f8c",
       "version_major": 2,
       "version_minor": 0
      },
      "text/plain": [
       "  0%|          | 0/27 [00:00<?, ?it/s]"
      ]
     },
     "metadata": {},
     "output_type": "display_data"
    },
    {
     "name": "stdout",
     "output_type": "stream",
     "text": [
      "Train loss: 1.2446, Train acc: 0.4815, Time: 8s\n",
      "Valid loss: 1.2453, Valid acc: 0.3519, Valid F1: 0.1301\n",
      "\n",
      "Epoch 2/50\n",
      "----------\n"
     ]
    },
    {
     "data": {
      "application/vnd.jupyter.widget-view+json": {
       "model_id": "f5a5e0ce8f9d4cb4ad226d49b85309a5",
       "version_major": 2,
       "version_minor": 0
      },
      "text/plain": [
       "  0%|          | 0/27 [00:00<?, ?it/s]"
      ]
     },
     "metadata": {},
     "output_type": "display_data"
    },
    {
     "name": "stdout",
     "output_type": "stream",
     "text": [
      "Train loss: 1.1701, Train acc: 0.3611, Time: 7s\n",
      "Valid loss: 1.2111, Valid acc: 0.5741, Valid F1: 0.3081\n",
      "\n",
      "Epoch 3/50\n",
      "----------\n"
     ]
    },
    {
     "data": {
      "application/vnd.jupyter.widget-view+json": {
       "model_id": "ad8502b3e2e74522a35b800a927294a7",
       "version_major": 2,
       "version_minor": 0
      },
      "text/plain": [
       "  0%|          | 0/27 [00:00<?, ?it/s]"
      ]
     },
     "metadata": {},
     "output_type": "display_data"
    },
    {
     "name": "stdout",
     "output_type": "stream",
     "text": [
      "Train loss: 1.1732, Train acc: 0.4537, Time: 7s\n",
      "Valid loss: 1.2480, Valid acc: 0.4815, Valid F1: 0.2597\n",
      "\n",
      "Epoch 4/50\n",
      "----------\n"
     ]
    },
    {
     "data": {
      "application/vnd.jupyter.widget-view+json": {
       "model_id": "a1c0a76cdf164e22b5abe3f6ded53663",
       "version_major": 2,
       "version_minor": 0
      },
      "text/plain": [
       "  0%|          | 0/27 [00:00<?, ?it/s]"
      ]
     },
     "metadata": {},
     "output_type": "display_data"
    },
    {
     "name": "stdout",
     "output_type": "stream",
     "text": [
      "Train loss: 1.1911, Train acc: 0.3796, Time: 8s\n",
      "Valid loss: 1.1840, Valid acc: 0.5000, Valid F1: 0.2538\n",
      "\n",
      "Epoch 5/50\n",
      "----------\n"
     ]
    },
    {
     "data": {
      "application/vnd.jupyter.widget-view+json": {
       "model_id": "4eb9df7ec8794013957957a26ff0022f",
       "version_major": 2,
       "version_minor": 0
      },
      "text/plain": [
       "  0%|          | 0/27 [00:00<?, ?it/s]"
      ]
     },
     "metadata": {},
     "output_type": "display_data"
    },
    {
     "name": "stdout",
     "output_type": "stream",
     "text": [
      "Train loss: 1.1774, Train acc: 0.4630, Time: 7s\n",
      "Valid loss: 1.1160, Valid acc: 0.5556, Valid F1: 0.2875\n",
      "\n",
      "Epoch 6/50\n",
      "----------\n"
     ]
    },
    {
     "data": {
      "application/vnd.jupyter.widget-view+json": {
       "model_id": "585ef4271ef14f3998aabec494cd18c8",
       "version_major": 2,
       "version_minor": 0
      },
      "text/plain": [
       "  0%|          | 0/27 [00:00<?, ?it/s]"
      ]
     },
     "metadata": {},
     "output_type": "display_data"
    },
    {
     "name": "stdout",
     "output_type": "stream",
     "text": [
      "Train loss: 1.1987, Train acc: 0.4722, Time: 7s\n",
      "Valid loss: 1.0718, Valid acc: 0.6111, Valid F1: 0.3250\n",
      "\n",
      "Epoch 7/50\n",
      "----------\n"
     ]
    },
    {
     "data": {
      "application/vnd.jupyter.widget-view+json": {
       "model_id": "e87d174240aa41f4b8d8760432c5f6b4",
       "version_major": 2,
       "version_minor": 0
      },
      "text/plain": [
       "  0%|          | 0/27 [00:00<?, ?it/s]"
      ]
     },
     "metadata": {},
     "output_type": "display_data"
    },
    {
     "name": "stdout",
     "output_type": "stream",
     "text": [
      "Train loss: 1.1879, Train acc: 0.4537, Time: 7s\n",
      "Valid loss: 1.1469, Valid acc: 0.3704, Valid F1: 0.1351\n",
      "\n",
      "Epoch 8/50\n",
      "----------\n"
     ]
    },
    {
     "data": {
      "application/vnd.jupyter.widget-view+json": {
       "model_id": "66813ea6b8744ca7ad0c704407c994f4",
       "version_major": 2,
       "version_minor": 0
      },
      "text/plain": [
       "  0%|          | 0/27 [00:00<?, ?it/s]"
      ]
     },
     "metadata": {},
     "output_type": "display_data"
    },
    {
     "name": "stdout",
     "output_type": "stream",
     "text": [
      "Train loss: 1.2228, Train acc: 0.4444, Time: 7s\n",
      "Valid loss: 1.2665, Valid acc: 0.3704, Valid F1: 0.1351\n",
      "\n",
      "Epoch 9/50\n",
      "----------\n"
     ]
    },
    {
     "data": {
      "application/vnd.jupyter.widget-view+json": {
       "model_id": "09a063a736f84ad995e66d1197d987f6",
       "version_major": 2,
       "version_minor": 0
      },
      "text/plain": [
       "  0%|          | 0/27 [00:00<?, ?it/s]"
      ]
     },
     "metadata": {},
     "output_type": "display_data"
    },
    {
     "name": "stdout",
     "output_type": "stream",
     "text": [
      "Train loss: 1.1908, Train acc: 0.4537, Time: 7s\n",
      "Valid loss: 1.0860, Valid acc: 0.5741, Valid F1: 0.2858\n",
      "\n",
      "Epoch 10/50\n",
      "----------\n"
     ]
    },
    {
     "data": {
      "application/vnd.jupyter.widget-view+json": {
       "model_id": "6dba047a74fb43feb7c795aa5ca06e8f",
       "version_major": 2,
       "version_minor": 0
      },
      "text/plain": [
       "  0%|          | 0/27 [00:00<?, ?it/s]"
      ]
     },
     "metadata": {},
     "output_type": "display_data"
    },
    {
     "name": "stdout",
     "output_type": "stream",
     "text": [
      "Train loss: 1.1934, Train acc: 0.4444, Time: 7s\n",
      "Valid loss: 1.1055, Valid acc: 0.5185, Valid F1: 0.2708\n",
      "\n",
      "Epoch 11/50\n",
      "----------\n"
     ]
    },
    {
     "data": {
      "application/vnd.jupyter.widget-view+json": {
       "model_id": "d99572aecaf74e7c89d76049f308cfdf",
       "version_major": 2,
       "version_minor": 0
      },
      "text/plain": [
       "  0%|          | 0/27 [00:00<?, ?it/s]"
      ]
     },
     "metadata": {},
     "output_type": "display_data"
    },
    {
     "name": "stdout",
     "output_type": "stream",
     "text": [
      "Train loss: 1.1850, Train acc: 0.4259, Time: 7s\n",
      "Valid loss: 1.1302, Valid acc: 0.3333, Valid F1: 0.1596\n",
      "\n",
      "Epoch 12/50\n",
      "----------\n"
     ]
    },
    {
     "data": {
      "application/vnd.jupyter.widget-view+json": {
       "model_id": "15bd7cd9ae65428695f4ec7dc36b8ce8",
       "version_major": 2,
       "version_minor": 0
      },
      "text/plain": [
       "  0%|          | 0/27 [00:00<?, ?it/s]"
      ]
     },
     "metadata": {},
     "output_type": "display_data"
    },
    {
     "name": "stdout",
     "output_type": "stream",
     "text": [
      "Train loss: 1.1582, Train acc: 0.4815, Time: 7s\n",
      "Valid loss: 1.1383, Valid acc: 0.5741, Valid F1: 0.3000\n",
      "\n",
      "Epoch 13/50\n",
      "----------\n"
     ]
    },
    {
     "data": {
      "application/vnd.jupyter.widget-view+json": {
       "model_id": "25d877ba974b448cb3e5805ba794e7a6",
       "version_major": 2,
       "version_minor": 0
      },
      "text/plain": [
       "  0%|          | 0/27 [00:00<?, ?it/s]"
      ]
     },
     "metadata": {},
     "output_type": "display_data"
    },
    {
     "name": "stdout",
     "output_type": "stream",
     "text": [
      "Train loss: 1.0901, Train acc: 0.5000, Time: 7s\n",
      "Valid loss: 1.1457, Valid acc: 0.5370, Valid F1: 0.2752\n",
      "\n",
      "Epoch 14/50\n",
      "----------\n"
     ]
    },
    {
     "data": {
      "application/vnd.jupyter.widget-view+json": {
       "model_id": "218ccc9c41ac48c6b7b384cd31186c8d",
       "version_major": 2,
       "version_minor": 0
      },
      "text/plain": [
       "  0%|          | 0/27 [00:00<?, ?it/s]"
      ]
     },
     "metadata": {},
     "output_type": "display_data"
    },
    {
     "name": "stdout",
     "output_type": "stream",
     "text": [
      "Train loss: 1.1360, Train acc: 0.4259, Time: 7s\n",
      "Valid loss: 1.2423, Valid acc: 0.4630, Valid F1: 0.2493\n",
      "\n",
      "Epoch 15/50\n",
      "----------\n"
     ]
    },
    {
     "data": {
      "application/vnd.jupyter.widget-view+json": {
       "model_id": "65b5a6ba280f41bcbccf6949ec7a30b8",
       "version_major": 2,
       "version_minor": 0
      },
      "text/plain": [
       "  0%|          | 0/27 [00:00<?, ?it/s]"
      ]
     },
     "metadata": {},
     "output_type": "display_data"
    },
    {
     "name": "stdout",
     "output_type": "stream",
     "text": [
      "Train loss: 1.1342, Train acc: 0.4537, Time: 7s\n",
      "Valid loss: 1.0537, Valid acc: 0.6296, Valid F1: 0.3275\n",
      "\n",
      "Epoch 16/50\n",
      "----------\n"
     ]
    },
    {
     "data": {
      "application/vnd.jupyter.widget-view+json": {
       "model_id": "b5db3d80d88148a18c27ad7accbf3e6c",
       "version_major": 2,
       "version_minor": 0
      },
      "text/plain": [
       "  0%|          | 0/27 [00:00<?, ?it/s]"
      ]
     },
     "metadata": {},
     "output_type": "display_data"
    },
    {
     "name": "stdout",
     "output_type": "stream",
     "text": [
      "Train loss: 1.0488, Train acc: 0.5093, Time: 7s\n",
      "Valid loss: 1.2350, Valid acc: 0.5556, Valid F1: 0.2987\n",
      "\n",
      "Epoch 17/50\n",
      "----------\n"
     ]
    },
    {
     "data": {
      "application/vnd.jupyter.widget-view+json": {
       "model_id": "94172d2136134d73af59fb79974a21a0",
       "version_major": 2,
       "version_minor": 0
      },
      "text/plain": [
       "  0%|          | 0/27 [00:00<?, ?it/s]"
      ]
     },
     "metadata": {},
     "output_type": "display_data"
    },
    {
     "name": "stdout",
     "output_type": "stream",
     "text": [
      "Train loss: 1.1708, Train acc: 0.4352, Time: 7s\n",
      "Valid loss: 1.3542, Valid acc: 0.4259, Valid F1: 0.2303\n",
      "\n",
      "Epoch 18/50\n",
      "----------\n"
     ]
    },
    {
     "data": {
      "application/vnd.jupyter.widget-view+json": {
       "model_id": "49048e89409c4e09bd9e51e85281f725",
       "version_major": 2,
       "version_minor": 0
      },
      "text/plain": [
       "  0%|          | 0/27 [00:00<?, ?it/s]"
      ]
     },
     "metadata": {},
     "output_type": "display_data"
    },
    {
     "name": "stdout",
     "output_type": "stream",
     "text": [
      "Train loss: 1.2518, Train acc: 0.4630, Time: 8s\n",
      "Valid loss: 1.0458, Valid acc: 0.5185, Valid F1: 0.2845\n",
      "\n",
      "Epoch 19/50\n",
      "----------\n"
     ]
    },
    {
     "data": {
      "application/vnd.jupyter.widget-view+json": {
       "model_id": "248efb9e0d854524b3e02f760b583527",
       "version_major": 2,
       "version_minor": 0
      },
      "text/plain": [
       "  0%|          | 0/27 [00:00<?, ?it/s]"
      ]
     },
     "metadata": {},
     "output_type": "display_data"
    },
    {
     "name": "stdout",
     "output_type": "stream",
     "text": [
      "Train loss: 1.1249, Train acc: 0.4907, Time: 7s\n",
      "Valid loss: 1.0335, Valid acc: 0.5556, Valid F1: 0.2990\n",
      "\n",
      "Epoch 20/50\n",
      "----------\n"
     ]
    },
    {
     "data": {
      "application/vnd.jupyter.widget-view+json": {
       "model_id": "55f9ec07cc0a45a381b30a427ee17cdb",
       "version_major": 2,
       "version_minor": 0
      },
      "text/plain": [
       "  0%|          | 0/27 [00:00<?, ?it/s]"
      ]
     },
     "metadata": {},
     "output_type": "display_data"
    },
    {
     "name": "stdout",
     "output_type": "stream",
     "text": [
      "Train loss: 1.0740, Train acc: 0.4907, Time: 8s\n",
      "Valid loss: 1.2329, Valid acc: 0.3704, Valid F1: 0.1866\n",
      "\n",
      "Epoch 21/50\n",
      "----------\n"
     ]
    },
    {
     "data": {
      "application/vnd.jupyter.widget-view+json": {
       "model_id": "464890105ac543f28ca43e2135e67f29",
       "version_major": 2,
       "version_minor": 0
      },
      "text/plain": [
       "  0%|          | 0/27 [00:00<?, ?it/s]"
      ]
     },
     "metadata": {},
     "output_type": "display_data"
    },
    {
     "name": "stdout",
     "output_type": "stream",
     "text": [
      "Train loss: 1.0885, Train acc: 0.4907, Time: 7s\n",
      "Valid loss: 1.1071, Valid acc: 0.4630, Valid F1: 0.2550\n",
      "\n",
      "Epoch 22/50\n",
      "----------\n"
     ]
    },
    {
     "data": {
      "application/vnd.jupyter.widget-view+json": {
       "model_id": "d22b104ae22e4503a042fbc4a38ead9d",
       "version_major": 2,
       "version_minor": 0
      },
      "text/plain": [
       "  0%|          | 0/27 [00:00<?, ?it/s]"
      ]
     },
     "metadata": {},
     "output_type": "display_data"
    },
    {
     "name": "stdout",
     "output_type": "stream",
     "text": [
      "Train loss: 1.0195, Train acc: 0.5833, Time: 7s\n",
      "Valid loss: 1.1928, Valid acc: 0.5370, Valid F1: 0.2778\n",
      "\n",
      "Epoch 23/50\n",
      "----------\n"
     ]
    },
    {
     "data": {
      "application/vnd.jupyter.widget-view+json": {
       "model_id": "76a69fc1ac7b46cd953ae318290de714",
       "version_major": 2,
       "version_minor": 0
      },
      "text/plain": [
       "  0%|          | 0/27 [00:00<?, ?it/s]"
      ]
     },
     "metadata": {},
     "output_type": "display_data"
    },
    {
     "name": "stdout",
     "output_type": "stream",
     "text": [
      "Train loss: 0.9761, Train acc: 0.6019, Time: 7s\n",
      "Valid loss: 1.2179, Valid acc: 0.5000, Valid F1: 0.2775\n",
      "\n",
      "Epoch 24/50\n",
      "----------\n"
     ]
    },
    {
     "data": {
      "application/vnd.jupyter.widget-view+json": {
       "model_id": "bffa1b41a6e74e829742be0b9099ee42",
       "version_major": 2,
       "version_minor": 0
      },
      "text/plain": [
       "  0%|          | 0/27 [00:00<?, ?it/s]"
      ]
     },
     "metadata": {},
     "output_type": "display_data"
    },
    {
     "name": "stdout",
     "output_type": "stream",
     "text": [
      "Train loss: 0.9449, Train acc: 0.5741, Time: 7s\n",
      "Valid loss: 1.1265, Valid acc: 0.5556, Valid F1: 0.2883\n",
      "\n",
      "Epoch 25/50\n",
      "----------\n"
     ]
    },
    {
     "data": {
      "application/vnd.jupyter.widget-view+json": {
       "model_id": "5dbde8c070ef4bbc812ab74de01bb442",
       "version_major": 2,
       "version_minor": 0
      },
      "text/plain": [
       "  0%|          | 0/27 [00:00<?, ?it/s]"
      ]
     },
     "metadata": {},
     "output_type": "display_data"
    },
    {
     "name": "stdout",
     "output_type": "stream",
     "text": [
      "Train loss: 1.1970, Train acc: 0.4722, Time: 7s\n",
      "Valid loss: 1.3311, Valid acc: 0.4259, Valid F1: 0.1679\n",
      "\n",
      "Epoch 26/50\n",
      "----------\n"
     ]
    },
    {
     "data": {
      "application/vnd.jupyter.widget-view+json": {
       "model_id": "80644a1d678842a78c3d5c12fc31eef0",
       "version_major": 2,
       "version_minor": 0
      },
      "text/plain": [
       "  0%|          | 0/27 [00:00<?, ?it/s]"
      ]
     },
     "metadata": {},
     "output_type": "display_data"
    },
    {
     "name": "stdout",
     "output_type": "stream",
     "text": [
      "Train loss: 1.2338, Train acc: 0.4259, Time: 7s\n",
      "Valid loss: 1.0649, Valid acc: 0.5185, Valid F1: 0.3464\n",
      "\n",
      "Epoch 27/50\n",
      "----------\n"
     ]
    },
    {
     "data": {
      "application/vnd.jupyter.widget-view+json": {
       "model_id": "99a52972210d449fb8fb2a115e25a7c1",
       "version_major": 2,
       "version_minor": 0
      },
      "text/plain": [
       "  0%|          | 0/27 [00:00<?, ?it/s]"
      ]
     },
     "metadata": {},
     "output_type": "display_data"
    },
    {
     "name": "stdout",
     "output_type": "stream",
     "text": [
      "Train loss: 1.1044, Train acc: 0.5093, Time: 7s\n",
      "Valid loss: 1.1133, Valid acc: 0.5370, Valid F1: 0.2881\n",
      "\n",
      "Epoch 28/50\n",
      "----------\n"
     ]
    },
    {
     "data": {
      "application/vnd.jupyter.widget-view+json": {
       "model_id": "50e13553fa1e43d89ba235c35c746f24",
       "version_major": 2,
       "version_minor": 0
      },
      "text/plain": [
       "  0%|          | 0/27 [00:00<?, ?it/s]"
      ]
     },
     "metadata": {},
     "output_type": "display_data"
    },
    {
     "name": "stdout",
     "output_type": "stream",
     "text": [
      "Train loss: 1.0140, Train acc: 0.5093, Time: 7s\n",
      "Valid loss: 1.1534, Valid acc: 0.5926, Valid F1: 0.3090\n",
      "\n",
      "Epoch 29/50\n",
      "----------\n"
     ]
    },
    {
     "data": {
      "application/vnd.jupyter.widget-view+json": {
       "model_id": "3f26b9f1c3034d89863dc7c1c87ce80f",
       "version_major": 2,
       "version_minor": 0
      },
      "text/plain": [
       "  0%|          | 0/27 [00:00<?, ?it/s]"
      ]
     },
     "metadata": {},
     "output_type": "display_data"
    },
    {
     "name": "stdout",
     "output_type": "stream",
     "text": [
      "Train loss: 1.0796, Train acc: 0.4444, Time: 7s\n",
      "Valid loss: 1.3015, Valid acc: 0.4074, Valid F1: 0.2125\n",
      "\n",
      "Epoch 30/50\n",
      "----------\n"
     ]
    },
    {
     "data": {
      "application/vnd.jupyter.widget-view+json": {
       "model_id": "c9772e5e78fd43f39cb972e021af71b7",
       "version_major": 2,
       "version_minor": 0
      },
      "text/plain": [
       "  0%|          | 0/27 [00:00<?, ?it/s]"
      ]
     },
     "metadata": {},
     "output_type": "display_data"
    },
    {
     "name": "stdout",
     "output_type": "stream",
     "text": [
      "Train loss: 1.0616, Train acc: 0.5278, Time: 7s\n",
      "Valid loss: 1.2498, Valid acc: 0.2963, Valid F1: 0.1641\n",
      "\n",
      "Epoch 31/50\n",
      "----------\n"
     ]
    },
    {
     "data": {
      "application/vnd.jupyter.widget-view+json": {
       "model_id": "c86adb29daca46149feb276171292c40",
       "version_major": 2,
       "version_minor": 0
      },
      "text/plain": [
       "  0%|          | 0/27 [00:00<?, ?it/s]"
      ]
     },
     "metadata": {},
     "output_type": "display_data"
    },
    {
     "name": "stdout",
     "output_type": "stream",
     "text": [
      "Train loss: 0.9580, Train acc: 0.5648, Time: 7s\n",
      "Valid loss: 1.2536, Valid acc: 0.4074, Valid F1: 0.2263\n",
      "\n",
      "Epoch 32/50\n",
      "----------\n"
     ]
    },
    {
     "data": {
      "application/vnd.jupyter.widget-view+json": {
       "model_id": "f10e5e3a9cad4c68aeae0ddf82f1c5d0",
       "version_major": 2,
       "version_minor": 0
      },
      "text/plain": [
       "  0%|          | 0/27 [00:00<?, ?it/s]"
      ]
     },
     "metadata": {},
     "output_type": "display_data"
    },
    {
     "name": "stdout",
     "output_type": "stream",
     "text": [
      "Train loss: 1.0261, Train acc: 0.5278, Time: 7s\n",
      "Valid loss: 1.1866, Valid acc: 0.5185, Valid F1: 0.3305\n",
      "\n",
      "Epoch 33/50\n",
      "----------\n"
     ]
    },
    {
     "data": {
      "application/vnd.jupyter.widget-view+json": {
       "model_id": "df0315fe23f0461481718185388da2fb",
       "version_major": 2,
       "version_minor": 0
      },
      "text/plain": [
       "  0%|          | 0/27 [00:00<?, ?it/s]"
      ]
     },
     "metadata": {},
     "output_type": "display_data"
    },
    {
     "name": "stdout",
     "output_type": "stream",
     "text": [
      "Train loss: 0.9988, Train acc: 0.5278, Time: 7s\n",
      "Valid loss: 1.2861, Valid acc: 0.4444, Valid F1: 0.2495\n",
      "\n",
      "Epoch 34/50\n",
      "----------\n"
     ]
    },
    {
     "data": {
      "application/vnd.jupyter.widget-view+json": {
       "model_id": "7fe022f15b7546b5b6462995aec93f61",
       "version_major": 2,
       "version_minor": 0
      },
      "text/plain": [
       "  0%|          | 0/27 [00:00<?, ?it/s]"
      ]
     },
     "metadata": {},
     "output_type": "display_data"
    },
    {
     "name": "stdout",
     "output_type": "stream",
     "text": [
      "Train loss: 0.9481, Train acc: 0.5648, Time: 7s\n",
      "Valid loss: 1.2703, Valid acc: 0.5185, Valid F1: 0.2915\n",
      "\n",
      "Epoch 35/50\n",
      "----------\n"
     ]
    },
    {
     "data": {
      "application/vnd.jupyter.widget-view+json": {
       "model_id": "44b30e97cfef4d92baad24ba851d149c",
       "version_major": 2,
       "version_minor": 0
      },
      "text/plain": [
       "  0%|          | 0/27 [00:00<?, ?it/s]"
      ]
     },
     "metadata": {},
     "output_type": "display_data"
    },
    {
     "name": "stdout",
     "output_type": "stream",
     "text": [
      "Train loss: 1.0124, Train acc: 0.5556, Time: 7s\n",
      "Valid loss: 1.1102, Valid acc: 0.5185, Valid F1: 0.2886\n",
      "\n",
      "Epoch 36/50\n",
      "----------\n"
     ]
    },
    {
     "data": {
      "application/vnd.jupyter.widget-view+json": {
       "model_id": "75aec85277d24d7f9c4a2d8722a75a17",
       "version_major": 2,
       "version_minor": 0
      },
      "text/plain": [
       "  0%|          | 0/27 [00:00<?, ?it/s]"
      ]
     },
     "metadata": {},
     "output_type": "display_data"
    },
    {
     "name": "stdout",
     "output_type": "stream",
     "text": [
      "Train loss: 0.9758, Train acc: 0.5556, Time: 7s\n",
      "Valid loss: 1.2389, Valid acc: 0.5000, Valid F1: 0.2886\n",
      "\n",
      "Epoch 37/50\n",
      "----------\n"
     ]
    },
    {
     "data": {
      "application/vnd.jupyter.widget-view+json": {
       "model_id": "26895b88065a41eba749d20cc56638be",
       "version_major": 2,
       "version_minor": 0
      },
      "text/plain": [
       "  0%|          | 0/27 [00:00<?, ?it/s]"
      ]
     },
     "metadata": {},
     "output_type": "display_data"
    },
    {
     "name": "stdout",
     "output_type": "stream",
     "text": [
      "Train loss: 0.9946, Train acc: 0.5556, Time: 7s\n",
      "Valid loss: 1.0750, Valid acc: 0.6111, Valid F1: 0.3399\n",
      "\n",
      "Epoch 38/50\n",
      "----------\n"
     ]
    },
    {
     "data": {
      "application/vnd.jupyter.widget-view+json": {
       "model_id": "3d2a21b47b9e428fa91460a26ff98ad7",
       "version_major": 2,
       "version_minor": 0
      },
      "text/plain": [
       "  0%|          | 0/27 [00:00<?, ?it/s]"
      ]
     },
     "metadata": {},
     "output_type": "display_data"
    },
    {
     "name": "stdout",
     "output_type": "stream",
     "text": [
      "Train loss: 0.9006, Train acc: 0.6019, Time: 7s\n",
      "Valid loss: 1.1357, Valid acc: 0.4815, Valid F1: 0.2668\n",
      "\n",
      "Epoch 39/50\n",
      "----------\n"
     ]
    },
    {
     "data": {
      "application/vnd.jupyter.widget-view+json": {
       "model_id": "fe1c50d1e383478bb3e8096a6f6c5d99",
       "version_major": 2,
       "version_minor": 0
      },
      "text/plain": [
       "  0%|          | 0/27 [00:00<?, ?it/s]"
      ]
     },
     "metadata": {},
     "output_type": "display_data"
    },
    {
     "name": "stdout",
     "output_type": "stream",
     "text": [
      "Train loss: 0.9055, Train acc: 0.6111, Time: 7s\n",
      "Valid loss: 1.3345, Valid acc: 0.4444, Valid F1: 0.3006\n",
      "\n",
      "Epoch 40/50\n",
      "----------\n"
     ]
    },
    {
     "data": {
      "application/vnd.jupyter.widget-view+json": {
       "model_id": "ac9a687300944422b2bad9b473a6d700",
       "version_major": 2,
       "version_minor": 0
      },
      "text/plain": [
       "  0%|          | 0/27 [00:00<?, ?it/s]"
      ]
     },
     "metadata": {},
     "output_type": "display_data"
    },
    {
     "name": "stdout",
     "output_type": "stream",
     "text": [
      "Train loss: 0.9978, Train acc: 0.5093, Time: 7s\n",
      "Valid loss: 1.1134, Valid acc: 0.6296, Valid F1: 0.4095\n",
      "\n",
      "Epoch 41/50\n",
      "----------\n"
     ]
    },
    {
     "data": {
      "application/vnd.jupyter.widget-view+json": {
       "model_id": "33fcdac8819b48088f65101800322e74",
       "version_major": 2,
       "version_minor": 0
      },
      "text/plain": [
       "  0%|          | 0/27 [00:00<?, ?it/s]"
      ]
     },
     "metadata": {},
     "output_type": "display_data"
    },
    {
     "name": "stdout",
     "output_type": "stream",
     "text": [
      "Train loss: 0.9334, Train acc: 0.5741, Time: 7s\n",
      "Valid loss: 1.2831, Valid acc: 0.5370, Valid F1: 0.3726\n",
      "\n",
      "Epoch 42/50\n",
      "----------\n"
     ]
    },
    {
     "data": {
      "application/vnd.jupyter.widget-view+json": {
       "model_id": "d647370fbacc4bee9ef82dd5e8c525c3",
       "version_major": 2,
       "version_minor": 0
      },
      "text/plain": [
       "  0%|          | 0/27 [00:00<?, ?it/s]"
      ]
     },
     "metadata": {},
     "output_type": "display_data"
    },
    {
     "name": "stdout",
     "output_type": "stream",
     "text": [
      "Train loss: 0.9784, Train acc: 0.5000, Time: 7s\n",
      "Valid loss: 1.4051, Valid acc: 0.4444, Valid F1: 0.2951\n",
      "\n",
      "Epoch 43/50\n",
      "----------\n"
     ]
    },
    {
     "data": {
      "application/vnd.jupyter.widget-view+json": {
       "model_id": "e2c27e33dfa64382a6abc8505063c15f",
       "version_major": 2,
       "version_minor": 0
      },
      "text/plain": [
       "  0%|          | 0/27 [00:00<?, ?it/s]"
      ]
     },
     "metadata": {},
     "output_type": "display_data"
    },
    {
     "name": "stdout",
     "output_type": "stream",
     "text": [
      "Train loss: 0.9252, Train acc: 0.5000, Time: 7s\n",
      "Valid loss: 1.2357, Valid acc: 0.5926, Valid F1: 0.3812\n",
      "\n",
      "Epoch 44/50\n",
      "----------\n"
     ]
    },
    {
     "data": {
      "application/vnd.jupyter.widget-view+json": {
       "model_id": "fe0450649a6c4815bde27732f19f576c",
       "version_major": 2,
       "version_minor": 0
      },
      "text/plain": [
       "  0%|          | 0/27 [00:00<?, ?it/s]"
      ]
     },
     "metadata": {},
     "output_type": "display_data"
    },
    {
     "name": "stdout",
     "output_type": "stream",
     "text": [
      "Train loss: 0.9169, Train acc: 0.5833, Time: 7s\n",
      "Valid loss: 1.1515, Valid acc: 0.5741, Valid F1: 0.3746\n",
      "\n",
      "Epoch 45/50\n",
      "----------\n"
     ]
    },
    {
     "data": {
      "application/vnd.jupyter.widget-view+json": {
       "model_id": "f6bacad3008844f09248c47a70286b1e",
       "version_major": 2,
       "version_minor": 0
      },
      "text/plain": [
       "  0%|          | 0/27 [00:00<?, ?it/s]"
      ]
     },
     "metadata": {},
     "output_type": "display_data"
    },
    {
     "name": "stdout",
     "output_type": "stream",
     "text": [
      "Train loss: 0.9548, Train acc: 0.6111, Time: 7s\n",
      "Valid loss: 1.0032, Valid acc: 0.6111, Valid F1: 0.3931\n",
      "\n",
      "Epoch 46/50\n",
      "----------\n"
     ]
    },
    {
     "data": {
      "application/vnd.jupyter.widget-view+json": {
       "model_id": "c5d56aa67091461581f5163e75c980bb",
       "version_major": 2,
       "version_minor": 0
      },
      "text/plain": [
       "  0%|          | 0/27 [00:00<?, ?it/s]"
      ]
     },
     "metadata": {},
     "output_type": "display_data"
    },
    {
     "name": "stdout",
     "output_type": "stream",
     "text": [
      "Train loss: 0.9403, Train acc: 0.5926, Time: 8s\n",
      "Valid loss: 1.1562, Valid acc: 0.5185, Valid F1: 0.3391\n",
      "\n",
      "Epoch 47/50\n",
      "----------\n"
     ]
    },
    {
     "data": {
      "application/vnd.jupyter.widget-view+json": {
       "model_id": "7b8c368115fd4b84820a6abdc19f95c6",
       "version_major": 2,
       "version_minor": 0
      },
      "text/plain": [
       "  0%|          | 0/27 [00:00<?, ?it/s]"
      ]
     },
     "metadata": {},
     "output_type": "display_data"
    },
    {
     "name": "stdout",
     "output_type": "stream",
     "text": [
      "Train loss: 0.9300, Train acc: 0.5741, Time: 7s\n",
      "Valid loss: 1.2274, Valid acc: 0.5370, Valid F1: 0.3538\n",
      "\n",
      "Epoch 48/50\n",
      "----------\n"
     ]
    },
    {
     "data": {
      "application/vnd.jupyter.widget-view+json": {
       "model_id": "a091ceebe20f42e08f8e4b7296ffe79b",
       "version_major": 2,
       "version_minor": 0
      },
      "text/plain": [
       "  0%|          | 0/27 [00:00<?, ?it/s]"
      ]
     },
     "metadata": {},
     "output_type": "display_data"
    },
    {
     "name": "stdout",
     "output_type": "stream",
     "text": [
      "Train loss: 0.8740, Train acc: 0.5926, Time: 7s\n",
      "Valid loss: 1.1436, Valid acc: 0.5370, Valid F1: 0.2978\n",
      "\n",
      "Epoch 49/50\n",
      "----------\n"
     ]
    },
    {
     "data": {
      "application/vnd.jupyter.widget-view+json": {
       "model_id": "80dd9ff73dbd43e299c84e9c63fa4305",
       "version_major": 2,
       "version_minor": 0
      },
      "text/plain": [
       "  0%|          | 0/27 [00:00<?, ?it/s]"
      ]
     },
     "metadata": {},
     "output_type": "display_data"
    },
    {
     "name": "stdout",
     "output_type": "stream",
     "text": [
      "Train loss: 0.9437, Train acc: 0.6111, Time: 7s\n",
      "Valid loss: 1.2942, Valid acc: 0.5556, Valid F1: 0.3122\n",
      "\n",
      "Epoch 50/50\n",
      "----------\n"
     ]
    },
    {
     "data": {
      "application/vnd.jupyter.widget-view+json": {
       "model_id": "326bc13b95ea4295ba7b6cc2d8494bd9",
       "version_major": 2,
       "version_minor": 0
      },
      "text/plain": [
       "  0%|          | 0/27 [00:00<?, ?it/s]"
      ]
     },
     "metadata": {},
     "output_type": "display_data"
    },
    {
     "name": "stdout",
     "output_type": "stream",
     "text": [
      "Train loss: 0.8734, Train acc: 0.6296, Time: 8s\n",
      "Valid loss: 1.4102, Valid acc: 0.5556, Valid F1: 0.3095\n",
      "\n",
      "Training complete\n",
      "Best ACC: 0.6296 at epoch 14\n",
      "Best F1: 0.4095 at epoch 39\n"
     ]
    }
   ],
   "source": [
    "train_loss, valid_loss, train_acc, valid_acc, valid_f1 = run(train_loader, valid_loader, model,\n",
    "                                                             num_classes_n, epochs=epochs,\n",
    "                                                             save_path=save_path/'n')"
   ]
  },
  {
   "cell_type": "code",
   "execution_count": 38,
   "metadata": {},
   "outputs": [
    {
     "data": {
      "image/png": "[encoded data removed]",
      "text/plain": [
       "<Figure size 640x480 with 1 Axes>"
      ]
     },
     "metadata": {},
     "output_type": "display_data"
    }
   ],
   "source": [
    "plot_loss(train_loss, valid_loss)"
   ]
  },
  {
   "cell_type": "code",
   "execution_count": 39,
   "metadata": {},
   "outputs": [
    {
     "data": {
      "image/png": "[encoded data removed]",
      "text/plain": [
       "<Figure size 640x480 with 1 Axes>"
      ]
     },
     "metadata": {},
     "output_type": "display_data"
    }
   ],
   "source": [
    "plot_metrics(train_acc, valid_acc, valid_f1)"
   ]
  },
  {
   "cell_type": "code",
   "execution_count": 40,
   "metadata": {},
   "outputs": [
    {
     "name": "stdout",
     "output_type": "stream",
     "text": [
      "accuracy: 0.6296296296296297, f1 score: 0.40948525159051474\n"
     ]
    }
   ],
   "source": [
    "print(f'accuracy: {max(valid_acc)}, f1 score: {max(valid_f1)}')"
   ]
  },
  {
   "cell_type": "markdown",
   "metadata": {},
   "source": [
    "## M分類モデル"
   ]
  },
  {
   "cell_type": "code",
   "execution_count": 41,
   "metadata": {},
   "outputs": [],
   "source": [
    "batch_size=4\n",
    "epochs=50\n",
    "learning_rate=1e-5\n",
    "momentum=0.9"
   ]
  },
  {
   "cell_type": "code",
   "execution_count": 42,
   "metadata": {},
   "outputs": [],
   "source": [
    "train_data = []\n",
    "valid_data = []\n",
    "for x, y in zip(X_train, Ym_train):\n",
    "    data = [x, y]\n",
    "    train_data.append(data)\n",
    "for x, y in zip(X_valid, Ym_valid):\n",
    "    data = [x, y]\n",
    "    valid_data.append(data)\n",
    "    \n",
    "train_loader, valid_loader = build_data(train_data, valid_data, batch_size=batch_size)"
   ]
  },
  {
   "cell_type": "code",
   "execution_count": 43,
   "metadata": {},
   "outputs": [],
   "source": [
    "config = BertConfig.from_json_file(model_path / 'bert_config.json')\n",
    "bert = BertModel.from_pretrained(model_path / 'UTH_BERT.bin', config=config)\n",
    "model = Net(bert, num_classes_m).to(device)\n",
    "\n",
    "FREEZE=False\n",
    "if FREEZE: \n",
    "    idx=1 #Any\n",
    "    for name, param in model.named_parameters(): \n",
    "        param.requires_grad = False \n",
    "    for name, param in list(model.named_parameters())[idx:]: \n",
    "        param.requires_grad = True \n",
    "#     optimizer = optim.SGD([{'params':list(model.parameters())[idx:], 'lr':learning_rate, 'momentum':momentum}])\n",
    "    optimizer = optim.Adam([{'params':list(model.parameters())[idx:], 'lr':learning_rate}]) \n",
    "    criterion = nn.CrossEntropyLoss()\n",
    "else:  \n",
    "#     optimizer = optim.SGD(model.parameters(), lr=learning_rate, momentum=momentum)\n",
    "    optimizer = optim.Adam(model.parameters(), lr=learning_rate)\n",
    "    criterion = nn.CrossEntropyLoss()\n",
    "\n",
    "scheduler = StepLR(optimizer, step_size=3, gamma=0.1)"
   ]
  },
  {
   "cell_type": "code",
   "execution_count": 44,
   "metadata": {},
   "outputs": [
    {
     "name": "stdout",
     "output_type": "stream",
     "text": [
      "\n",
      "Epoch 1/50\n",
      "----------\n"
     ]
    },
    {
     "data": {
      "application/vnd.jupyter.widget-view+json": {
       "model_id": "e44ca92d33a54544a5e93a3af0c0c9e0",
       "version_major": 2,
       "version_minor": 0
      },
      "text/plain": [
       "  0%|          | 0/27 [00:00<?, ?it/s]"
      ]
     },
     "metadata": {},
     "output_type": "display_data"
    },
    {
     "name": "stdout",
     "output_type": "stream",
     "text": [
      "Train loss: 0.9859, Train acc: 0.6574, Time: 7s\n",
      "Valid loss: 1.4752, Valid acc: 0.5370, Valid F1: 0.2945\n",
      "\n",
      "Epoch 2/50\n",
      "----------\n"
     ]
    },
    {
     "data": {
      "application/vnd.jupyter.widget-view+json": {
       "model_id": "dabc4af4ff294f8d9028216be8c08a5c",
       "version_major": 2,
       "version_minor": 0
      },
      "text/plain": [
       "  0%|          | 0/27 [00:00<?, ?it/s]"
      ]
     },
     "metadata": {},
     "output_type": "display_data"
    },
    {
     "name": "stdout",
     "output_type": "stream",
     "text": [
      "Train loss: 0.8776, Train acc: 0.6852, Time: 7s\n",
      "Valid loss: 1.5133, Valid acc: 0.5185, Valid F1: 0.2601\n",
      "\n",
      "Epoch 3/50\n",
      "----------\n"
     ]
    },
    {
     "data": {
      "application/vnd.jupyter.widget-view+json": {
       "model_id": "203bc362fa2f4b958819db7f1369cf3d",
       "version_major": 2,
       "version_minor": 0
      },
      "text/plain": [
       "  0%|          | 0/27 [00:00<?, ?it/s]"
      ]
     },
     "metadata": {},
     "output_type": "display_data"
    },
    {
     "name": "stdout",
     "output_type": "stream",
     "text": [
      "Train loss: 0.8080, Train acc: 0.7037, Time: 7s\n",
      "Valid loss: 1.4633, Valid acc: 0.5000, Valid F1: 0.2778\n",
      "\n",
      "Epoch 4/50\n",
      "----------\n"
     ]
    },
    {
     "data": {
      "application/vnd.jupyter.widget-view+json": {
       "model_id": "00e1c354755642e69a807921711efdf1",
       "version_major": 2,
       "version_minor": 0
      },
      "text/plain": [
       "  0%|          | 0/27 [00:00<?, ?it/s]"
      ]
     },
     "metadata": {},
     "output_type": "display_data"
    },
    {
     "name": "stdout",
     "output_type": "stream",
     "text": [
      "Train loss: 0.7566, Train acc: 0.7407, Time: 7s\n",
      "Valid loss: 1.7547, Valid acc: 0.5926, Valid F1: 0.3942\n",
      "\n",
      "Epoch 5/50\n",
      "----------\n"
     ]
    },
    {
     "data": {
      "application/vnd.jupyter.widget-view+json": {
       "model_id": "01ae8493897440289ea1e55d96bef7d2",
       "version_major": 2,
       "version_minor": 0
      },
      "text/plain": [
       "  0%|          | 0/27 [00:00<?, ?it/s]"
      ]
     },
     "metadata": {},
     "output_type": "display_data"
    },
    {
     "name": "stdout",
     "output_type": "stream",
     "text": [
      "Train loss: 0.8200, Train acc: 0.6944, Time: 7s\n",
      "Valid loss: 1.6686, Valid acc: 0.5556, Valid F1: 0.2468\n",
      "\n",
      "Epoch 6/50\n",
      "----------\n"
     ]
    },
    {
     "data": {
      "application/vnd.jupyter.widget-view+json": {
       "model_id": "fe5f0db65e724bf3ac7f15716b7a2b01",
       "version_major": 2,
       "version_minor": 0
      },
      "text/plain": [
       "  0%|          | 0/27 [00:00<?, ?it/s]"
      ]
     },
     "metadata": {},
     "output_type": "display_data"
    },
    {
     "name": "stdout",
     "output_type": "stream",
     "text": [
      "Train loss: 0.7583, Train acc: 0.7130, Time: 7s\n",
      "Valid loss: 1.7817, Valid acc: 0.5926, Valid F1: 0.3818\n",
      "\n",
      "Epoch 7/50\n",
      "----------\n"
     ]
    },
    {
     "data": {
      "application/vnd.jupyter.widget-view+json": {
       "model_id": "2f9079eb9a9f4de28547e5073b9c13f2",
       "version_major": 2,
       "version_minor": 0
      },
      "text/plain": [
       "  0%|          | 0/27 [00:00<?, ?it/s]"
      ]
     },
     "metadata": {},
     "output_type": "display_data"
    },
    {
     "name": "stdout",
     "output_type": "stream",
     "text": [
      "Train loss: 0.8329, Train acc: 0.6574, Time: 7s\n",
      "Valid loss: 1.6744, Valid acc: 0.5000, Valid F1: 0.2222\n",
      "\n",
      "Epoch 8/50\n",
      "----------\n"
     ]
    },
    {
     "data": {
      "application/vnd.jupyter.widget-view+json": {
       "model_id": "bcbd0a4f59d34c32bec6a8fe771d4c24",
       "version_major": 2,
       "version_minor": 0
      },
      "text/plain": [
       "  0%|          | 0/27 [00:00<?, ?it/s]"
      ]
     },
     "metadata": {},
     "output_type": "display_data"
    },
    {
     "name": "stdout",
     "output_type": "stream",
     "text": [
      "Train loss: 0.7368, Train acc: 0.7315, Time: 7s\n",
      "Valid loss: 1.5633, Valid acc: 0.5185, Valid F1: 0.3447\n",
      "\n",
      "Epoch 9/50\n",
      "----------\n"
     ]
    },
    {
     "data": {
      "application/vnd.jupyter.widget-view+json": {
       "model_id": "810460e897a348d58cadb3ca4044e85a",
       "version_major": 2,
       "version_minor": 0
      },
      "text/plain": [
       "  0%|          | 0/27 [00:00<?, ?it/s]"
      ]
     },
     "metadata": {},
     "output_type": "display_data"
    },
    {
     "name": "stdout",
     "output_type": "stream",
     "text": [
      "Train loss: 0.8846, Train acc: 0.6574, Time: 7s\n",
      "Valid loss: 1.5723, Valid acc: 0.5926, Valid F1: 0.3766\n",
      "\n",
      "Epoch 10/50\n",
      "----------\n"
     ]
    },
    {
     "data": {
      "application/vnd.jupyter.widget-view+json": {
       "model_id": "ebde1f2c6acc43a6b2395d514cad2c27",
       "version_major": 2,
       "version_minor": 0
      },
      "text/plain": [
       "  0%|          | 0/27 [00:00<?, ?it/s]"
      ]
     },
     "metadata": {},
     "output_type": "display_data"
    },
    {
     "name": "stdout",
     "output_type": "stream",
     "text": [
      "Train loss: 0.7230, Train acc: 0.7685, Time: 7s\n",
      "Valid loss: 1.6962, Valid acc: 0.5926, Valid F1: 0.4014\n",
      "\n",
      "Epoch 11/50\n",
      "----------\n"
     ]
    },
    {
     "data": {
      "application/vnd.jupyter.widget-view+json": {
       "model_id": "4e1eb354c4fb491fa4022f8ca7fdfaf5",
       "version_major": 2,
       "version_minor": 0
      },
      "text/plain": [
       "  0%|          | 0/27 [00:00<?, ?it/s]"
      ]
     },
     "metadata": {},
     "output_type": "display_data"
    },
    {
     "name": "stdout",
     "output_type": "stream",
     "text": [
      "Train loss: 0.7350, Train acc: 0.7407, Time: 7s\n",
      "Valid loss: 1.7279, Valid acc: 0.6296, Valid F1: 0.3198\n",
      "\n",
      "Epoch 12/50\n",
      "----------\n"
     ]
    },
    {
     "data": {
      "application/vnd.jupyter.widget-view+json": {
       "model_id": "1359321275944c358ce2cadf68b86707",
       "version_major": 2,
       "version_minor": 0
      },
      "text/plain": [
       "  0%|          | 0/27 [00:00<?, ?it/s]"
      ]
     },
     "metadata": {},
     "output_type": "display_data"
    },
    {
     "name": "stdout",
     "output_type": "stream",
     "text": [
      "Train loss: 0.6501, Train acc: 0.7500, Time: 7s\n",
      "Valid loss: 1.6409, Valid acc: 0.6111, Valid F1: 0.4004\n",
      "\n",
      "Epoch 13/50\n",
      "----------\n"
     ]
    },
    {
     "data": {
      "application/vnd.jupyter.widget-view+json": {
       "model_id": "52936943b7ed4e97bb047d14a5ea48b1",
       "version_major": 2,
       "version_minor": 0
      },
      "text/plain": [
       "  0%|          | 0/27 [00:00<?, ?it/s]"
      ]
     },
     "metadata": {},
     "output_type": "display_data"
    },
    {
     "name": "stdout",
     "output_type": "stream",
     "text": [
      "Train loss: 0.6854, Train acc: 0.7407, Time: 7s\n",
      "Valid loss: 1.7419, Valid acc: 0.5926, Valid F1: 0.2959\n",
      "\n",
      "Epoch 14/50\n",
      "----------\n"
     ]
    },
    {
     "data": {
      "application/vnd.jupyter.widget-view+json": {
       "model_id": "d55de5492ed04e82a4ff10b36a05cf06",
       "version_major": 2,
       "version_minor": 0
      },
      "text/plain": [
       "  0%|          | 0/27 [00:00<?, ?it/s]"
      ]
     },
     "metadata": {},
     "output_type": "display_data"
    },
    {
     "name": "stdout",
     "output_type": "stream",
     "text": [
      "Train loss: 0.6839, Train acc: 0.7593, Time: 7s\n",
      "Valid loss: 1.7436, Valid acc: 0.6111, Valid F1: 0.4067\n",
      "\n",
      "Epoch 15/50\n",
      "----------\n"
     ]
    },
    {
     "data": {
      "application/vnd.jupyter.widget-view+json": {
       "model_id": "538a0591a2ce4c2080f450747f974437",
       "version_major": 2,
       "version_minor": 0
      },
      "text/plain": [
       "  0%|          | 0/27 [00:00<?, ?it/s]"
      ]
     },
     "metadata": {},
     "output_type": "display_data"
    },
    {
     "name": "stdout",
     "output_type": "stream",
     "text": [
      "Train loss: 0.7014, Train acc: 0.7130, Time: 7s\n",
      "Valid loss: 1.9256, Valid acc: 0.5000, Valid F1: 0.1709\n",
      "\n",
      "Epoch 16/50\n",
      "----------\n"
     ]
    },
    {
     "data": {
      "application/vnd.jupyter.widget-view+json": {
       "model_id": "8ed52da3eff5478aaf6e694573aecbb4",
       "version_major": 2,
       "version_minor": 0
      },
      "text/plain": [
       "  0%|          | 0/27 [00:00<?, ?it/s]"
      ]
     },
     "metadata": {},
     "output_type": "display_data"
    },
    {
     "name": "stdout",
     "output_type": "stream",
     "text": [
      "Train loss: 0.6414, Train acc: 0.7593, Time: 7s\n",
      "Valid loss: 1.6923, Valid acc: 0.6111, Valid F1: 0.4067\n",
      "\n",
      "Epoch 17/50\n",
      "----------\n"
     ]
    },
    {
     "data": {
      "application/vnd.jupyter.widget-view+json": {
       "model_id": "8172a7d5af744f3682d86cbdcd513ba6",
       "version_major": 2,
       "version_minor": 0
      },
      "text/plain": [
       "  0%|          | 0/27 [00:00<?, ?it/s]"
      ]
     },
     "metadata": {},
     "output_type": "display_data"
    },
    {
     "name": "stdout",
     "output_type": "stream",
     "text": [
      "Train loss: 0.6074, Train acc: 0.7963, Time: 7s\n",
      "Valid loss: 1.8489, Valid acc: 0.5741, Valid F1: 0.3511\n",
      "\n",
      "Epoch 18/50\n",
      "----------\n"
     ]
    },
    {
     "data": {
      "application/vnd.jupyter.widget-view+json": {
       "model_id": "ca32f148f1f04ba0ae926fd6078e5880",
       "version_major": 2,
       "version_minor": 0
      },
      "text/plain": [
       "  0%|          | 0/27 [00:00<?, ?it/s]"
      ]
     },
     "metadata": {},
     "output_type": "display_data"
    },
    {
     "name": "stdout",
     "output_type": "stream",
     "text": [
      "Train loss: 0.6906, Train acc: 0.7407, Time: 7s\n",
      "Valid loss: 1.6580, Valid acc: 0.6111, Valid F1: 0.3101\n",
      "\n",
      "Epoch 19/50\n",
      "----------\n"
     ]
    },
    {
     "data": {
      "application/vnd.jupyter.widget-view+json": {
       "model_id": "fb0a877d3d004656aed4f45c4bad26f6",
       "version_major": 2,
       "version_minor": 0
      },
      "text/plain": [
       "  0%|          | 0/27 [00:00<?, ?it/s]"
      ]
     },
     "metadata": {},
     "output_type": "display_data"
    },
    {
     "name": "stdout",
     "output_type": "stream",
     "text": [
      "Train loss: 0.6205, Train acc: 0.7685, Time: 7s\n",
      "Valid loss: 1.8281, Valid acc: 0.5926, Valid F1: 0.2887\n",
      "\n",
      "Epoch 20/50\n",
      "----------\n"
     ]
    },
    {
     "data": {
      "application/vnd.jupyter.widget-view+json": {
       "model_id": "17932d708c944dd8a2d44d0d0ac90965",
       "version_major": 2,
       "version_minor": 0
      },
      "text/plain": [
       "  0%|          | 0/27 [00:00<?, ?it/s]"
      ]
     },
     "metadata": {},
     "output_type": "display_data"
    },
    {
     "name": "stdout",
     "output_type": "stream",
     "text": [
      "Train loss: 0.5945, Train acc: 0.7685, Time: 7s\n",
      "Valid loss: 2.0713, Valid acc: 0.5000, Valid F1: 0.2044\n",
      "\n",
      "Epoch 21/50\n",
      "----------\n"
     ]
    },
    {
     "data": {
      "application/vnd.jupyter.widget-view+json": {
       "model_id": "3df5f5f3f6aa4ba7a2570642a1a2bad8",
       "version_major": 2,
       "version_minor": 0
      },
      "text/plain": [
       "  0%|          | 0/27 [00:00<?, ?it/s]"
      ]
     },
     "metadata": {},
     "output_type": "display_data"
    },
    {
     "name": "stdout",
     "output_type": "stream",
     "text": [
      "Train loss: 0.6886, Train acc: 0.7500, Time: 7s\n",
      "Valid loss: 1.9656, Valid acc: 0.5741, Valid F1: 0.3550\n",
      "\n",
      "Epoch 22/50\n",
      "----------\n"
     ]
    },
    {
     "data": {
      "application/vnd.jupyter.widget-view+json": {
       "model_id": "205a66c1f4cb494c84c76d27e2d5cbb2",
       "version_major": 2,
       "version_minor": 0
      },
      "text/plain": [
       "  0%|          | 0/27 [00:00<?, ?it/s]"
      ]
     },
     "metadata": {},
     "output_type": "display_data"
    },
    {
     "name": "stdout",
     "output_type": "stream",
     "text": [
      "Train loss: 0.6167, Train acc: 0.7778, Time: 7s\n",
      "Valid loss: 2.0871, Valid acc: 0.5741, Valid F1: 0.2670\n",
      "\n",
      "Epoch 23/50\n",
      "----------\n"
     ]
    },
    {
     "data": {
      "application/vnd.jupyter.widget-view+json": {
       "model_id": "a62bbda54eb24e818961f9eea59c5eca",
       "version_major": 2,
       "version_minor": 0
      },
      "text/plain": [
       "  0%|          | 0/27 [00:00<?, ?it/s]"
      ]
     },
     "metadata": {},
     "output_type": "display_data"
    },
    {
     "name": "stdout",
     "output_type": "stream",
     "text": [
      "Train loss: 0.6279, Train acc: 0.7593, Time: 7s\n",
      "Valid loss: 1.7739, Valid acc: 0.5000, Valid F1: 0.2675\n",
      "\n",
      "Epoch 24/50\n",
      "----------\n"
     ]
    },
    {
     "data": {
      "application/vnd.jupyter.widget-view+json": {
       "model_id": "bd11aa72cfa2454f81006677f11c7cbe",
       "version_major": 2,
       "version_minor": 0
      },
      "text/plain": [
       "  0%|          | 0/27 [00:00<?, ?it/s]"
      ]
     },
     "metadata": {},
     "output_type": "display_data"
    },
    {
     "name": "stdout",
     "output_type": "stream",
     "text": [
      "Train loss: 0.5774, Train acc: 0.7870, Time: 7s\n",
      "Valid loss: 1.8689, Valid acc: 0.6111, Valid F1: 0.4067\n",
      "\n",
      "Epoch 25/50\n",
      "----------\n"
     ]
    },
    {
     "data": {
      "application/vnd.jupyter.widget-view+json": {
       "model_id": "e8b59f7b58884e6390d1b8eb8169e237",
       "version_major": 2,
       "version_minor": 0
      },
      "text/plain": [
       "  0%|          | 0/27 [00:00<?, ?it/s]"
      ]
     },
     "metadata": {},
     "output_type": "display_data"
    },
    {
     "name": "stdout",
     "output_type": "stream",
     "text": [
      "Train loss: 0.6212, Train acc: 0.7593, Time: 7s\n",
      "Valid loss: 1.8798, Valid acc: 0.5741, Valid F1: 0.2822\n",
      "\n",
      "Epoch 26/50\n",
      "----------\n"
     ]
    },
    {
     "data": {
      "application/vnd.jupyter.widget-view+json": {
       "model_id": "6d268545f2ea4cdbadffa508945903a5",
       "version_major": 2,
       "version_minor": 0
      },
      "text/plain": [
       "  0%|          | 0/27 [00:00<?, ?it/s]"
      ]
     },
     "metadata": {},
     "output_type": "display_data"
    },
    {
     "name": "stdout",
     "output_type": "stream",
     "text": [
      "Train loss: 0.6278, Train acc: 0.7870, Time: 7s\n",
      "Valid loss: 1.9830, Valid acc: 0.5741, Valid F1: 0.2844\n",
      "\n",
      "Epoch 27/50\n",
      "----------\n"
     ]
    },
    {
     "data": {
      "application/vnd.jupyter.widget-view+json": {
       "model_id": "e0fb32a8173c4ec598598e3ae1c9d097",
       "version_major": 2,
       "version_minor": 0
      },
      "text/plain": [
       "  0%|          | 0/27 [00:00<?, ?it/s]"
      ]
     },
     "metadata": {},
     "output_type": "display_data"
    },
    {
     "name": "stdout",
     "output_type": "stream",
     "text": [
      "Train loss: 0.6010, Train acc: 0.7963, Time: 7s\n",
      "Valid loss: 1.7483, Valid acc: 0.6296, Valid F1: 0.4386\n",
      "\n",
      "Epoch 28/50\n",
      "----------\n"
     ]
    },
    {
     "data": {
      "application/vnd.jupyter.widget-view+json": {
       "model_id": "a359edb6b0f94f2493887d048f8abcfe",
       "version_major": 2,
       "version_minor": 0
      },
      "text/plain": [
       "  0%|          | 0/27 [00:00<?, ?it/s]"
      ]
     },
     "metadata": {},
     "output_type": "display_data"
    },
    {
     "name": "stdout",
     "output_type": "stream",
     "text": [
      "Train loss: 0.6601, Train acc: 0.7685, Time: 7s\n",
      "Valid loss: 1.5635, Valid acc: 0.6296, Valid F1: 0.3221\n",
      "\n",
      "Epoch 29/50\n",
      "----------\n"
     ]
    },
    {
     "data": {
      "application/vnd.jupyter.widget-view+json": {
       "model_id": "419951404787494fa47fa026017dc888",
       "version_major": 2,
       "version_minor": 0
      },
      "text/plain": [
       "  0%|          | 0/27 [00:00<?, ?it/s]"
      ]
     },
     "metadata": {},
     "output_type": "display_data"
    },
    {
     "name": "stdout",
     "output_type": "stream",
     "text": [
      "Train loss: 0.6123, Train acc: 0.7685, Time: 7s\n",
      "Valid loss: 1.9534, Valid acc: 0.5370, Valid F1: 0.2512\n",
      "\n",
      "Epoch 30/50\n",
      "----------\n"
     ]
    },
    {
     "data": {
      "application/vnd.jupyter.widget-view+json": {
       "model_id": "436a456a3bd144d5a76eb056484eebf4",
       "version_major": 2,
       "version_minor": 0
      },
      "text/plain": [
       "  0%|          | 0/27 [00:00<?, ?it/s]"
      ]
     },
     "metadata": {},
     "output_type": "display_data"
    },
    {
     "name": "stdout",
     "output_type": "stream",
     "text": [
      "Train loss: 0.6593, Train acc: 0.7315, Time: 7s\n",
      "Valid loss: 1.8879, Valid acc: 0.5926, Valid F1: 0.2995\n",
      "\n",
      "Epoch 31/50\n",
      "----------\n"
     ]
    },
    {
     "data": {
      "application/vnd.jupyter.widget-view+json": {
       "model_id": "52a116121763470ab3abb0f133f61d8d",
       "version_major": 2,
       "version_minor": 0
      },
      "text/plain": [
       "  0%|          | 0/27 [00:00<?, ?it/s]"
      ]
     },
     "metadata": {},
     "output_type": "display_data"
    },
    {
     "name": "stdout",
     "output_type": "stream",
     "text": [
      "Train loss: 0.5836, Train acc: 0.8056, Time: 7s\n",
      "Valid loss: 1.7858, Valid acc: 0.5556, Valid F1: 0.2740\n",
      "\n",
      "Epoch 32/50\n",
      "----------\n"
     ]
    },
    {
     "data": {
      "application/vnd.jupyter.widget-view+json": {
       "model_id": "9254353bcf844c7fa34297ef91b70573",
       "version_major": 2,
       "version_minor": 0
      },
      "text/plain": [
       "  0%|          | 0/27 [00:00<?, ?it/s]"
      ]
     },
     "metadata": {},
     "output_type": "display_data"
    },
    {
     "name": "stdout",
     "output_type": "stream",
     "text": [
      "Train loss: 0.6224, Train acc: 0.7963, Time: 7s\n",
      "Valid loss: 2.1542, Valid acc: 0.5185, Valid F1: 0.2087\n",
      "\n",
      "Epoch 33/50\n",
      "----------\n"
     ]
    },
    {
     "data": {
      "application/vnd.jupyter.widget-view+json": {
       "model_id": "a9939003e04f45bd81ee57fbd08b1cd3",
       "version_major": 2,
       "version_minor": 0
      },
      "text/plain": [
       "  0%|          | 0/27 [00:00<?, ?it/s]"
      ]
     },
     "metadata": {},
     "output_type": "display_data"
    },
    {
     "name": "stdout",
     "output_type": "stream",
     "text": [
      "Train loss: 0.5804, Train acc: 0.7500, Time: 7s\n",
      "Valid loss: 1.9212, Valid acc: 0.5926, Valid F1: 0.3789\n",
      "\n",
      "Epoch 34/50\n",
      "----------\n"
     ]
    },
    {
     "data": {
      "application/vnd.jupyter.widget-view+json": {
       "model_id": "dcfb6087394a4e4cbc0173051ef0a26f",
       "version_major": 2,
       "version_minor": 0
      },
      "text/plain": [
       "  0%|          | 0/27 [00:00<?, ?it/s]"
      ]
     },
     "metadata": {},
     "output_type": "display_data"
    },
    {
     "name": "stdout",
     "output_type": "stream",
     "text": [
      "Train loss: 0.5378, Train acc: 0.8241, Time: 7s\n",
      "Valid loss: 2.2013, Valid acc: 0.5741, Valid F1: 0.2733\n",
      "\n",
      "Epoch 35/50\n",
      "----------\n"
     ]
    },
    {
     "data": {
      "application/vnd.jupyter.widget-view+json": {
       "model_id": "0988a7f8a79c44ff99f2e464e5965d93",
       "version_major": 2,
       "version_minor": 0
      },
      "text/plain": [
       "  0%|          | 0/27 [00:00<?, ?it/s]"
      ]
     },
     "metadata": {},
     "output_type": "display_data"
    },
    {
     "name": "stdout",
     "output_type": "stream",
     "text": [
      "Train loss: 0.6511, Train acc: 0.7500, Time: 7s\n",
      "Valid loss: 1.6851, Valid acc: 0.5741, Valid F1: 0.2868\n",
      "\n",
      "Epoch 36/50\n",
      "----------\n"
     ]
    },
    {
     "data": {
      "application/vnd.jupyter.widget-view+json": {
       "model_id": "07ca193f6a704e6dac8e2b20b916d948",
       "version_major": 2,
       "version_minor": 0
      },
      "text/plain": [
       "  0%|          | 0/27 [00:00<?, ?it/s]"
      ]
     },
     "metadata": {},
     "output_type": "display_data"
    },
    {
     "name": "stdout",
     "output_type": "stream",
     "text": [
      "Train loss: 0.6109, Train acc: 0.7685, Time: 7s\n",
      "Valid loss: 2.0738, Valid acc: 0.5741, Valid F1: 0.3173\n",
      "\n",
      "Epoch 37/50\n",
      "----------\n"
     ]
    },
    {
     "data": {
      "application/vnd.jupyter.widget-view+json": {
       "model_id": "6a54efffa62e409388d06bea1bf8d623",
       "version_major": 2,
       "version_minor": 0
      },
      "text/plain": [
       "  0%|          | 0/27 [00:00<?, ?it/s]"
      ]
     },
     "metadata": {},
     "output_type": "display_data"
    },
    {
     "name": "stdout",
     "output_type": "stream",
     "text": [
      "Train loss: 0.6591, Train acc: 0.7778, Time: 7s\n",
      "Valid loss: 1.8085, Valid acc: 0.6296, Valid F1: 0.4299\n",
      "\n",
      "Epoch 38/50\n",
      "----------\n"
     ]
    },
    {
     "data": {
      "application/vnd.jupyter.widget-view+json": {
       "model_id": "4f66bae72db340b2b8e00f782cb439fb",
       "version_major": 2,
       "version_minor": 0
      },
      "text/plain": [
       "  0%|          | 0/27 [00:00<?, ?it/s]"
      ]
     },
     "metadata": {},
     "output_type": "display_data"
    },
    {
     "name": "stdout",
     "output_type": "stream",
     "text": [
      "Train loss: 0.6151, Train acc: 0.7500, Time: 7s\n",
      "Valid loss: 1.9551, Valid acc: 0.6296, Valid F1: 0.3249\n",
      "\n",
      "Epoch 39/50\n",
      "----------\n"
     ]
    },
    {
     "data": {
      "application/vnd.jupyter.widget-view+json": {
       "model_id": "c64d81115719428d8262b82a2ac1ed75",
       "version_major": 2,
       "version_minor": 0
      },
      "text/plain": [
       "  0%|          | 0/27 [00:00<?, ?it/s]"
      ]
     },
     "metadata": {},
     "output_type": "display_data"
    },
    {
     "name": "stdout",
     "output_type": "stream",
     "text": [
      "Train loss: 0.6230, Train acc: 0.7778, Time: 7s\n",
      "Valid loss: 2.0656, Valid acc: 0.5556, Valid F1: 0.2491\n",
      "\n",
      "Epoch 40/50\n",
      "----------\n"
     ]
    },
    {
     "data": {
      "application/vnd.jupyter.widget-view+json": {
       "model_id": "1dcb235a80914fdabcdf41f7749f26ef",
       "version_major": 2,
       "version_minor": 0
      },
      "text/plain": [
       "  0%|          | 0/27 [00:00<?, ?it/s]"
      ]
     },
     "metadata": {},
     "output_type": "display_data"
    },
    {
     "name": "stdout",
     "output_type": "stream",
     "text": [
      "Train loss: 0.6092, Train acc: 0.7685, Time: 7s\n",
      "Valid loss: 2.0954, Valid acc: 0.6111, Valid F1: 0.4067\n",
      "\n",
      "Epoch 41/50\n",
      "----------\n"
     ]
    },
    {
     "data": {
      "application/vnd.jupyter.widget-view+json": {
       "model_id": "d43d78671dac42a99dbea79466a87a44",
       "version_major": 2,
       "version_minor": 0
      },
      "text/plain": [
       "  0%|          | 0/27 [00:00<?, ?it/s]"
      ]
     },
     "metadata": {},
     "output_type": "display_data"
    },
    {
     "name": "stdout",
     "output_type": "stream",
     "text": [
      "Train loss: 0.5965, Train acc: 0.7407, Time: 7s\n",
      "Valid loss: 1.9393, Valid acc: 0.5556, Valid F1: 0.2539\n",
      "\n",
      "Epoch 42/50\n",
      "----------\n"
     ]
    },
    {
     "data": {
      "application/vnd.jupyter.widget-view+json": {
       "model_id": "31ec595563a64808a0c28e588c0fe9cc",
       "version_major": 2,
       "version_minor": 0
      },
      "text/plain": [
       "  0%|          | 0/27 [00:00<?, ?it/s]"
      ]
     },
     "metadata": {},
     "output_type": "display_data"
    },
    {
     "name": "stdout",
     "output_type": "stream",
     "text": [
      "Train loss: 0.5502, Train acc: 0.8148, Time: 7s\n",
      "Valid loss: 2.1205, Valid acc: 0.5370, Valid F1: 0.2324\n",
      "\n",
      "Epoch 43/50\n",
      "----------\n"
     ]
    },
    {
     "data": {
      "application/vnd.jupyter.widget-view+json": {
       "model_id": "d0757b22c0e74d1c8cfd7d988f32c755",
       "version_major": 2,
       "version_minor": 0
      },
      "text/plain": [
       "  0%|          | 0/27 [00:00<?, ?it/s]"
      ]
     },
     "metadata": {},
     "output_type": "display_data"
    },
    {
     "name": "stdout",
     "output_type": "stream",
     "text": [
      "Train loss: 0.5619, Train acc: 0.7870, Time: 7s\n",
      "Valid loss: 1.9122, Valid acc: 0.5926, Valid F1: 0.2911\n",
      "\n",
      "Epoch 44/50\n",
      "----------\n"
     ]
    },
    {
     "data": {
      "application/vnd.jupyter.widget-view+json": {
       "model_id": "bb8356f513ff4a37ba59bd58732c39b9",
       "version_major": 2,
       "version_minor": 0
      },
      "text/plain": [
       "  0%|          | 0/27 [00:00<?, ?it/s]"
      ]
     },
     "metadata": {},
     "output_type": "display_data"
    },
    {
     "name": "stdout",
     "output_type": "stream",
     "text": [
      "Train loss: 0.5475, Train acc: 0.7963, Time: 7s\n",
      "Valid loss: 2.1161, Valid acc: 0.5741, Valid F1: 0.2868\n",
      "\n",
      "Epoch 45/50\n",
      "----------\n"
     ]
    },
    {
     "data": {
      "application/vnd.jupyter.widget-view+json": {
       "model_id": "09ca19dd26bc4376b544de22603dbe1f",
       "version_major": 2,
       "version_minor": 0
      },
      "text/plain": [
       "  0%|          | 0/27 [00:00<?, ?it/s]"
      ]
     },
     "metadata": {},
     "output_type": "display_data"
    },
    {
     "name": "stdout",
     "output_type": "stream",
     "text": [
      "Train loss: 0.5443, Train acc: 0.7963, Time: 7s\n",
      "Valid loss: 1.7945, Valid acc: 0.5926, Valid F1: 0.3081\n",
      "\n",
      "Epoch 46/50\n",
      "----------\n"
     ]
    },
    {
     "data": {
      "application/vnd.jupyter.widget-view+json": {
       "model_id": "f2e48a5724d245669629741f2d40c1b6",
       "version_major": 2,
       "version_minor": 0
      },
      "text/plain": [
       "  0%|          | 0/27 [00:00<?, ?it/s]"
      ]
     },
     "metadata": {},
     "output_type": "display_data"
    },
    {
     "name": "stdout",
     "output_type": "stream",
     "text": [
      "Train loss: 0.5375, Train acc: 0.8056, Time: 7s\n",
      "Valid loss: 1.9267, Valid acc: 0.6111, Valid F1: 0.3125\n",
      "\n",
      "Epoch 47/50\n",
      "----------\n"
     ]
    },
    {
     "data": {
      "application/vnd.jupyter.widget-view+json": {
       "model_id": "a9fe0af4a10644c691bcf0080e343c4b",
       "version_major": 2,
       "version_minor": 0
      },
      "text/plain": [
       "  0%|          | 0/27 [00:00<?, ?it/s]"
      ]
     },
     "metadata": {},
     "output_type": "display_data"
    },
    {
     "name": "stdout",
     "output_type": "stream",
     "text": [
      "Train loss: 0.5782, Train acc: 0.7593, Time: 7s\n",
      "Valid loss: 1.9813, Valid acc: 0.5556, Valid F1: 0.2564\n",
      "\n",
      "Epoch 48/50\n",
      "----------\n"
     ]
    },
    {
     "data": {
      "application/vnd.jupyter.widget-view+json": {
       "model_id": "a80fcf6b21a24ccd82a8be9a629c1ce2",
       "version_major": 2,
       "version_minor": 0
      },
      "text/plain": [
       "  0%|          | 0/27 [00:00<?, ?it/s]"
      ]
     },
     "metadata": {},
     "output_type": "display_data"
    },
    {
     "name": "stdout",
     "output_type": "stream",
     "text": [
      "Train loss: 0.5878, Train acc: 0.7778, Time: 7s\n",
      "Valid loss: 2.0632, Valid acc: 0.5926, Valid F1: 0.3818\n",
      "\n",
      "Epoch 49/50\n",
      "----------\n"
     ]
    },
    {
     "data": {
      "application/vnd.jupyter.widget-view+json": {
       "model_id": "c97e581dcd264b1a91ce083a380a4509",
       "version_major": 2,
       "version_minor": 0
      },
      "text/plain": [
       "  0%|          | 0/27 [00:00<?, ?it/s]"
      ]
     },
     "metadata": {},
     "output_type": "display_data"
    },
    {
     "name": "stdout",
     "output_type": "stream",
     "text": [
      "Train loss: 0.6438, Train acc: 0.7593, Time: 7s\n",
      "Valid loss: 1.9478, Valid acc: 0.5926, Valid F1: 0.3107\n",
      "\n",
      "Epoch 50/50\n",
      "----------\n"
     ]
    },
    {
     "data": {
      "application/vnd.jupyter.widget-view+json": {
       "model_id": "71d46c042a74442b933926ab6a36b946",
       "version_major": 2,
       "version_minor": 0
      },
      "text/plain": [
       "  0%|          | 0/27 [00:00<?, ?it/s]"
      ]
     },
     "metadata": {},
     "output_type": "display_data"
    },
    {
     "name": "stdout",
     "output_type": "stream",
     "text": [
      "Train loss: 0.6038, Train acc: 0.7685, Time: 7s\n",
      "Valid loss: 2.0209, Valid acc: 0.5741, Valid F1: 0.2733\n",
      "\n",
      "Training complete\n",
      "Best ACC: 0.6296 at epoch 10\n",
      "Best F1: 0.4386 at epoch 26\n"
     ]
    }
   ],
   "source": [
    "train_loss, valid_loss, train_acc, valid_acc, valid_f1 = run(train_loader, valid_loader, model,\n",
    "                                                             num_classes_m, epochs=epochs,\n",
    "                                                             save_path=save_path/'m')"
   ]
  },
  {
   "cell_type": "code",
   "execution_count": 45,
   "metadata": {},
   "outputs": [
    {
     "data": {
      "image/png": "[encoded data removed]",
      "text/plain": [
       "<Figure size 640x480 with 1 Axes>"
      ]
     },
     "metadata": {},
     "output_type": "display_data"
    }
   ],
   "source": [
    "plot_loss(train_loss, valid_loss)"
   ]
  },
  {
   "cell_type": "code",
   "execution_count": 46,
   "metadata": {},
   "outputs": [
    {
     "data": {
      "image/png": "[encoded data removed]",
      "text/plain": [
       "<Figure size 640x480 with 1 Axes>"
      ]
     },
     "metadata": {},
     "output_type": "display_data"
    }
   ],
   "source": [
    "plot_metrics(train_acc, valid_acc, valid_f1)"
   ]
  },
  {
   "cell_type": "code",
   "execution_count": 47,
   "metadata": {},
   "outputs": [
    {
     "name": "stdout",
     "output_type": "stream",
     "text": [
      "accuracy: 0.6296296296296297, f1 score: 0.4386464263124605\n"
     ]
    }
   ],
   "source": [
    "print(f'accuracy: {max(valid_acc)}, f1 score: {max(valid_f1)}')"
   ]
  },
  {
   "cell_type": "code",
   "execution_count": null,
   "metadata": {},
   "outputs": [],
   "source": []
  }
 ],
 "metadata": {
  "kernelspec": {
   "display_name": "env_radnlp",
   "language": "python",
   "name": "python3"
  },
  "language_info": {
   "codemirror_mode": {
    "name": "ipython",
    "version": 3
   },
   "file_extension": ".py",
   "mimetype": "text/x-python",
   "name": "python",
   "nbconvert_exporter": "python",
   "pygments_lexer": "ipython3",
   "version": "3.11.11"
  }
 },
 "nbformat": 4,
 "nbformat_minor": 4
}
