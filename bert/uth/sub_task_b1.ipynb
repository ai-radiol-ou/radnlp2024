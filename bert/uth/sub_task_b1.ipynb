{
 "cells": [
  {
   "cell_type": "code",
   "execution_count": 2,
   "metadata": {},
   "outputs": [],
   "source": [
    "import sys\n",
    "import os\n",
    "import glob\n",
    "from pathlib import Path\n",
    "import random\n",
    "import time\n",
    "import datetime\n",
    "from tqdm.notebook import tqdm\n",
    "import numpy as np\n",
    "import pandas as pd\n",
    "import matplotlib.pyplot as plt\n",
    "%matplotlib inline\n",
    "import seaborn as sns\n",
    "import sklearn\n",
    "from sklearn import preprocessing\n",
    "from sklearn.preprocessing import label_binarize\n",
    "from sklearn.model_selection import train_test_split\n",
    "from sklearn.utils import shuffle\n",
    "from sklearn.model_selection import KFold, StratifiedKFold, GroupKFold\n",
    "from sklearn import metrics\n",
    "from sklearn.metrics import confusion_matrix, accuracy_score, recall_score, precision_score, f1_score, roc_curve, roc_auc_score\n",
    "import re\n",
    "import transformers\n",
    "import torch \n",
    "from torch.utils.data import DataLoader, Dataset\n",
    "import torch.nn as nn\n",
    "import torch.nn.functional as F\n",
    "from torch.nn.utils.rnn import pad_sequence\n",
    "import torch.optim as optim\n",
    "from torch.optim.lr_scheduler import StepLR\n",
    "%matplotlib inline\n",
    "sns.set_theme(style='darkgrid')"
   ]
  },
  {
   "cell_type": "code",
   "execution_count": 3,
   "metadata": {},
   "outputs": [],
   "source": [
    "from pkg.UTHBERT.preprocess_text import preprocess as my_preprocess\n",
    "from pkg.UTHBERT.tokenization_mod import MecabTokenizer, FullTokenizerForMecab\n",
    "from transformers import BertModel,BertConfig"
   ]
  },
  {
   "cell_type": "code",
   "execution_count": 4,
   "metadata": {},
   "outputs": [
    {
     "name": "stdout",
     "output_type": "stream",
     "text": [
      "Using device: mps\n"
     ]
    }
   ],
   "source": [
    "def get_device() -> str:\n",
    "    \"\"\"\n",
    "    Returns the best available device for PyTorch computations.\n",
    "    \"\"\"\n",
    "    if torch.backends.mps.is_available():\n",
    "        # macOS with Apple Silicon (MPS backend)\n",
    "        return \"mps\"\n",
    "    elif torch.cuda.is_available():\n",
    "        # NVIDIA GPU\n",
    "        return \"cuda\"\n",
    "    else:\n",
    "        # Fallback to CPU\n",
    "        return \"cpu\"\n",
    "\n",
    "try:\n",
    "    device = torch.device(get_device())\n",
    "    print(f\"Using device: {device}\")\n",
    "except RuntimeError as e:\n",
    "    print(f\"Failed to initialize the device: {e}\")\n",
    "    device = torch.device(\"cpu\")  # Fallback to CPU in case of an error"
   ]
  },
  {
   "cell_type": "code",
   "execution_count": 5,
   "metadata": {},
   "outputs": [],
   "source": [
    "seed=0\n",
    "def seed_everything(seed):\n",
    "    random.seed(seed)\n",
    "    os.environ['PYTHONHASHSEED'] = str(seed)\n",
    "    np.random.seed(seed)\n",
    "    torch.manual_seed(seed)\n",
    "    torch.cuda.manual_seed(seed)\n",
    "    torch.backends.cudnn.deterministic = True\n",
    "    torch.backends.cudnn.benchmark = False #Trueで高速化重視, Falseで再現性重視\n",
    "seed_everything(seed)\n",
    "os.environ[\"CUDA_VISIBLE_DEVICES\"] = \"0\"\n",
    "torch.use_deterministic_algorithms(True)\n",
    "torch.set_num_threads(1)"
   ]
  },
  {
   "cell_type": "markdown",
   "metadata": {},
   "source": [
    "# Tokenizer"
   ]
  },
  {
   "cell_type": "code",
   "execution_count": 6,
   "metadata": {},
   "outputs": [],
   "source": [
    "dic_path = './dic'"
   ]
  },
  {
   "cell_type": "code",
   "execution_count": 7,
   "metadata": {},
   "outputs": [],
   "source": [
    "# special token for a Person's name (Do not change)\n",
    "name_token = \"＠＠Ｎ\"\n",
    "\n",
    "# path to the mecab-ipadic-neologd\n",
    "mecab_ipadic_neologd = dic_path + '/mecab-ipadic-neologd'\n",
    "\n",
    "# path to the J-Medic (We used MANBYO_201907_Dic-utf8.dic)\n",
    "mecab_J_medic = dic_path + '/MANBYO/MANBYO_201907_Dic-utf8.dic'\n",
    "\n",
    "# path to the uth-bert vocabulary\n",
    "vocab_file = dic_path + '/UTH-BERT/bert_vocab_mc_v1_25000.txt'"
   ]
  },
  {
   "cell_type": "code",
   "execution_count": 8,
   "metadata": {},
   "outputs": [],
   "source": [
    "# MecabTokenizer\n",
    "sub_tokenizer = MecabTokenizer(mecab_ipadic_neologd=mecab_ipadic_neologd,\n",
    "                               mecab_J_medic=mecab_J_medic,\n",
    "                               name_token=name_token)\n",
    "\n",
    "# FullTokenizerForMecab\n",
    "tokenizer = FullTokenizerForMecab(sub_tokenizer=sub_tokenizer,\n",
    "                                  vocab_file=vocab_file,\n",
    "                                  do_lower_case=False)"
   ]
  },
  {
   "cell_type": "code",
   "execution_count": 9,
   "metadata": {},
   "outputs": [],
   "source": [
    "def tokenize(sentence_list):\n",
    "    token_list = []\n",
    "    for s in tqdm(sentence_list):\n",
    "        tokens = tokenizer.tokenize(my_preprocess(str(s)))\n",
    "        ids = tokenizer.convert_tokens_to_ids(tokens)\n",
    "        ids = [2] + ids + [3]\n",
    "        token_list.append(ids)\n",
    "    return token_list"
   ]
  },
  {
   "cell_type": "markdown",
   "metadata": {},
   "source": [
    "# Data"
   ]
  },
  {
   "cell_type": "code",
   "execution_count": 10,
   "metadata": {},
   "outputs": [],
   "source": [
    "def create_dataframe(folder_path):\n",
    "    \"\"\"\n",
    "    指定されたフォルダ内のテキストファイルからDataFrameを作成する関数\n",
    "\n",
    "    Args:\n",
    "        folder_path (str): テキストファイルが入っているフォルダのパス\n",
    "\n",
    "    Returns:\n",
    "        pandas.DataFrame: 作成されたDataFrame\n",
    "    \"\"\"\n",
    "\n",
    "    # sentence.csvを読み込む\n",
    "    df_text = pd.read_csv(os.path.join(folder_path, \"sentences.csv\"))\n",
    "    # label.csvを読み込む\n",
    "    df_label = pd.read_csv(os.path.join(folder_path, \"label.csv\"))\n",
    "\n",
    "    df_text['index'] = df_text['id'].astype(str) + '_' + df_text['sentence_index'].astype(str)\n",
    "    df_label['index'] = df_label['id'].astype(str) + '_' + df_label['sentence_index'].astype(str)\n",
    "    \n",
    "    # textとlabelのDataFrameを結合\n",
    "    df = pd.merge(df_text, df_label, on='index', how='inner')\n",
    "    df['id'] = df['id_x'].combine_first(df['id_y'])\n",
    "    df = df.drop(columns=['id_x', 'id_y'])\n",
    "    df['sentence_index'] = df['sentence_index_x'].combine_first(df['sentence_index_y'])\n",
    "    df = df.drop(columns=['sentence_index_x', 'sentence_index_y'])\n",
    "    cols = ['index','id','sentence_index'] + [col for col in df.columns if col not in ['index','id','sentence_index']]\n",
    "    df = df[cols]\n",
    "\n",
    "    return df\n",
    "\n",
    "train_folder_path = \"../../radnlp_2024_train_val_20240731/ja/sub_task/train\"\n",
    "train_df = create_dataframe(train_folder_path)\n",
    "val_folder_path = \"../../radnlp_2024_train_val_20240731/ja/sub_task/val\"\n",
    "val_df = create_dataframe(val_folder_path)"
   ]
  },
  {
   "cell_type": "code",
   "execution_count": 11,
   "metadata": {},
   "outputs": [
    {
     "data": {
      "text/html": [
       "<div>\n",
       "<style scoped>\n",
       "    .dataframe tbody tr th:only-of-type {\n",
       "        vertical-align: middle;\n",
       "    }\n",
       "\n",
       "    .dataframe tbody tr th {\n",
       "        vertical-align: top;\n",
       "    }\n",
       "\n",
       "    .dataframe thead th {\n",
       "        text-align: right;\n",
       "    }\n",
       "</style>\n",
       "<table border=\"1\" class=\"dataframe\">\n",
       "  <thead>\n",
       "    <tr style=\"text-align: right;\">\n",
       "      <th></th>\n",
       "      <th>index</th>\n",
       "      <th>id</th>\n",
       "      <th>sentence_index</th>\n",
       "      <th>text</th>\n",
       "      <th>omittable</th>\n",
       "      <th>measure</th>\n",
       "      <th>extension</th>\n",
       "      <th>atelectasis</th>\n",
       "      <th>satellite</th>\n",
       "      <th>lymphadenopathy</th>\n",
       "      <th>pleural</th>\n",
       "      <th>distant</th>\n",
       "    </tr>\n",
       "  </thead>\n",
       "  <tbody>\n",
       "    <tr>\n",
       "      <th>0</th>\n",
       "      <td>56344_0</td>\n",
       "      <td>56344</td>\n",
       "      <td>0</td>\n",
       "      <td>左上葉全体が無気肺になっています。</td>\n",
       "      <td>0</td>\n",
       "      <td>0</td>\n",
       "      <td>0</td>\n",
       "      <td>1</td>\n",
       "      <td>0</td>\n",
       "      <td>0</td>\n",
       "      <td>0</td>\n",
       "      <td>0</td>\n",
       "    </tr>\n",
       "    <tr>\n",
       "      <th>1</th>\n",
       "      <td>56344_1</td>\n",
       "      <td>56344</td>\n",
       "      <td>1</td>\n",
       "      <td>左上葉気管支は閉塞して造影  CT  で増強効果の乏しい 74mm  の腫瘤があります。</td>\n",
       "      <td>0</td>\n",
       "      <td>1</td>\n",
       "      <td>1</td>\n",
       "      <td>0</td>\n",
       "      <td>0</td>\n",
       "      <td>0</td>\n",
       "      <td>0</td>\n",
       "      <td>0</td>\n",
       "    </tr>\n",
       "    <tr>\n",
       "      <th>2</th>\n",
       "      <td>56344_2</td>\n",
       "      <td>56344</td>\n",
       "      <td>2</td>\n",
       "      <td>肺癌と考えます。</td>\n",
       "      <td>0</td>\n",
       "      <td>1</td>\n",
       "      <td>0</td>\n",
       "      <td>0</td>\n",
       "      <td>0</td>\n",
       "      <td>0</td>\n",
       "      <td>0</td>\n",
       "      <td>0</td>\n",
       "    </tr>\n",
       "    <tr>\n",
       "      <th>3</th>\n",
       "      <td>56344_3</td>\n",
       "      <td>56344</td>\n",
       "      <td>3</td>\n",
       "      <td>左肺門、同側縦隔リンパ節腫大しリンパ節転移と考えます。</td>\n",
       "      <td>0</td>\n",
       "      <td>0</td>\n",
       "      <td>0</td>\n",
       "      <td>0</td>\n",
       "      <td>0</td>\n",
       "      <td>1</td>\n",
       "      <td>0</td>\n",
       "      <td>0</td>\n",
       "    </tr>\n",
       "    <tr>\n",
       "      <th>4</th>\n",
       "      <td>56344_4</td>\n",
       "      <td>56344</td>\n",
       "      <td>4</td>\n",
       "      <td>気管右側にもリンパ節腫大があり、こちらもリンパ節転移を疑います。</td>\n",
       "      <td>0</td>\n",
       "      <td>0</td>\n",
       "      <td>0</td>\n",
       "      <td>0</td>\n",
       "      <td>0</td>\n",
       "      <td>1</td>\n",
       "      <td>0</td>\n",
       "      <td>0</td>\n",
       "    </tr>\n",
       "    <tr>\n",
       "      <th>5</th>\n",
       "      <td>56344_5</td>\n",
       "      <td>56344</td>\n",
       "      <td>5</td>\n",
       "      <td>左下葉気管支も腫瘍により浸潤あり、狭窄しています。</td>\n",
       "      <td>0</td>\n",
       "      <td>0</td>\n",
       "      <td>1</td>\n",
       "      <td>0</td>\n",
       "      <td>0</td>\n",
       "      <td>0</td>\n",
       "      <td>0</td>\n",
       "      <td>0</td>\n",
       "    </tr>\n",
       "    <tr>\n",
       "      <th>6</th>\n",
       "      <td>56344_6</td>\n",
       "      <td>56344</td>\n",
       "      <td>6</td>\n",
       "      <td>胸水貯留は認めません。</td>\n",
       "      <td>1</td>\n",
       "      <td>0</td>\n",
       "      <td>0</td>\n",
       "      <td>0</td>\n",
       "      <td>0</td>\n",
       "      <td>0</td>\n",
       "      <td>0</td>\n",
       "      <td>0</td>\n",
       "    </tr>\n",
       "    <tr>\n",
       "      <th>7</th>\n",
       "      <td>56344_7</td>\n",
       "      <td>56344</td>\n",
       "      <td>7</td>\n",
       "      <td>撮影範囲の腹部臓器に粗大な異常を認めません。</td>\n",
       "      <td>1</td>\n",
       "      <td>0</td>\n",
       "      <td>0</td>\n",
       "      <td>0</td>\n",
       "      <td>0</td>\n",
       "      <td>0</td>\n",
       "      <td>0</td>\n",
       "      <td>0</td>\n",
       "    </tr>\n",
       "    <tr>\n",
       "      <th>8</th>\n",
       "      <td>133166_0</td>\n",
       "      <td>133166</td>\n",
       "      <td>0</td>\n",
       "      <td>右下葉 S8 に⻑径 30mm の腫瘤性病変があります。</td>\n",
       "      <td>0</td>\n",
       "      <td>1</td>\n",
       "      <td>0</td>\n",
       "      <td>0</td>\n",
       "      <td>0</td>\n",
       "      <td>0</td>\n",
       "      <td>0</td>\n",
       "      <td>0</td>\n",
       "    </tr>\n",
       "    <tr>\n",
       "      <th>9</th>\n",
       "      <td>133166_1</td>\n",
       "      <td>133166</td>\n",
       "      <td>1</td>\n",
       "      <td>辺縁には spicula を伴っています。</td>\n",
       "      <td>1</td>\n",
       "      <td>0</td>\n",
       "      <td>0</td>\n",
       "      <td>0</td>\n",
       "      <td>0</td>\n",
       "      <td>0</td>\n",
       "      <td>0</td>\n",
       "      <td>0</td>\n",
       "    </tr>\n",
       "  </tbody>\n",
       "</table>\n",
       "</div>"
      ],
      "text/plain": [
       "      index      id  sentence_index  \\\n",
       "0   56344_0   56344               0   \n",
       "1   56344_1   56344               1   \n",
       "2   56344_2   56344               2   \n",
       "3   56344_3   56344               3   \n",
       "4   56344_4   56344               4   \n",
       "5   56344_5   56344               5   \n",
       "6   56344_6   56344               6   \n",
       "7   56344_7   56344               7   \n",
       "8  133166_0  133166               0   \n",
       "9  133166_1  133166               1   \n",
       "\n",
       "                                           text  omittable  measure  \\\n",
       "0                             左上葉全体が無気肺になっています。          0        0   \n",
       "1  左上葉気管支は閉塞して造影  CT  で増強効果の乏しい 74mm  の腫瘤があります。          0        1   \n",
       "2                                      肺癌と考えます。          0        1   \n",
       "3                   左肺門、同側縦隔リンパ節腫大しリンパ節転移と考えます。          0        0   \n",
       "4              気管右側にもリンパ節腫大があり、こちらもリンパ節転移を疑います。          0        0   \n",
       "5                     左下葉気管支も腫瘍により浸潤あり、狭窄しています。          0        0   \n",
       "6                                   胸水貯留は認めません。          1        0   \n",
       "7                        撮影範囲の腹部臓器に粗大な異常を認めません。          1        0   \n",
       "8                  右下葉 S8 に⻑径 30mm の腫瘤性病変があります。          0        1   \n",
       "9                         辺縁には spicula を伴っています。          1        0   \n",
       "\n",
       "   extension  atelectasis  satellite  lymphadenopathy  pleural  distant  \n",
       "0          0            1          0                0        0        0  \n",
       "1          1            0          0                0        0        0  \n",
       "2          0            0          0                0        0        0  \n",
       "3          0            0          0                1        0        0  \n",
       "4          0            0          0                1        0        0  \n",
       "5          1            0          0                0        0        0  \n",
       "6          0            0          0                0        0        0  \n",
       "7          0            0          0                0        0        0  \n",
       "8          0            0          0                0        0        0  \n",
       "9          0            0          0                0        0        0  "
      ]
     },
     "execution_count": 11,
     "metadata": {},
     "output_type": "execute_result"
    }
   ],
   "source": [
    "train_df.head(10)"
   ]
  },
  {
   "cell_type": "code",
   "execution_count": 12,
   "metadata": {},
   "outputs": [
    {
     "name": "stdout",
     "output_type": "stream",
     "text": [
      "omittable\n",
      "0    562\n",
      "1    458\n",
      "Name: count, dtype: int64\n",
      "measure\n",
      "0    833\n",
      "1    187\n",
      "Name: count, dtype: int64\n",
      "extension\n",
      "0    908\n",
      "1    112\n",
      "Name: count, dtype: int64\n",
      "atelectasis\n",
      "0    987\n",
      "1     33\n",
      "Name: count, dtype: int64\n",
      "satellite\n",
      "0    946\n",
      "1     74\n",
      "Name: count, dtype: int64\n",
      "lymphadenopathy\n",
      "0    907\n",
      "1    113\n",
      "Name: count, dtype: int64\n",
      "pleural\n",
      "0    994\n",
      "1     26\n",
      "Name: count, dtype: int64\n",
      "distant\n",
      "0    935\n",
      "1     85\n",
      "Name: count, dtype: int64\n"
     ]
    }
   ],
   "source": [
    "print(train_df['omittable'].value_counts())\n",
    "print(train_df['measure'].value_counts())\n",
    "print(train_df['extension'].value_counts())\n",
    "print(train_df['atelectasis'].value_counts())\n",
    "print(train_df['satellite'].value_counts())\n",
    "print(train_df['lymphadenopathy'].value_counts())\n",
    "print(train_df['pleural'].value_counts())\n",
    "print(train_df['distant'].value_counts())"
   ]
  },
  {
   "cell_type": "code",
   "execution_count": 13,
   "metadata": {},
   "outputs": [
    {
     "data": {
      "text/plain": [
       "1020"
      ]
     },
     "execution_count": 13,
     "metadata": {},
     "output_type": "execute_result"
    }
   ],
   "source": [
    "len(train_df)"
   ]
  },
  {
   "cell_type": "code",
   "execution_count": 14,
   "metadata": {},
   "outputs": [
    {
     "data": {
      "application/vnd.jupyter.widget-view+json": {
       "model_id": "3719b1dc5e4b4501a812087322035d84",
       "version_major": 2,
       "version_minor": 0
      },
      "text/plain": [
       "  0%|          | 0/1020 [00:00<?, ?it/s]"
      ]
     },
     "metadata": {},
     "output_type": "display_data"
    },
    {
     "data": {
      "application/vnd.jupyter.widget-view+json": {
       "model_id": "442914250bb144f38575c6d3fbd5b9d7",
       "version_major": 2,
       "version_minor": 0
      },
      "text/plain": [
       "  0%|          | 0/451 [00:00<?, ?it/s]"
      ]
     },
     "metadata": {},
     "output_type": "display_data"
    }
   ],
   "source": [
    "X_train, X_valid = tokenize(train_df['text'].values.tolist()), tokenize(val_df['text'].values.tolist())\n",
    "Yomit_train, Yomit_valid = train_df['omittable'].values.tolist(), val_df['omittable'].values.tolist()\n",
    "Ymeas_train, Ymeas_valid = train_df['measure'].values.tolist(), val_df['measure'].values.tolist()\n",
    "Yexte_train, Yexte_valid = train_df['extension'].values.tolist(), val_df['extension'].values.tolist()\n",
    "Yatel_train, Yatel_valid = train_df['atelectasis'].values.tolist(), val_df['atelectasis'].values.tolist()\n",
    "Ysate_train, Ysate_valid = train_df['satellite'].values.tolist(), val_df['satellite'].values.tolist()\n",
    "Ylymp_train, Ylymp_valid = train_df['lymphadenopathy'].values.tolist(), val_df['lymphadenopathy'].values.tolist()\n",
    "Ypleu_train, Ypleu_valid = train_df['pleural'].values.tolist(), val_df['pleural'].values.tolist()\n",
    "Ydist_train, Ydist_valid = train_df['distant'].values.tolist(), val_df['distant'].values.tolist()"
   ]
  },
  {
   "cell_type": "markdown",
   "metadata": {},
   "source": [
    "# subtask各々で分類モデルを学習"
   ]
  },
  {
   "cell_type": "code",
   "execution_count": 15,
   "metadata": {},
   "outputs": [],
   "source": [
    "model_path = Path('./pkg/UTHBERT')\n",
    "save_path = Path('./model')"
   ]
  },
  {
   "cell_type": "code",
   "execution_count": 16,
   "metadata": {},
   "outputs": [],
   "source": [
    "num_classes=2"
   ]
  },
  {
   "cell_type": "code",
   "execution_count": 17,
   "metadata": {},
   "outputs": [],
   "source": [
    "class MyCollator(object):\n",
    "    '''\n",
    "    Args:\n",
    "    test : Set True when using with test data loader. Defaults to False\n",
    "    percentile : Trim sequences by this percentile\n",
    "    '''\n",
    "    def __init__(self,test=False,percentile=100):\n",
    "        self.test = test\n",
    "        self.percentile = percentile\n",
    "    def __call__(self, batch):\n",
    "        if not self.test:\n",
    "            data = [torch.tensor(item[0])  for item in batch]\n",
    "            target = [item[1] for item in batch]\n",
    "        else:\n",
    "            data = [item for item in batch]\n",
    "        \n",
    "        # Padding\n",
    "        data = pad_sequence(data, batch_first=True)\n",
    "        data = data.clone().detach().long()\n",
    "        masks = torch.where(data==0, 1, 0)\n",
    "        masks = masks.clone().detach().long()\n",
    "        if not self.test:\n",
    "            target = torch.tensor(target, dtype=torch.long)\n",
    "            return [data, masks, target]\n",
    "        return [data, masks]"
   ]
  },
  {
   "cell_type": "code",
   "execution_count": 18,
   "metadata": {},
   "outputs": [],
   "source": [
    "def build_data(train_data, valid_data, batch_size=8): \n",
    "        \n",
    "    collate = MyCollator(percentile=100)\n",
    "    train_loader = DataLoader(train_data, batch_size=batch_size, shuffle=True, num_workers=0, collate_fn=collate) \n",
    "    valid_loader = DataLoader(valid_data, batch_size=batch_size, shuffle=True, num_workers=0, collate_fn=collate) \n",
    "     \n",
    "    return train_loader, valid_loader"
   ]
  },
  {
   "cell_type": "code",
   "execution_count": 19,
   "metadata": {},
   "outputs": [],
   "source": [
    "config = BertConfig.from_json_file(model_path / 'bert_config.json')\n",
    "bert = BertModel.from_pretrained(model_path / 'UTH_BERT.bin', config=config)\n",
    "\n",
    "class Net(nn.Module):\n",
    "    def __init__(self, bert, num_classes):\n",
    "        super(Net, self).__init__()\n",
    "        self.bert = bert\n",
    "        self.cls = nn.Linear(768, num_classes)\n",
    "\n",
    "  # @torch.cuda.amp.autocast()\n",
    "    def forward(self, inputs_ids, pad_masks, Attention=False):\n",
    "        bout = self.bert(inputs_ids, pad_masks, output_attentions=Attention)\n",
    "        bs = len(bout[0])\n",
    "        h0 = [bout[0][i][0] for i in range(bs)]\n",
    "        h0 = torch.stack(h0,dim=0)\n",
    "        if Attention:\n",
    "            return self.cls(h0),bout\n",
    "        else:\n",
    "            return self.cls(h0)"
   ]
  },
  {
   "cell_type": "code",
   "execution_count": 20,
   "metadata": {},
   "outputs": [],
   "source": [
    "def plot_loss(train_loss, valid_loss):\n",
    "    plt.plot(train_loss)\n",
    "    plt.plot(valid_loss)\n",
    "    plt.xlabel('epoch')\n",
    "    plt.ylabel('loss')\n",
    "    plt.legend(['train_loss', 'valid_loss'], loc='upper right')\n",
    "    plt.xticks(np.arange(0, len(train_loss) + 1, 5))\n",
    "    plt.show()"
   ]
  },
  {
   "cell_type": "code",
   "execution_count": 21,
   "metadata": {},
   "outputs": [],
   "source": [
    "def plot_metrics(train_acc, test_acc):\n",
    "    plt.plot(train_acc)\n",
    "    plt.plot(test_acc)\n",
    "    plt.title('model accuracy')\n",
    "    plt.xlabel('epoch')\n",
    "    plt.ylabel('accuracy')\n",
    "    plt.legend(['train_acc', 'valid_acc'], loc='lower right')\n",
    "    plt.xticks(np.arange(0, len(train_acc) + 1, 5))\n",
    "    plt.show()"
   ]
  },
  {
   "cell_type": "code",
   "execution_count": 22,
   "metadata": {},
   "outputs": [],
   "source": [
    "def synchronize():\n",
    "    if torch.backends.mps.is_available():\n",
    "        torch.mps.synchronize()\n",
    "    elif torch.cuda.is_available():\n",
    "        torch.cuda.synchronize()\n",
    "\n",
    "def run(train_loader, valid_loader, model, num_classes, epochs=10, patience=5, delta=0.0, save_path=save_path):\n",
    "    \n",
    "    train_loss, valid_loss, train_acc, valid_acc = [], [], [], []\n",
    "    best_acc, best_acc_epoch = 0.0, 0\n",
    "    best_valid_loss = np.inf\n",
    "    patience_counter = 0\n",
    "    \n",
    "    for epoch in range(0, epochs): \n",
    "        print(f'\\nEpoch {epoch + 1}/{epochs}')\n",
    "        print('-' * 10)\n",
    "        epoch_train_loss, epoch_valid_loss = 0.0, 0.0\n",
    "        epoch_train_acc = 0.0\n",
    "\n",
    "        model.train() \n",
    "        start = time.time()\n",
    "        for data in tqdm(train_loader): \n",
    "            inputs, masks, labels = data[0].to(device), data[1].to(device), data[2].to(device)\n",
    "            optimizer.zero_grad() \n",
    "            outputs = model(inputs, masks)\n",
    "            loss = criterion(outputs, labels)  \n",
    "            loss.backward() \n",
    "            optimizer.step() \n",
    "            epoch_train_loss += loss.item() / len(train_loader) \n",
    "            acc = (F.softmax(outputs, dim=1).argmax(dim=1) == labels).float().mean()\n",
    "            epoch_train_acc += acc.item() / len(train_loader)\n",
    "            del inputs, masks, labels, outputs, loss    \n",
    "\n",
    "        train_loss.append(epoch_train_loss)\n",
    "        train_acc.append(epoch_train_acc)\n",
    "        synchronize()\n",
    "        elapsed_time = time.time() - start\n",
    "        print(f'Train loss: {epoch_train_loss:.4f}, Train acc: {epoch_train_acc:.4f}, Time: {elapsed_time:.0f}s')\n",
    "        \n",
    "        model.eval()\n",
    "        label_li, pred_li = [], []\n",
    "        with torch.no_grad():\n",
    "            for data in valid_loader:\n",
    "                inputs, masks, labels = data[0].to(device), data[1].to(device), data[2].to(device)\n",
    "                outputs = model(inputs, masks)\n",
    "                loss = criterion(outputs, labels)\n",
    "                epoch_valid_loss += loss.item() / len(valid_loader)\n",
    "                preds = F.softmax(outputs, dim=1).argmax(dim=1)\n",
    "                label_li.extend(labels.cpu().numpy())\n",
    "                pred_li.extend(preds.cpu().numpy())\n",
    "\n",
    "        valid_loss.append(epoch_valid_loss)\n",
    "        epoch_valid_acc = accuracy_score(label_li, pred_li)\n",
    "        valid_acc.append(epoch_valid_acc)\n",
    "\n",
    "        print(f'Valid loss: {epoch_valid_loss:.4f}, Valid acc: {epoch_valid_acc:.4f}')\n",
    "\n",
    "        if epoch_valid_acc > best_acc: \n",
    "            best_acc = epoch_valid_acc\n",
    "            best_acc_epoch = epoch\n",
    "            torch.save(model.state_dict(), save_path / f'best_acc_1.pth')\n",
    "\n",
    "        # # Early stopping\n",
    "        # if epoch_valid_loss < best_valid_loss - delta:\n",
    "        #     best_valid_loss = epoch_valid_loss\n",
    "        #     patience_counter = 0  # 改善があったので、カウンタをリセット\n",
    "        # else:\n",
    "        #     patience_counter += 1\n",
    "        # if patience_counter >= patience:\n",
    "        #     print(f'Early stopping at epoch {epoch + 1}')\n",
    "        #     break\n",
    "            \n",
    "    print('\\nTraining complete')\n",
    "    print(f'Best ACC: {best_acc:.4f} at epoch {best_acc_epoch}')\n",
    "\n",
    "    return train_loss, valid_loss, train_acc, valid_acc "
   ]
  },
  {
   "cell_type": "code",
   "execution_count": 23,
   "metadata": {},
   "outputs": [],
   "source": [
    "batch_size=1\n",
    "epochs=20\n",
    "learning_rate=1e-5\n",
    "momentum=0.9"
   ]
  },
  {
   "cell_type": "markdown",
   "metadata": {},
   "source": [
    "## Omittableモデル"
   ]
  },
  {
   "cell_type": "code",
   "execution_count": 24,
   "metadata": {},
   "outputs": [],
   "source": [
    "train_data = []\n",
    "valid_data = []\n",
    "for x, y in zip(X_train, Yomit_train):\n",
    "    data = [x, y]\n",
    "    train_data.append(data)\n",
    "for x, y in zip(X_valid, Yomit_valid):\n",
    "    data = [x, y]\n",
    "    valid_data.append(data)\n",
    "    \n",
    "train_loader, valid_loader = build_data(train_data, valid_data, batch_size=batch_size)"
   ]
  },
  {
   "cell_type": "code",
   "execution_count": 25,
   "metadata": {},
   "outputs": [],
   "source": [
    "config = BertConfig.from_json_file(model_path / 'bert_config.json')\n",
    "bert = BertModel.from_pretrained(model_path / 'UTH_BERT.bin', config=config)\n",
    "model = Net(bert, num_classes).to(device)\n",
    "\n",
    "FREEZE=False\n",
    "if FREEZE: \n",
    "    idx=1 #Any\n",
    "    for name, param in model.named_parameters(): \n",
    "        param.requires_grad = False \n",
    "    for name, param in list(model.named_parameters())[idx:]: \n",
    "        param.requires_grad = True \n",
    "#     optimizer = optim.SGD([{'params':list(model.parameters())[idx:], 'lr':learning_rate, 'momentum':momentum}])\n",
    "    optimizer = optim.Adam([{'params':list(model.parameters())[idx:], 'lr':learning_rate}]) \n",
    "    criterion = nn.CrossEntropyLoss()\n",
    "else:  \n",
    "#     optimizer = optim.SGD(model.parameters(), lr=learning_rate, momentum=momentum)\n",
    "    optimizer = optim.Adam(model.parameters(), lr=learning_rate)\n",
    "    criterion = nn.CrossEntropyLoss()\n",
    "\n",
    "scheduler = StepLR(optimizer, step_size=3, gamma=0.1)"
   ]
  },
  {
   "cell_type": "code",
   "execution_count": 26,
   "metadata": {},
   "outputs": [
    {
     "name": "stdout",
     "output_type": "stream",
     "text": [
      "\n",
      "Epoch 1/20\n",
      "----------\n"
     ]
    },
    {
     "data": {
      "application/vnd.jupyter.widget-view+json": {
       "model_id": "4d8e377e4a4645b5a8e77a4df51536ce",
       "version_major": 2,
       "version_minor": 0
      },
      "text/plain": [
       "  0%|          | 0/1020 [00:00<?, ?it/s]"
      ]
     },
     "metadata": {},
     "output_type": "display_data"
    },
    {
     "name": "stdout",
     "output_type": "stream",
     "text": [
      "Train loss: 0.2958, Train acc: 0.8804, Time: 149s\n",
      "Valid loss: 0.2924, Valid acc: 0.8825\n",
      "\n",
      "Epoch 2/20\n",
      "----------\n"
     ]
    },
    {
     "data": {
      "application/vnd.jupyter.widget-view+json": {
       "model_id": "ef06dd7dd1d64f86aa9142b80beff1d0",
       "version_major": 2,
       "version_minor": 0
      },
      "text/plain": [
       "  0%|          | 0/1020 [00:00<?, ?it/s]"
      ]
     },
     "metadata": {},
     "output_type": "display_data"
    },
    {
     "name": "stdout",
     "output_type": "stream",
     "text": [
      "Train loss: 0.1694, Train acc: 0.9255, Time: 129s\n",
      "Valid loss: 0.2377, Valid acc: 0.9091\n",
      "\n",
      "Epoch 3/20\n",
      "----------\n"
     ]
    },
    {
     "data": {
      "application/vnd.jupyter.widget-view+json": {
       "model_id": "d3ee355e54844c16a6b86a0493ad15b6",
       "version_major": 2,
       "version_minor": 0
      },
      "text/plain": [
       "  0%|          | 0/1020 [00:00<?, ?it/s]"
      ]
     },
     "metadata": {},
     "output_type": "display_data"
    },
    {
     "name": "stdout",
     "output_type": "stream",
     "text": [
      "Train loss: 0.1530, Train acc: 0.9392, Time: 126s\n",
      "Valid loss: 0.2859, Valid acc: 0.9202\n",
      "\n",
      "Epoch 4/20\n",
      "----------\n"
     ]
    },
    {
     "data": {
      "application/vnd.jupyter.widget-view+json": {
       "model_id": "ccfa3d64d190452b8c801859d87fe014",
       "version_major": 2,
       "version_minor": 0
      },
      "text/plain": [
       "  0%|          | 0/1020 [00:00<?, ?it/s]"
      ]
     },
     "metadata": {},
     "output_type": "display_data"
    },
    {
     "name": "stdout",
     "output_type": "stream",
     "text": [
      "Train loss: 0.1193, Train acc: 0.9520, Time: 128s\n",
      "Valid loss: 0.3330, Valid acc: 0.8980\n",
      "\n",
      "Epoch 5/20\n",
      "----------\n"
     ]
    },
    {
     "data": {
      "application/vnd.jupyter.widget-view+json": {
       "model_id": "7fb56291e46e4249a39cb9ea6489c297",
       "version_major": 2,
       "version_minor": 0
      },
      "text/plain": [
       "  0%|          | 0/1020 [00:00<?, ?it/s]"
      ]
     },
     "metadata": {},
     "output_type": "display_data"
    },
    {
     "name": "stdout",
     "output_type": "stream",
     "text": [
      "Train loss: 0.0751, Train acc: 0.9686, Time: 126s\n",
      "Valid loss: 0.2810, Valid acc: 0.9246\n",
      "\n",
      "Epoch 6/20\n",
      "----------\n"
     ]
    },
    {
     "data": {
      "application/vnd.jupyter.widget-view+json": {
       "model_id": "84bb20e4c13243fc892f8e0862e683fc",
       "version_major": 2,
       "version_minor": 0
      },
      "text/plain": [
       "  0%|          | 0/1020 [00:00<?, ?it/s]"
      ]
     },
     "metadata": {},
     "output_type": "display_data"
    },
    {
     "name": "stdout",
     "output_type": "stream",
     "text": [
      "Train loss: 0.1407, Train acc: 0.9451, Time: 127s\n",
      "Valid loss: 0.3425, Valid acc: 0.8625\n",
      "\n",
      "Epoch 7/20\n",
      "----------\n"
     ]
    },
    {
     "data": {
      "application/vnd.jupyter.widget-view+json": {
       "model_id": "6d0bece631e54009bebdb47947925551",
       "version_major": 2,
       "version_minor": 0
      },
      "text/plain": [
       "  0%|          | 0/1020 [00:00<?, ?it/s]"
      ]
     },
     "metadata": {},
     "output_type": "display_data"
    },
    {
     "name": "stdout",
     "output_type": "stream",
     "text": [
      "Train loss: 0.1601, Train acc: 0.9412, Time: 124s\n",
      "Valid loss: 0.2489, Valid acc: 0.8980\n",
      "\n",
      "Epoch 8/20\n",
      "----------\n"
     ]
    },
    {
     "data": {
      "application/vnd.jupyter.widget-view+json": {
       "model_id": "5e2a60a2b18a41899968d78b8603b9cf",
       "version_major": 2,
       "version_minor": 0
      },
      "text/plain": [
       "  0%|          | 0/1020 [00:00<?, ?it/s]"
      ]
     },
     "metadata": {},
     "output_type": "display_data"
    },
    {
     "name": "stdout",
     "output_type": "stream",
     "text": [
      "Train loss: 0.1024, Train acc: 0.9539, Time: 124s\n",
      "Valid loss: 0.5124, Valid acc: 0.8004\n",
      "\n",
      "Epoch 9/20\n",
      "----------\n"
     ]
    },
    {
     "data": {
      "application/vnd.jupyter.widget-view+json": {
       "model_id": "4e2b53bf627b4aeb8ddc3cd40522894f",
       "version_major": 2,
       "version_minor": 0
      },
      "text/plain": [
       "  0%|          | 0/1020 [00:00<?, ?it/s]"
      ]
     },
     "metadata": {},
     "output_type": "display_data"
    },
    {
     "name": "stdout",
     "output_type": "stream",
     "text": [
      "Train loss: 0.1015, Train acc: 0.9637, Time: 131s\n",
      "Valid loss: 0.3020, Valid acc: 0.9202\n",
      "\n",
      "Epoch 10/20\n",
      "----------\n"
     ]
    },
    {
     "data": {
      "application/vnd.jupyter.widget-view+json": {
       "model_id": "194a5eb0044f4515911f88d2a92889e5",
       "version_major": 2,
       "version_minor": 0
      },
      "text/plain": [
       "  0%|          | 0/1020 [00:00<?, ?it/s]"
      ]
     },
     "metadata": {},
     "output_type": "display_data"
    },
    {
     "name": "stdout",
     "output_type": "stream",
     "text": [
      "Train loss: 0.0687, Train acc: 0.9765, Time: 129s\n",
      "Valid loss: 0.3938, Valid acc: 0.9047\n",
      "\n",
      "Epoch 11/20\n",
      "----------\n"
     ]
    },
    {
     "data": {
      "application/vnd.jupyter.widget-view+json": {
       "model_id": "c02915a03631467a8747762165a833d9",
       "version_major": 2,
       "version_minor": 0
      },
      "text/plain": [
       "  0%|          | 0/1020 [00:00<?, ?it/s]"
      ]
     },
     "metadata": {},
     "output_type": "display_data"
    },
    {
     "name": "stdout",
     "output_type": "stream",
     "text": [
      "Train loss: 0.0604, Train acc: 0.9824, Time: 129s\n",
      "Valid loss: 0.3170, Valid acc: 0.9268\n",
      "\n",
      "Epoch 12/20\n",
      "----------\n"
     ]
    },
    {
     "data": {
      "application/vnd.jupyter.widget-view+json": {
       "model_id": "dc44c42e08af4a5cabf743c5237ff6b1",
       "version_major": 2,
       "version_minor": 0
      },
      "text/plain": [
       "  0%|          | 0/1020 [00:00<?, ?it/s]"
      ]
     },
     "metadata": {},
     "output_type": "display_data"
    },
    {
     "name": "stdout",
     "output_type": "stream",
     "text": [
      "Train loss: 0.0763, Train acc: 0.9725, Time: 130s\n",
      "Valid loss: 0.7316, Valid acc: 0.7672\n",
      "\n",
      "Epoch 13/20\n",
      "----------\n"
     ]
    },
    {
     "data": {
      "application/vnd.jupyter.widget-view+json": {
       "model_id": "95139aeb53914f289a22d7baf1875693",
       "version_major": 2,
       "version_minor": 0
      },
      "text/plain": [
       "  0%|          | 0/1020 [00:00<?, ?it/s]"
      ]
     },
     "metadata": {},
     "output_type": "display_data"
    },
    {
     "name": "stdout",
     "output_type": "stream",
     "text": [
      "Train loss: 0.1367, Train acc: 0.9471, Time: 130s\n",
      "Valid loss: 0.2307, Valid acc: 0.9157\n",
      "\n",
      "Epoch 14/20\n",
      "----------\n"
     ]
    },
    {
     "data": {
      "application/vnd.jupyter.widget-view+json": {
       "model_id": "88c1040f5ac3495aab6da676a9173180",
       "version_major": 2,
       "version_minor": 0
      },
      "text/plain": [
       "  0%|          | 0/1020 [00:00<?, ?it/s]"
      ]
     },
     "metadata": {},
     "output_type": "display_data"
    },
    {
     "name": "stdout",
     "output_type": "stream",
     "text": [
      "Train loss: 0.0815, Train acc: 0.9667, Time: 130s\n",
      "Valid loss: 0.5064, Valid acc: 0.9024\n",
      "\n",
      "Epoch 15/20\n",
      "----------\n"
     ]
    },
    {
     "data": {
      "application/vnd.jupyter.widget-view+json": {
       "model_id": "df5308126d6e4b568379d58f2d9cb187",
       "version_major": 2,
       "version_minor": 0
      },
      "text/plain": [
       "  0%|          | 0/1020 [00:00<?, ?it/s]"
      ]
     },
     "metadata": {},
     "output_type": "display_data"
    },
    {
     "name": "stdout",
     "output_type": "stream",
     "text": [
      "Train loss: 0.0948, Train acc: 0.9676, Time: 131s\n",
      "Valid loss: 0.5344, Valid acc: 0.9002\n",
      "\n",
      "Epoch 16/20\n",
      "----------\n"
     ]
    },
    {
     "data": {
      "application/vnd.jupyter.widget-view+json": {
       "model_id": "ec0bd4d88cba4f1383bfa4d03fc818bd",
       "version_major": 2,
       "version_minor": 0
      },
      "text/plain": [
       "  0%|          | 0/1020 [00:00<?, ?it/s]"
      ]
     },
     "metadata": {},
     "output_type": "display_data"
    },
    {
     "name": "stdout",
     "output_type": "stream",
     "text": [
      "Train loss: 0.1693, Train acc: 0.9451, Time: 126s\n",
      "Valid loss: 0.2677, Valid acc: 0.9246\n",
      "\n",
      "Epoch 17/20\n",
      "----------\n"
     ]
    },
    {
     "data": {
      "application/vnd.jupyter.widget-view+json": {
       "model_id": "7bf71558ff7d48bbb28d120a3d21b2a3",
       "version_major": 2,
       "version_minor": 0
      },
      "text/plain": [
       "  0%|          | 0/1020 [00:00<?, ?it/s]"
      ]
     },
     "metadata": {},
     "output_type": "display_data"
    },
    {
     "name": "stdout",
     "output_type": "stream",
     "text": [
      "Train loss: 0.0915, Train acc: 0.9716, Time: 124s\n",
      "Valid loss: 0.3147, Valid acc: 0.9313\n",
      "\n",
      "Epoch 18/20\n",
      "----------\n"
     ]
    },
    {
     "data": {
      "application/vnd.jupyter.widget-view+json": {
       "model_id": "6f8c6c8d399345648068e68d7ee62667",
       "version_major": 2,
       "version_minor": 0
      },
      "text/plain": [
       "  0%|          | 0/1020 [00:00<?, ?it/s]"
      ]
     },
     "metadata": {},
     "output_type": "display_data"
    },
    {
     "name": "stdout",
     "output_type": "stream",
     "text": [
      "Train loss: 0.1249, Train acc: 0.9578, Time: 124s\n",
      "Valid loss: 0.3091, Valid acc: 0.9180\n",
      "\n",
      "Epoch 19/20\n",
      "----------\n"
     ]
    },
    {
     "data": {
      "application/vnd.jupyter.widget-view+json": {
       "model_id": "3da37e0986bd4d6aa377b91e4437ad2c",
       "version_major": 2,
       "version_minor": 0
      },
      "text/plain": [
       "  0%|          | 0/1020 [00:00<?, ?it/s]"
      ]
     },
     "metadata": {},
     "output_type": "display_data"
    },
    {
     "name": "stdout",
     "output_type": "stream",
     "text": [
      "Train loss: 0.0563, Train acc: 0.9775, Time: 123s\n",
      "Valid loss: 0.3387, Valid acc: 0.9113\n",
      "\n",
      "Epoch 20/20\n",
      "----------\n"
     ]
    },
    {
     "data": {
      "application/vnd.jupyter.widget-view+json": {
       "model_id": "7d421e3e4d1d461ca9fbc27a46c94ce7",
       "version_major": 2,
       "version_minor": 0
      },
      "text/plain": [
       "  0%|          | 0/1020 [00:00<?, ?it/s]"
      ]
     },
     "metadata": {},
     "output_type": "display_data"
    },
    {
     "name": "stdout",
     "output_type": "stream",
     "text": [
      "Train loss: 0.0628, Train acc: 0.9794, Time: 123s\n",
      "Valid loss: 0.3041, Valid acc: 0.9157\n",
      "\n",
      "Training complete\n",
      "Best ACC: 0.9313 at epoch 16\n"
     ]
    }
   ],
   "source": [
    "train_loss, valid_loss, train_acc, valid_acc = run(train_loader, valid_loader, model,\n",
    "                                                             num_classes, epochs=epochs,\n",
    "                                                             save_path=save_path/'omit')"
   ]
  },
  {
   "cell_type": "code",
   "execution_count": 27,
   "metadata": {},
   "outputs": [
    {
     "data": {
      "image/png": "[encoded data removed]",
      "text/plain": [
       "<Figure size 640x480 with 1 Axes>"
      ]
     },
     "metadata": {},
     "output_type": "display_data"
    }
   ],
   "source": [
    "plot_loss(train_loss, valid_loss)"
   ]
  },
  {
   "cell_type": "code",
   "execution_count": 28,
   "metadata": {},
   "outputs": [
    {
     "data": {
      "image/png": "[encoded data removed]",
      "text/plain": [
       "<Figure size 640x480 with 1 Axes>"
      ]
     },
     "metadata": {},
     "output_type": "display_data"
    }
   ],
   "source": [
    "plot_metrics(train_acc, valid_acc)"
   ]
  },
  {
   "cell_type": "code",
   "execution_count": 29,
   "metadata": {},
   "outputs": [
    {
     "name": "stdout",
     "output_type": "stream",
     "text": [
      "accuracy: 0.9312638580931264\n"
     ]
    }
   ],
   "source": [
    "print(f'accuracy: {max(valid_acc)}')"
   ]
  },
  {
   "cell_type": "markdown",
   "metadata": {},
   "source": [
    "## Measureモデル"
   ]
  },
  {
   "cell_type": "code",
   "execution_count": 30,
   "metadata": {},
   "outputs": [],
   "source": [
    "train_data = []\n",
    "valid_data = []\n",
    "for x, y in zip(X_train, Ymeas_train):\n",
    "    data = [x, y]\n",
    "    train_data.append(data)\n",
    "for x, y in zip(X_valid, Ymeas_valid):\n",
    "    data = [x, y]\n",
    "    valid_data.append(data)\n",
    "    \n",
    "train_loader, valid_loader = build_data(train_data, valid_data, batch_size=batch_size)"
   ]
  },
  {
   "cell_type": "code",
   "execution_count": 31,
   "metadata": {},
   "outputs": [],
   "source": [
    "config = BertConfig.from_json_file(model_path / 'bert_config.json')\n",
    "bert = BertModel.from_pretrained(model_path / 'UTH_BERT.bin', config=config)\n",
    "model = Net(bert, num_classes).to(device)\n",
    "\n",
    "FREEZE=False\n",
    "if FREEZE: \n",
    "    idx=1 #Any\n",
    "    for name, param in model.named_parameters(): \n",
    "        param.requires_grad = False \n",
    "    for name, param in list(model.named_parameters())[idx:]: \n",
    "        param.requires_grad = True \n",
    "#     optimizer = optim.SGD([{'params':list(model.parameters())[idx:], 'lr':learning_rate, 'momentum':momentum}])\n",
    "    optimizer = optim.Adam([{'params':list(model.parameters())[idx:], 'lr':learning_rate}]) \n",
    "    criterion = nn.CrossEntropyLoss()\n",
    "else:  \n",
    "#     optimizer = optim.SGD(model.parameters(), lr=learning_rate, momentum=momentum)\n",
    "    optimizer = optim.Adam(model.parameters(), lr=learning_rate)\n",
    "    criterion = nn.CrossEntropyLoss()\n",
    "\n",
    "scheduler = StepLR(optimizer, step_size=3, gamma=0.1)"
   ]
  },
  {
   "cell_type": "code",
   "execution_count": 32,
   "metadata": {},
   "outputs": [
    {
     "name": "stdout",
     "output_type": "stream",
     "text": [
      "\n",
      "Epoch 1/20\n",
      "----------\n"
     ]
    },
    {
     "data": {
      "application/vnd.jupyter.widget-view+json": {
       "model_id": "545bbf5f152e4dedb39a6cd8c2246d56",
       "version_major": 2,
       "version_minor": 0
      },
      "text/plain": [
       "  0%|          | 0/1020 [00:00<?, ?it/s]"
      ]
     },
     "metadata": {},
     "output_type": "display_data"
    },
    {
     "name": "stdout",
     "output_type": "stream",
     "text": [
      "Train loss: 0.2685, Train acc: 0.8902, Time: 125s\n",
      "Valid loss: 0.1707, Valid acc: 0.9401\n",
      "\n",
      "Epoch 2/20\n",
      "----------\n"
     ]
    },
    {
     "data": {
      "application/vnd.jupyter.widget-view+json": {
       "model_id": "9ff9232af8fd44098c9b52ee5466b319",
       "version_major": 2,
       "version_minor": 0
      },
      "text/plain": [
       "  0%|          | 0/1020 [00:00<?, ?it/s]"
      ]
     },
     "metadata": {},
     "output_type": "display_data"
    },
    {
     "name": "stdout",
     "output_type": "stream",
     "text": [
      "Train loss: 0.1647, Train acc: 0.9402, Time: 126s\n",
      "Valid loss: 0.1259, Valid acc: 0.9623\n",
      "\n",
      "Epoch 3/20\n",
      "----------\n"
     ]
    },
    {
     "data": {
      "application/vnd.jupyter.widget-view+json": {
       "model_id": "b10e0dfb7c744c1f978098981ef73c92",
       "version_major": 2,
       "version_minor": 0
      },
      "text/plain": [
       "  0%|          | 0/1020 [00:00<?, ?it/s]"
      ]
     },
     "metadata": {},
     "output_type": "display_data"
    },
    {
     "name": "stdout",
     "output_type": "stream",
     "text": [
      "Train loss: 0.1820, Train acc: 0.9216, Time: 125s\n",
      "Valid loss: 0.1543, Valid acc: 0.9446\n",
      "\n",
      "Epoch 4/20\n",
      "----------\n"
     ]
    },
    {
     "data": {
      "application/vnd.jupyter.widget-view+json": {
       "model_id": "0e9cf201b7d246db90e0874489515f9e",
       "version_major": 2,
       "version_minor": 0
      },
      "text/plain": [
       "  0%|          | 0/1020 [00:00<?, ?it/s]"
      ]
     },
     "metadata": {},
     "output_type": "display_data"
    },
    {
     "name": "stdout",
     "output_type": "stream",
     "text": [
      "Train loss: 0.1312, Train acc: 0.9500, Time: 125s\n",
      "Valid loss: 0.2326, Valid acc: 0.9490\n",
      "\n",
      "Epoch 5/20\n",
      "----------\n"
     ]
    },
    {
     "data": {
      "application/vnd.jupyter.widget-view+json": {
       "model_id": "c7f81b36bceb4b30a756d2bc9988faf7",
       "version_major": 2,
       "version_minor": 0
      },
      "text/plain": [
       "  0%|          | 0/1020 [00:00<?, ?it/s]"
      ]
     },
     "metadata": {},
     "output_type": "display_data"
    },
    {
     "name": "stdout",
     "output_type": "stream",
     "text": [
      "Train loss: 0.1423, Train acc: 0.9392, Time: 125s\n",
      "Valid loss: 0.2686, Valid acc: 0.8670\n",
      "\n",
      "Epoch 6/20\n",
      "----------\n"
     ]
    },
    {
     "data": {
      "application/vnd.jupyter.widget-view+json": {
       "model_id": "ccf33c7061ea488ba602ad48c24ac615",
       "version_major": 2,
       "version_minor": 0
      },
      "text/plain": [
       "  0%|          | 0/1020 [00:00<?, ?it/s]"
      ]
     },
     "metadata": {},
     "output_type": "display_data"
    },
    {
     "name": "stdout",
     "output_type": "stream",
     "text": [
      "Train loss: 0.1388, Train acc: 0.9549, Time: 125s\n",
      "Valid loss: 0.1107, Valid acc: 0.9579\n",
      "\n",
      "Epoch 7/20\n",
      "----------\n"
     ]
    },
    {
     "data": {
      "application/vnd.jupyter.widget-view+json": {
       "model_id": "28349a205c4d4f88b72e742052e1bdbf",
       "version_major": 2,
       "version_minor": 0
      },
      "text/plain": [
       "  0%|          | 0/1020 [00:00<?, ?it/s]"
      ]
     },
     "metadata": {},
     "output_type": "display_data"
    },
    {
     "name": "stdout",
     "output_type": "stream",
     "text": [
      "Train loss: 0.1450, Train acc: 0.9461, Time: 126s\n",
      "Valid loss: 0.1238, Valid acc: 0.9557\n",
      "\n",
      "Epoch 8/20\n",
      "----------\n"
     ]
    },
    {
     "data": {
      "application/vnd.jupyter.widget-view+json": {
       "model_id": "05fa3fef13de481794caca4c54b18467",
       "version_major": 2,
       "version_minor": 0
      },
      "text/plain": [
       "  0%|          | 0/1020 [00:00<?, ?it/s]"
      ]
     },
     "metadata": {},
     "output_type": "display_data"
    },
    {
     "name": "stdout",
     "output_type": "stream",
     "text": [
      "Train loss: 0.0998, Train acc: 0.9667, Time: 126s\n",
      "Valid loss: 0.1326, Valid acc: 0.9512\n",
      "\n",
      "Epoch 9/20\n",
      "----------\n"
     ]
    },
    {
     "data": {
      "application/vnd.jupyter.widget-view+json": {
       "model_id": "a5c0ccb9b6494eb0b9db7aaa3e620016",
       "version_major": 2,
       "version_minor": 0
      },
      "text/plain": [
       "  0%|          | 0/1020 [00:00<?, ?it/s]"
      ]
     },
     "metadata": {},
     "output_type": "display_data"
    },
    {
     "name": "stdout",
     "output_type": "stream",
     "text": [
      "Train loss: 0.1272, Train acc: 0.9578, Time: 125s\n",
      "Valid loss: 0.3735, Valid acc: 0.8248\n",
      "\n",
      "Epoch 10/20\n",
      "----------\n"
     ]
    },
    {
     "data": {
      "application/vnd.jupyter.widget-view+json": {
       "model_id": "94d43fea04e34e5dbca932bbf948aadf",
       "version_major": 2,
       "version_minor": 0
      },
      "text/plain": [
       "  0%|          | 0/1020 [00:00<?, ?it/s]"
      ]
     },
     "metadata": {},
     "output_type": "display_data"
    },
    {
     "name": "stdout",
     "output_type": "stream",
     "text": [
      "Train loss: 0.4172, Train acc: 0.8284, Time: 126s\n",
      "Valid loss: 0.3895, Valid acc: 0.8093\n",
      "\n",
      "Epoch 11/20\n",
      "----------\n"
     ]
    },
    {
     "data": {
      "application/vnd.jupyter.widget-view+json": {
       "model_id": "44edf7626df44b5a8e4d83ec670e0ff6",
       "version_major": 2,
       "version_minor": 0
      },
      "text/plain": [
       "  0%|          | 0/1020 [00:00<?, ?it/s]"
      ]
     },
     "metadata": {},
     "output_type": "display_data"
    },
    {
     "name": "stdout",
     "output_type": "stream",
     "text": [
      "Train loss: 0.3645, Train acc: 0.8480, Time: 125s\n",
      "Valid loss: 0.6353, Valid acc: 0.7827\n",
      "\n",
      "Epoch 12/20\n",
      "----------\n"
     ]
    },
    {
     "data": {
      "application/vnd.jupyter.widget-view+json": {
       "model_id": "90719de77103469e99dd0f4b8cbe1326",
       "version_major": 2,
       "version_minor": 0
      },
      "text/plain": [
       "  0%|          | 0/1020 [00:00<?, ?it/s]"
      ]
     },
     "metadata": {},
     "output_type": "display_data"
    },
    {
     "name": "stdout",
     "output_type": "stream",
     "text": [
      "Train loss: 0.3444, Train acc: 0.8569, Time: 125s\n",
      "Valid loss: 0.2531, Valid acc: 0.9024\n",
      "\n",
      "Epoch 13/20\n",
      "----------\n"
     ]
    },
    {
     "data": {
      "application/vnd.jupyter.widget-view+json": {
       "model_id": "461d1d7d9537472e91d10f2a947cab94",
       "version_major": 2,
       "version_minor": 0
      },
      "text/plain": [
       "  0%|          | 0/1020 [00:00<?, ?it/s]"
      ]
     },
     "metadata": {},
     "output_type": "display_data"
    },
    {
     "name": "stdout",
     "output_type": "stream",
     "text": [
      "Train loss: 0.3161, Train acc: 0.8657, Time: 126s\n",
      "Valid loss: 0.3491, Valid acc: 0.8049\n",
      "\n",
      "Epoch 14/20\n",
      "----------\n"
     ]
    },
    {
     "data": {
      "application/vnd.jupyter.widget-view+json": {
       "model_id": "229b26a47b3f4490a62085524ece1be5",
       "version_major": 2,
       "version_minor": 0
      },
      "text/plain": [
       "  0%|          | 0/1020 [00:00<?, ?it/s]"
      ]
     },
     "metadata": {},
     "output_type": "display_data"
    },
    {
     "name": "stdout",
     "output_type": "stream",
     "text": [
      "Train loss: 0.2829, Train acc: 0.8843, Time: 126s\n",
      "Valid loss: 0.2914, Valid acc: 0.8315\n",
      "\n",
      "Epoch 15/20\n",
      "----------\n"
     ]
    },
    {
     "data": {
      "application/vnd.jupyter.widget-view+json": {
       "model_id": "d25a8239f9f4471a9b9cb817f60e20bc",
       "version_major": 2,
       "version_minor": 0
      },
      "text/plain": [
       "  0%|          | 0/1020 [00:00<?, ?it/s]"
      ]
     },
     "metadata": {},
     "output_type": "display_data"
    },
    {
     "name": "stdout",
     "output_type": "stream",
     "text": [
      "Train loss: 0.2501, Train acc: 0.8961, Time: 125s\n",
      "Valid loss: 0.2003, Valid acc: 0.9157\n",
      "\n",
      "Epoch 16/20\n",
      "----------\n"
     ]
    },
    {
     "data": {
      "application/vnd.jupyter.widget-view+json": {
       "model_id": "2b2b239c87f24f9f876bab64430bbed7",
       "version_major": 2,
       "version_minor": 0
      },
      "text/plain": [
       "  0%|          | 0/1020 [00:00<?, ?it/s]"
      ]
     },
     "metadata": {},
     "output_type": "display_data"
    },
    {
     "name": "stdout",
     "output_type": "stream",
     "text": [
      "Train loss: 0.2147, Train acc: 0.9157, Time: 126s\n",
      "Valid loss: 0.1403, Valid acc: 0.9512\n",
      "\n",
      "Epoch 17/20\n",
      "----------\n"
     ]
    },
    {
     "data": {
      "application/vnd.jupyter.widget-view+json": {
       "model_id": "23d2febc3ae14689965cc6168efa58cf",
       "version_major": 2,
       "version_minor": 0
      },
      "text/plain": [
       "  0%|          | 0/1020 [00:00<?, ?it/s]"
      ]
     },
     "metadata": {},
     "output_type": "display_data"
    },
    {
     "name": "stdout",
     "output_type": "stream",
     "text": [
      "Train loss: 0.2115, Train acc: 0.9216, Time: 126s\n",
      "Valid loss: 0.2547, Valid acc: 0.9091\n",
      "\n",
      "Epoch 18/20\n",
      "----------\n"
     ]
    },
    {
     "data": {
      "application/vnd.jupyter.widget-view+json": {
       "model_id": "e6898636b2904819a95127d122832052",
       "version_major": 2,
       "version_minor": 0
      },
      "text/plain": [
       "  0%|          | 0/1020 [00:00<?, ?it/s]"
      ]
     },
     "metadata": {},
     "output_type": "display_data"
    },
    {
     "name": "stdout",
     "output_type": "stream",
     "text": [
      "Train loss: 0.1976, Train acc: 0.9225, Time: 132s\n",
      "Valid loss: 0.1275, Valid acc: 0.9601\n",
      "\n",
      "Epoch 19/20\n",
      "----------\n"
     ]
    },
    {
     "data": {
      "application/vnd.jupyter.widget-view+json": {
       "model_id": "9ec16b1308254e8fb3dc768f4820c922",
       "version_major": 2,
       "version_minor": 0
      },
      "text/plain": [
       "  0%|          | 0/1020 [00:00<?, ?it/s]"
      ]
     },
     "metadata": {},
     "output_type": "display_data"
    },
    {
     "name": "stdout",
     "output_type": "stream",
     "text": [
      "Train loss: 0.1997, Train acc: 0.9235, Time: 131s\n",
      "Valid loss: 0.1606, Valid acc: 0.9357\n",
      "\n",
      "Epoch 20/20\n",
      "----------\n"
     ]
    },
    {
     "data": {
      "application/vnd.jupyter.widget-view+json": {
       "model_id": "1977e7f033aa4ed99e6e81d71daa6f37",
       "version_major": 2,
       "version_minor": 0
      },
      "text/plain": [
       "  0%|          | 0/1020 [00:00<?, ?it/s]"
      ]
     },
     "metadata": {},
     "output_type": "display_data"
    },
    {
     "name": "stdout",
     "output_type": "stream",
     "text": [
      "Train loss: 0.1762, Train acc: 0.9402, Time: 129s\n",
      "Valid loss: 0.1213, Valid acc: 0.9557\n",
      "\n",
      "Training complete\n",
      "Best ACC: 0.9623 at epoch 1\n"
     ]
    }
   ],
   "source": [
    "train_loss, valid_loss, train_acc, valid_acc = run(train_loader, valid_loader, model,\n",
    "                                                             num_classes, epochs=epochs,\n",
    "                                                             save_path=save_path/'meas')"
   ]
  },
  {
   "cell_type": "code",
   "execution_count": 33,
   "metadata": {},
   "outputs": [
    {
     "data": {
      "image/png": "[encoded data removed]",
      "text/plain": [
       "<Figure size 640x480 with 1 Axes>"
      ]
     },
     "metadata": {},
     "output_type": "display_data"
    }
   ],
   "source": [
    "plot_loss(train_loss, valid_loss)"
   ]
  },
  {
   "cell_type": "code",
   "execution_count": 34,
   "metadata": {},
   "outputs": [
    {
     "data": {
      "image/png": "[encoded data removed]",
      "text/plain": [
       "<Figure size 640x480 with 1 Axes>"
      ]
     },
     "metadata": {},
     "output_type": "display_data"
    }
   ],
   "source": [
    "plot_metrics(train_acc, valid_acc)"
   ]
  },
  {
   "cell_type": "code",
   "execution_count": 35,
   "metadata": {},
   "outputs": [
    {
     "name": "stdout",
     "output_type": "stream",
     "text": [
      "accuracy: 0.9623059866962306\n"
     ]
    }
   ],
   "source": [
    "print(f'accuracy: {max(valid_acc)}')"
   ]
  },
  {
   "cell_type": "markdown",
   "metadata": {},
   "source": [
    "## Extensionモデル"
   ]
  },
  {
   "cell_type": "code",
   "execution_count": 36,
   "metadata": {},
   "outputs": [],
   "source": [
    "train_data = []\n",
    "valid_data = []\n",
    "for x, y in zip(X_train, Yexte_train):\n",
    "    data = [x, y]\n",
    "    train_data.append(data)\n",
    "for x, y in zip(X_valid, Yexte_valid):\n",
    "    data = [x, y]\n",
    "    valid_data.append(data)\n",
    "    \n",
    "train_loader, valid_loader = build_data(train_data, valid_data, batch_size=batch_size)"
   ]
  },
  {
   "cell_type": "code",
   "execution_count": 37,
   "metadata": {},
   "outputs": [],
   "source": [
    "config = BertConfig.from_json_file(model_path / 'bert_config.json')\n",
    "bert = BertModel.from_pretrained(model_path / 'UTH_BERT.bin', config=config)\n",
    "model = Net(bert, num_classes).to(device)\n",
    "\n",
    "FREEZE=False\n",
    "if FREEZE: \n",
    "    idx=1 #Any\n",
    "    for name, param in model.named_parameters(): \n",
    "        param.requires_grad = False \n",
    "    for name, param in list(model.named_parameters())[idx:]: \n",
    "        param.requires_grad = True \n",
    "#     optimizer = optim.SGD([{'params':list(model.parameters())[idx:], 'lr':learning_rate, 'momentum':momentum}])\n",
    "    optimizer = optim.Adam([{'params':list(model.parameters())[idx:], 'lr':learning_rate}]) \n",
    "    criterion = nn.CrossEntropyLoss()\n",
    "else:  \n",
    "#     optimizer = optim.SGD(model.parameters(), lr=learning_rate, momentum=momentum)\n",
    "    optimizer = optim.Adam(model.parameters(), lr=learning_rate)\n",
    "    criterion = nn.CrossEntropyLoss()\n",
    "\n",
    "scheduler = StepLR(optimizer, step_size=3, gamma=0.1)"
   ]
  },
  {
   "cell_type": "code",
   "execution_count": 38,
   "metadata": {},
   "outputs": [
    {
     "name": "stdout",
     "output_type": "stream",
     "text": [
      "\n",
      "Epoch 1/20\n",
      "----------\n"
     ]
    },
    {
     "data": {
      "application/vnd.jupyter.widget-view+json": {
       "model_id": "7e2ead5b7e544a84a42e17b5192de157",
       "version_major": 2,
       "version_minor": 0
      },
      "text/plain": [
       "  0%|          | 0/1020 [00:00<?, ?it/s]"
      ]
     },
     "metadata": {},
     "output_type": "display_data"
    },
    {
     "name": "stdout",
     "output_type": "stream",
     "text": [
      "Train loss: 0.2323, Train acc: 0.9196, Time: 131s\n",
      "Valid loss: 0.1357, Valid acc: 0.9424\n",
      "\n",
      "Epoch 2/20\n",
      "----------\n"
     ]
    },
    {
     "data": {
      "application/vnd.jupyter.widget-view+json": {
       "model_id": "8333d80f6b6e47fc89f04427743224a8",
       "version_major": 2,
       "version_minor": 0
      },
      "text/plain": [
       "  0%|          | 0/1020 [00:00<?, ?it/s]"
      ]
     },
     "metadata": {},
     "output_type": "display_data"
    },
    {
     "name": "stdout",
     "output_type": "stream",
     "text": [
      "Train loss: 0.1303, Train acc: 0.9500, Time: 132s\n",
      "Valid loss: 0.0820, Valid acc: 0.9623\n",
      "\n",
      "Epoch 3/20\n",
      "----------\n"
     ]
    },
    {
     "data": {
      "application/vnd.jupyter.widget-view+json": {
       "model_id": "9feec84e00eb4756b65fcd52087ca05a",
       "version_major": 2,
       "version_minor": 0
      },
      "text/plain": [
       "  0%|          | 0/1020 [00:00<?, ?it/s]"
      ]
     },
     "metadata": {},
     "output_type": "display_data"
    },
    {
     "name": "stdout",
     "output_type": "stream",
     "text": [
      "Train loss: 0.1857, Train acc: 0.9304, Time: 132s\n",
      "Valid loss: 0.2435, Valid acc: 0.9224\n",
      "\n",
      "Epoch 4/20\n",
      "----------\n"
     ]
    },
    {
     "data": {
      "application/vnd.jupyter.widget-view+json": {
       "model_id": "aff404f05faf4b549dd0b3d19399595c",
       "version_major": 2,
       "version_minor": 0
      },
      "text/plain": [
       "  0%|          | 0/1020 [00:00<?, ?it/s]"
      ]
     },
     "metadata": {},
     "output_type": "display_data"
    },
    {
     "name": "stdout",
     "output_type": "stream",
     "text": [
      "Train loss: 0.1301, Train acc: 0.9490, Time: 131s\n",
      "Valid loss: 0.1098, Valid acc: 0.9490\n",
      "\n",
      "Epoch 5/20\n",
      "----------\n"
     ]
    },
    {
     "data": {
      "application/vnd.jupyter.widget-view+json": {
       "model_id": "b2f08d69ccb74a7fa06a660300cef190",
       "version_major": 2,
       "version_minor": 0
      },
      "text/plain": [
       "  0%|          | 0/1020 [00:00<?, ?it/s]"
      ]
     },
     "metadata": {},
     "output_type": "display_data"
    },
    {
     "name": "stdout",
     "output_type": "stream",
     "text": [
      "Train loss: 0.0872, Train acc: 0.9725, Time: 131s\n",
      "Valid loss: 0.0853, Valid acc: 0.9645\n",
      "\n",
      "Epoch 6/20\n",
      "----------\n"
     ]
    },
    {
     "data": {
      "application/vnd.jupyter.widget-view+json": {
       "model_id": "b297ab8b811a461d9a3a07058328b9b1",
       "version_major": 2,
       "version_minor": 0
      },
      "text/plain": [
       "  0%|          | 0/1020 [00:00<?, ?it/s]"
      ]
     },
     "metadata": {},
     "output_type": "display_data"
    },
    {
     "name": "stdout",
     "output_type": "stream",
     "text": [
      "Train loss: 0.0709, Train acc: 0.9775, Time: 133s\n",
      "Valid loss: 0.1566, Valid acc: 0.9379\n",
      "\n",
      "Epoch 7/20\n",
      "----------\n"
     ]
    },
    {
     "data": {
      "application/vnd.jupyter.widget-view+json": {
       "model_id": "b0a47f9b50c347d984c4787e5cf4253d",
       "version_major": 2,
       "version_minor": 0
      },
      "text/plain": [
       "  0%|          | 0/1020 [00:00<?, ?it/s]"
      ]
     },
     "metadata": {},
     "output_type": "display_data"
    },
    {
     "name": "stdout",
     "output_type": "stream",
     "text": [
      "Train loss: 0.0793, Train acc: 0.9696, Time: 129s\n",
      "Valid loss: 0.0924, Valid acc: 0.9667\n",
      "\n",
      "Epoch 8/20\n",
      "----------\n"
     ]
    },
    {
     "data": {
      "application/vnd.jupyter.widget-view+json": {
       "model_id": "24b97a825c144e968170268f8ef039b6",
       "version_major": 2,
       "version_minor": 0
      },
      "text/plain": [
       "  0%|          | 0/1020 [00:00<?, ?it/s]"
      ]
     },
     "metadata": {},
     "output_type": "display_data"
    },
    {
     "name": "stdout",
     "output_type": "stream",
     "text": [
      "Train loss: 0.0659, Train acc: 0.9824, Time: 130s\n",
      "Valid loss: 0.1086, Valid acc: 0.9645\n",
      "\n",
      "Epoch 9/20\n",
      "----------\n"
     ]
    },
    {
     "data": {
      "application/vnd.jupyter.widget-view+json": {
       "model_id": "3a86f64989f54551be0625d8febc7a16",
       "version_major": 2,
       "version_minor": 0
      },
      "text/plain": [
       "  0%|          | 0/1020 [00:00<?, ?it/s]"
      ]
     },
     "metadata": {},
     "output_type": "display_data"
    },
    {
     "name": "stdout",
     "output_type": "stream",
     "text": [
      "Train loss: 0.0468, Train acc: 0.9873, Time: 131s\n",
      "Valid loss: 0.0827, Valid acc: 0.9601\n",
      "\n",
      "Epoch 10/20\n",
      "----------\n"
     ]
    },
    {
     "data": {
      "application/vnd.jupyter.widget-view+json": {
       "model_id": "709f7adce385476f913250ae815c242b",
       "version_major": 2,
       "version_minor": 0
      },
      "text/plain": [
       "  0%|          | 0/1020 [00:00<?, ?it/s]"
      ]
     },
     "metadata": {},
     "output_type": "display_data"
    },
    {
     "name": "stdout",
     "output_type": "stream",
     "text": [
      "Train loss: 0.1210, Train acc: 0.9618, Time: 129s\n",
      "Valid loss: 0.1322, Valid acc: 0.9579\n",
      "\n",
      "Epoch 11/20\n",
      "----------\n"
     ]
    },
    {
     "data": {
      "application/vnd.jupyter.widget-view+json": {
       "model_id": "f5c67f440d73478caf86c1ed213ed1d5",
       "version_major": 2,
       "version_minor": 0
      },
      "text/plain": [
       "  0%|          | 0/1020 [00:00<?, ?it/s]"
      ]
     },
     "metadata": {},
     "output_type": "display_data"
    },
    {
     "name": "stdout",
     "output_type": "stream",
     "text": [
      "Train loss: 0.0696, Train acc: 0.9765, Time: 127s\n",
      "Valid loss: 0.0960, Valid acc: 0.9712\n",
      "\n",
      "Epoch 12/20\n",
      "----------\n"
     ]
    },
    {
     "data": {
      "application/vnd.jupyter.widget-view+json": {
       "model_id": "aca6ba4f407e4a1f940fb0f10616c9e7",
       "version_major": 2,
       "version_minor": 0
      },
      "text/plain": [
       "  0%|          | 0/1020 [00:00<?, ?it/s]"
      ]
     },
     "metadata": {},
     "output_type": "display_data"
    },
    {
     "name": "stdout",
     "output_type": "stream",
     "text": [
      "Train loss: 0.1198, Train acc: 0.9539, Time: 124s\n",
      "Valid loss: 0.1335, Valid acc: 0.9690\n",
      "\n",
      "Epoch 13/20\n",
      "----------\n"
     ]
    },
    {
     "data": {
      "application/vnd.jupyter.widget-view+json": {
       "model_id": "6b9a9da68d294f18818cbe9bc33d7489",
       "version_major": 2,
       "version_minor": 0
      },
      "text/plain": [
       "  0%|          | 0/1020 [00:00<?, ?it/s]"
      ]
     },
     "metadata": {},
     "output_type": "display_data"
    },
    {
     "name": "stdout",
     "output_type": "stream",
     "text": [
      "Train loss: 0.0413, Train acc: 0.9912, Time: 124s\n",
      "Valid loss: 0.2057, Valid acc: 0.9379\n",
      "\n",
      "Epoch 14/20\n",
      "----------\n"
     ]
    },
    {
     "data": {
      "application/vnd.jupyter.widget-view+json": {
       "model_id": "37fcb32cba524ffdaefe9b2f92ad765d",
       "version_major": 2,
       "version_minor": 0
      },
      "text/plain": [
       "  0%|          | 0/1020 [00:00<?, ?it/s]"
      ]
     },
     "metadata": {},
     "output_type": "display_data"
    },
    {
     "name": "stdout",
     "output_type": "stream",
     "text": [
      "Train loss: 0.0284, Train acc: 0.9931, Time: 124s\n",
      "Valid loss: 0.2307, Valid acc: 0.9690\n",
      "\n",
      "Epoch 15/20\n",
      "----------\n"
     ]
    },
    {
     "data": {
      "application/vnd.jupyter.widget-view+json": {
       "model_id": "6b84073b429e4c28b5d27ea5a60a5dc7",
       "version_major": 2,
       "version_minor": 0
      },
      "text/plain": [
       "  0%|          | 0/1020 [00:00<?, ?it/s]"
      ]
     },
     "metadata": {},
     "output_type": "display_data"
    },
    {
     "name": "stdout",
     "output_type": "stream",
     "text": [
      "Train loss: 0.0369, Train acc: 0.9912, Time: 124s\n",
      "Valid loss: 0.1130, Valid acc: 0.9534\n",
      "\n",
      "Epoch 16/20\n",
      "----------\n"
     ]
    },
    {
     "data": {
      "application/vnd.jupyter.widget-view+json": {
       "model_id": "a0c9ccff40544636b9e48970e65975ee",
       "version_major": 2,
       "version_minor": 0
      },
      "text/plain": [
       "  0%|          | 0/1020 [00:00<?, ?it/s]"
      ]
     },
     "metadata": {},
     "output_type": "display_data"
    },
    {
     "name": "stdout",
     "output_type": "stream",
     "text": [
      "Train loss: 0.0516, Train acc: 0.9873, Time: 124s\n",
      "Valid loss: 0.1061, Valid acc: 0.9690\n",
      "\n",
      "Epoch 17/20\n",
      "----------\n"
     ]
    },
    {
     "data": {
      "application/vnd.jupyter.widget-view+json": {
       "model_id": "40c09c06b47240748a2b49c29b1b7a58",
       "version_major": 2,
       "version_minor": 0
      },
      "text/plain": [
       "  0%|          | 0/1020 [00:00<?, ?it/s]"
      ]
     },
     "metadata": {},
     "output_type": "display_data"
    },
    {
     "name": "stdout",
     "output_type": "stream",
     "text": [
      "Train loss: 0.0257, Train acc: 0.9961, Time: 124s\n",
      "Valid loss: 0.1280, Valid acc: 0.9756\n",
      "\n",
      "Epoch 18/20\n",
      "----------\n"
     ]
    },
    {
     "data": {
      "application/vnd.jupyter.widget-view+json": {
       "model_id": "cc8e62c922e448cb826802458a779fc7",
       "version_major": 2,
       "version_minor": 0
      },
      "text/plain": [
       "  0%|          | 0/1020 [00:00<?, ?it/s]"
      ]
     },
     "metadata": {},
     "output_type": "display_data"
    },
    {
     "name": "stdout",
     "output_type": "stream",
     "text": [
      "Train loss: 0.0150, Train acc: 0.9980, Time: 124s\n",
      "Valid loss: 0.1063, Valid acc: 0.9734\n",
      "\n",
      "Epoch 19/20\n",
      "----------\n"
     ]
    },
    {
     "data": {
      "application/vnd.jupyter.widget-view+json": {
       "model_id": "4ce70fbde9b34f31971611a40a451aa4",
       "version_major": 2,
       "version_minor": 0
      },
      "text/plain": [
       "  0%|          | 0/1020 [00:00<?, ?it/s]"
      ]
     },
     "metadata": {},
     "output_type": "display_data"
    },
    {
     "name": "stdout",
     "output_type": "stream",
     "text": [
      "Train loss: 0.2812, Train acc: 0.9176, Time: 124s\n",
      "Valid loss: 0.3862, Valid acc: 0.9047\n",
      "\n",
      "Epoch 20/20\n",
      "----------\n"
     ]
    },
    {
     "data": {
      "application/vnd.jupyter.widget-view+json": {
       "model_id": "b1321de73d35496995da01a9f7a29b3b",
       "version_major": 2,
       "version_minor": 0
      },
      "text/plain": [
       "  0%|          | 0/1020 [00:00<?, ?it/s]"
      ]
     },
     "metadata": {},
     "output_type": "display_data"
    },
    {
     "name": "stdout",
     "output_type": "stream",
     "text": [
      "Train loss: 0.0802, Train acc: 0.9755, Time: 124s\n",
      "Valid loss: 0.1026, Valid acc: 0.9667\n",
      "\n",
      "Training complete\n",
      "Best ACC: 0.9756 at epoch 16\n"
     ]
    }
   ],
   "source": [
    "train_loss, valid_loss, train_acc, valid_acc = run(train_loader, valid_loader, model,\n",
    "                                                             num_classes, epochs=epochs,\n",
    "                                                             save_path=save_path/'exte')"
   ]
  },
  {
   "cell_type": "code",
   "execution_count": 39,
   "metadata": {},
   "outputs": [
    {
     "data": {
      "image/png": "[encoded data removed]",
      "text/plain": [
       "<Figure size 640x480 with 1 Axes>"
      ]
     },
     "metadata": {},
     "output_type": "display_data"
    }
   ],
   "source": [
    "plot_loss(train_loss, valid_loss)"
   ]
  },
  {
   "cell_type": "code",
   "execution_count": 40,
   "metadata": {},
   "outputs": [
    {
     "data": {
      "image/png": "[encoded data removed]",
      "text/plain": [
       "<Figure size 640x480 with 1 Axes>"
      ]
     },
     "metadata": {},
     "output_type": "display_data"
    }
   ],
   "source": [
    "plot_metrics(train_acc, valid_acc)"
   ]
  },
  {
   "cell_type": "code",
   "execution_count": 41,
   "metadata": {},
   "outputs": [
    {
     "name": "stdout",
     "output_type": "stream",
     "text": [
      "accuracy: 0.975609756097561\n"
     ]
    }
   ],
   "source": [
    "print(f'accuracy: {max(valid_acc)}')"
   ]
  },
  {
   "cell_type": "markdown",
   "metadata": {},
   "source": [
    "## Atelectasisモデル"
   ]
  },
  {
   "cell_type": "code",
   "execution_count": 42,
   "metadata": {},
   "outputs": [],
   "source": [
    "train_data = []\n",
    "valid_data = []\n",
    "for x, y in zip(X_train, Yatel_train):\n",
    "    data = [x, y]\n",
    "    train_data.append(data)\n",
    "for x, y in zip(X_valid, Yatel_valid):\n",
    "    data = [x, y]\n",
    "    valid_data.append(data)\n",
    "    \n",
    "train_loader, valid_loader = build_data(train_data, valid_data, batch_size=batch_size)"
   ]
  },
  {
   "cell_type": "code",
   "execution_count": 43,
   "metadata": {},
   "outputs": [],
   "source": [
    "config = BertConfig.from_json_file(model_path / 'bert_config.json')\n",
    "bert = BertModel.from_pretrained(model_path / 'UTH_BERT.bin', config=config)\n",
    "model = Net(bert, num_classes).to(device)\n",
    "\n",
    "FREEZE=False\n",
    "if FREEZE: \n",
    "    idx=1 #Any\n",
    "    for name, param in model.named_parameters(): \n",
    "        param.requires_grad = False \n",
    "    for name, param in list(model.named_parameters())[idx:]: \n",
    "        param.requires_grad = True \n",
    "#     optimizer = optim.SGD([{'params':list(model.parameters())[idx:], 'lr':learning_rate, 'momentum':momentum}])\n",
    "    optimizer = optim.Adam([{'params':list(model.parameters())[idx:], 'lr':learning_rate}]) \n",
    "    criterion = nn.CrossEntropyLoss()\n",
    "else:  \n",
    "#     optimizer = optim.SGD(model.parameters(), lr=learning_rate, momentum=momentum)\n",
    "    optimizer = optim.Adam(model.parameters(), lr=learning_rate)\n",
    "    criterion = nn.CrossEntropyLoss()\n",
    "\n",
    "scheduler = StepLR(optimizer, step_size=3, gamma=0.1)"
   ]
  },
  {
   "cell_type": "code",
   "execution_count": 44,
   "metadata": {},
   "outputs": [
    {
     "name": "stdout",
     "output_type": "stream",
     "text": [
      "\n",
      "Epoch 1/20\n",
      "----------\n"
     ]
    },
    {
     "data": {
      "application/vnd.jupyter.widget-view+json": {
       "model_id": "fe4888905cc24b039a6136aa91a73ffd",
       "version_major": 2,
       "version_minor": 0
      },
      "text/plain": [
       "  0%|          | 0/1020 [00:00<?, ?it/s]"
      ]
     },
     "metadata": {},
     "output_type": "display_data"
    },
    {
     "name": "stdout",
     "output_type": "stream",
     "text": [
      "Train loss: 0.1281, Train acc: 0.9637, Time: 126s\n",
      "Valid loss: 0.0840, Valid acc: 0.9778\n",
      "\n",
      "Epoch 2/20\n",
      "----------\n"
     ]
    },
    {
     "data": {
      "application/vnd.jupyter.widget-view+json": {
       "model_id": "9d878d7b5071480b8766d91b8b75c1f1",
       "version_major": 2,
       "version_minor": 0
      },
      "text/plain": [
       "  0%|          | 0/1020 [00:00<?, ?it/s]"
      ]
     },
     "metadata": {},
     "output_type": "display_data"
    },
    {
     "name": "stdout",
     "output_type": "stream",
     "text": [
      "Train loss: 0.0638, Train acc: 0.9784, Time: 126s\n",
      "Valid loss: 0.0448, Valid acc: 0.9889\n",
      "\n",
      "Epoch 3/20\n",
      "----------\n"
     ]
    },
    {
     "data": {
      "application/vnd.jupyter.widget-view+json": {
       "model_id": "ee0624935c03497b979e0f9a39f32608",
       "version_major": 2,
       "version_minor": 0
      },
      "text/plain": [
       "  0%|          | 0/1020 [00:00<?, ?it/s]"
      ]
     },
     "metadata": {},
     "output_type": "display_data"
    },
    {
     "name": "stdout",
     "output_type": "stream",
     "text": [
      "Train loss: 0.0462, Train acc: 0.9873, Time: 126s\n",
      "Valid loss: 0.0458, Valid acc: 0.9823\n",
      "\n",
      "Epoch 4/20\n",
      "----------\n"
     ]
    },
    {
     "data": {
      "application/vnd.jupyter.widget-view+json": {
       "model_id": "11da830a9a144485915767ad770fae31",
       "version_major": 2,
       "version_minor": 0
      },
      "text/plain": [
       "  0%|          | 0/1020 [00:00<?, ?it/s]"
      ]
     },
     "metadata": {},
     "output_type": "display_data"
    },
    {
     "name": "stdout",
     "output_type": "stream",
     "text": [
      "Train loss: 0.0452, Train acc: 0.9843, Time: 125s\n",
      "Valid loss: 0.0496, Valid acc: 0.9823\n",
      "\n",
      "Epoch 5/20\n",
      "----------\n"
     ]
    },
    {
     "data": {
      "application/vnd.jupyter.widget-view+json": {
       "model_id": "0720ccf60e2f47ef92639f72981b0053",
       "version_major": 2,
       "version_minor": 0
      },
      "text/plain": [
       "  0%|          | 0/1020 [00:00<?, ?it/s]"
      ]
     },
     "metadata": {},
     "output_type": "display_data"
    },
    {
     "name": "stdout",
     "output_type": "stream",
     "text": [
      "Train loss: 0.0853, Train acc: 0.9765, Time: 126s\n",
      "Valid loss: 0.0423, Valid acc: 0.9845\n",
      "\n",
      "Epoch 6/20\n",
      "----------\n"
     ]
    },
    {
     "data": {
      "application/vnd.jupyter.widget-view+json": {
       "model_id": "3fcf773e9f454ea5a3dc9706f7cecd79",
       "version_major": 2,
       "version_minor": 0
      },
      "text/plain": [
       "  0%|          | 0/1020 [00:00<?, ?it/s]"
      ]
     },
     "metadata": {},
     "output_type": "display_data"
    },
    {
     "name": "stdout",
     "output_type": "stream",
     "text": [
      "Train loss: 0.0518, Train acc: 0.9824, Time: 126s\n",
      "Valid loss: 0.0840, Valid acc: 0.9712\n",
      "\n",
      "Epoch 7/20\n",
      "----------\n"
     ]
    },
    {
     "data": {
      "application/vnd.jupyter.widget-view+json": {
       "model_id": "59862d7deb0a40068b96c339234e2297",
       "version_major": 2,
       "version_minor": 0
      },
      "text/plain": [
       "  0%|          | 0/1020 [00:00<?, ?it/s]"
      ]
     },
     "metadata": {},
     "output_type": "display_data"
    },
    {
     "name": "stdout",
     "output_type": "stream",
     "text": [
      "Train loss: 0.0781, Train acc: 0.9765, Time: 126s\n",
      "Valid loss: 0.0852, Valid acc: 0.9756\n",
      "\n",
      "Epoch 8/20\n",
      "----------\n"
     ]
    },
    {
     "data": {
      "application/vnd.jupyter.widget-view+json": {
       "model_id": "1e6e225ddb944e37b90dcc32694a9cc6",
       "version_major": 2,
       "version_minor": 0
      },
      "text/plain": [
       "  0%|          | 0/1020 [00:00<?, ?it/s]"
      ]
     },
     "metadata": {},
     "output_type": "display_data"
    },
    {
     "name": "stdout",
     "output_type": "stream",
     "text": [
      "Train loss: 0.0610, Train acc: 0.9804, Time: 129s\n",
      "Valid loss: 0.0629, Valid acc: 0.9800\n",
      "\n",
      "Epoch 9/20\n",
      "----------\n"
     ]
    },
    {
     "data": {
      "application/vnd.jupyter.widget-view+json": {
       "model_id": "ffbbd492d65a46118f3cb02bb8540feb",
       "version_major": 2,
       "version_minor": 0
      },
      "text/plain": [
       "  0%|          | 0/1020 [00:00<?, ?it/s]"
      ]
     },
     "metadata": {},
     "output_type": "display_data"
    },
    {
     "name": "stdout",
     "output_type": "stream",
     "text": [
      "Train loss: 0.0587, Train acc: 0.9853, Time: 126s\n",
      "Valid loss: 0.0594, Valid acc: 0.9734\n",
      "\n",
      "Epoch 10/20\n",
      "----------\n"
     ]
    },
    {
     "data": {
      "application/vnd.jupyter.widget-view+json": {
       "model_id": "ba378469a3e3499b91daf31abdfb879c",
       "version_major": 2,
       "version_minor": 0
      },
      "text/plain": [
       "  0%|          | 0/1020 [00:00<?, ?it/s]"
      ]
     },
     "metadata": {},
     "output_type": "display_data"
    },
    {
     "name": "stdout",
     "output_type": "stream",
     "text": [
      "Train loss: 0.0408, Train acc: 0.9853, Time: 126s\n",
      "Valid loss: 0.0982, Valid acc: 0.9778\n",
      "\n",
      "Epoch 11/20\n",
      "----------\n"
     ]
    },
    {
     "data": {
      "application/vnd.jupyter.widget-view+json": {
       "model_id": "5a4ffda62dda44c4909fdc1dee723302",
       "version_major": 2,
       "version_minor": 0
      },
      "text/plain": [
       "  0%|          | 0/1020 [00:00<?, ?it/s]"
      ]
     },
     "metadata": {},
     "output_type": "display_data"
    },
    {
     "name": "stdout",
     "output_type": "stream",
     "text": [
      "Train loss: 0.0421, Train acc: 0.9873, Time: 127s\n",
      "Valid loss: 0.0879, Valid acc: 0.9667\n",
      "\n",
      "Epoch 12/20\n",
      "----------\n"
     ]
    },
    {
     "data": {
      "application/vnd.jupyter.widget-view+json": {
       "model_id": "a5da0a9bdf024cd0867121e8f06a6e3e",
       "version_major": 2,
       "version_minor": 0
      },
      "text/plain": [
       "  0%|          | 0/1020 [00:00<?, ?it/s]"
      ]
     },
     "metadata": {},
     "output_type": "display_data"
    },
    {
     "name": "stdout",
     "output_type": "stream",
     "text": [
      "Train loss: 0.0311, Train acc: 0.9853, Time: 128s\n",
      "Valid loss: 0.1102, Valid acc: 0.9623\n",
      "\n",
      "Epoch 13/20\n",
      "----------\n"
     ]
    },
    {
     "data": {
      "application/vnd.jupyter.widget-view+json": {
       "model_id": "0284a52033174c91bd94a4514b6d737a",
       "version_major": 2,
       "version_minor": 0
      },
      "text/plain": [
       "  0%|          | 0/1020 [00:00<?, ?it/s]"
      ]
     },
     "metadata": {},
     "output_type": "display_data"
    },
    {
     "name": "stdout",
     "output_type": "stream",
     "text": [
      "Train loss: 0.0311, Train acc: 0.9902, Time: 126s\n",
      "Valid loss: 0.0422, Valid acc: 0.9845\n",
      "\n",
      "Epoch 14/20\n",
      "----------\n"
     ]
    },
    {
     "data": {
      "application/vnd.jupyter.widget-view+json": {
       "model_id": "a9dd5faf747f42948dcd8cfef27d86af",
       "version_major": 2,
       "version_minor": 0
      },
      "text/plain": [
       "  0%|          | 0/1020 [00:00<?, ?it/s]"
      ]
     },
     "metadata": {},
     "output_type": "display_data"
    },
    {
     "name": "stdout",
     "output_type": "stream",
     "text": [
      "Train loss: 0.0359, Train acc: 0.9804, Time: 126s\n",
      "Valid loss: 0.0879, Valid acc: 0.9734\n",
      "\n",
      "Epoch 15/20\n",
      "----------\n"
     ]
    },
    {
     "data": {
      "application/vnd.jupyter.widget-view+json": {
       "model_id": "4567e59fc71e49afb68b9cefa8c5305b",
       "version_major": 2,
       "version_minor": 0
      },
      "text/plain": [
       "  0%|          | 0/1020 [00:00<?, ?it/s]"
      ]
     },
     "metadata": {},
     "output_type": "display_data"
    },
    {
     "name": "stdout",
     "output_type": "stream",
     "text": [
      "Train loss: 0.0404, Train acc: 0.9853, Time: 126s\n",
      "Valid loss: 0.0655, Valid acc: 0.9845\n",
      "\n",
      "Epoch 16/20\n",
      "----------\n"
     ]
    },
    {
     "data": {
      "application/vnd.jupyter.widget-view+json": {
       "model_id": "3210b906349945f7b3e57bf4baceb2ea",
       "version_major": 2,
       "version_minor": 0
      },
      "text/plain": [
       "  0%|          | 0/1020 [00:00<?, ?it/s]"
      ]
     },
     "metadata": {},
     "output_type": "display_data"
    },
    {
     "name": "stdout",
     "output_type": "stream",
     "text": [
      "Train loss: 0.0347, Train acc: 0.9892, Time: 125s\n",
      "Valid loss: 0.0571, Valid acc: 0.9712\n",
      "\n",
      "Epoch 17/20\n",
      "----------\n"
     ]
    },
    {
     "data": {
      "application/vnd.jupyter.widget-view+json": {
       "model_id": "73e331033d0b45ec8d7b606c635b47a5",
       "version_major": 2,
       "version_minor": 0
      },
      "text/plain": [
       "  0%|          | 0/1020 [00:00<?, ?it/s]"
      ]
     },
     "metadata": {},
     "output_type": "display_data"
    },
    {
     "name": "stdout",
     "output_type": "stream",
     "text": [
      "Train loss: 0.0278, Train acc: 0.9863, Time: 126s\n",
      "Valid loss: 0.0553, Valid acc: 0.9667\n",
      "\n",
      "Epoch 18/20\n",
      "----------\n"
     ]
    },
    {
     "data": {
      "application/vnd.jupyter.widget-view+json": {
       "model_id": "0334e95ad4ff4d4b8274f8861cd738bc",
       "version_major": 2,
       "version_minor": 0
      },
      "text/plain": [
       "  0%|          | 0/1020 [00:00<?, ?it/s]"
      ]
     },
     "metadata": {},
     "output_type": "display_data"
    },
    {
     "name": "stdout",
     "output_type": "stream",
     "text": [
      "Train loss: 0.0679, Train acc: 0.9735, Time: 126s\n",
      "Valid loss: 0.4005, Valid acc: 0.9069\n",
      "\n",
      "Epoch 19/20\n",
      "----------\n"
     ]
    },
    {
     "data": {
      "application/vnd.jupyter.widget-view+json": {
       "model_id": "7cb150618ff6450f8382471f26dfb1bd",
       "version_major": 2,
       "version_minor": 0
      },
      "text/plain": [
       "  0%|          | 0/1020 [00:00<?, ?it/s]"
      ]
     },
     "metadata": {},
     "output_type": "display_data"
    },
    {
     "name": "stdout",
     "output_type": "stream",
     "text": [
      "Train loss: 0.0699, Train acc: 0.9784, Time: 126s\n",
      "Valid loss: 0.2829, Valid acc: 0.9601\n",
      "\n",
      "Epoch 20/20\n",
      "----------\n"
     ]
    },
    {
     "data": {
      "application/vnd.jupyter.widget-view+json": {
       "model_id": "6a56150273d2473b93f3fb8d5435c6d9",
       "version_major": 2,
       "version_minor": 0
      },
      "text/plain": [
       "  0%|          | 0/1020 [00:00<?, ?it/s]"
      ]
     },
     "metadata": {},
     "output_type": "display_data"
    },
    {
     "name": "stdout",
     "output_type": "stream",
     "text": [
      "Train loss: 0.0722, Train acc: 0.9765, Time: 126s\n",
      "Valid loss: 0.1304, Valid acc: 0.9623\n",
      "\n",
      "Training complete\n",
      "Best ACC: 0.9889 at epoch 1\n"
     ]
    }
   ],
   "source": [
    "train_loss, valid_loss, train_acc, valid_acc = run(train_loader, valid_loader, model,\n",
    "                                                             num_classes, epochs=epochs,\n",
    "                                                             save_path=save_path/'atel')"
   ]
  },
  {
   "cell_type": "code",
   "execution_count": 45,
   "metadata": {},
   "outputs": [
    {
     "data": {
      "image/png": "[encoded data removed]",
      "text/plain": [
       "<Figure size 640x480 with 1 Axes>"
      ]
     },
     "metadata": {},
     "output_type": "display_data"
    }
   ],
   "source": [
    "plot_loss(train_loss, valid_loss)"
   ]
  },
  {
   "cell_type": "code",
   "execution_count": 46,
   "metadata": {},
   "outputs": [
    {
     "data": {
      "image/png": "[encoded data removed]",
      "text/plain": [
       "<Figure size 640x480 with 1 Axes>"
      ]
     },
     "metadata": {},
     "output_type": "display_data"
    }
   ],
   "source": [
    "plot_metrics(train_acc, valid_acc)"
   ]
  },
  {
   "cell_type": "code",
   "execution_count": 47,
   "metadata": {},
   "outputs": [
    {
     "name": "stdout",
     "output_type": "stream",
     "text": [
      "accuracy: 0.9889135254988913\n"
     ]
    }
   ],
   "source": [
    "print(f'accuracy: {max(valid_acc)}')"
   ]
  },
  {
   "cell_type": "markdown",
   "metadata": {},
   "source": [
    "## Satelliteモデル"
   ]
  },
  {
   "cell_type": "code",
   "execution_count": 48,
   "metadata": {},
   "outputs": [],
   "source": [
    "train_data = []\n",
    "valid_data = []\n",
    "for x, y in zip(X_train, Ysate_train):\n",
    "    data = [x, y]\n",
    "    train_data.append(data)\n",
    "for x, y in zip(X_valid, Ysate_valid):\n",
    "    data = [x, y]\n",
    "    valid_data.append(data)\n",
    "    \n",
    "train_loader, valid_loader = build_data(train_data, valid_data, batch_size=batch_size)"
   ]
  },
  {
   "cell_type": "code",
   "execution_count": 49,
   "metadata": {},
   "outputs": [],
   "source": [
    "config = BertConfig.from_json_file(model_path / 'bert_config.json')\n",
    "bert = BertModel.from_pretrained(model_path / 'UTH_BERT.bin', config=config)\n",
    "model = Net(bert, num_classes).to(device)\n",
    "\n",
    "FREEZE=False\n",
    "if FREEZE: \n",
    "    idx=1 #Any\n",
    "    for name, param in model.named_parameters(): \n",
    "        param.requires_grad = False \n",
    "    for name, param in list(model.named_parameters())[idx:]: \n",
    "        param.requires_grad = True \n",
    "#     optimizer = optim.SGD([{'params':list(model.parameters())[idx:], 'lr':learning_rate, 'momentum':momentum}])\n",
    "    optimizer = optim.Adam([{'params':list(model.parameters())[idx:], 'lr':learning_rate}]) \n",
    "    criterion = nn.CrossEntropyLoss()\n",
    "else:  \n",
    "#     optimizer = optim.SGD(model.parameters(), lr=learning_rate, momentum=momentum)\n",
    "    optimizer = optim.Adam(model.parameters(), lr=learning_rate)\n",
    "    criterion = nn.CrossEntropyLoss()\n",
    "\n",
    "scheduler = StepLR(optimizer, step_size=3, gamma=0.1)"
   ]
  },
  {
   "cell_type": "code",
   "execution_count": 50,
   "metadata": {},
   "outputs": [
    {
     "name": "stdout",
     "output_type": "stream",
     "text": [
      "\n",
      "Epoch 1/20\n",
      "----------\n"
     ]
    },
    {
     "data": {
      "application/vnd.jupyter.widget-view+json": {
       "model_id": "c4ff8409e6ec4ff785238cd5dd19881f",
       "version_major": 2,
       "version_minor": 0
      },
      "text/plain": [
       "  0%|          | 0/1020 [00:00<?, ?it/s]"
      ]
     },
     "metadata": {},
     "output_type": "display_data"
    },
    {
     "name": "stdout",
     "output_type": "stream",
     "text": [
      "Train loss: 0.2293, Train acc: 0.9284, Time: 130s\n",
      "Valid loss: 0.1641, Valid acc: 0.9313\n",
      "\n",
      "Epoch 2/20\n",
      "----------\n"
     ]
    },
    {
     "data": {
      "application/vnd.jupyter.widget-view+json": {
       "model_id": "4356d305403747acbc2943a9f09773aa",
       "version_major": 2,
       "version_minor": 0
      },
      "text/plain": [
       "  0%|          | 0/1020 [00:00<?, ?it/s]"
      ]
     },
     "metadata": {},
     "output_type": "display_data"
    },
    {
     "name": "stdout",
     "output_type": "stream",
     "text": [
      "Train loss: 0.1668, Train acc: 0.9363, Time: 616s\n",
      "Valid loss: 0.1903, Valid acc: 0.9290\n",
      "\n",
      "Epoch 3/20\n",
      "----------\n"
     ]
    },
    {
     "data": {
      "application/vnd.jupyter.widget-view+json": {
       "model_id": "4a6849f22533433b937671729ad4b2ce",
       "version_major": 2,
       "version_minor": 0
      },
      "text/plain": [
       "  0%|          | 0/1020 [00:00<?, ?it/s]"
      ]
     },
     "metadata": {},
     "output_type": "display_data"
    },
    {
     "name": "stdout",
     "output_type": "stream",
     "text": [
      "Train loss: 0.1189, Train acc: 0.9549, Time: 131s\n",
      "Valid loss: 0.1839, Valid acc: 0.9335\n",
      "\n",
      "Epoch 4/20\n",
      "----------\n"
     ]
    },
    {
     "data": {
      "application/vnd.jupyter.widget-view+json": {
       "model_id": "2486e2fa745346879e949e085579679d",
       "version_major": 2,
       "version_minor": 0
      },
      "text/plain": [
       "  0%|          | 0/1020 [00:00<?, ?it/s]"
      ]
     },
     "metadata": {},
     "output_type": "display_data"
    },
    {
     "name": "stdout",
     "output_type": "stream",
     "text": [
      "Train loss: 0.0948, Train acc: 0.9618, Time: 132s\n",
      "Valid loss: 0.2127, Valid acc: 0.9357\n",
      "\n",
      "Epoch 5/20\n",
      "----------\n"
     ]
    },
    {
     "data": {
      "application/vnd.jupyter.widget-view+json": {
       "model_id": "8b4c24c8b54c4be1a33b1cdbdcd42ab0",
       "version_major": 2,
       "version_minor": 0
      },
      "text/plain": [
       "  0%|          | 0/1020 [00:00<?, ?it/s]"
      ]
     },
     "metadata": {},
     "output_type": "display_data"
    },
    {
     "name": "stdout",
     "output_type": "stream",
     "text": [
      "Train loss: 0.0776, Train acc: 0.9686, Time: 132s\n",
      "Valid loss: 0.2099, Valid acc: 0.9379\n",
      "\n",
      "Epoch 6/20\n",
      "----------\n"
     ]
    },
    {
     "data": {
      "application/vnd.jupyter.widget-view+json": {
       "model_id": "eecce055100e4565aad6d1decf3d621d",
       "version_major": 2,
       "version_minor": 0
      },
      "text/plain": [
       "  0%|          | 0/1020 [00:00<?, ?it/s]"
      ]
     },
     "metadata": {},
     "output_type": "display_data"
    },
    {
     "name": "stdout",
     "output_type": "stream",
     "text": [
      "Train loss: 0.1115, Train acc: 0.9549, Time: 131s\n",
      "Valid loss: 0.2193, Valid acc: 0.9335\n",
      "\n",
      "Epoch 7/20\n",
      "----------\n"
     ]
    },
    {
     "data": {
      "application/vnd.jupyter.widget-view+json": {
       "model_id": "1c0142fe6d9342539c97e372edbc445d",
       "version_major": 2,
       "version_minor": 0
      },
      "text/plain": [
       "  0%|          | 0/1020 [00:00<?, ?it/s]"
      ]
     },
     "metadata": {},
     "output_type": "display_data"
    },
    {
     "name": "stdout",
     "output_type": "stream",
     "text": [
      "Train loss: 0.1035, Train acc: 0.9637, Time: 130s\n",
      "Valid loss: 0.2222, Valid acc: 0.9357\n",
      "\n",
      "Epoch 8/20\n",
      "----------\n"
     ]
    },
    {
     "data": {
      "application/vnd.jupyter.widget-view+json": {
       "model_id": "9a9779ca37054c52add1e2ac6d891c22",
       "version_major": 2,
       "version_minor": 0
      },
      "text/plain": [
       "  0%|          | 0/1020 [00:00<?, ?it/s]"
      ]
     },
     "metadata": {},
     "output_type": "display_data"
    },
    {
     "name": "stdout",
     "output_type": "stream",
     "text": [
      "Train loss: 0.1450, Train acc: 0.9559, Time: 131s\n",
      "Valid loss: 0.3023, Valid acc: 0.9313\n",
      "\n",
      "Epoch 9/20\n",
      "----------\n"
     ]
    },
    {
     "data": {
      "application/vnd.jupyter.widget-view+json": {
       "model_id": "e170db26d8fa43e6b682f0a4cb1122e2",
       "version_major": 2,
       "version_minor": 0
      },
      "text/plain": [
       "  0%|          | 0/1020 [00:00<?, ?it/s]"
      ]
     },
     "metadata": {},
     "output_type": "display_data"
    },
    {
     "name": "stdout",
     "output_type": "stream",
     "text": [
      "Train loss: 0.1282, Train acc: 0.9608, Time: 129s\n",
      "Valid loss: 0.2142, Valid acc: 0.9224\n",
      "\n",
      "Epoch 10/20\n",
      "----------\n"
     ]
    },
    {
     "data": {
      "application/vnd.jupyter.widget-view+json": {
       "model_id": "e362f1b0d2a041589c93fb3f78d10eb6",
       "version_major": 2,
       "version_minor": 0
      },
      "text/plain": [
       "  0%|          | 0/1020 [00:00<?, ?it/s]"
      ]
     },
     "metadata": {},
     "output_type": "display_data"
    },
    {
     "name": "stdout",
     "output_type": "stream",
     "text": [
      "Train loss: 0.1444, Train acc: 0.9471, Time: 129s\n",
      "Valid loss: 0.2513, Valid acc: 0.9335\n",
      "\n",
      "Epoch 11/20\n",
      "----------\n"
     ]
    },
    {
     "data": {
      "application/vnd.jupyter.widget-view+json": {
       "model_id": "1689e299d54e46d48f4c3e4dec56f242",
       "version_major": 2,
       "version_minor": 0
      },
      "text/plain": [
       "  0%|          | 0/1020 [00:00<?, ?it/s]"
      ]
     },
     "metadata": {},
     "output_type": "display_data"
    },
    {
     "name": "stdout",
     "output_type": "stream",
     "text": [
      "Train loss: 0.1124, Train acc: 0.9657, Time: 129s\n",
      "Valid loss: 0.2478, Valid acc: 0.9180\n",
      "\n",
      "Epoch 12/20\n",
      "----------\n"
     ]
    },
    {
     "data": {
      "application/vnd.jupyter.widget-view+json": {
       "model_id": "dfa851b0a1274ab68140e5208d8b6526",
       "version_major": 2,
       "version_minor": 0
      },
      "text/plain": [
       "  0%|          | 0/1020 [00:00<?, ?it/s]"
      ]
     },
     "metadata": {},
     "output_type": "display_data"
    },
    {
     "name": "stdout",
     "output_type": "stream",
     "text": [
      "Train loss: 0.0850, Train acc: 0.9667, Time: 128s\n",
      "Valid loss: 0.3810, Valid acc: 0.9335\n",
      "\n",
      "Epoch 13/20\n",
      "----------\n"
     ]
    },
    {
     "data": {
      "application/vnd.jupyter.widget-view+json": {
       "model_id": "760a078238a94ccab2e23ee2c5eeac0a",
       "version_major": 2,
       "version_minor": 0
      },
      "text/plain": [
       "  0%|          | 0/1020 [00:00<?, ?it/s]"
      ]
     },
     "metadata": {},
     "output_type": "display_data"
    },
    {
     "name": "stdout",
     "output_type": "stream",
     "text": [
      "Train loss: 0.1052, Train acc: 0.9647, Time: 126s\n",
      "Valid loss: 0.1788, Valid acc: 0.9379\n",
      "\n",
      "Epoch 14/20\n",
      "----------\n"
     ]
    },
    {
     "data": {
      "application/vnd.jupyter.widget-view+json": {
       "model_id": "cda553ca828b4775af1d0430b2c3167c",
       "version_major": 2,
       "version_minor": 0
      },
      "text/plain": [
       "  0%|          | 0/1020 [00:00<?, ?it/s]"
      ]
     },
     "metadata": {},
     "output_type": "display_data"
    },
    {
     "name": "stdout",
     "output_type": "stream",
     "text": [
      "Train loss: 0.0737, Train acc: 0.9794, Time: 124s\n",
      "Valid loss: 0.3120, Valid acc: 0.9379\n",
      "\n",
      "Epoch 15/20\n",
      "----------\n"
     ]
    },
    {
     "data": {
      "application/vnd.jupyter.widget-view+json": {
       "model_id": "96f7906599da4dabbc3d8ea6ff35264c",
       "version_major": 2,
       "version_minor": 0
      },
      "text/plain": [
       "  0%|          | 0/1020 [00:00<?, ?it/s]"
      ]
     },
     "metadata": {},
     "output_type": "display_data"
    },
    {
     "name": "stdout",
     "output_type": "stream",
     "text": [
      "Train loss: 0.1068, Train acc: 0.9647, Time: 125s\n",
      "Valid loss: 0.2122, Valid acc: 0.9180\n",
      "\n",
      "Epoch 16/20\n",
      "----------\n"
     ]
    },
    {
     "data": {
      "application/vnd.jupyter.widget-view+json": {
       "model_id": "7fdf526e654843b1aeb756531c5e6ec3",
       "version_major": 2,
       "version_minor": 0
      },
      "text/plain": [
       "  0%|          | 0/1020 [00:00<?, ?it/s]"
      ]
     },
     "metadata": {},
     "output_type": "display_data"
    },
    {
     "name": "stdout",
     "output_type": "stream",
     "text": [
      "Train loss: 0.1209, Train acc: 0.9608, Time: 134s\n",
      "Valid loss: 0.1944, Valid acc: 0.9379\n",
      "\n",
      "Epoch 17/20\n",
      "----------\n"
     ]
    },
    {
     "data": {
      "application/vnd.jupyter.widget-view+json": {
       "model_id": "ab73eb20355145ea8ed5d59b9d3e0fe3",
       "version_major": 2,
       "version_minor": 0
      },
      "text/plain": [
       "  0%|          | 0/1020 [00:00<?, ?it/s]"
      ]
     },
     "metadata": {},
     "output_type": "display_data"
    },
    {
     "name": "stdout",
     "output_type": "stream",
     "text": [
      "Train loss: 0.1095, Train acc: 0.9627, Time: 129s\n",
      "Valid loss: 0.2421, Valid acc: 0.9335\n",
      "\n",
      "Epoch 18/20\n",
      "----------\n"
     ]
    },
    {
     "data": {
      "application/vnd.jupyter.widget-view+json": {
       "model_id": "ce42e063923e4c9cbba4b34df213c015",
       "version_major": 2,
       "version_minor": 0
      },
      "text/plain": [
       "  0%|          | 0/1020 [00:00<?, ?it/s]"
      ]
     },
     "metadata": {},
     "output_type": "display_data"
    },
    {
     "name": "stdout",
     "output_type": "stream",
     "text": [
      "Train loss: 0.0972, Train acc: 0.9647, Time: 2966s\n",
      "Valid loss: 0.2169, Valid acc: 0.9180\n",
      "\n",
      "Epoch 19/20\n",
      "----------\n"
     ]
    },
    {
     "data": {
      "application/vnd.jupyter.widget-view+json": {
       "model_id": "51edb5b0b6de4c318bac1136c75d225c",
       "version_major": 2,
       "version_minor": 0
      },
      "text/plain": [
       "  0%|          | 0/1020 [00:00<?, ?it/s]"
      ]
     },
     "metadata": {},
     "output_type": "display_data"
    },
    {
     "name": "stdout",
     "output_type": "stream",
     "text": [
      "Train loss: 0.0851, Train acc: 0.9725, Time: 126s\n",
      "Valid loss: 0.2184, Valid acc: 0.9224\n",
      "\n",
      "Epoch 20/20\n",
      "----------\n"
     ]
    },
    {
     "data": {
      "application/vnd.jupyter.widget-view+json": {
       "model_id": "31459e6b31b94d1ab1be9b6b77a0b88d",
       "version_major": 2,
       "version_minor": 0
      },
      "text/plain": [
       "  0%|          | 0/1020 [00:00<?, ?it/s]"
      ]
     },
     "metadata": {},
     "output_type": "display_data"
    },
    {
     "name": "stdout",
     "output_type": "stream",
     "text": [
      "Train loss: 0.0912, Train acc: 0.9676, Time: 124s\n",
      "Valid loss: 0.2138, Valid acc: 0.9135\n",
      "\n",
      "Training complete\n",
      "Best ACC: 0.9379 at epoch 4\n"
     ]
    }
   ],
   "source": [
    "train_loss, valid_loss, train_acc, valid_acc = run(train_loader, valid_loader, model,\n",
    "                                                             num_classes, epochs=epochs,\n",
    "                                                             save_path=save_path/'sate')"
   ]
  },
  {
   "cell_type": "code",
   "execution_count": 51,
   "metadata": {},
   "outputs": [
    {
     "data": {
      "image/png": "[encoded data removed]",
      "text/plain": [
       "<Figure size 640x480 with 1 Axes>"
      ]
     },
     "metadata": {},
     "output_type": "display_data"
    }
   ],
   "source": [
    "plot_loss(train_loss, valid_loss)"
   ]
  },
  {
   "cell_type": "code",
   "execution_count": 52,
   "metadata": {},
   "outputs": [
    {
     "data": {
      "image/png": "[encoded data removed]",
      "text/plain": [
       "<Figure size 640x480 with 1 Axes>"
      ]
     },
     "metadata": {},
     "output_type": "display_data"
    }
   ],
   "source": [
    "plot_metrics(train_acc, valid_acc)"
   ]
  },
  {
   "cell_type": "code",
   "execution_count": 53,
   "metadata": {},
   "outputs": [
    {
     "name": "stdout",
     "output_type": "stream",
     "text": [
      "accuracy: 0.9379157427937915\n"
     ]
    }
   ],
   "source": [
    "print(f'accuracy: {max(valid_acc)}')"
   ]
  },
  {
   "cell_type": "markdown",
   "metadata": {},
   "source": [
    "## Lymphadenopathyモデル"
   ]
  },
  {
   "cell_type": "code",
   "execution_count": 54,
   "metadata": {},
   "outputs": [],
   "source": [
    "train_data = []\n",
    "valid_data = []\n",
    "for x, y in zip(X_train, Ylymp_train):\n",
    "    data = [x, y]\n",
    "    train_data.append(data)\n",
    "for x, y in zip(X_valid, Ylymp_valid):\n",
    "    data = [x, y]\n",
    "    valid_data.append(data)\n",
    "    \n",
    "train_loader, valid_loader = build_data(train_data, valid_data, batch_size=batch_size)"
   ]
  },
  {
   "cell_type": "code",
   "execution_count": 55,
   "metadata": {},
   "outputs": [],
   "source": [
    "config = BertConfig.from_json_file(model_path / 'bert_config.json')\n",
    "bert = BertModel.from_pretrained(model_path / 'UTH_BERT.bin', config=config)\n",
    "model = Net(bert, num_classes).to(device)\n",
    "\n",
    "FREEZE=False\n",
    "if FREEZE: \n",
    "    idx=1 #Any\n",
    "    for name, param in model.named_parameters(): \n",
    "        param.requires_grad = False \n",
    "    for name, param in list(model.named_parameters())[idx:]: \n",
    "        param.requires_grad = True \n",
    "#     optimizer = optim.SGD([{'params':list(model.parameters())[idx:], 'lr':learning_rate, 'momentum':momentum}])\n",
    "    optimizer = optim.Adam([{'params':list(model.parameters())[idx:], 'lr':learning_rate}]) \n",
    "    criterion = nn.CrossEntropyLoss()\n",
    "else:  \n",
    "#     optimizer = optim.SGD(model.parameters(), lr=learning_rate, momentum=momentum)\n",
    "    optimizer = optim.Adam(model.parameters(), lr=learning_rate)\n",
    "    criterion = nn.CrossEntropyLoss()\n",
    "\n",
    "scheduler = StepLR(optimizer, step_size=3, gamma=0.1)"
   ]
  },
  {
   "cell_type": "code",
   "execution_count": 56,
   "metadata": {},
   "outputs": [
    {
     "name": "stdout",
     "output_type": "stream",
     "text": [
      "\n",
      "Epoch 1/20\n",
      "----------\n"
     ]
    },
    {
     "data": {
      "application/vnd.jupyter.widget-view+json": {
       "model_id": "07f3a1092dfa44deb189b339d61c2808",
       "version_major": 2,
       "version_minor": 0
      },
      "text/plain": [
       "  0%|          | 0/1020 [00:00<?, ?it/s]"
      ]
     },
     "metadata": {},
     "output_type": "display_data"
    },
    {
     "name": "stdout",
     "output_type": "stream",
     "text": [
      "Train loss: 0.2046, Train acc: 0.9275, Time: 125s\n",
      "Valid loss: 0.0678, Valid acc: 0.9867\n",
      "\n",
      "Epoch 2/20\n",
      "----------\n"
     ]
    },
    {
     "data": {
      "application/vnd.jupyter.widget-view+json": {
       "model_id": "db33af6397564e95bf3cd41fe494788c",
       "version_major": 2,
       "version_minor": 0
      },
      "text/plain": [
       "  0%|          | 0/1020 [00:00<?, ?it/s]"
      ]
     },
     "metadata": {},
     "output_type": "display_data"
    },
    {
     "name": "stdout",
     "output_type": "stream",
     "text": [
      "Train loss: 0.1134, Train acc: 0.9637, Time: 125s\n",
      "Valid loss: 0.0740, Valid acc: 0.9756\n",
      "\n",
      "Epoch 3/20\n",
      "----------\n"
     ]
    },
    {
     "data": {
      "application/vnd.jupyter.widget-view+json": {
       "model_id": "eda3f177fc7240fb828150faefe68c88",
       "version_major": 2,
       "version_minor": 0
      },
      "text/plain": [
       "  0%|          | 0/1020 [00:00<?, ?it/s]"
      ]
     },
     "metadata": {},
     "output_type": "display_data"
    },
    {
     "name": "stdout",
     "output_type": "stream",
     "text": [
      "Train loss: 0.0872, Train acc: 0.9647, Time: 126s\n",
      "Valid loss: 0.0759, Valid acc: 0.9778\n",
      "\n",
      "Epoch 4/20\n",
      "----------\n"
     ]
    },
    {
     "data": {
      "application/vnd.jupyter.widget-view+json": {
       "model_id": "07ac1b41146f4bbe9992656d2b469ae5",
       "version_major": 2,
       "version_minor": 0
      },
      "text/plain": [
       "  0%|          | 0/1020 [00:00<?, ?it/s]"
      ]
     },
     "metadata": {},
     "output_type": "display_data"
    },
    {
     "name": "stdout",
     "output_type": "stream",
     "text": [
      "Train loss: 0.1707, Train acc: 0.9353, Time: 125s\n",
      "Valid loss: 0.1910, Valid acc: 0.9135\n",
      "\n",
      "Epoch 5/20\n",
      "----------\n"
     ]
    },
    {
     "data": {
      "application/vnd.jupyter.widget-view+json": {
       "model_id": "7101ddb6b7cf46fdb2948ab7c241a483",
       "version_major": 2,
       "version_minor": 0
      },
      "text/plain": [
       "  0%|          | 0/1020 [00:00<?, ?it/s]"
      ]
     },
     "metadata": {},
     "output_type": "display_data"
    },
    {
     "name": "stdout",
     "output_type": "stream",
     "text": [
      "Train loss: 0.1714, Train acc: 0.9422, Time: 126s\n",
      "Valid loss: 0.1174, Valid acc: 0.9645\n",
      "\n",
      "Epoch 6/20\n",
      "----------\n"
     ]
    },
    {
     "data": {
      "application/vnd.jupyter.widget-view+json": {
       "model_id": "0331a9a2d4d346d3b64dc20f030b039a",
       "version_major": 2,
       "version_minor": 0
      },
      "text/plain": [
       "  0%|          | 0/1020 [00:00<?, ?it/s]"
      ]
     },
     "metadata": {},
     "output_type": "display_data"
    },
    {
     "name": "stdout",
     "output_type": "stream",
     "text": [
      "Train loss: 0.1232, Train acc: 0.9500, Time: 126s\n",
      "Valid loss: 0.1117, Valid acc: 0.9690\n",
      "\n",
      "Epoch 7/20\n",
      "----------\n"
     ]
    },
    {
     "data": {
      "application/vnd.jupyter.widget-view+json": {
       "model_id": "a7e532455d0e4a46aabb96a21f3a2959",
       "version_major": 2,
       "version_minor": 0
      },
      "text/plain": [
       "  0%|          | 0/1020 [00:00<?, ?it/s]"
      ]
     },
     "metadata": {},
     "output_type": "display_data"
    },
    {
     "name": "stdout",
     "output_type": "stream",
     "text": [
      "Train loss: 0.1103, Train acc: 0.9578, Time: 125s\n",
      "Valid loss: 0.1133, Valid acc: 0.9490\n",
      "\n",
      "Epoch 8/20\n",
      "----------\n"
     ]
    },
    {
     "data": {
      "application/vnd.jupyter.widget-view+json": {
       "model_id": "7d0a699a9c6442759436219f3f8700f1",
       "version_major": 2,
       "version_minor": 0
      },
      "text/plain": [
       "  0%|          | 0/1020 [00:00<?, ?it/s]"
      ]
     },
     "metadata": {},
     "output_type": "display_data"
    },
    {
     "name": "stdout",
     "output_type": "stream",
     "text": [
      "Train loss: 0.1023, Train acc: 0.9706, Time: 126s\n",
      "Valid loss: 0.3243, Valid acc: 0.9024\n",
      "\n",
      "Epoch 9/20\n",
      "----------\n"
     ]
    },
    {
     "data": {
      "application/vnd.jupyter.widget-view+json": {
       "model_id": "5966a8fe97a64956950ba9346f6f063d",
       "version_major": 2,
       "version_minor": 0
      },
      "text/plain": [
       "  0%|          | 0/1020 [00:00<?, ?it/s]"
      ]
     },
     "metadata": {},
     "output_type": "display_data"
    },
    {
     "name": "stdout",
     "output_type": "stream",
     "text": [
      "Train loss: 0.1367, Train acc: 0.9559, Time: 126s\n",
      "Valid loss: 0.0789, Valid acc: 0.9756\n",
      "\n",
      "Epoch 10/20\n",
      "----------\n"
     ]
    },
    {
     "data": {
      "application/vnd.jupyter.widget-view+json": {
       "model_id": "df02aaf4307d4cf192f5e5df906409f2",
       "version_major": 2,
       "version_minor": 0
      },
      "text/plain": [
       "  0%|          | 0/1020 [00:00<?, ?it/s]"
      ]
     },
     "metadata": {},
     "output_type": "display_data"
    },
    {
     "name": "stdout",
     "output_type": "stream",
     "text": [
      "Train loss: 0.0690, Train acc: 0.9735, Time: 127s\n",
      "Valid loss: 0.0621, Valid acc: 0.9845\n",
      "\n",
      "Epoch 11/20\n",
      "----------\n"
     ]
    },
    {
     "data": {
      "application/vnd.jupyter.widget-view+json": {
       "model_id": "7d48ed4586514a2c82d6e5d01f97299f",
       "version_major": 2,
       "version_minor": 0
      },
      "text/plain": [
       "  0%|          | 0/1020 [00:00<?, ?it/s]"
      ]
     },
     "metadata": {},
     "output_type": "display_data"
    },
    {
     "name": "stdout",
     "output_type": "stream",
     "text": [
      "Train loss: 0.0535, Train acc: 0.9794, Time: 127s\n",
      "Valid loss: 0.0573, Valid acc: 0.9800\n",
      "\n",
      "Epoch 12/20\n",
      "----------\n"
     ]
    },
    {
     "data": {
      "application/vnd.jupyter.widget-view+json": {
       "model_id": "0665d61af82043a582fc549906af6bdc",
       "version_major": 2,
       "version_minor": 0
      },
      "text/plain": [
       "  0%|          | 0/1020 [00:00<?, ?it/s]"
      ]
     },
     "metadata": {},
     "output_type": "display_data"
    },
    {
     "name": "stdout",
     "output_type": "stream",
     "text": [
      "Train loss: 0.0904, Train acc: 0.9667, Time: 126s\n",
      "Valid loss: 0.0598, Valid acc: 0.9800\n",
      "\n",
      "Epoch 13/20\n",
      "----------\n"
     ]
    },
    {
     "data": {
      "application/vnd.jupyter.widget-view+json": {
       "model_id": "b32644b154464d008c5b5e7974df300e",
       "version_major": 2,
       "version_minor": 0
      },
      "text/plain": [
       "  0%|          | 0/1020 [00:00<?, ?it/s]"
      ]
     },
     "metadata": {},
     "output_type": "display_data"
    },
    {
     "name": "stdout",
     "output_type": "stream",
     "text": [
      "Train loss: 0.1291, Train acc: 0.9569, Time: 126s\n",
      "Valid loss: 0.1736, Valid acc: 0.9268\n",
      "\n",
      "Epoch 14/20\n",
      "----------\n"
     ]
    },
    {
     "data": {
      "application/vnd.jupyter.widget-view+json": {
       "model_id": "09883c970c144f0a8f33cba90bd942bb",
       "version_major": 2,
       "version_minor": 0
      },
      "text/plain": [
       "  0%|          | 0/1020 [00:00<?, ?it/s]"
      ]
     },
     "metadata": {},
     "output_type": "display_data"
    },
    {
     "name": "stdout",
     "output_type": "stream",
     "text": [
      "Train loss: 0.0658, Train acc: 0.9755, Time: 126s\n",
      "Valid loss: 0.0665, Valid acc: 0.9778\n",
      "\n",
      "Epoch 15/20\n",
      "----------\n"
     ]
    },
    {
     "data": {
      "application/vnd.jupyter.widget-view+json": {
       "model_id": "cddb1742a7c1457ca1d103a900ec67a3",
       "version_major": 2,
       "version_minor": 0
      },
      "text/plain": [
       "  0%|          | 0/1020 [00:00<?, ?it/s]"
      ]
     },
     "metadata": {},
     "output_type": "display_data"
    },
    {
     "name": "stdout",
     "output_type": "stream",
     "text": [
      "Train loss: 0.0927, Train acc: 0.9696, Time: 126s\n",
      "Valid loss: 0.3061, Valid acc: 0.8714\n",
      "\n",
      "Epoch 16/20\n",
      "----------\n"
     ]
    },
    {
     "data": {
      "application/vnd.jupyter.widget-view+json": {
       "model_id": "768798dbf03c443b81099c2ce6c90e0d",
       "version_major": 2,
       "version_minor": 0
      },
      "text/plain": [
       "  0%|          | 0/1020 [00:00<?, ?it/s]"
      ]
     },
     "metadata": {},
     "output_type": "display_data"
    },
    {
     "name": "stdout",
     "output_type": "stream",
     "text": [
      "Train loss: 0.1195, Train acc: 0.9549, Time: 126s\n",
      "Valid loss: 0.0965, Valid acc: 0.9690\n",
      "\n",
      "Epoch 17/20\n",
      "----------\n"
     ]
    },
    {
     "data": {
      "application/vnd.jupyter.widget-view+json": {
       "model_id": "8c966bf2759641feb38da85d6f2aa1d4",
       "version_major": 2,
       "version_minor": 0
      },
      "text/plain": [
       "  0%|          | 0/1020 [00:00<?, ?it/s]"
      ]
     },
     "metadata": {},
     "output_type": "display_data"
    },
    {
     "name": "stdout",
     "output_type": "stream",
     "text": [
      "Train loss: 0.0917, Train acc: 0.9618, Time: 125s\n",
      "Valid loss: 0.1217, Valid acc: 0.9557\n",
      "\n",
      "Epoch 18/20\n",
      "----------\n"
     ]
    },
    {
     "data": {
      "application/vnd.jupyter.widget-view+json": {
       "model_id": "7400d82564fe4d0c8231ccd0b4aea358",
       "version_major": 2,
       "version_minor": 0
      },
      "text/plain": [
       "  0%|          | 0/1020 [00:00<?, ?it/s]"
      ]
     },
     "metadata": {},
     "output_type": "display_data"
    },
    {
     "name": "stdout",
     "output_type": "stream",
     "text": [
      "Train loss: 0.0801, Train acc: 0.9725, Time: 128s\n",
      "Valid loss: 0.1187, Valid acc: 0.9623\n",
      "\n",
      "Epoch 19/20\n",
      "----------\n"
     ]
    },
    {
     "data": {
      "application/vnd.jupyter.widget-view+json": {
       "model_id": "c9ebe00f3e0f4ab5be33fcc0ad178c86",
       "version_major": 2,
       "version_minor": 0
      },
      "text/plain": [
       "  0%|          | 0/1020 [00:00<?, ?it/s]"
      ]
     },
     "metadata": {},
     "output_type": "display_data"
    },
    {
     "name": "stdout",
     "output_type": "stream",
     "text": [
      "Train loss: 0.0744, Train acc: 0.9735, Time: 125s\n",
      "Valid loss: 0.0669, Valid acc: 0.9800\n",
      "\n",
      "Epoch 20/20\n",
      "----------\n"
     ]
    },
    {
     "data": {
      "application/vnd.jupyter.widget-view+json": {
       "model_id": "6c3aef034fe144d0919305dbd2d31d7d",
       "version_major": 2,
       "version_minor": 0
      },
      "text/plain": [
       "  0%|          | 0/1020 [00:00<?, ?it/s]"
      ]
     },
     "metadata": {},
     "output_type": "display_data"
    },
    {
     "name": "stdout",
     "output_type": "stream",
     "text": [
      "Train loss: 0.0783, Train acc: 0.9745, Time: 125s\n",
      "Valid loss: 0.0579, Valid acc: 0.9778\n",
      "\n",
      "Training complete\n",
      "Best ACC: 0.9867 at epoch 0\n"
     ]
    }
   ],
   "source": [
    "train_loss, valid_loss, train_acc, valid_acc = run(train_loader, valid_loader, model,\n",
    "                                                             num_classes, epochs=epochs,\n",
    "                                                             save_path=save_path/'lymp')"
   ]
  },
  {
   "cell_type": "code",
   "execution_count": 57,
   "metadata": {},
   "outputs": [
    {
     "data": {
      "image/png": "[encoded data removed]",
      "text/plain": [
       "<Figure size 640x480 with 1 Axes>"
      ]
     },
     "metadata": {},
     "output_type": "display_data"
    }
   ],
   "source": [
    "plot_loss(train_loss, valid_loss)"
   ]
  },
  {
   "cell_type": "code",
   "execution_count": 58,
   "metadata": {},
   "outputs": [
    {
     "data": {
      "image/png": "[encoded data removed]",
      "text/plain": [
       "<Figure size 640x480 with 1 Axes>"
      ]
     },
     "metadata": {},
     "output_type": "display_data"
    }
   ],
   "source": [
    "plot_metrics(train_acc, valid_acc)"
   ]
  },
  {
   "cell_type": "code",
   "execution_count": 59,
   "metadata": {},
   "outputs": [
    {
     "name": "stdout",
     "output_type": "stream",
     "text": [
      "accuracy: 0.9866962305986696\n"
     ]
    }
   ],
   "source": [
    "print(f'accuracy: {max(valid_acc)}')"
   ]
  },
  {
   "cell_type": "markdown",
   "metadata": {},
   "source": [
    "## Pleuralモデル"
   ]
  },
  {
   "cell_type": "code",
   "execution_count": 60,
   "metadata": {},
   "outputs": [],
   "source": [
    "train_data = []\n",
    "valid_data = []\n",
    "for x, y in zip(X_train, Ypleu_train):\n",
    "    data = [x, y]\n",
    "    train_data.append(data)\n",
    "for x, y in zip(X_valid, Ypleu_valid):\n",
    "    data = [x, y]\n",
    "    valid_data.append(data)\n",
    "    \n",
    "train_loader, valid_loader = build_data(train_data, valid_data, batch_size=batch_size)"
   ]
  },
  {
   "cell_type": "code",
   "execution_count": 61,
   "metadata": {},
   "outputs": [],
   "source": [
    "config = BertConfig.from_json_file(model_path / 'bert_config.json')\n",
    "bert = BertModel.from_pretrained(model_path / 'UTH_BERT.bin', config=config)\n",
    "model = Net(bert, num_classes).to(device)\n",
    "\n",
    "FREEZE=False\n",
    "if FREEZE: \n",
    "    idx=1 #Any\n",
    "    for name, param in model.named_parameters(): \n",
    "        param.requires_grad = False \n",
    "    for name, param in list(model.named_parameters())[idx:]: \n",
    "        param.requires_grad = True \n",
    "#     optimizer = optim.SGD([{'params':list(model.parameters())[idx:], 'lr':learning_rate, 'momentum':momentum}])\n",
    "    optimizer = optim.Adam([{'params':list(model.parameters())[idx:], 'lr':learning_rate}]) \n",
    "    criterion = nn.CrossEntropyLoss()\n",
    "else:  \n",
    "#     optimizer = optim.SGD(model.parameters(), lr=learning_rate, momentum=momentum)\n",
    "    optimizer = optim.Adam(model.parameters(), lr=learning_rate)\n",
    "    criterion = nn.CrossEntropyLoss()\n",
    "\n",
    "scheduler = StepLR(optimizer, step_size=3, gamma=0.1)"
   ]
  },
  {
   "cell_type": "code",
   "execution_count": 62,
   "metadata": {},
   "outputs": [
    {
     "name": "stdout",
     "output_type": "stream",
     "text": [
      "\n",
      "Epoch 1/20\n",
      "----------\n"
     ]
    },
    {
     "data": {
      "application/vnd.jupyter.widget-view+json": {
       "model_id": "9cceb744d2464737935524e1b9da3978",
       "version_major": 2,
       "version_minor": 0
      },
      "text/plain": [
       "  0%|          | 0/1020 [00:00<?, ?it/s]"
      ]
     },
     "metadata": {},
     "output_type": "display_data"
    },
    {
     "name": "stdout",
     "output_type": "stream",
     "text": [
      "Train loss: 0.1221, Train acc: 0.9735, Time: 123s\n",
      "Valid loss: 0.2468, Valid acc: 0.9180\n",
      "\n",
      "Epoch 2/20\n",
      "----------\n"
     ]
    },
    {
     "data": {
      "application/vnd.jupyter.widget-view+json": {
       "model_id": "c91b599a87e24696a80280b81daa5b85",
       "version_major": 2,
       "version_minor": 0
      },
      "text/plain": [
       "  0%|          | 0/1020 [00:00<?, ?it/s]"
      ]
     },
     "metadata": {},
     "output_type": "display_data"
    },
    {
     "name": "stdout",
     "output_type": "stream",
     "text": [
      "Train loss: 0.1059, Train acc: 0.9755, Time: 124s\n",
      "Valid loss: 0.2201, Valid acc: 0.9490\n",
      "\n",
      "Epoch 3/20\n",
      "----------\n"
     ]
    },
    {
     "data": {
      "application/vnd.jupyter.widget-view+json": {
       "model_id": "b936cedef0d047cc8f9adc85a0223073",
       "version_major": 2,
       "version_minor": 0
      },
      "text/plain": [
       "  0%|          | 0/1020 [00:00<?, ?it/s]"
      ]
     },
     "metadata": {},
     "output_type": "display_data"
    },
    {
     "name": "stdout",
     "output_type": "stream",
     "text": [
      "Train loss: 0.0622, Train acc: 0.9843, Time: 123s\n",
      "Valid loss: 0.1953, Valid acc: 0.9645\n",
      "\n",
      "Epoch 4/20\n",
      "----------\n"
     ]
    },
    {
     "data": {
      "application/vnd.jupyter.widget-view+json": {
       "model_id": "3349467109534a33aff76448cc50969d",
       "version_major": 2,
       "version_minor": 0
      },
      "text/plain": [
       "  0%|          | 0/1020 [00:00<?, ?it/s]"
      ]
     },
     "metadata": {},
     "output_type": "display_data"
    },
    {
     "name": "stdout",
     "output_type": "stream",
     "text": [
      "Train loss: 0.0548, Train acc: 0.9843, Time: 124s\n",
      "Valid loss: 0.2095, Valid acc: 0.9401\n",
      "\n",
      "Epoch 5/20\n",
      "----------\n"
     ]
    },
    {
     "data": {
      "application/vnd.jupyter.widget-view+json": {
       "model_id": "d8096a6acd4e4e688b25397529af11db",
       "version_major": 2,
       "version_minor": 0
      },
      "text/plain": [
       "  0%|          | 0/1020 [00:00<?, ?it/s]"
      ]
     },
     "metadata": {},
     "output_type": "display_data"
    },
    {
     "name": "stdout",
     "output_type": "stream",
     "text": [
      "Train loss: 0.0321, Train acc: 0.9931, Time: 124s\n",
      "Valid loss: 0.2158, Valid acc: 0.9601\n",
      "\n",
      "Epoch 6/20\n",
      "----------\n"
     ]
    },
    {
     "data": {
      "application/vnd.jupyter.widget-view+json": {
       "model_id": "2cb16a8cdfc443c68dbdbac626de2e5a",
       "version_major": 2,
       "version_minor": 0
      },
      "text/plain": [
       "  0%|          | 0/1020 [00:00<?, ?it/s]"
      ]
     },
     "metadata": {},
     "output_type": "display_data"
    },
    {
     "name": "stdout",
     "output_type": "stream",
     "text": [
      "Train loss: 0.0711, Train acc: 0.9794, Time: 124s\n",
      "Valid loss: 0.2662, Valid acc: 0.9579\n",
      "\n",
      "Epoch 7/20\n",
      "----------\n"
     ]
    },
    {
     "data": {
      "application/vnd.jupyter.widget-view+json": {
       "model_id": "9b2f739345fa43b2b93192f2079e8698",
       "version_major": 2,
       "version_minor": 0
      },
      "text/plain": [
       "  0%|          | 0/1020 [00:00<?, ?it/s]"
      ]
     },
     "metadata": {},
     "output_type": "display_data"
    },
    {
     "name": "stdout",
     "output_type": "stream",
     "text": [
      "Train loss: 0.0317, Train acc: 0.9902, Time: 124s\n",
      "Valid loss: 0.4465, Valid acc: 0.9335\n",
      "\n",
      "Epoch 8/20\n",
      "----------\n"
     ]
    },
    {
     "data": {
      "application/vnd.jupyter.widget-view+json": {
       "model_id": "97ba67acfd46459daaf823bc28e94f31",
       "version_major": 2,
       "version_minor": 0
      },
      "text/plain": [
       "  0%|          | 0/1020 [00:00<?, ?it/s]"
      ]
     },
     "metadata": {},
     "output_type": "display_data"
    },
    {
     "name": "stdout",
     "output_type": "stream",
     "text": [
      "Train loss: 0.0286, Train acc: 0.9912, Time: 124s\n",
      "Valid loss: 0.1820, Valid acc: 0.9645\n",
      "\n",
      "Epoch 9/20\n",
      "----------\n"
     ]
    },
    {
     "data": {
      "application/vnd.jupyter.widget-view+json": {
       "model_id": "f2e45c348da64394aaf06c533497bcb5",
       "version_major": 2,
       "version_minor": 0
      },
      "text/plain": [
       "  0%|          | 0/1020 [00:00<?, ?it/s]"
      ]
     },
     "metadata": {},
     "output_type": "display_data"
    },
    {
     "name": "stdout",
     "output_type": "stream",
     "text": [
      "Train loss: 0.0096, Train acc: 0.9961, Time: 124s\n",
      "Valid loss: 0.2729, Valid acc: 0.9601\n",
      "\n",
      "Epoch 10/20\n",
      "----------\n"
     ]
    },
    {
     "data": {
      "application/vnd.jupyter.widget-view+json": {
       "model_id": "0115e4785dc94ebe9471c69d6499e89e",
       "version_major": 2,
       "version_minor": 0
      },
      "text/plain": [
       "  0%|          | 0/1020 [00:00<?, ?it/s]"
      ]
     },
     "metadata": {},
     "output_type": "display_data"
    },
    {
     "name": "stdout",
     "output_type": "stream",
     "text": [
      "Train loss: 0.0004, Train acc: 1.0000, Time: 124s\n",
      "Valid loss: 0.2638, Valid acc: 0.9690\n",
      "\n",
      "Epoch 11/20\n",
      "----------\n"
     ]
    },
    {
     "data": {
      "application/vnd.jupyter.widget-view+json": {
       "model_id": "4f7d52115a1947f3bb562621ce7f1ab7",
       "version_major": 2,
       "version_minor": 0
      },
      "text/plain": [
       "  0%|          | 0/1020 [00:00<?, ?it/s]"
      ]
     },
     "metadata": {},
     "output_type": "display_data"
    },
    {
     "name": "stdout",
     "output_type": "stream",
     "text": [
      "Train loss: 0.0001, Train acc: 1.0000, Time: 124s\n",
      "Valid loss: 0.2937, Valid acc: 0.9690\n",
      "\n",
      "Epoch 12/20\n",
      "----------\n"
     ]
    },
    {
     "data": {
      "application/vnd.jupyter.widget-view+json": {
       "model_id": "58d7ad0b4bfd4954b1b633d9f5a17342",
       "version_major": 2,
       "version_minor": 0
      },
      "text/plain": [
       "  0%|          | 0/1020 [00:00<?, ?it/s]"
      ]
     },
     "metadata": {},
     "output_type": "display_data"
    },
    {
     "name": "stdout",
     "output_type": "stream",
     "text": [
      "Train loss: 0.0000, Train acc: 1.0000, Time: 124s\n",
      "Valid loss: 0.3043, Valid acc: 0.9690\n",
      "\n",
      "Epoch 13/20\n",
      "----------\n"
     ]
    },
    {
     "data": {
      "application/vnd.jupyter.widget-view+json": {
       "model_id": "8ae6d07b137f49e19b223ee13815225b",
       "version_major": 2,
       "version_minor": 0
      },
      "text/plain": [
       "  0%|          | 0/1020 [00:00<?, ?it/s]"
      ]
     },
     "metadata": {},
     "output_type": "display_data"
    },
    {
     "name": "stdout",
     "output_type": "stream",
     "text": [
      "Train loss: 0.0000, Train acc: 1.0000, Time: 124s\n",
      "Valid loss: 0.3336, Valid acc: 0.9690\n",
      "\n",
      "Epoch 14/20\n",
      "----------\n"
     ]
    },
    {
     "data": {
      "application/vnd.jupyter.widget-view+json": {
       "model_id": "f208748d07444181a48ca36fc62829b9",
       "version_major": 2,
       "version_minor": 0
      },
      "text/plain": [
       "  0%|          | 0/1020 [00:00<?, ?it/s]"
      ]
     },
     "metadata": {},
     "output_type": "display_data"
    },
    {
     "name": "stdout",
     "output_type": "stream",
     "text": [
      "Train loss: 0.0000, Train acc: 1.0000, Time: 124s\n",
      "Valid loss: 0.3456, Valid acc: 0.9690\n",
      "\n",
      "Epoch 15/20\n",
      "----------\n"
     ]
    },
    {
     "data": {
      "application/vnd.jupyter.widget-view+json": {
       "model_id": "63f61497ec404797933c08515caa80c9",
       "version_major": 2,
       "version_minor": 0
      },
      "text/plain": [
       "  0%|          | 0/1020 [00:00<?, ?it/s]"
      ]
     },
     "metadata": {},
     "output_type": "display_data"
    },
    {
     "name": "stdout",
     "output_type": "stream",
     "text": [
      "Train loss: 0.0000, Train acc: 1.0000, Time: 124s\n",
      "Valid loss: 0.3570, Valid acc: 0.9690\n",
      "\n",
      "Epoch 16/20\n",
      "----------\n"
     ]
    },
    {
     "data": {
      "application/vnd.jupyter.widget-view+json": {
       "model_id": "7daf1fc191004ae881b951ec54161888",
       "version_major": 2,
       "version_minor": 0
      },
      "text/plain": [
       "  0%|          | 0/1020 [00:00<?, ?it/s]"
      ]
     },
     "metadata": {},
     "output_type": "display_data"
    },
    {
     "name": "stdout",
     "output_type": "stream",
     "text": [
      "Train loss: 0.0000, Train acc: 1.0000, Time: 124s\n",
      "Valid loss: 0.3728, Valid acc: 0.9690\n",
      "\n",
      "Epoch 17/20\n",
      "----------\n"
     ]
    },
    {
     "data": {
      "application/vnd.jupyter.widget-view+json": {
       "model_id": "757cf8181db04781b80436ffcf47ed1c",
       "version_major": 2,
       "version_minor": 0
      },
      "text/plain": [
       "  0%|          | 0/1020 [00:00<?, ?it/s]"
      ]
     },
     "metadata": {},
     "output_type": "display_data"
    },
    {
     "name": "stdout",
     "output_type": "stream",
     "text": [
      "Train loss: 0.0000, Train acc: 1.0000, Time: 124s\n",
      "Valid loss: 0.3907, Valid acc: 0.9690\n",
      "\n",
      "Epoch 18/20\n",
      "----------\n"
     ]
    },
    {
     "data": {
      "application/vnd.jupyter.widget-view+json": {
       "model_id": "967103983c8a46c390295a54728ed88e",
       "version_major": 2,
       "version_minor": 0
      },
      "text/plain": [
       "  0%|          | 0/1020 [00:00<?, ?it/s]"
      ]
     },
     "metadata": {},
     "output_type": "display_data"
    },
    {
     "name": "stdout",
     "output_type": "stream",
     "text": [
      "Train loss: 0.0000, Train acc: 1.0000, Time: 124s\n",
      "Valid loss: 0.4027, Valid acc: 0.9690\n",
      "\n",
      "Epoch 19/20\n",
      "----------\n"
     ]
    },
    {
     "data": {
      "application/vnd.jupyter.widget-view+json": {
       "model_id": "ea7c2ae23b7d465a87dd24ebf95f6dec",
       "version_major": 2,
       "version_minor": 0
      },
      "text/plain": [
       "  0%|          | 0/1020 [00:00<?, ?it/s]"
      ]
     },
     "metadata": {},
     "output_type": "display_data"
    },
    {
     "name": "stdout",
     "output_type": "stream",
     "text": [
      "Train loss: 0.0000, Train acc: 1.0000, Time: 124s\n",
      "Valid loss: 0.4581, Valid acc: 0.9623\n",
      "\n",
      "Epoch 20/20\n",
      "----------\n"
     ]
    },
    {
     "data": {
      "application/vnd.jupyter.widget-view+json": {
       "model_id": "52e1f869b18d4c97a6f86e157a1677f5",
       "version_major": 2,
       "version_minor": 0
      },
      "text/plain": [
       "  0%|          | 0/1020 [00:00<?, ?it/s]"
      ]
     },
     "metadata": {},
     "output_type": "display_data"
    },
    {
     "name": "stdout",
     "output_type": "stream",
     "text": [
      "Train loss: 0.0000, Train acc: 1.0000, Time: 124s\n",
      "Valid loss: 0.4537, Valid acc: 0.9690\n",
      "\n",
      "Training complete\n",
      "Best ACC: 0.9690 at epoch 9\n"
     ]
    }
   ],
   "source": [
    "train_loss, valid_loss, train_acc, valid_acc = run(train_loader, valid_loader, model,\n",
    "                                                             num_classes, epochs=epochs,\n",
    "                                                             save_path=save_path/'pleu')"
   ]
  },
  {
   "cell_type": "code",
   "execution_count": 63,
   "metadata": {},
   "outputs": [
    {
     "data": {
      "image/png": "[encoded data removed]",
      "text/plain": [
       "<Figure size 640x480 with 1 Axes>"
      ]
     },
     "metadata": {},
     "output_type": "display_data"
    }
   ],
   "source": [
    "plot_loss(train_loss, valid_loss)"
   ]
  },
  {
   "cell_type": "code",
   "execution_count": 64,
   "metadata": {},
   "outputs": [
    {
     "data": {
      "image/png": "[encoded data removed]",
      "text/plain": [
       "<Figure size 640x480 with 1 Axes>"
      ]
     },
     "metadata": {},
     "output_type": "display_data"
    }
   ],
   "source": [
    "plot_metrics(train_acc, valid_acc)"
   ]
  },
  {
   "cell_type": "code",
   "execution_count": 65,
   "metadata": {},
   "outputs": [
    {
     "name": "stdout",
     "output_type": "stream",
     "text": [
      "accuracy: 0.9689578713968958\n"
     ]
    }
   ],
   "source": [
    "print(f'accuracy: {max(valid_acc)}')"
   ]
  },
  {
   "cell_type": "markdown",
   "metadata": {},
   "source": [
    "## Distantモデル"
   ]
  },
  {
   "cell_type": "code",
   "execution_count": 66,
   "metadata": {},
   "outputs": [],
   "source": [
    "train_data = []\n",
    "valid_data = []\n",
    "for x, y in zip(X_train, Ydist_train):\n",
    "    data = [x, y]\n",
    "    train_data.append(data)\n",
    "for x, y in zip(X_valid, Ydist_valid):\n",
    "    data = [x, y]\n",
    "    valid_data.append(data)\n",
    "    \n",
    "train_loader, valid_loader = build_data(train_data, valid_data, batch_size=batch_size)"
   ]
  },
  {
   "cell_type": "code",
   "execution_count": 67,
   "metadata": {},
   "outputs": [],
   "source": [
    "config = BertConfig.from_json_file(model_path / 'bert_config.json')\n",
    "bert = BertModel.from_pretrained(model_path / 'UTH_BERT.bin', config=config)\n",
    "model = Net(bert, num_classes).to(device)\n",
    "\n",
    "FREEZE=False\n",
    "if FREEZE: \n",
    "    idx=1 #Any\n",
    "    for name, param in model.named_parameters(): \n",
    "        param.requires_grad = False \n",
    "    for name, param in list(model.named_parameters())[idx:]: \n",
    "        param.requires_grad = True \n",
    "#     optimizer = optim.SGD([{'params':list(model.parameters())[idx:], 'lr':learning_rate, 'momentum':momentum}])\n",
    "    optimizer = optim.Adam([{'params':list(model.parameters())[idx:], 'lr':learning_rate}]) \n",
    "    criterion = nn.CrossEntropyLoss()\n",
    "else:  \n",
    "#     optimizer = optim.SGD(model.parameters(), lr=learning_rate, momentum=momentum)\n",
    "    optimizer = optim.Adam(model.parameters(), lr=learning_rate)\n",
    "    criterion = nn.CrossEntropyLoss()\n",
    "\n",
    "scheduler = StepLR(optimizer, step_size=3, gamma=0.1)"
   ]
  },
  {
   "cell_type": "code",
   "execution_count": 68,
   "metadata": {},
   "outputs": [
    {
     "name": "stdout",
     "output_type": "stream",
     "text": [
      "\n",
      "Epoch 1/20\n",
      "----------\n"
     ]
    },
    {
     "data": {
      "application/vnd.jupyter.widget-view+json": {
       "model_id": "1bf8ebdcc9594b3c988b98b397c6840b",
       "version_major": 2,
       "version_minor": 0
      },
      "text/plain": [
       "  0%|          | 0/1020 [00:00<?, ?it/s]"
      ]
     },
     "metadata": {},
     "output_type": "display_data"
    },
    {
     "name": "stdout",
     "output_type": "stream",
     "text": [
      "Train loss: 0.3042, Train acc: 0.9157, Time: 126s\n",
      "Valid loss: 0.2353, Valid acc: 0.8936\n",
      "\n",
      "Epoch 2/20\n",
      "----------\n"
     ]
    },
    {
     "data": {
      "application/vnd.jupyter.widget-view+json": {
       "model_id": "b6003f5cc7f64f11807e17e0eb9cb0b7",
       "version_major": 2,
       "version_minor": 0
      },
      "text/plain": [
       "  0%|          | 0/1020 [00:00<?, ?it/s]"
      ]
     },
     "metadata": {},
     "output_type": "display_data"
    },
    {
     "name": "stdout",
     "output_type": "stream",
     "text": [
      "Train loss: 0.1799, Train acc: 0.9324, Time: 130s\n",
      "Valid loss: 0.1825, Valid acc: 0.9379\n",
      "\n",
      "Epoch 3/20\n",
      "----------\n"
     ]
    },
    {
     "data": {
      "application/vnd.jupyter.widget-view+json": {
       "model_id": "05f137ca54fe4e81a850ba723794a3ee",
       "version_major": 2,
       "version_minor": 0
      },
      "text/plain": [
       "  0%|          | 0/1020 [00:00<?, ?it/s]"
      ]
     },
     "metadata": {},
     "output_type": "display_data"
    },
    {
     "name": "stdout",
     "output_type": "stream",
     "text": [
      "Train loss: 0.1791, Train acc: 0.9373, Time: 127s\n",
      "Valid loss: 0.2033, Valid acc: 0.9157\n",
      "\n",
      "Epoch 4/20\n",
      "----------\n"
     ]
    },
    {
     "data": {
      "application/vnd.jupyter.widget-view+json": {
       "model_id": "3569080333c64c1489888dd244822283",
       "version_major": 2,
       "version_minor": 0
      },
      "text/plain": [
       "  0%|          | 0/1020 [00:00<?, ?it/s]"
      ]
     },
     "metadata": {},
     "output_type": "display_data"
    },
    {
     "name": "stdout",
     "output_type": "stream",
     "text": [
      "Train loss: 0.1507, Train acc: 0.9520, Time: 126s\n",
      "Valid loss: 0.2219, Valid acc: 0.9224\n",
      "\n",
      "Epoch 5/20\n",
      "----------\n"
     ]
    },
    {
     "data": {
      "application/vnd.jupyter.widget-view+json": {
       "model_id": "322e2815f65d41eea1e0af06bc43f04c",
       "version_major": 2,
       "version_minor": 0
      },
      "text/plain": [
       "  0%|          | 0/1020 [00:00<?, ?it/s]"
      ]
     },
     "metadata": {},
     "output_type": "display_data"
    },
    {
     "name": "stdout",
     "output_type": "stream",
     "text": [
      "Train loss: 0.1286, Train acc: 0.9569, Time: 126s\n",
      "Valid loss: 0.1843, Valid acc: 0.9335\n",
      "\n",
      "Epoch 6/20\n",
      "----------\n"
     ]
    },
    {
     "data": {
      "application/vnd.jupyter.widget-view+json": {
       "model_id": "dec0005bed9b401c968c9a94c19d7cf9",
       "version_major": 2,
       "version_minor": 0
      },
      "text/plain": [
       "  0%|          | 0/1020 [00:00<?, ?it/s]"
      ]
     },
     "metadata": {},
     "output_type": "display_data"
    },
    {
     "name": "stdout",
     "output_type": "stream",
     "text": [
      "Train loss: 0.1426, Train acc: 0.9520, Time: 126s\n",
      "Valid loss: 0.2191, Valid acc: 0.9224\n",
      "\n",
      "Epoch 7/20\n",
      "----------\n"
     ]
    },
    {
     "data": {
      "application/vnd.jupyter.widget-view+json": {
       "model_id": "9f1b620d002340f1a29ac63564172f09",
       "version_major": 2,
       "version_minor": 0
      },
      "text/plain": [
       "  0%|          | 0/1020 [00:00<?, ?it/s]"
      ]
     },
     "metadata": {},
     "output_type": "display_data"
    },
    {
     "name": "stdout",
     "output_type": "stream",
     "text": [
      "Train loss: 0.2132, Train acc: 0.9304, Time: 126s\n",
      "Valid loss: 0.4338, Valid acc: 0.9024\n",
      "\n",
      "Epoch 8/20\n",
      "----------\n"
     ]
    },
    {
     "data": {
      "application/vnd.jupyter.widget-view+json": {
       "model_id": "8bad2886109d40398c37d5442bc6493a",
       "version_major": 2,
       "version_minor": 0
      },
      "text/plain": [
       "  0%|          | 0/1020 [00:00<?, ?it/s]"
      ]
     },
     "metadata": {},
     "output_type": "display_data"
    },
    {
     "name": "stdout",
     "output_type": "stream",
     "text": [
      "Train loss: 0.2203, Train acc: 0.9284, Time: 126s\n",
      "Valid loss: 0.3905, Valid acc: 0.8958\n",
      "\n",
      "Epoch 9/20\n",
      "----------\n"
     ]
    },
    {
     "data": {
      "application/vnd.jupyter.widget-view+json": {
       "model_id": "774768f641684bafba572877a0d58c17",
       "version_major": 2,
       "version_minor": 0
      },
      "text/plain": [
       "  0%|          | 0/1020 [00:00<?, ?it/s]"
      ]
     },
     "metadata": {},
     "output_type": "display_data"
    },
    {
     "name": "stdout",
     "output_type": "stream",
     "text": [
      "Train loss: 0.2206, Train acc: 0.9255, Time: 126s\n",
      "Valid loss: 0.2959, Valid acc: 0.8936\n",
      "\n",
      "Epoch 10/20\n",
      "----------\n"
     ]
    },
    {
     "data": {
      "application/vnd.jupyter.widget-view+json": {
       "model_id": "518f1a3f3dec4994afb0f3aeb0f57326",
       "version_major": 2,
       "version_minor": 0
      },
      "text/plain": [
       "  0%|          | 0/1020 [00:00<?, ?it/s]"
      ]
     },
     "metadata": {},
     "output_type": "display_data"
    },
    {
     "name": "stdout",
     "output_type": "stream",
     "text": [
      "Train loss: 0.2077, Train acc: 0.9333, Time: 126s\n",
      "Valid loss: 0.2974, Valid acc: 0.8958\n",
      "\n",
      "Epoch 11/20\n",
      "----------\n"
     ]
    },
    {
     "data": {
      "application/vnd.jupyter.widget-view+json": {
       "model_id": "c283452368f74ed9aa7ab68573ba78f1",
       "version_major": 2,
       "version_minor": 0
      },
      "text/plain": [
       "  0%|          | 0/1020 [00:00<?, ?it/s]"
      ]
     },
     "metadata": {},
     "output_type": "display_data"
    },
    {
     "name": "stdout",
     "output_type": "stream",
     "text": [
      "Train loss: 0.2189, Train acc: 0.9225, Time: 126s\n",
      "Valid loss: 0.2866, Valid acc: 0.9135\n",
      "\n",
      "Epoch 12/20\n",
      "----------\n"
     ]
    },
    {
     "data": {
      "application/vnd.jupyter.widget-view+json": {
       "model_id": "01bbaf403ce843a7bce56e6169a6b00e",
       "version_major": 2,
       "version_minor": 0
      },
      "text/plain": [
       "  0%|          | 0/1020 [00:00<?, ?it/s]"
      ]
     },
     "metadata": {},
     "output_type": "display_data"
    },
    {
     "name": "stdout",
     "output_type": "stream",
     "text": [
      "Train loss: 0.2627, Train acc: 0.9206, Time: 126s\n",
      "Valid loss: 0.2905, Valid acc: 0.8958\n",
      "\n",
      "Epoch 13/20\n",
      "----------\n"
     ]
    },
    {
     "data": {
      "application/vnd.jupyter.widget-view+json": {
       "model_id": "13190905a6f74cd0a8b45f8b49a4dde3",
       "version_major": 2,
       "version_minor": 0
      },
      "text/plain": [
       "  0%|          | 0/1020 [00:00<?, ?it/s]"
      ]
     },
     "metadata": {},
     "output_type": "display_data"
    },
    {
     "name": "stdout",
     "output_type": "stream",
     "text": [
      "Train loss: 0.2031, Train acc: 0.9245, Time: 126s\n",
      "Valid loss: 0.2461, Valid acc: 0.9180\n",
      "\n",
      "Epoch 14/20\n",
      "----------\n"
     ]
    },
    {
     "data": {
      "application/vnd.jupyter.widget-view+json": {
       "model_id": "f503f13ba9df49ae80128828db0b681b",
       "version_major": 2,
       "version_minor": 0
      },
      "text/plain": [
       "  0%|          | 0/1020 [00:00<?, ?it/s]"
      ]
     },
     "metadata": {},
     "output_type": "display_data"
    },
    {
     "name": "stdout",
     "output_type": "stream",
     "text": [
      "Train loss: 0.1751, Train acc: 0.9373, Time: 126s\n",
      "Valid loss: 0.2720, Valid acc: 0.8980\n",
      "\n",
      "Epoch 15/20\n",
      "----------\n"
     ]
    },
    {
     "data": {
      "application/vnd.jupyter.widget-view+json": {
       "model_id": "a774129376fa49508dc087ad5b629f26",
       "version_major": 2,
       "version_minor": 0
      },
      "text/plain": [
       "  0%|          | 0/1020 [00:00<?, ?it/s]"
      ]
     },
     "metadata": {},
     "output_type": "display_data"
    },
    {
     "name": "stdout",
     "output_type": "stream",
     "text": [
      "Train loss: 0.1668, Train acc: 0.9422, Time: 126s\n",
      "Valid loss: 0.3161, Valid acc: 0.8980\n",
      "\n",
      "Epoch 16/20\n",
      "----------\n"
     ]
    },
    {
     "data": {
      "application/vnd.jupyter.widget-view+json": {
       "model_id": "9ba4abaeb3db4420a2b3f9205105b2f2",
       "version_major": 2,
       "version_minor": 0
      },
      "text/plain": [
       "  0%|          | 0/1020 [00:00<?, ?it/s]"
      ]
     },
     "metadata": {},
     "output_type": "display_data"
    },
    {
     "name": "stdout",
     "output_type": "stream",
     "text": [
      "Train loss: 0.1676, Train acc: 0.9431, Time: 126s\n",
      "Valid loss: 0.3243, Valid acc: 0.8936\n",
      "\n",
      "Epoch 17/20\n",
      "----------\n"
     ]
    },
    {
     "data": {
      "application/vnd.jupyter.widget-view+json": {
       "model_id": "3578a81396b14954b56f4710c44143e9",
       "version_major": 2,
       "version_minor": 0
      },
      "text/plain": [
       "  0%|          | 0/1020 [00:00<?, ?it/s]"
      ]
     },
     "metadata": {},
     "output_type": "display_data"
    },
    {
     "name": "stdout",
     "output_type": "stream",
     "text": [
      "Train loss: 0.1575, Train acc: 0.9392, Time: 126s\n",
      "Valid loss: 0.2488, Valid acc: 0.8958\n",
      "\n",
      "Epoch 18/20\n",
      "----------\n"
     ]
    },
    {
     "data": {
      "application/vnd.jupyter.widget-view+json": {
       "model_id": "9413669b983c46e09bc63bf0fc0fbda1",
       "version_major": 2,
       "version_minor": 0
      },
      "text/plain": [
       "  0%|          | 0/1020 [00:00<?, ?it/s]"
      ]
     },
     "metadata": {},
     "output_type": "display_data"
    },
    {
     "name": "stdout",
     "output_type": "stream",
     "text": [
      "Train loss: 0.1337, Train acc: 0.9441, Time: 126s\n",
      "Valid loss: 0.3367, Valid acc: 0.9290\n",
      "\n",
      "Epoch 19/20\n",
      "----------\n"
     ]
    },
    {
     "data": {
      "application/vnd.jupyter.widget-view+json": {
       "model_id": "7bb04b4995424b32b23c902e2e526956",
       "version_major": 2,
       "version_minor": 0
      },
      "text/plain": [
       "  0%|          | 0/1020 [00:00<?, ?it/s]"
      ]
     },
     "metadata": {},
     "output_type": "display_data"
    },
    {
     "name": "stdout",
     "output_type": "stream",
     "text": [
      "Train loss: 0.0970, Train acc: 0.9618, Time: 125s\n",
      "Valid loss: 0.3860, Valid acc: 0.9180\n",
      "\n",
      "Epoch 20/20\n",
      "----------\n"
     ]
    },
    {
     "data": {
      "application/vnd.jupyter.widget-view+json": {
       "model_id": "ba8927aac98140a9810f328c7973bb3b",
       "version_major": 2,
       "version_minor": 0
      },
      "text/plain": [
       "  0%|          | 0/1020 [00:00<?, ?it/s]"
      ]
     },
     "metadata": {},
     "output_type": "display_data"
    },
    {
     "name": "stdout",
     "output_type": "stream",
     "text": [
      "Train loss: 0.1612, Train acc: 0.9471, Time: 125s\n",
      "Valid loss: 0.3747, Valid acc: 0.9002\n",
      "\n",
      "Training complete\n",
      "Best ACC: 0.9379 at epoch 1\n"
     ]
    }
   ],
   "source": [
    "train_loss, valid_loss, train_acc, valid_acc = run(train_loader, valid_loader, model,\n",
    "                                                             num_classes, epochs=epochs,\n",
    "                                                             save_path=save_path/'dist')"
   ]
  },
  {
   "cell_type": "code",
   "execution_count": 69,
   "metadata": {},
   "outputs": [
    {
     "data": {
      "image/png": "[encoded data removed]",
      "text/plain": [
       "<Figure size 640x480 with 1 Axes>"
      ]
     },
     "metadata": {},
     "output_type": "display_data"
    }
   ],
   "source": [
    "plot_loss(train_loss, valid_loss)"
   ]
  },
  {
   "cell_type": "code",
   "execution_count": 70,
   "metadata": {},
   "outputs": [
    {
     "data": {
      "image/png": "[encoded data removed]",
      "text/plain": [
       "<Figure size 640x480 with 1 Axes>"
      ]
     },
     "metadata": {},
     "output_type": "display_data"
    }
   ],
   "source": [
    "plot_metrics(train_acc, valid_acc)"
   ]
  },
  {
   "cell_type": "code",
   "execution_count": 71,
   "metadata": {},
   "outputs": [
    {
     "name": "stdout",
     "output_type": "stream",
     "text": [
      "accuracy: 0.9379157427937915\n"
     ]
    }
   ],
   "source": [
    "print(f'accuracy: {max(valid_acc)}')"
   ]
  },
  {
   "cell_type": "code",
   "execution_count": null,
   "metadata": {},
   "outputs": [],
   "source": []
  }
 ],
 "metadata": {
  "kernelspec": {
   "display_name": "env_radnlp",
   "language": "python",
   "name": "python3"
  },
  "language_info": {
   "codemirror_mode": {
    "name": "ipython",
    "version": 3
   },
   "file_extension": ".py",
   "mimetype": "text/x-python",
   "name": "python",
   "nbconvert_exporter": "python",
   "pygments_lexer": "ipython3",
   "version": "3.11.11"
  }
 },
 "nbformat": 4,
 "nbformat_minor": 4
}
