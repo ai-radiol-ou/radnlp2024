{
 "cells": [
  {
   "cell_type": "code",
   "execution_count": 1,
   "metadata": {},
   "outputs": [],
   "source": [
    "import sys\n",
    "import os\n",
    "import glob\n",
    "from pathlib import Path\n",
    "import random\n",
    "import time\n",
    "import datetime\n",
    "from tqdm.notebook import tqdm\n",
    "import numpy as np\n",
    "import pandas as pd\n",
    "import matplotlib.pyplot as plt\n",
    "%matplotlib inline\n",
    "import seaborn as sns\n",
    "import sklearn\n",
    "from sklearn import preprocessing\n",
    "from sklearn.preprocessing import label_binarize\n",
    "from sklearn.model_selection import train_test_split\n",
    "from sklearn.utils import shuffle\n",
    "from sklearn.model_selection import KFold, StratifiedKFold, GroupKFold\n",
    "from sklearn import metrics\n",
    "from sklearn.metrics import confusion_matrix, accuracy_score, recall_score, precision_score, f1_score, roc_curve, roc_auc_score\n",
    "import re\n",
    "import transformers\n",
    "import torch \n",
    "from torch.utils.data import DataLoader, Dataset\n",
    "import torch.nn as nn\n",
    "import torch.nn.functional as F\n",
    "from torch.nn.utils.rnn import pad_sequence\n",
    "import torch.optim as optim\n",
    "from torch.optim.lr_scheduler import StepLR\n",
    "%matplotlib inline\n",
    "sns.set_theme(style='darkgrid')"
   ]
  },
  {
   "cell_type": "code",
   "execution_count": 2,
   "metadata": {},
   "outputs": [],
   "source": [
    "from pkg.UTHBERT.preprocess_text import preprocess as my_preprocess\n",
    "from pkg.UTHBERT.tokenization_mod import MecabTokenizer, FullTokenizerForMecab\n",
    "from transformers import BertModel,BertConfig"
   ]
  },
  {
   "cell_type": "code",
   "execution_count": 3,
   "metadata": {},
   "outputs": [
    {
     "name": "stdout",
     "output_type": "stream",
     "text": [
      "Using device: mps\n"
     ]
    }
   ],
   "source": [
    "def get_device() -> str:\n",
    "    \"\"\"\n",
    "    Returns the best available device for PyTorch computations.\n",
    "    \"\"\"\n",
    "    if torch.backends.mps.is_available():\n",
    "        # macOS with Apple Silicon (MPS backend)\n",
    "        return \"mps\"\n",
    "    elif torch.cuda.is_available():\n",
    "        # NVIDIA GPU\n",
    "        return \"cuda\"\n",
    "    else:\n",
    "        # Fallback to CPU\n",
    "        return \"cpu\"\n",
    "\n",
    "try:\n",
    "    device = torch.device(get_device())\n",
    "    print(f\"Using device: {device}\")\n",
    "except RuntimeError as e:\n",
    "    print(f\"Failed to initialize the device: {e}\")\n",
    "    device = torch.device(\"cpu\")  # Fallback to CPU in case of an error"
   ]
  },
  {
   "cell_type": "code",
   "execution_count": 4,
   "metadata": {},
   "outputs": [],
   "source": [
    "seed=0\n",
    "def seed_everything(seed):\n",
    "    random.seed(seed)\n",
    "    os.environ['PYTHONHASHSEED'] = str(seed)\n",
    "    np.random.seed(seed)\n",
    "    torch.manual_seed(seed)\n",
    "    torch.cuda.manual_seed(seed)\n",
    "    torch.backends.cudnn.deterministic = True\n",
    "    torch.backends.cudnn.benchmark = False #Trueで高速化重視, Falseで再現性重視\n",
    "seed_everything(seed)\n",
    "os.environ[\"CUDA_VISIBLE_DEVICES\"] = \"0\"\n",
    "torch.use_deterministic_algorithms(True)\n",
    "torch.set_num_threads(1)"
   ]
  },
  {
   "cell_type": "markdown",
   "metadata": {},
   "source": [
    "# Tokenizer"
   ]
  },
  {
   "cell_type": "code",
   "execution_count": 5,
   "metadata": {},
   "outputs": [],
   "source": [
    "dic_path = './dic'"
   ]
  },
  {
   "cell_type": "code",
   "execution_count": 6,
   "metadata": {},
   "outputs": [],
   "source": [
    "# special token for a Person's name (Do not change)\n",
    "name_token = \"＠＠Ｎ\"\n",
    "\n",
    "# path to the mecab-ipadic-neologd\n",
    "mecab_ipadic_neologd = dic_path + '/mecab-ipadic-neologd'\n",
    "\n",
    "# path to the J-Medic (We used MANBYO_201907_Dic-utf8.dic)\n",
    "mecab_J_medic = dic_path + '/MANBYO/MANBYO_201907_Dic-utf8.dic'\n",
    "\n",
    "# path to the uth-bert vocabulary\n",
    "vocab_file = dic_path + '/UTH-BERT/bert_vocab_mc_v1_25000.txt'"
   ]
  },
  {
   "cell_type": "code",
   "execution_count": 7,
   "metadata": {},
   "outputs": [],
   "source": [
    "# MecabTokenizer\n",
    "sub_tokenizer = MecabTokenizer(mecab_ipadic_neologd=mecab_ipadic_neologd,\n",
    "                               mecab_J_medic=mecab_J_medic,\n",
    "                               name_token=name_token)\n",
    "\n",
    "# FullTokenizerForMecab\n",
    "tokenizer = FullTokenizerForMecab(sub_tokenizer=sub_tokenizer,\n",
    "                                  vocab_file=vocab_file,\n",
    "                                  do_lower_case=False)"
   ]
  },
  {
   "cell_type": "code",
   "execution_count": 8,
   "metadata": {},
   "outputs": [],
   "source": [
    "def tokenize(sentence_list):\n",
    "    token_list = []\n",
    "    for s in tqdm(sentence_list):\n",
    "        tokens = tokenizer.tokenize(my_preprocess(str(s)))\n",
    "        ids = tokenizer.convert_tokens_to_ids(tokens)\n",
    "        ids = [2] + ids + [3]\n",
    "        token_list.append(ids)\n",
    "    return token_list"
   ]
  },
  {
   "cell_type": "markdown",
   "metadata": {},
   "source": [
    "# Data"
   ]
  },
  {
   "cell_type": "code",
   "execution_count": 9,
   "metadata": {},
   "outputs": [],
   "source": [
    "def create_dataframe(folder_path):\n",
    "    \"\"\"\n",
    "    指定されたフォルダ内のテキストファイルからDataFrameを作成する関数\n",
    "\n",
    "    Args:\n",
    "        folder_path (str): テキストファイルが入っているフォルダのパス\n",
    "\n",
    "    Returns:\n",
    "        pandas.DataFrame: 作成されたDataFrame\n",
    "    \"\"\"\n",
    "\n",
    "    # フォルダ内のすべてのテキストファイルのパスを取得\n",
    "    file_list = glob.glob(folder_path + \"/*.txt\")\n",
    "\n",
    "    # 空のDataFrameを作成\n",
    "    df_text = pd.DataFrame(columns=['id', 'text'])\n",
    "    \n",
    "    # label.csvを読み込む\n",
    "    df_label = pd.read_csv(os.path.join(folder_path, \"label.csv\"))\n",
    "\n",
    "    for file in file_list:\n",
    "        # ファイル名からIDを抽出\n",
    "        file_id = file.split(\"/\")[-1].split(\".\")[0]\n",
    "        # file_id = file.split(\"\\\\\")[-1].split(\".\")[0] # Windows\n",
    "        \n",
    "        # テキストファイルを読み込む\n",
    "        with open(file, 'r', encoding='utf-8') as f:\n",
    "            text = f.read()\n",
    "\n",
    "        # DataFrameに追記\n",
    "        rows = []\n",
    "        rows.append({'id': int(file_id), 'text': text})\n",
    "        df_text = pd.concat([df_text, pd.DataFrame(rows)], ignore_index=True)\n",
    "        \n",
    "    # textとlabelのDataFrameを結合\n",
    "    df = pd.merge(df_text, df_label, on='id', how='left')\n",
    "\n",
    "    return df\n",
    "\n",
    "train_folder_path = \"../../radnlp_2024_train_val_20240731/ja/main_task/train\"\n",
    "train_df = create_dataframe(train_folder_path)\n",
    "val_folder_path = \"../../radnlp_2024_train_val_20240731/ja/main_task/val\"\n",
    "val_df = create_dataframe(val_folder_path)"
   ]
  },
  {
   "cell_type": "code",
   "execution_count": 10,
   "metadata": {},
   "outputs": [
    {
     "data": {
      "text/html": [
       "<div>\n",
       "<style scoped>\n",
       "    .dataframe tbody tr th:only-of-type {\n",
       "        vertical-align: middle;\n",
       "    }\n",
       "\n",
       "    .dataframe tbody tr th {\n",
       "        vertical-align: top;\n",
       "    }\n",
       "\n",
       "    .dataframe thead th {\n",
       "        text-align: right;\n",
       "    }\n",
       "</style>\n",
       "<table border=\"1\" class=\"dataframe\">\n",
       "  <thead>\n",
       "    <tr style=\"text-align: right;\">\n",
       "      <th></th>\n",
       "      <th>id</th>\n",
       "      <th>text</th>\n",
       "      <th>t</th>\n",
       "      <th>n</th>\n",
       "      <th>m</th>\n",
       "    </tr>\n",
       "  </thead>\n",
       "  <tbody>\n",
       "    <tr>\n",
       "      <th>0</th>\n",
       "      <td>4166189</td>\n",
       "      <td>左肺上葉に長径 12cm の腫瘤を認めます。弓部大動脈や肺動脈浸潤が疑われます。\\nT4 と...</td>\n",
       "      <td>T4</td>\n",
       "      <td>N2</td>\n",
       "      <td>M0</td>\n",
       "    </tr>\n",
       "    <tr>\n",
       "      <th>1</th>\n",
       "      <td>1185427</td>\n",
       "      <td>右下葉に長径 30mm 大の腫瘤を認め、肺癌を疑います。葉間胸膜の陥入を伴い、臓\\n側胸膜浸...</td>\n",
       "      <td>T1c</td>\n",
       "      <td>N0</td>\n",
       "      <td>M0</td>\n",
       "    </tr>\n",
       "    <tr>\n",
       "      <th>2</th>\n",
       "      <td>165742</td>\n",
       "      <td>右肺尖部に長径 5 ㎝の腫瘤を認めます。辺縁に棘状影が見られ原発性肺癌を疑いま\\nす。壁側胸...</td>\n",
       "      <td>T3</td>\n",
       "      <td>N0</td>\n",
       "      <td>M0</td>\n",
       "    </tr>\n",
       "    <tr>\n",
       "      <th>3</th>\n",
       "      <td>6848850</td>\n",
       "      <td>両側肺野に肺気腫を認めます。\\n右肺下葉に分葉状腫瘤性病変を認めます（最大径 37×37×4...</td>\n",
       "      <td>T2a</td>\n",
       "      <td>N2</td>\n",
       "      <td>M1c</td>\n",
       "    </tr>\n",
       "    <tr>\n",
       "      <th>4</th>\n",
       "      <td>9818606</td>\n",
       "      <td>肺野背景に気腫性変化を認めます。\\n右肺下葉に長径 40mm の腫瘤を認めます。分葉状の形態...</td>\n",
       "      <td>T2a</td>\n",
       "      <td>N2</td>\n",
       "      <td>M1c</td>\n",
       "    </tr>\n",
       "    <tr>\n",
       "      <th>...</th>\n",
       "      <td>...</td>\n",
       "      <td>...</td>\n",
       "      <td>...</td>\n",
       "      <td>...</td>\n",
       "      <td>...</td>\n",
       "    </tr>\n",
       "    <tr>\n",
       "      <th>103</th>\n",
       "      <td>15410359</td>\n",
       "      <td>比較可能な画像検査はありません。\\n右肺尖部に長径 50mm  大の腫瘤影を認めます。病変は...</td>\n",
       "      <td>T2b</td>\n",
       "      <td>N0</td>\n",
       "      <td>M0</td>\n",
       "    </tr>\n",
       "    <tr>\n",
       "      <th>104</th>\n",
       "      <td>8602016</td>\n",
       "      <td>右肺門部に軟部影を認め、ご指摘の悪性腫瘍が疑われます。右下葉は無気肺となっ\\nています。\\n...</td>\n",
       "      <td>T2a</td>\n",
       "      <td>N3</td>\n",
       "      <td>M0</td>\n",
       "    </tr>\n",
       "    <tr>\n",
       "      <th>105</th>\n",
       "      <td>1876861</td>\n",
       "      <td>肺野は背景に慢性肺気腫の所見を認めます。\\n右肺尖部に⻑径 48mm の不整形腫瘤を認め、原...</td>\n",
       "      <td>T2b</td>\n",
       "      <td>N2</td>\n",
       "      <td>M1b</td>\n",
       "    </tr>\n",
       "    <tr>\n",
       "      <th>106</th>\n",
       "      <td>13567317</td>\n",
       "      <td>背景に間質性肺炎、肺気腫を疑います。気腫合併肺線維症のような肺癌の発生しや\\nすい状態を疑い...</td>\n",
       "      <td>T2b</td>\n",
       "      <td>N2</td>\n",
       "      <td>M0</td>\n",
       "    </tr>\n",
       "    <tr>\n",
       "      <th>107</th>\n",
       "      <td>9262204</td>\n",
       "      <td>右下葉  S9 胸膜直下に 12mm  の結節があります。\\n周囲にすりガラス影があります。...</td>\n",
       "      <td>T1b</td>\n",
       "      <td>N0</td>\n",
       "      <td>M0</td>\n",
       "    </tr>\n",
       "  </tbody>\n",
       "</table>\n",
       "<p>108 rows × 5 columns</p>\n",
       "</div>"
      ],
      "text/plain": [
       "           id                                               text    t   n    m\n",
       "0     4166189  左肺上葉に長径 12cm の腫瘤を認めます。弓部大動脈や肺動脈浸潤が疑われます。\\nT4 と...   T4  N2   M0\n",
       "1     1185427  右下葉に長径 30mm 大の腫瘤を認め、肺癌を疑います。葉間胸膜の陥入を伴い、臓\\n側胸膜浸...  T1c  N0   M0\n",
       "2      165742  右肺尖部に長径 5 ㎝の腫瘤を認めます。辺縁に棘状影が見られ原発性肺癌を疑いま\\nす。壁側胸...   T3  N0   M0\n",
       "3     6848850  両側肺野に肺気腫を認めます。\\n右肺下葉に分葉状腫瘤性病変を認めます（最大径 37×37×4...  T2a  N2  M1c\n",
       "4     9818606  肺野背景に気腫性変化を認めます。\\n右肺下葉に長径 40mm の腫瘤を認めます。分葉状の形態...  T2a  N2  M1c\n",
       "..        ...                                                ...  ...  ..  ...\n",
       "103  15410359  比較可能な画像検査はありません。\\n右肺尖部に長径 50mm  大の腫瘤影を認めます。病変は...  T2b  N0   M0\n",
       "104   8602016  右肺門部に軟部影を認め、ご指摘の悪性腫瘍が疑われます。右下葉は無気肺となっ\\nています。\\n...  T2a  N3   M0\n",
       "105   1876861  肺野は背景に慢性肺気腫の所見を認めます。\\n右肺尖部に⻑径 48mm の不整形腫瘤を認め、原...  T2b  N2  M1b\n",
       "106  13567317  背景に間質性肺炎、肺気腫を疑います。気腫合併肺線維症のような肺癌の発生しや\\nすい状態を疑い...  T2b  N2   M0\n",
       "107   9262204  右下葉  S9 胸膜直下に 12mm  の結節があります。\\n周囲にすりガラス影があります。...  T1b  N0   M0\n",
       "\n",
       "[108 rows x 5 columns]"
      ]
     },
     "execution_count": 10,
     "metadata": {},
     "output_type": "execute_result"
    }
   ],
   "source": [
    "train_df"
   ]
  },
  {
   "cell_type": "code",
   "execution_count": 11,
   "metadata": {},
   "outputs": [
    {
     "name": "stdout",
     "output_type": "stream",
     "text": [
      "t\n",
      "T4     31\n",
      "T2a    20\n",
      "T2b    19\n",
      "T3     18\n",
      "T1b     9\n",
      "T1c     8\n",
      "T0      3\n",
      "Name: count, dtype: int64\n",
      "n\n",
      "N2    45\n",
      "N0    41\n",
      "N1    13\n",
      "N3     9\n",
      "Name: count, dtype: int64\n",
      "m\n",
      "M0     74\n",
      "M1c    20\n",
      "M1b    14\n",
      "Name: count, dtype: int64\n"
     ]
    }
   ],
   "source": [
    "print(train_df['t'].value_counts())\n",
    "print(train_df['n'].value_counts())\n",
    "print(train_df['m'].value_counts())"
   ]
  },
  {
   "cell_type": "code",
   "execution_count": 12,
   "metadata": {},
   "outputs": [],
   "source": [
    "add_df = pd.read_csv(\"../add_data.csv\", encoding = 'cp932')"
   ]
  },
  {
   "cell_type": "code",
   "execution_count": 13,
   "metadata": {},
   "outputs": [
    {
     "data": {
      "text/html": [
       "<div>\n",
       "<style scoped>\n",
       "    .dataframe tbody tr th:only-of-type {\n",
       "        vertical-align: middle;\n",
       "    }\n",
       "\n",
       "    .dataframe tbody tr th {\n",
       "        vertical-align: top;\n",
       "    }\n",
       "\n",
       "    .dataframe thead th {\n",
       "        text-align: right;\n",
       "    }\n",
       "</style>\n",
       "<table border=\"1\" class=\"dataframe\">\n",
       "  <thead>\n",
       "    <tr style=\"text-align: right;\">\n",
       "      <th></th>\n",
       "      <th>id</th>\n",
       "      <th>text</th>\n",
       "      <th>t</th>\n",
       "      <th>n</th>\n",
       "      <th>m</th>\n",
       "    </tr>\n",
       "  </thead>\n",
       "  <tbody>\n",
       "    <tr>\n",
       "      <th>0</th>\n",
       "      <td>0</td>\n",
       "      <td>原発腫瘍を認めない</td>\n",
       "      <td>T0</td>\n",
       "      <td>N0</td>\n",
       "      <td>M0</td>\n",
       "    </tr>\n",
       "    <tr>\n",
       "      <th>1</th>\n",
       "      <td>1</td>\n",
       "      <td>上皮内癌（carcinoma in situ）：肺野型の場合は、充実成分径0cmかつ病変全体...</td>\n",
       "      <td>Tis</td>\n",
       "      <td>N0</td>\n",
       "      <td>M0</td>\n",
       "    </tr>\n",
       "    <tr>\n",
       "      <th>2</th>\n",
       "      <td>2</td>\n",
       "      <td>微少浸潤性腺癌：部分充実型を示し、充実成分径≦0.5cmかつ病変全体径≦3cm。かつ肺または...</td>\n",
       "      <td>T1mi</td>\n",
       "      <td>N0</td>\n",
       "      <td>M0</td>\n",
       "    </tr>\n",
       "    <tr>\n",
       "      <th>3</th>\n",
       "      <td>3</td>\n",
       "      <td>腫瘍の充実成分径≦1cmでかつTis・T1miには相当しない。かつ肺または臓側胸膜に覆われて...</td>\n",
       "      <td>T1a</td>\n",
       "      <td>N0</td>\n",
       "      <td>M0</td>\n",
       "    </tr>\n",
       "    <tr>\n",
       "      <th>4</th>\n",
       "      <td>4</td>\n",
       "      <td>腫瘍の充実成分径&gt;1cmでかつ≦2cm。かつ肺または臓側胸膜に覆われている。かつ葉気管支より...</td>\n",
       "      <td>T1b</td>\n",
       "      <td>N0</td>\n",
       "      <td>M0</td>\n",
       "    </tr>\n",
       "    <tr>\n",
       "      <th>5</th>\n",
       "      <td>5</td>\n",
       "      <td>腫瘍の充実成分径&gt;2cmでかつ≦3cm。かつ肺または臓側胸膜に覆われている。かつ葉気管支より...</td>\n",
       "      <td>T1c</td>\n",
       "      <td>N0</td>\n",
       "      <td>M0</td>\n",
       "    </tr>\n",
       "    <tr>\n",
       "      <th>6</th>\n",
       "      <td>6</td>\n",
       "      <td>腫瘍の充実成分径&gt;3cmでかつ≦4cm。または充実成分径≦3cmでも以下のいずれかであるもの...</td>\n",
       "      <td>T2a</td>\n",
       "      <td>N0</td>\n",
       "      <td>M0</td>\n",
       "    </tr>\n",
       "    <tr>\n",
       "      <th>7</th>\n",
       "      <td>7</td>\n",
       "      <td>腫瘍の充実成分径&gt;4cmでかつ≦5cm。または充実成分径≦3cmでも以下のいずれかであるもの...</td>\n",
       "      <td>T2b</td>\n",
       "      <td>N0</td>\n",
       "      <td>M0</td>\n",
       "    </tr>\n",
       "    <tr>\n",
       "      <th>8</th>\n",
       "      <td>8</td>\n",
       "      <td>充実成分径&gt;5cmでかつ≦7cm。または充実成分径≦5cmでも以下のいずれかであるもの：壁側...</td>\n",
       "      <td>T3</td>\n",
       "      <td>N0</td>\n",
       "      <td>M0</td>\n",
       "    </tr>\n",
       "    <tr>\n",
       "      <th>9</th>\n",
       "      <td>9</td>\n",
       "      <td>充実成分径＞7cm、または大きさを問わず横隔膜、縦隔、心臓、大血管、気管、反回神経、食道、椎...</td>\n",
       "      <td>T4</td>\n",
       "      <td>N0</td>\n",
       "      <td>M0</td>\n",
       "    </tr>\n",
       "    <tr>\n",
       "      <th>10</th>\n",
       "      <td>10</td>\n",
       "      <td>所属リンパ節転移なし</td>\n",
       "      <td>T0</td>\n",
       "      <td>N0</td>\n",
       "      <td>M0</td>\n",
       "    </tr>\n",
       "    <tr>\n",
       "      <th>11</th>\n",
       "      <td>11</td>\n",
       "      <td>がんのある肺と同じ側の気管支周囲かつ/または同じ側の肺門、肺内のリンパ節への転移がある</td>\n",
       "      <td>T0</td>\n",
       "      <td>N1</td>\n",
       "      <td>M0</td>\n",
       "    </tr>\n",
       "    <tr>\n",
       "      <th>12</th>\n",
       "      <td>12</td>\n",
       "      <td>がんのある肺と同じ側の縦隔かつ/または気管分岐部より下のリンパ節への転移がある</td>\n",
       "      <td>T0</td>\n",
       "      <td>N2</td>\n",
       "      <td>M0</td>\n",
       "    </tr>\n",
       "    <tr>\n",
       "      <th>13</th>\n",
       "      <td>13</td>\n",
       "      <td>がんのある肺と反対側の縦隔、肺門、同じ側あるいは反対側の前斜角筋（首の筋肉）、鎖骨上窩（鎖骨...</td>\n",
       "      <td>T0</td>\n",
       "      <td>N3</td>\n",
       "      <td>M0</td>\n",
       "    </tr>\n",
       "    <tr>\n",
       "      <th>14</th>\n",
       "      <td>14</td>\n",
       "      <td>遠隔転移なし</td>\n",
       "      <td>T0</td>\n",
       "      <td>N0</td>\n",
       "      <td>M0</td>\n",
       "    </tr>\n",
       "    <tr>\n",
       "      <th>15</th>\n",
       "      <td>15</td>\n",
       "      <td>がんのある肺と反対側の肺内の遠隔転移がある、または胸膜または心膜の遠隔転移がある、または悪性...</td>\n",
       "      <td>T0</td>\n",
       "      <td>N0</td>\n",
       "      <td>M1a</td>\n",
       "    </tr>\n",
       "    <tr>\n",
       "      <th>16</th>\n",
       "      <td>16</td>\n",
       "      <td>肺以外の一臓器への単発遠隔転移がある</td>\n",
       "      <td>T0</td>\n",
       "      <td>N0</td>\n",
       "      <td>M1b</td>\n",
       "    </tr>\n",
       "    <tr>\n",
       "      <th>17</th>\n",
       "      <td>17</td>\n",
       "      <td>肺以外の一臓器または多臓器への多発遠隔転移がある</td>\n",
       "      <td>T0</td>\n",
       "      <td>N0</td>\n",
       "      <td>M1c</td>\n",
       "    </tr>\n",
       "  </tbody>\n",
       "</table>\n",
       "</div>"
      ],
      "text/plain": [
       "    id                                               text     t   n    m\n",
       "0    0                                          原発腫瘍を認めない    T0  N0   M0\n",
       "1    1  上皮内癌（carcinoma in situ）：肺野型の場合は、充実成分径0cmかつ病変全体...   Tis  N0   M0\n",
       "2    2  微少浸潤性腺癌：部分充実型を示し、充実成分径≦0.5cmかつ病変全体径≦3cm。かつ肺または...  T1mi  N0   M0\n",
       "3    3  腫瘍の充実成分径≦1cmでかつTis・T1miには相当しない。かつ肺または臓側胸膜に覆われて...   T1a  N0   M0\n",
       "4    4  腫瘍の充実成分径>1cmでかつ≦2cm。かつ肺または臓側胸膜に覆われている。かつ葉気管支より...   T1b  N0   M0\n",
       "5    5  腫瘍の充実成分径>2cmでかつ≦3cm。かつ肺または臓側胸膜に覆われている。かつ葉気管支より...   T1c  N0   M0\n",
       "6    6  腫瘍の充実成分径>3cmでかつ≦4cm。または充実成分径≦3cmでも以下のいずれかであるもの...   T2a  N0   M0\n",
       "7    7  腫瘍の充実成分径>4cmでかつ≦5cm。または充実成分径≦3cmでも以下のいずれかであるもの...   T2b  N0   M0\n",
       "8    8  充実成分径>5cmでかつ≦7cm。または充実成分径≦5cmでも以下のいずれかであるもの：壁側...    T3  N0   M0\n",
       "9    9  充実成分径＞7cm、または大きさを問わず横隔膜、縦隔、心臓、大血管、気管、反回神経、食道、椎...    T4  N0   M0\n",
       "10  10                                         所属リンパ節転移なし    T0  N0   M0\n",
       "11  11        がんのある肺と同じ側の気管支周囲かつ/または同じ側の肺門、肺内のリンパ節への転移がある    T0  N1   M0\n",
       "12  12            がんのある肺と同じ側の縦隔かつ/または気管分岐部より下のリンパ節への転移がある    T0  N2   M0\n",
       "13  13  がんのある肺と反対側の縦隔、肺門、同じ側あるいは反対側の前斜角筋（首の筋肉）、鎖骨上窩（鎖骨...    T0  N3   M0\n",
       "14  14                                             遠隔転移なし    T0  N0   M0\n",
       "15  15  がんのある肺と反対側の肺内の遠隔転移がある、または胸膜または心膜の遠隔転移がある、または悪性...    T0  N0  M1a\n",
       "16  16                                 肺以外の一臓器への単発遠隔転移がある    T0  N0  M1b\n",
       "17  17                           肺以外の一臓器または多臓器への多発遠隔転移がある    T0  N0  M1c"
      ]
     },
     "execution_count": 13,
     "metadata": {},
     "output_type": "execute_result"
    }
   ],
   "source": [
    "add_df"
   ]
  },
  {
   "cell_type": "code",
   "execution_count": 14,
   "metadata": {},
   "outputs": [],
   "source": [
    "# 訓練データを追加する\n",
    "df_train = pd.concat([add_df, train_df])"
   ]
  },
  {
   "cell_type": "code",
   "execution_count": 15,
   "metadata": {},
   "outputs": [
    {
     "data": {
      "text/html": [
       "<div>\n",
       "<style scoped>\n",
       "    .dataframe tbody tr th:only-of-type {\n",
       "        vertical-align: middle;\n",
       "    }\n",
       "\n",
       "    .dataframe tbody tr th {\n",
       "        vertical-align: top;\n",
       "    }\n",
       "\n",
       "    .dataframe thead th {\n",
       "        text-align: right;\n",
       "    }\n",
       "</style>\n",
       "<table border=\"1\" class=\"dataframe\">\n",
       "  <thead>\n",
       "    <tr style=\"text-align: right;\">\n",
       "      <th></th>\n",
       "      <th>id</th>\n",
       "      <th>text</th>\n",
       "      <th>t</th>\n",
       "      <th>n</th>\n",
       "      <th>m</th>\n",
       "    </tr>\n",
       "  </thead>\n",
       "  <tbody>\n",
       "    <tr>\n",
       "      <th>0</th>\n",
       "      <td>0</td>\n",
       "      <td>原発腫瘍を認めない</td>\n",
       "      <td>T0</td>\n",
       "      <td>N0</td>\n",
       "      <td>M0</td>\n",
       "    </tr>\n",
       "    <tr>\n",
       "      <th>1</th>\n",
       "      <td>1</td>\n",
       "      <td>上皮内癌（carcinoma in situ）：肺野型の場合は、充実成分径0cmかつ病変全体...</td>\n",
       "      <td>Tis</td>\n",
       "      <td>N0</td>\n",
       "      <td>M0</td>\n",
       "    </tr>\n",
       "    <tr>\n",
       "      <th>2</th>\n",
       "      <td>2</td>\n",
       "      <td>微少浸潤性腺癌：部分充実型を示し、充実成分径≦0.5cmかつ病変全体径≦3cm。かつ肺または...</td>\n",
       "      <td>T1mi</td>\n",
       "      <td>N0</td>\n",
       "      <td>M0</td>\n",
       "    </tr>\n",
       "    <tr>\n",
       "      <th>3</th>\n",
       "      <td>3</td>\n",
       "      <td>腫瘍の充実成分径≦1cmでかつTis・T1miには相当しない。かつ肺または臓側胸膜に覆われて...</td>\n",
       "      <td>T1a</td>\n",
       "      <td>N0</td>\n",
       "      <td>M0</td>\n",
       "    </tr>\n",
       "    <tr>\n",
       "      <th>4</th>\n",
       "      <td>4</td>\n",
       "      <td>腫瘍の充実成分径&gt;1cmでかつ≦2cm。かつ肺または臓側胸膜に覆われている。かつ葉気管支より...</td>\n",
       "      <td>T1b</td>\n",
       "      <td>N0</td>\n",
       "      <td>M0</td>\n",
       "    </tr>\n",
       "    <tr>\n",
       "      <th>...</th>\n",
       "      <td>...</td>\n",
       "      <td>...</td>\n",
       "      <td>...</td>\n",
       "      <td>...</td>\n",
       "      <td>...</td>\n",
       "    </tr>\n",
       "    <tr>\n",
       "      <th>103</th>\n",
       "      <td>15410359</td>\n",
       "      <td>比較可能な画像検査はありません。\\n右肺尖部に長径 50mm  大の腫瘤影を認めます。病変は...</td>\n",
       "      <td>T2b</td>\n",
       "      <td>N0</td>\n",
       "      <td>M0</td>\n",
       "    </tr>\n",
       "    <tr>\n",
       "      <th>104</th>\n",
       "      <td>8602016</td>\n",
       "      <td>右肺門部に軟部影を認め、ご指摘の悪性腫瘍が疑われます。右下葉は無気肺となっ\\nています。\\n...</td>\n",
       "      <td>T2a</td>\n",
       "      <td>N3</td>\n",
       "      <td>M0</td>\n",
       "    </tr>\n",
       "    <tr>\n",
       "      <th>105</th>\n",
       "      <td>1876861</td>\n",
       "      <td>肺野は背景に慢性肺気腫の所見を認めます。\\n右肺尖部に⻑径 48mm の不整形腫瘤を認め、原...</td>\n",
       "      <td>T2b</td>\n",
       "      <td>N2</td>\n",
       "      <td>M1b</td>\n",
       "    </tr>\n",
       "    <tr>\n",
       "      <th>106</th>\n",
       "      <td>13567317</td>\n",
       "      <td>背景に間質性肺炎、肺気腫を疑います。気腫合併肺線維症のような肺癌の発生しや\\nすい状態を疑い...</td>\n",
       "      <td>T2b</td>\n",
       "      <td>N2</td>\n",
       "      <td>M0</td>\n",
       "    </tr>\n",
       "    <tr>\n",
       "      <th>107</th>\n",
       "      <td>9262204</td>\n",
       "      <td>右下葉  S9 胸膜直下に 12mm  の結節があります。\\n周囲にすりガラス影があります。...</td>\n",
       "      <td>T1b</td>\n",
       "      <td>N0</td>\n",
       "      <td>M0</td>\n",
       "    </tr>\n",
       "  </tbody>\n",
       "</table>\n",
       "<p>126 rows × 5 columns</p>\n",
       "</div>"
      ],
      "text/plain": [
       "           id                                               text     t   n  \\\n",
       "0           0                                          原発腫瘍を認めない    T0  N0   \n",
       "1           1  上皮内癌（carcinoma in situ）：肺野型の場合は、充実成分径0cmかつ病変全体...   Tis  N0   \n",
       "2           2  微少浸潤性腺癌：部分充実型を示し、充実成分径≦0.5cmかつ病変全体径≦3cm。かつ肺または...  T1mi  N0   \n",
       "3           3  腫瘍の充実成分径≦1cmでかつTis・T1miには相当しない。かつ肺または臓側胸膜に覆われて...   T1a  N0   \n",
       "4           4  腫瘍の充実成分径>1cmでかつ≦2cm。かつ肺または臓側胸膜に覆われている。かつ葉気管支より...   T1b  N0   \n",
       "..        ...                                                ...   ...  ..   \n",
       "103  15410359  比較可能な画像検査はありません。\\n右肺尖部に長径 50mm  大の腫瘤影を認めます。病変は...   T2b  N0   \n",
       "104   8602016  右肺門部に軟部影を認め、ご指摘の悪性腫瘍が疑われます。右下葉は無気肺となっ\\nています。\\n...   T2a  N3   \n",
       "105   1876861  肺野は背景に慢性肺気腫の所見を認めます。\\n右肺尖部に⻑径 48mm の不整形腫瘤を認め、原...   T2b  N2   \n",
       "106  13567317  背景に間質性肺炎、肺気腫を疑います。気腫合併肺線維症のような肺癌の発生しや\\nすい状態を疑い...   T2b  N2   \n",
       "107   9262204  右下葉  S9 胸膜直下に 12mm  の結節があります。\\n周囲にすりガラス影があります。...   T1b  N0   \n",
       "\n",
       "       m  \n",
       "0     M0  \n",
       "1     M0  \n",
       "2     M0  \n",
       "3     M0  \n",
       "4     M0  \n",
       "..   ...  \n",
       "103   M0  \n",
       "104   M0  \n",
       "105  M1b  \n",
       "106   M0  \n",
       "107   M0  \n",
       "\n",
       "[126 rows x 5 columns]"
      ]
     },
     "execution_count": 15,
     "metadata": {},
     "output_type": "execute_result"
    }
   ],
   "source": [
    "df_train"
   ]
  },
  {
   "cell_type": "code",
   "execution_count": 16,
   "metadata": {},
   "outputs": [
    {
     "data": {
      "application/vnd.jupyter.widget-view+json": {
       "model_id": "60def244abcf44b4a003a7f28a6a7238",
       "version_major": 2,
       "version_minor": 0
      },
      "text/plain": [
       "  0%|          | 0/108 [00:00<?, ?it/s]"
      ]
     },
     "metadata": {},
     "output_type": "display_data"
    },
    {
     "data": {
      "application/vnd.jupyter.widget-view+json": {
       "model_id": "3d7bb4578fa04e0fb40b12424bc3819a",
       "version_major": 2,
       "version_minor": 0
      },
      "text/plain": [
       "  0%|          | 0/54 [00:00<?, ?it/s]"
      ]
     },
     "metadata": {},
     "output_type": "display_data"
    }
   ],
   "source": [
    "X_train, X_valid = tokenize(train_df['text'].values.tolist()), tokenize(val_df['text'].values.tolist())"
   ]
  },
  {
   "cell_type": "code",
   "execution_count": 17,
   "metadata": {},
   "outputs": [],
   "source": [
    "def convert_list(text_list, label_dic):\n",
    "    \"\"\"\n",
    "    リストのテキストを、指定された辞書に基づいて数値に変換します。\n",
    "\n",
    "    Args:\n",
    "        text_list (list): 変換したいテキストのリスト\n",
    "        label_dic (dict): テキストと対応する数値の辞書\n",
    "\n",
    "    Returns:\n",
    "        list: 数値に変換されたリスト\n",
    "    \"\"\"\n",
    "\n",
    "    num_list = []\n",
    "    for text in text_list:\n",
    "        # 辞書から対応する数値を取得\n",
    "        num = label_dic.get(text, None)\n",
    "        if num is not None:\n",
    "            num_list.append(num)\n",
    "        else:\n",
    "            print(f\"対応する数値が見つかりません: {text}\")\n",
    "    return num_list\n",
    "\n",
    "label_dic_t = {'T0':0, 'Tis':1, 'T1mi':2, 'T1a':3, 'T1b':4, 'T1c':5, 'T2a':6, 'T2b':7, 'T3':8, 'T4':9}\n",
    "Yt_train, Yt_valid = convert_list(train_df['t'].values.tolist(), label_dic_t), convert_list(val_df['t'].values.tolist(), label_dic_t)\n",
    "\n",
    "label_dic_n = {'N0':0, 'N1':1, 'N2':2, 'N3':3}\n",
    "Yn_train, Yn_valid = convert_list(train_df['n'].values.tolist(), label_dic_n), convert_list(val_df['n'].values.tolist(), label_dic_n)\n",
    "\n",
    "label_dic_m = {'M0':0, 'M1a':1, 'M1b':2, 'M1c':3}\n",
    "Ym_train, Ym_valid = convert_list(train_df['m'].values.tolist(), label_dic_m), convert_list(val_df['m'].values.tolist(), label_dic_m)"
   ]
  },
  {
   "cell_type": "markdown",
   "metadata": {},
   "source": [
    "# TNM各々分類モデルを学習"
   ]
  },
  {
   "cell_type": "code",
   "execution_count": 18,
   "metadata": {},
   "outputs": [],
   "source": [
    "model_path = Path('./pkg/UTHBERT')\n",
    "save_path = Path('./model')"
   ]
  },
  {
   "cell_type": "code",
   "execution_count": 19,
   "metadata": {},
   "outputs": [],
   "source": [
    "num_classes_t=10\n",
    "num_classes_n=4\n",
    "num_classes_m=4"
   ]
  },
  {
   "cell_type": "code",
   "execution_count": 20,
   "metadata": {},
   "outputs": [],
   "source": [
    "class MyCollator(object):\n",
    "    '''\n",
    "    Args:\n",
    "    test : Set True when using with test data loader. Defaults to False\n",
    "    percentile : Trim sequences by this percentile\n",
    "    '''\n",
    "    def __init__(self,test=False,percentile=100):\n",
    "        self.test = test\n",
    "        self.percentile = percentile\n",
    "    def __call__(self, batch):\n",
    "        if not self.test:\n",
    "            data = [torch.tensor(item[0])  for item in batch]\n",
    "            target = [item[1] for item in batch]\n",
    "        else:\n",
    "            data = [item for item in batch]\n",
    "        \n",
    "        # Padding\n",
    "        data = pad_sequence(data, batch_first=True)\n",
    "        data = data.clone().detach().long()\n",
    "        masks = torch.where(data==0, 1, 0)\n",
    "        masks = masks.clone().detach().long()\n",
    "        if not self.test:\n",
    "            target = torch.tensor(target, dtype=torch.long)\n",
    "            return [data, masks, target]\n",
    "        return [data, masks]"
   ]
  },
  {
   "cell_type": "code",
   "execution_count": 21,
   "metadata": {},
   "outputs": [],
   "source": [
    "def build_data(train_data, valid_data, batch_size=8): \n",
    "        \n",
    "    collate = MyCollator(percentile=100)\n",
    "    train_loader = DataLoader(train_data, batch_size=batch_size, shuffle=True, num_workers=0, collate_fn=collate) \n",
    "    valid_loader = DataLoader(valid_data, batch_size=batch_size, shuffle=True, num_workers=0, collate_fn=collate) \n",
    "     \n",
    "    return train_loader, valid_loader"
   ]
  },
  {
   "cell_type": "code",
   "execution_count": 22,
   "metadata": {},
   "outputs": [],
   "source": [
    "config = BertConfig.from_json_file(model_path / 'bert_config.json')\n",
    "bert = BertModel.from_pretrained(model_path / 'UTH_BERT.bin', config=config)\n",
    "\n",
    "class Net(nn.Module):\n",
    "    def __init__(self, bert, num_classes):\n",
    "        super(Net, self).__init__()\n",
    "        self.bert = bert\n",
    "        self.cls = nn.Linear(768, num_classes)\n",
    "\n",
    "  # @torch.cuda.amp.autocast()\n",
    "    def forward(self, inputs_ids, pad_masks, Attention=False):\n",
    "        bout = self.bert(inputs_ids, pad_masks, output_attentions=Attention)\n",
    "        bs = len(bout[0])\n",
    "        h0 = [bout[0][i][0] for i in range(bs)]\n",
    "        h0 = torch.stack(h0,dim=0)\n",
    "        if Attention:\n",
    "            return self.cls(h0),bout\n",
    "        else:\n",
    "            return self.cls(h0)"
   ]
  },
  {
   "cell_type": "code",
   "execution_count": 23,
   "metadata": {},
   "outputs": [],
   "source": [
    "def plot_loss(train_loss, valid_loss):\n",
    "    plt.plot(train_loss)\n",
    "    plt.plot(valid_loss)\n",
    "    plt.xlabel('epoch')\n",
    "    plt.ylabel('loss')\n",
    "    plt.legend(['train_loss', 'valid_loss'], loc='upper right')\n",
    "    plt.xticks(np.arange(0, epochs + 1, 5))\n",
    "    plt.show()"
   ]
  },
  {
   "cell_type": "code",
   "execution_count": 24,
   "metadata": {},
   "outputs": [],
   "source": [
    "def plot_metrics(train_acc, test_acc, test_f1):\n",
    "    plt.plot(train_acc)\n",
    "    plt.plot(test_acc)\n",
    "    plt.plot(test_f1)\n",
    "    plt.title('model accuracy')\n",
    "    plt.xlabel('epoch')\n",
    "    plt.ylabel('accuracy')\n",
    "    plt.legend(['train_acc', 'valid_acc', 'valid_F1'], loc='lower right')\n",
    "    plt.xticks(np.arange(0, epochs + 1, 5))\n",
    "    plt.show()"
   ]
  },
  {
   "cell_type": "code",
   "execution_count": 25,
   "metadata": {},
   "outputs": [],
   "source": [
    "def macro_average_f1(label_list, pred_list):\n",
    "    return f1_score(label_list, pred_list, average='macro')"
   ]
  },
  {
   "cell_type": "code",
   "execution_count": 26,
   "metadata": {},
   "outputs": [],
   "source": [
    "def synchronize():\n",
    "    if torch.backends.mps.is_available():\n",
    "        torch.mps.synchronize()\n",
    "    elif torch.cuda.is_available():\n",
    "        torch.cuda.synchronize()\n",
    "\n",
    "def run(train_loader, valid_loader, model, num_classes, epochs=10, patience=5, delta=0.0, save_path=save_path):\n",
    "    \n",
    "    train_loss, valid_loss, train_acc, valid_acc, valid_f1 = [], [], [], [], []\n",
    "    best_f1, best_acc = 0.0, 0.0\n",
    "    best_f1_epoch, best_acc_epoch = 0, 0\n",
    "    best_valid_loss = np.inf\n",
    "    patience_counter = 0\n",
    "    \n",
    "    for epoch in range(0, epochs): \n",
    "        print(f'\\nEpoch {epoch + 1}/{epochs}')\n",
    "        print('-' * 10)\n",
    "        epoch_train_loss, epoch_valid_loss = 0.0, 0.0\n",
    "        epoch_train_acc = 0.0\n",
    "\n",
    "        model.train() \n",
    "        start = time.time()\n",
    "        for data in tqdm(train_loader): \n",
    "            inputs, masks, labels = data[0].to(device), data[1].to(device), data[2].to(device)\n",
    "            optimizer.zero_grad() \n",
    "            outputs = model(inputs, masks)\n",
    "            loss = criterion(outputs, labels)  \n",
    "            loss.backward() \n",
    "            optimizer.step() \n",
    "            epoch_train_loss += loss.item() / len(train_loader) \n",
    "            acc = (F.softmax(outputs, dim=1).argmax(dim=1) == labels).float().mean()\n",
    "            epoch_train_acc += acc.item() / len(train_loader)\n",
    "            del inputs, masks, labels, outputs, loss    \n",
    "\n",
    "        train_loss.append(epoch_train_loss)\n",
    "        train_acc.append(epoch_train_acc)\n",
    "        synchronize()\n",
    "        elapsed_time = time.time() - start\n",
    "        print(f'Train loss: {epoch_train_loss:.4f}, Train acc: {epoch_train_acc:.4f}, Time: {elapsed_time:.0f}s')\n",
    "        \n",
    "        model.eval()\n",
    "        label_li, pred_li = [], []\n",
    "        with torch.no_grad():\n",
    "            for data in valid_loader:\n",
    "                inputs, masks, labels = data[0].to(device), data[1].to(device), data[2].to(device)\n",
    "                outputs = model(inputs, masks)\n",
    "                loss = criterion(outputs, labels)\n",
    "                epoch_valid_loss += loss.item() / len(valid_loader)\n",
    "                preds = F.softmax(outputs, dim=1).argmax(dim=1)\n",
    "                label_li.extend(labels.cpu().numpy())\n",
    "                pred_li.extend(preds.cpu().numpy())\n",
    "\n",
    "        valid_loss.append(epoch_valid_loss)\n",
    "        epoch_valid_acc = accuracy_score(label_li, pred_li)\n",
    "        epoch_valid_f1 = macro_average_f1(label_li, pred_li)\n",
    "        valid_acc.append(epoch_valid_acc)\n",
    "        valid_f1.append(epoch_valid_f1)\n",
    "\n",
    "        print(f'Valid loss: {epoch_valid_loss:.4f}, Valid acc: {epoch_valid_acc:.4f}, Valid F1: {epoch_valid_f1:.4f}')\n",
    "\n",
    "        if epoch_valid_acc > best_acc: \n",
    "            best_acc = epoch_valid_acc\n",
    "            best_acc_epoch = epoch\n",
    "            torch.save(model.state_dict(), save_path / f'best_acc_1.pth')\n",
    "        if epoch_valid_f1 > best_f1: \n",
    "            best_f1 = epoch_valid_f1\n",
    "            best_f1_epoch = epoch\n",
    "            torch.save(model.state_dict(), save_path / f'best_f1_1.pth')\n",
    "\n",
    "        # # Early stopping\n",
    "        # if epoch_valid_loss < best_valid_loss - delta:\n",
    "        #     best_valid_loss = epoch_valid_loss\n",
    "        #     patience_counter = 0  # 改善があったので、カウンタをリセット\n",
    "        # else:\n",
    "        #     patience_counter += 1\n",
    "        # if patience_counter >= patience:\n",
    "        #     print(f'Early stopping at epoch {epoch + 1}')\n",
    "        #     break\n",
    "            \n",
    "    print('\\nTraining complete')\n",
    "    print(f'Best ACC: {best_acc:.4f} at epoch {best_acc_epoch}')\n",
    "    print(f'Best F1: {best_f1:.4f} at epoch {best_f1_epoch}')\n",
    "\n",
    "    return train_loss, valid_loss, train_acc, valid_acc, valid_f1 "
   ]
  },
  {
   "cell_type": "markdown",
   "metadata": {},
   "source": [
    "## T分類モデル"
   ]
  },
  {
   "cell_type": "code",
   "execution_count": 27,
   "metadata": {},
   "outputs": [],
   "source": [
    "batch_size=1\n",
    "epochs=50\n",
    "learning_rate=1e-5\n",
    "momentum=0.9"
   ]
  },
  {
   "cell_type": "code",
   "execution_count": 28,
   "metadata": {},
   "outputs": [],
   "source": [
    "train_data = []\n",
    "valid_data = []\n",
    "for x, y in zip(X_train, Yt_train):\n",
    "    data = [x, y]\n",
    "    train_data.append(data)\n",
    "for x, y in zip(X_valid, Yt_valid):\n",
    "    data = [x, y]\n",
    "    valid_data.append(data)\n",
    "    \n",
    "train_loader, valid_loader = build_data(train_data, valid_data, batch_size=batch_size)"
   ]
  },
  {
   "cell_type": "code",
   "execution_count": 29,
   "metadata": {},
   "outputs": [],
   "source": [
    "config = BertConfig.from_json_file(model_path / 'bert_config.json')\n",
    "bert = BertModel.from_pretrained(model_path / 'UTH_BERT.bin', config=config)\n",
    "model = Net(bert, num_classes_t).to(device)\n",
    "\n",
    "FREEZE=False\n",
    "if FREEZE: \n",
    "    idx=1 #Any\n",
    "    for name, param in model.named_parameters(): \n",
    "        param.requires_grad = False \n",
    "    for name, param in list(model.named_parameters())[idx:]: \n",
    "        param.requires_grad = True \n",
    "#     optimizer = optim.SGD([{'params':list(model.parameters())[idx:], 'lr':learning_rate, 'momentum':momentum}])\n",
    "    optimizer = optim.Adam([{'params':list(model.parameters())[idx:], 'lr':learning_rate}]) \n",
    "    criterion = nn.CrossEntropyLoss()\n",
    "else:  \n",
    "#     optimizer = optim.SGD(model.parameters(), lr=learning_rate, momentum=momentum)\n",
    "    optimizer = optim.Adam(model.parameters(), lr=learning_rate)\n",
    "    criterion = nn.CrossEntropyLoss()\n",
    "\n",
    "scheduler = StepLR(optimizer, step_size=3, gamma=0.1)"
   ]
  },
  {
   "cell_type": "code",
   "execution_count": 30,
   "metadata": {},
   "outputs": [
    {
     "name": "stdout",
     "output_type": "stream",
     "text": [
      "\n",
      "Epoch 1/50\n",
      "----------\n"
     ]
    },
    {
     "data": {
      "application/vnd.jupyter.widget-view+json": {
       "model_id": "cb5fe65598334f9bb3a40bf94b57a676",
       "version_major": 2,
       "version_minor": 0
      },
      "text/plain": [
       "  0%|          | 0/108 [00:00<?, ?it/s]"
      ]
     },
     "metadata": {},
     "output_type": "display_data"
    },
    {
     "name": "stdout",
     "output_type": "stream",
     "text": [
      "Train loss: 2.0241, Train acc: 0.2130, Time: 37s\n",
      "Valid loss: 2.2312, Valid acc: 0.4259, Valid F1: 0.1930\n",
      "\n",
      "Epoch 2/50\n",
      "----------\n"
     ]
    },
    {
     "data": {
      "application/vnd.jupyter.widget-view+json": {
       "model_id": "6b1e01b10243440ea00ea9bb8c989fea",
       "version_major": 2,
       "version_minor": 0
      },
      "text/plain": [
       "  0%|          | 0/108 [00:00<?, ?it/s]"
      ]
     },
     "metadata": {},
     "output_type": "display_data"
    },
    {
     "name": "stdout",
     "output_type": "stream",
     "text": [
      "Train loss: 1.8469, Train acc: 0.2130, Time: 17s\n",
      "Valid loss: 2.2491, Valid acc: 0.3333, Valid F1: 0.0625\n",
      "\n",
      "Epoch 3/50\n",
      "----------\n"
     ]
    },
    {
     "data": {
      "application/vnd.jupyter.widget-view+json": {
       "model_id": "fd8983a077214a4ba37413995bb690ed",
       "version_major": 2,
       "version_minor": 0
      },
      "text/plain": [
       "  0%|          | 0/108 [00:00<?, ?it/s]"
      ]
     },
     "metadata": {},
     "output_type": "display_data"
    },
    {
     "name": "stdout",
     "output_type": "stream",
     "text": [
      "Train loss: 1.7638, Train acc: 0.2593, Time: 17s\n",
      "Valid loss: 2.2148, Valid acc: 0.3333, Valid F1: 0.0714\n",
      "\n",
      "Epoch 4/50\n",
      "----------\n"
     ]
    },
    {
     "data": {
      "application/vnd.jupyter.widget-view+json": {
       "model_id": "022b4f659c724aa48cb2420295654ece",
       "version_major": 2,
       "version_minor": 0
      },
      "text/plain": [
       "  0%|          | 0/108 [00:00<?, ?it/s]"
      ]
     },
     "metadata": {},
     "output_type": "display_data"
    },
    {
     "name": "stdout",
     "output_type": "stream",
     "text": [
      "Train loss: 1.5880, Train acc: 0.4167, Time: 17s\n",
      "Valid loss: 2.3049, Valid acc: 0.1667, Valid F1: 0.0357\n",
      "\n",
      "Epoch 5/50\n",
      "----------\n"
     ]
    },
    {
     "data": {
      "application/vnd.jupyter.widget-view+json": {
       "model_id": "30f8efec27a4445091d5e3b6895d7995",
       "version_major": 2,
       "version_minor": 0
      },
      "text/plain": [
       "  0%|          | 0/108 [00:00<?, ?it/s]"
      ]
     },
     "metadata": {},
     "output_type": "display_data"
    },
    {
     "name": "stdout",
     "output_type": "stream",
     "text": [
      "Train loss: 1.5476, Train acc: 0.3519, Time: 17s\n",
      "Valid loss: 2.3226, Valid acc: 0.2222, Valid F1: 0.1183\n",
      "\n",
      "Epoch 6/50\n",
      "----------\n"
     ]
    },
    {
     "data": {
      "application/vnd.jupyter.widget-view+json": {
       "model_id": "02a7c10947f6496a8908ef398eed2718",
       "version_major": 2,
       "version_minor": 0
      },
      "text/plain": [
       "  0%|          | 0/108 [00:00<?, ?it/s]"
      ]
     },
     "metadata": {},
     "output_type": "display_data"
    },
    {
     "name": "stdout",
     "output_type": "stream",
     "text": [
      "Train loss: 1.2671, Train acc: 0.5556, Time: 16s\n",
      "Valid loss: 2.7521, Valid acc: 0.3333, Valid F1: 0.0702\n",
      "\n",
      "Epoch 7/50\n",
      "----------\n"
     ]
    },
    {
     "data": {
      "application/vnd.jupyter.widget-view+json": {
       "model_id": "f268e2c348ad4917983d7f16a5fdc8e1",
       "version_major": 2,
       "version_minor": 0
      },
      "text/plain": [
       "  0%|          | 0/108 [00:00<?, ?it/s]"
      ]
     },
     "metadata": {},
     "output_type": "display_data"
    },
    {
     "name": "stdout",
     "output_type": "stream",
     "text": [
      "Train loss: 1.2727, Train acc: 0.5741, Time: 16s\n",
      "Valid loss: 2.4207, Valid acc: 0.1667, Valid F1: 0.0357\n",
      "\n",
      "Epoch 8/50\n",
      "----------\n"
     ]
    },
    {
     "data": {
      "application/vnd.jupyter.widget-view+json": {
       "model_id": "fe46d498f1fb46f3ba12915f7e199ae7",
       "version_major": 2,
       "version_minor": 0
      },
      "text/plain": [
       "  0%|          | 0/108 [00:00<?, ?it/s]"
      ]
     },
     "metadata": {},
     "output_type": "display_data"
    },
    {
     "name": "stdout",
     "output_type": "stream",
     "text": [
      "Train loss: 1.9002, Train acc: 0.2963, Time: 16s\n",
      "Valid loss: 2.4842, Valid acc: 0.3333, Valid F1: 0.0776\n",
      "\n",
      "Epoch 9/50\n",
      "----------\n"
     ]
    },
    {
     "data": {
      "application/vnd.jupyter.widget-view+json": {
       "model_id": "8870bcdbbe734dd282472476f3fb5f35",
       "version_major": 2,
       "version_minor": 0
      },
      "text/plain": [
       "  0%|          | 0/108 [00:00<?, ?it/s]"
      ]
     },
     "metadata": {},
     "output_type": "display_data"
    },
    {
     "name": "stdout",
     "output_type": "stream",
     "text": [
      "Train loss: 1.4086, Train acc: 0.4167, Time: 16s\n",
      "Valid loss: 2.2349, Valid acc: 0.3519, Valid F1: 0.1401\n",
      "\n",
      "Epoch 10/50\n",
      "----------\n"
     ]
    },
    {
     "data": {
      "application/vnd.jupyter.widget-view+json": {
       "model_id": "d14bd97e26fd4589b9047c3c142352ca",
       "version_major": 2,
       "version_minor": 0
      },
      "text/plain": [
       "  0%|          | 0/108 [00:00<?, ?it/s]"
      ]
     },
     "metadata": {},
     "output_type": "display_data"
    },
    {
     "name": "stdout",
     "output_type": "stream",
     "text": [
      "Train loss: 0.9980, Train acc: 0.6852, Time: 16s\n",
      "Valid loss: 2.1930, Valid acc: 0.3333, Valid F1: 0.1010\n",
      "\n",
      "Epoch 11/50\n",
      "----------\n"
     ]
    },
    {
     "data": {
      "application/vnd.jupyter.widget-view+json": {
       "model_id": "0cfa6bb145f5494ca91a7adaccdd2b5f",
       "version_major": 2,
       "version_minor": 0
      },
      "text/plain": [
       "  0%|          | 0/108 [00:00<?, ?it/s]"
      ]
     },
     "metadata": {},
     "output_type": "display_data"
    },
    {
     "name": "stdout",
     "output_type": "stream",
     "text": [
      "Train loss: 0.9745, Train acc: 0.6389, Time: 16s\n",
      "Valid loss: 2.2832, Valid acc: 0.2222, Valid F1: 0.0798\n",
      "\n",
      "Epoch 12/50\n",
      "----------\n"
     ]
    },
    {
     "data": {
      "application/vnd.jupyter.widget-view+json": {
       "model_id": "fc1e5c2ce834479facac87ba42342ab5",
       "version_major": 2,
       "version_minor": 0
      },
      "text/plain": [
       "  0%|          | 0/108 [00:00<?, ?it/s]"
      ]
     },
     "metadata": {},
     "output_type": "display_data"
    },
    {
     "name": "stdout",
     "output_type": "stream",
     "text": [
      "Train loss: 0.9974, Train acc: 0.6111, Time: 16s\n",
      "Valid loss: 3.1373, Valid acc: 0.0556, Valid F1: 0.0370\n",
      "\n",
      "Epoch 13/50\n",
      "----------\n"
     ]
    },
    {
     "data": {
      "application/vnd.jupyter.widget-view+json": {
       "model_id": "ba3dc4a8ba0440e8bc8852941207c509",
       "version_major": 2,
       "version_minor": 0
      },
      "text/plain": [
       "  0%|          | 0/108 [00:00<?, ?it/s]"
      ]
     },
     "metadata": {},
     "output_type": "display_data"
    },
    {
     "name": "stdout",
     "output_type": "stream",
     "text": [
      "Train loss: 1.1712, Train acc: 0.5648, Time: 16s\n",
      "Valid loss: 2.4257, Valid acc: 0.2963, Valid F1: 0.1002\n",
      "\n",
      "Epoch 14/50\n",
      "----------\n"
     ]
    },
    {
     "data": {
      "application/vnd.jupyter.widget-view+json": {
       "model_id": "fc9bae67563d47469ff134c6ba7fe3ce",
       "version_major": 2,
       "version_minor": 0
      },
      "text/plain": [
       "  0%|          | 0/108 [00:00<?, ?it/s]"
      ]
     },
     "metadata": {},
     "output_type": "display_data"
    },
    {
     "name": "stdout",
     "output_type": "stream",
     "text": [
      "Train loss: 1.0120, Train acc: 0.6481, Time: 16s\n",
      "Valid loss: 2.3350, Valid acc: 0.2963, Valid F1: 0.1517\n",
      "\n",
      "Epoch 15/50\n",
      "----------\n"
     ]
    },
    {
     "data": {
      "application/vnd.jupyter.widget-view+json": {
       "model_id": "9a6c7ab4368e473c9de440de8acc05f0",
       "version_major": 2,
       "version_minor": 0
      },
      "text/plain": [
       "  0%|          | 0/108 [00:00<?, ?it/s]"
      ]
     },
     "metadata": {},
     "output_type": "display_data"
    },
    {
     "name": "stdout",
     "output_type": "stream",
     "text": [
      "Train loss: 0.7168, Train acc: 0.7685, Time: 16s\n",
      "Valid loss: 2.9542, Valid acc: 0.3519, Valid F1: 0.1038\n",
      "\n",
      "Epoch 16/50\n",
      "----------\n"
     ]
    },
    {
     "data": {
      "application/vnd.jupyter.widget-view+json": {
       "model_id": "90ce313226ba4109a9485b10a881f0b1",
       "version_major": 2,
       "version_minor": 0
      },
      "text/plain": [
       "  0%|          | 0/108 [00:00<?, ?it/s]"
      ]
     },
     "metadata": {},
     "output_type": "display_data"
    },
    {
     "name": "stdout",
     "output_type": "stream",
     "text": [
      "Train loss: 0.8420, Train acc: 0.7037, Time: 17s\n",
      "Valid loss: 2.5154, Valid acc: 0.3333, Valid F1: 0.1531\n",
      "\n",
      "Epoch 17/50\n",
      "----------\n"
     ]
    },
    {
     "data": {
      "application/vnd.jupyter.widget-view+json": {
       "model_id": "f92f27f564004c8eb852f5369701ce7d",
       "version_major": 2,
       "version_minor": 0
      },
      "text/plain": [
       "  0%|          | 0/108 [00:00<?, ?it/s]"
      ]
     },
     "metadata": {},
     "output_type": "display_data"
    },
    {
     "name": "stdout",
     "output_type": "stream",
     "text": [
      "Train loss: 1.0171, Train acc: 0.6111, Time: 17s\n",
      "Valid loss: 2.6129, Valid acc: 0.3148, Valid F1: 0.1184\n",
      "\n",
      "Epoch 18/50\n",
      "----------\n"
     ]
    },
    {
     "data": {
      "application/vnd.jupyter.widget-view+json": {
       "model_id": "8a76b27ac61a409199ba5104fb5635e0",
       "version_major": 2,
       "version_minor": 0
      },
      "text/plain": [
       "  0%|          | 0/108 [00:00<?, ?it/s]"
      ]
     },
     "metadata": {},
     "output_type": "display_data"
    },
    {
     "name": "stdout",
     "output_type": "stream",
     "text": [
      "Train loss: 0.7517, Train acc: 0.7778, Time: 16s\n",
      "Valid loss: 2.5476, Valid acc: 0.2593, Valid F1: 0.1060\n",
      "\n",
      "Epoch 19/50\n",
      "----------\n"
     ]
    },
    {
     "data": {
      "application/vnd.jupyter.widget-view+json": {
       "model_id": "1d21a0e2cf8c484a94372f5140bea493",
       "version_major": 2,
       "version_minor": 0
      },
      "text/plain": [
       "  0%|          | 0/108 [00:00<?, ?it/s]"
      ]
     },
     "metadata": {},
     "output_type": "display_data"
    },
    {
     "name": "stdout",
     "output_type": "stream",
     "text": [
      "Train loss: 0.7981, Train acc: 0.6759, Time: 16s\n",
      "Valid loss: 2.8499, Valid acc: 0.3148, Valid F1: 0.1068\n",
      "\n",
      "Epoch 20/50\n",
      "----------\n"
     ]
    },
    {
     "data": {
      "application/vnd.jupyter.widget-view+json": {
       "model_id": "f1037799b8584aada7f84f2362c9cd37",
       "version_major": 2,
       "version_minor": 0
      },
      "text/plain": [
       "  0%|          | 0/108 [00:00<?, ?it/s]"
      ]
     },
     "metadata": {},
     "output_type": "display_data"
    },
    {
     "name": "stdout",
     "output_type": "stream",
     "text": [
      "Train loss: 0.8547, Train acc: 0.6667, Time: 16s\n",
      "Valid loss: 2.5232, Valid acc: 0.4074, Valid F1: 0.2276\n",
      "\n",
      "Epoch 21/50\n",
      "----------\n"
     ]
    },
    {
     "data": {
      "application/vnd.jupyter.widget-view+json": {
       "model_id": "0acdeec116094faeb1f552540ed1cc9b",
       "version_major": 2,
       "version_minor": 0
      },
      "text/plain": [
       "  0%|          | 0/108 [00:00<?, ?it/s]"
      ]
     },
     "metadata": {},
     "output_type": "display_data"
    },
    {
     "name": "stdout",
     "output_type": "stream",
     "text": [
      "Train loss: 0.7857, Train acc: 0.7500, Time: 16s\n",
      "Valid loss: 2.6605, Valid acc: 0.3148, Valid F1: 0.0925\n",
      "\n",
      "Epoch 22/50\n",
      "----------\n"
     ]
    },
    {
     "data": {
      "application/vnd.jupyter.widget-view+json": {
       "model_id": "530556de909c42f38cad64c545ac2105",
       "version_major": 2,
       "version_minor": 0
      },
      "text/plain": [
       "  0%|          | 0/108 [00:00<?, ?it/s]"
      ]
     },
     "metadata": {},
     "output_type": "display_data"
    },
    {
     "name": "stdout",
     "output_type": "stream",
     "text": [
      "Train loss: 0.8956, Train acc: 0.6852, Time: 16s\n",
      "Valid loss: 2.6957, Valid acc: 0.3148, Valid F1: 0.0850\n",
      "\n",
      "Epoch 23/50\n",
      "----------\n"
     ]
    },
    {
     "data": {
      "application/vnd.jupyter.widget-view+json": {
       "model_id": "e031615da5744703979c60093228afcf",
       "version_major": 2,
       "version_minor": 0
      },
      "text/plain": [
       "  0%|          | 0/108 [00:00<?, ?it/s]"
      ]
     },
     "metadata": {},
     "output_type": "display_data"
    },
    {
     "name": "stdout",
     "output_type": "stream",
     "text": [
      "Train loss: 0.7162, Train acc: 0.7963, Time: 16s\n",
      "Valid loss: 2.6983, Valid acc: 0.3333, Valid F1: 0.1379\n",
      "\n",
      "Epoch 24/50\n",
      "----------\n"
     ]
    },
    {
     "data": {
      "application/vnd.jupyter.widget-view+json": {
       "model_id": "9b7beb9446744af78845621e8a6ae6f8",
       "version_major": 2,
       "version_minor": 0
      },
      "text/plain": [
       "  0%|          | 0/108 [00:00<?, ?it/s]"
      ]
     },
     "metadata": {},
     "output_type": "display_data"
    },
    {
     "name": "stdout",
     "output_type": "stream",
     "text": [
      "Train loss: 0.6926, Train acc: 0.7407, Time: 16s\n",
      "Valid loss: 2.7438, Valid acc: 0.2222, Valid F1: 0.1032\n",
      "\n",
      "Epoch 25/50\n",
      "----------\n"
     ]
    },
    {
     "data": {
      "application/vnd.jupyter.widget-view+json": {
       "model_id": "88e6bd182d2c435fbb8f0d1f65d76632",
       "version_major": 2,
       "version_minor": 0
      },
      "text/plain": [
       "  0%|          | 0/108 [00:00<?, ?it/s]"
      ]
     },
     "metadata": {},
     "output_type": "display_data"
    },
    {
     "name": "stdout",
     "output_type": "stream",
     "text": [
      "Train loss: 0.6886, Train acc: 0.7593, Time: 16s\n",
      "Valid loss: 2.7620, Valid acc: 0.3148, Valid F1: 0.0885\n",
      "\n",
      "Epoch 26/50\n",
      "----------\n"
     ]
    },
    {
     "data": {
      "application/vnd.jupyter.widget-view+json": {
       "model_id": "dc4314c8214d4824853ba4575f050bbd",
       "version_major": 2,
       "version_minor": 0
      },
      "text/plain": [
       "  0%|          | 0/108 [00:00<?, ?it/s]"
      ]
     },
     "metadata": {},
     "output_type": "display_data"
    },
    {
     "name": "stdout",
     "output_type": "stream",
     "text": [
      "Train loss: 1.0305, Train acc: 0.7315, Time: 16s\n",
      "Valid loss: 2.1713, Valid acc: 0.3704, Valid F1: 0.1547\n",
      "\n",
      "Epoch 27/50\n",
      "----------\n"
     ]
    },
    {
     "data": {
      "application/vnd.jupyter.widget-view+json": {
       "model_id": "4b545412ad2f49eb9749fd0a2f6b3922",
       "version_major": 2,
       "version_minor": 0
      },
      "text/plain": [
       "  0%|          | 0/108 [00:00<?, ?it/s]"
      ]
     },
     "metadata": {},
     "output_type": "display_data"
    },
    {
     "name": "stdout",
     "output_type": "stream",
     "text": [
      "Train loss: 1.0955, Train acc: 0.6481, Time: 16s\n",
      "Valid loss: 2.9208, Valid acc: 0.2037, Valid F1: 0.0960\n",
      "\n",
      "Epoch 28/50\n",
      "----------\n"
     ]
    },
    {
     "data": {
      "application/vnd.jupyter.widget-view+json": {
       "model_id": "6129f5ce27834f27973d3cc5e4eed633",
       "version_major": 2,
       "version_minor": 0
      },
      "text/plain": [
       "  0%|          | 0/108 [00:00<?, ?it/s]"
      ]
     },
     "metadata": {},
     "output_type": "display_data"
    },
    {
     "name": "stdout",
     "output_type": "stream",
     "text": [
      "Train loss: 0.9535, Train acc: 0.6389, Time: 16s\n",
      "Valid loss: 2.8406, Valid acc: 0.3519, Valid F1: 0.1083\n",
      "\n",
      "Epoch 29/50\n",
      "----------\n"
     ]
    },
    {
     "data": {
      "application/vnd.jupyter.widget-view+json": {
       "model_id": "c0a3c3d4252b44dbac1fb64a70398db7",
       "version_major": 2,
       "version_minor": 0
      },
      "text/plain": [
       "  0%|          | 0/108 [00:00<?, ?it/s]"
      ]
     },
     "metadata": {},
     "output_type": "display_data"
    },
    {
     "name": "stdout",
     "output_type": "stream",
     "text": [
      "Train loss: 0.8489, Train acc: 0.7407, Time: 16s\n",
      "Valid loss: 2.9356, Valid acc: 0.2407, Valid F1: 0.1050\n",
      "\n",
      "Epoch 30/50\n",
      "----------\n"
     ]
    },
    {
     "data": {
      "application/vnd.jupyter.widget-view+json": {
       "model_id": "aba5986b7d754abd98be8d2f0d448b3d",
       "version_major": 2,
       "version_minor": 0
      },
      "text/plain": [
       "  0%|          | 0/108 [00:00<?, ?it/s]"
      ]
     },
     "metadata": {},
     "output_type": "display_data"
    },
    {
     "name": "stdout",
     "output_type": "stream",
     "text": [
      "Train loss: 0.6994, Train acc: 0.7593, Time: 16s\n",
      "Valid loss: 3.4828, Valid acc: 0.2407, Valid F1: 0.1489\n",
      "\n",
      "Epoch 31/50\n",
      "----------\n"
     ]
    },
    {
     "data": {
      "application/vnd.jupyter.widget-view+json": {
       "model_id": "aa4d58ed1088455ba9b0347b6ac22a8a",
       "version_major": 2,
       "version_minor": 0
      },
      "text/plain": [
       "  0%|          | 0/108 [00:00<?, ?it/s]"
      ]
     },
     "metadata": {},
     "output_type": "display_data"
    },
    {
     "name": "stdout",
     "output_type": "stream",
     "text": [
      "Train loss: 0.8559, Train acc: 0.6481, Time: 16s\n",
      "Valid loss: 3.3960, Valid acc: 0.3519, Valid F1: 0.1375\n",
      "\n",
      "Epoch 32/50\n",
      "----------\n"
     ]
    },
    {
     "data": {
      "application/vnd.jupyter.widget-view+json": {
       "model_id": "67e83a8ed246489b9c683205720159aa",
       "version_major": 2,
       "version_minor": 0
      },
      "text/plain": [
       "  0%|          | 0/108 [00:00<?, ?it/s]"
      ]
     },
     "metadata": {},
     "output_type": "display_data"
    },
    {
     "name": "stdout",
     "output_type": "stream",
     "text": [
      "Train loss: 0.6845, Train acc: 0.7778, Time: 16s\n",
      "Valid loss: 3.6332, Valid acc: 0.3148, Valid F1: 0.0921\n",
      "\n",
      "Epoch 33/50\n",
      "----------\n"
     ]
    },
    {
     "data": {
      "application/vnd.jupyter.widget-view+json": {
       "model_id": "719048363c51409398548d75c2ae1dfc",
       "version_major": 2,
       "version_minor": 0
      },
      "text/plain": [
       "  0%|          | 0/108 [00:00<?, ?it/s]"
      ]
     },
     "metadata": {},
     "output_type": "display_data"
    },
    {
     "name": "stdout",
     "output_type": "stream",
     "text": [
      "Train loss: 0.6398, Train acc: 0.7778, Time: 16s\n",
      "Valid loss: 3.9174, Valid acc: 0.1852, Valid F1: 0.0947\n",
      "\n",
      "Epoch 34/50\n",
      "----------\n"
     ]
    },
    {
     "data": {
      "application/vnd.jupyter.widget-view+json": {
       "model_id": "229c29f52171481c9862bbdde4c35eb4",
       "version_major": 2,
       "version_minor": 0
      },
      "text/plain": [
       "  0%|          | 0/108 [00:00<?, ?it/s]"
      ]
     },
     "metadata": {},
     "output_type": "display_data"
    },
    {
     "name": "stdout",
     "output_type": "stream",
     "text": [
      "Train loss: 0.5920, Train acc: 0.7963, Time: 16s\n",
      "Valid loss: 3.5632, Valid acc: 0.3519, Valid F1: 0.1141\n",
      "\n",
      "Epoch 35/50\n",
      "----------\n"
     ]
    },
    {
     "data": {
      "application/vnd.jupyter.widget-view+json": {
       "model_id": "91507233bdec4d8aa45ccc23d0d724de",
       "version_major": 2,
       "version_minor": 0
      },
      "text/plain": [
       "  0%|          | 0/108 [00:00<?, ?it/s]"
      ]
     },
     "metadata": {},
     "output_type": "display_data"
    },
    {
     "name": "stdout",
     "output_type": "stream",
     "text": [
      "Train loss: 0.5798, Train acc: 0.8148, Time: 17s\n",
      "Valid loss: 3.9267, Valid acc: 0.2222, Valid F1: 0.0898\n",
      "\n",
      "Epoch 36/50\n",
      "----------\n"
     ]
    },
    {
     "data": {
      "application/vnd.jupyter.widget-view+json": {
       "model_id": "1d51413120cd41a08617cb3822c90d4d",
       "version_major": 2,
       "version_minor": 0
      },
      "text/plain": [
       "  0%|          | 0/108 [00:00<?, ?it/s]"
      ]
     },
     "metadata": {},
     "output_type": "display_data"
    },
    {
     "name": "stdout",
     "output_type": "stream",
     "text": [
      "Train loss: 0.5947, Train acc: 0.7963, Time: 16s\n",
      "Valid loss: 3.8625, Valid acc: 0.3148, Valid F1: 0.1375\n",
      "\n",
      "Epoch 37/50\n",
      "----------\n"
     ]
    },
    {
     "data": {
      "application/vnd.jupyter.widget-view+json": {
       "model_id": "b0c481ec6c4745a4890f1be5538e58d7",
       "version_major": 2,
       "version_minor": 0
      },
      "text/plain": [
       "  0%|          | 0/108 [00:00<?, ?it/s]"
      ]
     },
     "metadata": {},
     "output_type": "display_data"
    },
    {
     "name": "stdout",
     "output_type": "stream",
     "text": [
      "Train loss: 0.6431, Train acc: 0.7685, Time: 16s\n",
      "Valid loss: 3.3314, Valid acc: 0.2963, Valid F1: 0.1173\n",
      "\n",
      "Epoch 38/50\n",
      "----------\n"
     ]
    },
    {
     "data": {
      "application/vnd.jupyter.widget-view+json": {
       "model_id": "4c803909e9e4473d80b8b57b21e1a57c",
       "version_major": 2,
       "version_minor": 0
      },
      "text/plain": [
       "  0%|          | 0/108 [00:00<?, ?it/s]"
      ]
     },
     "metadata": {},
     "output_type": "display_data"
    },
    {
     "name": "stdout",
     "output_type": "stream",
     "text": [
      "Train loss: 0.4587, Train acc: 0.8241, Time: 16s\n",
      "Valid loss: 3.6977, Valid acc: 0.3519, Valid F1: 0.1434\n",
      "\n",
      "Epoch 39/50\n",
      "----------\n"
     ]
    },
    {
     "data": {
      "application/vnd.jupyter.widget-view+json": {
       "model_id": "b3e7d725ddea493bb89fae4f311e1bcf",
       "version_major": 2,
       "version_minor": 0
      },
      "text/plain": [
       "  0%|          | 0/108 [00:00<?, ?it/s]"
      ]
     },
     "metadata": {},
     "output_type": "display_data"
    },
    {
     "name": "stdout",
     "output_type": "stream",
     "text": [
      "Train loss: 0.5762, Train acc: 0.7778, Time: 16s\n",
      "Valid loss: 3.5398, Valid acc: 0.3333, Valid F1: 0.1175\n",
      "\n",
      "Epoch 40/50\n",
      "----------\n"
     ]
    },
    {
     "data": {
      "application/vnd.jupyter.widget-view+json": {
       "model_id": "563760b7d83d47f39ecbf1bdeabe7436",
       "version_major": 2,
       "version_minor": 0
      },
      "text/plain": [
       "  0%|          | 0/108 [00:00<?, ?it/s]"
      ]
     },
     "metadata": {},
     "output_type": "display_data"
    },
    {
     "name": "stdout",
     "output_type": "stream",
     "text": [
      "Train loss: 0.5318, Train acc: 0.8056, Time: 16s\n",
      "Valid loss: 4.1131, Valid acc: 0.3519, Valid F1: 0.0922\n",
      "\n",
      "Epoch 41/50\n",
      "----------\n"
     ]
    },
    {
     "data": {
      "application/vnd.jupyter.widget-view+json": {
       "model_id": "03a047b5096e4169b55ce51a146bad12",
       "version_major": 2,
       "version_minor": 0
      },
      "text/plain": [
       "  0%|          | 0/108 [00:00<?, ?it/s]"
      ]
     },
     "metadata": {},
     "output_type": "display_data"
    },
    {
     "name": "stdout",
     "output_type": "stream",
     "text": [
      "Train loss: 0.4833, Train acc: 0.8148, Time: 16s\n",
      "Valid loss: 3.7244, Valid acc: 0.3519, Valid F1: 0.1133\n",
      "\n",
      "Epoch 42/50\n",
      "----------\n"
     ]
    },
    {
     "data": {
      "application/vnd.jupyter.widget-view+json": {
       "model_id": "430a84a8b3fa4edbabcdf39f90e75bb2",
       "version_major": 2,
       "version_minor": 0
      },
      "text/plain": [
       "  0%|          | 0/108 [00:00<?, ?it/s]"
      ]
     },
     "metadata": {},
     "output_type": "display_data"
    },
    {
     "name": "stdout",
     "output_type": "stream",
     "text": [
      "Train loss: 0.6093, Train acc: 0.7778, Time: 16s\n",
      "Valid loss: 3.0689, Valid acc: 0.2593, Valid F1: 0.1062\n",
      "\n",
      "Epoch 43/50\n",
      "----------\n"
     ]
    },
    {
     "data": {
      "application/vnd.jupyter.widget-view+json": {
       "model_id": "107a3003507f4dafb4ded4650dab9233",
       "version_major": 2,
       "version_minor": 0
      },
      "text/plain": [
       "  0%|          | 0/108 [00:00<?, ?it/s]"
      ]
     },
     "metadata": {},
     "output_type": "display_data"
    },
    {
     "name": "stdout",
     "output_type": "stream",
     "text": [
      "Train loss: 0.4440, Train acc: 0.8333, Time: 16s\n",
      "Valid loss: 3.8038, Valid acc: 0.3333, Valid F1: 0.1354\n",
      "\n",
      "Epoch 44/50\n",
      "----------\n"
     ]
    },
    {
     "data": {
      "application/vnd.jupyter.widget-view+json": {
       "model_id": "3a534bb29c62478fa652b7957f3795c2",
       "version_major": 2,
       "version_minor": 0
      },
      "text/plain": [
       "  0%|          | 0/108 [00:00<?, ?it/s]"
      ]
     },
     "metadata": {},
     "output_type": "display_data"
    },
    {
     "name": "stdout",
     "output_type": "stream",
     "text": [
      "Train loss: 0.5444, Train acc: 0.7870, Time: 16s\n",
      "Valid loss: 3.9149, Valid acc: 0.3148, Valid F1: 0.2270\n",
      "\n",
      "Epoch 45/50\n",
      "----------\n"
     ]
    },
    {
     "data": {
      "application/vnd.jupyter.widget-view+json": {
       "model_id": "cf33037ebe214d0d9d9a227d659645f1",
       "version_major": 2,
       "version_minor": 0
      },
      "text/plain": [
       "  0%|          | 0/108 [00:00<?, ?it/s]"
      ]
     },
     "metadata": {},
     "output_type": "display_data"
    },
    {
     "name": "stdout",
     "output_type": "stream",
     "text": [
      "Train loss: 0.3983, Train acc: 0.8796, Time: 16s\n",
      "Valid loss: 3.7917, Valid acc: 0.2593, Valid F1: 0.1022\n",
      "\n",
      "Epoch 46/50\n",
      "----------\n"
     ]
    },
    {
     "data": {
      "application/vnd.jupyter.widget-view+json": {
       "model_id": "87decea885e441eba6dbc7bd7efc425e",
       "version_major": 2,
       "version_minor": 0
      },
      "text/plain": [
       "  0%|          | 0/108 [00:00<?, ?it/s]"
      ]
     },
     "metadata": {},
     "output_type": "display_data"
    },
    {
     "name": "stdout",
     "output_type": "stream",
     "text": [
      "Train loss: 0.7194, Train acc: 0.7315, Time: 16s\n",
      "Valid loss: 2.3717, Valid acc: 0.2222, Valid F1: 0.0825\n",
      "\n",
      "Epoch 47/50\n",
      "----------\n"
     ]
    },
    {
     "data": {
      "application/vnd.jupyter.widget-view+json": {
       "model_id": "f548261c34b84a99b8224b299726c8c5",
       "version_major": 2,
       "version_minor": 0
      },
      "text/plain": [
       "  0%|          | 0/108 [00:00<?, ?it/s]"
      ]
     },
     "metadata": {},
     "output_type": "display_data"
    },
    {
     "name": "stdout",
     "output_type": "stream",
     "text": [
      "Train loss: 0.6284, Train acc: 0.7963, Time: 16s\n",
      "Valid loss: 3.1151, Valid acc: 0.3333, Valid F1: 0.1006\n",
      "\n",
      "Epoch 48/50\n",
      "----------\n"
     ]
    },
    {
     "data": {
      "application/vnd.jupyter.widget-view+json": {
       "model_id": "58d20f512f74470a881f51b055d03b29",
       "version_major": 2,
       "version_minor": 0
      },
      "text/plain": [
       "  0%|          | 0/108 [00:00<?, ?it/s]"
      ]
     },
     "metadata": {},
     "output_type": "display_data"
    },
    {
     "name": "stdout",
     "output_type": "stream",
     "text": [
      "Train loss: 0.5440, Train acc: 0.8148, Time: 16s\n",
      "Valid loss: 3.1045, Valid acc: 0.2963, Valid F1: 0.1295\n",
      "\n",
      "Epoch 49/50\n",
      "----------\n"
     ]
    },
    {
     "data": {
      "application/vnd.jupyter.widget-view+json": {
       "model_id": "a14bcc3353fd45d6b9ecd545443c29ed",
       "version_major": 2,
       "version_minor": 0
      },
      "text/plain": [
       "  0%|          | 0/108 [00:00<?, ?it/s]"
      ]
     },
     "metadata": {},
     "output_type": "display_data"
    },
    {
     "name": "stdout",
     "output_type": "stream",
     "text": [
      "Train loss: 0.4626, Train acc: 0.8056, Time: 16s\n",
      "Valid loss: 3.3973, Valid acc: 0.3333, Valid F1: 0.1197\n",
      "\n",
      "Epoch 50/50\n",
      "----------\n"
     ]
    },
    {
     "data": {
      "application/vnd.jupyter.widget-view+json": {
       "model_id": "cec486fcbf8c4cc6a8403ce6ed6c3c1d",
       "version_major": 2,
       "version_minor": 0
      },
      "text/plain": [
       "  0%|          | 0/108 [00:00<?, ?it/s]"
      ]
     },
     "metadata": {},
     "output_type": "display_data"
    },
    {
     "name": "stdout",
     "output_type": "stream",
     "text": [
      "Train loss: 0.2668, Train acc: 0.9167, Time: 16s\n",
      "Valid loss: 3.6608, Valid acc: 0.3333, Valid F1: 0.0958\n",
      "\n",
      "Training complete\n",
      "Best ACC: 0.4259 at epoch 0\n",
      "Best F1: 0.2276 at epoch 19\n"
     ]
    }
   ],
   "source": [
    "train_loss, valid_loss, train_acc, valid_acc, valid_f1 = run(train_loader, valid_loader, model,\n",
    "                                                             num_classes_t, epochs=epochs,\n",
    "                                                             save_path=save_path/'t')"
   ]
  },
  {
   "cell_type": "code",
   "execution_count": 31,
   "metadata": {},
   "outputs": [
    {
     "data": {
      "image/png": "[encoded data removed]",
      "text/plain": [
       "<Figure size 640x480 with 1 Axes>"
      ]
     },
     "metadata": {},
     "output_type": "display_data"
    }
   ],
   "source": [
    "plot_loss(train_loss, valid_loss)"
   ]
  },
  {
   "cell_type": "code",
   "execution_count": 32,
   "metadata": {},
   "outputs": [
    {
     "data": {
      "image/png": "[encoded data removed]",
      "text/plain": [
       "<Figure size 640x480 with 1 Axes>"
      ]
     },
     "metadata": {},
     "output_type": "display_data"
    }
   ],
   "source": [
    "plot_metrics(train_acc, valid_acc, valid_f1)"
   ]
  },
  {
   "cell_type": "code",
   "execution_count": 33,
   "metadata": {},
   "outputs": [
    {
     "name": "stdout",
     "output_type": "stream",
     "text": [
      "accuracy: 0.42592592592592593, f1 score: 0.2276203328834908\n"
     ]
    }
   ],
   "source": [
    "print(f'accuracy: {max(valid_acc)}, f1 score: {max(valid_f1)}')"
   ]
  },
  {
   "cell_type": "markdown",
   "metadata": {},
   "source": [
    "## N分類モデル"
   ]
  },
  {
   "cell_type": "code",
   "execution_count": 34,
   "metadata": {},
   "outputs": [],
   "source": [
    "batch_size=1\n",
    "epochs=50\n",
    "learning_rate=1e-5\n",
    "momentum=0.9"
   ]
  },
  {
   "cell_type": "code",
   "execution_count": 35,
   "metadata": {},
   "outputs": [],
   "source": [
    "train_data = []\n",
    "valid_data = []\n",
    "for x, y in zip(X_train, Yn_train):\n",
    "    data = [x, y]\n",
    "    train_data.append(data)\n",
    "for x, y in zip(X_valid, Yn_valid):\n",
    "    data = [x, y]\n",
    "    valid_data.append(data)\n",
    "    \n",
    "train_loader, valid_loader = build_data(train_data, valid_data, batch_size=batch_size)"
   ]
  },
  {
   "cell_type": "code",
   "execution_count": 36,
   "metadata": {},
   "outputs": [],
   "source": [
    "config = BertConfig.from_json_file(model_path / 'bert_config.json')\n",
    "bert = BertModel.from_pretrained(model_path / 'UTH_BERT.bin', config=config)\n",
    "model = Net(bert, num_classes_n).to(device)\n",
    "\n",
    "FREEZE=False\n",
    "if FREEZE: \n",
    "    idx=1 #Any\n",
    "    for name, param in model.named_parameters(): \n",
    "        param.requires_grad = False \n",
    "    for name, param in list(model.named_parameters())[idx:]: \n",
    "        param.requires_grad = True \n",
    "#     optimizer = optim.SGD([{'params':list(model.parameters())[idx:], 'lr':learning_rate, 'momentum':momentum}])\n",
    "    optimizer = optim.Adam([{'params':list(model.parameters())[idx:], 'lr':learning_rate}]) \n",
    "    criterion = nn.CrossEntropyLoss()\n",
    "else:  \n",
    "#     optimizer = optim.SGD(model.parameters(), lr=learning_rate, momentum=momentum)\n",
    "    optimizer = optim.Adam(model.parameters(), lr=learning_rate)\n",
    "    criterion = nn.CrossEntropyLoss()\n",
    "\n",
    "scheduler = StepLR(optimizer, step_size=3, gamma=0.1)"
   ]
  },
  {
   "cell_type": "code",
   "execution_count": 37,
   "metadata": {},
   "outputs": [
    {
     "name": "stdout",
     "output_type": "stream",
     "text": [
      "\n",
      "Epoch 1/50\n",
      "----------\n"
     ]
    },
    {
     "data": {
      "application/vnd.jupyter.widget-view+json": {
       "model_id": "8717834a60dc475faaadf5d1a2c1c2ea",
       "version_major": 2,
       "version_minor": 0
      },
      "text/plain": [
       "  0%|          | 0/108 [00:00<?, ?it/s]"
      ]
     },
     "metadata": {},
     "output_type": "display_data"
    },
    {
     "name": "stdout",
     "output_type": "stream",
     "text": [
      "Train loss: 1.2632, Train acc: 0.3889, Time: 17s\n",
      "Valid loss: 1.1350, Valid acc: 0.3889, Valid F1: 0.1555\n",
      "\n",
      "Epoch 2/50\n",
      "----------\n"
     ]
    },
    {
     "data": {
      "application/vnd.jupyter.widget-view+json": {
       "model_id": "3f53f9e81e974e71b97407c193c94114",
       "version_major": 2,
       "version_minor": 0
      },
      "text/plain": [
       "  0%|          | 0/108 [00:00<?, ?it/s]"
      ]
     },
     "metadata": {},
     "output_type": "display_data"
    },
    {
     "name": "stdout",
     "output_type": "stream",
     "text": [
      "Train loss: 1.1405, Train acc: 0.5093, Time: 16s\n",
      "Valid loss: 1.0752, Valid acc: 0.4815, Valid F1: 0.2408\n",
      "\n",
      "Epoch 3/50\n",
      "----------\n"
     ]
    },
    {
     "data": {
      "application/vnd.jupyter.widget-view+json": {
       "model_id": "e797bb6a0ca242d9a53801ff171fc44b",
       "version_major": 2,
       "version_minor": 0
      },
      "text/plain": [
       "  0%|          | 0/108 [00:00<?, ?it/s]"
      ]
     },
     "metadata": {},
     "output_type": "display_data"
    },
    {
     "name": "stdout",
     "output_type": "stream",
     "text": [
      "Train loss: 0.8821, Train acc: 0.6667, Time: 17s\n",
      "Valid loss: 0.6819, Valid acc: 0.7593, Valid F1: 0.4082\n",
      "\n",
      "Epoch 4/50\n",
      "----------\n"
     ]
    },
    {
     "data": {
      "application/vnd.jupyter.widget-view+json": {
       "model_id": "a05ba8dbd59f43ccb145a2fcf09412ee",
       "version_major": 2,
       "version_minor": 0
      },
      "text/plain": [
       "  0%|          | 0/108 [00:00<?, ?it/s]"
      ]
     },
     "metadata": {},
     "output_type": "display_data"
    },
    {
     "name": "stdout",
     "output_type": "stream",
     "text": [
      "Train loss: 0.8998, Train acc: 0.6481, Time: 17s\n",
      "Valid loss: 1.0405, Valid acc: 0.6111, Valid F1: 0.3306\n",
      "\n",
      "Epoch 5/50\n",
      "----------\n"
     ]
    },
    {
     "data": {
      "application/vnd.jupyter.widget-view+json": {
       "model_id": "26f96e17165640ba83daf0d0ee8e1767",
       "version_major": 2,
       "version_minor": 0
      },
      "text/plain": [
       "  0%|          | 0/108 [00:00<?, ?it/s]"
      ]
     },
     "metadata": {},
     "output_type": "display_data"
    },
    {
     "name": "stdout",
     "output_type": "stream",
     "text": [
      "Train loss: 0.7436, Train acc: 0.7315, Time: 17s\n",
      "Valid loss: 0.6853, Valid acc: 0.7963, Valid F1: 0.4300\n",
      "\n",
      "Epoch 6/50\n",
      "----------\n"
     ]
    },
    {
     "data": {
      "application/vnd.jupyter.widget-view+json": {
       "model_id": "831622c133ab42178edf5dc9f76f652f",
       "version_major": 2,
       "version_minor": 0
      },
      "text/plain": [
       "  0%|          | 0/108 [00:00<?, ?it/s]"
      ]
     },
     "metadata": {},
     "output_type": "display_data"
    },
    {
     "name": "stdout",
     "output_type": "stream",
     "text": [
      "Train loss: 0.8054, Train acc: 0.6944, Time: 17s\n",
      "Valid loss: 0.9941, Valid acc: 0.5556, Valid F1: 0.3044\n",
      "\n",
      "Epoch 7/50\n",
      "----------\n"
     ]
    },
    {
     "data": {
      "application/vnd.jupyter.widget-view+json": {
       "model_id": "81a878c5ec0048579b0c1d5c976525e9",
       "version_major": 2,
       "version_minor": 0
      },
      "text/plain": [
       "  0%|          | 0/108 [00:00<?, ?it/s]"
      ]
     },
     "metadata": {},
     "output_type": "display_data"
    },
    {
     "name": "stdout",
     "output_type": "stream",
     "text": [
      "Train loss: 0.6675, Train acc: 0.7222, Time: 17s\n",
      "Valid loss: 1.1740, Valid acc: 0.4815, Valid F1: 0.3462\n",
      "\n",
      "Epoch 8/50\n",
      "----------\n"
     ]
    },
    {
     "data": {
      "application/vnd.jupyter.widget-view+json": {
       "model_id": "0a0efe176493414b846adf6105ac5397",
       "version_major": 2,
       "version_minor": 0
      },
      "text/plain": [
       "  0%|          | 0/108 [00:00<?, ?it/s]"
      ]
     },
     "metadata": {},
     "output_type": "display_data"
    },
    {
     "name": "stdout",
     "output_type": "stream",
     "text": [
      "Train loss: 0.6391, Train acc: 0.7315, Time: 18s\n",
      "Valid loss: 1.4158, Valid acc: 0.4630, Valid F1: 0.3722\n",
      "\n",
      "Epoch 9/50\n",
      "----------\n"
     ]
    },
    {
     "data": {
      "application/vnd.jupyter.widget-view+json": {
       "model_id": "37921715fac4431496b3af649635c635",
       "version_major": 2,
       "version_minor": 0
      },
      "text/plain": [
       "  0%|          | 0/108 [00:00<?, ?it/s]"
      ]
     },
     "metadata": {},
     "output_type": "display_data"
    },
    {
     "name": "stdout",
     "output_type": "stream",
     "text": [
      "Train loss: 0.5189, Train acc: 0.8148, Time: 17s\n",
      "Valid loss: 0.7896, Valid acc: 0.7593, Valid F1: 0.4192\n",
      "\n",
      "Epoch 10/50\n",
      "----------\n"
     ]
    },
    {
     "data": {
      "application/vnd.jupyter.widget-view+json": {
       "model_id": "35f30cf1653f48bab8fa786acae4b052",
       "version_major": 2,
       "version_minor": 0
      },
      "text/plain": [
       "  0%|          | 0/108 [00:00<?, ?it/s]"
      ]
     },
     "metadata": {},
     "output_type": "display_data"
    },
    {
     "name": "stdout",
     "output_type": "stream",
     "text": [
      "Train loss: 0.8096, Train acc: 0.6574, Time: 17s\n",
      "Valid loss: 1.0057, Valid acc: 0.6296, Valid F1: 0.3417\n",
      "\n",
      "Epoch 11/50\n",
      "----------\n"
     ]
    },
    {
     "data": {
      "application/vnd.jupyter.widget-view+json": {
       "model_id": "ee0d7c17810940218619cb3235e9bb84",
       "version_major": 2,
       "version_minor": 0
      },
      "text/plain": [
       "  0%|          | 0/108 [00:00<?, ?it/s]"
      ]
     },
     "metadata": {},
     "output_type": "display_data"
    },
    {
     "name": "stdout",
     "output_type": "stream",
     "text": [
      "Train loss: 0.7007, Train acc: 0.7407, Time: 18s\n",
      "Valid loss: 0.8303, Valid acc: 0.7593, Valid F1: 0.4087\n",
      "\n",
      "Epoch 12/50\n",
      "----------\n"
     ]
    },
    {
     "data": {
      "application/vnd.jupyter.widget-view+json": {
       "model_id": "83888e0b42d047259d59ac670967527d",
       "version_major": 2,
       "version_minor": 0
      },
      "text/plain": [
       "  0%|          | 0/108 [00:00<?, ?it/s]"
      ]
     },
     "metadata": {},
     "output_type": "display_data"
    },
    {
     "name": "stdout",
     "output_type": "stream",
     "text": [
      "Train loss: 0.5979, Train acc: 0.7870, Time: 17s\n",
      "Valid loss: 0.8465, Valid acc: 0.7593, Valid F1: 0.4154\n",
      "\n",
      "Epoch 13/50\n",
      "----------\n"
     ]
    },
    {
     "data": {
      "application/vnd.jupyter.widget-view+json": {
       "model_id": "45556a6908e14f1fbec12c24018877ba",
       "version_major": 2,
       "version_minor": 0
      },
      "text/plain": [
       "  0%|          | 0/108 [00:00<?, ?it/s]"
      ]
     },
     "metadata": {},
     "output_type": "display_data"
    },
    {
     "name": "stdout",
     "output_type": "stream",
     "text": [
      "Train loss: 0.5446, Train acc: 0.8148, Time: 17s\n",
      "Valid loss: 0.8137, Valid acc: 0.7778, Valid F1: 0.4179\n",
      "\n",
      "Epoch 14/50\n",
      "----------\n"
     ]
    },
    {
     "data": {
      "application/vnd.jupyter.widget-view+json": {
       "model_id": "a9804b2ea67c4be692230a0cdc8921ae",
       "version_major": 2,
       "version_minor": 0
      },
      "text/plain": [
       "  0%|          | 0/108 [00:00<?, ?it/s]"
      ]
     },
     "metadata": {},
     "output_type": "display_data"
    },
    {
     "name": "stdout",
     "output_type": "stream",
     "text": [
      "Train loss: 0.4350, Train acc: 0.8426, Time: 17s\n",
      "Valid loss: 0.7356, Valid acc: 0.7407, Valid F1: 0.4120\n",
      "\n",
      "Epoch 15/50\n",
      "----------\n"
     ]
    },
    {
     "data": {
      "application/vnd.jupyter.widget-view+json": {
       "model_id": "f9c4bbcbb85f46bfbebc17e699914fdc",
       "version_major": 2,
       "version_minor": 0
      },
      "text/plain": [
       "  0%|          | 0/108 [00:00<?, ?it/s]"
      ]
     },
     "metadata": {},
     "output_type": "display_data"
    },
    {
     "name": "stdout",
     "output_type": "stream",
     "text": [
      "Train loss: 0.6167, Train acc: 0.7870, Time: 17s\n",
      "Valid loss: 1.3378, Valid acc: 0.3889, Valid F1: 0.1555\n",
      "\n",
      "Epoch 16/50\n",
      "----------\n"
     ]
    },
    {
     "data": {
      "application/vnd.jupyter.widget-view+json": {
       "model_id": "bc3414277e594b6ab4d5897f7cda6fc7",
       "version_major": 2,
       "version_minor": 0
      },
      "text/plain": [
       "  0%|          | 0/108 [00:00<?, ?it/s]"
      ]
     },
     "metadata": {},
     "output_type": "display_data"
    },
    {
     "name": "stdout",
     "output_type": "stream",
     "text": [
      "Train loss: 0.4790, Train acc: 0.8241, Time: 17s\n",
      "Valid loss: 0.9075, Valid acc: 0.7407, Valid F1: 0.4097\n",
      "\n",
      "Epoch 17/50\n",
      "----------\n"
     ]
    },
    {
     "data": {
      "application/vnd.jupyter.widget-view+json": {
       "model_id": "83e0c074390d41208b3e2b27805c0490",
       "version_major": 2,
       "version_minor": 0
      },
      "text/plain": [
       "  0%|          | 0/108 [00:00<?, ?it/s]"
      ]
     },
     "metadata": {},
     "output_type": "display_data"
    },
    {
     "name": "stdout",
     "output_type": "stream",
     "text": [
      "Train loss: 0.4900, Train acc: 0.8056, Time: 17s\n",
      "Valid loss: 0.8724, Valid acc: 0.7407, Valid F1: 0.4173\n",
      "\n",
      "Epoch 18/50\n",
      "----------\n"
     ]
    },
    {
     "data": {
      "application/vnd.jupyter.widget-view+json": {
       "model_id": "781b58dfa71f435eb51c0e905bd5a6a9",
       "version_major": 2,
       "version_minor": 0
      },
      "text/plain": [
       "  0%|          | 0/108 [00:00<?, ?it/s]"
      ]
     },
     "metadata": {},
     "output_type": "display_data"
    },
    {
     "name": "stdout",
     "output_type": "stream",
     "text": [
      "Train loss: 0.4943, Train acc: 0.8056, Time: 17s\n",
      "Valid loss: 0.8619, Valid acc: 0.6111, Valid F1: 0.4545\n",
      "\n",
      "Epoch 19/50\n",
      "----------\n"
     ]
    },
    {
     "data": {
      "application/vnd.jupyter.widget-view+json": {
       "model_id": "1b5036533b084946b3c485f06c1b57e0",
       "version_major": 2,
       "version_minor": 0
      },
      "text/plain": [
       "  0%|          | 0/108 [00:00<?, ?it/s]"
      ]
     },
     "metadata": {},
     "output_type": "display_data"
    },
    {
     "name": "stdout",
     "output_type": "stream",
     "text": [
      "Train loss: 0.4666, Train acc: 0.8241, Time: 17s\n",
      "Valid loss: 0.7166, Valid acc: 0.7037, Valid F1: 0.4477\n",
      "\n",
      "Epoch 20/50\n",
      "----------\n"
     ]
    },
    {
     "data": {
      "application/vnd.jupyter.widget-view+json": {
       "model_id": "f4b97e2b541f4acba18813e0ba4b6307",
       "version_major": 2,
       "version_minor": 0
      },
      "text/plain": [
       "  0%|          | 0/108 [00:00<?, ?it/s]"
      ]
     },
     "metadata": {},
     "output_type": "display_data"
    },
    {
     "name": "stdout",
     "output_type": "stream",
     "text": [
      "Train loss: 0.4269, Train acc: 0.8704, Time: 16s\n",
      "Valid loss: 0.7988, Valid acc: 0.7963, Valid F1: 0.4374\n",
      "\n",
      "Epoch 21/50\n",
      "----------\n"
     ]
    },
    {
     "data": {
      "application/vnd.jupyter.widget-view+json": {
       "model_id": "793c23edae8d477ea3fc426381451305",
       "version_major": 2,
       "version_minor": 0
      },
      "text/plain": [
       "  0%|          | 0/108 [00:00<?, ?it/s]"
      ]
     },
     "metadata": {},
     "output_type": "display_data"
    },
    {
     "name": "stdout",
     "output_type": "stream",
     "text": [
      "Train loss: 0.4399, Train acc: 0.8611, Time: 16s\n",
      "Valid loss: 0.7783, Valid acc: 0.7407, Valid F1: 0.4128\n",
      "\n",
      "Epoch 22/50\n",
      "----------\n"
     ]
    },
    {
     "data": {
      "application/vnd.jupyter.widget-view+json": {
       "model_id": "67ffd644b3244a129aa639b1883f31ef",
       "version_major": 2,
       "version_minor": 0
      },
      "text/plain": [
       "  0%|          | 0/108 [00:00<?, ?it/s]"
      ]
     },
     "metadata": {},
     "output_type": "display_data"
    },
    {
     "name": "stdout",
     "output_type": "stream",
     "text": [
      "Train loss: 0.5528, Train acc: 0.8241, Time: 17s\n",
      "Valid loss: 0.7363, Valid acc: 0.7222, Valid F1: 0.4093\n",
      "\n",
      "Epoch 23/50\n",
      "----------\n"
     ]
    },
    {
     "data": {
      "application/vnd.jupyter.widget-view+json": {
       "model_id": "b946ce72d2ab476999cf04f2ff7df584",
       "version_major": 2,
       "version_minor": 0
      },
      "text/plain": [
       "  0%|          | 0/108 [00:00<?, ?it/s]"
      ]
     },
     "metadata": {},
     "output_type": "display_data"
    },
    {
     "name": "stdout",
     "output_type": "stream",
     "text": [
      "Train loss: 0.3484, Train acc: 0.8704, Time: 16s\n",
      "Valid loss: 0.7977, Valid acc: 0.6852, Valid F1: 0.4063\n",
      "\n",
      "Epoch 24/50\n",
      "----------\n"
     ]
    },
    {
     "data": {
      "application/vnd.jupyter.widget-view+json": {
       "model_id": "d9a8a963e65d4c5492f0c5ef95df876c",
       "version_major": 2,
       "version_minor": 0
      },
      "text/plain": [
       "  0%|          | 0/108 [00:00<?, ?it/s]"
      ]
     },
     "metadata": {},
     "output_type": "display_data"
    },
    {
     "name": "stdout",
     "output_type": "stream",
     "text": [
      "Train loss: 0.5161, Train acc: 0.8333, Time: 17s\n",
      "Valid loss: 0.8957, Valid acc: 0.7407, Valid F1: 0.4109\n",
      "\n",
      "Epoch 25/50\n",
      "----------\n"
     ]
    },
    {
     "data": {
      "application/vnd.jupyter.widget-view+json": {
       "model_id": "343184f7944a4de49f57f2040837ab71",
       "version_major": 2,
       "version_minor": 0
      },
      "text/plain": [
       "  0%|          | 0/108 [00:00<?, ?it/s]"
      ]
     },
     "metadata": {},
     "output_type": "display_data"
    },
    {
     "name": "stdout",
     "output_type": "stream",
     "text": [
      "Train loss: 0.4363, Train acc: 0.8426, Time: 17s\n",
      "Valid loss: 0.9622, Valid acc: 0.7037, Valid F1: 0.3928\n",
      "\n",
      "Epoch 26/50\n",
      "----------\n"
     ]
    },
    {
     "data": {
      "application/vnd.jupyter.widget-view+json": {
       "model_id": "4a9d857e275d4a81a0f178d54ec766d5",
       "version_major": 2,
       "version_minor": 0
      },
      "text/plain": [
       "  0%|          | 0/108 [00:00<?, ?it/s]"
      ]
     },
     "metadata": {},
     "output_type": "display_data"
    },
    {
     "name": "stdout",
     "output_type": "stream",
     "text": [
      "Train loss: 0.2983, Train acc: 0.8611, Time: 17s\n",
      "Valid loss: 1.0434, Valid acc: 0.8148, Valid F1: 0.4394\n",
      "\n",
      "Epoch 27/50\n",
      "----------\n"
     ]
    },
    {
     "data": {
      "application/vnd.jupyter.widget-view+json": {
       "model_id": "b446dc9107dc402c819f2a90ab53273a",
       "version_major": 2,
       "version_minor": 0
      },
      "text/plain": [
       "  0%|          | 0/108 [00:00<?, ?it/s]"
      ]
     },
     "metadata": {},
     "output_type": "display_data"
    },
    {
     "name": "stdout",
     "output_type": "stream",
     "text": [
      "Train loss: 0.7368, Train acc: 0.7500, Time: 17s\n",
      "Valid loss: 0.8441, Valid acc: 0.5741, Valid F1: 0.3650\n",
      "\n",
      "Epoch 28/50\n",
      "----------\n"
     ]
    },
    {
     "data": {
      "application/vnd.jupyter.widget-view+json": {
       "model_id": "05007bc0c34d48568a99864e5258d68d",
       "version_major": 2,
       "version_minor": 0
      },
      "text/plain": [
       "  0%|          | 0/108 [00:00<?, ?it/s]"
      ]
     },
     "metadata": {},
     "output_type": "display_data"
    },
    {
     "name": "stdout",
     "output_type": "stream",
     "text": [
      "Train loss: 0.4557, Train acc: 0.8426, Time: 17s\n",
      "Valid loss: 0.8157, Valid acc: 0.7593, Valid F1: 0.4145\n",
      "\n",
      "Epoch 29/50\n",
      "----------\n"
     ]
    },
    {
     "data": {
      "application/vnd.jupyter.widget-view+json": {
       "model_id": "255c1aee8b594e94b866ff3c64e4189f",
       "version_major": 2,
       "version_minor": 0
      },
      "text/plain": [
       "  0%|          | 0/108 [00:00<?, ?it/s]"
      ]
     },
     "metadata": {},
     "output_type": "display_data"
    },
    {
     "name": "stdout",
     "output_type": "stream",
     "text": [
      "Train loss: 0.3986, Train acc: 0.8241, Time: 17s\n",
      "Valid loss: 0.7833, Valid acc: 0.7593, Valid F1: 0.4242\n",
      "\n",
      "Epoch 30/50\n",
      "----------\n"
     ]
    },
    {
     "data": {
      "application/vnd.jupyter.widget-view+json": {
       "model_id": "11e5721b891642e08e7986b7611663f9",
       "version_major": 2,
       "version_minor": 0
      },
      "text/plain": [
       "  0%|          | 0/108 [00:00<?, ?it/s]"
      ]
     },
     "metadata": {},
     "output_type": "display_data"
    },
    {
     "name": "stdout",
     "output_type": "stream",
     "text": [
      "Train loss: 0.4074, Train acc: 0.8426, Time: 17s\n",
      "Valid loss: 0.8142, Valid acc: 0.7407, Valid F1: 0.4000\n",
      "\n",
      "Epoch 31/50\n",
      "----------\n"
     ]
    },
    {
     "data": {
      "application/vnd.jupyter.widget-view+json": {
       "model_id": "25bf371601004247b2eeb1c79cacf327",
       "version_major": 2,
       "version_minor": 0
      },
      "text/plain": [
       "  0%|          | 0/108 [00:00<?, ?it/s]"
      ]
     },
     "metadata": {},
     "output_type": "display_data"
    },
    {
     "name": "stdout",
     "output_type": "stream",
     "text": [
      "Train loss: 0.4295, Train acc: 0.8611, Time: 16s\n",
      "Valid loss: 0.8199, Valid acc: 0.7407, Valid F1: 0.4120\n",
      "\n",
      "Epoch 32/50\n",
      "----------\n"
     ]
    },
    {
     "data": {
      "application/vnd.jupyter.widget-view+json": {
       "model_id": "fcd91d50317c468e8f2d5db8cf838870",
       "version_major": 2,
       "version_minor": 0
      },
      "text/plain": [
       "  0%|          | 0/108 [00:00<?, ?it/s]"
      ]
     },
     "metadata": {},
     "output_type": "display_data"
    },
    {
     "name": "stdout",
     "output_type": "stream",
     "text": [
      "Train loss: 0.2676, Train acc: 0.9074, Time: 16s\n",
      "Valid loss: 0.9626, Valid acc: 0.7222, Valid F1: 0.4034\n",
      "\n",
      "Epoch 33/50\n",
      "----------\n"
     ]
    },
    {
     "data": {
      "application/vnd.jupyter.widget-view+json": {
       "model_id": "236bb028de074fe9a82dd3992d826022",
       "version_major": 2,
       "version_minor": 0
      },
      "text/plain": [
       "  0%|          | 0/108 [00:00<?, ?it/s]"
      ]
     },
     "metadata": {},
     "output_type": "display_data"
    },
    {
     "name": "stdout",
     "output_type": "stream",
     "text": [
      "Train loss: 0.2361, Train acc: 0.9259, Time: 16s\n",
      "Valid loss: 1.1131, Valid acc: 0.6296, Valid F1: 0.4129\n",
      "\n",
      "Epoch 34/50\n",
      "----------\n"
     ]
    },
    {
     "data": {
      "application/vnd.jupyter.widget-view+json": {
       "model_id": "5d809e3d7c7b42ba84b251e158fed135",
       "version_major": 2,
       "version_minor": 0
      },
      "text/plain": [
       "  0%|          | 0/108 [00:00<?, ?it/s]"
      ]
     },
     "metadata": {},
     "output_type": "display_data"
    },
    {
     "name": "stdout",
     "output_type": "stream",
     "text": [
      "Train loss: 0.4845, Train acc: 0.7963, Time: 16s\n",
      "Valid loss: 0.9344, Valid acc: 0.7593, Valid F1: 0.4175\n",
      "\n",
      "Epoch 35/50\n",
      "----------\n"
     ]
    },
    {
     "data": {
      "application/vnd.jupyter.widget-view+json": {
       "model_id": "b4c34d6f1d1b457893d993491c5113a4",
       "version_major": 2,
       "version_minor": 0
      },
      "text/plain": [
       "  0%|          | 0/108 [00:00<?, ?it/s]"
      ]
     },
     "metadata": {},
     "output_type": "display_data"
    },
    {
     "name": "stdout",
     "output_type": "stream",
     "text": [
      "Train loss: 0.2934, Train acc: 0.9074, Time: 17s\n",
      "Valid loss: 1.7582, Valid acc: 0.4815, Valid F1: 0.2908\n",
      "\n",
      "Epoch 36/50\n",
      "----------\n"
     ]
    },
    {
     "data": {
      "application/vnd.jupyter.widget-view+json": {
       "model_id": "69fc96cde50a4d1f8ca80c029e202ffe",
       "version_major": 2,
       "version_minor": 0
      },
      "text/plain": [
       "  0%|          | 0/108 [00:00<?, ?it/s]"
      ]
     },
     "metadata": {},
     "output_type": "display_data"
    },
    {
     "name": "stdout",
     "output_type": "stream",
     "text": [
      "Train loss: 0.3427, Train acc: 0.8704, Time: 17s\n",
      "Valid loss: 1.2855, Valid acc: 0.5185, Valid F1: 0.3466\n",
      "\n",
      "Epoch 37/50\n",
      "----------\n"
     ]
    },
    {
     "data": {
      "application/vnd.jupyter.widget-view+json": {
       "model_id": "12642809ef934ebf81da0a48336ccb45",
       "version_major": 2,
       "version_minor": 0
      },
      "text/plain": [
       "  0%|          | 0/108 [00:00<?, ?it/s]"
      ]
     },
     "metadata": {},
     "output_type": "display_data"
    },
    {
     "name": "stdout",
     "output_type": "stream",
     "text": [
      "Train loss: 0.1963, Train acc: 0.9074, Time: 16s\n",
      "Valid loss: 1.0774, Valid acc: 0.7037, Valid F1: 0.4023\n",
      "\n",
      "Epoch 38/50\n",
      "----------\n"
     ]
    },
    {
     "data": {
      "application/vnd.jupyter.widget-view+json": {
       "model_id": "3a058f16c4264c23a5dadd8a9c585bf2",
       "version_major": 2,
       "version_minor": 0
      },
      "text/plain": [
       "  0%|          | 0/108 [00:00<?, ?it/s]"
      ]
     },
     "metadata": {},
     "output_type": "display_data"
    },
    {
     "name": "stdout",
     "output_type": "stream",
     "text": [
      "Train loss: 0.1861, Train acc: 0.9259, Time: 17s\n",
      "Valid loss: 1.0468, Valid acc: 0.7407, Valid F1: 0.4898\n",
      "\n",
      "Epoch 39/50\n",
      "----------\n"
     ]
    },
    {
     "data": {
      "application/vnd.jupyter.widget-view+json": {
       "model_id": "7f85f31b665a42b594c78c3ffbb12c35",
       "version_major": 2,
       "version_minor": 0
      },
      "text/plain": [
       "  0%|          | 0/108 [00:00<?, ?it/s]"
      ]
     },
     "metadata": {},
     "output_type": "display_data"
    },
    {
     "name": "stdout",
     "output_type": "stream",
     "text": [
      "Train loss: 0.2156, Train acc: 0.9167, Time: 17s\n",
      "Valid loss: 1.0282, Valid acc: 0.7222, Valid F1: 0.5120\n",
      "\n",
      "Epoch 40/50\n",
      "----------\n"
     ]
    },
    {
     "data": {
      "application/vnd.jupyter.widget-view+json": {
       "model_id": "d53dc51830894a85bc9be308224aaff6",
       "version_major": 2,
       "version_minor": 0
      },
      "text/plain": [
       "  0%|          | 0/108 [00:00<?, ?it/s]"
      ]
     },
     "metadata": {},
     "output_type": "display_data"
    },
    {
     "name": "stdout",
     "output_type": "stream",
     "text": [
      "Train loss: 0.1804, Train acc: 0.9444, Time: 16s\n",
      "Valid loss: 0.9702, Valid acc: 0.7407, Valid F1: 0.5626\n",
      "\n",
      "Epoch 41/50\n",
      "----------\n"
     ]
    },
    {
     "data": {
      "application/vnd.jupyter.widget-view+json": {
       "model_id": "9c929cfa955b4d3282463e7a92dfdcd2",
       "version_major": 2,
       "version_minor": 0
      },
      "text/plain": [
       "  0%|          | 0/108 [00:00<?, ?it/s]"
      ]
     },
     "metadata": {},
     "output_type": "display_data"
    },
    {
     "name": "stdout",
     "output_type": "stream",
     "text": [
      "Train loss: 0.1861, Train acc: 0.9352, Time: 16s\n",
      "Valid loss: 0.8988, Valid acc: 0.7222, Valid F1: 0.4805\n",
      "\n",
      "Epoch 42/50\n",
      "----------\n"
     ]
    },
    {
     "data": {
      "application/vnd.jupyter.widget-view+json": {
       "model_id": "378e18f14423408eb45ea4afb52dd0bb",
       "version_major": 2,
       "version_minor": 0
      },
      "text/plain": [
       "  0%|          | 0/108 [00:00<?, ?it/s]"
      ]
     },
     "metadata": {},
     "output_type": "display_data"
    },
    {
     "name": "stdout",
     "output_type": "stream",
     "text": [
      "Train loss: 0.2041, Train acc: 0.9167, Time: 16s\n",
      "Valid loss: 1.1243, Valid acc: 0.6667, Valid F1: 0.4386\n",
      "\n",
      "Epoch 43/50\n",
      "----------\n"
     ]
    },
    {
     "data": {
      "application/vnd.jupyter.widget-view+json": {
       "model_id": "a6dfe05dd70547a182ffc14cf9f44f6f",
       "version_major": 2,
       "version_minor": 0
      },
      "text/plain": [
       "  0%|          | 0/108 [00:00<?, ?it/s]"
      ]
     },
     "metadata": {},
     "output_type": "display_data"
    },
    {
     "name": "stdout",
     "output_type": "stream",
     "text": [
      "Train loss: 0.2248, Train acc: 0.9444, Time: 16s\n",
      "Valid loss: 0.9676, Valid acc: 0.6852, Valid F1: 0.4369\n",
      "\n",
      "Epoch 44/50\n",
      "----------\n"
     ]
    },
    {
     "data": {
      "application/vnd.jupyter.widget-view+json": {
       "model_id": "d2965907dab64030964b452ae18aabf0",
       "version_major": 2,
       "version_minor": 0
      },
      "text/plain": [
       "  0%|          | 0/108 [00:00<?, ?it/s]"
      ]
     },
     "metadata": {},
     "output_type": "display_data"
    },
    {
     "name": "stdout",
     "output_type": "stream",
     "text": [
      "Train loss: 0.2078, Train acc: 0.9167, Time: 16s\n",
      "Valid loss: 0.8971, Valid acc: 0.7222, Valid F1: 0.5136\n",
      "\n",
      "Epoch 45/50\n",
      "----------\n"
     ]
    },
    {
     "data": {
      "application/vnd.jupyter.widget-view+json": {
       "model_id": "fbf5dfe59f0d4e6da41f0db22d403526",
       "version_major": 2,
       "version_minor": 0
      },
      "text/plain": [
       "  0%|          | 0/108 [00:00<?, ?it/s]"
      ]
     },
     "metadata": {},
     "output_type": "display_data"
    },
    {
     "name": "stdout",
     "output_type": "stream",
     "text": [
      "Train loss: 0.2294, Train acc: 0.9167, Time: 16s\n",
      "Valid loss: 1.7789, Valid acc: 0.5370, Valid F1: 0.3614\n",
      "\n",
      "Epoch 46/50\n",
      "----------\n"
     ]
    },
    {
     "data": {
      "application/vnd.jupyter.widget-view+json": {
       "model_id": "58c204dafc3e4788a23ffdbf41ab961e",
       "version_major": 2,
       "version_minor": 0
      },
      "text/plain": [
       "  0%|          | 0/108 [00:00<?, ?it/s]"
      ]
     },
     "metadata": {},
     "output_type": "display_data"
    },
    {
     "name": "stdout",
     "output_type": "stream",
     "text": [
      "Train loss: 0.1356, Train acc: 0.9537, Time: 16s\n",
      "Valid loss: 1.0817, Valid acc: 0.7407, Valid F1: 0.4853\n",
      "\n",
      "Epoch 47/50\n",
      "----------\n"
     ]
    },
    {
     "data": {
      "application/vnd.jupyter.widget-view+json": {
       "model_id": "14b67bc49ce049108786d84cfe79e73c",
       "version_major": 2,
       "version_minor": 0
      },
      "text/plain": [
       "  0%|          | 0/108 [00:00<?, ?it/s]"
      ]
     },
     "metadata": {},
     "output_type": "display_data"
    },
    {
     "name": "stdout",
     "output_type": "stream",
     "text": [
      "Train loss: 0.3001, Train acc: 0.8981, Time: 16s\n",
      "Valid loss: 2.0249, Valid acc: 0.5370, Valid F1: 0.2986\n",
      "\n",
      "Epoch 48/50\n",
      "----------\n"
     ]
    },
    {
     "data": {
      "application/vnd.jupyter.widget-view+json": {
       "model_id": "f03851e560204749a2def28778ccbecd",
       "version_major": 2,
       "version_minor": 0
      },
      "text/plain": [
       "  0%|          | 0/108 [00:00<?, ?it/s]"
      ]
     },
     "metadata": {},
     "output_type": "display_data"
    },
    {
     "name": "stdout",
     "output_type": "stream",
     "text": [
      "Train loss: 0.2731, Train acc: 0.8796, Time: 16s\n",
      "Valid loss: 0.9295, Valid acc: 0.7037, Valid F1: 0.4063\n",
      "\n",
      "Epoch 49/50\n",
      "----------\n"
     ]
    },
    {
     "data": {
      "application/vnd.jupyter.widget-view+json": {
       "model_id": "5a8f3ce649f643a6aeee12be230a5266",
       "version_major": 2,
       "version_minor": 0
      },
      "text/plain": [
       "  0%|          | 0/108 [00:00<?, ?it/s]"
      ]
     },
     "metadata": {},
     "output_type": "display_data"
    },
    {
     "name": "stdout",
     "output_type": "stream",
     "text": [
      "Train loss: 0.1035, Train acc: 0.9630, Time: 16s\n",
      "Valid loss: 1.0988, Valid acc: 0.7222, Valid F1: 0.4053\n",
      "\n",
      "Epoch 50/50\n",
      "----------\n"
     ]
    },
    {
     "data": {
      "application/vnd.jupyter.widget-view+json": {
       "model_id": "559b7f6a126148439961eb835641a4bf",
       "version_major": 2,
       "version_minor": 0
      },
      "text/plain": [
       "  0%|          | 0/108 [00:00<?, ?it/s]"
      ]
     },
     "metadata": {},
     "output_type": "display_data"
    },
    {
     "name": "stdout",
     "output_type": "stream",
     "text": [
      "Train loss: 0.2906, Train acc: 0.9074, Time: 16s\n",
      "Valid loss: 1.2489, Valid acc: 0.7037, Valid F1: 0.3831\n",
      "\n",
      "Training complete\n",
      "Best ACC: 0.8148 at epoch 25\n",
      "Best F1: 0.5626 at epoch 39\n"
     ]
    }
   ],
   "source": [
    "train_loss, valid_loss, train_acc, valid_acc, valid_f1 = run(train_loader, valid_loader, model,\n",
    "                                                             num_classes_n, epochs=epochs,\n",
    "                                                             save_path=save_path/'n')"
   ]
  },
  {
   "cell_type": "code",
   "execution_count": 38,
   "metadata": {},
   "outputs": [
    {
     "data": {
      "image/png": "[encoded data removed]",
      "text/plain": [
       "<Figure size 640x480 with 1 Axes>"
      ]
     },
     "metadata": {},
     "output_type": "display_data"
    }
   ],
   "source": [
    "plot_loss(train_loss, valid_loss)"
   ]
  },
  {
   "cell_type": "code",
   "execution_count": 39,
   "metadata": {},
   "outputs": [
    {
     "data": {
      "image/png": "[encoded data removed]",
      "text/plain": [
       "<Figure size 640x480 with 1 Axes>"
      ]
     },
     "metadata": {},
     "output_type": "display_data"
    }
   ],
   "source": [
    "plot_metrics(train_acc, valid_acc, valid_f1)"
   ]
  },
  {
   "cell_type": "code",
   "execution_count": 40,
   "metadata": {},
   "outputs": [
    {
     "name": "stdout",
     "output_type": "stream",
     "text": [
      "accuracy: 0.8148148148148148, f1 score: 0.5625621746674379\n"
     ]
    }
   ],
   "source": [
    "print(f'accuracy: {max(valid_acc)}, f1 score: {max(valid_f1)}')"
   ]
  },
  {
   "cell_type": "markdown",
   "metadata": {},
   "source": [
    "## M分類モデル"
   ]
  },
  {
   "cell_type": "code",
   "execution_count": 41,
   "metadata": {},
   "outputs": [],
   "source": [
    "batch_size=1\n",
    "epochs=50\n",
    "learning_rate=1e-5\n",
    "momentum=0.9"
   ]
  },
  {
   "cell_type": "code",
   "execution_count": 42,
   "metadata": {},
   "outputs": [],
   "source": [
    "train_data = []\n",
    "valid_data = []\n",
    "for x, y in zip(X_train, Ym_train):\n",
    "    data = [x, y]\n",
    "    train_data.append(data)\n",
    "for x, y in zip(X_valid, Ym_valid):\n",
    "    data = [x, y]\n",
    "    valid_data.append(data)\n",
    "    \n",
    "train_loader, valid_loader = build_data(train_data, valid_data, batch_size=batch_size)"
   ]
  },
  {
   "cell_type": "code",
   "execution_count": 43,
   "metadata": {},
   "outputs": [],
   "source": [
    "config = BertConfig.from_json_file(model_path / 'bert_config.json')\n",
    "bert = BertModel.from_pretrained(model_path / 'UTH_BERT.bin', config=config)\n",
    "model = Net(bert, num_classes_m).to(device)\n",
    "\n",
    "FREEZE=False\n",
    "if FREEZE: \n",
    "    idx=1 #Any\n",
    "    for name, param in model.named_parameters(): \n",
    "        param.requires_grad = False \n",
    "    for name, param in list(model.named_parameters())[idx:]: \n",
    "        param.requires_grad = True \n",
    "#     optimizer = optim.SGD([{'params':list(model.parameters())[idx:], 'lr':learning_rate, 'momentum':momentum}])\n",
    "    optimizer = optim.Adam([{'params':list(model.parameters())[idx:], 'lr':learning_rate}]) \n",
    "    criterion = nn.CrossEntropyLoss()\n",
    "else:  \n",
    "#     optimizer = optim.SGD(model.parameters(), lr=learning_rate, momentum=momentum)\n",
    "    optimizer = optim.Adam(model.parameters(), lr=learning_rate)\n",
    "    criterion = nn.CrossEntropyLoss()\n",
    "\n",
    "scheduler = StepLR(optimizer, step_size=3, gamma=0.1)"
   ]
  },
  {
   "cell_type": "code",
   "execution_count": 44,
   "metadata": {},
   "outputs": [
    {
     "name": "stdout",
     "output_type": "stream",
     "text": [
      "\n",
      "Epoch 1/50\n",
      "----------\n"
     ]
    },
    {
     "data": {
      "application/vnd.jupyter.widget-view+json": {
       "model_id": "abc04e027fcc4ab394600f094d24e36b",
       "version_major": 2,
       "version_minor": 0
      },
      "text/plain": [
       "  0%|          | 0/108 [00:00<?, ?it/s]"
      ]
     },
     "metadata": {},
     "output_type": "display_data"
    },
    {
     "name": "stdout",
     "output_type": "stream",
     "text": [
      "Train loss: 0.8722, Train acc: 0.6574, Time: 17s\n",
      "Valid loss: 1.9469, Valid acc: 0.5000, Valid F1: 0.2222\n",
      "\n",
      "Epoch 2/50\n",
      "----------\n"
     ]
    },
    {
     "data": {
      "application/vnd.jupyter.widget-view+json": {
       "model_id": "2cbc5ce5d3e644fe8f98e0ca348bd56f",
       "version_major": 2,
       "version_minor": 0
      },
      "text/plain": [
       "  0%|          | 0/108 [00:00<?, ?it/s]"
      ]
     },
     "metadata": {},
     "output_type": "display_data"
    },
    {
     "name": "stdout",
     "output_type": "stream",
     "text": [
      "Train loss: 0.7641, Train acc: 0.7222, Time: 17s\n",
      "Valid loss: 1.3113, Valid acc: 0.6111, Valid F1: 0.4067\n",
      "\n",
      "Epoch 3/50\n",
      "----------\n"
     ]
    },
    {
     "data": {
      "application/vnd.jupyter.widget-view+json": {
       "model_id": "17cff87f2e44458ebfbadf0e5f228f68",
       "version_major": 2,
       "version_minor": 0
      },
      "text/plain": [
       "  0%|          | 0/108 [00:00<?, ?it/s]"
      ]
     },
     "metadata": {},
     "output_type": "display_data"
    },
    {
     "name": "stdout",
     "output_type": "stream",
     "text": [
      "Train loss: 0.5853, Train acc: 0.7500, Time: 17s\n",
      "Valid loss: 1.2473, Valid acc: 0.6852, Valid F1: 0.4870\n",
      "\n",
      "Epoch 4/50\n",
      "----------\n"
     ]
    },
    {
     "data": {
      "application/vnd.jupyter.widget-view+json": {
       "model_id": "747002c08034483c811d8e7813ef1b0b",
       "version_major": 2,
       "version_minor": 0
      },
      "text/plain": [
       "  0%|          | 0/108 [00:00<?, ?it/s]"
      ]
     },
     "metadata": {},
     "output_type": "display_data"
    },
    {
     "name": "stdout",
     "output_type": "stream",
     "text": [
      "Train loss: 0.4284, Train acc: 0.8426, Time: 18s\n",
      "Valid loss: 1.4903, Valid acc: 0.7222, Valid F1: 0.5228\n",
      "\n",
      "Epoch 5/50\n",
      "----------\n"
     ]
    },
    {
     "data": {
      "application/vnd.jupyter.widget-view+json": {
       "model_id": "066d61fe701740cf848547478595fc8b",
       "version_major": 2,
       "version_minor": 0
      },
      "text/plain": [
       "  0%|          | 0/108 [00:00<?, ?it/s]"
      ]
     },
     "metadata": {},
     "output_type": "display_data"
    },
    {
     "name": "stdout",
     "output_type": "stream",
     "text": [
      "Train loss: 0.3569, Train acc: 0.8611, Time: 17s\n",
      "Valid loss: 1.5284, Valid acc: 0.7037, Valid F1: 0.3876\n",
      "\n",
      "Epoch 6/50\n",
      "----------\n"
     ]
    },
    {
     "data": {
      "application/vnd.jupyter.widget-view+json": {
       "model_id": "79f23dccb2c94d64b0dd74887aa13e79",
       "version_major": 2,
       "version_minor": 0
      },
      "text/plain": [
       "  0%|          | 0/108 [00:00<?, ?it/s]"
      ]
     },
     "metadata": {},
     "output_type": "display_data"
    },
    {
     "name": "stdout",
     "output_type": "stream",
     "text": [
      "Train loss: 0.3848, Train acc: 0.8704, Time: 17s\n",
      "Valid loss: 1.7321, Valid acc: 0.5185, Valid F1: 0.2138\n",
      "\n",
      "Epoch 7/50\n",
      "----------\n"
     ]
    },
    {
     "data": {
      "application/vnd.jupyter.widget-view+json": {
       "model_id": "80f7169e4de04b2a9a4f4e99b36f5dab",
       "version_major": 2,
       "version_minor": 0
      },
      "text/plain": [
       "  0%|          | 0/108 [00:00<?, ?it/s]"
      ]
     },
     "metadata": {},
     "output_type": "display_data"
    },
    {
     "name": "stdout",
     "output_type": "stream",
     "text": [
      "Train loss: 0.2950, Train acc: 0.8981, Time: 16s\n",
      "Valid loss: 1.4504, Valid acc: 0.7222, Valid F1: 0.3977\n",
      "\n",
      "Epoch 8/50\n",
      "----------\n"
     ]
    },
    {
     "data": {
      "application/vnd.jupyter.widget-view+json": {
       "model_id": "eb8307214aa9499d9e38fb1438d710e3",
       "version_major": 2,
       "version_minor": 0
      },
      "text/plain": [
       "  0%|          | 0/108 [00:00<?, ?it/s]"
      ]
     },
     "metadata": {},
     "output_type": "display_data"
    },
    {
     "name": "stdout",
     "output_type": "stream",
     "text": [
      "Train loss: 0.3482, Train acc: 0.8519, Time: 17s\n",
      "Valid loss: 1.4021, Valid acc: 0.6852, Valid F1: 0.4004\n",
      "\n",
      "Epoch 9/50\n",
      "----------\n"
     ]
    },
    {
     "data": {
      "application/vnd.jupyter.widget-view+json": {
       "model_id": "a6acbc62730f4896b67f455ffc45f5a8",
       "version_major": 2,
       "version_minor": 0
      },
      "text/plain": [
       "  0%|          | 0/108 [00:00<?, ?it/s]"
      ]
     },
     "metadata": {},
     "output_type": "display_data"
    },
    {
     "name": "stdout",
     "output_type": "stream",
     "text": [
      "Train loss: 0.1874, Train acc: 0.9537, Time: 17s\n",
      "Valid loss: 1.6858, Valid acc: 0.5185, Valid F1: 0.2412\n",
      "\n",
      "Epoch 10/50\n",
      "----------\n"
     ]
    },
    {
     "data": {
      "application/vnd.jupyter.widget-view+json": {
       "model_id": "4085aeece4b24bf9b04c082e407796e2",
       "version_major": 2,
       "version_minor": 0
      },
      "text/plain": [
       "  0%|          | 0/108 [00:00<?, ?it/s]"
      ]
     },
     "metadata": {},
     "output_type": "display_data"
    },
    {
     "name": "stdout",
     "output_type": "stream",
     "text": [
      "Train loss: 0.1879, Train acc: 0.9259, Time: 17s\n",
      "Valid loss: 1.6461, Valid acc: 0.6481, Valid F1: 0.3858\n",
      "\n",
      "Epoch 11/50\n",
      "----------\n"
     ]
    },
    {
     "data": {
      "application/vnd.jupyter.widget-view+json": {
       "model_id": "aac8986616294675bbf8707d90179d1e",
       "version_major": 2,
       "version_minor": 0
      },
      "text/plain": [
       "  0%|          | 0/108 [00:00<?, ?it/s]"
      ]
     },
     "metadata": {},
     "output_type": "display_data"
    },
    {
     "name": "stdout",
     "output_type": "stream",
     "text": [
      "Train loss: 0.1571, Train acc: 0.9630, Time: 17s\n",
      "Valid loss: 2.0027, Valid acc: 0.6481, Valid F1: 0.3383\n",
      "\n",
      "Epoch 12/50\n",
      "----------\n"
     ]
    },
    {
     "data": {
      "application/vnd.jupyter.widget-view+json": {
       "model_id": "cd8542665aed45eda2207e824524f92f",
       "version_major": 2,
       "version_minor": 0
      },
      "text/plain": [
       "  0%|          | 0/108 [00:00<?, ?it/s]"
      ]
     },
     "metadata": {},
     "output_type": "display_data"
    },
    {
     "name": "stdout",
     "output_type": "stream",
     "text": [
      "Train loss: 0.1710, Train acc: 0.9352, Time: 17s\n",
      "Valid loss: 1.6133, Valid acc: 0.6667, Valid F1: 0.4037\n",
      "\n",
      "Epoch 13/50\n",
      "----------\n"
     ]
    },
    {
     "data": {
      "application/vnd.jupyter.widget-view+json": {
       "model_id": "97cdf65fa4a94e0db1c4c9ebcb71608b",
       "version_major": 2,
       "version_minor": 0
      },
      "text/plain": [
       "  0%|          | 0/108 [00:00<?, ?it/s]"
      ]
     },
     "metadata": {},
     "output_type": "display_data"
    },
    {
     "name": "stdout",
     "output_type": "stream",
     "text": [
      "Train loss: 0.0263, Train acc: 1.0000, Time: 17s\n",
      "Valid loss: 2.0042, Valid acc: 0.6111, Valid F1: 0.3431\n",
      "\n",
      "Epoch 14/50\n",
      "----------\n"
     ]
    },
    {
     "data": {
      "application/vnd.jupyter.widget-view+json": {
       "model_id": "e3274f81913843e787bfd19831eb9ca2",
       "version_major": 2,
       "version_minor": 0
      },
      "text/plain": [
       "  0%|          | 0/108 [00:00<?, ?it/s]"
      ]
     },
     "metadata": {},
     "output_type": "display_data"
    },
    {
     "name": "stdout",
     "output_type": "stream",
     "text": [
      "Train loss: 0.0837, Train acc: 0.9630, Time: 17s\n",
      "Valid loss: 1.9315, Valid acc: 0.6667, Valid F1: 0.3817\n",
      "\n",
      "Epoch 15/50\n",
      "----------\n"
     ]
    },
    {
     "data": {
      "application/vnd.jupyter.widget-view+json": {
       "model_id": "d229d6410408429cb2c1cba16f0b051f",
       "version_major": 2,
       "version_minor": 0
      },
      "text/plain": [
       "  0%|          | 0/108 [00:00<?, ?it/s]"
      ]
     },
     "metadata": {},
     "output_type": "display_data"
    },
    {
     "name": "stdout",
     "output_type": "stream",
     "text": [
      "Train loss: 0.0616, Train acc: 0.9815, Time: 17s\n",
      "Valid loss: 2.1570, Valid acc: 0.5926, Valid F1: 0.3220\n",
      "\n",
      "Epoch 16/50\n",
      "----------\n"
     ]
    },
    {
     "data": {
      "application/vnd.jupyter.widget-view+json": {
       "model_id": "03a64d6f47f34f7894f92273523d991c",
       "version_major": 2,
       "version_minor": 0
      },
      "text/plain": [
       "  0%|          | 0/108 [00:00<?, ?it/s]"
      ]
     },
     "metadata": {},
     "output_type": "display_data"
    },
    {
     "name": "stdout",
     "output_type": "stream",
     "text": [
      "Train loss: 0.0240, Train acc: 0.9907, Time: 17s\n",
      "Valid loss: 1.6804, Valid acc: 0.7222, Valid F1: 0.5245\n",
      "\n",
      "Epoch 17/50\n",
      "----------\n"
     ]
    },
    {
     "data": {
      "application/vnd.jupyter.widget-view+json": {
       "model_id": "d0c1786a1a2043cea23c1302c99ddc5d",
       "version_major": 2,
       "version_minor": 0
      },
      "text/plain": [
       "  0%|          | 0/108 [00:00<?, ?it/s]"
      ]
     },
     "metadata": {},
     "output_type": "display_data"
    },
    {
     "name": "stdout",
     "output_type": "stream",
     "text": [
      "Train loss: 0.1551, Train acc: 0.9537, Time: 17s\n",
      "Valid loss: 2.2083, Valid acc: 0.5926, Valid F1: 0.3416\n",
      "\n",
      "Epoch 18/50\n",
      "----------\n"
     ]
    },
    {
     "data": {
      "application/vnd.jupyter.widget-view+json": {
       "model_id": "63ee1521704c4ad8ae8f7df42247aea0",
       "version_major": 2,
       "version_minor": 0
      },
      "text/plain": [
       "  0%|          | 0/108 [00:00<?, ?it/s]"
      ]
     },
     "metadata": {},
     "output_type": "display_data"
    },
    {
     "name": "stdout",
     "output_type": "stream",
     "text": [
      "Train loss: 0.0288, Train acc: 0.9907, Time: 17s\n",
      "Valid loss: 2.1396, Valid acc: 0.6852, Valid F1: 0.3803\n",
      "\n",
      "Epoch 19/50\n",
      "----------\n"
     ]
    },
    {
     "data": {
      "application/vnd.jupyter.widget-view+json": {
       "model_id": "12ac7e0f73314a3c81bb61e335a897d0",
       "version_major": 2,
       "version_minor": 0
      },
      "text/plain": [
       "  0%|          | 0/108 [00:00<?, ?it/s]"
      ]
     },
     "metadata": {},
     "output_type": "display_data"
    },
    {
     "name": "stdout",
     "output_type": "stream",
     "text": [
      "Train loss: 0.6521, Train acc: 0.7778, Time: 17s\n",
      "Valid loss: 1.4807, Valid acc: 0.6296, Valid F1: 0.4383\n",
      "\n",
      "Epoch 20/50\n",
      "----------\n"
     ]
    },
    {
     "data": {
      "application/vnd.jupyter.widget-view+json": {
       "model_id": "eaab2c4497d44b19901ac92542948561",
       "version_major": 2,
       "version_minor": 0
      },
      "text/plain": [
       "  0%|          | 0/108 [00:00<?, ?it/s]"
      ]
     },
     "metadata": {},
     "output_type": "display_data"
    },
    {
     "name": "stdout",
     "output_type": "stream",
     "text": [
      "Train loss: 0.3139, Train acc: 0.8796, Time: 17s\n",
      "Valid loss: 2.5497, Valid acc: 0.5556, Valid F1: 0.3260\n",
      "\n",
      "Epoch 21/50\n",
      "----------\n"
     ]
    },
    {
     "data": {
      "application/vnd.jupyter.widget-view+json": {
       "model_id": "f64a3b8a7f584cba8adce9f7c6f8bac1",
       "version_major": 2,
       "version_minor": 0
      },
      "text/plain": [
       "  0%|          | 0/108 [00:00<?, ?it/s]"
      ]
     },
     "metadata": {},
     "output_type": "display_data"
    },
    {
     "name": "stdout",
     "output_type": "stream",
     "text": [
      "Train loss: 0.1379, Train acc: 0.9352, Time: 17s\n",
      "Valid loss: 1.9312, Valid acc: 0.6667, Valid F1: 0.4700\n",
      "\n",
      "Epoch 22/50\n",
      "----------\n"
     ]
    },
    {
     "data": {
      "application/vnd.jupyter.widget-view+json": {
       "model_id": "44923d8e2f8f4360aebfc9c986d987c2",
       "version_major": 2,
       "version_minor": 0
      },
      "text/plain": [
       "  0%|          | 0/108 [00:00<?, ?it/s]"
      ]
     },
     "metadata": {},
     "output_type": "display_data"
    },
    {
     "name": "stdout",
     "output_type": "stream",
     "text": [
      "Train loss: 0.4840, Train acc: 0.8519, Time: 17s\n",
      "Valid loss: 2.1866, Valid acc: 0.6111, Valid F1: 0.4067\n",
      "\n",
      "Epoch 23/50\n",
      "----------\n"
     ]
    },
    {
     "data": {
      "application/vnd.jupyter.widget-view+json": {
       "model_id": "09adff427ea34cfe9415fe9de52e233b",
       "version_major": 2,
       "version_minor": 0
      },
      "text/plain": [
       "  0%|          | 0/108 [00:00<?, ?it/s]"
      ]
     },
     "metadata": {},
     "output_type": "display_data"
    },
    {
     "name": "stdout",
     "output_type": "stream",
     "text": [
      "Train loss: 0.4104, Train acc: 0.8148, Time: 17s\n",
      "Valid loss: 2.1731, Valid acc: 0.5185, Valid F1: 0.1972\n",
      "\n",
      "Epoch 24/50\n",
      "----------\n"
     ]
    },
    {
     "data": {
      "application/vnd.jupyter.widget-view+json": {
       "model_id": "9502c7c08a5643948faf3ad7c04316a3",
       "version_major": 2,
       "version_minor": 0
      },
      "text/plain": [
       "  0%|          | 0/108 [00:00<?, ?it/s]"
      ]
     },
     "metadata": {},
     "output_type": "display_data"
    },
    {
     "name": "stdout",
     "output_type": "stream",
     "text": [
      "Train loss: 0.3200, Train acc: 0.8796, Time: 17s\n",
      "Valid loss: 1.6026, Valid acc: 0.7222, Valid F1: 0.5216\n",
      "\n",
      "Epoch 25/50\n",
      "----------\n"
     ]
    },
    {
     "data": {
      "application/vnd.jupyter.widget-view+json": {
       "model_id": "f4ea1d6fddd44e08914c488aee2036e2",
       "version_major": 2,
       "version_minor": 0
      },
      "text/plain": [
       "  0%|          | 0/108 [00:00<?, ?it/s]"
      ]
     },
     "metadata": {},
     "output_type": "display_data"
    },
    {
     "name": "stdout",
     "output_type": "stream",
     "text": [
      "Train loss: 0.2338, Train acc: 0.8889, Time: 17s\n",
      "Valid loss: 2.4032, Valid acc: 0.5000, Valid F1: 0.2263\n",
      "\n",
      "Epoch 26/50\n",
      "----------\n"
     ]
    },
    {
     "data": {
      "application/vnd.jupyter.widget-view+json": {
       "model_id": "841baf3e57544d02b4c3160859d13f71",
       "version_major": 2,
       "version_minor": 0
      },
      "text/plain": [
       "  0%|          | 0/108 [00:00<?, ?it/s]"
      ]
     },
     "metadata": {},
     "output_type": "display_data"
    },
    {
     "name": "stdout",
     "output_type": "stream",
     "text": [
      "Train loss: 0.1514, Train acc: 0.9259, Time: 18s\n",
      "Valid loss: 1.7235, Valid acc: 0.6667, Valid F1: 0.3964\n",
      "\n",
      "Epoch 27/50\n",
      "----------\n"
     ]
    },
    {
     "data": {
      "application/vnd.jupyter.widget-view+json": {
       "model_id": "7da9cf4833f04401b23809c542e00977",
       "version_major": 2,
       "version_minor": 0
      },
      "text/plain": [
       "  0%|          | 0/108 [00:00<?, ?it/s]"
      ]
     },
     "metadata": {},
     "output_type": "display_data"
    },
    {
     "name": "stdout",
     "output_type": "stream",
     "text": [
      "Train loss: 0.3370, Train acc: 0.8889, Time: 18s\n",
      "Valid loss: 2.6267, Valid acc: 0.5000, Valid F1: 0.1688\n",
      "\n",
      "Epoch 28/50\n",
      "----------\n"
     ]
    },
    {
     "data": {
      "application/vnd.jupyter.widget-view+json": {
       "model_id": "fca66effa9444eb68ca12c5cba4f4fca",
       "version_major": 2,
       "version_minor": 0
      },
      "text/plain": [
       "  0%|          | 0/108 [00:00<?, ?it/s]"
      ]
     },
     "metadata": {},
     "output_type": "display_data"
    },
    {
     "name": "stdout",
     "output_type": "stream",
     "text": [
      "Train loss: 0.6874, Train acc: 0.7500, Time: 17s\n",
      "Valid loss: 1.4803, Valid acc: 0.6852, Valid F1: 0.4976\n",
      "\n",
      "Epoch 29/50\n",
      "----------\n"
     ]
    },
    {
     "data": {
      "application/vnd.jupyter.widget-view+json": {
       "model_id": "6427db3fa10246f98dff2fa94f0b6530",
       "version_major": 2,
       "version_minor": 0
      },
      "text/plain": [
       "  0%|          | 0/108 [00:00<?, ?it/s]"
      ]
     },
     "metadata": {},
     "output_type": "display_data"
    },
    {
     "name": "stdout",
     "output_type": "stream",
     "text": [
      "Train loss: 0.3027, Train acc: 0.8889, Time: 17s\n",
      "Valid loss: 1.5496, Valid acc: 0.5556, Valid F1: 0.3340\n",
      "\n",
      "Epoch 30/50\n",
      "----------\n"
     ]
    },
    {
     "data": {
      "application/vnd.jupyter.widget-view+json": {
       "model_id": "b046c8b0b7e44ccfaabf02cbc7be9112",
       "version_major": 2,
       "version_minor": 0
      },
      "text/plain": [
       "  0%|          | 0/108 [00:00<?, ?it/s]"
      ]
     },
     "metadata": {},
     "output_type": "display_data"
    },
    {
     "name": "stdout",
     "output_type": "stream",
     "text": [
      "Train loss: 0.4524, Train acc: 0.7963, Time: 17s\n",
      "Valid loss: 2.1692, Valid acc: 0.5370, Valid F1: 0.2945\n",
      "\n",
      "Epoch 31/50\n",
      "----------\n"
     ]
    },
    {
     "data": {
      "application/vnd.jupyter.widget-view+json": {
       "model_id": "4840cecd754d4056909d3bde80d288f3",
       "version_major": 2,
       "version_minor": 0
      },
      "text/plain": [
       "  0%|          | 0/108 [00:00<?, ?it/s]"
      ]
     },
     "metadata": {},
     "output_type": "display_data"
    },
    {
     "name": "stdout",
     "output_type": "stream",
     "text": [
      "Train loss: 0.3603, Train acc: 0.8796, Time: 17s\n",
      "Valid loss: 2.4304, Valid acc: 0.5926, Valid F1: 0.2988\n",
      "\n",
      "Epoch 32/50\n",
      "----------\n"
     ]
    },
    {
     "data": {
      "application/vnd.jupyter.widget-view+json": {
       "model_id": "ef6f9b5a51a7497c923f8dc63df57c8b",
       "version_major": 2,
       "version_minor": 0
      },
      "text/plain": [
       "  0%|          | 0/108 [00:00<?, ?it/s]"
      ]
     },
     "metadata": {},
     "output_type": "display_data"
    },
    {
     "name": "stdout",
     "output_type": "stream",
     "text": [
      "Train loss: 0.2620, Train acc: 0.9167, Time: 17s\n",
      "Valid loss: 2.2202, Valid acc: 0.4815, Valid F1: 0.2742\n",
      "\n",
      "Epoch 33/50\n",
      "----------\n"
     ]
    },
    {
     "data": {
      "application/vnd.jupyter.widget-view+json": {
       "model_id": "3a84be035d7640ea94bceab4cb9884a0",
       "version_major": 2,
       "version_minor": 0
      },
      "text/plain": [
       "  0%|          | 0/108 [00:00<?, ?it/s]"
      ]
     },
     "metadata": {},
     "output_type": "display_data"
    },
    {
     "name": "stdout",
     "output_type": "stream",
     "text": [
      "Train loss: 0.5789, Train acc: 0.7407, Time: 17s\n",
      "Valid loss: 1.6439, Valid acc: 0.6296, Valid F1: 0.4564\n",
      "\n",
      "Epoch 34/50\n",
      "----------\n"
     ]
    },
    {
     "data": {
      "application/vnd.jupyter.widget-view+json": {
       "model_id": "f6d078f306094a0d8e034958c763ed55",
       "version_major": 2,
       "version_minor": 0
      },
      "text/plain": [
       "  0%|          | 0/108 [00:00<?, ?it/s]"
      ]
     },
     "metadata": {},
     "output_type": "display_data"
    },
    {
     "name": "stdout",
     "output_type": "stream",
     "text": [
      "Train loss: 0.6848, Train acc: 0.7500, Time: 17s\n",
      "Valid loss: 2.3731, Valid acc: 0.5000, Valid F1: 0.2222\n",
      "\n",
      "Epoch 35/50\n",
      "----------\n"
     ]
    },
    {
     "data": {
      "application/vnd.jupyter.widget-view+json": {
       "model_id": "b1055a2be9694266aed2f619c59e5be6",
       "version_major": 2,
       "version_minor": 0
      },
      "text/plain": [
       "  0%|          | 0/108 [00:00<?, ?it/s]"
      ]
     },
     "metadata": {},
     "output_type": "display_data"
    },
    {
     "name": "stdout",
     "output_type": "stream",
     "text": [
      "Train loss: 0.5677, Train acc: 0.7963, Time: 17s\n",
      "Valid loss: 1.8911, Valid acc: 0.5926, Valid F1: 0.3818\n",
      "\n",
      "Epoch 36/50\n",
      "----------\n"
     ]
    },
    {
     "data": {
      "application/vnd.jupyter.widget-view+json": {
       "model_id": "4427e430962c41bd802b80fef2d6678c",
       "version_major": 2,
       "version_minor": 0
      },
      "text/plain": [
       "  0%|          | 0/108 [00:00<?, ?it/s]"
      ]
     },
     "metadata": {},
     "output_type": "display_data"
    },
    {
     "name": "stdout",
     "output_type": "stream",
     "text": [
      "Train loss: 0.3657, Train acc: 0.8241, Time: 17s\n",
      "Valid loss: 2.2948, Valid acc: 0.6296, Valid F1: 0.4564\n",
      "\n",
      "Epoch 37/50\n",
      "----------\n"
     ]
    },
    {
     "data": {
      "application/vnd.jupyter.widget-view+json": {
       "model_id": "1f84d01eeac94c3db7516340cd474267",
       "version_major": 2,
       "version_minor": 0
      },
      "text/plain": [
       "  0%|          | 0/108 [00:00<?, ?it/s]"
      ]
     },
     "metadata": {},
     "output_type": "display_data"
    },
    {
     "name": "stdout",
     "output_type": "stream",
     "text": [
      "Train loss: 0.4620, Train acc: 0.8333, Time: 17s\n",
      "Valid loss: 2.2136, Valid acc: 0.6111, Valid F1: 0.3318\n",
      "\n",
      "Epoch 38/50\n",
      "----------\n"
     ]
    },
    {
     "data": {
      "application/vnd.jupyter.widget-view+json": {
       "model_id": "9973dd8800a2470aa6d5d51a9331b6b0",
       "version_major": 2,
       "version_minor": 0
      },
      "text/plain": [
       "  0%|          | 0/108 [00:00<?, ?it/s]"
      ]
     },
     "metadata": {},
     "output_type": "display_data"
    },
    {
     "name": "stdout",
     "output_type": "stream",
     "text": [
      "Train loss: 0.3393, Train acc: 0.8796, Time: 17s\n",
      "Valid loss: 3.9859, Valid acc: 0.5000, Valid F1: 0.1688\n",
      "\n",
      "Epoch 39/50\n",
      "----------\n"
     ]
    },
    {
     "data": {
      "application/vnd.jupyter.widget-view+json": {
       "model_id": "f659cc3838044cf280a16fde8a5a0779",
       "version_major": 2,
       "version_minor": 0
      },
      "text/plain": [
       "  0%|          | 0/108 [00:00<?, ?it/s]"
      ]
     },
     "metadata": {},
     "output_type": "display_data"
    },
    {
     "name": "stdout",
     "output_type": "stream",
     "text": [
      "Train loss: 0.5739, Train acc: 0.7963, Time: 17s\n",
      "Valid loss: 1.8920, Valid acc: 0.6111, Valid F1: 0.4067\n",
      "\n",
      "Epoch 40/50\n",
      "----------\n"
     ]
    },
    {
     "data": {
      "application/vnd.jupyter.widget-view+json": {
       "model_id": "c7b451dc5e834a86beac7d871fdb740a",
       "version_major": 2,
       "version_minor": 0
      },
      "text/plain": [
       "  0%|          | 0/108 [00:00<?, ?it/s]"
      ]
     },
     "metadata": {},
     "output_type": "display_data"
    },
    {
     "name": "stdout",
     "output_type": "stream",
     "text": [
      "Train loss: 0.3336, Train acc: 0.8611, Time: 17s\n",
      "Valid loss: 2.2224, Valid acc: 0.6296, Valid F1: 0.3473\n",
      "\n",
      "Epoch 41/50\n",
      "----------\n"
     ]
    },
    {
     "data": {
      "application/vnd.jupyter.widget-view+json": {
       "model_id": "4b5c3af3f5f64f7f9f6a813a565ef67d",
       "version_major": 2,
       "version_minor": 0
      },
      "text/plain": [
       "  0%|          | 0/108 [00:00<?, ?it/s]"
      ]
     },
     "metadata": {},
     "output_type": "display_data"
    },
    {
     "name": "stdout",
     "output_type": "stream",
     "text": [
      "Train loss: 0.3064, Train acc: 0.8981, Time: 18s\n",
      "Valid loss: 2.6531, Valid acc: 0.5926, Valid F1: 0.3134\n",
      "\n",
      "Epoch 42/50\n",
      "----------\n"
     ]
    },
    {
     "data": {
      "application/vnd.jupyter.widget-view+json": {
       "model_id": "433b118625b447e193db52ae2e510ea4",
       "version_major": 2,
       "version_minor": 0
      },
      "text/plain": [
       "  0%|          | 0/108 [00:00<?, ?it/s]"
      ]
     },
     "metadata": {},
     "output_type": "display_data"
    },
    {
     "name": "stdout",
     "output_type": "stream",
     "text": [
      "Train loss: 0.3210, Train acc: 0.8611, Time: 17s\n",
      "Valid loss: 2.8875, Valid acc: 0.5370, Valid F1: 0.2747\n",
      "\n",
      "Epoch 43/50\n",
      "----------\n"
     ]
    },
    {
     "data": {
      "application/vnd.jupyter.widget-view+json": {
       "model_id": "dac66011e31f49f5a8f1a5d7a7b9f724",
       "version_major": 2,
       "version_minor": 0
      },
      "text/plain": [
       "  0%|          | 0/108 [00:00<?, ?it/s]"
      ]
     },
     "metadata": {},
     "output_type": "display_data"
    },
    {
     "name": "stdout",
     "output_type": "stream",
     "text": [
      "Train loss: 0.2871, Train acc: 0.8889, Time: 17s\n",
      "Valid loss: 2.9730, Valid acc: 0.6481, Valid F1: 0.3383\n",
      "\n",
      "Epoch 44/50\n",
      "----------\n"
     ]
    },
    {
     "data": {
      "application/vnd.jupyter.widget-view+json": {
       "model_id": "ac616d6b73fa4f67a70d4e9684c3e21a",
       "version_major": 2,
       "version_minor": 0
      },
      "text/plain": [
       "  0%|          | 0/108 [00:00<?, ?it/s]"
      ]
     },
     "metadata": {},
     "output_type": "display_data"
    },
    {
     "name": "stdout",
     "output_type": "stream",
     "text": [
      "Train loss: 0.3218, Train acc: 0.8796, Time: 17s\n",
      "Valid loss: 2.9184, Valid acc: 0.5741, Valid F1: 0.2838\n",
      "\n",
      "Epoch 45/50\n",
      "----------\n"
     ]
    },
    {
     "data": {
      "application/vnd.jupyter.widget-view+json": {
       "model_id": "537925513ce244afb401a39be54a8ded",
       "version_major": 2,
       "version_minor": 0
      },
      "text/plain": [
       "  0%|          | 0/108 [00:00<?, ?it/s]"
      ]
     },
     "metadata": {},
     "output_type": "display_data"
    },
    {
     "name": "stdout",
     "output_type": "stream",
     "text": [
      "Train loss: 0.2720, Train acc: 0.9074, Time: 17s\n",
      "Valid loss: 3.4242, Valid acc: 0.5370, Valid F1: 0.2253\n",
      "\n",
      "Epoch 46/50\n",
      "----------\n"
     ]
    },
    {
     "data": {
      "application/vnd.jupyter.widget-view+json": {
       "model_id": "ba4d26d88d0d40f6ad249499cb440a6d",
       "version_major": 2,
       "version_minor": 0
      },
      "text/plain": [
       "  0%|          | 0/108 [00:00<?, ?it/s]"
      ]
     },
     "metadata": {},
     "output_type": "display_data"
    },
    {
     "name": "stdout",
     "output_type": "stream",
     "text": [
      "Train loss: 0.3496, Train acc: 0.8704, Time: 17s\n",
      "Valid loss: 3.3445, Valid acc: 0.5185, Valid F1: 0.2063\n",
      "\n",
      "Epoch 47/50\n",
      "----------\n"
     ]
    },
    {
     "data": {
      "application/vnd.jupyter.widget-view+json": {
       "model_id": "2c4a7e6f07954b52a7b51e9b10acb6f9",
       "version_major": 2,
       "version_minor": 0
      },
      "text/plain": [
       "  0%|          | 0/108 [00:00<?, ?it/s]"
      ]
     },
     "metadata": {},
     "output_type": "display_data"
    },
    {
     "name": "stdout",
     "output_type": "stream",
     "text": [
      "Train loss: 0.2949, Train acc: 0.8426, Time: 17s\n",
      "Valid loss: 4.5211, Valid acc: 0.5000, Valid F1: 0.2222\n",
      "\n",
      "Epoch 48/50\n",
      "----------\n"
     ]
    },
    {
     "data": {
      "application/vnd.jupyter.widget-view+json": {
       "model_id": "f15e61a763834f1382bb50fc33f044dc",
       "version_major": 2,
       "version_minor": 0
      },
      "text/plain": [
       "  0%|          | 0/108 [00:00<?, ?it/s]"
      ]
     },
     "metadata": {},
     "output_type": "display_data"
    },
    {
     "name": "stdout",
     "output_type": "stream",
     "text": [
      "Train loss: 0.2885, Train acc: 0.8889, Time: 17s\n",
      "Valid loss: 2.3865, Valid acc: 0.5741, Valid F1: 0.3410\n",
      "\n",
      "Epoch 49/50\n",
      "----------\n"
     ]
    },
    {
     "data": {
      "application/vnd.jupyter.widget-view+json": {
       "model_id": "dbc3568943cb4c2a987e37be8a49f7c0",
       "version_major": 2,
       "version_minor": 0
      },
      "text/plain": [
       "  0%|          | 0/108 [00:00<?, ?it/s]"
      ]
     },
     "metadata": {},
     "output_type": "display_data"
    },
    {
     "name": "stdout",
     "output_type": "stream",
     "text": [
      "Train loss: 0.2439, Train acc: 0.8981, Time: 16s\n",
      "Valid loss: 2.5504, Valid acc: 0.2778, Valid F1: 0.1913\n",
      "\n",
      "Epoch 50/50\n",
      "----------\n"
     ]
    },
    {
     "data": {
      "application/vnd.jupyter.widget-view+json": {
       "model_id": "5731384b06f44710b95bc70ffd881ad1",
       "version_major": 2,
       "version_minor": 0
      },
      "text/plain": [
       "  0%|          | 0/108 [00:00<?, ?it/s]"
      ]
     },
     "metadata": {},
     "output_type": "display_data"
    },
    {
     "name": "stdout",
     "output_type": "stream",
     "text": [
      "Train loss: 0.8913, Train acc: 0.6759, Time: 16s\n",
      "Valid loss: 1.5689, Valid acc: 0.5000, Valid F1: 0.2222\n",
      "\n",
      "Training complete\n",
      "Best ACC: 0.7222 at epoch 3\n",
      "Best F1: 0.5245 at epoch 15\n"
     ]
    }
   ],
   "source": [
    "train_loss, valid_loss, train_acc, valid_acc, valid_f1 = run(train_loader, valid_loader, model,\n",
    "                                                             num_classes_m, epochs=epochs,\n",
    "                                                             save_path=save_path/'m')"
   ]
  },
  {
   "cell_type": "code",
   "execution_count": 45,
   "metadata": {},
   "outputs": [
    {
     "data": {
      "image/png": "[encoded data removed]",
      "text/plain": [
       "<Figure size 640x480 with 1 Axes>"
      ]
     },
     "metadata": {},
     "output_type": "display_data"
    }
   ],
   "source": [
    "plot_loss(train_loss, valid_loss)"
   ]
  },
  {
   "cell_type": "code",
   "execution_count": 46,
   "metadata": {},
   "outputs": [
    {
     "data": {
      "image/png": "[encoded data removed]",
      "text/plain": [
       "<Figure size 640x480 with 1 Axes>"
      ]
     },
     "metadata": {},
     "output_type": "display_data"
    }
   ],
   "source": [
    "plot_metrics(train_acc, valid_acc, valid_f1)"
   ]
  },
  {
   "cell_type": "code",
   "execution_count": 47,
   "metadata": {},
   "outputs": [
    {
     "name": "stdout",
     "output_type": "stream",
     "text": [
      "accuracy: 0.7222222222222222, f1 score: 0.5245304177179703\n"
     ]
    }
   ],
   "source": [
    "print(f'accuracy: {max(valid_acc)}, f1 score: {max(valid_f1)}')"
   ]
  },
  {
   "cell_type": "code",
   "execution_count": null,
   "metadata": {},
   "outputs": [],
   "source": []
  }
 ],
 "metadata": {
  "kernelspec": {
   "display_name": "env_radnlp",
   "language": "python",
   "name": "python3"
  },
  "language_info": {
   "codemirror_mode": {
    "name": "ipython",
    "version": 3
   },
   "file_extension": ".py",
   "mimetype": "text/x-python",
   "name": "python",
   "nbconvert_exporter": "python",
   "pygments_lexer": "ipython3",
   "version": "3.11.11"
  }
 },
 "nbformat": 4,
 "nbformat_minor": 4
}
