{
 "cells": [
  {
   "cell_type": "code",
   "execution_count": 20,
   "metadata": {},
   "outputs": [],
   "source": [
    "import sys\n",
    "import os\n",
    "import glob\n",
    "from pathlib import Path\n",
    "import random\n",
    "from tqdm.notebook import tqdm\n",
    "import numpy as np\n",
    "import pandas as pd\n",
    "import sklearn\n",
    "from sklearn import metrics\n",
    "from sklearn.metrics import confusion_matrix, accuracy_score, recall_score, precision_score, f1_score, roc_curve, roc_auc_score\n",
    "import re\n",
    "import transformers\n",
    "import torch\n",
    "import torch.nn as nn\n",
    "import torch.nn.functional as F"
   ]
  },
  {
   "cell_type": "code",
   "execution_count": 2,
   "metadata": {},
   "outputs": [],
   "source": [
    "from pkg.UTHBERT.preprocess_text import preprocess as my_preprocess\n",
    "from pkg.UTHBERT.tokenization_mod import MecabTokenizer, FullTokenizerForMecab\n",
    "from transformers import BertModel,BertConfig"
   ]
  },
  {
   "cell_type": "code",
   "execution_count": 3,
   "metadata": {},
   "outputs": [
    {
     "name": "stdout",
     "output_type": "stream",
     "text": [
      "Using device: mps\n"
     ]
    }
   ],
   "source": [
    "def get_device() -> str:\n",
    "    \"\"\"\n",
    "    Returns the best available device for PyTorch computations.\n",
    "    \"\"\"\n",
    "    if torch.backends.mps.is_available():\n",
    "        # macOS with Apple Silicon (MPS backend)\n",
    "        return \"mps\"\n",
    "    elif torch.cuda.is_available():\n",
    "        # NVIDIA GPU\n",
    "        return \"cuda\"\n",
    "    else:\n",
    "        # Fallback to CPU\n",
    "        return \"cpu\"\n",
    "\n",
    "try:\n",
    "    device = torch.device(get_device())\n",
    "    print(f\"Using device: {device}\")\n",
    "except RuntimeError as e:\n",
    "    print(f\"Failed to initialize the device: {e}\")\n",
    "    device = torch.device(\"cpu\")  # Fallback to CPU in case of an error"
   ]
  },
  {
   "cell_type": "code",
   "execution_count": 4,
   "metadata": {},
   "outputs": [],
   "source": [
    "seed=0\n",
    "def seed_everything(seed):\n",
    "    random.seed(seed)\n",
    "    os.environ['PYTHONHASHSEED'] = str(seed)\n",
    "    np.random.seed(seed)\n",
    "    torch.manual_seed(seed)\n",
    "    torch.cuda.manual_seed(seed)\n",
    "    torch.backends.cudnn.deterministic = True\n",
    "    torch.backends.cudnn.benchmark = False #Trueで高速化重視, Falseで再現性重視\n",
    "seed_everything(seed)\n",
    "os.environ[\"CUDA_VISIBLE_DEVICES\"] = \"0\"\n",
    "torch.use_deterministic_algorithms(True)\n",
    "torch.set_num_threads(1)"
   ]
  },
  {
   "cell_type": "markdown",
   "metadata": {},
   "source": [
    "# Tokenizer"
   ]
  },
  {
   "cell_type": "code",
   "execution_count": 5,
   "metadata": {},
   "outputs": [],
   "source": [
    "dic_path = './dic'"
   ]
  },
  {
   "cell_type": "code",
   "execution_count": 6,
   "metadata": {},
   "outputs": [],
   "source": [
    "# special token for a Person's name (Do not change)\n",
    "name_token = \"＠＠Ｎ\"\n",
    "\n",
    "# path to the mecab-ipadic-neologd\n",
    "mecab_ipadic_neologd = dic_path + '/mecab-ipadic-neologd'\n",
    "\n",
    "# path to the J-Medic (We used MANBYO_201907_Dic-utf8.dic)\n",
    "mecab_J_medic = dic_path + '/MANBYO/MANBYO_201907_Dic-utf8.dic'\n",
    "\n",
    "# path to the uth-bert vocabulary\n",
    "vocab_file = dic_path + '/UTH-BERT/bert_vocab_mc_v1_25000.txt'"
   ]
  },
  {
   "cell_type": "code",
   "execution_count": 7,
   "metadata": {},
   "outputs": [],
   "source": [
    "# MecabTokenizer\n",
    "sub_tokenizer = MecabTokenizer(mecab_ipadic_neologd=mecab_ipadic_neologd,\n",
    "                               mecab_J_medic=mecab_J_medic,\n",
    "                               name_token=name_token)\n",
    "\n",
    "# FullTokenizerForMecab\n",
    "tokenizer = FullTokenizerForMecab(sub_tokenizer=sub_tokenizer,\n",
    "                                  vocab_file=vocab_file,\n",
    "                                  do_lower_case=False)"
   ]
  },
  {
   "cell_type": "code",
   "execution_count": 8,
   "metadata": {},
   "outputs": [],
   "source": [
    "def tokenize(sentence_list):\n",
    "    token_list = []\n",
    "    for s in tqdm(sentence_list):\n",
    "        tokens = tokenizer.tokenize(my_preprocess(str(s)))\n",
    "        ids = tokenizer.convert_tokens_to_ids(tokens)\n",
    "        ids = [2] + ids + [3]\n",
    "        token_list.append(ids)\n",
    "    return token_list"
   ]
  },
  {
   "cell_type": "markdown",
   "metadata": {},
   "source": [
    "# Data"
   ]
  },
  {
   "cell_type": "code",
   "execution_count": 9,
   "metadata": {},
   "outputs": [],
   "source": [
    "def create_dataframe(folder_path):\n",
    "    \"\"\"\n",
    "    指定されたフォルダ内のテキストファイルからDataFrameを作成する関数\n",
    "\n",
    "    Args:\n",
    "        folder_path (str): テキストファイルが入っているフォルダのパス\n",
    "\n",
    "    Returns:\n",
    "        pandas.DataFrame: 作成されたDataFrame\n",
    "    \"\"\"\n",
    "\n",
    "    # フォルダ内のすべてのテキストファイルのパスを取得\n",
    "    file_list = glob.glob(folder_path + \"/*.txt\")\n",
    "\n",
    "    # 空のDataFrameを作成\n",
    "    df_text = pd.DataFrame(columns=['id', 'text'])\n",
    "    \n",
    "    # label.csvを読み込む\n",
    "    df_label = pd.read_csv(os.path.join(folder_path, \"label.csv\"))\n",
    "\n",
    "    for file in file_list:\n",
    "        # ファイル名からIDを抽出\n",
    "        file_id = file.split(\"/\")[-1].split(\".\")[0]\n",
    "        # file_id = file.split(\"\\\\\")[-1].split(\".\")[0] # Windows\n",
    "        \n",
    "        # テキストファイルを読み込む\n",
    "        with open(file, 'r', encoding='utf-8') as f:\n",
    "            text = f.read()\n",
    "\n",
    "        # DataFrameに追記\n",
    "        rows = []\n",
    "        rows.append({'id': int(file_id), 'text': text})\n",
    "        df_text = pd.concat([df_text, pd.DataFrame(rows)], ignore_index=True)\n",
    "        \n",
    "    # textとlabelのDataFrameを結合\n",
    "    df = pd.merge(df_text, df_label, on='id', how='left')\n",
    "\n",
    "    return df\n",
    "\n",
    "val_folder_path = \"../../radnlp_2024_train_val_20240731/ja/main_task/val\"\n",
    "val_df = create_dataframe(val_folder_path)"
   ]
  },
  {
   "cell_type": "code",
   "execution_count": 10,
   "metadata": {},
   "outputs": [
    {
     "data": {
      "text/html": [
       "<div>\n",
       "<style scoped>\n",
       "    .dataframe tbody tr th:only-of-type {\n",
       "        vertical-align: middle;\n",
       "    }\n",
       "\n",
       "    .dataframe tbody tr th {\n",
       "        vertical-align: top;\n",
       "    }\n",
       "\n",
       "    .dataframe thead th {\n",
       "        text-align: right;\n",
       "    }\n",
       "</style>\n",
       "<table border=\"1\" class=\"dataframe\">\n",
       "  <thead>\n",
       "    <tr style=\"text-align: right;\">\n",
       "      <th></th>\n",
       "      <th>id</th>\n",
       "      <th>text</th>\n",
       "      <th>t</th>\n",
       "      <th>n</th>\n",
       "      <th>m</th>\n",
       "    </tr>\n",
       "  </thead>\n",
       "  <tbody>\n",
       "    <tr>\n",
       "      <th>0</th>\n",
       "      <td>5764772</td>\n",
       "      <td>右下葉 S10 に⻑径 15mm の pure GGN を認めます。既知肺癌に相当の病変と思...</td>\n",
       "      <td>Tis</td>\n",
       "      <td>N0</td>\n",
       "      <td>M0</td>\n",
       "    </tr>\n",
       "    <tr>\n",
       "      <th>1</th>\n",
       "      <td>4644984</td>\n",
       "      <td>右下葉に腫瘤を認め、既知肺癌を疑います。\\n右縦隔、肺門部に軟部影を認め、リンパ節転移を疑い...</td>\n",
       "      <td>T0</td>\n",
       "      <td>N2</td>\n",
       "      <td>M1c</td>\n",
       "    </tr>\n",
       "    <tr>\n",
       "      <th>2</th>\n",
       "      <td>16066820</td>\n",
       "      <td>左肺上葉に最大径 22mm  の分葉状腫瘤があります。\\n一部胸膜陥入像を伴っています。\\n...</td>\n",
       "      <td>T1c</td>\n",
       "      <td>N0</td>\n",
       "      <td>M0</td>\n",
       "    </tr>\n",
       "    <tr>\n",
       "      <th>3</th>\n",
       "      <td>147290</td>\n",
       "      <td>左肺門部に 37mm 大の腫瘤影を認め、ご指摘の肺癌が疑われます。\\n縦隔に有意なリンパ節腫...</td>\n",
       "      <td>T2a</td>\n",
       "      <td>N0</td>\n",
       "      <td>M0</td>\n",
       "    </tr>\n",
       "    <tr>\n",
       "      <th>4</th>\n",
       "      <td>14063477</td>\n",
       "      <td>右肺野に長径 13cm を超え、胸壁へと進展する病変を認め、肺癌が疑われます。\\n両肺野には...</td>\n",
       "      <td>T4</td>\n",
       "      <td>N0</td>\n",
       "      <td>M1c</td>\n",
       "    </tr>\n",
       "    <tr>\n",
       "      <th>5</th>\n",
       "      <td>10376521</td>\n",
       "      <td>右肺に長径 13.7cm 大、胸壁を超える腫瘤を認めます。T4 と考えます。\\n縦隔リンパ節...</td>\n",
       "      <td>T4</td>\n",
       "      <td>N2</td>\n",
       "      <td>M1c</td>\n",
       "    </tr>\n",
       "    <tr>\n",
       "      <th>6</th>\n",
       "      <td>16191878</td>\n",
       "      <td>比較可能な画像検査はありません。\\n右肺下葉  S10 に 1.5cm×1.4cm  程度の...</td>\n",
       "      <td>Tis</td>\n",
       "      <td>N0</td>\n",
       "      <td>M0</td>\n",
       "    </tr>\n",
       "    <tr>\n",
       "      <th>7</th>\n",
       "      <td>15532322</td>\n",
       "      <td>左上葉には⻑径 22mm 大の不整形結節あり、既知の肺癌部分と思われます。\\n病的リンパ節腫...</td>\n",
       "      <td>T1c</td>\n",
       "      <td>N0</td>\n",
       "      <td>M0</td>\n",
       "    </tr>\n",
       "    <tr>\n",
       "      <th>8</th>\n",
       "      <td>3462779</td>\n",
       "      <td>左肺には縦隔浸潤が疑われる腫瘤があり、左肺全体に及ぶ無気肺を伴っています。\\n肺門-気管分岐...</td>\n",
       "      <td>T4</td>\n",
       "      <td>N2</td>\n",
       "      <td>M1a</td>\n",
       "    </tr>\n",
       "    <tr>\n",
       "      <th>9</th>\n",
       "      <td>4724041</td>\n",
       "      <td>左肺門部、左上葉 S2 に主座を置く⻑径 37mm の不整形腫瘤を認め、内部に空洞形成\\nを...</td>\n",
       "      <td>T2a</td>\n",
       "      <td>N0</td>\n",
       "      <td>M0</td>\n",
       "    </tr>\n",
       "  </tbody>\n",
       "</table>\n",
       "</div>"
      ],
      "text/plain": [
       "         id                                               text    t   n    m\n",
       "0   5764772  右下葉 S10 に⻑径 15mm の pure GGN を認めます。既知肺癌に相当の病変と思...  Tis  N0   M0\n",
       "1   4644984  右下葉に腫瘤を認め、既知肺癌を疑います。\\n右縦隔、肺門部に軟部影を認め、リンパ節転移を疑い...   T0  N2  M1c\n",
       "2  16066820  左肺上葉に最大径 22mm  の分葉状腫瘤があります。\\n一部胸膜陥入像を伴っています。\\n...  T1c  N0   M0\n",
       "3    147290  左肺門部に 37mm 大の腫瘤影を認め、ご指摘の肺癌が疑われます。\\n縦隔に有意なリンパ節腫...  T2a  N0   M0\n",
       "4  14063477  右肺野に長径 13cm を超え、胸壁へと進展する病変を認め、肺癌が疑われます。\\n両肺野には...   T4  N0  M1c\n",
       "5  10376521  右肺に長径 13.7cm 大、胸壁を超える腫瘤を認めます。T4 と考えます。\\n縦隔リンパ節...   T4  N2  M1c\n",
       "6  16191878  比較可能な画像検査はありません。\\n右肺下葉  S10 に 1.5cm×1.4cm  程度の...  Tis  N0   M0\n",
       "7  15532322  左上葉には⻑径 22mm 大の不整形結節あり、既知の肺癌部分と思われます。\\n病的リンパ節腫...  T1c  N0   M0\n",
       "8   3462779  左肺には縦隔浸潤が疑われる腫瘤があり、左肺全体に及ぶ無気肺を伴っています。\\n肺門-気管分岐...   T4  N2  M1a\n",
       "9   4724041  左肺門部、左上葉 S2 に主座を置く⻑径 37mm の不整形腫瘤を認め、内部に空洞形成\\nを...  T2a  N0   M0"
      ]
     },
     "execution_count": 10,
     "metadata": {},
     "output_type": "execute_result"
    }
   ],
   "source": [
    "val_df.head(10)"
   ]
  },
  {
   "cell_type": "code",
   "execution_count": 11,
   "metadata": {},
   "outputs": [],
   "source": [
    "def convert_list(text_list, label_dic):\n",
    "    \"\"\"\n",
    "    リストのテキストを、指定された辞書に基づいて数値に変換します。\n",
    "\n",
    "    Args:\n",
    "        text_list (list): 変換したいテキストのリスト\n",
    "        label_dic (dict): テキストと対応する数値の辞書\n",
    "\n",
    "    Returns:\n",
    "        list: 数値に変換されたリスト\n",
    "    \"\"\"\n",
    "\n",
    "    num_list = []\n",
    "    for text in text_list:\n",
    "        # 辞書から対応する数値を取得\n",
    "        num = label_dic.get(text, None)\n",
    "        if num is not None:\n",
    "            num_list.append(num)\n",
    "        else:\n",
    "            print(f\"対応する数値が見つかりません: {text}\")\n",
    "    return num_list\n",
    "\n",
    "label_dic_t = {'T0':0, 'Tis':1, 'T1mi':2, 'T1a':3, 'T1b':4, 'T1c':5, 'T2a':6, 'T2b':7, 'T3':8, 'T4':9}\n",
    "inverse_label_dic_t = {v: k for k, v in label_dic_t.items()}\n",
    "label_dic_n = {'N0':0, 'N1':1, 'N2':2, 'N3':3}\n",
    "inverse_label_dic_n = {v: k for k, v in label_dic_n.items()}\n",
    "label_dic_m = {'M0':0, 'M1a':1, 'M1b':2, 'M1c':3}\n",
    "inverse_label_dic_m = {v: k for k, v in label_dic_m.items()}"
   ]
  },
  {
   "cell_type": "markdown",
   "metadata": {},
   "source": [
    "# 分類モデルの読み込み"
   ]
  },
  {
   "cell_type": "code",
   "execution_count": 12,
   "metadata": {},
   "outputs": [],
   "source": [
    "model_path = Path('./pkg/UTHBERT')\n",
    "save_path = Path('./model')"
   ]
  },
  {
   "cell_type": "code",
   "execution_count": 13,
   "metadata": {},
   "outputs": [],
   "source": [
    "num_classes_t=10\n",
    "num_classes_n=4\n",
    "num_classes_m=4"
   ]
  },
  {
   "cell_type": "code",
   "execution_count": 17,
   "metadata": {},
   "outputs": [],
   "source": [
    "config = BertConfig.from_json_file(model_path / 'bert_config.json')\n",
    "bert = BertModel.from_pretrained(model_path / 'UTH_BERT.bin', config=config)\n",
    "\n",
    "class Net(nn.Module):\n",
    "    def __init__(self, bert, num_classes):\n",
    "        super(Net, self).__init__()\n",
    "        self.bert = bert\n",
    "        self.cls = nn.Linear(768, num_classes)\n",
    "\n",
    "  # @torch.cuda.amp.autocast()\n",
    "    def forward(self, inputs_ids, pad_masks, Attention=False):\n",
    "        bout = self.bert(inputs_ids, pad_masks, output_attentions=Attention)\n",
    "        bs = len(bout[0])\n",
    "        h0 = [bout[0][i][0] for i in range(bs)]\n",
    "        h0 = torch.stack(h0,dim=0)\n",
    "        if Attention:\n",
    "            return self.cls(h0),bout\n",
    "        else:\n",
    "            return self.cls(h0)"
   ]
  },
  {
   "cell_type": "code",
   "execution_count": 18,
   "metadata": {},
   "outputs": [
    {
     "data": {
      "text/plain": [
       "<All keys matched successfully>"
      ]
     },
     "execution_count": 18,
     "metadata": {},
     "output_type": "execute_result"
    }
   ],
   "source": [
    "model_t = Net(bert, num_classes_t).to(device)\n",
    "path_t = save_path / 't' / 'best_acc_1.pth'\n",
    "model_t.load_state_dict(torch.load(path_t, weights_only=True))\n",
    "\n",
    "config = BertConfig.from_json_file(model_path / 'bert_config.json')\n",
    "bert = BertModel.from_pretrained(model_path / 'UTH_BERT.bin', config=config)\n",
    "model_n = Net(bert, num_classes_n).to(device)\n",
    "path_n = save_path / 'n' / 'best_acc_1.pth'\n",
    "model_n.load_state_dict(torch.load(path_n, weights_only=True))\n",
    "\n",
    "config = BertConfig.from_json_file(model_path / 'bert_config.json')\n",
    "bert = BertModel.from_pretrained(model_path / 'UTH_BERT.bin', config=config)\n",
    "model_m = Net(bert, num_classes_m).to(device)\n",
    "path_m = save_path / 'm' / 'best_acc_2.pth'\n",
    "model_m.load_state_dict(torch.load(path_m, weights_only=True))"
   ]
  },
  {
   "cell_type": "markdown",
   "metadata": {},
   "source": [
    "# 推論"
   ]
  },
  {
   "cell_type": "code",
   "execution_count": 21,
   "metadata": {},
   "outputs": [
    {
     "data": {
      "application/vnd.jupyter.widget-view+json": {
       "model_id": "c9e8c86e33974893ae75874f4b778a0f",
       "version_major": 2,
       "version_minor": 0
      },
      "text/plain": [
       "  0%|          | 0/54 [00:00<?, ?it/s]"
      ]
     },
     "metadata": {},
     "output_type": "display_data"
    },
    {
     "data": {
      "application/vnd.jupyter.widget-view+json": {
       "model_id": "3f206ec741a6426a980e8952d6e11796",
       "version_major": 2,
       "version_minor": 0
      },
      "text/plain": [
       "  0%|          | 0/54 [00:00<?, ?it/s]"
      ]
     },
     "metadata": {},
     "output_type": "display_data"
    }
   ],
   "source": [
    "val_data = tokenize(val_df['text'].values.tolist())\n",
    "\n",
    "model_t.eval()\n",
    "model_n.eval()\n",
    "model_m.eval()\n",
    "\n",
    "t_pred_li, n_pred_li, m_pred_li = [], [], []\n",
    "\n",
    "for s in tqdm(val_data):\n",
    "    data = torch.tensor(s,dtype=torch.long).unsqueeze(0).to(device)\n",
    "    mask = (data == 0).long().to(device)\n",
    "\n",
    "    with torch.no_grad(): \n",
    "        t_pred = inverse_label_dic_t.get(F.softmax(model_t(data, mask), dim=1).argmax(dim=1).item(), \"Unknown\")\n",
    "        n_pred = inverse_label_dic_n.get(F.softmax(model_n(data, mask), dim=1).argmax(dim=1).item(), \"Unknown\")\n",
    "        m_pred = inverse_label_dic_m.get(F.softmax(model_m(data, mask), dim=1).argmax(dim=1).item(), \"Unknown\")\n",
    "\n",
    "        t_pred_li.append(t_pred)\n",
    "        n_pred_li.append(n_pred)\n",
    "        m_pred_li.append(m_pred)\n",
    "\n",
    "val_df['t_pred'] = t_pred_li\n",
    "val_df['n_pred'] = n_pred_li\n",
    "val_df['m_pred'] = m_pred_li\n",
    "\n",
    "val_df.to_csv('../model_outputs/uth_results.csv')"
   ]
  },
  {
   "cell_type": "markdown",
   "metadata": {},
   "source": [
    "# Submission CSVの出力"
   ]
  },
  {
   "cell_type": "code",
   "execution_count": 22,
   "metadata": {},
   "outputs": [
    {
     "name": "stdout",
     "output_type": "stream",
     "text": [
      "t_acc: 0.42592592592592593\n",
      "n_acc: 0.8148148148148148\n",
      "m_acc: 0.7592592592592593\n"
     ]
    }
   ],
   "source": [
    "# sub_df = pd.read_csv('../model_outputs/uth_results.csv')\n",
    "# t_pred = sub_df['t_pred'].values.tolist()\n",
    "# n_pred = sub_df['n_pred'].values.tolist()\n",
    "# m_pred = sub_df['m_pred'].values.tolist()\n",
    "# t_label = sub_df['t'].values.tolist()\n",
    "# n_label = sub_df['n'].values.tolist()\n",
    "# m_label = sub_df['m'].values.tolist()\n",
    "\n",
    "# print(f't_acc: {accuracy_score(t_label, t_pred)}')\n",
    "# print(f'n_acc: {accuracy_score(n_label, n_pred)}')\n",
    "# print(f'm_acc: {accuracy_score(m_label, m_pred)}')"
   ]
  },
  {
   "cell_type": "code",
   "execution_count": 23,
   "metadata": {},
   "outputs": [],
   "source": [
    "sub_df = pd.read_csv('../model_outputs/uth_results.csv')\n",
    "select_df = sub_df[['id', 't_pred', 'n_pred', 'm_pred']]\n",
    "rename_df = select_df.rename(columns={'t_pred': 't', 'n_pred': 'n', 'm_pred': 'm'})\n",
    "rename_df.to_csv('../model_outputs/submission_uth.csv', index=False)"
   ]
  },
  {
   "cell_type": "code",
   "execution_count": 24,
   "metadata": {},
   "outputs": [
    {
     "data": {
      "text/html": [
       "<div>\n",
       "<style scoped>\n",
       "    .dataframe tbody tr th:only-of-type {\n",
       "        vertical-align: middle;\n",
       "    }\n",
       "\n",
       "    .dataframe tbody tr th {\n",
       "        vertical-align: top;\n",
       "    }\n",
       "\n",
       "    .dataframe thead th {\n",
       "        text-align: right;\n",
       "    }\n",
       "</style>\n",
       "<table border=\"1\" class=\"dataframe\">\n",
       "  <thead>\n",
       "    <tr style=\"text-align: right;\">\n",
       "      <th></th>\n",
       "      <th>id</th>\n",
       "      <th>t</th>\n",
       "      <th>n</th>\n",
       "      <th>m</th>\n",
       "    </tr>\n",
       "  </thead>\n",
       "  <tbody>\n",
       "    <tr>\n",
       "      <th>0</th>\n",
       "      <td>5764772</td>\n",
       "      <td>T2a</td>\n",
       "      <td>N0</td>\n",
       "      <td>M0</td>\n",
       "    </tr>\n",
       "    <tr>\n",
       "      <th>1</th>\n",
       "      <td>4644984</td>\n",
       "      <td>T2b</td>\n",
       "      <td>N2</td>\n",
       "      <td>M1c</td>\n",
       "    </tr>\n",
       "    <tr>\n",
       "      <th>2</th>\n",
       "      <td>16066820</td>\n",
       "      <td>T2b</td>\n",
       "      <td>N0</td>\n",
       "      <td>M0</td>\n",
       "    </tr>\n",
       "    <tr>\n",
       "      <th>3</th>\n",
       "      <td>147290</td>\n",
       "      <td>T2a</td>\n",
       "      <td>N0</td>\n",
       "      <td>M0</td>\n",
       "    </tr>\n",
       "    <tr>\n",
       "      <th>4</th>\n",
       "      <td>14063477</td>\n",
       "      <td>T2a</td>\n",
       "      <td>N2</td>\n",
       "      <td>M1c</td>\n",
       "    </tr>\n",
       "    <tr>\n",
       "      <th>5</th>\n",
       "      <td>10376521</td>\n",
       "      <td>T3</td>\n",
       "      <td>N2</td>\n",
       "      <td>M1c</td>\n",
       "    </tr>\n",
       "    <tr>\n",
       "      <th>6</th>\n",
       "      <td>16191878</td>\n",
       "      <td>T2a</td>\n",
       "      <td>N0</td>\n",
       "      <td>M0</td>\n",
       "    </tr>\n",
       "    <tr>\n",
       "      <th>7</th>\n",
       "      <td>15532322</td>\n",
       "      <td>T2a</td>\n",
       "      <td>N0</td>\n",
       "      <td>M0</td>\n",
       "    </tr>\n",
       "    <tr>\n",
       "      <th>8</th>\n",
       "      <td>3462779</td>\n",
       "      <td>T4</td>\n",
       "      <td>N2</td>\n",
       "      <td>M0</td>\n",
       "    </tr>\n",
       "    <tr>\n",
       "      <th>9</th>\n",
       "      <td>4724041</td>\n",
       "      <td>T4</td>\n",
       "      <td>N0</td>\n",
       "      <td>M0</td>\n",
       "    </tr>\n",
       "  </tbody>\n",
       "</table>\n",
       "</div>"
      ],
      "text/plain": [
       "         id    t   n    m\n",
       "0   5764772  T2a  N0   M0\n",
       "1   4644984  T2b  N2  M1c\n",
       "2  16066820  T2b  N0   M0\n",
       "3    147290  T2a  N0   M0\n",
       "4  14063477  T2a  N2  M1c\n",
       "5  10376521   T3  N2  M1c\n",
       "6  16191878  T2a  N0   M0\n",
       "7  15532322  T2a  N0   M0\n",
       "8   3462779   T4  N2   M0\n",
       "9   4724041   T4  N0   M0"
      ]
     },
     "execution_count": 24,
     "metadata": {},
     "output_type": "execute_result"
    }
   ],
   "source": [
    "rename_df.head(10)"
   ]
  },
  {
   "cell_type": "code",
   "execution_count": null,
   "metadata": {},
   "outputs": [],
   "source": []
  }
 ],
 "metadata": {
  "kernelspec": {
   "display_name": "env_radnlp",
   "language": "python",
   "name": "python3"
  },
  "language_info": {
   "codemirror_mode": {
    "name": "ipython",
    "version": 3
   },
   "file_extension": ".py",
   "mimetype": "text/x-python",
   "name": "python",
   "nbconvert_exporter": "python",
   "pygments_lexer": "ipython3",
   "version": "3.11.11"
  }
 },
 "nbformat": 4,
 "nbformat_minor": 4
}
