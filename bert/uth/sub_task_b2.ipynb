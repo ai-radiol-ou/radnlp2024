{
 "cells": [
  {
   "cell_type": "code",
   "execution_count": 1,
   "metadata": {},
   "outputs": [],
   "source": [
    "import sys\n",
    "import os\n",
    "import glob\n",
    "from pathlib import Path\n",
    "import random\n",
    "import time\n",
    "import datetime\n",
    "from tqdm.notebook import tqdm\n",
    "import numpy as np\n",
    "import pandas as pd\n",
    "import matplotlib.pyplot as plt\n",
    "%matplotlib inline\n",
    "import seaborn as sns\n",
    "import sklearn\n",
    "from sklearn import preprocessing\n",
    "from sklearn.preprocessing import label_binarize\n",
    "from sklearn.model_selection import train_test_split\n",
    "from sklearn.utils import shuffle\n",
    "from sklearn.model_selection import KFold, StratifiedKFold, GroupKFold\n",
    "from sklearn import metrics\n",
    "from sklearn.metrics import confusion_matrix, accuracy_score, recall_score, precision_score, f1_score, roc_curve, roc_auc_score\n",
    "import re\n",
    "import transformers\n",
    "import torch \n",
    "from torch.utils.data import DataLoader, Dataset\n",
    "import torch.nn as nn\n",
    "import torch.nn.functional as F\n",
    "from torch.nn.utils.rnn import pad_sequence\n",
    "import torch.optim as optim\n",
    "from torch.optim.lr_scheduler import StepLR\n",
    "%matplotlib inline\n",
    "sns.set_theme(style='darkgrid')"
   ]
  },
  {
   "cell_type": "code",
   "execution_count": 2,
   "metadata": {},
   "outputs": [],
   "source": [
    "from pkg.UTHBERT.preprocess_text import preprocess as my_preprocess\n",
    "from pkg.UTHBERT.tokenization_mod import MecabTokenizer, FullTokenizerForMecab\n",
    "from transformers import BertModel,BertConfig"
   ]
  },
  {
   "cell_type": "code",
   "execution_count": 3,
   "metadata": {},
   "outputs": [
    {
     "name": "stdout",
     "output_type": "stream",
     "text": [
      "Using device: mps\n"
     ]
    }
   ],
   "source": [
    "def get_device() -> str:\n",
    "    \"\"\"\n",
    "    Returns the best available device for PyTorch computations.\n",
    "    \"\"\"\n",
    "    if torch.backends.mps.is_available():\n",
    "        # macOS with Apple Silicon (MPS backend)\n",
    "        return \"mps\"\n",
    "    elif torch.cuda.is_available():\n",
    "        # NVIDIA GPU\n",
    "        return \"cuda\"\n",
    "    else:\n",
    "        # Fallback to CPU\n",
    "        return \"cpu\"\n",
    "\n",
    "try:\n",
    "    device = torch.device(get_device())\n",
    "    print(f\"Using device: {device}\")\n",
    "except RuntimeError as e:\n",
    "    print(f\"Failed to initialize the device: {e}\")\n",
    "    device = torch.device(\"cpu\")  # Fallback to CPU in case of an error"
   ]
  },
  {
   "cell_type": "code",
   "execution_count": 4,
   "metadata": {},
   "outputs": [],
   "source": [
    "seed=0\n",
    "def seed_everything(seed):\n",
    "    random.seed(seed)\n",
    "    os.environ['PYTHONHASHSEED'] = str(seed)\n",
    "    np.random.seed(seed)\n",
    "    torch.manual_seed(seed)\n",
    "    torch.cuda.manual_seed(seed)\n",
    "    torch.backends.cudnn.deterministic = True\n",
    "    torch.backends.cudnn.benchmark = False #Trueで高速化重視, Falseで再現性重視\n",
    "seed_everything(seed)\n",
    "os.environ[\"CUDA_VISIBLE_DEVICES\"] = \"0\"\n",
    "torch.use_deterministic_algorithms(True)\n",
    "torch.set_num_threads(1)"
   ]
  },
  {
   "cell_type": "markdown",
   "metadata": {},
   "source": [
    "# Tokenizer"
   ]
  },
  {
   "cell_type": "code",
   "execution_count": 5,
   "metadata": {},
   "outputs": [],
   "source": [
    "dic_path = './dic'"
   ]
  },
  {
   "cell_type": "code",
   "execution_count": 6,
   "metadata": {},
   "outputs": [],
   "source": [
    "# special token for a Person's name (Do not change)\n",
    "name_token = \"＠＠Ｎ\"\n",
    "\n",
    "# path to the mecab-ipadic-neologd\n",
    "mecab_ipadic_neologd = dic_path + '/mecab-ipadic-neologd'\n",
    "\n",
    "# path to the J-Medic (We used MANBYO_201907_Dic-utf8.dic)\n",
    "mecab_J_medic = dic_path + '/MANBYO/MANBYO_201907_Dic-utf8.dic'\n",
    "\n",
    "# path to the uth-bert vocabulary\n",
    "vocab_file = dic_path + '/UTH-BERT/bert_vocab_mc_v1_25000.txt'"
   ]
  },
  {
   "cell_type": "code",
   "execution_count": 7,
   "metadata": {},
   "outputs": [],
   "source": [
    "# MecabTokenizer\n",
    "sub_tokenizer = MecabTokenizer(mecab_ipadic_neologd=mecab_ipadic_neologd,\n",
    "                               mecab_J_medic=mecab_J_medic,\n",
    "                               name_token=name_token)\n",
    "\n",
    "# FullTokenizerForMecab\n",
    "tokenizer = FullTokenizerForMecab(sub_tokenizer=sub_tokenizer,\n",
    "                                  vocab_file=vocab_file,\n",
    "                                  do_lower_case=False)"
   ]
  },
  {
   "cell_type": "code",
   "execution_count": 8,
   "metadata": {},
   "outputs": [],
   "source": [
    "def tokenize(sentence_list):\n",
    "    token_list = []\n",
    "    for s in tqdm(sentence_list):\n",
    "        tokens = tokenizer.tokenize(my_preprocess(str(s)))\n",
    "        ids = tokenizer.convert_tokens_to_ids(tokens)\n",
    "        ids = [2] + ids + [3]\n",
    "        token_list.append(ids)\n",
    "    return token_list"
   ]
  },
  {
   "cell_type": "markdown",
   "metadata": {},
   "source": [
    "# Data"
   ]
  },
  {
   "cell_type": "code",
   "execution_count": 9,
   "metadata": {},
   "outputs": [],
   "source": [
    "def create_dataframe(folder_path):\n",
    "    \"\"\"\n",
    "    指定されたフォルダ内のテキストファイルからDataFrameを作成する関数\n",
    "\n",
    "    Args:\n",
    "        folder_path (str): テキストファイルが入っているフォルダのパス\n",
    "\n",
    "    Returns:\n",
    "        pandas.DataFrame: 作成されたDataFrame\n",
    "    \"\"\"\n",
    "\n",
    "    # sentence.csvを読み込む\n",
    "    df_text = pd.read_csv(os.path.join(folder_path, \"sentences.csv\"))\n",
    "    # label.csvを読み込む\n",
    "    df_label = pd.read_csv(os.path.join(folder_path, \"label.csv\"))\n",
    "\n",
    "    df_text['index'] = df_text['id'].astype(str) + '_' + df_text['sentence_index'].astype(str)\n",
    "    df_label['index'] = df_label['id'].astype(str) + '_' + df_label['sentence_index'].astype(str)\n",
    "    \n",
    "    # textとlabelのDataFrameを結合\n",
    "    df = pd.merge(df_text, df_label, on='index', how='inner')\n",
    "    df['id'] = df['id_x'].combine_first(df['id_y'])\n",
    "    df = df.drop(columns=['id_x', 'id_y'])\n",
    "    df['sentence_index'] = df['sentence_index_x'].combine_first(df['sentence_index_y'])\n",
    "    df = df.drop(columns=['sentence_index_x', 'sentence_index_y'])\n",
    "    cols = ['index','id','sentence_index'] + [col for col in df.columns if col not in ['index','id','sentence_index']]\n",
    "    df = df[cols]\n",
    "\n",
    "    return df\n",
    "\n",
    "train_folder_path = \"../../radnlp_2024_train_val_20240731/ja/sub_task/train\"\n",
    "train_df = create_dataframe(train_folder_path)\n",
    "val_folder_path = \"../../radnlp_2024_train_val_20240731/ja/sub_task/val\"\n",
    "val_df = create_dataframe(val_folder_path)"
   ]
  },
  {
   "cell_type": "code",
   "execution_count": 10,
   "metadata": {},
   "outputs": [
    {
     "data": {
      "text/html": [
       "<div>\n",
       "<style scoped>\n",
       "    .dataframe tbody tr th:only-of-type {\n",
       "        vertical-align: middle;\n",
       "    }\n",
       "\n",
       "    .dataframe tbody tr th {\n",
       "        vertical-align: top;\n",
       "    }\n",
       "\n",
       "    .dataframe thead th {\n",
       "        text-align: right;\n",
       "    }\n",
       "</style>\n",
       "<table border=\"1\" class=\"dataframe\">\n",
       "  <thead>\n",
       "    <tr style=\"text-align: right;\">\n",
       "      <th></th>\n",
       "      <th>index</th>\n",
       "      <th>id</th>\n",
       "      <th>sentence_index</th>\n",
       "      <th>text</th>\n",
       "      <th>omittable</th>\n",
       "      <th>measure</th>\n",
       "      <th>extension</th>\n",
       "      <th>atelectasis</th>\n",
       "      <th>satellite</th>\n",
       "      <th>lymphadenopathy</th>\n",
       "      <th>pleural</th>\n",
       "      <th>distant</th>\n",
       "    </tr>\n",
       "  </thead>\n",
       "  <tbody>\n",
       "    <tr>\n",
       "      <th>0</th>\n",
       "      <td>56344_0</td>\n",
       "      <td>56344</td>\n",
       "      <td>0</td>\n",
       "      <td>左上葉全体が無気肺になっています。</td>\n",
       "      <td>0</td>\n",
       "      <td>0</td>\n",
       "      <td>0</td>\n",
       "      <td>1</td>\n",
       "      <td>0</td>\n",
       "      <td>0</td>\n",
       "      <td>0</td>\n",
       "      <td>0</td>\n",
       "    </tr>\n",
       "    <tr>\n",
       "      <th>1</th>\n",
       "      <td>56344_1</td>\n",
       "      <td>56344</td>\n",
       "      <td>1</td>\n",
       "      <td>左上葉気管支は閉塞して造影  CT  で増強効果の乏しい 74mm  の腫瘤があります。</td>\n",
       "      <td>0</td>\n",
       "      <td>1</td>\n",
       "      <td>1</td>\n",
       "      <td>0</td>\n",
       "      <td>0</td>\n",
       "      <td>0</td>\n",
       "      <td>0</td>\n",
       "      <td>0</td>\n",
       "    </tr>\n",
       "    <tr>\n",
       "      <th>2</th>\n",
       "      <td>56344_2</td>\n",
       "      <td>56344</td>\n",
       "      <td>2</td>\n",
       "      <td>肺癌と考えます。</td>\n",
       "      <td>0</td>\n",
       "      <td>1</td>\n",
       "      <td>0</td>\n",
       "      <td>0</td>\n",
       "      <td>0</td>\n",
       "      <td>0</td>\n",
       "      <td>0</td>\n",
       "      <td>0</td>\n",
       "    </tr>\n",
       "    <tr>\n",
       "      <th>3</th>\n",
       "      <td>56344_3</td>\n",
       "      <td>56344</td>\n",
       "      <td>3</td>\n",
       "      <td>左肺門、同側縦隔リンパ節腫大しリンパ節転移と考えます。</td>\n",
       "      <td>0</td>\n",
       "      <td>0</td>\n",
       "      <td>0</td>\n",
       "      <td>0</td>\n",
       "      <td>0</td>\n",
       "      <td>1</td>\n",
       "      <td>0</td>\n",
       "      <td>0</td>\n",
       "    </tr>\n",
       "    <tr>\n",
       "      <th>4</th>\n",
       "      <td>56344_4</td>\n",
       "      <td>56344</td>\n",
       "      <td>4</td>\n",
       "      <td>気管右側にもリンパ節腫大があり、こちらもリンパ節転移を疑います。</td>\n",
       "      <td>0</td>\n",
       "      <td>0</td>\n",
       "      <td>0</td>\n",
       "      <td>0</td>\n",
       "      <td>0</td>\n",
       "      <td>1</td>\n",
       "      <td>0</td>\n",
       "      <td>0</td>\n",
       "    </tr>\n",
       "    <tr>\n",
       "      <th>5</th>\n",
       "      <td>56344_5</td>\n",
       "      <td>56344</td>\n",
       "      <td>5</td>\n",
       "      <td>左下葉気管支も腫瘍により浸潤あり、狭窄しています。</td>\n",
       "      <td>0</td>\n",
       "      <td>0</td>\n",
       "      <td>1</td>\n",
       "      <td>0</td>\n",
       "      <td>0</td>\n",
       "      <td>0</td>\n",
       "      <td>0</td>\n",
       "      <td>0</td>\n",
       "    </tr>\n",
       "    <tr>\n",
       "      <th>6</th>\n",
       "      <td>56344_6</td>\n",
       "      <td>56344</td>\n",
       "      <td>6</td>\n",
       "      <td>胸水貯留は認めません。</td>\n",
       "      <td>1</td>\n",
       "      <td>0</td>\n",
       "      <td>0</td>\n",
       "      <td>0</td>\n",
       "      <td>0</td>\n",
       "      <td>0</td>\n",
       "      <td>0</td>\n",
       "      <td>0</td>\n",
       "    </tr>\n",
       "    <tr>\n",
       "      <th>7</th>\n",
       "      <td>56344_7</td>\n",
       "      <td>56344</td>\n",
       "      <td>7</td>\n",
       "      <td>撮影範囲の腹部臓器に粗大な異常を認めません。</td>\n",
       "      <td>1</td>\n",
       "      <td>0</td>\n",
       "      <td>0</td>\n",
       "      <td>0</td>\n",
       "      <td>0</td>\n",
       "      <td>0</td>\n",
       "      <td>0</td>\n",
       "      <td>0</td>\n",
       "    </tr>\n",
       "    <tr>\n",
       "      <th>8</th>\n",
       "      <td>133166_0</td>\n",
       "      <td>133166</td>\n",
       "      <td>0</td>\n",
       "      <td>右下葉 S8 に⻑径 30mm の腫瘤性病変があります。</td>\n",
       "      <td>0</td>\n",
       "      <td>1</td>\n",
       "      <td>0</td>\n",
       "      <td>0</td>\n",
       "      <td>0</td>\n",
       "      <td>0</td>\n",
       "      <td>0</td>\n",
       "      <td>0</td>\n",
       "    </tr>\n",
       "    <tr>\n",
       "      <th>9</th>\n",
       "      <td>133166_1</td>\n",
       "      <td>133166</td>\n",
       "      <td>1</td>\n",
       "      <td>辺縁には spicula を伴っています。</td>\n",
       "      <td>1</td>\n",
       "      <td>0</td>\n",
       "      <td>0</td>\n",
       "      <td>0</td>\n",
       "      <td>0</td>\n",
       "      <td>0</td>\n",
       "      <td>0</td>\n",
       "      <td>0</td>\n",
       "    </tr>\n",
       "  </tbody>\n",
       "</table>\n",
       "</div>"
      ],
      "text/plain": [
       "      index      id  sentence_index  \\\n",
       "0   56344_0   56344               0   \n",
       "1   56344_1   56344               1   \n",
       "2   56344_2   56344               2   \n",
       "3   56344_3   56344               3   \n",
       "4   56344_4   56344               4   \n",
       "5   56344_5   56344               5   \n",
       "6   56344_6   56344               6   \n",
       "7   56344_7   56344               7   \n",
       "8  133166_0  133166               0   \n",
       "9  133166_1  133166               1   \n",
       "\n",
       "                                           text  omittable  measure  \\\n",
       "0                             左上葉全体が無気肺になっています。          0        0   \n",
       "1  左上葉気管支は閉塞して造影  CT  で増強効果の乏しい 74mm  の腫瘤があります。          0        1   \n",
       "2                                      肺癌と考えます。          0        1   \n",
       "3                   左肺門、同側縦隔リンパ節腫大しリンパ節転移と考えます。          0        0   \n",
       "4              気管右側にもリンパ節腫大があり、こちらもリンパ節転移を疑います。          0        0   \n",
       "5                     左下葉気管支も腫瘍により浸潤あり、狭窄しています。          0        0   \n",
       "6                                   胸水貯留は認めません。          1        0   \n",
       "7                        撮影範囲の腹部臓器に粗大な異常を認めません。          1        0   \n",
       "8                  右下葉 S8 に⻑径 30mm の腫瘤性病変があります。          0        1   \n",
       "9                         辺縁には spicula を伴っています。          1        0   \n",
       "\n",
       "   extension  atelectasis  satellite  lymphadenopathy  pleural  distant  \n",
       "0          0            1          0                0        0        0  \n",
       "1          1            0          0                0        0        0  \n",
       "2          0            0          0                0        0        0  \n",
       "3          0            0          0                1        0        0  \n",
       "4          0            0          0                1        0        0  \n",
       "5          1            0          0                0        0        0  \n",
       "6          0            0          0                0        0        0  \n",
       "7          0            0          0                0        0        0  \n",
       "8          0            0          0                0        0        0  \n",
       "9          0            0          0                0        0        0  "
      ]
     },
     "execution_count": 10,
     "metadata": {},
     "output_type": "execute_result"
    }
   ],
   "source": [
    "train_df.head(10)"
   ]
  },
  {
   "cell_type": "code",
   "execution_count": 11,
   "metadata": {},
   "outputs": [
    {
     "name": "stdout",
     "output_type": "stream",
     "text": [
      "omittable\n",
      "0    562\n",
      "1    458\n",
      "Name: count, dtype: int64\n",
      "measure\n",
      "0    833\n",
      "1    187\n",
      "Name: count, dtype: int64\n",
      "extension\n",
      "0    908\n",
      "1    112\n",
      "Name: count, dtype: int64\n",
      "atelectasis\n",
      "0    987\n",
      "1     33\n",
      "Name: count, dtype: int64\n",
      "satellite\n",
      "0    946\n",
      "1     74\n",
      "Name: count, dtype: int64\n",
      "lymphadenopathy\n",
      "0    907\n",
      "1    113\n",
      "Name: count, dtype: int64\n",
      "pleural\n",
      "0    994\n",
      "1     26\n",
      "Name: count, dtype: int64\n",
      "distant\n",
      "0    935\n",
      "1     85\n",
      "Name: count, dtype: int64\n"
     ]
    }
   ],
   "source": [
    "print(train_df['omittable'].value_counts())\n",
    "print(train_df['measure'].value_counts())\n",
    "print(train_df['extension'].value_counts())\n",
    "print(train_df['atelectasis'].value_counts())\n",
    "print(train_df['satellite'].value_counts())\n",
    "print(train_df['lymphadenopathy'].value_counts())\n",
    "print(train_df['pleural'].value_counts())\n",
    "print(train_df['distant'].value_counts())"
   ]
  },
  {
   "cell_type": "code",
   "execution_count": 12,
   "metadata": {},
   "outputs": [
    {
     "data": {
      "text/plain": [
       "1020"
      ]
     },
     "execution_count": 12,
     "metadata": {},
     "output_type": "execute_result"
    }
   ],
   "source": [
    "len(train_df)"
   ]
  },
  {
   "cell_type": "code",
   "execution_count": 13,
   "metadata": {},
   "outputs": [
    {
     "data": {
      "application/vnd.jupyter.widget-view+json": {
       "model_id": "1bd8b84ee7e44ac7af05de4add571535",
       "version_major": 2,
       "version_minor": 0
      },
      "text/plain": [
       "  0%|          | 0/1020 [00:00<?, ?it/s]"
      ]
     },
     "metadata": {},
     "output_type": "display_data"
    },
    {
     "data": {
      "application/vnd.jupyter.widget-view+json": {
       "model_id": "cc295d0ac7d842ce9f4efaaeeb8baf31",
       "version_major": 2,
       "version_minor": 0
      },
      "text/plain": [
       "  0%|          | 0/451 [00:00<?, ?it/s]"
      ]
     },
     "metadata": {},
     "output_type": "display_data"
    }
   ],
   "source": [
    "X_train, X_valid = tokenize(train_df['text'].values.tolist()), tokenize(val_df['text'].values.tolist())\n",
    "Yomit_train, Yomit_valid = train_df['omittable'].values.tolist(), val_df['omittable'].values.tolist()\n",
    "Ymeas_train, Ymeas_valid = train_df['measure'].values.tolist(), val_df['measure'].values.tolist()\n",
    "Yexte_train, Yexte_valid = train_df['extension'].values.tolist(), val_df['extension'].values.tolist()\n",
    "Yatel_train, Yatel_valid = train_df['atelectasis'].values.tolist(), val_df['atelectasis'].values.tolist()\n",
    "Ysate_train, Ysate_valid = train_df['satellite'].values.tolist(), val_df['satellite'].values.tolist()\n",
    "Ylymp_train, Ylymp_valid = train_df['lymphadenopathy'].values.tolist(), val_df['lymphadenopathy'].values.tolist()\n",
    "Ypleu_train, Ypleu_valid = train_df['pleural'].values.tolist(), val_df['pleural'].values.tolist()\n",
    "Ydist_train, Ydist_valid = train_df['distant'].values.tolist(), val_df['distant'].values.tolist()"
   ]
  },
  {
   "cell_type": "markdown",
   "metadata": {},
   "source": [
    "# subtask各々で分類モデルを学習"
   ]
  },
  {
   "cell_type": "code",
   "execution_count": 14,
   "metadata": {},
   "outputs": [],
   "source": [
    "model_path = Path('./pkg/UTHBERT')\n",
    "save_path = Path('./model')"
   ]
  },
  {
   "cell_type": "code",
   "execution_count": 15,
   "metadata": {},
   "outputs": [],
   "source": [
    "num_classes=2"
   ]
  },
  {
   "cell_type": "code",
   "execution_count": 16,
   "metadata": {},
   "outputs": [],
   "source": [
    "class MyCollator(object):\n",
    "    '''\n",
    "    Args:\n",
    "    test : Set True when using with test data loader. Defaults to False\n",
    "    percentile : Trim sequences by this percentile\n",
    "    '''\n",
    "    def __init__(self,test=False,percentile=100):\n",
    "        self.test = test\n",
    "        self.percentile = percentile\n",
    "    def __call__(self, batch):\n",
    "        if not self.test:\n",
    "            data = [torch.tensor(item[0])  for item in batch]\n",
    "            target = [item[1] for item in batch]\n",
    "        else:\n",
    "            data = [item for item in batch]\n",
    "        \n",
    "        # Padding\n",
    "        data = pad_sequence(data, batch_first=True)\n",
    "        data = data.clone().detach().long()\n",
    "        masks = torch.where(data==0, 1, 0)\n",
    "        masks = masks.clone().detach().long()\n",
    "        if not self.test:\n",
    "            target = torch.tensor(target, dtype=torch.long)\n",
    "            return [data, masks, target]\n",
    "        return [data, masks]"
   ]
  },
  {
   "cell_type": "code",
   "execution_count": 17,
   "metadata": {},
   "outputs": [],
   "source": [
    "def build_data(train_data, valid_data, batch_size=8): \n",
    "        \n",
    "    collate = MyCollator(percentile=100)\n",
    "    train_loader = DataLoader(train_data, batch_size=batch_size, shuffle=True, num_workers=0, collate_fn=collate) \n",
    "    valid_loader = DataLoader(valid_data, batch_size=batch_size, shuffle=True, num_workers=0, collate_fn=collate) \n",
    "     \n",
    "    return train_loader, valid_loader"
   ]
  },
  {
   "cell_type": "code",
   "execution_count": 18,
   "metadata": {},
   "outputs": [],
   "source": [
    "config = BertConfig.from_json_file(model_path / 'bert_config.json')\n",
    "bert = BertModel.from_pretrained(model_path / 'UTH_BERT.bin', config=config)\n",
    "\n",
    "class Net(nn.Module):\n",
    "    def __init__(self, bert, num_classes):\n",
    "        super(Net, self).__init__()\n",
    "        self.bert = bert\n",
    "        self.cls = nn.Linear(768, num_classes)\n",
    "\n",
    "  # @torch.cuda.amp.autocast()\n",
    "    def forward(self, inputs_ids, pad_masks, Attention=False):\n",
    "        bout = self.bert(inputs_ids, pad_masks, output_attentions=Attention)\n",
    "        bs = len(bout[0])\n",
    "        h0 = [bout[0][i][0] for i in range(bs)]\n",
    "        h0 = torch.stack(h0,dim=0)\n",
    "        if Attention:\n",
    "            return self.cls(h0),bout\n",
    "        else:\n",
    "            return self.cls(h0)"
   ]
  },
  {
   "cell_type": "code",
   "execution_count": 19,
   "metadata": {},
   "outputs": [],
   "source": [
    "def plot_loss(train_loss, valid_loss):\n",
    "    plt.plot(train_loss)\n",
    "    plt.plot(valid_loss)\n",
    "    plt.xlabel('epoch')\n",
    "    plt.ylabel('loss')\n",
    "    plt.legend(['train_loss', 'valid_loss'], loc='upper right')\n",
    "    plt.xticks(np.arange(0, len(train_loss) + 1, 5))\n",
    "    plt.show()"
   ]
  },
  {
   "cell_type": "code",
   "execution_count": 20,
   "metadata": {},
   "outputs": [],
   "source": [
    "def plot_metrics(train_acc, test_acc):\n",
    "    plt.plot(train_acc)\n",
    "    plt.plot(test_acc)\n",
    "    plt.title('model accuracy')\n",
    "    plt.xlabel('epoch')\n",
    "    plt.ylabel('accuracy')\n",
    "    plt.legend(['train_acc', 'valid_acc'], loc='lower right')\n",
    "    plt.xticks(np.arange(0, len(train_acc) + 1, 5))\n",
    "    plt.show()"
   ]
  },
  {
   "cell_type": "code",
   "execution_count": 21,
   "metadata": {},
   "outputs": [],
   "source": [
    "def synchronize():\n",
    "    if torch.backends.mps.is_available():\n",
    "        torch.mps.synchronize()\n",
    "    elif torch.cuda.is_available():\n",
    "        torch.cuda.synchronize()\n",
    "\n",
    "def run(train_loader, valid_loader, model, num_classes, epochs=10, patience=5, delta=0.0, save_path=save_path):\n",
    "    \n",
    "    train_loss, valid_loss, train_acc, valid_acc = [], [], [], []\n",
    "    best_acc, best_acc_epoch = 0.0, 0\n",
    "    best_valid_loss = np.inf\n",
    "    patience_counter = 0\n",
    "    \n",
    "    for epoch in range(0, epochs): \n",
    "        print(f'\\nEpoch {epoch + 1}/{epochs}')\n",
    "        print('-' * 10)\n",
    "        epoch_train_loss, epoch_valid_loss = 0.0, 0.0\n",
    "        epoch_train_acc = 0.0\n",
    "\n",
    "        model.train() \n",
    "        start = time.time()\n",
    "        for data in tqdm(train_loader): \n",
    "            inputs, masks, labels = data[0].to(device), data[1].to(device), data[2].to(device)\n",
    "            optimizer.zero_grad() \n",
    "            outputs = model(inputs, masks)\n",
    "            loss = criterion(outputs, labels)  \n",
    "            loss.backward() \n",
    "            optimizer.step() \n",
    "            epoch_train_loss += loss.item() / len(train_loader) \n",
    "            acc = (F.softmax(outputs, dim=1).argmax(dim=1) == labels).float().mean()\n",
    "            epoch_train_acc += acc.item() / len(train_loader)\n",
    "            del inputs, masks, labels, outputs, loss    \n",
    "\n",
    "        train_loss.append(epoch_train_loss)\n",
    "        train_acc.append(epoch_train_acc)\n",
    "        synchronize()\n",
    "        elapsed_time = time.time() - start\n",
    "        print(f'Train loss: {epoch_train_loss:.4f}, Train acc: {epoch_train_acc:.4f}, Time: {elapsed_time:.0f}s')\n",
    "        \n",
    "        model.eval()\n",
    "        label_li, pred_li = [], []\n",
    "        with torch.no_grad():\n",
    "            for data in valid_loader:\n",
    "                inputs, masks, labels = data[0].to(device), data[1].to(device), data[2].to(device)\n",
    "                outputs = model(inputs, masks)\n",
    "                loss = criterion(outputs, labels)\n",
    "                epoch_valid_loss += loss.item() / len(valid_loader)\n",
    "                preds = F.softmax(outputs, dim=1).argmax(dim=1)\n",
    "                label_li.extend(labels.cpu().numpy())\n",
    "                pred_li.extend(preds.cpu().numpy())\n",
    "\n",
    "        valid_loss.append(epoch_valid_loss)\n",
    "        epoch_valid_acc = accuracy_score(label_li, pred_li)\n",
    "        valid_acc.append(epoch_valid_acc)\n",
    "\n",
    "        print(f'Valid loss: {epoch_valid_loss:.4f}, Valid acc: {epoch_valid_acc:.4f}')\n",
    "\n",
    "        if epoch_valid_acc > best_acc: \n",
    "            best_acc = epoch_valid_acc\n",
    "            best_acc_epoch = epoch\n",
    "            torch.save(model.state_dict(), save_path / f'best_acc_2.pth')\n",
    "\n",
    "        # # Early stopping\n",
    "        # if epoch_valid_loss < best_valid_loss - delta:\n",
    "        #     best_valid_loss = epoch_valid_loss\n",
    "        #     patience_counter = 0  # 改善があったので、カウンタをリセット\n",
    "        # else:\n",
    "        #     patience_counter += 1\n",
    "        # if patience_counter >= patience:\n",
    "        #     print(f'Early stopping at epoch {epoch + 1}')\n",
    "        #     break\n",
    "            \n",
    "    print('\\nTraining complete')\n",
    "    print(f'Best ACC: {best_acc:.4f} at epoch {best_acc_epoch}')\n",
    "\n",
    "    return train_loss, valid_loss, train_acc, valid_acc "
   ]
  },
  {
   "cell_type": "code",
   "execution_count": 22,
   "metadata": {},
   "outputs": [],
   "source": [
    "batch_size=2\n",
    "epochs=20\n",
    "learning_rate=1e-5\n",
    "momentum=0.9"
   ]
  },
  {
   "cell_type": "markdown",
   "metadata": {},
   "source": [
    "## Omittableモデル"
   ]
  },
  {
   "cell_type": "code",
   "execution_count": 23,
   "metadata": {},
   "outputs": [],
   "source": [
    "train_data = []\n",
    "valid_data = []\n",
    "for x, y in zip(X_train, Yomit_train):\n",
    "    data = [x, y]\n",
    "    train_data.append(data)\n",
    "for x, y in zip(X_valid, Yomit_valid):\n",
    "    data = [x, y]\n",
    "    valid_data.append(data)\n",
    "    \n",
    "train_loader, valid_loader = build_data(train_data, valid_data, batch_size=batch_size)"
   ]
  },
  {
   "cell_type": "code",
   "execution_count": 24,
   "metadata": {},
   "outputs": [],
   "source": [
    "config = BertConfig.from_json_file(model_path / 'bert_config.json')\n",
    "bert = BertModel.from_pretrained(model_path / 'UTH_BERT.bin', config=config)\n",
    "model = Net(bert, num_classes).to(device)\n",
    "\n",
    "FREEZE=False\n",
    "if FREEZE: \n",
    "    idx=1 #Any\n",
    "    for name, param in model.named_parameters(): \n",
    "        param.requires_grad = False \n",
    "    for name, param in list(model.named_parameters())[idx:]: \n",
    "        param.requires_grad = True \n",
    "#     optimizer = optim.SGD([{'params':list(model.parameters())[idx:], 'lr':learning_rate, 'momentum':momentum}])\n",
    "    optimizer = optim.Adam([{'params':list(model.parameters())[idx:], 'lr':learning_rate}]) \n",
    "    criterion = nn.CrossEntropyLoss()\n",
    "else:  \n",
    "#     optimizer = optim.SGD(model.parameters(), lr=learning_rate, momentum=momentum)\n",
    "    optimizer = optim.Adam(model.parameters(), lr=learning_rate)\n",
    "    criterion = nn.CrossEntropyLoss()\n",
    "\n",
    "scheduler = StepLR(optimizer, step_size=3, gamma=0.1)"
   ]
  },
  {
   "cell_type": "code",
   "execution_count": 25,
   "metadata": {},
   "outputs": [
    {
     "name": "stdout",
     "output_type": "stream",
     "text": [
      "\n",
      "Epoch 1/20\n",
      "----------\n"
     ]
    },
    {
     "data": {
      "application/vnd.jupyter.widget-view+json": {
       "model_id": "bfcd8989629244fb8232efb1fd962087",
       "version_major": 2,
       "version_minor": 0
      },
      "text/plain": [
       "  0%|          | 0/510 [00:00<?, ?it/s]"
      ]
     },
     "metadata": {},
     "output_type": "display_data"
    },
    {
     "name": "stdout",
     "output_type": "stream",
     "text": [
      "Train loss: 0.4950, Train acc: 0.7029, Time: 83s\n",
      "Valid loss: 0.6468, Valid acc: 0.6075\n",
      "\n",
      "Epoch 2/20\n",
      "----------\n"
     ]
    },
    {
     "data": {
      "application/vnd.jupyter.widget-view+json": {
       "model_id": "04ed336250394514b444fb49043c0ea2",
       "version_major": 2,
       "version_minor": 0
      },
      "text/plain": [
       "  0%|          | 0/510 [00:00<?, ?it/s]"
      ]
     },
     "metadata": {},
     "output_type": "display_data"
    },
    {
     "name": "stdout",
     "output_type": "stream",
     "text": [
      "Train loss: 0.4488, Train acc: 0.7196, Time: 90s\n",
      "Valid loss: 0.5120, Valid acc: 0.6541\n",
      "\n",
      "Epoch 3/20\n",
      "----------\n"
     ]
    },
    {
     "data": {
      "application/vnd.jupyter.widget-view+json": {
       "model_id": "10a401b22dc74c08a7b8bcca817ae502",
       "version_major": 2,
       "version_minor": 0
      },
      "text/plain": [
       "  0%|          | 0/510 [00:00<?, ?it/s]"
      ]
     },
     "metadata": {},
     "output_type": "display_data"
    },
    {
     "name": "stdout",
     "output_type": "stream",
     "text": [
      "Train loss: 0.4079, Train acc: 0.7559, Time: 102s\n",
      "Valid loss: 0.4110, Valid acc: 0.7339\n",
      "\n",
      "Epoch 4/20\n",
      "----------\n"
     ]
    },
    {
     "data": {
      "application/vnd.jupyter.widget-view+json": {
       "model_id": "27c241b5a72349a6af8b4146169b265e",
       "version_major": 2,
       "version_minor": 0
      },
      "text/plain": [
       "  0%|          | 0/510 [00:00<?, ?it/s]"
      ]
     },
     "metadata": {},
     "output_type": "display_data"
    },
    {
     "name": "stdout",
     "output_type": "stream",
     "text": [
      "Train loss: 0.3997, Train acc: 0.7578, Time: 96s\n",
      "Valid loss: 0.4701, Valid acc: 0.7517\n",
      "\n",
      "Epoch 5/20\n",
      "----------\n"
     ]
    },
    {
     "data": {
      "application/vnd.jupyter.widget-view+json": {
       "model_id": "043e68a65a9147ffb65defb3fd2fca85",
       "version_major": 2,
       "version_minor": 0
      },
      "text/plain": [
       "  0%|          | 0/510 [00:00<?, ?it/s]"
      ]
     },
     "metadata": {},
     "output_type": "display_data"
    },
    {
     "name": "stdout",
     "output_type": "stream",
     "text": [
      "Train loss: 0.3845, Train acc: 0.7647, Time: 95s\n",
      "Valid loss: 0.4728, Valid acc: 0.7206\n",
      "\n",
      "Epoch 6/20\n",
      "----------\n"
     ]
    },
    {
     "data": {
      "application/vnd.jupyter.widget-view+json": {
       "model_id": "93531dfb162948e9a3371acaa222e108",
       "version_major": 2,
       "version_minor": 0
      },
      "text/plain": [
       "  0%|          | 0/510 [00:00<?, ?it/s]"
      ]
     },
     "metadata": {},
     "output_type": "display_data"
    },
    {
     "name": "stdout",
     "output_type": "stream",
     "text": [
      "Train loss: 0.3858, Train acc: 0.7529, Time: 98s\n",
      "Valid loss: 0.4895, Valid acc: 0.7140\n",
      "\n",
      "Epoch 7/20\n",
      "----------\n"
     ]
    },
    {
     "data": {
      "application/vnd.jupyter.widget-view+json": {
       "model_id": "628de398a8b841a79072e851f4641467",
       "version_major": 2,
       "version_minor": 0
      },
      "text/plain": [
       "  0%|          | 0/510 [00:00<?, ?it/s]"
      ]
     },
     "metadata": {},
     "output_type": "display_data"
    },
    {
     "name": "stdout",
     "output_type": "stream",
     "text": [
      "Train loss: 0.3740, Train acc: 0.7637, Time: 95s\n",
      "Valid loss: 0.4674, Valid acc: 0.7029\n",
      "\n",
      "Epoch 8/20\n",
      "----------\n"
     ]
    },
    {
     "data": {
      "application/vnd.jupyter.widget-view+json": {
       "model_id": "4423f200b9104a219a7760970f6f9ca5",
       "version_major": 2,
       "version_minor": 0
      },
      "text/plain": [
       "  0%|          | 0/510 [00:00<?, ?it/s]"
      ]
     },
     "metadata": {},
     "output_type": "display_data"
    },
    {
     "name": "stdout",
     "output_type": "stream",
     "text": [
      "Train loss: 0.3799, Train acc: 0.7608, Time: 94s\n",
      "Valid loss: 0.5098, Valid acc: 0.6918\n",
      "\n",
      "Epoch 9/20\n",
      "----------\n"
     ]
    },
    {
     "data": {
      "application/vnd.jupyter.widget-view+json": {
       "model_id": "9e81a06e721d4d66831de4d3bd7c9bb1",
       "version_major": 2,
       "version_minor": 0
      },
      "text/plain": [
       "  0%|          | 0/510 [00:00<?, ?it/s]"
      ]
     },
     "metadata": {},
     "output_type": "display_data"
    },
    {
     "name": "stdout",
     "output_type": "stream",
     "text": [
      "Train loss: 0.3791, Train acc: 0.7618, Time: 99s\n",
      "Valid loss: 0.6069, Valid acc: 0.6430\n",
      "\n",
      "Epoch 10/20\n",
      "----------\n"
     ]
    },
    {
     "data": {
      "application/vnd.jupyter.widget-view+json": {
       "model_id": "1bef36ed92de4217a6c9849d34b89de8",
       "version_major": 2,
       "version_minor": 0
      },
      "text/plain": [
       "  0%|          | 0/510 [00:00<?, ?it/s]"
      ]
     },
     "metadata": {},
     "output_type": "display_data"
    },
    {
     "name": "stdout",
     "output_type": "stream",
     "text": [
      "Train loss: 0.3638, Train acc: 0.7853, Time: 94s\n",
      "Valid loss: 0.6928, Valid acc: 0.6585\n",
      "\n",
      "Epoch 11/20\n",
      "----------\n"
     ]
    },
    {
     "data": {
      "application/vnd.jupyter.widget-view+json": {
       "model_id": "e81414ff817f46a9b23a0005588b1827",
       "version_major": 2,
       "version_minor": 0
      },
      "text/plain": [
       "  0%|          | 0/510 [00:00<?, ?it/s]"
      ]
     },
     "metadata": {},
     "output_type": "display_data"
    },
    {
     "name": "stdout",
     "output_type": "stream",
     "text": [
      "Train loss: 0.3602, Train acc: 0.7608, Time: 96s\n",
      "Valid loss: 0.5813, Valid acc: 0.7384\n",
      "\n",
      "Epoch 12/20\n",
      "----------\n"
     ]
    },
    {
     "data": {
      "application/vnd.jupyter.widget-view+json": {
       "model_id": "7fcbeb98366a4056ba840bc85aaf11c5",
       "version_major": 2,
       "version_minor": 0
      },
      "text/plain": [
       "  0%|          | 0/510 [00:00<?, ?it/s]"
      ]
     },
     "metadata": {},
     "output_type": "display_data"
    },
    {
     "name": "stdout",
     "output_type": "stream",
     "text": [
      "Train loss: 0.3972, Train acc: 0.7441, Time: 100s\n",
      "Valid loss: 0.4280, Valid acc: 0.7317\n",
      "\n",
      "Epoch 13/20\n",
      "----------\n"
     ]
    },
    {
     "data": {
      "application/vnd.jupyter.widget-view+json": {
       "model_id": "0e42a7dd3b9a411497dedc84b5d58283",
       "version_major": 2,
       "version_minor": 0
      },
      "text/plain": [
       "  0%|          | 0/510 [00:00<?, ?it/s]"
      ]
     },
     "metadata": {},
     "output_type": "display_data"
    },
    {
     "name": "stdout",
     "output_type": "stream",
     "text": [
      "Train loss: 0.3760, Train acc: 0.7725, Time: 94s\n",
      "Valid loss: 0.4598, Valid acc: 0.7206\n",
      "\n",
      "Epoch 14/20\n",
      "----------\n"
     ]
    },
    {
     "data": {
      "application/vnd.jupyter.widget-view+json": {
       "model_id": "e8c4015244cd4eba9489391a3597b4bc",
       "version_major": 2,
       "version_minor": 0
      },
      "text/plain": [
       "  0%|          | 0/510 [00:00<?, ?it/s]"
      ]
     },
     "metadata": {},
     "output_type": "display_data"
    },
    {
     "name": "stdout",
     "output_type": "stream",
     "text": [
      "Train loss: 0.4450, Train acc: 0.7451, Time: 93s\n",
      "Valid loss: 0.5343, Valid acc: 0.6718\n",
      "\n",
      "Epoch 15/20\n",
      "----------\n"
     ]
    },
    {
     "data": {
      "application/vnd.jupyter.widget-view+json": {
       "model_id": "caebe0e3764a4309906d9580d25b3031",
       "version_major": 2,
       "version_minor": 0
      },
      "text/plain": [
       "  0%|          | 0/510 [00:00<?, ?it/s]"
      ]
     },
     "metadata": {},
     "output_type": "display_data"
    },
    {
     "name": "stdout",
     "output_type": "stream",
     "text": [
      "Train loss: 0.4186, Train acc: 0.7559, Time: 95s\n",
      "Valid loss: 0.5408, Valid acc: 0.7095\n",
      "\n",
      "Epoch 16/20\n",
      "----------\n"
     ]
    },
    {
     "data": {
      "application/vnd.jupyter.widget-view+json": {
       "model_id": "b7d489cf1e6b435fbc1a1f949e1f7d60",
       "version_major": 2,
       "version_minor": 0
      },
      "text/plain": [
       "  0%|          | 0/510 [00:00<?, ?it/s]"
      ]
     },
     "metadata": {},
     "output_type": "display_data"
    },
    {
     "name": "stdout",
     "output_type": "stream",
     "text": [
      "Train loss: 0.3938, Train acc: 0.7725, Time: 93s\n",
      "Valid loss: 0.4350, Valid acc: 0.7384\n",
      "\n",
      "Epoch 17/20\n",
      "----------\n"
     ]
    },
    {
     "data": {
      "application/vnd.jupyter.widget-view+json": {
       "model_id": "8dad2ba1df824ca9bb857c44a3a05f27",
       "version_major": 2,
       "version_minor": 0
      },
      "text/plain": [
       "  0%|          | 0/510 [00:00<?, ?it/s]"
      ]
     },
     "metadata": {},
     "output_type": "display_data"
    },
    {
     "name": "stdout",
     "output_type": "stream",
     "text": [
      "Train loss: 0.3527, Train acc: 0.7755, Time: 93s\n",
      "Valid loss: 0.6651, Valid acc: 0.6386\n",
      "\n",
      "Epoch 18/20\n",
      "----------\n"
     ]
    },
    {
     "data": {
      "application/vnd.jupyter.widget-view+json": {
       "model_id": "350c29be297c465d90bef6712cd2bdb7",
       "version_major": 2,
       "version_minor": 0
      },
      "text/plain": [
       "  0%|          | 0/510 [00:00<?, ?it/s]"
      ]
     },
     "metadata": {},
     "output_type": "display_data"
    },
    {
     "name": "stdout",
     "output_type": "stream",
     "text": [
      "Train loss: 0.4097, Train acc: 0.7569, Time: 96s\n",
      "Valid loss: 0.5016, Valid acc: 0.6896\n",
      "\n",
      "Epoch 19/20\n",
      "----------\n"
     ]
    },
    {
     "data": {
      "application/vnd.jupyter.widget-view+json": {
       "model_id": "d30e85ae5eda40ab944c5c133af51b05",
       "version_major": 2,
       "version_minor": 0
      },
      "text/plain": [
       "  0%|          | 0/510 [00:00<?, ?it/s]"
      ]
     },
     "metadata": {},
     "output_type": "display_data"
    },
    {
     "name": "stdout",
     "output_type": "stream",
     "text": [
      "Train loss: 0.3905, Train acc: 0.7627, Time: 92s\n",
      "Valid loss: 0.4785, Valid acc: 0.6918\n",
      "\n",
      "Epoch 20/20\n",
      "----------\n"
     ]
    },
    {
     "data": {
      "application/vnd.jupyter.widget-view+json": {
       "model_id": "837ebe74e6584177be044774008b04a1",
       "version_major": 2,
       "version_minor": 0
      },
      "text/plain": [
       "  0%|          | 0/510 [00:00<?, ?it/s]"
      ]
     },
     "metadata": {},
     "output_type": "display_data"
    },
    {
     "name": "stdout",
     "output_type": "stream",
     "text": [
      "Train loss: 0.3724, Train acc: 0.7686, Time: 90s\n",
      "Valid loss: 0.4892, Valid acc: 0.6962\n",
      "\n",
      "Training complete\n",
      "Best ACC: 0.7517 at epoch 3\n"
     ]
    }
   ],
   "source": [
    "train_loss, valid_loss, train_acc, valid_acc = run(train_loader, valid_loader, model,\n",
    "                                                             num_classes, epochs=epochs,\n",
    "                                                             save_path=save_path/'omit')"
   ]
  },
  {
   "cell_type": "code",
   "execution_count": 26,
   "metadata": {},
   "outputs": [
    {
     "data": {
      "image/png": "[encoded data removed]",
      "text/plain": [
       "<Figure size 640x480 with 1 Axes>"
      ]
     },
     "metadata": {},
     "output_type": "display_data"
    }
   ],
   "source": [
    "plot_loss(train_loss, valid_loss)"
   ]
  },
  {
   "cell_type": "code",
   "execution_count": 27,
   "metadata": {},
   "outputs": [
    {
     "data": {
      "image/png": "[encoded data removed]",
      "text/plain": [
       "<Figure size 640x480 with 1 Axes>"
      ]
     },
     "metadata": {},
     "output_type": "display_data"
    }
   ],
   "source": [
    "plot_metrics(train_acc, valid_acc)"
   ]
  },
  {
   "cell_type": "code",
   "execution_count": 28,
   "metadata": {},
   "outputs": [
    {
     "name": "stdout",
     "output_type": "stream",
     "text": [
      "accuracy: 0.7516629711751663\n"
     ]
    }
   ],
   "source": [
    "print(f'accuracy: {max(valid_acc)}')"
   ]
  },
  {
   "cell_type": "markdown",
   "metadata": {},
   "source": [
    "## Measureモデル"
   ]
  },
  {
   "cell_type": "code",
   "execution_count": 29,
   "metadata": {},
   "outputs": [],
   "source": [
    "train_data = []\n",
    "valid_data = []\n",
    "for x, y in zip(X_train, Ymeas_train):\n",
    "    data = [x, y]\n",
    "    train_data.append(data)\n",
    "for x, y in zip(X_valid, Ymeas_valid):\n",
    "    data = [x, y]\n",
    "    valid_data.append(data)\n",
    "    \n",
    "train_loader, valid_loader = build_data(train_data, valid_data, batch_size=batch_size)"
   ]
  },
  {
   "cell_type": "code",
   "execution_count": 30,
   "metadata": {},
   "outputs": [],
   "source": [
    "config = BertConfig.from_json_file(model_path / 'bert_config.json')\n",
    "bert = BertModel.from_pretrained(model_path / 'UTH_BERT.bin', config=config)\n",
    "model = Net(bert, num_classes).to(device)\n",
    "\n",
    "FREEZE=False\n",
    "if FREEZE: \n",
    "    idx=1 #Any\n",
    "    for name, param in model.named_parameters(): \n",
    "        param.requires_grad = False \n",
    "    for name, param in list(model.named_parameters())[idx:]: \n",
    "        param.requires_grad = True \n",
    "#     optimizer = optim.SGD([{'params':list(model.parameters())[idx:], 'lr':learning_rate, 'momentum':momentum}])\n",
    "    optimizer = optim.Adam([{'params':list(model.parameters())[idx:], 'lr':learning_rate}]) \n",
    "    criterion = nn.CrossEntropyLoss()\n",
    "else:  \n",
    "#     optimizer = optim.SGD(model.parameters(), lr=learning_rate, momentum=momentum)\n",
    "    optimizer = optim.Adam(model.parameters(), lr=learning_rate)\n",
    "    criterion = nn.CrossEntropyLoss()\n",
    "\n",
    "scheduler = StepLR(optimizer, step_size=3, gamma=0.1)"
   ]
  },
  {
   "cell_type": "code",
   "execution_count": 31,
   "metadata": {},
   "outputs": [
    {
     "name": "stdout",
     "output_type": "stream",
     "text": [
      "\n",
      "Epoch 1/20\n",
      "----------\n"
     ]
    },
    {
     "data": {
      "application/vnd.jupyter.widget-view+json": {
       "model_id": "a78f887432c641b59afd41a5425921a6",
       "version_major": 2,
       "version_minor": 0
      },
      "text/plain": [
       "  0%|          | 0/510 [00:00<?, ?it/s]"
      ]
     },
     "metadata": {},
     "output_type": "display_data"
    },
    {
     "name": "stdout",
     "output_type": "stream",
     "text": [
      "Train loss: 0.3688, Train acc: 0.8853, Time: 93s\n",
      "Valid loss: 0.3446, Valid acc: 0.8692\n",
      "\n",
      "Epoch 2/20\n",
      "----------\n"
     ]
    },
    {
     "data": {
      "application/vnd.jupyter.widget-view+json": {
       "model_id": "9d6d51d0668344b4bfd61816230b9e24",
       "version_major": 2,
       "version_minor": 0
      },
      "text/plain": [
       "  0%|          | 0/510 [00:00<?, ?it/s]"
      ]
     },
     "metadata": {},
     "output_type": "display_data"
    },
    {
     "name": "stdout",
     "output_type": "stream",
     "text": [
      "Train loss: 0.3086, Train acc: 0.8853, Time: 93s\n",
      "Valid loss: 0.3984, Valid acc: 0.8803\n",
      "\n",
      "Epoch 3/20\n",
      "----------\n"
     ]
    },
    {
     "data": {
      "application/vnd.jupyter.widget-view+json": {
       "model_id": "06ed337a648440f58a58c5d866501df5",
       "version_major": 2,
       "version_minor": 0
      },
      "text/plain": [
       "  0%|          | 0/510 [00:00<?, ?it/s]"
      ]
     },
     "metadata": {},
     "output_type": "display_data"
    },
    {
     "name": "stdout",
     "output_type": "stream",
     "text": [
      "Train loss: 0.2856, Train acc: 0.9020, Time: 93s\n",
      "Valid loss: 0.3397, Valid acc: 0.8936\n",
      "\n",
      "Epoch 4/20\n",
      "----------\n"
     ]
    },
    {
     "data": {
      "application/vnd.jupyter.widget-view+json": {
       "model_id": "ddba25cb93e14d02bc72e0aeecf6308a",
       "version_major": 2,
       "version_minor": 0
      },
      "text/plain": [
       "  0%|          | 0/510 [00:00<?, ?it/s]"
      ]
     },
     "metadata": {},
     "output_type": "display_data"
    },
    {
     "name": "stdout",
     "output_type": "stream",
     "text": [
      "Train loss: 0.2715, Train acc: 0.9069, Time: 98s\n",
      "Valid loss: 0.3120, Valid acc: 0.8936\n",
      "\n",
      "Epoch 5/20\n",
      "----------\n"
     ]
    },
    {
     "data": {
      "application/vnd.jupyter.widget-view+json": {
       "model_id": "d6910e1525ab4bb295463cf2db6e21d7",
       "version_major": 2,
       "version_minor": 0
      },
      "text/plain": [
       "  0%|          | 0/510 [00:00<?, ?it/s]"
      ]
     },
     "metadata": {},
     "output_type": "display_data"
    },
    {
     "name": "stdout",
     "output_type": "stream",
     "text": [
      "Train loss: 0.2595, Train acc: 0.9108, Time: 98s\n",
      "Valid loss: 0.3261, Valid acc: 0.8758\n",
      "\n",
      "Epoch 6/20\n",
      "----------\n"
     ]
    },
    {
     "data": {
      "application/vnd.jupyter.widget-view+json": {
       "model_id": "4f60ba90f43f4c63afaee05037e38d3c",
       "version_major": 2,
       "version_minor": 0
      },
      "text/plain": [
       "  0%|          | 0/510 [00:00<?, ?it/s]"
      ]
     },
     "metadata": {},
     "output_type": "display_data"
    },
    {
     "name": "stdout",
     "output_type": "stream",
     "text": [
      "Train loss: 0.2627, Train acc: 0.9127, Time: 95s\n",
      "Valid loss: 0.3785, Valid acc: 0.8470\n",
      "\n",
      "Epoch 7/20\n",
      "----------\n"
     ]
    },
    {
     "data": {
      "application/vnd.jupyter.widget-view+json": {
       "model_id": "20fc0069fc364c17b13f88f78e914e78",
       "version_major": 2,
       "version_minor": 0
      },
      "text/plain": [
       "  0%|          | 0/510 [00:00<?, ?it/s]"
      ]
     },
     "metadata": {},
     "output_type": "display_data"
    },
    {
     "name": "stdout",
     "output_type": "stream",
     "text": [
      "Train loss: 0.2677, Train acc: 0.9098, Time: 95s\n",
      "Valid loss: 0.3232, Valid acc: 0.8825\n",
      "\n",
      "Epoch 8/20\n",
      "----------\n"
     ]
    },
    {
     "data": {
      "application/vnd.jupyter.widget-view+json": {
       "model_id": "74ae8e8b6801421ba8a0cb33639628b8",
       "version_major": 2,
       "version_minor": 0
      },
      "text/plain": [
       "  0%|          | 0/510 [00:00<?, ?it/s]"
      ]
     },
     "metadata": {},
     "output_type": "display_data"
    },
    {
     "name": "stdout",
     "output_type": "stream",
     "text": [
      "Train loss: 0.2414, Train acc: 0.9176, Time: 93s\n",
      "Valid loss: 0.3061, Valid acc: 0.9002\n",
      "\n",
      "Epoch 9/20\n",
      "----------\n"
     ]
    },
    {
     "data": {
      "application/vnd.jupyter.widget-view+json": {
       "model_id": "7dc457c2f3c64c6d90951627238f188b",
       "version_major": 2,
       "version_minor": 0
      },
      "text/plain": [
       "  0%|          | 0/510 [00:00<?, ?it/s]"
      ]
     },
     "metadata": {},
     "output_type": "display_data"
    },
    {
     "name": "stdout",
     "output_type": "stream",
     "text": [
      "Train loss: 0.2284, Train acc: 0.9216, Time: 91s\n",
      "Valid loss: 0.3555, Valid acc: 0.8936\n",
      "\n",
      "Epoch 10/20\n",
      "----------\n"
     ]
    },
    {
     "data": {
      "application/vnd.jupyter.widget-view+json": {
       "model_id": "28db2b6360244ed09fc02c673af83d5b",
       "version_major": 2,
       "version_minor": 0
      },
      "text/plain": [
       "  0%|          | 0/510 [00:00<?, ?it/s]"
      ]
     },
     "metadata": {},
     "output_type": "display_data"
    },
    {
     "name": "stdout",
     "output_type": "stream",
     "text": [
      "Train loss: 0.2453, Train acc: 0.9186, Time: 94s\n",
      "Valid loss: 0.3493, Valid acc: 0.8803\n",
      "\n",
      "Epoch 11/20\n",
      "----------\n"
     ]
    },
    {
     "data": {
      "application/vnd.jupyter.widget-view+json": {
       "model_id": "d58e2adb1a9d4cc695ea6be23830a48f",
       "version_major": 2,
       "version_minor": 0
      },
      "text/plain": [
       "  0%|          | 0/510 [00:00<?, ?it/s]"
      ]
     },
     "metadata": {},
     "output_type": "display_data"
    },
    {
     "name": "stdout",
     "output_type": "stream",
     "text": [
      "Train loss: 0.2653, Train acc: 0.9098, Time: 94s\n",
      "Valid loss: 0.3593, Valid acc: 0.8758\n",
      "\n",
      "Epoch 12/20\n",
      "----------\n"
     ]
    },
    {
     "data": {
      "application/vnd.jupyter.widget-view+json": {
       "model_id": "05985a824ffa43008676b3c8333fde02",
       "version_major": 2,
       "version_minor": 0
      },
      "text/plain": [
       "  0%|          | 0/510 [00:00<?, ?it/s]"
      ]
     },
     "metadata": {},
     "output_type": "display_data"
    },
    {
     "name": "stdout",
     "output_type": "stream",
     "text": [
      "Train loss: 0.3351, Train acc: 0.8882, Time: 91s\n",
      "Valid loss: 0.3239, Valid acc: 0.8758\n",
      "\n",
      "Epoch 13/20\n",
      "----------\n"
     ]
    },
    {
     "data": {
      "application/vnd.jupyter.widget-view+json": {
       "model_id": "8249d14734174710a20de5a0a94927d8",
       "version_major": 2,
       "version_minor": 0
      },
      "text/plain": [
       "  0%|          | 0/510 [00:00<?, ?it/s]"
      ]
     },
     "metadata": {},
     "output_type": "display_data"
    },
    {
     "name": "stdout",
     "output_type": "stream",
     "text": [
      "Train loss: 0.3482, Train acc: 0.8755, Time: 94s\n",
      "Valid loss: 0.3074, Valid acc: 0.8936\n",
      "\n",
      "Epoch 14/20\n",
      "----------\n"
     ]
    },
    {
     "data": {
      "application/vnd.jupyter.widget-view+json": {
       "model_id": "16a3bd68fe2843d5ab1fc1e62ddc39f0",
       "version_major": 2,
       "version_minor": 0
      },
      "text/plain": [
       "  0%|          | 0/510 [00:00<?, ?it/s]"
      ]
     },
     "metadata": {},
     "output_type": "display_data"
    },
    {
     "name": "stdout",
     "output_type": "stream",
     "text": [
      "Train loss: 0.2891, Train acc: 0.8990, Time: 94s\n",
      "Valid loss: 0.4033, Valid acc: 0.8625\n",
      "\n",
      "Epoch 15/20\n",
      "----------\n"
     ]
    },
    {
     "data": {
      "application/vnd.jupyter.widget-view+json": {
       "model_id": "13e9d4e2278f41c2bac86b495f7f29f5",
       "version_major": 2,
       "version_minor": 0
      },
      "text/plain": [
       "  0%|          | 0/510 [00:00<?, ?it/s]"
      ]
     },
     "metadata": {},
     "output_type": "display_data"
    },
    {
     "name": "stdout",
     "output_type": "stream",
     "text": [
      "Train loss: 0.2883, Train acc: 0.9029, Time: 92s\n",
      "Valid loss: 0.3870, Valid acc: 0.8492\n",
      "\n",
      "Epoch 16/20\n",
      "----------\n"
     ]
    },
    {
     "data": {
      "application/vnd.jupyter.widget-view+json": {
       "model_id": "a2e1493db390449dbdd5407b25c0194a",
       "version_major": 2,
       "version_minor": 0
      },
      "text/plain": [
       "  0%|          | 0/510 [00:00<?, ?it/s]"
      ]
     },
     "metadata": {},
     "output_type": "display_data"
    },
    {
     "name": "stdout",
     "output_type": "stream",
     "text": [
      "Train loss: 0.3077, Train acc: 0.8990, Time: 93s\n",
      "Valid loss: 0.3074, Valid acc: 0.8891\n",
      "\n",
      "Epoch 17/20\n",
      "----------\n"
     ]
    },
    {
     "data": {
      "application/vnd.jupyter.widget-view+json": {
       "model_id": "6bef3741d1354a9fa9056b543cf1d440",
       "version_major": 2,
       "version_minor": 0
      },
      "text/plain": [
       "  0%|          | 0/510 [00:00<?, ?it/s]"
      ]
     },
     "metadata": {},
     "output_type": "display_data"
    },
    {
     "name": "stdout",
     "output_type": "stream",
     "text": [
      "Train loss: 0.2604, Train acc: 0.9098, Time: 94s\n",
      "Valid loss: 0.3569, Valid acc: 0.8847\n",
      "\n",
      "Epoch 18/20\n",
      "----------\n"
     ]
    },
    {
     "data": {
      "application/vnd.jupyter.widget-view+json": {
       "model_id": "2f0409c8c13641e0aa5c7008fa77341f",
       "version_major": 2,
       "version_minor": 0
      },
      "text/plain": [
       "  0%|          | 0/510 [00:00<?, ?it/s]"
      ]
     },
     "metadata": {},
     "output_type": "display_data"
    },
    {
     "name": "stdout",
     "output_type": "stream",
     "text": [
      "Train loss: 0.2663, Train acc: 0.9069, Time: 91s\n",
      "Valid loss: 0.4716, Valid acc: 0.8603\n",
      "\n",
      "Epoch 19/20\n",
      "----------\n"
     ]
    },
    {
     "data": {
      "application/vnd.jupyter.widget-view+json": {
       "model_id": "029088c6cadd4b549edf260f4aeece42",
       "version_major": 2,
       "version_minor": 0
      },
      "text/plain": [
       "  0%|          | 0/510 [00:00<?, ?it/s]"
      ]
     },
     "metadata": {},
     "output_type": "display_data"
    },
    {
     "name": "stdout",
     "output_type": "stream",
     "text": [
      "Train loss: 0.2981, Train acc: 0.9000, Time: 93s\n",
      "Valid loss: 0.5178, Valid acc: 0.7805\n",
      "\n",
      "Epoch 20/20\n",
      "----------\n"
     ]
    },
    {
     "data": {
      "application/vnd.jupyter.widget-view+json": {
       "model_id": "8c15bffa60c94bfcaf9d2a3449201299",
       "version_major": 2,
       "version_minor": 0
      },
      "text/plain": [
       "  0%|          | 0/510 [00:00<?, ?it/s]"
      ]
     },
     "metadata": {},
     "output_type": "display_data"
    },
    {
     "name": "stdout",
     "output_type": "stream",
     "text": [
      "Train loss: 0.3010, Train acc: 0.8794, Time: 94s\n",
      "Valid loss: 0.3258, Valid acc: 0.8847\n",
      "\n",
      "Training complete\n",
      "Best ACC: 0.9002 at epoch 7\n"
     ]
    }
   ],
   "source": [
    "train_loss, valid_loss, train_acc, valid_acc = run(train_loader, valid_loader, model,\n",
    "                                                             num_classes, epochs=epochs,\n",
    "                                                             save_path=save_path/'meas')"
   ]
  },
  {
   "cell_type": "code",
   "execution_count": 32,
   "metadata": {},
   "outputs": [
    {
     "data": {
      "image/png": "[encoded data removed]",
      "text/plain": [
       "<Figure size 640x480 with 1 Axes>"
      ]
     },
     "metadata": {},
     "output_type": "display_data"
    }
   ],
   "source": [
    "plot_loss(train_loss, valid_loss)"
   ]
  },
  {
   "cell_type": "code",
   "execution_count": 33,
   "metadata": {},
   "outputs": [
    {
     "data": {
      "image/png": "[encoded data removed]",
      "text/plain": [
       "<Figure size 640x480 with 1 Axes>"
      ]
     },
     "metadata": {},
     "output_type": "display_data"
    }
   ],
   "source": [
    "plot_metrics(train_acc, valid_acc)"
   ]
  },
  {
   "cell_type": "code",
   "execution_count": 34,
   "metadata": {},
   "outputs": [
    {
     "name": "stdout",
     "output_type": "stream",
     "text": [
      "accuracy: 0.9002217294900222\n"
     ]
    }
   ],
   "source": [
    "print(f'accuracy: {max(valid_acc)}')"
   ]
  },
  {
   "cell_type": "markdown",
   "metadata": {},
   "source": [
    "## Extensionモデル"
   ]
  },
  {
   "cell_type": "code",
   "execution_count": 35,
   "metadata": {},
   "outputs": [],
   "source": [
    "train_data = []\n",
    "valid_data = []\n",
    "for x, y in zip(X_train, Yexte_train):\n",
    "    data = [x, y]\n",
    "    train_data.append(data)\n",
    "for x, y in zip(X_valid, Yexte_valid):\n",
    "    data = [x, y]\n",
    "    valid_data.append(data)\n",
    "    \n",
    "train_loader, valid_loader = build_data(train_data, valid_data, batch_size=batch_size)"
   ]
  },
  {
   "cell_type": "code",
   "execution_count": 36,
   "metadata": {},
   "outputs": [],
   "source": [
    "config = BertConfig.from_json_file(model_path / 'bert_config.json')\n",
    "bert = BertModel.from_pretrained(model_path / 'UTH_BERT.bin', config=config)\n",
    "model = Net(bert, num_classes).to(device)\n",
    "\n",
    "FREEZE=False\n",
    "if FREEZE: \n",
    "    idx=1 #Any\n",
    "    for name, param in model.named_parameters(): \n",
    "        param.requires_grad = False \n",
    "    for name, param in list(model.named_parameters())[idx:]: \n",
    "        param.requires_grad = True \n",
    "#     optimizer = optim.SGD([{'params':list(model.parameters())[idx:], 'lr':learning_rate, 'momentum':momentum}])\n",
    "    optimizer = optim.Adam([{'params':list(model.parameters())[idx:], 'lr':learning_rate}]) \n",
    "    criterion = nn.CrossEntropyLoss()\n",
    "else:  \n",
    "#     optimizer = optim.SGD(model.parameters(), lr=learning_rate, momentum=momentum)\n",
    "    optimizer = optim.Adam(model.parameters(), lr=learning_rate)\n",
    "    criterion = nn.CrossEntropyLoss()\n",
    "\n",
    "scheduler = StepLR(optimizer, step_size=3, gamma=0.1)"
   ]
  },
  {
   "cell_type": "code",
   "execution_count": 37,
   "metadata": {},
   "outputs": [
    {
     "name": "stdout",
     "output_type": "stream",
     "text": [
      "\n",
      "Epoch 1/20\n",
      "----------\n"
     ]
    },
    {
     "data": {
      "application/vnd.jupyter.widget-view+json": {
       "model_id": "db17ac945dde45dcbeae18219a28098d",
       "version_major": 2,
       "version_minor": 0
      },
      "text/plain": [
       "  0%|          | 0/510 [00:00<?, ?it/s]"
      ]
     },
     "metadata": {},
     "output_type": "display_data"
    },
    {
     "name": "stdout",
     "output_type": "stream",
     "text": [
      "Train loss: 0.2770, Train acc: 0.9127, Time: 91s\n",
      "Valid loss: 0.1971, Valid acc: 0.9401\n",
      "\n",
      "Epoch 2/20\n",
      "----------\n"
     ]
    },
    {
     "data": {
      "application/vnd.jupyter.widget-view+json": {
       "model_id": "bcf7eef769824694b80dc33caa1d4183",
       "version_major": 2,
       "version_minor": 0
      },
      "text/plain": [
       "  0%|          | 0/510 [00:00<?, ?it/s]"
      ]
     },
     "metadata": {},
     "output_type": "display_data"
    },
    {
     "name": "stdout",
     "output_type": "stream",
     "text": [
      "Train loss: 0.2039, Train acc: 0.9363, Time: 92s\n",
      "Valid loss: 0.1684, Valid acc: 0.9468\n",
      "\n",
      "Epoch 3/20\n",
      "----------\n"
     ]
    },
    {
     "data": {
      "application/vnd.jupyter.widget-view+json": {
       "model_id": "505bd99edd0a4528b73069069125e691",
       "version_major": 2,
       "version_minor": 0
      },
      "text/plain": [
       "  0%|          | 0/510 [00:00<?, ?it/s]"
      ]
     },
     "metadata": {},
     "output_type": "display_data"
    },
    {
     "name": "stdout",
     "output_type": "stream",
     "text": [
      "Train loss: 0.1960, Train acc: 0.9441, Time: 94s\n",
      "Valid loss: 0.2004, Valid acc: 0.9401\n",
      "\n",
      "Epoch 4/20\n",
      "----------\n"
     ]
    },
    {
     "data": {
      "application/vnd.jupyter.widget-view+json": {
       "model_id": "c39e472f8df44dbdb2eee174c7f2355f",
       "version_major": 2,
       "version_minor": 0
      },
      "text/plain": [
       "  0%|          | 0/510 [00:00<?, ?it/s]"
      ]
     },
     "metadata": {},
     "output_type": "display_data"
    },
    {
     "name": "stdout",
     "output_type": "stream",
     "text": [
      "Train loss: 0.1731, Train acc: 0.9490, Time: 91s\n",
      "Valid loss: 0.1527, Valid acc: 0.9557\n",
      "\n",
      "Epoch 5/20\n",
      "----------\n"
     ]
    },
    {
     "data": {
      "application/vnd.jupyter.widget-view+json": {
       "model_id": "0194e943f2b249419c87810087b23092",
       "version_major": 2,
       "version_minor": 0
      },
      "text/plain": [
       "  0%|          | 0/510 [00:00<?, ?it/s]"
      ]
     },
     "metadata": {},
     "output_type": "display_data"
    },
    {
     "name": "stdout",
     "output_type": "stream",
     "text": [
      "Train loss: 0.1763, Train acc: 0.9520, Time: 91s\n",
      "Valid loss: 0.2229, Valid acc: 0.9290\n",
      "\n",
      "Epoch 6/20\n",
      "----------\n"
     ]
    },
    {
     "data": {
      "application/vnd.jupyter.widget-view+json": {
       "model_id": "3c1a78e553cc45759bd57ae6be6893f3",
       "version_major": 2,
       "version_minor": 0
      },
      "text/plain": [
       "  0%|          | 0/510 [00:00<?, ?it/s]"
      ]
     },
     "metadata": {},
     "output_type": "display_data"
    },
    {
     "name": "stdout",
     "output_type": "stream",
     "text": [
      "Train loss: 0.1625, Train acc: 0.9559, Time: 94s\n",
      "Valid loss: 0.1777, Valid acc: 0.9424\n",
      "\n",
      "Epoch 7/20\n",
      "----------\n"
     ]
    },
    {
     "data": {
      "application/vnd.jupyter.widget-view+json": {
       "model_id": "6aa068afc90b4f23b30e30f00b89e864",
       "version_major": 2,
       "version_minor": 0
      },
      "text/plain": [
       "  0%|          | 0/510 [00:00<?, ?it/s]"
      ]
     },
     "metadata": {},
     "output_type": "display_data"
    },
    {
     "name": "stdout",
     "output_type": "stream",
     "text": [
      "Train loss: 0.1475, Train acc: 0.9588, Time: 92s\n",
      "Valid loss: 0.2674, Valid acc: 0.9224\n",
      "\n",
      "Epoch 8/20\n",
      "----------\n"
     ]
    },
    {
     "data": {
      "application/vnd.jupyter.widget-view+json": {
       "model_id": "8517bfd7f18e41a1a59cf3f5ec271c77",
       "version_major": 2,
       "version_minor": 0
      },
      "text/plain": [
       "  0%|          | 0/510 [00:00<?, ?it/s]"
      ]
     },
     "metadata": {},
     "output_type": "display_data"
    },
    {
     "name": "stdout",
     "output_type": "stream",
     "text": [
      "Train loss: 0.2123, Train acc: 0.9402, Time: 92s\n",
      "Valid loss: 0.3037, Valid acc: 0.9202\n",
      "\n",
      "Epoch 9/20\n",
      "----------\n"
     ]
    },
    {
     "data": {
      "application/vnd.jupyter.widget-view+json": {
       "model_id": "2de9be5671c04ce9bcbfdd1e083a3bac",
       "version_major": 2,
       "version_minor": 0
      },
      "text/plain": [
       "  0%|          | 0/510 [00:00<?, ?it/s]"
      ]
     },
     "metadata": {},
     "output_type": "display_data"
    },
    {
     "name": "stdout",
     "output_type": "stream",
     "text": [
      "Train loss: 0.1966, Train acc: 0.9431, Time: 93s\n",
      "Valid loss: 0.1923, Valid acc: 0.9424\n",
      "\n",
      "Epoch 10/20\n",
      "----------\n"
     ]
    },
    {
     "data": {
      "application/vnd.jupyter.widget-view+json": {
       "model_id": "d1658b2528214694a8c156daa4d5128e",
       "version_major": 2,
       "version_minor": 0
      },
      "text/plain": [
       "  0%|          | 0/510 [00:00<?, ?it/s]"
      ]
     },
     "metadata": {},
     "output_type": "display_data"
    },
    {
     "name": "stdout",
     "output_type": "stream",
     "text": [
      "Train loss: 0.1635, Train acc: 0.9539, Time: 92s\n",
      "Valid loss: 0.1940, Valid acc: 0.9401\n",
      "\n",
      "Epoch 11/20\n",
      "----------\n"
     ]
    },
    {
     "data": {
      "application/vnd.jupyter.widget-view+json": {
       "model_id": "98c036512eca412488b02e7e8a33547c",
       "version_major": 2,
       "version_minor": 0
      },
      "text/plain": [
       "  0%|          | 0/510 [00:00<?, ?it/s]"
      ]
     },
     "metadata": {},
     "output_type": "display_data"
    },
    {
     "name": "stdout",
     "output_type": "stream",
     "text": [
      "Train loss: 0.1627, Train acc: 0.9569, Time: 91s\n",
      "Valid loss: 0.1871, Valid acc: 0.9468\n",
      "\n",
      "Epoch 12/20\n",
      "----------\n"
     ]
    },
    {
     "data": {
      "application/vnd.jupyter.widget-view+json": {
       "model_id": "f04eb5cb38ea49e28bb2a3a33df4d0ff",
       "version_major": 2,
       "version_minor": 0
      },
      "text/plain": [
       "  0%|          | 0/510 [00:00<?, ?it/s]"
      ]
     },
     "metadata": {},
     "output_type": "display_data"
    },
    {
     "name": "stdout",
     "output_type": "stream",
     "text": [
      "Train loss: 0.1610, Train acc: 0.9549, Time: 94s\n",
      "Valid loss: 0.2119, Valid acc: 0.9468\n",
      "\n",
      "Epoch 13/20\n",
      "----------\n"
     ]
    },
    {
     "data": {
      "application/vnd.jupyter.widget-view+json": {
       "model_id": "5d2a60cd0cff4aebb254ba4d5ea2cfaa",
       "version_major": 2,
       "version_minor": 0
      },
      "text/plain": [
       "  0%|          | 0/510 [00:00<?, ?it/s]"
      ]
     },
     "metadata": {},
     "output_type": "display_data"
    },
    {
     "name": "stdout",
     "output_type": "stream",
     "text": [
      "Train loss: 0.1517, Train acc: 0.9588, Time: 92s\n",
      "Valid loss: 0.1668, Valid acc: 0.9534\n",
      "\n",
      "Epoch 14/20\n",
      "----------\n"
     ]
    },
    {
     "data": {
      "application/vnd.jupyter.widget-view+json": {
       "model_id": "37e8c4af162144498f64a9abe63c7ede",
       "version_major": 2,
       "version_minor": 0
      },
      "text/plain": [
       "  0%|          | 0/510 [00:00<?, ?it/s]"
      ]
     },
     "metadata": {},
     "output_type": "display_data"
    },
    {
     "name": "stdout",
     "output_type": "stream",
     "text": [
      "Train loss: 0.2437, Train acc: 0.9216, Time: 91s\n",
      "Valid loss: 0.1811, Valid acc: 0.9424\n",
      "\n",
      "Epoch 15/20\n",
      "----------\n"
     ]
    },
    {
     "data": {
      "application/vnd.jupyter.widget-view+json": {
       "model_id": "267041171102485a8a072d7850053f92",
       "version_major": 2,
       "version_minor": 0
      },
      "text/plain": [
       "  0%|          | 0/510 [00:00<?, ?it/s]"
      ]
     },
     "metadata": {},
     "output_type": "display_data"
    },
    {
     "name": "stdout",
     "output_type": "stream",
     "text": [
      "Train loss: 0.1793, Train acc: 0.9510, Time: 94s\n",
      "Valid loss: 0.2280, Valid acc: 0.9335\n",
      "\n",
      "Epoch 16/20\n",
      "----------\n"
     ]
    },
    {
     "data": {
      "application/vnd.jupyter.widget-view+json": {
       "model_id": "4c98765ef5034a96a196893f7bff38dd",
       "version_major": 2,
       "version_minor": 0
      },
      "text/plain": [
       "  0%|          | 0/510 [00:00<?, ?it/s]"
      ]
     },
     "metadata": {},
     "output_type": "display_data"
    },
    {
     "name": "stdout",
     "output_type": "stream",
     "text": [
      "Train loss: 0.1592, Train acc: 0.9578, Time: 93s\n",
      "Valid loss: 0.2118, Valid acc: 0.9313\n",
      "\n",
      "Epoch 17/20\n",
      "----------\n"
     ]
    },
    {
     "data": {
      "application/vnd.jupyter.widget-view+json": {
       "model_id": "b378b9b78d2a470e892532054e4a5f80",
       "version_major": 2,
       "version_minor": 0
      },
      "text/plain": [
       "  0%|          | 0/510 [00:00<?, ?it/s]"
      ]
     },
     "metadata": {},
     "output_type": "display_data"
    },
    {
     "name": "stdout",
     "output_type": "stream",
     "text": [
      "Train loss: 0.1380, Train acc: 0.9618, Time: 91s\n",
      "Valid loss: 0.2368, Valid acc: 0.9290\n",
      "\n",
      "Epoch 18/20\n",
      "----------\n"
     ]
    },
    {
     "data": {
      "application/vnd.jupyter.widget-view+json": {
       "model_id": "bef65ddb0a0144d288140530369cf290",
       "version_major": 2,
       "version_minor": 0
      },
      "text/plain": [
       "  0%|          | 0/510 [00:00<?, ?it/s]"
      ]
     },
     "metadata": {},
     "output_type": "display_data"
    },
    {
     "name": "stdout",
     "output_type": "stream",
     "text": [
      "Train loss: 0.1605, Train acc: 0.9578, Time: 94s\n",
      "Valid loss: 0.2012, Valid acc: 0.9357\n",
      "\n",
      "Epoch 19/20\n",
      "----------\n"
     ]
    },
    {
     "data": {
      "application/vnd.jupyter.widget-view+json": {
       "model_id": "4d5d705ce8b84e99a349349d8cf91341",
       "version_major": 2,
       "version_minor": 0
      },
      "text/plain": [
       "  0%|          | 0/510 [00:00<?, ?it/s]"
      ]
     },
     "metadata": {},
     "output_type": "display_data"
    },
    {
     "name": "stdout",
     "output_type": "stream",
     "text": [
      "Train loss: 0.1410, Train acc: 0.9627, Time: 94s\n",
      "Valid loss: 0.1833, Valid acc: 0.9468\n",
      "\n",
      "Epoch 20/20\n",
      "----------\n"
     ]
    },
    {
     "data": {
      "application/vnd.jupyter.widget-view+json": {
       "model_id": "fc97ad1a040d466d85624dfdeeb1a010",
       "version_major": 2,
       "version_minor": 0
      },
      "text/plain": [
       "  0%|          | 0/510 [00:00<?, ?it/s]"
      ]
     },
     "metadata": {},
     "output_type": "display_data"
    },
    {
     "name": "stdout",
     "output_type": "stream",
     "text": [
      "Train loss: 0.1607, Train acc: 0.9539, Time: 91s\n",
      "Valid loss: 0.2356, Valid acc: 0.9357\n",
      "\n",
      "Training complete\n",
      "Best ACC: 0.9557 at epoch 3\n"
     ]
    }
   ],
   "source": [
    "train_loss, valid_loss, train_acc, valid_acc = run(train_loader, valid_loader, model,\n",
    "                                                             num_classes, epochs=epochs,\n",
    "                                                             save_path=save_path/'exte')"
   ]
  },
  {
   "cell_type": "code",
   "execution_count": 38,
   "metadata": {},
   "outputs": [
    {
     "data": {
      "image/png": "[encoded data removed]",
      "text/plain": [
       "<Figure size 640x480 with 1 Axes>"
      ]
     },
     "metadata": {},
     "output_type": "display_data"
    }
   ],
   "source": [
    "plot_loss(train_loss, valid_loss)"
   ]
  },
  {
   "cell_type": "code",
   "execution_count": 39,
   "metadata": {},
   "outputs": [
    {
     "data": {
      "image/png": "[encoded data removed]",
      "text/plain": [
       "<Figure size 640x480 with 1 Axes>"
      ]
     },
     "metadata": {},
     "output_type": "display_data"
    }
   ],
   "source": [
    "plot_metrics(train_acc, valid_acc)"
   ]
  },
  {
   "cell_type": "code",
   "execution_count": 40,
   "metadata": {},
   "outputs": [
    {
     "name": "stdout",
     "output_type": "stream",
     "text": [
      "accuracy: 0.9556541019955654\n"
     ]
    }
   ],
   "source": [
    "print(f'accuracy: {max(valid_acc)}')"
   ]
  },
  {
   "cell_type": "markdown",
   "metadata": {},
   "source": [
    "## Atelectasisモデル"
   ]
  },
  {
   "cell_type": "code",
   "execution_count": 41,
   "metadata": {},
   "outputs": [],
   "source": [
    "train_data = []\n",
    "valid_data = []\n",
    "for x, y in zip(X_train, Yatel_train):\n",
    "    data = [x, y]\n",
    "    train_data.append(data)\n",
    "for x, y in zip(X_valid, Yatel_valid):\n",
    "    data = [x, y]\n",
    "    valid_data.append(data)\n",
    "    \n",
    "train_loader, valid_loader = build_data(train_data, valid_data, batch_size=batch_size)"
   ]
  },
  {
   "cell_type": "code",
   "execution_count": 42,
   "metadata": {},
   "outputs": [],
   "source": [
    "config = BertConfig.from_json_file(model_path / 'bert_config.json')\n",
    "bert = BertModel.from_pretrained(model_path / 'UTH_BERT.bin', config=config)\n",
    "model = Net(bert, num_classes).to(device)\n",
    "\n",
    "FREEZE=False\n",
    "if FREEZE: \n",
    "    idx=1 #Any\n",
    "    for name, param in model.named_parameters(): \n",
    "        param.requires_grad = False \n",
    "    for name, param in list(model.named_parameters())[idx:]: \n",
    "        param.requires_grad = True \n",
    "#     optimizer = optim.SGD([{'params':list(model.parameters())[idx:], 'lr':learning_rate, 'momentum':momentum}])\n",
    "    optimizer = optim.Adam([{'params':list(model.parameters())[idx:], 'lr':learning_rate}]) \n",
    "    criterion = nn.CrossEntropyLoss()\n",
    "else:  \n",
    "#     optimizer = optim.SGD(model.parameters(), lr=learning_rate, momentum=momentum)\n",
    "    optimizer = optim.Adam(model.parameters(), lr=learning_rate)\n",
    "    criterion = nn.CrossEntropyLoss()\n",
    "\n",
    "scheduler = StepLR(optimizer, step_size=3, gamma=0.1)"
   ]
  },
  {
   "cell_type": "code",
   "execution_count": 43,
   "metadata": {},
   "outputs": [
    {
     "name": "stdout",
     "output_type": "stream",
     "text": [
      "\n",
      "Epoch 1/20\n",
      "----------\n"
     ]
    },
    {
     "data": {
      "application/vnd.jupyter.widget-view+json": {
       "model_id": "d93f6415d1aa498a93daf901d8b079c0",
       "version_major": 2,
       "version_minor": 0
      },
      "text/plain": [
       "  0%|          | 0/510 [00:00<?, ?it/s]"
      ]
     },
     "metadata": {},
     "output_type": "display_data"
    },
    {
     "name": "stdout",
     "output_type": "stream",
     "text": [
      "Train loss: 0.1319, Train acc: 0.9647, Time: 94s\n",
      "Valid loss: 0.1454, Valid acc: 0.9734\n",
      "\n",
      "Epoch 2/20\n",
      "----------\n"
     ]
    },
    {
     "data": {
      "application/vnd.jupyter.widget-view+json": {
       "model_id": "e440260a3c0d446da89ee381ce08f174",
       "version_major": 2,
       "version_minor": 0
      },
      "text/plain": [
       "  0%|          | 0/510 [00:00<?, ?it/s]"
      ]
     },
     "metadata": {},
     "output_type": "display_data"
    },
    {
     "name": "stdout",
     "output_type": "stream",
     "text": [
      "Train loss: 0.1060, Train acc: 0.9765, Time: 94s\n",
      "Valid loss: 0.1075, Valid acc: 0.9690\n",
      "\n",
      "Epoch 3/20\n",
      "----------\n"
     ]
    },
    {
     "data": {
      "application/vnd.jupyter.widget-view+json": {
       "model_id": "dcb9d2b983f943ffa1e9168364e31c5b",
       "version_major": 2,
       "version_minor": 0
      },
      "text/plain": [
       "  0%|          | 0/510 [00:00<?, ?it/s]"
      ]
     },
     "metadata": {},
     "output_type": "display_data"
    },
    {
     "name": "stdout",
     "output_type": "stream",
     "text": [
      "Train loss: 0.0965, Train acc: 0.9755, Time: 91s\n",
      "Valid loss: 0.1525, Valid acc: 0.9667\n",
      "\n",
      "Epoch 4/20\n",
      "----------\n"
     ]
    },
    {
     "data": {
      "application/vnd.jupyter.widget-view+json": {
       "model_id": "682670e3266a46a29ca67b3d15efff22",
       "version_major": 2,
       "version_minor": 0
      },
      "text/plain": [
       "  0%|          | 0/510 [00:00<?, ?it/s]"
      ]
     },
     "metadata": {},
     "output_type": "display_data"
    },
    {
     "name": "stdout",
     "output_type": "stream",
     "text": [
      "Train loss: 0.0865, Train acc: 0.9814, Time: 93s\n",
      "Valid loss: 0.1004, Valid acc: 0.9734\n",
      "\n",
      "Epoch 5/20\n",
      "----------\n"
     ]
    },
    {
     "data": {
      "application/vnd.jupyter.widget-view+json": {
       "model_id": "d8cd65ed47d942d0ac89af988d54d487",
       "version_major": 2,
       "version_minor": 0
      },
      "text/plain": [
       "  0%|          | 0/510 [00:00<?, ?it/s]"
      ]
     },
     "metadata": {},
     "output_type": "display_data"
    },
    {
     "name": "stdout",
     "output_type": "stream",
     "text": [
      "Train loss: 0.0638, Train acc: 0.9833, Time: 94s\n",
      "Valid loss: 0.0929, Valid acc: 0.9778\n",
      "\n",
      "Epoch 6/20\n",
      "----------\n"
     ]
    },
    {
     "data": {
      "application/vnd.jupyter.widget-view+json": {
       "model_id": "b183f65c14f3496a89c68616e40b10d0",
       "version_major": 2,
       "version_minor": 0
      },
      "text/plain": [
       "  0%|          | 0/510 [00:00<?, ?it/s]"
      ]
     },
     "metadata": {},
     "output_type": "display_data"
    },
    {
     "name": "stdout",
     "output_type": "stream",
     "text": [
      "Train loss: 0.0656, Train acc: 0.9843, Time: 91s\n",
      "Valid loss: 0.0885, Valid acc: 0.9756\n",
      "\n",
      "Epoch 7/20\n",
      "----------\n"
     ]
    },
    {
     "data": {
      "application/vnd.jupyter.widget-view+json": {
       "model_id": "2e057a7978fb47d993d9dcda05fb533d",
       "version_major": 2,
       "version_minor": 0
      },
      "text/plain": [
       "  0%|          | 0/510 [00:00<?, ?it/s]"
      ]
     },
     "metadata": {},
     "output_type": "display_data"
    },
    {
     "name": "stdout",
     "output_type": "stream",
     "text": [
      "Train loss: 0.0976, Train acc: 0.9735, Time: 93s\n",
      "Valid loss: 0.1497, Valid acc: 0.9601\n",
      "\n",
      "Epoch 8/20\n",
      "----------\n"
     ]
    },
    {
     "data": {
      "application/vnd.jupyter.widget-view+json": {
       "model_id": "ef2fa1ffe2d241f3b072e38e827b166b",
       "version_major": 2,
       "version_minor": 0
      },
      "text/plain": [
       "  0%|          | 0/510 [00:00<?, ?it/s]"
      ]
     },
     "metadata": {},
     "output_type": "display_data"
    },
    {
     "name": "stdout",
     "output_type": "stream",
     "text": [
      "Train loss: 0.1010, Train acc: 0.9775, Time: 94s\n",
      "Valid loss: 0.1654, Valid acc: 0.9601\n",
      "\n",
      "Epoch 9/20\n",
      "----------\n"
     ]
    },
    {
     "data": {
      "application/vnd.jupyter.widget-view+json": {
       "model_id": "3e999cb8ccec4ce0b9686c898b9185db",
       "version_major": 2,
       "version_minor": 0
      },
      "text/plain": [
       "  0%|          | 0/510 [00:00<?, ?it/s]"
      ]
     },
     "metadata": {},
     "output_type": "display_data"
    },
    {
     "name": "stdout",
     "output_type": "stream",
     "text": [
      "Train loss: 0.0823, Train acc: 0.9775, Time: 91s\n",
      "Valid loss: 0.1008, Valid acc: 0.9734\n",
      "\n",
      "Epoch 10/20\n",
      "----------\n"
     ]
    },
    {
     "data": {
      "application/vnd.jupyter.widget-view+json": {
       "model_id": "af27457d47c64126b5fce0c084267e6f",
       "version_major": 2,
       "version_minor": 0
      },
      "text/plain": [
       "  0%|          | 0/510 [00:00<?, ?it/s]"
      ]
     },
     "metadata": {},
     "output_type": "display_data"
    },
    {
     "name": "stdout",
     "output_type": "stream",
     "text": [
      "Train loss: 0.0937, Train acc: 0.9716, Time: 93s\n",
      "Valid loss: 0.1035, Valid acc: 0.9667\n",
      "\n",
      "Epoch 11/20\n",
      "----------\n"
     ]
    },
    {
     "data": {
      "application/vnd.jupyter.widget-view+json": {
       "model_id": "06452e944968427d94fe88c3895f5a44",
       "version_major": 2,
       "version_minor": 0
      },
      "text/plain": [
       "  0%|          | 0/510 [00:00<?, ?it/s]"
      ]
     },
     "metadata": {},
     "output_type": "display_data"
    },
    {
     "name": "stdout",
     "output_type": "stream",
     "text": [
      "Train loss: 0.0758, Train acc: 0.9794, Time: 94s\n",
      "Valid loss: 0.1116, Valid acc: 0.9712\n",
      "\n",
      "Epoch 12/20\n",
      "----------\n"
     ]
    },
    {
     "data": {
      "application/vnd.jupyter.widget-view+json": {
       "model_id": "1f6f09741ec14d8f982a1d75543b75c0",
       "version_major": 2,
       "version_minor": 0
      },
      "text/plain": [
       "  0%|          | 0/510 [00:00<?, ?it/s]"
      ]
     },
     "metadata": {},
     "output_type": "display_data"
    },
    {
     "name": "stdout",
     "output_type": "stream",
     "text": [
      "Train loss: 0.0791, Train acc: 0.9794, Time: 91s\n",
      "Valid loss: 0.1322, Valid acc: 0.9690\n",
      "\n",
      "Epoch 13/20\n",
      "----------\n"
     ]
    },
    {
     "data": {
      "application/vnd.jupyter.widget-view+json": {
       "model_id": "2b2f68ff350a4ade9f4855dd81ae85ad",
       "version_major": 2,
       "version_minor": 0
      },
      "text/plain": [
       "  0%|          | 0/510 [00:00<?, ?it/s]"
      ]
     },
     "metadata": {},
     "output_type": "display_data"
    },
    {
     "name": "stdout",
     "output_type": "stream",
     "text": [
      "Train loss: 0.0487, Train acc: 0.9902, Time: 92s\n",
      "Valid loss: 0.1152, Valid acc: 0.9690\n",
      "\n",
      "Epoch 14/20\n",
      "----------\n"
     ]
    },
    {
     "data": {
      "application/vnd.jupyter.widget-view+json": {
       "model_id": "9eb8df01b5b1433a96366d6800719eac",
       "version_major": 2,
       "version_minor": 0
      },
      "text/plain": [
       "  0%|          | 0/510 [00:00<?, ?it/s]"
      ]
     },
     "metadata": {},
     "output_type": "display_data"
    },
    {
     "name": "stdout",
     "output_type": "stream",
     "text": [
      "Train loss: 0.0510, Train acc: 0.9902, Time: 94s\n",
      "Valid loss: 0.1528, Valid acc: 0.9667\n",
      "\n",
      "Epoch 15/20\n",
      "----------\n"
     ]
    },
    {
     "data": {
      "application/vnd.jupyter.widget-view+json": {
       "model_id": "034bda7d6a6843e593edd323e7cec1af",
       "version_major": 2,
       "version_minor": 0
      },
      "text/plain": [
       "  0%|          | 0/510 [00:00<?, ?it/s]"
      ]
     },
     "metadata": {},
     "output_type": "display_data"
    },
    {
     "name": "stdout",
     "output_type": "stream",
     "text": [
      "Train loss: 0.1072, Train acc: 0.9725, Time: 91s\n",
      "Valid loss: 0.1392, Valid acc: 0.9601\n",
      "\n",
      "Epoch 16/20\n",
      "----------\n"
     ]
    },
    {
     "data": {
      "application/vnd.jupyter.widget-view+json": {
       "model_id": "b84776684ce54bde81aa4bacfc93685f",
       "version_major": 2,
       "version_minor": 0
      },
      "text/plain": [
       "  0%|          | 0/510 [00:00<?, ?it/s]"
      ]
     },
     "metadata": {},
     "output_type": "display_data"
    },
    {
     "name": "stdout",
     "output_type": "stream",
     "text": [
      "Train loss: 0.0780, Train acc: 0.9784, Time: 92s\n",
      "Valid loss: 0.1032, Valid acc: 0.9712\n",
      "\n",
      "Epoch 17/20\n",
      "----------\n"
     ]
    },
    {
     "data": {
      "application/vnd.jupyter.widget-view+json": {
       "model_id": "f161ad8b883b4792b0e60805abe7ecb3",
       "version_major": 2,
       "version_minor": 0
      },
      "text/plain": [
       "  0%|          | 0/510 [00:00<?, ?it/s]"
      ]
     },
     "metadata": {},
     "output_type": "display_data"
    },
    {
     "name": "stdout",
     "output_type": "stream",
     "text": [
      "Train loss: 0.0727, Train acc: 0.9833, Time: 94s\n",
      "Valid loss: 0.1005, Valid acc: 0.9756\n",
      "\n",
      "Epoch 18/20\n",
      "----------\n"
     ]
    },
    {
     "data": {
      "application/vnd.jupyter.widget-view+json": {
       "model_id": "846fd7de299e4081b638a0ad09577b42",
       "version_major": 2,
       "version_minor": 0
      },
      "text/plain": [
       "  0%|          | 0/510 [00:00<?, ?it/s]"
      ]
     },
     "metadata": {},
     "output_type": "display_data"
    },
    {
     "name": "stdout",
     "output_type": "stream",
     "text": [
      "Train loss: 0.0612, Train acc: 0.9833, Time: 91s\n",
      "Valid loss: 0.0979, Valid acc: 0.9800\n",
      "\n",
      "Epoch 19/20\n",
      "----------\n"
     ]
    },
    {
     "data": {
      "application/vnd.jupyter.widget-view+json": {
       "model_id": "f5cdbd9061d84d55bc8f5eb1950a3d59",
       "version_major": 2,
       "version_minor": 0
      },
      "text/plain": [
       "  0%|          | 0/510 [00:00<?, ?it/s]"
      ]
     },
     "metadata": {},
     "output_type": "display_data"
    },
    {
     "name": "stdout",
     "output_type": "stream",
     "text": [
      "Train loss: 0.0656, Train acc: 0.9863, Time: 91s\n",
      "Valid loss: 0.0965, Valid acc: 0.9800\n",
      "\n",
      "Epoch 20/20\n",
      "----------\n"
     ]
    },
    {
     "data": {
      "application/vnd.jupyter.widget-view+json": {
       "model_id": "befd229ff25c42b591e040eb81c8c2b8",
       "version_major": 2,
       "version_minor": 0
      },
      "text/plain": [
       "  0%|          | 0/510 [00:00<?, ?it/s]"
      ]
     },
     "metadata": {},
     "output_type": "display_data"
    },
    {
     "name": "stdout",
     "output_type": "stream",
     "text": [
      "Train loss: 0.0643, Train acc: 0.9882, Time: 94s\n",
      "Valid loss: 0.0919, Valid acc: 0.9778\n",
      "\n",
      "Training complete\n",
      "Best ACC: 0.9800 at epoch 17\n"
     ]
    }
   ],
   "source": [
    "train_loss, valid_loss, train_acc, valid_acc = run(train_loader, valid_loader, model,\n",
    "                                                             num_classes, epochs=epochs,\n",
    "                                                             save_path=save_path/'atel')"
   ]
  },
  {
   "cell_type": "code",
   "execution_count": 44,
   "metadata": {},
   "outputs": [
    {
     "data": {
      "image/png": "[encoded data removed]",
      "text/plain": [
       "<Figure size 640x480 with 1 Axes>"
      ]
     },
     "metadata": {},
     "output_type": "display_data"
    }
   ],
   "source": [
    "plot_loss(train_loss, valid_loss)"
   ]
  },
  {
   "cell_type": "code",
   "execution_count": 45,
   "metadata": {},
   "outputs": [
    {
     "data": {
      "image/png": "[encoded data removed]",
      "text/plain": [
       "<Figure size 640x480 with 1 Axes>"
      ]
     },
     "metadata": {},
     "output_type": "display_data"
    }
   ],
   "source": [
    "plot_metrics(train_acc, valid_acc)"
   ]
  },
  {
   "cell_type": "code",
   "execution_count": 46,
   "metadata": {},
   "outputs": [
    {
     "name": "stdout",
     "output_type": "stream",
     "text": [
      "accuracy: 0.9800443458980045\n"
     ]
    }
   ],
   "source": [
    "print(f'accuracy: {max(valid_acc)}')"
   ]
  },
  {
   "cell_type": "markdown",
   "metadata": {},
   "source": [
    "## Satelliteモデル"
   ]
  },
  {
   "cell_type": "code",
   "execution_count": 47,
   "metadata": {},
   "outputs": [],
   "source": [
    "train_data = []\n",
    "valid_data = []\n",
    "for x, y in zip(X_train, Ysate_train):\n",
    "    data = [x, y]\n",
    "    train_data.append(data)\n",
    "for x, y in zip(X_valid, Ysate_valid):\n",
    "    data = [x, y]\n",
    "    valid_data.append(data)\n",
    "    \n",
    "train_loader, valid_loader = build_data(train_data, valid_data, batch_size=batch_size)"
   ]
  },
  {
   "cell_type": "code",
   "execution_count": 48,
   "metadata": {},
   "outputs": [],
   "source": [
    "config = BertConfig.from_json_file(model_path / 'bert_config.json')\n",
    "bert = BertModel.from_pretrained(model_path / 'UTH_BERT.bin', config=config)\n",
    "model = Net(bert, num_classes).to(device)\n",
    "\n",
    "FREEZE=False\n",
    "if FREEZE: \n",
    "    idx=1 #Any\n",
    "    for name, param in model.named_parameters(): \n",
    "        param.requires_grad = False \n",
    "    for name, param in list(model.named_parameters())[idx:]: \n",
    "        param.requires_grad = True \n",
    "#     optimizer = optim.SGD([{'params':list(model.parameters())[idx:], 'lr':learning_rate, 'momentum':momentum}])\n",
    "    optimizer = optim.Adam([{'params':list(model.parameters())[idx:], 'lr':learning_rate}]) \n",
    "    criterion = nn.CrossEntropyLoss()\n",
    "else:  \n",
    "#     optimizer = optim.SGD(model.parameters(), lr=learning_rate, momentum=momentum)\n",
    "    optimizer = optim.Adam(model.parameters(), lr=learning_rate)\n",
    "    criterion = nn.CrossEntropyLoss()\n",
    "\n",
    "scheduler = StepLR(optimizer, step_size=3, gamma=0.1)"
   ]
  },
  {
   "cell_type": "code",
   "execution_count": 49,
   "metadata": {},
   "outputs": [
    {
     "name": "stdout",
     "output_type": "stream",
     "text": [
      "\n",
      "Epoch 1/20\n",
      "----------\n"
     ]
    },
    {
     "data": {
      "application/vnd.jupyter.widget-view+json": {
       "model_id": "57a2ab4789184812ba0cd5e6dfbea0e8",
       "version_major": 2,
       "version_minor": 0
      },
      "text/plain": [
       "  0%|          | 0/510 [00:00<?, ?it/s]"
      ]
     },
     "metadata": {},
     "output_type": "display_data"
    },
    {
     "name": "stdout",
     "output_type": "stream",
     "text": [
      "Train loss: 0.2592, Train acc: 0.9255, Time: 92s\n",
      "Valid loss: 0.2326, Valid acc: 0.9290\n",
      "\n",
      "Epoch 2/20\n",
      "----------\n"
     ]
    },
    {
     "data": {
      "application/vnd.jupyter.widget-view+json": {
       "model_id": "87ac6bf6cbbb40c68ee2079ab5556c91",
       "version_major": 2,
       "version_minor": 0
      },
      "text/plain": [
       "  0%|          | 0/510 [00:00<?, ?it/s]"
      ]
     },
     "metadata": {},
     "output_type": "display_data"
    },
    {
     "name": "stdout",
     "output_type": "stream",
     "text": [
      "Train loss: 0.2308, Train acc: 0.9275, Time: 91s\n",
      "Valid loss: 0.2107, Valid acc: 0.9313\n",
      "\n",
      "Epoch 3/20\n",
      "----------\n"
     ]
    },
    {
     "data": {
      "application/vnd.jupyter.widget-view+json": {
       "model_id": "b28672940ab646b6a5c4b72e8c5d0a2b",
       "version_major": 2,
       "version_minor": 0
      },
      "text/plain": [
       "  0%|          | 0/510 [00:00<?, ?it/s]"
      ]
     },
     "metadata": {},
     "output_type": "display_data"
    },
    {
     "name": "stdout",
     "output_type": "stream",
     "text": [
      "Train loss: 0.1882, Train acc: 0.9422, Time: 94s\n",
      "Valid loss: 0.2532, Valid acc: 0.9224\n",
      "\n",
      "Epoch 4/20\n",
      "----------\n"
     ]
    },
    {
     "data": {
      "application/vnd.jupyter.widget-view+json": {
       "model_id": "74d577cb73204137a5f9960ad69aa4ac",
       "version_major": 2,
       "version_minor": 0
      },
      "text/plain": [
       "  0%|          | 0/510 [00:00<?, ?it/s]"
      ]
     },
     "metadata": {},
     "output_type": "display_data"
    },
    {
     "name": "stdout",
     "output_type": "stream",
     "text": [
      "Train loss: 0.1849, Train acc: 0.9422, Time: 93s\n",
      "Valid loss: 0.2707, Valid acc: 0.9357\n",
      "\n",
      "Epoch 5/20\n",
      "----------\n"
     ]
    },
    {
     "data": {
      "application/vnd.jupyter.widget-view+json": {
       "model_id": "fb2e65424a014476ae2702f01d4fd1b3",
       "version_major": 2,
       "version_minor": 0
      },
      "text/plain": [
       "  0%|          | 0/510 [00:00<?, ?it/s]"
      ]
     },
     "metadata": {},
     "output_type": "display_data"
    },
    {
     "name": "stdout",
     "output_type": "stream",
     "text": [
      "Train loss: 0.1545, Train acc: 0.9529, Time: 88s\n",
      "Valid loss: 0.2526, Valid acc: 0.9379\n",
      "\n",
      "Epoch 6/20\n",
      "----------\n"
     ]
    },
    {
     "data": {
      "application/vnd.jupyter.widget-view+json": {
       "model_id": "c16b3eb2811044fa99d8e65c4e883123",
       "version_major": 2,
       "version_minor": 0
      },
      "text/plain": [
       "  0%|          | 0/510 [00:00<?, ?it/s]"
      ]
     },
     "metadata": {},
     "output_type": "display_data"
    },
    {
     "name": "stdout",
     "output_type": "stream",
     "text": [
      "Train loss: 0.1531, Train acc: 0.9569, Time: 65s\n",
      "Valid loss: 0.2568, Valid acc: 0.9357\n",
      "\n",
      "Epoch 7/20\n",
      "----------\n"
     ]
    },
    {
     "data": {
      "application/vnd.jupyter.widget-view+json": {
       "model_id": "54a64a44755c49cda0ecbfd0d27898cb",
       "version_major": 2,
       "version_minor": 0
      },
      "text/plain": [
       "  0%|          | 0/510 [00:00<?, ?it/s]"
      ]
     },
     "metadata": {},
     "output_type": "display_data"
    },
    {
     "name": "stdout",
     "output_type": "stream",
     "text": [
      "Train loss: 0.1472, Train acc: 0.9598, Time: 65s\n",
      "Valid loss: 0.2079, Valid acc: 0.9379\n",
      "\n",
      "Epoch 8/20\n",
      "----------\n"
     ]
    },
    {
     "data": {
      "application/vnd.jupyter.widget-view+json": {
       "model_id": "e753d5d0c4b542a9a1165d147aee9268",
       "version_major": 2,
       "version_minor": 0
      },
      "text/plain": [
       "  0%|          | 0/510 [00:00<?, ?it/s]"
      ]
     },
     "metadata": {},
     "output_type": "display_data"
    },
    {
     "name": "stdout",
     "output_type": "stream",
     "text": [
      "Train loss: 0.1435, Train acc: 0.9627, Time: 65s\n",
      "Valid loss: 0.2253, Valid acc: 0.9401\n",
      "\n",
      "Epoch 9/20\n",
      "----------\n"
     ]
    },
    {
     "data": {
      "application/vnd.jupyter.widget-view+json": {
       "model_id": "140cdf7e3d0647769c370b77523a416e",
       "version_major": 2,
       "version_minor": 0
      },
      "text/plain": [
       "  0%|          | 0/510 [00:00<?, ?it/s]"
      ]
     },
     "metadata": {},
     "output_type": "display_data"
    },
    {
     "name": "stdout",
     "output_type": "stream",
     "text": [
      "Train loss: 0.1390, Train acc: 0.9627, Time: 65s\n",
      "Valid loss: 0.2490, Valid acc: 0.9335\n",
      "\n",
      "Epoch 10/20\n",
      "----------\n"
     ]
    },
    {
     "data": {
      "application/vnd.jupyter.widget-view+json": {
       "model_id": "33a385354a604ff7aa6aea94bf180fbf",
       "version_major": 2,
       "version_minor": 0
      },
      "text/plain": [
       "  0%|          | 0/510 [00:00<?, ?it/s]"
      ]
     },
     "metadata": {},
     "output_type": "display_data"
    },
    {
     "name": "stdout",
     "output_type": "stream",
     "text": [
      "Train loss: 0.1627, Train acc: 0.9549, Time: 65s\n",
      "Valid loss: 0.2195, Valid acc: 0.9335\n",
      "\n",
      "Epoch 11/20\n",
      "----------\n"
     ]
    },
    {
     "data": {
      "application/vnd.jupyter.widget-view+json": {
       "model_id": "71439ce485fa42ae8f96910ab04a2ce6",
       "version_major": 2,
       "version_minor": 0
      },
      "text/plain": [
       "  0%|          | 0/510 [00:00<?, ?it/s]"
      ]
     },
     "metadata": {},
     "output_type": "display_data"
    },
    {
     "name": "stdout",
     "output_type": "stream",
     "text": [
      "Train loss: 0.1548, Train acc: 0.9569, Time: 65s\n",
      "Valid loss: 0.1901, Valid acc: 0.9401\n",
      "\n",
      "Epoch 12/20\n",
      "----------\n"
     ]
    },
    {
     "data": {
      "application/vnd.jupyter.widget-view+json": {
       "model_id": "b80efc17dfed4934be9ca88e7eb4a260",
       "version_major": 2,
       "version_minor": 0
      },
      "text/plain": [
       "  0%|          | 0/510 [00:00<?, ?it/s]"
      ]
     },
     "metadata": {},
     "output_type": "display_data"
    },
    {
     "name": "stdout",
     "output_type": "stream",
     "text": [
      "Train loss: 0.1325, Train acc: 0.9657, Time: 65s\n",
      "Valid loss: 0.2035, Valid acc: 0.9379\n",
      "\n",
      "Epoch 13/20\n",
      "----------\n"
     ]
    },
    {
     "data": {
      "application/vnd.jupyter.widget-view+json": {
       "model_id": "664e1855906f4f67a8136de99a6042bf",
       "version_major": 2,
       "version_minor": 0
      },
      "text/plain": [
       "  0%|          | 0/510 [00:00<?, ?it/s]"
      ]
     },
     "metadata": {},
     "output_type": "display_data"
    },
    {
     "name": "stdout",
     "output_type": "stream",
     "text": [
      "Train loss: 0.1488, Train acc: 0.9529, Time: 65s\n",
      "Valid loss: 0.2425, Valid acc: 0.9335\n",
      "\n",
      "Epoch 14/20\n",
      "----------\n"
     ]
    },
    {
     "data": {
      "application/vnd.jupyter.widget-view+json": {
       "model_id": "c920e30a465e441f96409410cd287cd4",
       "version_major": 2,
       "version_minor": 0
      },
      "text/plain": [
       "  0%|          | 0/510 [00:00<?, ?it/s]"
      ]
     },
     "metadata": {},
     "output_type": "display_data"
    },
    {
     "name": "stdout",
     "output_type": "stream",
     "text": [
      "Train loss: 0.1494, Train acc: 0.9549, Time: 65s\n",
      "Valid loss: 0.2355, Valid acc: 0.9424\n",
      "\n",
      "Epoch 15/20\n",
      "----------\n"
     ]
    },
    {
     "data": {
      "application/vnd.jupyter.widget-view+json": {
       "model_id": "1bef99682a554e47967e9c06b2404bbc",
       "version_major": 2,
       "version_minor": 0
      },
      "text/plain": [
       "  0%|          | 0/510 [00:00<?, ?it/s]"
      ]
     },
     "metadata": {},
     "output_type": "display_data"
    },
    {
     "name": "stdout",
     "output_type": "stream",
     "text": [
      "Train loss: 0.1680, Train acc: 0.9539, Time: 65s\n",
      "Valid loss: 0.1965, Valid acc: 0.9379\n",
      "\n",
      "Epoch 16/20\n",
      "----------\n"
     ]
    },
    {
     "data": {
      "application/vnd.jupyter.widget-view+json": {
       "model_id": "487242d043a64925a5f756c91b235d0d",
       "version_major": 2,
       "version_minor": 0
      },
      "text/plain": [
       "  0%|          | 0/510 [00:00<?, ?it/s]"
      ]
     },
     "metadata": {},
     "output_type": "display_data"
    },
    {
     "name": "stdout",
     "output_type": "stream",
     "text": [
      "Train loss: 0.1536, Train acc: 0.9608, Time: 65s\n",
      "Valid loss: 0.2196, Valid acc: 0.9357\n",
      "\n",
      "Epoch 17/20\n",
      "----------\n"
     ]
    },
    {
     "data": {
      "application/vnd.jupyter.widget-view+json": {
       "model_id": "e3f4227eca64440ab027a2fe1e2b03b7",
       "version_major": 2,
       "version_minor": 0
      },
      "text/plain": [
       "  0%|          | 0/510 [00:00<?, ?it/s]"
      ]
     },
     "metadata": {},
     "output_type": "display_data"
    },
    {
     "name": "stdout",
     "output_type": "stream",
     "text": [
      "Train loss: 0.1711, Train acc: 0.9529, Time: 65s\n",
      "Valid loss: 0.2189, Valid acc: 0.9335\n",
      "\n",
      "Epoch 18/20\n",
      "----------\n"
     ]
    },
    {
     "data": {
      "application/vnd.jupyter.widget-view+json": {
       "model_id": "f72781e8ba704eda84f7489081b95acc",
       "version_major": 2,
       "version_minor": 0
      },
      "text/plain": [
       "  0%|          | 0/510 [00:00<?, ?it/s]"
      ]
     },
     "metadata": {},
     "output_type": "display_data"
    },
    {
     "name": "stdout",
     "output_type": "stream",
     "text": [
      "Train loss: 0.1578, Train acc: 0.9520, Time: 65s\n",
      "Valid loss: 0.2925, Valid acc: 0.9357\n",
      "\n",
      "Epoch 19/20\n",
      "----------\n"
     ]
    },
    {
     "data": {
      "application/vnd.jupyter.widget-view+json": {
       "model_id": "9b5e00bb006c4405974aa3f634945beb",
       "version_major": 2,
       "version_minor": 0
      },
      "text/plain": [
       "  0%|          | 0/510 [00:00<?, ?it/s]"
      ]
     },
     "metadata": {},
     "output_type": "display_data"
    },
    {
     "name": "stdout",
     "output_type": "stream",
     "text": [
      "Train loss: 0.2239, Train acc: 0.9353, Time: 65s\n",
      "Valid loss: 0.1992, Valid acc: 0.9379\n",
      "\n",
      "Epoch 20/20\n",
      "----------\n"
     ]
    },
    {
     "data": {
      "application/vnd.jupyter.widget-view+json": {
       "model_id": "f3d37f82eb3c40c6ab35de58324454f7",
       "version_major": 2,
       "version_minor": 0
      },
      "text/plain": [
       "  0%|          | 0/510 [00:00<?, ?it/s]"
      ]
     },
     "metadata": {},
     "output_type": "display_data"
    },
    {
     "name": "stdout",
     "output_type": "stream",
     "text": [
      "Train loss: 0.1836, Train acc: 0.9500, Time: 65s\n",
      "Valid loss: 0.2539, Valid acc: 0.9335\n",
      "\n",
      "Training complete\n",
      "Best ACC: 0.9424 at epoch 13\n"
     ]
    }
   ],
   "source": [
    "train_loss, valid_loss, train_acc, valid_acc = run(train_loader, valid_loader, model,\n",
    "                                                             num_classes, epochs=epochs,\n",
    "                                                             save_path=save_path/'sate')"
   ]
  },
  {
   "cell_type": "code",
   "execution_count": 50,
   "metadata": {},
   "outputs": [
    {
     "data": {
      "image/png": "[encoded data removed]",
      "text/plain": [
       "<Figure size 640x480 with 1 Axes>"
      ]
     },
     "metadata": {},
     "output_type": "display_data"
    }
   ],
   "source": [
    "plot_loss(train_loss, valid_loss)"
   ]
  },
  {
   "cell_type": "code",
   "execution_count": 51,
   "metadata": {},
   "outputs": [
    {
     "data": {
      "image/png": "[encoded data removed]",
      "text/plain": [
       "<Figure size 640x480 with 1 Axes>"
      ]
     },
     "metadata": {},
     "output_type": "display_data"
    }
   ],
   "source": [
    "plot_metrics(train_acc, valid_acc)"
   ]
  },
  {
   "cell_type": "code",
   "execution_count": 52,
   "metadata": {},
   "outputs": [
    {
     "name": "stdout",
     "output_type": "stream",
     "text": [
      "accuracy: 0.9423503325942351\n"
     ]
    }
   ],
   "source": [
    "print(f'accuracy: {max(valid_acc)}')"
   ]
  },
  {
   "cell_type": "markdown",
   "metadata": {},
   "source": [
    "## Lymphadenopathyモデル"
   ]
  },
  {
   "cell_type": "code",
   "execution_count": 53,
   "metadata": {},
   "outputs": [],
   "source": [
    "train_data = []\n",
    "valid_data = []\n",
    "for x, y in zip(X_train, Ylymp_train):\n",
    "    data = [x, y]\n",
    "    train_data.append(data)\n",
    "for x, y in zip(X_valid, Ylymp_valid):\n",
    "    data = [x, y]\n",
    "    valid_data.append(data)\n",
    "    \n",
    "train_loader, valid_loader = build_data(train_data, valid_data, batch_size=batch_size)"
   ]
  },
  {
   "cell_type": "code",
   "execution_count": 54,
   "metadata": {},
   "outputs": [],
   "source": [
    "config = BertConfig.from_json_file(model_path / 'bert_config.json')\n",
    "bert = BertModel.from_pretrained(model_path / 'UTH_BERT.bin', config=config)\n",
    "model = Net(bert, num_classes).to(device)\n",
    "\n",
    "FREEZE=False\n",
    "if FREEZE: \n",
    "    idx=1 #Any\n",
    "    for name, param in model.named_parameters(): \n",
    "        param.requires_grad = False \n",
    "    for name, param in list(model.named_parameters())[idx:]: \n",
    "        param.requires_grad = True \n",
    "#     optimizer = optim.SGD([{'params':list(model.parameters())[idx:], 'lr':learning_rate, 'momentum':momentum}])\n",
    "    optimizer = optim.Adam([{'params':list(model.parameters())[idx:], 'lr':learning_rate}]) \n",
    "    criterion = nn.CrossEntropyLoss()\n",
    "else:  \n",
    "#     optimizer = optim.SGD(model.parameters(), lr=learning_rate, momentum=momentum)\n",
    "    optimizer = optim.Adam(model.parameters(), lr=learning_rate)\n",
    "    criterion = nn.CrossEntropyLoss()\n",
    "\n",
    "scheduler = StepLR(optimizer, step_size=3, gamma=0.1)"
   ]
  },
  {
   "cell_type": "code",
   "execution_count": 55,
   "metadata": {},
   "outputs": [
    {
     "name": "stdout",
     "output_type": "stream",
     "text": [
      "\n",
      "Epoch 1/20\n",
      "----------\n"
     ]
    },
    {
     "data": {
      "application/vnd.jupyter.widget-view+json": {
       "model_id": "0a2b8b4edc5f4dab90a5b650eb73f115",
       "version_major": 2,
       "version_minor": 0
      },
      "text/plain": [
       "  0%|          | 0/510 [00:00<?, ?it/s]"
      ]
     },
     "metadata": {},
     "output_type": "display_data"
    },
    {
     "name": "stdout",
     "output_type": "stream",
     "text": [
      "Train loss: 0.3152, Train acc: 0.8961, Time: 65s\n",
      "Valid loss: 0.1772, Valid acc: 0.9512\n",
      "\n",
      "Epoch 2/20\n",
      "----------\n"
     ]
    },
    {
     "data": {
      "application/vnd.jupyter.widget-view+json": {
       "model_id": "b93c6647d36d4512a9fa444907d7dd11",
       "version_major": 2,
       "version_minor": 0
      },
      "text/plain": [
       "  0%|          | 0/510 [00:00<?, ?it/s]"
      ]
     },
     "metadata": {},
     "output_type": "display_data"
    },
    {
     "name": "stdout",
     "output_type": "stream",
     "text": [
      "Train loss: 0.2234, Train acc: 0.9353, Time: 65s\n",
      "Valid loss: 0.1712, Valid acc: 0.9534\n",
      "\n",
      "Epoch 3/20\n",
      "----------\n"
     ]
    },
    {
     "data": {
      "application/vnd.jupyter.widget-view+json": {
       "model_id": "577e285e892d4d2fa3447af732d868bc",
       "version_major": 2,
       "version_minor": 0
      },
      "text/plain": [
       "  0%|          | 0/510 [00:00<?, ?it/s]"
      ]
     },
     "metadata": {},
     "output_type": "display_data"
    },
    {
     "name": "stdout",
     "output_type": "stream",
     "text": [
      "Train loss: 0.2161, Train acc: 0.9294, Time: 65s\n",
      "Valid loss: 0.1614, Valid acc: 0.9534\n",
      "\n",
      "Epoch 4/20\n",
      "----------\n"
     ]
    },
    {
     "data": {
      "application/vnd.jupyter.widget-view+json": {
       "model_id": "21b7b603cd694f44bb2b1744eb702543",
       "version_major": 2,
       "version_minor": 0
      },
      "text/plain": [
       "  0%|          | 0/510 [00:00<?, ?it/s]"
      ]
     },
     "metadata": {},
     "output_type": "display_data"
    },
    {
     "name": "stdout",
     "output_type": "stream",
     "text": [
      "Train loss: 0.2223, Train acc: 0.9333, Time: 65s\n",
      "Valid loss: 0.1417, Valid acc: 0.9601\n",
      "\n",
      "Epoch 5/20\n",
      "----------\n"
     ]
    },
    {
     "data": {
      "application/vnd.jupyter.widget-view+json": {
       "model_id": "888fc83c54bb4b5292e0489fc28c56e1",
       "version_major": 2,
       "version_minor": 0
      },
      "text/plain": [
       "  0%|          | 0/510 [00:00<?, ?it/s]"
      ]
     },
     "metadata": {},
     "output_type": "display_data"
    },
    {
     "name": "stdout",
     "output_type": "stream",
     "text": [
      "Train loss: 0.2017, Train acc: 0.9402, Time: 65s\n",
      "Valid loss: 0.1579, Valid acc: 0.9557\n",
      "\n",
      "Epoch 6/20\n",
      "----------\n"
     ]
    },
    {
     "data": {
      "application/vnd.jupyter.widget-view+json": {
       "model_id": "a4de5553f3bb4f88b4b75a6d1dfff49b",
       "version_major": 2,
       "version_minor": 0
      },
      "text/plain": [
       "  0%|          | 0/510 [00:00<?, ?it/s]"
      ]
     },
     "metadata": {},
     "output_type": "display_data"
    },
    {
     "name": "stdout",
     "output_type": "stream",
     "text": [
      "Train loss: 0.2058, Train acc: 0.9373, Time: 65s\n",
      "Valid loss: 0.1992, Valid acc: 0.9335\n",
      "\n",
      "Epoch 7/20\n",
      "----------\n"
     ]
    },
    {
     "data": {
      "application/vnd.jupyter.widget-view+json": {
       "model_id": "73a8132067e148ff962b6c31dc2ebd54",
       "version_major": 2,
       "version_minor": 0
      },
      "text/plain": [
       "  0%|          | 0/510 [00:00<?, ?it/s]"
      ]
     },
     "metadata": {},
     "output_type": "display_data"
    },
    {
     "name": "stdout",
     "output_type": "stream",
     "text": [
      "Train loss: 0.2325, Train acc: 0.9225, Time: 65s\n",
      "Valid loss: 0.1641, Valid acc: 0.9534\n",
      "\n",
      "Epoch 8/20\n",
      "----------\n"
     ]
    },
    {
     "data": {
      "application/vnd.jupyter.widget-view+json": {
       "model_id": "83037e70934946a98dc9730023087716",
       "version_major": 2,
       "version_minor": 0
      },
      "text/plain": [
       "  0%|          | 0/510 [00:00<?, ?it/s]"
      ]
     },
     "metadata": {},
     "output_type": "display_data"
    },
    {
     "name": "stdout",
     "output_type": "stream",
     "text": [
      "Train loss: 0.1867, Train acc: 0.9480, Time: 65s\n",
      "Valid loss: 0.1651, Valid acc: 0.9534\n",
      "\n",
      "Epoch 9/20\n",
      "----------\n"
     ]
    },
    {
     "data": {
      "application/vnd.jupyter.widget-view+json": {
       "model_id": "ee524371e10941c68e6a2102026f328f",
       "version_major": 2,
       "version_minor": 0
      },
      "text/plain": [
       "  0%|          | 0/510 [00:00<?, ?it/s]"
      ]
     },
     "metadata": {},
     "output_type": "display_data"
    },
    {
     "name": "stdout",
     "output_type": "stream",
     "text": [
      "Train loss: 0.1753, Train acc: 0.9520, Time: 65s\n",
      "Valid loss: 0.1638, Valid acc: 0.9534\n",
      "\n",
      "Epoch 10/20\n",
      "----------\n"
     ]
    },
    {
     "data": {
      "application/vnd.jupyter.widget-view+json": {
       "model_id": "c080b50d2846414e9a9f482db4b0b31c",
       "version_major": 2,
       "version_minor": 0
      },
      "text/plain": [
       "  0%|          | 0/510 [00:00<?, ?it/s]"
      ]
     },
     "metadata": {},
     "output_type": "display_data"
    },
    {
     "name": "stdout",
     "output_type": "stream",
     "text": [
      "Train loss: 0.1927, Train acc: 0.9412, Time: 65s\n",
      "Valid loss: 0.1567, Valid acc: 0.9490\n",
      "\n",
      "Epoch 11/20\n",
      "----------\n"
     ]
    },
    {
     "data": {
      "application/vnd.jupyter.widget-view+json": {
       "model_id": "88d7ccd1200c43fcb16b27097542dcc1",
       "version_major": 2,
       "version_minor": 0
      },
      "text/plain": [
       "  0%|          | 0/510 [00:00<?, ?it/s]"
      ]
     },
     "metadata": {},
     "output_type": "display_data"
    },
    {
     "name": "stdout",
     "output_type": "stream",
     "text": [
      "Train loss: 0.1711, Train acc: 0.9480, Time: 65s\n",
      "Valid loss: 0.1646, Valid acc: 0.9512\n",
      "\n",
      "Epoch 12/20\n",
      "----------\n"
     ]
    },
    {
     "data": {
      "application/vnd.jupyter.widget-view+json": {
       "model_id": "e6619a6d7087442cb906db438b44cd61",
       "version_major": 2,
       "version_minor": 0
      },
      "text/plain": [
       "  0%|          | 0/510 [00:00<?, ?it/s]"
      ]
     },
     "metadata": {},
     "output_type": "display_data"
    },
    {
     "name": "stdout",
     "output_type": "stream",
     "text": [
      "Train loss: 0.1893, Train acc: 0.9392, Time: 65s\n",
      "Valid loss: 0.1466, Valid acc: 0.9601\n",
      "\n",
      "Epoch 13/20\n",
      "----------\n"
     ]
    },
    {
     "data": {
      "application/vnd.jupyter.widget-view+json": {
       "model_id": "d2088780d49a41ae991308bdf7914fd5",
       "version_major": 2,
       "version_minor": 0
      },
      "text/plain": [
       "  0%|          | 0/510 [00:00<?, ?it/s]"
      ]
     },
     "metadata": {},
     "output_type": "display_data"
    },
    {
     "name": "stdout",
     "output_type": "stream",
     "text": [
      "Train loss: 0.2053, Train acc: 0.9392, Time: 65s\n",
      "Valid loss: 0.1683, Valid acc: 0.9512\n",
      "\n",
      "Epoch 14/20\n",
      "----------\n"
     ]
    },
    {
     "data": {
      "application/vnd.jupyter.widget-view+json": {
       "model_id": "c314f047bdbc45b0bc288eabc0a39098",
       "version_major": 2,
       "version_minor": 0
      },
      "text/plain": [
       "  0%|          | 0/510 [00:00<?, ?it/s]"
      ]
     },
     "metadata": {},
     "output_type": "display_data"
    },
    {
     "name": "stdout",
     "output_type": "stream",
     "text": [
      "Train loss: 0.1788, Train acc: 0.9490, Time: 65s\n",
      "Valid loss: 0.1508, Valid acc: 0.9579\n",
      "\n",
      "Epoch 15/20\n",
      "----------\n"
     ]
    },
    {
     "data": {
      "application/vnd.jupyter.widget-view+json": {
       "model_id": "835546f404ce460ea9900f964891ef57",
       "version_major": 2,
       "version_minor": 0
      },
      "text/plain": [
       "  0%|          | 0/510 [00:00<?, ?it/s]"
      ]
     },
     "metadata": {},
     "output_type": "display_data"
    },
    {
     "name": "stdout",
     "output_type": "stream",
     "text": [
      "Train loss: 0.1869, Train acc: 0.9422, Time: 65s\n",
      "Valid loss: 0.1519, Valid acc: 0.9579\n",
      "\n",
      "Epoch 16/20\n",
      "----------\n"
     ]
    },
    {
     "data": {
      "application/vnd.jupyter.widget-view+json": {
       "model_id": "e5262e10dc7041c7b517885e8d3a8aa3",
       "version_major": 2,
       "version_minor": 0
      },
      "text/plain": [
       "  0%|          | 0/510 [00:00<?, ?it/s]"
      ]
     },
     "metadata": {},
     "output_type": "display_data"
    },
    {
     "name": "stdout",
     "output_type": "stream",
     "text": [
      "Train loss: 0.1929, Train acc: 0.9412, Time: 65s\n",
      "Valid loss: 0.1421, Valid acc: 0.9601\n",
      "\n",
      "Epoch 17/20\n",
      "----------\n"
     ]
    },
    {
     "data": {
      "application/vnd.jupyter.widget-view+json": {
       "model_id": "9f2d18f18bdc410db99e164482a95294",
       "version_major": 2,
       "version_minor": 0
      },
      "text/plain": [
       "  0%|          | 0/510 [00:00<?, ?it/s]"
      ]
     },
     "metadata": {},
     "output_type": "display_data"
    },
    {
     "name": "stdout",
     "output_type": "stream",
     "text": [
      "Train loss: 0.1862, Train acc: 0.9412, Time: 65s\n",
      "Valid loss: 0.1586, Valid acc: 0.9534\n",
      "\n",
      "Epoch 18/20\n",
      "----------\n"
     ]
    },
    {
     "data": {
      "application/vnd.jupyter.widget-view+json": {
       "model_id": "33738e989b87462881d753b37c087408",
       "version_major": 2,
       "version_minor": 0
      },
      "text/plain": [
       "  0%|          | 0/510 [00:00<?, ?it/s]"
      ]
     },
     "metadata": {},
     "output_type": "display_data"
    },
    {
     "name": "stdout",
     "output_type": "stream",
     "text": [
      "Train loss: 0.1802, Train acc: 0.9441, Time: 65s\n",
      "Valid loss: 0.2171, Valid acc: 0.9424\n",
      "\n",
      "Epoch 19/20\n",
      "----------\n"
     ]
    },
    {
     "data": {
      "application/vnd.jupyter.widget-view+json": {
       "model_id": "e6b4386785ad46c0accfbb2180842603",
       "version_major": 2,
       "version_minor": 0
      },
      "text/plain": [
       "  0%|          | 0/510 [00:00<?, ?it/s]"
      ]
     },
     "metadata": {},
     "output_type": "display_data"
    },
    {
     "name": "stdout",
     "output_type": "stream",
     "text": [
      "Train loss: 0.2080, Train acc: 0.9333, Time: 65s\n",
      "Valid loss: 0.1986, Valid acc: 0.9424\n",
      "\n",
      "Epoch 20/20\n",
      "----------\n"
     ]
    },
    {
     "data": {
      "application/vnd.jupyter.widget-view+json": {
       "model_id": "44af9271b74743e3a11d9ade47b75fa7",
       "version_major": 2,
       "version_minor": 0
      },
      "text/plain": [
       "  0%|          | 0/510 [00:00<?, ?it/s]"
      ]
     },
     "metadata": {},
     "output_type": "display_data"
    },
    {
     "name": "stdout",
     "output_type": "stream",
     "text": [
      "Train loss: 0.1937, Train acc: 0.9392, Time: 65s\n",
      "Valid loss: 0.1563, Valid acc: 0.9601\n",
      "\n",
      "Training complete\n",
      "Best ACC: 0.9601 at epoch 3\n"
     ]
    }
   ],
   "source": [
    "train_loss, valid_loss, train_acc, valid_acc = run(train_loader, valid_loader, model,\n",
    "                                                             num_classes, epochs=epochs,\n",
    "                                                             save_path=save_path/'lymp')"
   ]
  },
  {
   "cell_type": "code",
   "execution_count": 56,
   "metadata": {},
   "outputs": [
    {
     "data": {
      "image/png": "[encoded data removed]",
      "text/plain": [
       "<Figure size 640x480 with 1 Axes>"
      ]
     },
     "metadata": {},
     "output_type": "display_data"
    }
   ],
   "source": [
    "plot_loss(train_loss, valid_loss)"
   ]
  },
  {
   "cell_type": "code",
   "execution_count": 57,
   "metadata": {},
   "outputs": [
    {
     "data": {
      "image/png": "[encoded data removed]",
      "text/plain": [
       "<Figure size 640x480 with 1 Axes>"
      ]
     },
     "metadata": {},
     "output_type": "display_data"
    }
   ],
   "source": [
    "plot_metrics(train_acc, valid_acc)"
   ]
  },
  {
   "cell_type": "code",
   "execution_count": 58,
   "metadata": {},
   "outputs": [
    {
     "name": "stdout",
     "output_type": "stream",
     "text": [
      "accuracy: 0.9600886917960089\n"
     ]
    }
   ],
   "source": [
    "print(f'accuracy: {max(valid_acc)}')"
   ]
  },
  {
   "cell_type": "markdown",
   "metadata": {},
   "source": [
    "## Pleuralモデル"
   ]
  },
  {
   "cell_type": "code",
   "execution_count": 59,
   "metadata": {},
   "outputs": [],
   "source": [
    "train_data = []\n",
    "valid_data = []\n",
    "for x, y in zip(X_train, Ypleu_train):\n",
    "    data = [x, y]\n",
    "    train_data.append(data)\n",
    "for x, y in zip(X_valid, Ypleu_valid):\n",
    "    data = [x, y]\n",
    "    valid_data.append(data)\n",
    "    \n",
    "train_loader, valid_loader = build_data(train_data, valid_data, batch_size=batch_size)"
   ]
  },
  {
   "cell_type": "code",
   "execution_count": 60,
   "metadata": {},
   "outputs": [],
   "source": [
    "config = BertConfig.from_json_file(model_path / 'bert_config.json')\n",
    "bert = BertModel.from_pretrained(model_path / 'UTH_BERT.bin', config=config)\n",
    "model = Net(bert, num_classes).to(device)\n",
    "\n",
    "FREEZE=False\n",
    "if FREEZE: \n",
    "    idx=1 #Any\n",
    "    for name, param in model.named_parameters(): \n",
    "        param.requires_grad = False \n",
    "    for name, param in list(model.named_parameters())[idx:]: \n",
    "        param.requires_grad = True \n",
    "#     optimizer = optim.SGD([{'params':list(model.parameters())[idx:], 'lr':learning_rate, 'momentum':momentum}])\n",
    "    optimizer = optim.Adam([{'params':list(model.parameters())[idx:], 'lr':learning_rate}]) \n",
    "    criterion = nn.CrossEntropyLoss()\n",
    "else:  \n",
    "#     optimizer = optim.SGD(model.parameters(), lr=learning_rate, momentum=momentum)\n",
    "    optimizer = optim.Adam(model.parameters(), lr=learning_rate)\n",
    "    criterion = nn.CrossEntropyLoss()\n",
    "\n",
    "scheduler = StepLR(optimizer, step_size=3, gamma=0.1)"
   ]
  },
  {
   "cell_type": "code",
   "execution_count": 61,
   "metadata": {},
   "outputs": [
    {
     "name": "stdout",
     "output_type": "stream",
     "text": [
      "\n",
      "Epoch 1/20\n",
      "----------\n"
     ]
    },
    {
     "data": {
      "application/vnd.jupyter.widget-view+json": {
       "model_id": "bf95b39414a741a2a99f9aec1e4f129c",
       "version_major": 2,
       "version_minor": 0
      },
      "text/plain": [
       "  0%|          | 0/510 [00:00<?, ?it/s]"
      ]
     },
     "metadata": {},
     "output_type": "display_data"
    },
    {
     "name": "stdout",
     "output_type": "stream",
     "text": [
      "Train loss: 0.1326, Train acc: 0.9745, Time: 65s\n",
      "Valid loss: 0.3394, Valid acc: 0.9069\n",
      "\n",
      "Epoch 2/20\n",
      "----------\n"
     ]
    },
    {
     "data": {
      "application/vnd.jupyter.widget-view+json": {
       "model_id": "7ba9310b3f49433bbb4e702041b70de4",
       "version_major": 2,
       "version_minor": 0
      },
      "text/plain": [
       "  0%|          | 0/510 [00:00<?, ?it/s]"
      ]
     },
     "metadata": {},
     "output_type": "display_data"
    },
    {
     "name": "stdout",
     "output_type": "stream",
     "text": [
      "Train loss: 0.1137, Train acc: 0.9745, Time: 65s\n",
      "Valid loss: 0.4139, Valid acc: 0.9069\n",
      "\n",
      "Epoch 3/20\n",
      "----------\n"
     ]
    },
    {
     "data": {
      "application/vnd.jupyter.widget-view+json": {
       "model_id": "7587ea193f774b2aa376f2ec013d0d1f",
       "version_major": 2,
       "version_minor": 0
      },
      "text/plain": [
       "  0%|          | 0/510 [00:00<?, ?it/s]"
      ]
     },
     "metadata": {},
     "output_type": "display_data"
    },
    {
     "name": "stdout",
     "output_type": "stream",
     "text": [
      "Train loss: 0.1194, Train acc: 0.9745, Time: 65s\n",
      "Valid loss: 0.2931, Valid acc: 0.9069\n",
      "\n",
      "Epoch 4/20\n",
      "----------\n"
     ]
    },
    {
     "data": {
      "application/vnd.jupyter.widget-view+json": {
       "model_id": "0aa405af07844912a56a04d28687e879",
       "version_major": 2,
       "version_minor": 0
      },
      "text/plain": [
       "  0%|          | 0/510 [00:00<?, ?it/s]"
      ]
     },
     "metadata": {},
     "output_type": "display_data"
    },
    {
     "name": "stdout",
     "output_type": "stream",
     "text": [
      "Train loss: 0.1035, Train acc: 0.9775, Time: 65s\n",
      "Valid loss: 0.3223, Valid acc: 0.9069\n",
      "\n",
      "Epoch 5/20\n",
      "----------\n"
     ]
    },
    {
     "data": {
      "application/vnd.jupyter.widget-view+json": {
       "model_id": "d11a6266f2f94a78946c4cf889cf1643",
       "version_major": 2,
       "version_minor": 0
      },
      "text/plain": [
       "  0%|          | 0/510 [00:00<?, ?it/s]"
      ]
     },
     "metadata": {},
     "output_type": "display_data"
    },
    {
     "name": "stdout",
     "output_type": "stream",
     "text": [
      "Train loss: 0.1133, Train acc: 0.9755, Time: 65s\n",
      "Valid loss: 0.3119, Valid acc: 0.9113\n",
      "\n",
      "Epoch 6/20\n",
      "----------\n"
     ]
    },
    {
     "data": {
      "application/vnd.jupyter.widget-view+json": {
       "model_id": "eb429a9ac002466a9d76a05cae29fa1a",
       "version_major": 2,
       "version_minor": 0
      },
      "text/plain": [
       "  0%|          | 0/510 [00:00<?, ?it/s]"
      ]
     },
     "metadata": {},
     "output_type": "display_data"
    },
    {
     "name": "stdout",
     "output_type": "stream",
     "text": [
      "Train loss: 0.0955, Train acc: 0.9725, Time: 65s\n",
      "Valid loss: 0.3587, Valid acc: 0.9157\n",
      "\n",
      "Epoch 7/20\n",
      "----------\n"
     ]
    },
    {
     "data": {
      "application/vnd.jupyter.widget-view+json": {
       "model_id": "4234d67e9f004b4482d379cc44259d70",
       "version_major": 2,
       "version_minor": 0
      },
      "text/plain": [
       "  0%|          | 0/510 [00:00<?, ?it/s]"
      ]
     },
     "metadata": {},
     "output_type": "display_data"
    },
    {
     "name": "stdout",
     "output_type": "stream",
     "text": [
      "Train loss: 0.0878, Train acc: 0.9804, Time: 65s\n",
      "Valid loss: 0.3778, Valid acc: 0.9202\n",
      "\n",
      "Epoch 8/20\n",
      "----------\n"
     ]
    },
    {
     "data": {
      "application/vnd.jupyter.widget-view+json": {
       "model_id": "3b276b8d983c42c498751a96e233ed24",
       "version_major": 2,
       "version_minor": 0
      },
      "text/plain": [
       "  0%|          | 0/510 [00:00<?, ?it/s]"
      ]
     },
     "metadata": {},
     "output_type": "display_data"
    },
    {
     "name": "stdout",
     "output_type": "stream",
     "text": [
      "Train loss: 0.1056, Train acc: 0.9765, Time: 65s\n",
      "Valid loss: 0.3319, Valid acc: 0.9069\n",
      "\n",
      "Epoch 9/20\n",
      "----------\n"
     ]
    },
    {
     "data": {
      "application/vnd.jupyter.widget-view+json": {
       "model_id": "a910ac9bfdc0497c9a163dc4246c10e3",
       "version_major": 2,
       "version_minor": 0
      },
      "text/plain": [
       "  0%|          | 0/510 [00:00<?, ?it/s]"
      ]
     },
     "metadata": {},
     "output_type": "display_data"
    },
    {
     "name": "stdout",
     "output_type": "stream",
     "text": [
      "Train loss: 0.0879, Train acc: 0.9794, Time: 65s\n",
      "Valid loss: 0.3404, Valid acc: 0.9202\n",
      "\n",
      "Epoch 10/20\n",
      "----------\n"
     ]
    },
    {
     "data": {
      "application/vnd.jupyter.widget-view+json": {
       "model_id": "c695b89b6a2643a692a0bf2b3e419abb",
       "version_major": 2,
       "version_minor": 0
      },
      "text/plain": [
       "  0%|          | 0/510 [00:00<?, ?it/s]"
      ]
     },
     "metadata": {},
     "output_type": "display_data"
    },
    {
     "name": "stdout",
     "output_type": "stream",
     "text": [
      "Train loss: 0.0941, Train acc: 0.9784, Time: 65s\n",
      "Valid loss: 0.3587, Valid acc: 0.9069\n",
      "\n",
      "Epoch 11/20\n",
      "----------\n"
     ]
    },
    {
     "data": {
      "application/vnd.jupyter.widget-view+json": {
       "model_id": "647fd3cb82484145abd133c9e44253f0",
       "version_major": 2,
       "version_minor": 0
      },
      "text/plain": [
       "  0%|          | 0/510 [00:00<?, ?it/s]"
      ]
     },
     "metadata": {},
     "output_type": "display_data"
    },
    {
     "name": "stdout",
     "output_type": "stream",
     "text": [
      "Train loss: 0.1070, Train acc: 0.9745, Time: 65s\n",
      "Valid loss: 0.3088, Valid acc: 0.9069\n",
      "\n",
      "Epoch 12/20\n",
      "----------\n"
     ]
    },
    {
     "data": {
      "application/vnd.jupyter.widget-view+json": {
       "model_id": "e33889537ca04d7ca026c4569a30b53e",
       "version_major": 2,
       "version_minor": 0
      },
      "text/plain": [
       "  0%|          | 0/510 [00:00<?, ?it/s]"
      ]
     },
     "metadata": {},
     "output_type": "display_data"
    },
    {
     "name": "stdout",
     "output_type": "stream",
     "text": [
      "Train loss: 0.1038, Train acc: 0.9735, Time: 65s\n",
      "Valid loss: 0.4752, Valid acc: 0.9091\n",
      "\n",
      "Epoch 13/20\n",
      "----------\n"
     ]
    },
    {
     "data": {
      "application/vnd.jupyter.widget-view+json": {
       "model_id": "5cda723659c74f2985e7aede8bc0c433",
       "version_major": 2,
       "version_minor": 0
      },
      "text/plain": [
       "  0%|          | 0/510 [00:00<?, ?it/s]"
      ]
     },
     "metadata": {},
     "output_type": "display_data"
    },
    {
     "name": "stdout",
     "output_type": "stream",
     "text": [
      "Train loss: 0.1077, Train acc: 0.9735, Time: 65s\n",
      "Valid loss: 0.3521, Valid acc: 0.9157\n",
      "\n",
      "Epoch 14/20\n",
      "----------\n"
     ]
    },
    {
     "data": {
      "application/vnd.jupyter.widget-view+json": {
       "model_id": "74188399ec02487ba34ef4e68cd2ae3e",
       "version_major": 2,
       "version_minor": 0
      },
      "text/plain": [
       "  0%|          | 0/510 [00:00<?, ?it/s]"
      ]
     },
     "metadata": {},
     "output_type": "display_data"
    },
    {
     "name": "stdout",
     "output_type": "stream",
     "text": [
      "Train loss: 0.0954, Train acc: 0.9745, Time: 65s\n",
      "Valid loss: 0.3176, Valid acc: 0.9202\n",
      "\n",
      "Epoch 15/20\n",
      "----------\n"
     ]
    },
    {
     "data": {
      "application/vnd.jupyter.widget-view+json": {
       "model_id": "964f9cb74c1c4523994a5c0cd4de0ba4",
       "version_major": 2,
       "version_minor": 0
      },
      "text/plain": [
       "  0%|          | 0/510 [00:00<?, ?it/s]"
      ]
     },
     "metadata": {},
     "output_type": "display_data"
    },
    {
     "name": "stdout",
     "output_type": "stream",
     "text": [
      "Train loss: 0.0896, Train acc: 0.9784, Time: 65s\n",
      "Valid loss: 0.3322, Valid acc: 0.9246\n",
      "\n",
      "Epoch 16/20\n",
      "----------\n"
     ]
    },
    {
     "data": {
      "application/vnd.jupyter.widget-view+json": {
       "model_id": "e113bbe12fb3499eb04911be79947e29",
       "version_major": 2,
       "version_minor": 0
      },
      "text/plain": [
       "  0%|          | 0/510 [00:00<?, ?it/s]"
      ]
     },
     "metadata": {},
     "output_type": "display_data"
    },
    {
     "name": "stdout",
     "output_type": "stream",
     "text": [
      "Train loss: 0.0888, Train acc: 0.9784, Time: 65s\n",
      "Valid loss: 0.3882, Valid acc: 0.9224\n",
      "\n",
      "Epoch 17/20\n",
      "----------\n"
     ]
    },
    {
     "data": {
      "application/vnd.jupyter.widget-view+json": {
       "model_id": "60d6018712d14faf96b5014ed264e741",
       "version_major": 2,
       "version_minor": 0
      },
      "text/plain": [
       "  0%|          | 0/510 [00:00<?, ?it/s]"
      ]
     },
     "metadata": {},
     "output_type": "display_data"
    },
    {
     "name": "stdout",
     "output_type": "stream",
     "text": [
      "Train loss: 0.0854, Train acc: 0.9755, Time: 65s\n",
      "Valid loss: 0.4763, Valid acc: 0.9069\n",
      "\n",
      "Epoch 18/20\n",
      "----------\n"
     ]
    },
    {
     "data": {
      "application/vnd.jupyter.widget-view+json": {
       "model_id": "74157fc2033141d6974901f4e9523312",
       "version_major": 2,
       "version_minor": 0
      },
      "text/plain": [
       "  0%|          | 0/510 [00:00<?, ?it/s]"
      ]
     },
     "metadata": {},
     "output_type": "display_data"
    },
    {
     "name": "stdout",
     "output_type": "stream",
     "text": [
      "Train loss: 0.0877, Train acc: 0.9794, Time: 65s\n",
      "Valid loss: 0.3447, Valid acc: 0.9268\n",
      "\n",
      "Epoch 19/20\n",
      "----------\n"
     ]
    },
    {
     "data": {
      "application/vnd.jupyter.widget-view+json": {
       "model_id": "2f3b491c76ab4e03895772eebca5f6f5",
       "version_major": 2,
       "version_minor": 0
      },
      "text/plain": [
       "  0%|          | 0/510 [00:00<?, ?it/s]"
      ]
     },
     "metadata": {},
     "output_type": "display_data"
    },
    {
     "name": "stdout",
     "output_type": "stream",
     "text": [
      "Train loss: 0.0804, Train acc: 0.9814, Time: 65s\n",
      "Valid loss: 0.4258, Valid acc: 0.9202\n",
      "\n",
      "Epoch 20/20\n",
      "----------\n"
     ]
    },
    {
     "data": {
      "application/vnd.jupyter.widget-view+json": {
       "model_id": "9ce133cb914646d0b91b5a4eae08157b",
       "version_major": 2,
       "version_minor": 0
      },
      "text/plain": [
       "  0%|          | 0/510 [00:00<?, ?it/s]"
      ]
     },
     "metadata": {},
     "output_type": "display_data"
    },
    {
     "name": "stdout",
     "output_type": "stream",
     "text": [
      "Train loss: 0.0820, Train acc: 0.9814, Time: 65s\n",
      "Valid loss: 0.3977, Valid acc: 0.9157\n",
      "\n",
      "Training complete\n",
      "Best ACC: 0.9268 at epoch 17\n"
     ]
    }
   ],
   "source": [
    "train_loss, valid_loss, train_acc, valid_acc = run(train_loader, valid_loader, model,\n",
    "                                                             num_classes, epochs=epochs,\n",
    "                                                             save_path=save_path/'pleu')"
   ]
  },
  {
   "cell_type": "code",
   "execution_count": 62,
   "metadata": {},
   "outputs": [
    {
     "data": {
      "image/png": "[encoded data removed]",
      "text/plain": [
       "<Figure size 640x480 with 1 Axes>"
      ]
     },
     "metadata": {},
     "output_type": "display_data"
    }
   ],
   "source": [
    "plot_loss(train_loss, valid_loss)"
   ]
  },
  {
   "cell_type": "code",
   "execution_count": 63,
   "metadata": {},
   "outputs": [
    {
     "data": {
      "image/png": "[encoded data removed]",
      "text/plain": [
       "<Figure size 640x480 with 1 Axes>"
      ]
     },
     "metadata": {},
     "output_type": "display_data"
    }
   ],
   "source": [
    "plot_metrics(train_acc, valid_acc)"
   ]
  },
  {
   "cell_type": "code",
   "execution_count": 64,
   "metadata": {},
   "outputs": [
    {
     "name": "stdout",
     "output_type": "stream",
     "text": [
      "accuracy: 0.926829268292683\n"
     ]
    }
   ],
   "source": [
    "print(f'accuracy: {max(valid_acc)}')"
   ]
  },
  {
   "cell_type": "markdown",
   "metadata": {},
   "source": [
    "## Distantモデル"
   ]
  },
  {
   "cell_type": "code",
   "execution_count": 65,
   "metadata": {},
   "outputs": [],
   "source": [
    "train_data = []\n",
    "valid_data = []\n",
    "for x, y in zip(X_train, Ydist_train):\n",
    "    data = [x, y]\n",
    "    train_data.append(data)\n",
    "for x, y in zip(X_valid, Ydist_valid):\n",
    "    data = [x, y]\n",
    "    valid_data.append(data)\n",
    "    \n",
    "train_loader, valid_loader = build_data(train_data, valid_data, batch_size=batch_size)"
   ]
  },
  {
   "cell_type": "code",
   "execution_count": 66,
   "metadata": {},
   "outputs": [],
   "source": [
    "config = BertConfig.from_json_file(model_path / 'bert_config.json')\n",
    "bert = BertModel.from_pretrained(model_path / 'UTH_BERT.bin', config=config)\n",
    "model = Net(bert, num_classes).to(device)\n",
    "\n",
    "FREEZE=False\n",
    "if FREEZE: \n",
    "    idx=1 #Any\n",
    "    for name, param in model.named_parameters(): \n",
    "        param.requires_grad = False \n",
    "    for name, param in list(model.named_parameters())[idx:]: \n",
    "        param.requires_grad = True \n",
    "#     optimizer = optim.SGD([{'params':list(model.parameters())[idx:], 'lr':learning_rate, 'momentum':momentum}])\n",
    "    optimizer = optim.Adam([{'params':list(model.parameters())[idx:], 'lr':learning_rate}]) \n",
    "    criterion = nn.CrossEntropyLoss()\n",
    "else:  \n",
    "#     optimizer = optim.SGD(model.parameters(), lr=learning_rate, momentum=momentum)\n",
    "    optimizer = optim.Adam(model.parameters(), lr=learning_rate)\n",
    "    criterion = nn.CrossEntropyLoss()\n",
    "\n",
    "scheduler = StepLR(optimizer, step_size=3, gamma=0.1)"
   ]
  },
  {
   "cell_type": "code",
   "execution_count": 67,
   "metadata": {},
   "outputs": [
    {
     "name": "stdout",
     "output_type": "stream",
     "text": [
      "\n",
      "Epoch 1/20\n",
      "----------\n"
     ]
    },
    {
     "data": {
      "application/vnd.jupyter.widget-view+json": {
       "model_id": "645a8aa548514020b09d63e51c4670ba",
       "version_major": 2,
       "version_minor": 0
      },
      "text/plain": [
       "  0%|          | 0/510 [00:00<?, ?it/s]"
      ]
     },
     "metadata": {},
     "output_type": "display_data"
    },
    {
     "name": "stdout",
     "output_type": "stream",
     "text": [
      "Train loss: 0.3095, Train acc: 0.9157, Time: 65s\n",
      "Valid loss: 0.3565, Valid acc: 0.8958\n",
      "\n",
      "Epoch 2/20\n",
      "----------\n"
     ]
    },
    {
     "data": {
      "application/vnd.jupyter.widget-view+json": {
       "model_id": "48e4a588c5b64ad6a40d96752cc29ba8",
       "version_major": 2,
       "version_minor": 0
      },
      "text/plain": [
       "  0%|          | 0/510 [00:00<?, ?it/s]"
      ]
     },
     "metadata": {},
     "output_type": "display_data"
    },
    {
     "name": "stdout",
     "output_type": "stream",
     "text": [
      "Train loss: 0.2964, Train acc: 0.9167, Time: 65s\n",
      "Valid loss: 0.3353, Valid acc: 0.8958\n",
      "\n",
      "Epoch 3/20\n",
      "----------\n"
     ]
    },
    {
     "data": {
      "application/vnd.jupyter.widget-view+json": {
       "model_id": "f7d48796efdd4c93bb2df8e639ac4503",
       "version_major": 2,
       "version_minor": 0
      },
      "text/plain": [
       "  0%|          | 0/510 [00:00<?, ?it/s]"
      ]
     },
     "metadata": {},
     "output_type": "display_data"
    },
    {
     "name": "stdout",
     "output_type": "stream",
     "text": [
      "Train loss: 0.2882, Train acc: 0.9167, Time: 65s\n",
      "Valid loss: 0.3324, Valid acc: 0.8958\n",
      "\n",
      "Epoch 4/20\n",
      "----------\n"
     ]
    },
    {
     "data": {
      "application/vnd.jupyter.widget-view+json": {
       "model_id": "126aa6a60666474b94adbfad1dd422a8",
       "version_major": 2,
       "version_minor": 0
      },
      "text/plain": [
       "  0%|          | 0/510 [00:00<?, ?it/s]"
      ]
     },
     "metadata": {},
     "output_type": "display_data"
    },
    {
     "name": "stdout",
     "output_type": "stream",
     "text": [
      "Train loss: 0.2799, Train acc: 0.9186, Time: 65s\n",
      "Valid loss: 0.2929, Valid acc: 0.9069\n",
      "\n",
      "Epoch 5/20\n",
      "----------\n"
     ]
    },
    {
     "data": {
      "application/vnd.jupyter.widget-view+json": {
       "model_id": "8f5d3619e8be42debbbbae5b96b817a8",
       "version_major": 2,
       "version_minor": 0
      },
      "text/plain": [
       "  0%|          | 0/510 [00:00<?, ?it/s]"
      ]
     },
     "metadata": {},
     "output_type": "display_data"
    },
    {
     "name": "stdout",
     "output_type": "stream",
     "text": [
      "Train loss: 0.2141, Train acc: 0.9392, Time: 65s\n",
      "Valid loss: 0.2425, Valid acc: 0.9157\n",
      "\n",
      "Epoch 6/20\n",
      "----------\n"
     ]
    },
    {
     "data": {
      "application/vnd.jupyter.widget-view+json": {
       "model_id": "654c0e3716874c0a8313cc1c60dcc81f",
       "version_major": 2,
       "version_minor": 0
      },
      "text/plain": [
       "  0%|          | 0/510 [00:00<?, ?it/s]"
      ]
     },
     "metadata": {},
     "output_type": "display_data"
    },
    {
     "name": "stdout",
     "output_type": "stream",
     "text": [
      "Train loss: 0.1996, Train acc: 0.9431, Time: 65s\n",
      "Valid loss: 0.2692, Valid acc: 0.9113\n",
      "\n",
      "Epoch 7/20\n",
      "----------\n"
     ]
    },
    {
     "data": {
      "application/vnd.jupyter.widget-view+json": {
       "model_id": "ec9991861bd14efb9329321d779ff090",
       "version_major": 2,
       "version_minor": 0
      },
      "text/plain": [
       "  0%|          | 0/510 [00:00<?, ?it/s]"
      ]
     },
     "metadata": {},
     "output_type": "display_data"
    },
    {
     "name": "stdout",
     "output_type": "stream",
     "text": [
      "Train loss: 0.1809, Train acc: 0.9480, Time: 65s\n",
      "Valid loss: 0.4143, Valid acc: 0.9002\n",
      "\n",
      "Epoch 8/20\n",
      "----------\n"
     ]
    },
    {
     "data": {
      "application/vnd.jupyter.widget-view+json": {
       "model_id": "9fcb814a88de47639e1b95638e5a20a8",
       "version_major": 2,
       "version_minor": 0
      },
      "text/plain": [
       "  0%|          | 0/510 [00:00<?, ?it/s]"
      ]
     },
     "metadata": {},
     "output_type": "display_data"
    },
    {
     "name": "stdout",
     "output_type": "stream",
     "text": [
      "Train loss: 0.1867, Train acc: 0.9510, Time: 65s\n",
      "Valid loss: 0.2439, Valid acc: 0.9290\n",
      "\n",
      "Epoch 9/20\n",
      "----------\n"
     ]
    },
    {
     "data": {
      "application/vnd.jupyter.widget-view+json": {
       "model_id": "140940ade2684df98813b58c99435737",
       "version_major": 2,
       "version_minor": 0
      },
      "text/plain": [
       "  0%|          | 0/510 [00:00<?, ?it/s]"
      ]
     },
     "metadata": {},
     "output_type": "display_data"
    },
    {
     "name": "stdout",
     "output_type": "stream",
     "text": [
      "Train loss: 0.1692, Train acc: 0.9480, Time: 65s\n",
      "Valid loss: 0.2644, Valid acc: 0.9224\n",
      "\n",
      "Epoch 10/20\n",
      "----------\n"
     ]
    },
    {
     "data": {
      "application/vnd.jupyter.widget-view+json": {
       "model_id": "65d2a8db7aa74998bd8e19c53cbfc92d",
       "version_major": 2,
       "version_minor": 0
      },
      "text/plain": [
       "  0%|          | 0/510 [00:00<?, ?it/s]"
      ]
     },
     "metadata": {},
     "output_type": "display_data"
    },
    {
     "name": "stdout",
     "output_type": "stream",
     "text": [
      "Train loss: 0.1567, Train acc: 0.9529, Time: 65s\n",
      "Valid loss: 0.2384, Valid acc: 0.9246\n",
      "\n",
      "Epoch 11/20\n",
      "----------\n"
     ]
    },
    {
     "data": {
      "application/vnd.jupyter.widget-view+json": {
       "model_id": "225b6ddd246d4449ac34c32169a4ec04",
       "version_major": 2,
       "version_minor": 0
      },
      "text/plain": [
       "  0%|          | 0/510 [00:00<?, ?it/s]"
      ]
     },
     "metadata": {},
     "output_type": "display_data"
    },
    {
     "name": "stdout",
     "output_type": "stream",
     "text": [
      "Train loss: 0.1487, Train acc: 0.9559, Time: 65s\n",
      "Valid loss: 0.2670, Valid acc: 0.9180\n",
      "\n",
      "Epoch 12/20\n",
      "----------\n"
     ]
    },
    {
     "data": {
      "application/vnd.jupyter.widget-view+json": {
       "model_id": "b0bbc85888e742e9ae1359aaa17f1a34",
       "version_major": 2,
       "version_minor": 0
      },
      "text/plain": [
       "  0%|          | 0/510 [00:00<?, ?it/s]"
      ]
     },
     "metadata": {},
     "output_type": "display_data"
    },
    {
     "name": "stdout",
     "output_type": "stream",
     "text": [
      "Train loss: 0.1901, Train acc: 0.9441, Time: 65s\n",
      "Valid loss: 0.3458, Valid acc: 0.9224\n",
      "\n",
      "Epoch 13/20\n",
      "----------\n"
     ]
    },
    {
     "data": {
      "application/vnd.jupyter.widget-view+json": {
       "model_id": "9cd89daea9904a408451c087f17fdd57",
       "version_major": 2,
       "version_minor": 0
      },
      "text/plain": [
       "  0%|          | 0/510 [00:00<?, ?it/s]"
      ]
     },
     "metadata": {},
     "output_type": "display_data"
    },
    {
     "name": "stdout",
     "output_type": "stream",
     "text": [
      "Train loss: 0.1846, Train acc: 0.9500, Time: 65s\n",
      "Valid loss: 0.2974, Valid acc: 0.8958\n",
      "\n",
      "Epoch 14/20\n",
      "----------\n"
     ]
    },
    {
     "data": {
      "application/vnd.jupyter.widget-view+json": {
       "model_id": "052f2d42a0b943d292f15044ccd351fc",
       "version_major": 2,
       "version_minor": 0
      },
      "text/plain": [
       "  0%|          | 0/510 [00:00<?, ?it/s]"
      ]
     },
     "metadata": {},
     "output_type": "display_data"
    },
    {
     "name": "stdout",
     "output_type": "stream",
     "text": [
      "Train loss: 0.2083, Train acc: 0.9382, Time: 65s\n",
      "Valid loss: 0.3215, Valid acc: 0.9113\n",
      "\n",
      "Epoch 15/20\n",
      "----------\n"
     ]
    },
    {
     "data": {
      "application/vnd.jupyter.widget-view+json": {
       "model_id": "2f82aaa6f84047a0b43f4dc4a73bc196",
       "version_major": 2,
       "version_minor": 0
      },
      "text/plain": [
       "  0%|          | 0/510 [00:00<?, ?it/s]"
      ]
     },
     "metadata": {},
     "output_type": "display_data"
    },
    {
     "name": "stdout",
     "output_type": "stream",
     "text": [
      "Train loss: 0.1754, Train acc: 0.9510, Time: 65s\n",
      "Valid loss: 0.3381, Valid acc: 0.9113\n",
      "\n",
      "Epoch 16/20\n",
      "----------\n"
     ]
    },
    {
     "data": {
      "application/vnd.jupyter.widget-view+json": {
       "model_id": "8781efec0c514f0fab005ebf16880e85",
       "version_major": 2,
       "version_minor": 0
      },
      "text/plain": [
       "  0%|          | 0/510 [00:00<?, ?it/s]"
      ]
     },
     "metadata": {},
     "output_type": "display_data"
    },
    {
     "name": "stdout",
     "output_type": "stream",
     "text": [
      "Train loss: 0.1511, Train acc: 0.9578, Time: 65s\n",
      "Valid loss: 0.2935, Valid acc: 0.9180\n",
      "\n",
      "Epoch 17/20\n",
      "----------\n"
     ]
    },
    {
     "data": {
      "application/vnd.jupyter.widget-view+json": {
       "model_id": "416fa18db85e4f00a8eaf675e4002c00",
       "version_major": 2,
       "version_minor": 0
      },
      "text/plain": [
       "  0%|          | 0/510 [00:00<?, ?it/s]"
      ]
     },
     "metadata": {},
     "output_type": "display_data"
    },
    {
     "name": "stdout",
     "output_type": "stream",
     "text": [
      "Train loss: 0.1874, Train acc: 0.9461, Time: 65s\n",
      "Valid loss: 0.2479, Valid acc: 0.9224\n",
      "\n",
      "Epoch 18/20\n",
      "----------\n"
     ]
    },
    {
     "data": {
      "application/vnd.jupyter.widget-view+json": {
       "model_id": "ce831d3564d04a24b56ffc350140175d",
       "version_major": 2,
       "version_minor": 0
      },
      "text/plain": [
       "  0%|          | 0/510 [00:00<?, ?it/s]"
      ]
     },
     "metadata": {},
     "output_type": "display_data"
    },
    {
     "name": "stdout",
     "output_type": "stream",
     "text": [
      "Train loss: 0.1658, Train acc: 0.9529, Time: 65s\n",
      "Valid loss: 0.2844, Valid acc: 0.9091\n",
      "\n",
      "Epoch 19/20\n",
      "----------\n"
     ]
    },
    {
     "data": {
      "application/vnd.jupyter.widget-view+json": {
       "model_id": "cf24877b048f47939a76d0403ceb7d1d",
       "version_major": 2,
       "version_minor": 0
      },
      "text/plain": [
       "  0%|          | 0/510 [00:00<?, ?it/s]"
      ]
     },
     "metadata": {},
     "output_type": "display_data"
    },
    {
     "name": "stdout",
     "output_type": "stream",
     "text": [
      "Train loss: 0.1803, Train acc: 0.9490, Time: 65s\n",
      "Valid loss: 0.3214, Valid acc: 0.9091\n",
      "\n",
      "Epoch 20/20\n",
      "----------\n"
     ]
    },
    {
     "data": {
      "application/vnd.jupyter.widget-view+json": {
       "model_id": "4f53a23541804c83819abceb04da67d1",
       "version_major": 2,
       "version_minor": 0
      },
      "text/plain": [
       "  0%|          | 0/510 [00:00<?, ?it/s]"
      ]
     },
     "metadata": {},
     "output_type": "display_data"
    },
    {
     "name": "stdout",
     "output_type": "stream",
     "text": [
      "Train loss: 0.1560, Train acc: 0.9569, Time: 65s\n",
      "Valid loss: 0.3000, Valid acc: 0.9091\n",
      "\n",
      "Training complete\n",
      "Best ACC: 0.9290 at epoch 7\n"
     ]
    }
   ],
   "source": [
    "train_loss, valid_loss, train_acc, valid_acc = run(train_loader, valid_loader, model,\n",
    "                                                             num_classes, epochs=epochs,\n",
    "                                                             save_path=save_path/'dist')"
   ]
  },
  {
   "cell_type": "code",
   "execution_count": 68,
   "metadata": {},
   "outputs": [
    {
     "data": {
      "image/png": "[encoded data removed]",
      "text/plain": [
       "<Figure size 640x480 with 1 Axes>"
      ]
     },
     "metadata": {},
     "output_type": "display_data"
    }
   ],
   "source": [
    "plot_loss(train_loss, valid_loss)"
   ]
  },
  {
   "cell_type": "code",
   "execution_count": 69,
   "metadata": {},
   "outputs": [
    {
     "data": {
      "image/png": "[encoded data removed]",
      "text/plain": [
       "<Figure size 640x480 with 1 Axes>"
      ]
     },
     "metadata": {},
     "output_type": "display_data"
    }
   ],
   "source": [
    "plot_metrics(train_acc, valid_acc)"
   ]
  },
  {
   "cell_type": "code",
   "execution_count": 70,
   "metadata": {},
   "outputs": [
    {
     "name": "stdout",
     "output_type": "stream",
     "text": [
      "accuracy: 0.9290465631929047\n"
     ]
    }
   ],
   "source": [
    "print(f'accuracy: {max(valid_acc)}')"
   ]
  },
  {
   "cell_type": "code",
   "execution_count": null,
   "metadata": {},
   "outputs": [],
   "source": []
  }
 ],
 "metadata": {
  "kernelspec": {
   "display_name": "env_radnlp",
   "language": "python",
   "name": "python3"
  },
  "language_info": {
   "codemirror_mode": {
    "name": "ipython",
    "version": 3
   },
   "file_extension": ".py",
   "mimetype": "text/x-python",
   "name": "python",
   "nbconvert_exporter": "python",
   "pygments_lexer": "ipython3",
   "version": "3.11.11"
  }
 },
 "nbformat": 4,
 "nbformat_minor": 4
}
