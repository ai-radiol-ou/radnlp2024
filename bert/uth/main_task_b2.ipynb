{
 "cells": [
  {
   "cell_type": "code",
   "execution_count": 1,
   "metadata": {},
   "outputs": [],
   "source": [
    "import sys\n",
    "import os\n",
    "import glob\n",
    "from pathlib import Path\n",
    "import random\n",
    "import time\n",
    "import datetime\n",
    "from tqdm.notebook import tqdm\n",
    "import numpy as np\n",
    "import pandas as pd\n",
    "import matplotlib.pyplot as plt\n",
    "%matplotlib inline\n",
    "import seaborn as sns\n",
    "import sklearn\n",
    "from sklearn import preprocessing\n",
    "from sklearn.preprocessing import label_binarize\n",
    "from sklearn.model_selection import train_test_split\n",
    "from sklearn.utils import shuffle\n",
    "from sklearn.model_selection import KFold, StratifiedKFold, GroupKFold\n",
    "from sklearn import metrics\n",
    "from sklearn.metrics import confusion_matrix, accuracy_score, recall_score, precision_score, f1_score, roc_curve, roc_auc_score\n",
    "import re\n",
    "import transformers\n",
    "import torch \n",
    "from torch.utils.data import DataLoader, Dataset\n",
    "import torch.nn as nn\n",
    "import torch.nn.functional as F\n",
    "from torch.nn.utils.rnn import pad_sequence\n",
    "import torch.optim as optim\n",
    "from torch.optim.lr_scheduler import StepLR\n",
    "%matplotlib inline\n",
    "sns.set_theme(style='darkgrid')"
   ]
  },
  {
   "cell_type": "code",
   "execution_count": 2,
   "metadata": {},
   "outputs": [],
   "source": [
    "from pkg.UTHBERT.preprocess_text import preprocess as my_preprocess\n",
    "from pkg.UTHBERT.tokenization_mod import MecabTokenizer, FullTokenizerForMecab\n",
    "from transformers import BertModel,BertConfig"
   ]
  },
  {
   "cell_type": "code",
   "execution_count": 3,
   "metadata": {},
   "outputs": [
    {
     "name": "stdout",
     "output_type": "stream",
     "text": [
      "Using device: mps\n"
     ]
    }
   ],
   "source": [
    "def get_device() -> str:\n",
    "    \"\"\"\n",
    "    Returns the best available device for PyTorch computations.\n",
    "    \"\"\"\n",
    "    if torch.backends.mps.is_available():\n",
    "        # macOS with Apple Silicon (MPS backend)\n",
    "        return \"mps\"\n",
    "    elif torch.cuda.is_available():\n",
    "        # NVIDIA GPU\n",
    "        return \"cuda\"\n",
    "    else:\n",
    "        # Fallback to CPU\n",
    "        return \"cpu\"\n",
    "\n",
    "try:\n",
    "    device = torch.device(get_device())\n",
    "    print(f\"Using device: {device}\")\n",
    "except RuntimeError as e:\n",
    "    print(f\"Failed to initialize the device: {e}\")\n",
    "    device = torch.device(\"cpu\")  # Fallback to CPU in case of an error"
   ]
  },
  {
   "cell_type": "code",
   "execution_count": 4,
   "metadata": {},
   "outputs": [],
   "source": [
    "seed=0\n",
    "def seed_everything(seed):\n",
    "    random.seed(seed)\n",
    "    os.environ['PYTHONHASHSEED'] = str(seed)\n",
    "    np.random.seed(seed)\n",
    "    torch.manual_seed(seed)\n",
    "    torch.cuda.manual_seed(seed)\n",
    "    torch.backends.cudnn.deterministic = True\n",
    "    torch.backends.cudnn.benchmark = False #Trueで高速化重視, Falseで再現性重視\n",
    "seed_everything(seed)\n",
    "os.environ[\"CUDA_VISIBLE_DEVICES\"] = \"0\"\n",
    "torch.use_deterministic_algorithms(True)\n",
    "torch.set_num_threads(1)"
   ]
  },
  {
   "cell_type": "markdown",
   "metadata": {},
   "source": [
    "# Tokenizer"
   ]
  },
  {
   "cell_type": "code",
   "execution_count": 5,
   "metadata": {},
   "outputs": [],
   "source": [
    "dic_path = './dic'"
   ]
  },
  {
   "cell_type": "code",
   "execution_count": 6,
   "metadata": {},
   "outputs": [],
   "source": [
    "# special token for a Person's name (Do not change)\n",
    "name_token = \"＠＠Ｎ\"\n",
    "\n",
    "# path to the mecab-ipadic-neologd\n",
    "mecab_ipadic_neologd = dic_path + '/mecab-ipadic-neologd'\n",
    "\n",
    "# path to the J-Medic (We used MANBYO_201907_Dic-utf8.dic)\n",
    "mecab_J_medic = dic_path + '/MANBYO/MANBYO_201907_Dic-utf8.dic'\n",
    "\n",
    "# path to the uth-bert vocabulary\n",
    "vocab_file = dic_path + '/UTH-BERT/bert_vocab_mc_v1_25000.txt'"
   ]
  },
  {
   "cell_type": "code",
   "execution_count": 7,
   "metadata": {},
   "outputs": [],
   "source": [
    "# MecabTokenizer\n",
    "sub_tokenizer = MecabTokenizer(mecab_ipadic_neologd=mecab_ipadic_neologd,\n",
    "                               mecab_J_medic=mecab_J_medic,\n",
    "                               name_token=name_token)\n",
    "\n",
    "# FullTokenizerForMecab\n",
    "tokenizer = FullTokenizerForMecab(sub_tokenizer=sub_tokenizer,\n",
    "                                  vocab_file=vocab_file,\n",
    "                                  do_lower_case=False)"
   ]
  },
  {
   "cell_type": "code",
   "execution_count": 8,
   "metadata": {},
   "outputs": [],
   "source": [
    "def tokenize(sentence_list):\n",
    "    token_list = []\n",
    "    for s in tqdm(sentence_list):\n",
    "        tokens = tokenizer.tokenize(my_preprocess(str(s)))\n",
    "        ids = tokenizer.convert_tokens_to_ids(tokens)\n",
    "        ids = [2] + ids + [3]\n",
    "        token_list.append(ids)\n",
    "    return token_list"
   ]
  },
  {
   "cell_type": "markdown",
   "metadata": {},
   "source": [
    "# Data"
   ]
  },
  {
   "cell_type": "code",
   "execution_count": 9,
   "metadata": {},
   "outputs": [],
   "source": [
    "def create_dataframe(folder_path):\n",
    "    \"\"\"\n",
    "    指定されたフォルダ内のテキストファイルからDataFrameを作成する関数\n",
    "\n",
    "    Args:\n",
    "        folder_path (str): テキストファイルが入っているフォルダのパス\n",
    "\n",
    "    Returns:\n",
    "        pandas.DataFrame: 作成されたDataFrame\n",
    "    \"\"\"\n",
    "\n",
    "    # フォルダ内のすべてのテキストファイルのパスを取得\n",
    "    file_list = glob.glob(folder_path + \"/*.txt\")\n",
    "\n",
    "    # 空のDataFrameを作成\n",
    "    df_text = pd.DataFrame(columns=['id', 'text'])\n",
    "    \n",
    "    # label.csvを読み込む\n",
    "    df_label = pd.read_csv(os.path.join(folder_path, \"label.csv\"))\n",
    "\n",
    "    for file in file_list:\n",
    "        # ファイル名からIDを抽出\n",
    "        file_id = file.split(\"/\")[-1].split(\".\")[0]\n",
    "        # file_id = file.split(\"\\\\\")[-1].split(\".\")[0] # Windows\n",
    "        \n",
    "        # テキストファイルを読み込む\n",
    "        with open(file, 'r', encoding='utf-8') as f:\n",
    "            text = f.read()\n",
    "\n",
    "        # DataFrameに追記\n",
    "        rows = []\n",
    "        rows.append({'id': int(file_id), 'text': text})\n",
    "        df_text = pd.concat([df_text, pd.DataFrame(rows)], ignore_index=True)\n",
    "        \n",
    "    # textとlabelのDataFrameを結合\n",
    "    df = pd.merge(df_text, df_label, on='id', how='left')\n",
    "\n",
    "    return df\n",
    "\n",
    "train_folder_path = \"../../radnlp_2024_train_val_20240731/ja/main_task/train\"\n",
    "train_df = create_dataframe(train_folder_path)\n",
    "val_folder_path = \"../../radnlp_2024_train_val_20240731/ja/main_task/val\"\n",
    "val_df = create_dataframe(val_folder_path)"
   ]
  },
  {
   "cell_type": "code",
   "execution_count": 10,
   "metadata": {},
   "outputs": [
    {
     "data": {
      "text/html": [
       "<div>\n",
       "<style scoped>\n",
       "    .dataframe tbody tr th:only-of-type {\n",
       "        vertical-align: middle;\n",
       "    }\n",
       "\n",
       "    .dataframe tbody tr th {\n",
       "        vertical-align: top;\n",
       "    }\n",
       "\n",
       "    .dataframe thead th {\n",
       "        text-align: right;\n",
       "    }\n",
       "</style>\n",
       "<table border=\"1\" class=\"dataframe\">\n",
       "  <thead>\n",
       "    <tr style=\"text-align: right;\">\n",
       "      <th></th>\n",
       "      <th>id</th>\n",
       "      <th>text</th>\n",
       "      <th>t</th>\n",
       "      <th>n</th>\n",
       "      <th>m</th>\n",
       "    </tr>\n",
       "  </thead>\n",
       "  <tbody>\n",
       "    <tr>\n",
       "      <th>0</th>\n",
       "      <td>4166189</td>\n",
       "      <td>左肺上葉に長径 12cm の腫瘤を認めます。弓部大動脈や肺動脈浸潤が疑われます。\\nT4 と...</td>\n",
       "      <td>T4</td>\n",
       "      <td>N2</td>\n",
       "      <td>M0</td>\n",
       "    </tr>\n",
       "    <tr>\n",
       "      <th>1</th>\n",
       "      <td>1185427</td>\n",
       "      <td>右下葉に長径 30mm 大の腫瘤を認め、肺癌を疑います。葉間胸膜の陥入を伴い、臓\\n側胸膜浸...</td>\n",
       "      <td>T1c</td>\n",
       "      <td>N0</td>\n",
       "      <td>M0</td>\n",
       "    </tr>\n",
       "    <tr>\n",
       "      <th>2</th>\n",
       "      <td>165742</td>\n",
       "      <td>右肺尖部に長径 5 ㎝の腫瘤を認めます。辺縁に棘状影が見られ原発性肺癌を疑いま\\nす。壁側胸...</td>\n",
       "      <td>T3</td>\n",
       "      <td>N0</td>\n",
       "      <td>M0</td>\n",
       "    </tr>\n",
       "    <tr>\n",
       "      <th>3</th>\n",
       "      <td>6848850</td>\n",
       "      <td>両側肺野に肺気腫を認めます。\\n右肺下葉に分葉状腫瘤性病変を認めます（最大径 37×37×4...</td>\n",
       "      <td>T2a</td>\n",
       "      <td>N2</td>\n",
       "      <td>M1c</td>\n",
       "    </tr>\n",
       "    <tr>\n",
       "      <th>4</th>\n",
       "      <td>9818606</td>\n",
       "      <td>肺野背景に気腫性変化を認めます。\\n右肺下葉に長径 40mm の腫瘤を認めます。分葉状の形態...</td>\n",
       "      <td>T2a</td>\n",
       "      <td>N2</td>\n",
       "      <td>M1c</td>\n",
       "    </tr>\n",
       "    <tr>\n",
       "      <th>...</th>\n",
       "      <td>...</td>\n",
       "      <td>...</td>\n",
       "      <td>...</td>\n",
       "      <td>...</td>\n",
       "      <td>...</td>\n",
       "    </tr>\n",
       "    <tr>\n",
       "      <th>103</th>\n",
       "      <td>15410359</td>\n",
       "      <td>比較可能な画像検査はありません。\\n右肺尖部に長径 50mm  大の腫瘤影を認めます。病変は...</td>\n",
       "      <td>T2b</td>\n",
       "      <td>N0</td>\n",
       "      <td>M0</td>\n",
       "    </tr>\n",
       "    <tr>\n",
       "      <th>104</th>\n",
       "      <td>8602016</td>\n",
       "      <td>右肺門部に軟部影を認め、ご指摘の悪性腫瘍が疑われます。右下葉は無気肺となっ\\nています。\\n...</td>\n",
       "      <td>T2a</td>\n",
       "      <td>N3</td>\n",
       "      <td>M0</td>\n",
       "    </tr>\n",
       "    <tr>\n",
       "      <th>105</th>\n",
       "      <td>1876861</td>\n",
       "      <td>肺野は背景に慢性肺気腫の所見を認めます。\\n右肺尖部に⻑径 48mm の不整形腫瘤を認め、原...</td>\n",
       "      <td>T2b</td>\n",
       "      <td>N2</td>\n",
       "      <td>M1b</td>\n",
       "    </tr>\n",
       "    <tr>\n",
       "      <th>106</th>\n",
       "      <td>13567317</td>\n",
       "      <td>背景に間質性肺炎、肺気腫を疑います。気腫合併肺線維症のような肺癌の発生しや\\nすい状態を疑い...</td>\n",
       "      <td>T2b</td>\n",
       "      <td>N2</td>\n",
       "      <td>M0</td>\n",
       "    </tr>\n",
       "    <tr>\n",
       "      <th>107</th>\n",
       "      <td>9262204</td>\n",
       "      <td>右下葉  S9 胸膜直下に 12mm  の結節があります。\\n周囲にすりガラス影があります。...</td>\n",
       "      <td>T1b</td>\n",
       "      <td>N0</td>\n",
       "      <td>M0</td>\n",
       "    </tr>\n",
       "  </tbody>\n",
       "</table>\n",
       "<p>108 rows × 5 columns</p>\n",
       "</div>"
      ],
      "text/plain": [
       "           id                                               text    t   n    m\n",
       "0     4166189  左肺上葉に長径 12cm の腫瘤を認めます。弓部大動脈や肺動脈浸潤が疑われます。\\nT4 と...   T4  N2   M0\n",
       "1     1185427  右下葉に長径 30mm 大の腫瘤を認め、肺癌を疑います。葉間胸膜の陥入を伴い、臓\\n側胸膜浸...  T1c  N0   M0\n",
       "2      165742  右肺尖部に長径 5 ㎝の腫瘤を認めます。辺縁に棘状影が見られ原発性肺癌を疑いま\\nす。壁側胸...   T3  N0   M0\n",
       "3     6848850  両側肺野に肺気腫を認めます。\\n右肺下葉に分葉状腫瘤性病変を認めます（最大径 37×37×4...  T2a  N2  M1c\n",
       "4     9818606  肺野背景に気腫性変化を認めます。\\n右肺下葉に長径 40mm の腫瘤を認めます。分葉状の形態...  T2a  N2  M1c\n",
       "..        ...                                                ...  ...  ..  ...\n",
       "103  15410359  比較可能な画像検査はありません。\\n右肺尖部に長径 50mm  大の腫瘤影を認めます。病変は...  T2b  N0   M0\n",
       "104   8602016  右肺門部に軟部影を認め、ご指摘の悪性腫瘍が疑われます。右下葉は無気肺となっ\\nています。\\n...  T2a  N3   M0\n",
       "105   1876861  肺野は背景に慢性肺気腫の所見を認めます。\\n右肺尖部に⻑径 48mm の不整形腫瘤を認め、原...  T2b  N2  M1b\n",
       "106  13567317  背景に間質性肺炎、肺気腫を疑います。気腫合併肺線維症のような肺癌の発生しや\\nすい状態を疑い...  T2b  N2   M0\n",
       "107   9262204  右下葉  S9 胸膜直下に 12mm  の結節があります。\\n周囲にすりガラス影があります。...  T1b  N0   M0\n",
       "\n",
       "[108 rows x 5 columns]"
      ]
     },
     "execution_count": 10,
     "metadata": {},
     "output_type": "execute_result"
    }
   ],
   "source": [
    "train_df"
   ]
  },
  {
   "cell_type": "code",
   "execution_count": 11,
   "metadata": {},
   "outputs": [
    {
     "name": "stdout",
     "output_type": "stream",
     "text": [
      "t\n",
      "T4     31\n",
      "T2a    20\n",
      "T2b    19\n",
      "T3     18\n",
      "T1b     9\n",
      "T1c     8\n",
      "T0      3\n",
      "Name: count, dtype: int64\n",
      "n\n",
      "N2    45\n",
      "N0    41\n",
      "N1    13\n",
      "N3     9\n",
      "Name: count, dtype: int64\n",
      "m\n",
      "M0     74\n",
      "M1c    20\n",
      "M1b    14\n",
      "Name: count, dtype: int64\n"
     ]
    }
   ],
   "source": [
    "print(train_df['t'].value_counts())\n",
    "print(train_df['n'].value_counts())\n",
    "print(train_df['m'].value_counts())"
   ]
  },
  {
   "cell_type": "code",
   "execution_count": 12,
   "metadata": {},
   "outputs": [],
   "source": [
    "add_df = pd.read_csv(\"../add_data.csv\", encoding = 'cp932')"
   ]
  },
  {
   "cell_type": "code",
   "execution_count": 13,
   "metadata": {},
   "outputs": [
    {
     "data": {
      "text/html": [
       "<div>\n",
       "<style scoped>\n",
       "    .dataframe tbody tr th:only-of-type {\n",
       "        vertical-align: middle;\n",
       "    }\n",
       "\n",
       "    .dataframe tbody tr th {\n",
       "        vertical-align: top;\n",
       "    }\n",
       "\n",
       "    .dataframe thead th {\n",
       "        text-align: right;\n",
       "    }\n",
       "</style>\n",
       "<table border=\"1\" class=\"dataframe\">\n",
       "  <thead>\n",
       "    <tr style=\"text-align: right;\">\n",
       "      <th></th>\n",
       "      <th>id</th>\n",
       "      <th>text</th>\n",
       "      <th>t</th>\n",
       "      <th>n</th>\n",
       "      <th>m</th>\n",
       "    </tr>\n",
       "  </thead>\n",
       "  <tbody>\n",
       "    <tr>\n",
       "      <th>0</th>\n",
       "      <td>0</td>\n",
       "      <td>原発腫瘍を認めない</td>\n",
       "      <td>T0</td>\n",
       "      <td>N0</td>\n",
       "      <td>M0</td>\n",
       "    </tr>\n",
       "    <tr>\n",
       "      <th>1</th>\n",
       "      <td>1</td>\n",
       "      <td>上皮内癌（carcinoma in situ）：肺野型の場合は、充実成分径0cmかつ病変全体...</td>\n",
       "      <td>Tis</td>\n",
       "      <td>N0</td>\n",
       "      <td>M0</td>\n",
       "    </tr>\n",
       "    <tr>\n",
       "      <th>2</th>\n",
       "      <td>2</td>\n",
       "      <td>微少浸潤性腺癌：部分充実型を示し、充実成分径≦0.5cmかつ病変全体径≦3cm。かつ肺または...</td>\n",
       "      <td>T1mi</td>\n",
       "      <td>N0</td>\n",
       "      <td>M0</td>\n",
       "    </tr>\n",
       "    <tr>\n",
       "      <th>3</th>\n",
       "      <td>3</td>\n",
       "      <td>腫瘍の充実成分径≦1cmでかつTis・T1miには相当しない。かつ肺または臓側胸膜に覆われて...</td>\n",
       "      <td>T1a</td>\n",
       "      <td>N0</td>\n",
       "      <td>M0</td>\n",
       "    </tr>\n",
       "    <tr>\n",
       "      <th>4</th>\n",
       "      <td>4</td>\n",
       "      <td>腫瘍の充実成分径&gt;1cmでかつ≦2cm。かつ肺または臓側胸膜に覆われている。かつ葉気管支より...</td>\n",
       "      <td>T1b</td>\n",
       "      <td>N0</td>\n",
       "      <td>M0</td>\n",
       "    </tr>\n",
       "    <tr>\n",
       "      <th>5</th>\n",
       "      <td>5</td>\n",
       "      <td>腫瘍の充実成分径&gt;2cmでかつ≦3cm。かつ肺または臓側胸膜に覆われている。かつ葉気管支より...</td>\n",
       "      <td>T1c</td>\n",
       "      <td>N0</td>\n",
       "      <td>M0</td>\n",
       "    </tr>\n",
       "    <tr>\n",
       "      <th>6</th>\n",
       "      <td>6</td>\n",
       "      <td>腫瘍の充実成分径&gt;3cmでかつ≦4cm。または充実成分径≦3cmでも以下のいずれかであるもの...</td>\n",
       "      <td>T2a</td>\n",
       "      <td>N0</td>\n",
       "      <td>M0</td>\n",
       "    </tr>\n",
       "    <tr>\n",
       "      <th>7</th>\n",
       "      <td>7</td>\n",
       "      <td>腫瘍の充実成分径&gt;4cmでかつ≦5cm。または充実成分径≦3cmでも以下のいずれかであるもの...</td>\n",
       "      <td>T2b</td>\n",
       "      <td>N0</td>\n",
       "      <td>M0</td>\n",
       "    </tr>\n",
       "    <tr>\n",
       "      <th>8</th>\n",
       "      <td>8</td>\n",
       "      <td>充実成分径&gt;5cmでかつ≦7cm。または充実成分径≦5cmでも以下のいずれかであるもの：壁側...</td>\n",
       "      <td>T3</td>\n",
       "      <td>N0</td>\n",
       "      <td>M0</td>\n",
       "    </tr>\n",
       "    <tr>\n",
       "      <th>9</th>\n",
       "      <td>9</td>\n",
       "      <td>充実成分径＞7cm、または大きさを問わず横隔膜、縦隔、心臓、大血管、気管、反回神経、食道、椎...</td>\n",
       "      <td>T4</td>\n",
       "      <td>N0</td>\n",
       "      <td>M0</td>\n",
       "    </tr>\n",
       "    <tr>\n",
       "      <th>10</th>\n",
       "      <td>10</td>\n",
       "      <td>所属リンパ節転移なし</td>\n",
       "      <td>T0</td>\n",
       "      <td>N0</td>\n",
       "      <td>M0</td>\n",
       "    </tr>\n",
       "    <tr>\n",
       "      <th>11</th>\n",
       "      <td>11</td>\n",
       "      <td>がんのある肺と同じ側の気管支周囲かつ/または同じ側の肺門、肺内のリンパ節への転移がある</td>\n",
       "      <td>T0</td>\n",
       "      <td>N1</td>\n",
       "      <td>M0</td>\n",
       "    </tr>\n",
       "    <tr>\n",
       "      <th>12</th>\n",
       "      <td>12</td>\n",
       "      <td>がんのある肺と同じ側の縦隔かつ/または気管分岐部より下のリンパ節への転移がある</td>\n",
       "      <td>T0</td>\n",
       "      <td>N2</td>\n",
       "      <td>M0</td>\n",
       "    </tr>\n",
       "    <tr>\n",
       "      <th>13</th>\n",
       "      <td>13</td>\n",
       "      <td>がんのある肺と反対側の縦隔、肺門、同じ側あるいは反対側の前斜角筋（首の筋肉）、鎖骨上窩（鎖骨...</td>\n",
       "      <td>T0</td>\n",
       "      <td>N3</td>\n",
       "      <td>M0</td>\n",
       "    </tr>\n",
       "    <tr>\n",
       "      <th>14</th>\n",
       "      <td>14</td>\n",
       "      <td>遠隔転移なし</td>\n",
       "      <td>T0</td>\n",
       "      <td>N0</td>\n",
       "      <td>M0</td>\n",
       "    </tr>\n",
       "    <tr>\n",
       "      <th>15</th>\n",
       "      <td>15</td>\n",
       "      <td>がんのある肺と反対側の肺内の遠隔転移がある、または胸膜または心膜の遠隔転移がある、または悪性...</td>\n",
       "      <td>T0</td>\n",
       "      <td>N0</td>\n",
       "      <td>M1a</td>\n",
       "    </tr>\n",
       "    <tr>\n",
       "      <th>16</th>\n",
       "      <td>16</td>\n",
       "      <td>肺以外の一臓器への単発遠隔転移がある</td>\n",
       "      <td>T0</td>\n",
       "      <td>N0</td>\n",
       "      <td>M1b</td>\n",
       "    </tr>\n",
       "    <tr>\n",
       "      <th>17</th>\n",
       "      <td>17</td>\n",
       "      <td>肺以外の一臓器または多臓器への多発遠隔転移がある</td>\n",
       "      <td>T0</td>\n",
       "      <td>N0</td>\n",
       "      <td>M1c</td>\n",
       "    </tr>\n",
       "  </tbody>\n",
       "</table>\n",
       "</div>"
      ],
      "text/plain": [
       "    id                                               text     t   n    m\n",
       "0    0                                          原発腫瘍を認めない    T0  N0   M0\n",
       "1    1  上皮内癌（carcinoma in situ）：肺野型の場合は、充実成分径0cmかつ病変全体...   Tis  N0   M0\n",
       "2    2  微少浸潤性腺癌：部分充実型を示し、充実成分径≦0.5cmかつ病変全体径≦3cm。かつ肺または...  T1mi  N0   M0\n",
       "3    3  腫瘍の充実成分径≦1cmでかつTis・T1miには相当しない。かつ肺または臓側胸膜に覆われて...   T1a  N0   M0\n",
       "4    4  腫瘍の充実成分径>1cmでかつ≦2cm。かつ肺または臓側胸膜に覆われている。かつ葉気管支より...   T1b  N0   M0\n",
       "5    5  腫瘍の充実成分径>2cmでかつ≦3cm。かつ肺または臓側胸膜に覆われている。かつ葉気管支より...   T1c  N0   M0\n",
       "6    6  腫瘍の充実成分径>3cmでかつ≦4cm。または充実成分径≦3cmでも以下のいずれかであるもの...   T2a  N0   M0\n",
       "7    7  腫瘍の充実成分径>4cmでかつ≦5cm。または充実成分径≦3cmでも以下のいずれかであるもの...   T2b  N0   M0\n",
       "8    8  充実成分径>5cmでかつ≦7cm。または充実成分径≦5cmでも以下のいずれかであるもの：壁側...    T3  N0   M0\n",
       "9    9  充実成分径＞7cm、または大きさを問わず横隔膜、縦隔、心臓、大血管、気管、反回神経、食道、椎...    T4  N0   M0\n",
       "10  10                                         所属リンパ節転移なし    T0  N0   M0\n",
       "11  11        がんのある肺と同じ側の気管支周囲かつ/または同じ側の肺門、肺内のリンパ節への転移がある    T0  N1   M0\n",
       "12  12            がんのある肺と同じ側の縦隔かつ/または気管分岐部より下のリンパ節への転移がある    T0  N2   M0\n",
       "13  13  がんのある肺と反対側の縦隔、肺門、同じ側あるいは反対側の前斜角筋（首の筋肉）、鎖骨上窩（鎖骨...    T0  N3   M0\n",
       "14  14                                             遠隔転移なし    T0  N0   M0\n",
       "15  15  がんのある肺と反対側の肺内の遠隔転移がある、または胸膜または心膜の遠隔転移がある、または悪性...    T0  N0  M1a\n",
       "16  16                                 肺以外の一臓器への単発遠隔転移がある    T0  N0  M1b\n",
       "17  17                           肺以外の一臓器または多臓器への多発遠隔転移がある    T0  N0  M1c"
      ]
     },
     "execution_count": 13,
     "metadata": {},
     "output_type": "execute_result"
    }
   ],
   "source": [
    "add_df"
   ]
  },
  {
   "cell_type": "code",
   "execution_count": 14,
   "metadata": {},
   "outputs": [],
   "source": [
    "# 訓練データを追加する\n",
    "df_train = pd.concat([add_df, train_df])"
   ]
  },
  {
   "cell_type": "code",
   "execution_count": 15,
   "metadata": {},
   "outputs": [
    {
     "data": {
      "text/html": [
       "<div>\n",
       "<style scoped>\n",
       "    .dataframe tbody tr th:only-of-type {\n",
       "        vertical-align: middle;\n",
       "    }\n",
       "\n",
       "    .dataframe tbody tr th {\n",
       "        vertical-align: top;\n",
       "    }\n",
       "\n",
       "    .dataframe thead th {\n",
       "        text-align: right;\n",
       "    }\n",
       "</style>\n",
       "<table border=\"1\" class=\"dataframe\">\n",
       "  <thead>\n",
       "    <tr style=\"text-align: right;\">\n",
       "      <th></th>\n",
       "      <th>id</th>\n",
       "      <th>text</th>\n",
       "      <th>t</th>\n",
       "      <th>n</th>\n",
       "      <th>m</th>\n",
       "    </tr>\n",
       "  </thead>\n",
       "  <tbody>\n",
       "    <tr>\n",
       "      <th>0</th>\n",
       "      <td>0</td>\n",
       "      <td>原発腫瘍を認めない</td>\n",
       "      <td>T0</td>\n",
       "      <td>N0</td>\n",
       "      <td>M0</td>\n",
       "    </tr>\n",
       "    <tr>\n",
       "      <th>1</th>\n",
       "      <td>1</td>\n",
       "      <td>上皮内癌（carcinoma in situ）：肺野型の場合は、充実成分径0cmかつ病変全体...</td>\n",
       "      <td>Tis</td>\n",
       "      <td>N0</td>\n",
       "      <td>M0</td>\n",
       "    </tr>\n",
       "    <tr>\n",
       "      <th>2</th>\n",
       "      <td>2</td>\n",
       "      <td>微少浸潤性腺癌：部分充実型を示し、充実成分径≦0.5cmかつ病変全体径≦3cm。かつ肺または...</td>\n",
       "      <td>T1mi</td>\n",
       "      <td>N0</td>\n",
       "      <td>M0</td>\n",
       "    </tr>\n",
       "    <tr>\n",
       "      <th>3</th>\n",
       "      <td>3</td>\n",
       "      <td>腫瘍の充実成分径≦1cmでかつTis・T1miには相当しない。かつ肺または臓側胸膜に覆われて...</td>\n",
       "      <td>T1a</td>\n",
       "      <td>N0</td>\n",
       "      <td>M0</td>\n",
       "    </tr>\n",
       "    <tr>\n",
       "      <th>4</th>\n",
       "      <td>4</td>\n",
       "      <td>腫瘍の充実成分径&gt;1cmでかつ≦2cm。かつ肺または臓側胸膜に覆われている。かつ葉気管支より...</td>\n",
       "      <td>T1b</td>\n",
       "      <td>N0</td>\n",
       "      <td>M0</td>\n",
       "    </tr>\n",
       "    <tr>\n",
       "      <th>...</th>\n",
       "      <td>...</td>\n",
       "      <td>...</td>\n",
       "      <td>...</td>\n",
       "      <td>...</td>\n",
       "      <td>...</td>\n",
       "    </tr>\n",
       "    <tr>\n",
       "      <th>103</th>\n",
       "      <td>15410359</td>\n",
       "      <td>比較可能な画像検査はありません。\\n右肺尖部に長径 50mm  大の腫瘤影を認めます。病変は...</td>\n",
       "      <td>T2b</td>\n",
       "      <td>N0</td>\n",
       "      <td>M0</td>\n",
       "    </tr>\n",
       "    <tr>\n",
       "      <th>104</th>\n",
       "      <td>8602016</td>\n",
       "      <td>右肺門部に軟部影を認め、ご指摘の悪性腫瘍が疑われます。右下葉は無気肺となっ\\nています。\\n...</td>\n",
       "      <td>T2a</td>\n",
       "      <td>N3</td>\n",
       "      <td>M0</td>\n",
       "    </tr>\n",
       "    <tr>\n",
       "      <th>105</th>\n",
       "      <td>1876861</td>\n",
       "      <td>肺野は背景に慢性肺気腫の所見を認めます。\\n右肺尖部に⻑径 48mm の不整形腫瘤を認め、原...</td>\n",
       "      <td>T2b</td>\n",
       "      <td>N2</td>\n",
       "      <td>M1b</td>\n",
       "    </tr>\n",
       "    <tr>\n",
       "      <th>106</th>\n",
       "      <td>13567317</td>\n",
       "      <td>背景に間質性肺炎、肺気腫を疑います。気腫合併肺線維症のような肺癌の発生しや\\nすい状態を疑い...</td>\n",
       "      <td>T2b</td>\n",
       "      <td>N2</td>\n",
       "      <td>M0</td>\n",
       "    </tr>\n",
       "    <tr>\n",
       "      <th>107</th>\n",
       "      <td>9262204</td>\n",
       "      <td>右下葉  S9 胸膜直下に 12mm  の結節があります。\\n周囲にすりガラス影があります。...</td>\n",
       "      <td>T1b</td>\n",
       "      <td>N0</td>\n",
       "      <td>M0</td>\n",
       "    </tr>\n",
       "  </tbody>\n",
       "</table>\n",
       "<p>126 rows × 5 columns</p>\n",
       "</div>"
      ],
      "text/plain": [
       "           id                                               text     t   n  \\\n",
       "0           0                                          原発腫瘍を認めない    T0  N0   \n",
       "1           1  上皮内癌（carcinoma in situ）：肺野型の場合は、充実成分径0cmかつ病変全体...   Tis  N0   \n",
       "2           2  微少浸潤性腺癌：部分充実型を示し、充実成分径≦0.5cmかつ病変全体径≦3cm。かつ肺または...  T1mi  N0   \n",
       "3           3  腫瘍の充実成分径≦1cmでかつTis・T1miには相当しない。かつ肺または臓側胸膜に覆われて...   T1a  N0   \n",
       "4           4  腫瘍の充実成分径>1cmでかつ≦2cm。かつ肺または臓側胸膜に覆われている。かつ葉気管支より...   T1b  N0   \n",
       "..        ...                                                ...   ...  ..   \n",
       "103  15410359  比較可能な画像検査はありません。\\n右肺尖部に長径 50mm  大の腫瘤影を認めます。病変は...   T2b  N0   \n",
       "104   8602016  右肺門部に軟部影を認め、ご指摘の悪性腫瘍が疑われます。右下葉は無気肺となっ\\nています。\\n...   T2a  N3   \n",
       "105   1876861  肺野は背景に慢性肺気腫の所見を認めます。\\n右肺尖部に⻑径 48mm の不整形腫瘤を認め、原...   T2b  N2   \n",
       "106  13567317  背景に間質性肺炎、肺気腫を疑います。気腫合併肺線維症のような肺癌の発生しや\\nすい状態を疑い...   T2b  N2   \n",
       "107   9262204  右下葉  S9 胸膜直下に 12mm  の結節があります。\\n周囲にすりガラス影があります。...   T1b  N0   \n",
       "\n",
       "       m  \n",
       "0     M0  \n",
       "1     M0  \n",
       "2     M0  \n",
       "3     M0  \n",
       "4     M0  \n",
       "..   ...  \n",
       "103   M0  \n",
       "104   M0  \n",
       "105  M1b  \n",
       "106   M0  \n",
       "107   M0  \n",
       "\n",
       "[126 rows x 5 columns]"
      ]
     },
     "execution_count": 15,
     "metadata": {},
     "output_type": "execute_result"
    }
   ],
   "source": [
    "df_train"
   ]
  },
  {
   "cell_type": "code",
   "execution_count": 16,
   "metadata": {},
   "outputs": [
    {
     "data": {
      "application/vnd.jupyter.widget-view+json": {
       "model_id": "7ee358ba33ef41098ee7cb03ac77b4d1",
       "version_major": 2,
       "version_minor": 0
      },
      "text/plain": [
       "  0%|          | 0/108 [00:00<?, ?it/s]"
      ]
     },
     "metadata": {},
     "output_type": "display_data"
    },
    {
     "data": {
      "application/vnd.jupyter.widget-view+json": {
       "model_id": "7fb582a5d85b4d3aac93cfc4d8991cd1",
       "version_major": 2,
       "version_minor": 0
      },
      "text/plain": [
       "  0%|          | 0/54 [00:00<?, ?it/s]"
      ]
     },
     "metadata": {},
     "output_type": "display_data"
    }
   ],
   "source": [
    "X_train, X_valid = tokenize(train_df['text'].values.tolist()), tokenize(val_df['text'].values.tolist())"
   ]
  },
  {
   "cell_type": "code",
   "execution_count": 17,
   "metadata": {},
   "outputs": [],
   "source": [
    "def convert_list(text_list, label_dic):\n",
    "    \"\"\"\n",
    "    リストのテキストを、指定された辞書に基づいて数値に変換します。\n",
    "\n",
    "    Args:\n",
    "        text_list (list): 変換したいテキストのリスト\n",
    "        label_dic (dict): テキストと対応する数値の辞書\n",
    "\n",
    "    Returns:\n",
    "        list: 数値に変換されたリスト\n",
    "    \"\"\"\n",
    "\n",
    "    num_list = []\n",
    "    for text in text_list:\n",
    "        # 辞書から対応する数値を取得\n",
    "        num = label_dic.get(text, None)\n",
    "        if num is not None:\n",
    "            num_list.append(num)\n",
    "        else:\n",
    "            print(f\"対応する数値が見つかりません: {text}\")\n",
    "    return num_list\n",
    "\n",
    "label_dic_t = {'T0':0, 'Tis':1, 'T1mi':2, 'T1a':3, 'T1b':4, 'T1c':5, 'T2a':6, 'T2b':7, 'T3':8, 'T4':9}\n",
    "Yt_train, Yt_valid = convert_list(train_df['t'].values.tolist(), label_dic_t), convert_list(val_df['t'].values.tolist(), label_dic_t)\n",
    "\n",
    "label_dic_n = {'N0':0, 'N1':1, 'N2':2, 'N3':3}\n",
    "Yn_train, Yn_valid = convert_list(train_df['n'].values.tolist(), label_dic_n), convert_list(val_df['n'].values.tolist(), label_dic_n)\n",
    "\n",
    "label_dic_m = {'M0':0, 'M1a':1, 'M1b':2, 'M1c':3}\n",
    "Ym_train, Ym_valid = convert_list(train_df['m'].values.tolist(), label_dic_m), convert_list(val_df['m'].values.tolist(), label_dic_m)"
   ]
  },
  {
   "cell_type": "markdown",
   "metadata": {},
   "source": [
    "# TNM各々分類モデルを学習"
   ]
  },
  {
   "cell_type": "code",
   "execution_count": 18,
   "metadata": {},
   "outputs": [],
   "source": [
    "model_path = Path('./pkg/UTHBERT')\n",
    "save_path = Path('./model')"
   ]
  },
  {
   "cell_type": "code",
   "execution_count": 19,
   "metadata": {},
   "outputs": [],
   "source": [
    "num_classes_t=10\n",
    "num_classes_n=4\n",
    "num_classes_m=4"
   ]
  },
  {
   "cell_type": "code",
   "execution_count": 20,
   "metadata": {},
   "outputs": [],
   "source": [
    "class MyCollator(object):\n",
    "    '''\n",
    "    Args:\n",
    "    test : Set True when using with test data loader. Defaults to False\n",
    "    percentile : Trim sequences by this percentile\n",
    "    '''\n",
    "    def __init__(self,test=False,percentile=100):\n",
    "        self.test = test\n",
    "        self.percentile = percentile\n",
    "    def __call__(self, batch):\n",
    "        if not self.test:\n",
    "            data = [torch.tensor(item[0])  for item in batch]\n",
    "            target = [item[1] for item in batch]\n",
    "        else:\n",
    "            data = [item for item in batch]\n",
    "        \n",
    "        # Padding\n",
    "        data = pad_sequence(data, batch_first=True)\n",
    "        data = data.clone().detach().long()\n",
    "        masks = torch.where(data==0, 1, 0)\n",
    "        masks = masks.clone().detach().long()\n",
    "        if not self.test:\n",
    "            target = torch.tensor(target, dtype=torch.long)\n",
    "            return [data, masks, target]\n",
    "        return [data, masks]"
   ]
  },
  {
   "cell_type": "code",
   "execution_count": 21,
   "metadata": {},
   "outputs": [],
   "source": [
    "def build_data(train_data, valid_data, batch_size=8): \n",
    "        \n",
    "    collate = MyCollator(percentile=100)\n",
    "    train_loader = DataLoader(train_data, batch_size=batch_size, shuffle=True, num_workers=0, collate_fn=collate) \n",
    "    valid_loader = DataLoader(valid_data, batch_size=batch_size, shuffle=True, num_workers=0, collate_fn=collate) \n",
    "     \n",
    "    return train_loader, valid_loader"
   ]
  },
  {
   "cell_type": "code",
   "execution_count": 22,
   "metadata": {},
   "outputs": [],
   "source": [
    "config = BertConfig.from_json_file(model_path / 'bert_config.json')\n",
    "bert = BertModel.from_pretrained(model_path / 'UTH_BERT.bin', config=config)\n",
    "\n",
    "class Net(nn.Module):\n",
    "    def __init__(self, bert, num_classes):\n",
    "        super(Net, self).__init__()\n",
    "        self.bert = bert\n",
    "        self.cls = nn.Linear(768, num_classes)\n",
    "\n",
    "  # @torch.cuda.amp.autocast()\n",
    "    def forward(self, inputs_ids, pad_masks, Attention=False):\n",
    "        bout = self.bert(inputs_ids, pad_masks, output_attentions=Attention)\n",
    "        bs = len(bout[0])\n",
    "        h0 = [bout[0][i][0] for i in range(bs)]\n",
    "        h0 = torch.stack(h0,dim=0)\n",
    "        if Attention:\n",
    "            return self.cls(h0),bout\n",
    "        else:\n",
    "            return self.cls(h0)"
   ]
  },
  {
   "cell_type": "code",
   "execution_count": 23,
   "metadata": {},
   "outputs": [],
   "source": [
    "def plot_loss(train_loss, valid_loss):\n",
    "    plt.plot(train_loss)\n",
    "    plt.plot(valid_loss)\n",
    "    plt.xlabel('epoch')\n",
    "    plt.ylabel('loss')\n",
    "    plt.legend(['train_loss', 'valid_loss'], loc='upper right')\n",
    "    plt.xticks(np.arange(0, epochs + 1, 5))\n",
    "    plt.show()"
   ]
  },
  {
   "cell_type": "code",
   "execution_count": 24,
   "metadata": {},
   "outputs": [],
   "source": [
    "def plot_metrics(train_acc, test_acc, test_f1):\n",
    "    plt.plot(train_acc)\n",
    "    plt.plot(test_acc)\n",
    "    plt.plot(test_f1)\n",
    "    plt.title('model accuracy')\n",
    "    plt.xlabel('epoch')\n",
    "    plt.ylabel('accuracy')\n",
    "    plt.legend(['train_acc', 'valid_acc', 'valid_F1'], loc='lower right')\n",
    "    plt.xticks(np.arange(0, epochs + 1, 5))\n",
    "    plt.show()"
   ]
  },
  {
   "cell_type": "code",
   "execution_count": 25,
   "metadata": {},
   "outputs": [],
   "source": [
    "def macro_average_f1(label_list, pred_list):\n",
    "    return f1_score(label_list, pred_list, average='macro')"
   ]
  },
  {
   "cell_type": "code",
   "execution_count": 26,
   "metadata": {},
   "outputs": [],
   "source": [
    "def synchronize():\n",
    "    if torch.backends.mps.is_available():\n",
    "        torch.mps.synchronize()\n",
    "    elif torch.cuda.is_available():\n",
    "        torch.cuda.synchronize()\n",
    "\n",
    "def run(train_loader, valid_loader, model, num_classes, epochs=10, patience=5, delta=0.0, save_path=save_path):\n",
    "    \n",
    "    train_loss, valid_loss, train_acc, valid_acc, valid_f1 = [], [], [], [], []\n",
    "    best_f1, best_acc = 0.0, 0.0\n",
    "    best_f1_epoch, best_acc_epoch = 0, 0\n",
    "    best_valid_loss = np.inf\n",
    "    patience_counter = 0\n",
    "    \n",
    "    for epoch in range(0, epochs): \n",
    "        print(f'\\nEpoch {epoch + 1}/{epochs}')\n",
    "        print('-' * 10)\n",
    "        epoch_train_loss, epoch_valid_loss = 0.0, 0.0\n",
    "        epoch_train_acc = 0.0\n",
    "\n",
    "        model.train() \n",
    "        start = time.time()\n",
    "        for data in tqdm(train_loader): \n",
    "            inputs, masks, labels = data[0].to(device), data[1].to(device), data[2].to(device)\n",
    "            optimizer.zero_grad() \n",
    "            outputs = model(inputs, masks)\n",
    "            loss = criterion(outputs, labels)  \n",
    "            loss.backward() \n",
    "            optimizer.step() \n",
    "            epoch_train_loss += loss.item() / len(train_loader) \n",
    "            acc = (F.softmax(outputs, dim=1).argmax(dim=1) == labels).float().mean()\n",
    "            epoch_train_acc += acc.item() / len(train_loader)\n",
    "            del inputs, masks, labels, outputs, loss    \n",
    "\n",
    "        train_loss.append(epoch_train_loss)\n",
    "        train_acc.append(epoch_train_acc)\n",
    "        synchronize()\n",
    "        elapsed_time = time.time() - start\n",
    "        print(f'Train loss: {epoch_train_loss:.4f}, Train acc: {epoch_train_acc:.4f}, Time: {elapsed_time:.0f}s')\n",
    "        \n",
    "        model.eval()\n",
    "        label_li, pred_li = [], []\n",
    "        with torch.no_grad():\n",
    "            for data in valid_loader:\n",
    "                inputs, masks, labels = data[0].to(device), data[1].to(device), data[2].to(device)\n",
    "                outputs = model(inputs, masks)\n",
    "                loss = criterion(outputs, labels)\n",
    "                epoch_valid_loss += loss.item() / len(valid_loader)\n",
    "                preds = F.softmax(outputs, dim=1).argmax(dim=1)\n",
    "                label_li.extend(labels.cpu().numpy())\n",
    "                pred_li.extend(preds.cpu().numpy())\n",
    "\n",
    "        valid_loss.append(epoch_valid_loss)\n",
    "        epoch_valid_acc = accuracy_score(label_li, pred_li)\n",
    "        epoch_valid_f1 = macro_average_f1(label_li, pred_li)\n",
    "        valid_acc.append(epoch_valid_acc)\n",
    "        valid_f1.append(epoch_valid_f1)\n",
    "\n",
    "        print(f'Valid loss: {epoch_valid_loss:.4f}, Valid acc: {epoch_valid_acc:.4f}, Valid F1: {epoch_valid_f1:.4f}')\n",
    "\n",
    "        if epoch_valid_acc > best_acc: \n",
    "            best_acc = epoch_valid_acc\n",
    "            best_acc_epoch = epoch\n",
    "            torch.save(model.state_dict(), save_path / f'best_acc_2.pth')\n",
    "        if epoch_valid_f1 > best_f1: \n",
    "            best_f1 = epoch_valid_f1\n",
    "            best_f1_epoch = epoch\n",
    "            torch.save(model.state_dict(), save_path / f'best_f1_2.pth')\n",
    "\n",
    "        # # Early stopping\n",
    "        # if epoch_valid_loss < best_valid_loss - delta:\n",
    "        #     best_valid_loss = epoch_valid_loss\n",
    "        #     patience_counter = 0  # 改善があったので、カウンタをリセット\n",
    "        # else:\n",
    "        #     patience_counter += 1\n",
    "        # if patience_counter >= patience:\n",
    "        #     print(f'Early stopping at epoch {epoch + 1}')\n",
    "        #     break\n",
    "            \n",
    "    print('\\nTraining complete')\n",
    "    print(f'Best ACC: {best_acc:.4f} at epoch {best_acc_epoch}')\n",
    "    print(f'Best F1: {best_f1:.4f} at epoch {best_f1_epoch}')\n",
    "\n",
    "    return train_loss, valid_loss, train_acc, valid_acc, valid_f1 "
   ]
  },
  {
   "cell_type": "markdown",
   "metadata": {},
   "source": [
    "## T分類モデル"
   ]
  },
  {
   "cell_type": "code",
   "execution_count": 27,
   "metadata": {},
   "outputs": [],
   "source": [
    "batch_size=2\n",
    "epochs=50\n",
    "learning_rate=1e-5\n",
    "momentum=0.9"
   ]
  },
  {
   "cell_type": "code",
   "execution_count": 28,
   "metadata": {},
   "outputs": [],
   "source": [
    "train_data = []\n",
    "valid_data = []\n",
    "for x, y in zip(X_train, Yt_train):\n",
    "    data = [x, y]\n",
    "    train_data.append(data)\n",
    "for x, y in zip(X_valid, Yt_valid):\n",
    "    data = [x, y]\n",
    "    valid_data.append(data)\n",
    "    \n",
    "train_loader, valid_loader = build_data(train_data, valid_data, batch_size=batch_size)"
   ]
  },
  {
   "cell_type": "code",
   "execution_count": 29,
   "metadata": {},
   "outputs": [],
   "source": [
    "config = BertConfig.from_json_file(model_path / 'bert_config.json')\n",
    "bert = BertModel.from_pretrained(model_path / 'UTH_BERT.bin', config=config)\n",
    "model = Net(bert, num_classes_t).to(device)\n",
    "\n",
    "FREEZE=False\n",
    "if FREEZE: \n",
    "    idx=1 #Any\n",
    "    for name, param in model.named_parameters(): \n",
    "        param.requires_grad = False \n",
    "    for name, param in list(model.named_parameters())[idx:]: \n",
    "        param.requires_grad = True \n",
    "#     optimizer = optim.SGD([{'params':list(model.parameters())[idx:], 'lr':learning_rate, 'momentum':momentum}])\n",
    "    optimizer = optim.Adam([{'params':list(model.parameters())[idx:], 'lr':learning_rate}]) \n",
    "    criterion = nn.CrossEntropyLoss()\n",
    "else:  \n",
    "#     optimizer = optim.SGD(model.parameters(), lr=learning_rate, momentum=momentum)\n",
    "    optimizer = optim.Adam(model.parameters(), lr=learning_rate)\n",
    "    criterion = nn.CrossEntropyLoss()\n",
    "\n",
    "scheduler = StepLR(optimizer, step_size=3, gamma=0.1)"
   ]
  },
  {
   "cell_type": "code",
   "execution_count": 30,
   "metadata": {},
   "outputs": [
    {
     "name": "stdout",
     "output_type": "stream",
     "text": [
      "\n",
      "Epoch 1/50\n",
      "----------\n"
     ]
    },
    {
     "data": {
      "application/vnd.jupyter.widget-view+json": {
       "model_id": "bdc3314a1579467d90b4d12ff0821fcd",
       "version_major": 2,
       "version_minor": 0
      },
      "text/plain": [
       "  0%|          | 0/54 [00:00<?, ?it/s]"
      ]
     },
     "metadata": {},
     "output_type": "display_data"
    },
    {
     "name": "stdout",
     "output_type": "stream",
     "text": [
      "Train loss: 2.0800, Train acc: 0.2315, Time: 22s\n",
      "Valid loss: 2.3314, Valid acc: 0.3333, Valid F1: 0.0682\n",
      "\n",
      "Epoch 2/50\n",
      "----------\n"
     ]
    },
    {
     "data": {
      "application/vnd.jupyter.widget-view+json": {
       "model_id": "20fbec54d1034fdc92b3c5f602100b0c",
       "version_major": 2,
       "version_minor": 0
      },
      "text/plain": [
       "  0%|          | 0/54 [00:00<?, ?it/s]"
      ]
     },
     "metadata": {},
     "output_type": "display_data"
    },
    {
     "name": "stdout",
     "output_type": "stream",
     "text": [
      "Train loss: 1.9187, Train acc: 0.1852, Time: 13s\n",
      "Valid loss: 2.3306, Valid acc: 0.2037, Valid F1: 0.0657\n",
      "\n",
      "Epoch 3/50\n",
      "----------\n"
     ]
    },
    {
     "data": {
      "application/vnd.jupyter.widget-view+json": {
       "model_id": "8108056ec10b4838b4c457cd8b5eaacd",
       "version_major": 2,
       "version_minor": 0
      },
      "text/plain": [
       "  0%|          | 0/54 [00:00<?, ?it/s]"
      ]
     },
     "metadata": {},
     "output_type": "display_data"
    },
    {
     "name": "stdout",
     "output_type": "stream",
     "text": [
      "Train loss: 1.8283, Train acc: 0.2407, Time: 11s\n",
      "Valid loss: 2.2399, Valid acc: 0.2407, Valid F1: 0.0792\n",
      "\n",
      "Epoch 4/50\n",
      "----------\n"
     ]
    },
    {
     "data": {
      "application/vnd.jupyter.widget-view+json": {
       "model_id": "d94749e6231649b1b571403369503d73",
       "version_major": 2,
       "version_minor": 0
      },
      "text/plain": [
       "  0%|          | 0/54 [00:00<?, ?it/s]"
      ]
     },
     "metadata": {},
     "output_type": "display_data"
    },
    {
     "name": "stdout",
     "output_type": "stream",
     "text": [
      "Train loss: 1.8303, Train acc: 0.2222, Time: 11s\n",
      "Valid loss: 2.3011, Valid acc: 0.2593, Valid F1: 0.0863\n",
      "\n",
      "Epoch 5/50\n",
      "----------\n"
     ]
    },
    {
     "data": {
      "application/vnd.jupyter.widget-view+json": {
       "model_id": "18e89f1c4b514987a315e331a6255877",
       "version_major": 2,
       "version_minor": 0
      },
      "text/plain": [
       "  0%|          | 0/54 [00:00<?, ?it/s]"
      ]
     },
     "metadata": {},
     "output_type": "display_data"
    },
    {
     "name": "stdout",
     "output_type": "stream",
     "text": [
      "Train loss: 1.7535, Train acc: 0.3148, Time: 10s\n",
      "Valid loss: 2.3093, Valid acc: 0.1667, Valid F1: 0.0755\n",
      "\n",
      "Epoch 6/50\n",
      "----------\n"
     ]
    },
    {
     "data": {
      "application/vnd.jupyter.widget-view+json": {
       "model_id": "606387276961413fb807e81958c57b18",
       "version_major": 2,
       "version_minor": 0
      },
      "text/plain": [
       "  0%|          | 0/54 [00:00<?, ?it/s]"
      ]
     },
     "metadata": {},
     "output_type": "display_data"
    },
    {
     "name": "stdout",
     "output_type": "stream",
     "text": [
      "Train loss: 1.7498, Train acc: 0.3426, Time: 11s\n",
      "Valid loss: 2.1585, Valid acc: 0.3333, Valid F1: 0.0662\n",
      "\n",
      "Epoch 7/50\n",
      "----------\n"
     ]
    },
    {
     "data": {
      "application/vnd.jupyter.widget-view+json": {
       "model_id": "5fb1f1ea23a249b58651de21717057cb",
       "version_major": 2,
       "version_minor": 0
      },
      "text/plain": [
       "  0%|          | 0/54 [00:00<?, ?it/s]"
      ]
     },
     "metadata": {},
     "output_type": "display_data"
    },
    {
     "name": "stdout",
     "output_type": "stream",
     "text": [
      "Train loss: 1.6476, Train acc: 0.3611, Time: 10s\n",
      "Valid loss: 2.3157, Valid acc: 0.3148, Valid F1: 0.0946\n",
      "\n",
      "Epoch 8/50\n",
      "----------\n"
     ]
    },
    {
     "data": {
      "application/vnd.jupyter.widget-view+json": {
       "model_id": "5d230fd1b63e44da9b0450654bac161c",
       "version_major": 2,
       "version_minor": 0
      },
      "text/plain": [
       "  0%|          | 0/54 [00:00<?, ?it/s]"
      ]
     },
     "metadata": {},
     "output_type": "display_data"
    },
    {
     "name": "stdout",
     "output_type": "stream",
     "text": [
      "Train loss: 1.6999, Train acc: 0.3426, Time: 10s\n",
      "Valid loss: 2.4012, Valid acc: 0.2037, Valid F1: 0.0861\n",
      "\n",
      "Epoch 9/50\n",
      "----------\n"
     ]
    },
    {
     "data": {
      "application/vnd.jupyter.widget-view+json": {
       "model_id": "bf05290a849e46b698483f48b34f3c00",
       "version_major": 2,
       "version_minor": 0
      },
      "text/plain": [
       "  0%|          | 0/54 [00:00<?, ?it/s]"
      ]
     },
     "metadata": {},
     "output_type": "display_data"
    },
    {
     "name": "stdout",
     "output_type": "stream",
     "text": [
      "Train loss: 1.5851, Train acc: 0.3889, Time: 10s\n",
      "Valid loss: 2.2990, Valid acc: 0.2778, Valid F1: 0.0575\n",
      "\n",
      "Epoch 10/50\n",
      "----------\n"
     ]
    },
    {
     "data": {
      "application/vnd.jupyter.widget-view+json": {
       "model_id": "f8d6c50ed80243a4825eb3a37120e419",
       "version_major": 2,
       "version_minor": 0
      },
      "text/plain": [
       "  0%|          | 0/54 [00:00<?, ?it/s]"
      ]
     },
     "metadata": {},
     "output_type": "display_data"
    },
    {
     "name": "stdout",
     "output_type": "stream",
     "text": [
      "Train loss: 1.4962, Train acc: 0.4352, Time: 10s\n",
      "Valid loss: 2.4868, Valid acc: 0.2963, Valid F1: 0.1000\n",
      "\n",
      "Epoch 11/50\n",
      "----------\n"
     ]
    },
    {
     "data": {
      "application/vnd.jupyter.widget-view+json": {
       "model_id": "97d6e24649a94fe4a24482197476063d",
       "version_major": 2,
       "version_minor": 0
      },
      "text/plain": [
       "  0%|          | 0/54 [00:00<?, ?it/s]"
      ]
     },
     "metadata": {},
     "output_type": "display_data"
    },
    {
     "name": "stdout",
     "output_type": "stream",
     "text": [
      "Train loss: 1.6467, Train acc: 0.3704, Time: 10s\n",
      "Valid loss: 2.1991, Valid acc: 0.3889, Valid F1: 0.1585\n",
      "\n",
      "Epoch 12/50\n",
      "----------\n"
     ]
    },
    {
     "data": {
      "application/vnd.jupyter.widget-view+json": {
       "model_id": "303b841929e8428e9c33d6715998b074",
       "version_major": 2,
       "version_minor": 0
      },
      "text/plain": [
       "  0%|          | 0/54 [00:00<?, ?it/s]"
      ]
     },
     "metadata": {},
     "output_type": "display_data"
    },
    {
     "name": "stdout",
     "output_type": "stream",
     "text": [
      "Train loss: 1.5334, Train acc: 0.4352, Time: 10s\n",
      "Valid loss: 2.2701, Valid acc: 0.3148, Valid F1: 0.0796\n",
      "\n",
      "Epoch 13/50\n",
      "----------\n"
     ]
    },
    {
     "data": {
      "application/vnd.jupyter.widget-view+json": {
       "model_id": "b3f818132a2c45fdba9be35d7ccc63db",
       "version_major": 2,
       "version_minor": 0
      },
      "text/plain": [
       "  0%|          | 0/54 [00:00<?, ?it/s]"
      ]
     },
     "metadata": {},
     "output_type": "display_data"
    },
    {
     "name": "stdout",
     "output_type": "stream",
     "text": [
      "Train loss: 1.5158, Train acc: 0.4722, Time: 10s\n",
      "Valid loss: 2.4549, Valid acc: 0.2407, Valid F1: 0.1063\n",
      "\n",
      "Epoch 14/50\n",
      "----------\n"
     ]
    },
    {
     "data": {
      "application/vnd.jupyter.widget-view+json": {
       "model_id": "0a68c52ff5be40eca755d759af54c540",
       "version_major": 2,
       "version_minor": 0
      },
      "text/plain": [
       "  0%|          | 0/54 [00:00<?, ?it/s]"
      ]
     },
     "metadata": {},
     "output_type": "display_data"
    },
    {
     "name": "stdout",
     "output_type": "stream",
     "text": [
      "Train loss: 1.6202, Train acc: 0.4074, Time: 10s\n",
      "Valid loss: 2.5034, Valid acc: 0.1667, Valid F1: 0.0585\n",
      "\n",
      "Epoch 15/50\n",
      "----------\n"
     ]
    },
    {
     "data": {
      "application/vnd.jupyter.widget-view+json": {
       "model_id": "59e38c2ef280402b90e54d8c9a88c368",
       "version_major": 2,
       "version_minor": 0
      },
      "text/plain": [
       "  0%|          | 0/54 [00:00<?, ?it/s]"
      ]
     },
     "metadata": {},
     "output_type": "display_data"
    },
    {
     "name": "stdout",
     "output_type": "stream",
     "text": [
      "Train loss: 1.6873, Train acc: 0.3333, Time: 10s\n",
      "Valid loss: 2.3660, Valid acc: 0.3519, Valid F1: 0.1364\n",
      "\n",
      "Epoch 16/50\n",
      "----------\n"
     ]
    },
    {
     "data": {
      "application/vnd.jupyter.widget-view+json": {
       "model_id": "b5f3e98c0bd9400e81be91f434362269",
       "version_major": 2,
       "version_minor": 0
      },
      "text/plain": [
       "  0%|          | 0/54 [00:00<?, ?it/s]"
      ]
     },
     "metadata": {},
     "output_type": "display_data"
    },
    {
     "name": "stdout",
     "output_type": "stream",
     "text": [
      "Train loss: 1.5262, Train acc: 0.3889, Time: 10s\n",
      "Valid loss: 2.4609, Valid acc: 0.3148, Valid F1: 0.1255\n",
      "\n",
      "Epoch 17/50\n",
      "----------\n"
     ]
    },
    {
     "data": {
      "application/vnd.jupyter.widget-view+json": {
       "model_id": "733781364cb64cc8969818ed797081ab",
       "version_major": 2,
       "version_minor": 0
      },
      "text/plain": [
       "  0%|          | 0/54 [00:00<?, ?it/s]"
      ]
     },
     "metadata": {},
     "output_type": "display_data"
    },
    {
     "name": "stdout",
     "output_type": "stream",
     "text": [
      "Train loss: 1.5284, Train acc: 0.4259, Time: 10s\n",
      "Valid loss: 2.6390, Valid acc: 0.3148, Valid F1: 0.0806\n",
      "\n",
      "Epoch 18/50\n",
      "----------\n"
     ]
    },
    {
     "data": {
      "application/vnd.jupyter.widget-view+json": {
       "model_id": "65b6dfcbbee74c38a5560f5afebed78a",
       "version_major": 2,
       "version_minor": 0
      },
      "text/plain": [
       "  0%|          | 0/54 [00:00<?, ?it/s]"
      ]
     },
     "metadata": {},
     "output_type": "display_data"
    },
    {
     "name": "stdout",
     "output_type": "stream",
     "text": [
      "Train loss: 1.6532, Train acc: 0.3333, Time: 10s\n",
      "Valid loss: 2.3572, Valid acc: 0.2778, Valid F1: 0.0636\n",
      "\n",
      "Epoch 19/50\n",
      "----------\n"
     ]
    },
    {
     "data": {
      "application/vnd.jupyter.widget-view+json": {
       "model_id": "155df489c38f4a7c8911a73eb3e33954",
       "version_major": 2,
       "version_minor": 0
      },
      "text/plain": [
       "  0%|          | 0/54 [00:00<?, ?it/s]"
      ]
     },
     "metadata": {},
     "output_type": "display_data"
    },
    {
     "name": "stdout",
     "output_type": "stream",
     "text": [
      "Train loss: 1.6401, Train acc: 0.3519, Time: 10s\n",
      "Valid loss: 2.4176, Valid acc: 0.3333, Valid F1: 0.0943\n",
      "\n",
      "Epoch 20/50\n",
      "----------\n"
     ]
    },
    {
     "data": {
      "application/vnd.jupyter.widget-view+json": {
       "model_id": "2917b86988914e2b9a3401b1abd0f443",
       "version_major": 2,
       "version_minor": 0
      },
      "text/plain": [
       "  0%|          | 0/54 [00:00<?, ?it/s]"
      ]
     },
     "metadata": {},
     "output_type": "display_data"
    },
    {
     "name": "stdout",
     "output_type": "stream",
     "text": [
      "Train loss: 1.4770, Train acc: 0.4074, Time: 10s\n",
      "Valid loss: 2.4526, Valid acc: 0.2778, Valid F1: 0.0585\n",
      "\n",
      "Epoch 21/50\n",
      "----------\n"
     ]
    },
    {
     "data": {
      "application/vnd.jupyter.widget-view+json": {
       "model_id": "99b557889a37486b9584e323497eb239",
       "version_major": 2,
       "version_minor": 0
      },
      "text/plain": [
       "  0%|          | 0/54 [00:00<?, ?it/s]"
      ]
     },
     "metadata": {},
     "output_type": "display_data"
    },
    {
     "name": "stdout",
     "output_type": "stream",
     "text": [
      "Train loss: 1.4536, Train acc: 0.3981, Time: 10s\n",
      "Valid loss: 2.6304, Valid acc: 0.3519, Valid F1: 0.1055\n",
      "\n",
      "Epoch 22/50\n",
      "----------\n"
     ]
    },
    {
     "data": {
      "application/vnd.jupyter.widget-view+json": {
       "model_id": "4e5573e22cdf486090b64ec527110092",
       "version_major": 2,
       "version_minor": 0
      },
      "text/plain": [
       "  0%|          | 0/54 [00:00<?, ?it/s]"
      ]
     },
     "metadata": {},
     "output_type": "display_data"
    },
    {
     "name": "stdout",
     "output_type": "stream",
     "text": [
      "Train loss: 1.5903, Train acc: 0.3426, Time: 10s\n",
      "Valid loss: 2.7223, Valid acc: 0.3148, Valid F1: 0.0609\n",
      "\n",
      "Epoch 23/50\n",
      "----------\n"
     ]
    },
    {
     "data": {
      "application/vnd.jupyter.widget-view+json": {
       "model_id": "83ffc090e4cd465b8ed2e69d03647527",
       "version_major": 2,
       "version_minor": 0
      },
      "text/plain": [
       "  0%|          | 0/54 [00:00<?, ?it/s]"
      ]
     },
     "metadata": {},
     "output_type": "display_data"
    },
    {
     "name": "stdout",
     "output_type": "stream",
     "text": [
      "Train loss: 1.4860, Train acc: 0.4074, Time: 10s\n",
      "Valid loss: 2.3910, Valid acc: 0.3333, Valid F1: 0.0842\n",
      "\n",
      "Epoch 24/50\n",
      "----------\n"
     ]
    },
    {
     "data": {
      "application/vnd.jupyter.widget-view+json": {
       "model_id": "610d103a1f1040fa87e1f56db6a7b393",
       "version_major": 2,
       "version_minor": 0
      },
      "text/plain": [
       "  0%|          | 0/54 [00:00<?, ?it/s]"
      ]
     },
     "metadata": {},
     "output_type": "display_data"
    },
    {
     "name": "stdout",
     "output_type": "stream",
     "text": [
      "Train loss: 1.6006, Train acc: 0.3981, Time: 10s\n",
      "Valid loss: 2.3223, Valid acc: 0.2963, Valid F1: 0.1390\n",
      "\n",
      "Epoch 25/50\n",
      "----------\n"
     ]
    },
    {
     "data": {
      "application/vnd.jupyter.widget-view+json": {
       "model_id": "2672d71e43104aae8cb56fb81dfcd3f8",
       "version_major": 2,
       "version_minor": 0
      },
      "text/plain": [
       "  0%|          | 0/54 [00:00<?, ?it/s]"
      ]
     },
     "metadata": {},
     "output_type": "display_data"
    },
    {
     "name": "stdout",
     "output_type": "stream",
     "text": [
      "Train loss: 1.4440, Train acc: 0.4259, Time: 10s\n",
      "Valid loss: 2.4523, Valid acc: 0.3519, Valid F1: 0.1469\n",
      "\n",
      "Epoch 26/50\n",
      "----------\n"
     ]
    },
    {
     "data": {
      "application/vnd.jupyter.widget-view+json": {
       "model_id": "9a26e4ce424449669291b00f43de9499",
       "version_major": 2,
       "version_minor": 0
      },
      "text/plain": [
       "  0%|          | 0/54 [00:00<?, ?it/s]"
      ]
     },
     "metadata": {},
     "output_type": "display_data"
    },
    {
     "name": "stdout",
     "output_type": "stream",
     "text": [
      "Train loss: 1.3263, Train acc: 0.4722, Time: 10s\n",
      "Valid loss: 2.4510, Valid acc: 0.3704, Valid F1: 0.1995\n",
      "\n",
      "Epoch 27/50\n",
      "----------\n"
     ]
    },
    {
     "data": {
      "application/vnd.jupyter.widget-view+json": {
       "model_id": "399f9ed5f24c4cc0bd1ccd2c1313c576",
       "version_major": 2,
       "version_minor": 0
      },
      "text/plain": [
       "  0%|          | 0/54 [00:00<?, ?it/s]"
      ]
     },
     "metadata": {},
     "output_type": "display_data"
    },
    {
     "name": "stdout",
     "output_type": "stream",
     "text": [
      "Train loss: 1.5472, Train acc: 0.4537, Time: 10s\n",
      "Valid loss: 2.5954, Valid acc: 0.1667, Valid F1: 0.0895\n",
      "\n",
      "Epoch 28/50\n",
      "----------\n"
     ]
    },
    {
     "data": {
      "application/vnd.jupyter.widget-view+json": {
       "model_id": "26f53e514d3c421dbbc18f25dbabdb99",
       "version_major": 2,
       "version_minor": 0
      },
      "text/plain": [
       "  0%|          | 0/54 [00:00<?, ?it/s]"
      ]
     },
     "metadata": {},
     "output_type": "display_data"
    },
    {
     "name": "stdout",
     "output_type": "stream",
     "text": [
      "Train loss: 1.5069, Train acc: 0.4167, Time: 10s\n",
      "Valid loss: 2.5344, Valid acc: 0.2222, Valid F1: 0.0796\n",
      "\n",
      "Epoch 29/50\n",
      "----------\n"
     ]
    },
    {
     "data": {
      "application/vnd.jupyter.widget-view+json": {
       "model_id": "f74c5cbe690749d0b75feeb6bcc81158",
       "version_major": 2,
       "version_minor": 0
      },
      "text/plain": [
       "  0%|          | 0/54 [00:00<?, ?it/s]"
      ]
     },
     "metadata": {},
     "output_type": "display_data"
    },
    {
     "name": "stdout",
     "output_type": "stream",
     "text": [
      "Train loss: 1.2521, Train acc: 0.5463, Time: 10s\n",
      "Valid loss: 2.4748, Valid acc: 0.3519, Valid F1: 0.1228\n",
      "\n",
      "Epoch 30/50\n",
      "----------\n"
     ]
    },
    {
     "data": {
      "application/vnd.jupyter.widget-view+json": {
       "model_id": "8e81594e18ad480e8a275d94a9d8197e",
       "version_major": 2,
       "version_minor": 0
      },
      "text/plain": [
       "  0%|          | 0/54 [00:00<?, ?it/s]"
      ]
     },
     "metadata": {},
     "output_type": "display_data"
    },
    {
     "name": "stdout",
     "output_type": "stream",
     "text": [
      "Train loss: 1.2731, Train acc: 0.6111, Time: 10s\n",
      "Valid loss: 2.4290, Valid acc: 0.2407, Valid F1: 0.1066\n",
      "\n",
      "Epoch 31/50\n",
      "----------\n"
     ]
    },
    {
     "data": {
      "application/vnd.jupyter.widget-view+json": {
       "model_id": "72759a2250a5421196ec739a762f237c",
       "version_major": 2,
       "version_minor": 0
      },
      "text/plain": [
       "  0%|          | 0/54 [00:00<?, ?it/s]"
      ]
     },
     "metadata": {},
     "output_type": "display_data"
    },
    {
     "name": "stdout",
     "output_type": "stream",
     "text": [
      "Train loss: 1.2772, Train acc: 0.4907, Time: 10s\n",
      "Valid loss: 2.5304, Valid acc: 0.3333, Valid F1: 0.0982\n",
      "\n",
      "Epoch 32/50\n",
      "----------\n"
     ]
    },
    {
     "data": {
      "application/vnd.jupyter.widget-view+json": {
       "model_id": "69259b5520854fcf9676a9b6cb2a9a31",
       "version_major": 2,
       "version_minor": 0
      },
      "text/plain": [
       "  0%|          | 0/54 [00:00<?, ?it/s]"
      ]
     },
     "metadata": {},
     "output_type": "display_data"
    },
    {
     "name": "stdout",
     "output_type": "stream",
     "text": [
      "Train loss: 1.7430, Train acc: 0.3241, Time: 10s\n",
      "Valid loss: 2.5432, Valid acc: 0.3333, Valid F1: 0.0625\n",
      "\n",
      "Epoch 33/50\n",
      "----------\n"
     ]
    },
    {
     "data": {
      "application/vnd.jupyter.widget-view+json": {
       "model_id": "b47a82222ca14436b8588fc82f55f87e",
       "version_major": 2,
       "version_minor": 0
      },
      "text/plain": [
       "  0%|          | 0/54 [00:00<?, ?it/s]"
      ]
     },
     "metadata": {},
     "output_type": "display_data"
    },
    {
     "name": "stdout",
     "output_type": "stream",
     "text": [
      "Train loss: 1.7557, Train acc: 0.3056, Time: 10s\n",
      "Valid loss: 2.5331, Valid acc: 0.2222, Valid F1: 0.0838\n",
      "\n",
      "Epoch 34/50\n",
      "----------\n"
     ]
    },
    {
     "data": {
      "application/vnd.jupyter.widget-view+json": {
       "model_id": "0a224b62713741c69fb05c02d14d126e",
       "version_major": 2,
       "version_minor": 0
      },
      "text/plain": [
       "  0%|          | 0/54 [00:00<?, ?it/s]"
      ]
     },
     "metadata": {},
     "output_type": "display_data"
    },
    {
     "name": "stdout",
     "output_type": "stream",
     "text": [
      "Train loss: 1.7476, Train acc: 0.3241, Time: 10s\n",
      "Valid loss: 2.4396, Valid acc: 0.3148, Valid F1: 0.0616\n",
      "\n",
      "Epoch 35/50\n",
      "----------\n"
     ]
    },
    {
     "data": {
      "application/vnd.jupyter.widget-view+json": {
       "model_id": "9ddb4b6d5e3e42139359f170c241b021",
       "version_major": 2,
       "version_minor": 0
      },
      "text/plain": [
       "  0%|          | 0/54 [00:00<?, ?it/s]"
      ]
     },
     "metadata": {},
     "output_type": "display_data"
    },
    {
     "name": "stdout",
     "output_type": "stream",
     "text": [
      "Train loss: 1.7574, Train acc: 0.3241, Time: 10s\n",
      "Valid loss: 2.6539, Valid acc: 0.1296, Valid F1: 0.0469\n",
      "\n",
      "Epoch 36/50\n",
      "----------\n"
     ]
    },
    {
     "data": {
      "application/vnd.jupyter.widget-view+json": {
       "model_id": "68d77da6b669446995b448796a88ac91",
       "version_major": 2,
       "version_minor": 0
      },
      "text/plain": [
       "  0%|          | 0/54 [00:00<?, ?it/s]"
      ]
     },
     "metadata": {},
     "output_type": "display_data"
    },
    {
     "name": "stdout",
     "output_type": "stream",
     "text": [
      "Train loss: 1.7665, Train acc: 0.2778, Time: 10s\n",
      "Valid loss: 2.4251, Valid acc: 0.2778, Valid F1: 0.0885\n",
      "\n",
      "Epoch 37/50\n",
      "----------\n"
     ]
    },
    {
     "data": {
      "application/vnd.jupyter.widget-view+json": {
       "model_id": "b8f78bce62b444509e90b719328a90cf",
       "version_major": 2,
       "version_minor": 0
      },
      "text/plain": [
       "  0%|          | 0/54 [00:00<?, ?it/s]"
      ]
     },
     "metadata": {},
     "output_type": "display_data"
    },
    {
     "name": "stdout",
     "output_type": "stream",
     "text": [
      "Train loss: 1.7447, Train acc: 0.2685, Time: 10s\n",
      "Valid loss: 2.4958, Valid acc: 0.3704, Valid F1: 0.1118\n",
      "\n",
      "Epoch 38/50\n",
      "----------\n"
     ]
    },
    {
     "data": {
      "application/vnd.jupyter.widget-view+json": {
       "model_id": "fbecc0d4eaf34ffeb372c73976512c2e",
       "version_major": 2,
       "version_minor": 0
      },
      "text/plain": [
       "  0%|          | 0/54 [00:00<?, ?it/s]"
      ]
     },
     "metadata": {},
     "output_type": "display_data"
    },
    {
     "name": "stdout",
     "output_type": "stream",
     "text": [
      "Train loss: 1.6936, Train acc: 0.3148, Time: 10s\n",
      "Valid loss: 2.5360, Valid acc: 0.3519, Valid F1: 0.1113\n",
      "\n",
      "Epoch 39/50\n",
      "----------\n"
     ]
    },
    {
     "data": {
      "application/vnd.jupyter.widget-view+json": {
       "model_id": "632d21373a764287a05735ff59dbf667",
       "version_major": 2,
       "version_minor": 0
      },
      "text/plain": [
       "  0%|          | 0/54 [00:00<?, ?it/s]"
      ]
     },
     "metadata": {},
     "output_type": "display_data"
    },
    {
     "name": "stdout",
     "output_type": "stream",
     "text": [
      "Train loss: 1.6989, Train acc: 0.3796, Time: 10s\n",
      "Valid loss: 2.6017, Valid acc: 0.2963, Valid F1: 0.1026\n",
      "\n",
      "Epoch 40/50\n",
      "----------\n"
     ]
    },
    {
     "data": {
      "application/vnd.jupyter.widget-view+json": {
       "model_id": "db9f7a9702be401b8cd41ae6fbca8dbd",
       "version_major": 2,
       "version_minor": 0
      },
      "text/plain": [
       "  0%|          | 0/54 [00:00<?, ?it/s]"
      ]
     },
     "metadata": {},
     "output_type": "display_data"
    },
    {
     "name": "stdout",
     "output_type": "stream",
     "text": [
      "Train loss: 1.6200, Train acc: 0.3704, Time: 10s\n",
      "Valid loss: 2.7196, Valid acc: 0.3148, Valid F1: 0.0817\n",
      "\n",
      "Epoch 41/50\n",
      "----------\n"
     ]
    },
    {
     "data": {
      "application/vnd.jupyter.widget-view+json": {
       "model_id": "109634b807134d408f359779f126dbd1",
       "version_major": 2,
       "version_minor": 0
      },
      "text/plain": [
       "  0%|          | 0/54 [00:00<?, ?it/s]"
      ]
     },
     "metadata": {},
     "output_type": "display_data"
    },
    {
     "name": "stdout",
     "output_type": "stream",
     "text": [
      "Train loss: 1.7586, Train acc: 0.3056, Time: 10s\n",
      "Valid loss: 2.5699, Valid acc: 0.3704, Valid F1: 0.1230\n",
      "\n",
      "Epoch 42/50\n",
      "----------\n"
     ]
    },
    {
     "data": {
      "application/vnd.jupyter.widget-view+json": {
       "model_id": "be954e89956c4be38618ebb0b91fd492",
       "version_major": 2,
       "version_minor": 0
      },
      "text/plain": [
       "  0%|          | 0/54 [00:00<?, ?it/s]"
      ]
     },
     "metadata": {},
     "output_type": "display_data"
    },
    {
     "name": "stdout",
     "output_type": "stream",
     "text": [
      "Train loss: 1.7172, Train acc: 0.3796, Time: 10s\n",
      "Valid loss: 2.6787, Valid acc: 0.3333, Valid F1: 0.0970\n",
      "\n",
      "Epoch 43/50\n",
      "----------\n"
     ]
    },
    {
     "data": {
      "application/vnd.jupyter.widget-view+json": {
       "model_id": "668973cdd5f24977bf5523456956a3ff",
       "version_major": 2,
       "version_minor": 0
      },
      "text/plain": [
       "  0%|          | 0/54 [00:00<?, ?it/s]"
      ]
     },
     "metadata": {},
     "output_type": "display_data"
    },
    {
     "name": "stdout",
     "output_type": "stream",
     "text": [
      "Train loss: 1.6912, Train acc: 0.3981, Time: 10s\n",
      "Valid loss: 2.6134, Valid acc: 0.3519, Valid F1: 0.0853\n",
      "\n",
      "Epoch 44/50\n",
      "----------\n"
     ]
    },
    {
     "data": {
      "application/vnd.jupyter.widget-view+json": {
       "model_id": "31f5468271bf44088f4c62601c31628a",
       "version_major": 2,
       "version_minor": 0
      },
      "text/plain": [
       "  0%|          | 0/54 [00:00<?, ?it/s]"
      ]
     },
     "metadata": {},
     "output_type": "display_data"
    },
    {
     "name": "stdout",
     "output_type": "stream",
     "text": [
      "Train loss: 1.6828, Train acc: 0.3056, Time: 10s\n",
      "Valid loss: 2.5314, Valid acc: 0.3519, Valid F1: 0.0912\n",
      "\n",
      "Epoch 45/50\n",
      "----------\n"
     ]
    },
    {
     "data": {
      "application/vnd.jupyter.widget-view+json": {
       "model_id": "a8f01272afa8420885e9997e0f87aedf",
       "version_major": 2,
       "version_minor": 0
      },
      "text/plain": [
       "  0%|          | 0/54 [00:00<?, ?it/s]"
      ]
     },
     "metadata": {},
     "output_type": "display_data"
    },
    {
     "name": "stdout",
     "output_type": "stream",
     "text": [
      "Train loss: 1.6467, Train acc: 0.3333, Time: 10s\n",
      "Valid loss: 2.7008, Valid acc: 0.1111, Valid F1: 0.0417\n",
      "\n",
      "Epoch 46/50\n",
      "----------\n"
     ]
    },
    {
     "data": {
      "application/vnd.jupyter.widget-view+json": {
       "model_id": "44f1fb28bad0440b83a98e8c567ca3d1",
       "version_major": 2,
       "version_minor": 0
      },
      "text/plain": [
       "  0%|          | 0/54 [00:00<?, ?it/s]"
      ]
     },
     "metadata": {},
     "output_type": "display_data"
    },
    {
     "name": "stdout",
     "output_type": "stream",
     "text": [
      "Train loss: 1.6124, Train acc: 0.3796, Time: 10s\n",
      "Valid loss: 2.7819, Valid acc: 0.3889, Valid F1: 0.1196\n",
      "\n",
      "Epoch 47/50\n",
      "----------\n"
     ]
    },
    {
     "data": {
      "application/vnd.jupyter.widget-view+json": {
       "model_id": "66f836b122af4493ba0b8a89b10ae03e",
       "version_major": 2,
       "version_minor": 0
      },
      "text/plain": [
       "  0%|          | 0/54 [00:00<?, ?it/s]"
      ]
     },
     "metadata": {},
     "output_type": "display_data"
    },
    {
     "name": "stdout",
     "output_type": "stream",
     "text": [
      "Train loss: 1.6569, Train acc: 0.3889, Time: 10s\n",
      "Valid loss: 2.6546, Valid acc: 0.3519, Valid F1: 0.0912\n",
      "\n",
      "Epoch 48/50\n",
      "----------\n"
     ]
    },
    {
     "data": {
      "application/vnd.jupyter.widget-view+json": {
       "model_id": "59fefbe7abd84b3d944dbfdd5bd5d32c",
       "version_major": 2,
       "version_minor": 0
      },
      "text/plain": [
       "  0%|          | 0/54 [00:00<?, ?it/s]"
      ]
     },
     "metadata": {},
     "output_type": "display_data"
    },
    {
     "name": "stdout",
     "output_type": "stream",
     "text": [
      "Train loss: 1.6481, Train acc: 0.3796, Time: 10s\n",
      "Valid loss: 2.6843, Valid acc: 0.3333, Valid F1: 0.1235\n",
      "\n",
      "Epoch 49/50\n",
      "----------\n"
     ]
    },
    {
     "data": {
      "application/vnd.jupyter.widget-view+json": {
       "model_id": "e4d313f9cd514895a3e03fd4694f20a3",
       "version_major": 2,
       "version_minor": 0
      },
      "text/plain": [
       "  0%|          | 0/54 [00:00<?, ?it/s]"
      ]
     },
     "metadata": {},
     "output_type": "display_data"
    },
    {
     "name": "stdout",
     "output_type": "stream",
     "text": [
      "Train loss: 1.5485, Train acc: 0.4259, Time: 10s\n",
      "Valid loss: 2.6498, Valid acc: 0.3519, Valid F1: 0.1275\n",
      "\n",
      "Epoch 50/50\n",
      "----------\n"
     ]
    },
    {
     "data": {
      "application/vnd.jupyter.widget-view+json": {
       "model_id": "236f25b2dd7c4319ba9f8103b8925bfc",
       "version_major": 2,
       "version_minor": 0
      },
      "text/plain": [
       "  0%|          | 0/54 [00:00<?, ?it/s]"
      ]
     },
     "metadata": {},
     "output_type": "display_data"
    },
    {
     "name": "stdout",
     "output_type": "stream",
     "text": [
      "Train loss: 1.5741, Train acc: 0.4167, Time: 10s\n",
      "Valid loss: 2.8733, Valid acc: 0.3519, Valid F1: 0.0977\n",
      "\n",
      "Training complete\n",
      "Best ACC: 0.3889 at epoch 10\n",
      "Best F1: 0.1995 at epoch 25\n"
     ]
    }
   ],
   "source": [
    "train_loss, valid_loss, train_acc, valid_acc, valid_f1 = run(train_loader, valid_loader, model,\n",
    "                                                             num_classes_t, epochs=epochs,\n",
    "                                                             save_path=save_path/'t')"
   ]
  },
  {
   "cell_type": "code",
   "execution_count": 31,
   "metadata": {},
   "outputs": [
    {
     "data": {
      "image/png": "[encoded data removed]",
      "text/plain": [
       "<Figure size 640x480 with 1 Axes>"
      ]
     },
     "metadata": {},
     "output_type": "display_data"
    }
   ],
   "source": [
    "plot_loss(train_loss, valid_loss)"
   ]
  },
  {
   "cell_type": "code",
   "execution_count": 32,
   "metadata": {},
   "outputs": [
    {
     "data": {
      "image/png": "[encoded data removed]",
      "text/plain": [
       "<Figure size 640x480 with 1 Axes>"
      ]
     },
     "metadata": {},
     "output_type": "display_data"
    }
   ],
   "source": [
    "plot_metrics(train_acc, valid_acc, valid_f1)"
   ]
  },
  {
   "cell_type": "code",
   "execution_count": 33,
   "metadata": {},
   "outputs": [
    {
     "name": "stdout",
     "output_type": "stream",
     "text": [
      "accuracy: 0.3888888888888889, f1 score: 0.19954369954369955\n"
     ]
    }
   ],
   "source": [
    "print(f'accuracy: {max(valid_acc)}, f1 score: {max(valid_f1)}')"
   ]
  },
  {
   "cell_type": "markdown",
   "metadata": {},
   "source": [
    "## N分類モデル"
   ]
  },
  {
   "cell_type": "code",
   "execution_count": 34,
   "metadata": {},
   "outputs": [],
   "source": [
    "batch_size=2\n",
    "epochs=50\n",
    "learning_rate=1e-5\n",
    "momentum=0.9"
   ]
  },
  {
   "cell_type": "code",
   "execution_count": 35,
   "metadata": {},
   "outputs": [],
   "source": [
    "train_data = []\n",
    "valid_data = []\n",
    "for x, y in zip(X_train, Yn_train):\n",
    "    data = [x, y]\n",
    "    train_data.append(data)\n",
    "for x, y in zip(X_valid, Yn_valid):\n",
    "    data = [x, y]\n",
    "    valid_data.append(data)\n",
    "    \n",
    "train_loader, valid_loader = build_data(train_data, valid_data, batch_size=batch_size)"
   ]
  },
  {
   "cell_type": "code",
   "execution_count": 36,
   "metadata": {},
   "outputs": [],
   "source": [
    "config = BertConfig.from_json_file(model_path / 'bert_config.json')\n",
    "bert = BertModel.from_pretrained(model_path / 'UTH_BERT.bin', config=config)\n",
    "model = Net(bert, num_classes_n).to(device)\n",
    "\n",
    "FREEZE=False\n",
    "if FREEZE: \n",
    "    idx=1 #Any\n",
    "    for name, param in model.named_parameters(): \n",
    "        param.requires_grad = False \n",
    "    for name, param in list(model.named_parameters())[idx:]: \n",
    "        param.requires_grad = True \n",
    "#     optimizer = optim.SGD([{'params':list(model.parameters())[idx:], 'lr':learning_rate, 'momentum':momentum}])\n",
    "    optimizer = optim.Adam([{'params':list(model.parameters())[idx:], 'lr':learning_rate}]) \n",
    "    criterion = nn.CrossEntropyLoss()\n",
    "else:  \n",
    "#     optimizer = optim.SGD(model.parameters(), lr=learning_rate, momentum=momentum)\n",
    "    optimizer = optim.Adam(model.parameters(), lr=learning_rate)\n",
    "    criterion = nn.CrossEntropyLoss()\n",
    "\n",
    "scheduler = StepLR(optimizer, step_size=3, gamma=0.1)"
   ]
  },
  {
   "cell_type": "code",
   "execution_count": 37,
   "metadata": {},
   "outputs": [
    {
     "name": "stdout",
     "output_type": "stream",
     "text": [
      "\n",
      "Epoch 1/50\n",
      "----------\n"
     ]
    },
    {
     "data": {
      "application/vnd.jupyter.widget-view+json": {
       "model_id": "d0947aac842742f88a1c1d09f78a3d43",
       "version_major": 2,
       "version_minor": 0
      },
      "text/plain": [
       "  0%|          | 0/54 [00:00<?, ?it/s]"
      ]
     },
     "metadata": {},
     "output_type": "display_data"
    },
    {
     "name": "stdout",
     "output_type": "stream",
     "text": [
      "Train loss: 1.2442, Train acc: 0.4074, Time: 10s\n",
      "Valid loss: 1.1655, Valid acc: 0.3704, Valid F1: 0.1351\n",
      "\n",
      "Epoch 2/50\n",
      "----------\n"
     ]
    },
    {
     "data": {
      "application/vnd.jupyter.widget-view+json": {
       "model_id": "5c9a17b78a9b4e629e12271aeb7f20b4",
       "version_major": 2,
       "version_minor": 0
      },
      "text/plain": [
       "  0%|          | 0/54 [00:00<?, ?it/s]"
      ]
     },
     "metadata": {},
     "output_type": "display_data"
    },
    {
     "name": "stdout",
     "output_type": "stream",
     "text": [
      "Train loss: 1.2493, Train acc: 0.3611, Time: 10s\n",
      "Valid loss: 1.0836, Valid acc: 0.5370, Valid F1: 0.2880\n",
      "\n",
      "Epoch 3/50\n",
      "----------\n"
     ]
    },
    {
     "data": {
      "application/vnd.jupyter.widget-view+json": {
       "model_id": "ed2ed6aff33447f5ac6bad263da6fd5d",
       "version_major": 2,
       "version_minor": 0
      },
      "text/plain": [
       "  0%|          | 0/54 [00:00<?, ?it/s]"
      ]
     },
     "metadata": {},
     "output_type": "display_data"
    },
    {
     "name": "stdout",
     "output_type": "stream",
     "text": [
      "Train loss: 1.2386, Train acc: 0.4167, Time: 10s\n",
      "Valid loss: 1.0786, Valid acc: 0.5926, Valid F1: 0.3175\n",
      "\n",
      "Epoch 4/50\n",
      "----------\n"
     ]
    },
    {
     "data": {
      "application/vnd.jupyter.widget-view+json": {
       "model_id": "9d3c923e95e94b90aa43ee2e1a5738d3",
       "version_major": 2,
       "version_minor": 0
      },
      "text/plain": [
       "  0%|          | 0/54 [00:00<?, ?it/s]"
      ]
     },
     "metadata": {},
     "output_type": "display_data"
    },
    {
     "name": "stdout",
     "output_type": "stream",
     "text": [
      "Train loss: 1.1895, Train acc: 0.4907, Time: 10s\n",
      "Valid loss: 1.0380, Valid acc: 0.6296, Valid F1: 0.3374\n",
      "\n",
      "Epoch 5/50\n",
      "----------\n"
     ]
    },
    {
     "data": {
      "application/vnd.jupyter.widget-view+json": {
       "model_id": "46ea5c47f38649f4a1158704e3ff4310",
       "version_major": 2,
       "version_minor": 0
      },
      "text/plain": [
       "  0%|          | 0/54 [00:00<?, ?it/s]"
      ]
     },
     "metadata": {},
     "output_type": "display_data"
    },
    {
     "name": "stdout",
     "output_type": "stream",
     "text": [
      "Train loss: 1.1240, Train acc: 0.5463, Time: 10s\n",
      "Valid loss: 1.0138, Valid acc: 0.6852, Valid F1: 0.3625\n",
      "\n",
      "Epoch 6/50\n",
      "----------\n"
     ]
    },
    {
     "data": {
      "application/vnd.jupyter.widget-view+json": {
       "model_id": "554be72d05b542c9a1fa0b4c01717a1f",
       "version_major": 2,
       "version_minor": 0
      },
      "text/plain": [
       "  0%|          | 0/54 [00:00<?, ?it/s]"
      ]
     },
     "metadata": {},
     "output_type": "display_data"
    },
    {
     "name": "stdout",
     "output_type": "stream",
     "text": [
      "Train loss: 1.1493, Train acc: 0.4352, Time: 10s\n",
      "Valid loss: 1.1097, Valid acc: 0.5926, Valid F1: 0.3205\n",
      "\n",
      "Epoch 7/50\n",
      "----------\n"
     ]
    },
    {
     "data": {
      "application/vnd.jupyter.widget-view+json": {
       "model_id": "3bc28033e2e541b9b20cfed3242598f5",
       "version_major": 2,
       "version_minor": 0
      },
      "text/plain": [
       "  0%|          | 0/54 [00:00<?, ?it/s]"
      ]
     },
     "metadata": {},
     "output_type": "display_data"
    },
    {
     "name": "stdout",
     "output_type": "stream",
     "text": [
      "Train loss: 1.0733, Train acc: 0.5278, Time: 10s\n",
      "Valid loss: 1.2775, Valid acc: 0.2778, Valid F1: 0.1488\n",
      "\n",
      "Epoch 8/50\n",
      "----------\n"
     ]
    },
    {
     "data": {
      "application/vnd.jupyter.widget-view+json": {
       "model_id": "20388854604748218600ff0be338e1f9",
       "version_major": 2,
       "version_minor": 0
      },
      "text/plain": [
       "  0%|          | 0/54 [00:00<?, ?it/s]"
      ]
     },
     "metadata": {},
     "output_type": "display_data"
    },
    {
     "name": "stdout",
     "output_type": "stream",
     "text": [
      "Train loss: 1.1399, Train acc: 0.5185, Time: 10s\n",
      "Valid loss: 0.9451, Valid acc: 0.5185, Valid F1: 0.2681\n",
      "\n",
      "Epoch 9/50\n",
      "----------\n"
     ]
    },
    {
     "data": {
      "application/vnd.jupyter.widget-view+json": {
       "model_id": "8c56b7ab20584ac8add196c639c99743",
       "version_major": 2,
       "version_minor": 0
      },
      "text/plain": [
       "  0%|          | 0/54 [00:00<?, ?it/s]"
      ]
     },
     "metadata": {},
     "output_type": "display_data"
    },
    {
     "name": "stdout",
     "output_type": "stream",
     "text": [
      "Train loss: 1.0355, Train acc: 0.4722, Time: 10s\n",
      "Valid loss: 0.9221, Valid acc: 0.7037, Valid F1: 0.3716\n",
      "\n",
      "Epoch 10/50\n",
      "----------\n"
     ]
    },
    {
     "data": {
      "application/vnd.jupyter.widget-view+json": {
       "model_id": "0105ff9968494843abf6c47a6ef64d42",
       "version_major": 2,
       "version_minor": 0
      },
      "text/plain": [
       "  0%|          | 0/54 [00:00<?, ?it/s]"
      ]
     },
     "metadata": {},
     "output_type": "display_data"
    },
    {
     "name": "stdout",
     "output_type": "stream",
     "text": [
      "Train loss: 0.9990, Train acc: 0.5093, Time: 10s\n",
      "Valid loss: 1.2344, Valid acc: 0.5370, Valid F1: 0.2892\n",
      "\n",
      "Epoch 11/50\n",
      "----------\n"
     ]
    },
    {
     "data": {
      "application/vnd.jupyter.widget-view+json": {
       "model_id": "2019eeecdd9e4bc98c238d41285f84bf",
       "version_major": 2,
       "version_minor": 0
      },
      "text/plain": [
       "  0%|          | 0/54 [00:00<?, ?it/s]"
      ]
     },
     "metadata": {},
     "output_type": "display_data"
    },
    {
     "name": "stdout",
     "output_type": "stream",
     "text": [
      "Train loss: 1.0253, Train acc: 0.5463, Time: 10s\n",
      "Valid loss: 0.8889, Valid acc: 0.7222, Valid F1: 0.3844\n",
      "\n",
      "Epoch 12/50\n",
      "----------\n"
     ]
    },
    {
     "data": {
      "application/vnd.jupyter.widget-view+json": {
       "model_id": "5b4ad046a9e3476a81522585d3ee40fa",
       "version_major": 2,
       "version_minor": 0
      },
      "text/plain": [
       "  0%|          | 0/54 [00:00<?, ?it/s]"
      ]
     },
     "metadata": {},
     "output_type": "display_data"
    },
    {
     "name": "stdout",
     "output_type": "stream",
     "text": [
      "Train loss: 0.9480, Train acc: 0.5741, Time: 10s\n",
      "Valid loss: 0.9573, Valid acc: 0.5370, Valid F1: 0.2812\n",
      "\n",
      "Epoch 13/50\n",
      "----------\n"
     ]
    },
    {
     "data": {
      "application/vnd.jupyter.widget-view+json": {
       "model_id": "559c0cbfff8a42bc91cdf3c7d4b0aa02",
       "version_major": 2,
       "version_minor": 0
      },
      "text/plain": [
       "  0%|          | 0/54 [00:00<?, ?it/s]"
      ]
     },
     "metadata": {},
     "output_type": "display_data"
    },
    {
     "name": "stdout",
     "output_type": "stream",
     "text": [
      "Train loss: 0.8931, Train acc: 0.6204, Time: 10s\n",
      "Valid loss: 0.9953, Valid acc: 0.5556, Valid F1: 0.3000\n",
      "\n",
      "Epoch 14/50\n",
      "----------\n"
     ]
    },
    {
     "data": {
      "application/vnd.jupyter.widget-view+json": {
       "model_id": "ab9c19739abf4cbb84dc3dba7bef84a8",
       "version_major": 2,
       "version_minor": 0
      },
      "text/plain": [
       "  0%|          | 0/54 [00:00<?, ?it/s]"
      ]
     },
     "metadata": {},
     "output_type": "display_data"
    },
    {
     "name": "stdout",
     "output_type": "stream",
     "text": [
      "Train loss: 1.2157, Train acc: 0.4815, Time: 10s\n",
      "Valid loss: 1.0551, Valid acc: 0.6111, Valid F1: 0.3299\n",
      "\n",
      "Epoch 15/50\n",
      "----------\n"
     ]
    },
    {
     "data": {
      "application/vnd.jupyter.widget-view+json": {
       "model_id": "d24a0d69f73a4daa862471e5f9841245",
       "version_major": 2,
       "version_minor": 0
      },
      "text/plain": [
       "  0%|          | 0/54 [00:00<?, ?it/s]"
      ]
     },
     "metadata": {},
     "output_type": "display_data"
    },
    {
     "name": "stdout",
     "output_type": "stream",
     "text": [
      "Train loss: 1.1902, Train acc: 0.4074, Time: 10s\n",
      "Valid loss: 1.1743, Valid acc: 0.4444, Valid F1: 0.2400\n",
      "\n",
      "Epoch 16/50\n",
      "----------\n"
     ]
    },
    {
     "data": {
      "application/vnd.jupyter.widget-view+json": {
       "model_id": "d223f3e84d2641c8b243a6a3c6587806",
       "version_major": 2,
       "version_minor": 0
      },
      "text/plain": [
       "  0%|          | 0/54 [00:00<?, ?it/s]"
      ]
     },
     "metadata": {},
     "output_type": "display_data"
    },
    {
     "name": "stdout",
     "output_type": "stream",
     "text": [
      "Train loss: 1.1462, Train acc: 0.4537, Time: 10s\n",
      "Valid loss: 1.0519, Valid acc: 0.5000, Valid F1: 0.2545\n",
      "\n",
      "Epoch 17/50\n",
      "----------\n"
     ]
    },
    {
     "data": {
      "application/vnd.jupyter.widget-view+json": {
       "model_id": "d64687cb3a654b3381f0fffaa37c3121",
       "version_major": 2,
       "version_minor": 0
      },
      "text/plain": [
       "  0%|          | 0/54 [00:00<?, ?it/s]"
      ]
     },
     "metadata": {},
     "output_type": "display_data"
    },
    {
     "name": "stdout",
     "output_type": "stream",
     "text": [
      "Train loss: 1.0736, Train acc: 0.5000, Time: 10s\n",
      "Valid loss: 1.0402, Valid acc: 0.5370, Valid F1: 0.3231\n",
      "\n",
      "Epoch 18/50\n",
      "----------\n"
     ]
    },
    {
     "data": {
      "application/vnd.jupyter.widget-view+json": {
       "model_id": "dec23ac04fbd40af9f07ec6834dcc09c",
       "version_major": 2,
       "version_minor": 0
      },
      "text/plain": [
       "  0%|          | 0/54 [00:00<?, ?it/s]"
      ]
     },
     "metadata": {},
     "output_type": "display_data"
    },
    {
     "name": "stdout",
     "output_type": "stream",
     "text": [
      "Train loss: 1.0460, Train acc: 0.5370, Time: 10s\n",
      "Valid loss: 1.0892, Valid acc: 0.4444, Valid F1: 0.2095\n",
      "\n",
      "Epoch 19/50\n",
      "----------\n"
     ]
    },
    {
     "data": {
      "application/vnd.jupyter.widget-view+json": {
       "model_id": "b7fbea8f72bc4a9ba98a24d43d55880e",
       "version_major": 2,
       "version_minor": 0
      },
      "text/plain": [
       "  0%|          | 0/54 [00:00<?, ?it/s]"
      ]
     },
     "metadata": {},
     "output_type": "display_data"
    },
    {
     "name": "stdout",
     "output_type": "stream",
     "text": [
      "Train loss: 1.0901, Train acc: 0.5556, Time: 10s\n",
      "Valid loss: 0.9610, Valid acc: 0.7222, Valid F1: 0.3855\n",
      "\n",
      "Epoch 20/50\n",
      "----------\n"
     ]
    },
    {
     "data": {
      "application/vnd.jupyter.widget-view+json": {
       "model_id": "f0bb8e1e4a61485e8134813234f1a845",
       "version_major": 2,
       "version_minor": 0
      },
      "text/plain": [
       "  0%|          | 0/54 [00:00<?, ?it/s]"
      ]
     },
     "metadata": {},
     "output_type": "display_data"
    },
    {
     "name": "stdout",
     "output_type": "stream",
     "text": [
      "Train loss: 0.9147, Train acc: 0.6389, Time: 10s\n",
      "Valid loss: 1.0824, Valid acc: 0.6111, Valid F1: 0.3323\n",
      "\n",
      "Epoch 21/50\n",
      "----------\n"
     ]
    },
    {
     "data": {
      "application/vnd.jupyter.widget-view+json": {
       "model_id": "9231b43d61054c9aa6ec8086b2693629",
       "version_major": 2,
       "version_minor": 0
      },
      "text/plain": [
       "  0%|          | 0/54 [00:00<?, ?it/s]"
      ]
     },
     "metadata": {},
     "output_type": "display_data"
    },
    {
     "name": "stdout",
     "output_type": "stream",
     "text": [
      "Train loss: 0.9246, Train acc: 0.5833, Time: 10s\n",
      "Valid loss: 0.8858, Valid acc: 0.7037, Valid F1: 0.3708\n",
      "\n",
      "Epoch 22/50\n",
      "----------\n"
     ]
    },
    {
     "data": {
      "application/vnd.jupyter.widget-view+json": {
       "model_id": "a720dc5afd5e4e7ab811722028843719",
       "version_major": 2,
       "version_minor": 0
      },
      "text/plain": [
       "  0%|          | 0/54 [00:00<?, ?it/s]"
      ]
     },
     "metadata": {},
     "output_type": "display_data"
    },
    {
     "name": "stdout",
     "output_type": "stream",
     "text": [
      "Train loss: 0.9068, Train acc: 0.5556, Time: 10s\n",
      "Valid loss: 1.1318, Valid acc: 0.5556, Valid F1: 0.3391\n",
      "\n",
      "Epoch 23/50\n",
      "----------\n"
     ]
    },
    {
     "data": {
      "application/vnd.jupyter.widget-view+json": {
       "model_id": "44c11a30b29144adb228958b225384ec",
       "version_major": 2,
       "version_minor": 0
      },
      "text/plain": [
       "  0%|          | 0/54 [00:00<?, ?it/s]"
      ]
     },
     "metadata": {},
     "output_type": "display_data"
    },
    {
     "name": "stdout",
     "output_type": "stream",
     "text": [
      "Train loss: 0.9366, Train acc: 0.5926, Time: 10s\n",
      "Valid loss: 1.0167, Valid acc: 0.5926, Valid F1: 0.3250\n",
      "\n",
      "Epoch 24/50\n",
      "----------\n"
     ]
    },
    {
     "data": {
      "application/vnd.jupyter.widget-view+json": {
       "model_id": "e038a404d27c4029827c33471d8b8ca5",
       "version_major": 2,
       "version_minor": 0
      },
      "text/plain": [
       "  0%|          | 0/54 [00:00<?, ?it/s]"
      ]
     },
     "metadata": {},
     "output_type": "display_data"
    },
    {
     "name": "stdout",
     "output_type": "stream",
     "text": [
      "Train loss: 0.8487, Train acc: 0.6019, Time: 10s\n",
      "Valid loss: 1.0114, Valid acc: 0.6667, Valid F1: 0.3530\n",
      "\n",
      "Epoch 25/50\n",
      "----------\n"
     ]
    },
    {
     "data": {
      "application/vnd.jupyter.widget-view+json": {
       "model_id": "07c5ef47060645f18da40ab7c434635e",
       "version_major": 2,
       "version_minor": 0
      },
      "text/plain": [
       "  0%|          | 0/54 [00:00<?, ?it/s]"
      ]
     },
     "metadata": {},
     "output_type": "display_data"
    },
    {
     "name": "stdout",
     "output_type": "stream",
     "text": [
      "Train loss: 0.8377, Train acc: 0.5926, Time: 10s\n",
      "Valid loss: 1.0181, Valid acc: 0.6481, Valid F1: 0.3549\n",
      "\n",
      "Epoch 26/50\n",
      "----------\n"
     ]
    },
    {
     "data": {
      "application/vnd.jupyter.widget-view+json": {
       "model_id": "4c93a1df8e0f4ff2a7caed645b93fd03",
       "version_major": 2,
       "version_minor": 0
      },
      "text/plain": [
       "  0%|          | 0/54 [00:00<?, ?it/s]"
      ]
     },
     "metadata": {},
     "output_type": "display_data"
    },
    {
     "name": "stdout",
     "output_type": "stream",
     "text": [
      "Train loss: 0.9281, Train acc: 0.5278, Time: 10s\n",
      "Valid loss: 1.0847, Valid acc: 0.4815, Valid F1: 0.2457\n",
      "\n",
      "Epoch 27/50\n",
      "----------\n"
     ]
    },
    {
     "data": {
      "application/vnd.jupyter.widget-view+json": {
       "model_id": "d46abbe625014f40af2ade25db90891f",
       "version_major": 2,
       "version_minor": 0
      },
      "text/plain": [
       "  0%|          | 0/54 [00:00<?, ?it/s]"
      ]
     },
     "metadata": {},
     "output_type": "display_data"
    },
    {
     "name": "stdout",
     "output_type": "stream",
     "text": [
      "Train loss: 0.8661, Train acc: 0.6111, Time: 10s\n",
      "Valid loss: 1.2659, Valid acc: 0.3519, Valid F1: 0.2380\n",
      "\n",
      "Epoch 28/50\n",
      "----------\n"
     ]
    },
    {
     "data": {
      "application/vnd.jupyter.widget-view+json": {
       "model_id": "3d1aee4d30e0420f8416a1738dd3fb1a",
       "version_major": 2,
       "version_minor": 0
      },
      "text/plain": [
       "  0%|          | 0/54 [00:00<?, ?it/s]"
      ]
     },
     "metadata": {},
     "output_type": "display_data"
    },
    {
     "name": "stdout",
     "output_type": "stream",
     "text": [
      "Train loss: 0.8572, Train acc: 0.5648, Time: 10s\n",
      "Valid loss: 1.0648, Valid acc: 0.6481, Valid F1: 0.3483\n",
      "\n",
      "Epoch 29/50\n",
      "----------\n"
     ]
    },
    {
     "data": {
      "application/vnd.jupyter.widget-view+json": {
       "model_id": "6da9eaecd83549bfa4936cc2080c7ea9",
       "version_major": 2,
       "version_minor": 0
      },
      "text/plain": [
       "  0%|          | 0/54 [00:00<?, ?it/s]"
      ]
     },
     "metadata": {},
     "output_type": "display_data"
    },
    {
     "name": "stdout",
     "output_type": "stream",
     "text": [
      "Train loss: 0.9054, Train acc: 0.6111, Time: 10s\n",
      "Valid loss: 0.8651, Valid acc: 0.6481, Valid F1: 0.3500\n",
      "\n",
      "Epoch 30/50\n",
      "----------\n"
     ]
    },
    {
     "data": {
      "application/vnd.jupyter.widget-view+json": {
       "model_id": "9fec08dfcd5846deb07da4a3b3949cef",
       "version_major": 2,
       "version_minor": 0
      },
      "text/plain": [
       "  0%|          | 0/54 [00:00<?, ?it/s]"
      ]
     },
     "metadata": {},
     "output_type": "display_data"
    },
    {
     "name": "stdout",
     "output_type": "stream",
     "text": [
      "Train loss: 1.0553, Train acc: 0.5370, Time: 9s\n",
      "Valid loss: 1.0233, Valid acc: 0.6111, Valid F1: 0.3209\n",
      "\n",
      "Epoch 31/50\n",
      "----------\n"
     ]
    },
    {
     "data": {
      "application/vnd.jupyter.widget-view+json": {
       "model_id": "49808d1dd2f84c1b96c26e061f3c5269",
       "version_major": 2,
       "version_minor": 0
      },
      "text/plain": [
       "  0%|          | 0/54 [00:00<?, ?it/s]"
      ]
     },
     "metadata": {},
     "output_type": "display_data"
    },
    {
     "name": "stdout",
     "output_type": "stream",
     "text": [
      "Train loss: 0.9133, Train acc: 0.5833, Time: 10s\n",
      "Valid loss: 1.1435, Valid acc: 0.6296, Valid F1: 0.3393\n",
      "\n",
      "Epoch 32/50\n",
      "----------\n"
     ]
    },
    {
     "data": {
      "application/vnd.jupyter.widget-view+json": {
       "model_id": "3fe325bc712e47bdaf01ace5a1131d5f",
       "version_major": 2,
       "version_minor": 0
      },
      "text/plain": [
       "  0%|          | 0/54 [00:00<?, ?it/s]"
      ]
     },
     "metadata": {},
     "output_type": "display_data"
    },
    {
     "name": "stdout",
     "output_type": "stream",
     "text": [
      "Train loss: 0.8689, Train acc: 0.6481, Time: 10s\n",
      "Valid loss: 1.0005, Valid acc: 0.6667, Valid F1: 0.3556\n",
      "\n",
      "Epoch 33/50\n",
      "----------\n"
     ]
    },
    {
     "data": {
      "application/vnd.jupyter.widget-view+json": {
       "model_id": "c1ae43bb3c13457ebe68ccd739086085",
       "version_major": 2,
       "version_minor": 0
      },
      "text/plain": [
       "  0%|          | 0/54 [00:00<?, ?it/s]"
      ]
     },
     "metadata": {},
     "output_type": "display_data"
    },
    {
     "name": "stdout",
     "output_type": "stream",
     "text": [
      "Train loss: 0.7975, Train acc: 0.6481, Time: 10s\n",
      "Valid loss: 1.0486, Valid acc: 0.4444, Valid F1: 0.2314\n",
      "\n",
      "Epoch 34/50\n",
      "----------\n"
     ]
    },
    {
     "data": {
      "application/vnd.jupyter.widget-view+json": {
       "model_id": "fbe7daafb1304a48bc2ee65a1a6e878d",
       "version_major": 2,
       "version_minor": 0
      },
      "text/plain": [
       "  0%|          | 0/54 [00:00<?, ?it/s]"
      ]
     },
     "metadata": {},
     "output_type": "display_data"
    },
    {
     "name": "stdout",
     "output_type": "stream",
     "text": [
      "Train loss: 1.0198, Train acc: 0.5648, Time: 9s\n",
      "Valid loss: 1.1919, Valid acc: 0.4815, Valid F1: 0.2462\n",
      "\n",
      "Epoch 35/50\n",
      "----------\n"
     ]
    },
    {
     "data": {
      "application/vnd.jupyter.widget-view+json": {
       "model_id": "367838ab1dda450eb7b5ce1180c521cc",
       "version_major": 2,
       "version_minor": 0
      },
      "text/plain": [
       "  0%|          | 0/54 [00:00<?, ?it/s]"
      ]
     },
     "metadata": {},
     "output_type": "display_data"
    },
    {
     "name": "stdout",
     "output_type": "stream",
     "text": [
      "Train loss: 0.8022, Train acc: 0.6667, Time: 9s\n",
      "Valid loss: 0.9733, Valid acc: 0.7037, Valid F1: 0.3916\n",
      "\n",
      "Epoch 36/50\n",
      "----------\n"
     ]
    },
    {
     "data": {
      "application/vnd.jupyter.widget-view+json": {
       "model_id": "c5487b586fa1413eb864ebf5d826d566",
       "version_major": 2,
       "version_minor": 0
      },
      "text/plain": [
       "  0%|          | 0/54 [00:00<?, ?it/s]"
      ]
     },
     "metadata": {},
     "output_type": "display_data"
    },
    {
     "name": "stdout",
     "output_type": "stream",
     "text": [
      "Train loss: 0.8025, Train acc: 0.5926, Time: 10s\n",
      "Valid loss: 0.9553, Valid acc: 0.6667, Valid F1: 0.3653\n",
      "\n",
      "Epoch 37/50\n",
      "----------\n"
     ]
    },
    {
     "data": {
      "application/vnd.jupyter.widget-view+json": {
       "model_id": "8da3b908d4d24bdd8861397da9daad2a",
       "version_major": 2,
       "version_minor": 0
      },
      "text/plain": [
       "  0%|          | 0/54 [00:00<?, ?it/s]"
      ]
     },
     "metadata": {},
     "output_type": "display_data"
    },
    {
     "name": "stdout",
     "output_type": "stream",
     "text": [
      "Train loss: 0.8144, Train acc: 0.6481, Time: 10s\n",
      "Valid loss: 1.1836, Valid acc: 0.6111, Valid F1: 0.3265\n",
      "\n",
      "Epoch 38/50\n",
      "----------\n"
     ]
    },
    {
     "data": {
      "application/vnd.jupyter.widget-view+json": {
       "model_id": "7bfb45038dbb47b498677358b0f731d6",
       "version_major": 2,
       "version_minor": 0
      },
      "text/plain": [
       "  0%|          | 0/54 [00:00<?, ?it/s]"
      ]
     },
     "metadata": {},
     "output_type": "display_data"
    },
    {
     "name": "stdout",
     "output_type": "stream",
     "text": [
      "Train loss: 0.8203, Train acc: 0.6759, Time: 10s\n",
      "Valid loss: 1.3616, Valid acc: 0.5741, Valid F1: 0.3156\n",
      "\n",
      "Epoch 39/50\n",
      "----------\n"
     ]
    },
    {
     "data": {
      "application/vnd.jupyter.widget-view+json": {
       "model_id": "6039f54918714410a670d5994e66bf9c",
       "version_major": 2,
       "version_minor": 0
      },
      "text/plain": [
       "  0%|          | 0/54 [00:00<?, ?it/s]"
      ]
     },
     "metadata": {},
     "output_type": "display_data"
    },
    {
     "name": "stdout",
     "output_type": "stream",
     "text": [
      "Train loss: 0.8663, Train acc: 0.6574, Time: 10s\n",
      "Valid loss: 1.0000, Valid acc: 0.6852, Valid F1: 0.3674\n",
      "\n",
      "Epoch 40/50\n",
      "----------\n"
     ]
    },
    {
     "data": {
      "application/vnd.jupyter.widget-view+json": {
       "model_id": "99696d3835fc4bfab11b9e69cfd275e5",
       "version_major": 2,
       "version_minor": 0
      },
      "text/plain": [
       "  0%|          | 0/54 [00:00<?, ?it/s]"
      ]
     },
     "metadata": {},
     "output_type": "display_data"
    },
    {
     "name": "stdout",
     "output_type": "stream",
     "text": [
      "Train loss: 0.8275, Train acc: 0.6389, Time: 9s\n",
      "Valid loss: 0.9678, Valid acc: 0.6111, Valid F1: 0.3780\n",
      "\n",
      "Epoch 41/50\n",
      "----------\n"
     ]
    },
    {
     "data": {
      "application/vnd.jupyter.widget-view+json": {
       "model_id": "3f5d586b50e54597ad114cb8e2fa680c",
       "version_major": 2,
       "version_minor": 0
      },
      "text/plain": [
       "  0%|          | 0/54 [00:00<?, ?it/s]"
      ]
     },
     "metadata": {},
     "output_type": "display_data"
    },
    {
     "name": "stdout",
     "output_type": "stream",
     "text": [
      "Train loss: 0.8971, Train acc: 0.5926, Time: 10s\n",
      "Valid loss: 0.9945, Valid acc: 0.6481, Valid F1: 0.3515\n",
      "\n",
      "Epoch 42/50\n",
      "----------\n"
     ]
    },
    {
     "data": {
      "application/vnd.jupyter.widget-view+json": {
       "model_id": "16130d80397f4140a414170d875c999d",
       "version_major": 2,
       "version_minor": 0
      },
      "text/plain": [
       "  0%|          | 0/54 [00:00<?, ?it/s]"
      ]
     },
     "metadata": {},
     "output_type": "display_data"
    },
    {
     "name": "stdout",
     "output_type": "stream",
     "text": [
      "Train loss: 0.7780, Train acc: 0.6296, Time: 9s\n",
      "Valid loss: 0.8823, Valid acc: 0.7407, Valid F1: 0.4941\n",
      "\n",
      "Epoch 43/50\n",
      "----------\n"
     ]
    },
    {
     "data": {
      "application/vnd.jupyter.widget-view+json": {
       "model_id": "9df38f3df40c400a83b5a9415a37fe07",
       "version_major": 2,
       "version_minor": 0
      },
      "text/plain": [
       "  0%|          | 0/54 [00:00<?, ?it/s]"
      ]
     },
     "metadata": {},
     "output_type": "display_data"
    },
    {
     "name": "stdout",
     "output_type": "stream",
     "text": [
      "Train loss: 0.7583, Train acc: 0.6574, Time: 10s\n",
      "Valid loss: 1.4105, Valid acc: 0.5185, Valid F1: 0.2791\n",
      "\n",
      "Epoch 44/50\n",
      "----------\n"
     ]
    },
    {
     "data": {
      "application/vnd.jupyter.widget-view+json": {
       "model_id": "38cc978d99594659aefd7638e5c44b1c",
       "version_major": 2,
       "version_minor": 0
      },
      "text/plain": [
       "  0%|          | 0/54 [00:00<?, ?it/s]"
      ]
     },
     "metadata": {},
     "output_type": "display_data"
    },
    {
     "name": "stdout",
     "output_type": "stream",
     "text": [
      "Train loss: 0.7577, Train acc: 0.6759, Time: 10s\n",
      "Valid loss: 1.1005, Valid acc: 0.6296, Valid F1: 0.3423\n",
      "\n",
      "Epoch 45/50\n",
      "----------\n"
     ]
    },
    {
     "data": {
      "application/vnd.jupyter.widget-view+json": {
       "model_id": "743e17e38a804143bbd0e9224717f4ee",
       "version_major": 2,
       "version_minor": 0
      },
      "text/plain": [
       "  0%|          | 0/54 [00:00<?, ?it/s]"
      ]
     },
     "metadata": {},
     "output_type": "display_data"
    },
    {
     "name": "stdout",
     "output_type": "stream",
     "text": [
      "Train loss: 0.7110, Train acc: 0.6481, Time: 10s\n",
      "Valid loss: 0.9684, Valid acc: 0.5556, Valid F1: 0.2952\n",
      "\n",
      "Epoch 46/50\n",
      "----------\n"
     ]
    },
    {
     "data": {
      "application/vnd.jupyter.widget-view+json": {
       "model_id": "80b23cb6ad25424f911b697ec511e9ed",
       "version_major": 2,
       "version_minor": 0
      },
      "text/plain": [
       "  0%|          | 0/54 [00:00<?, ?it/s]"
      ]
     },
     "metadata": {},
     "output_type": "display_data"
    },
    {
     "name": "stdout",
     "output_type": "stream",
     "text": [
      "Train loss: 0.6880, Train acc: 0.6389, Time: 9s\n",
      "Valid loss: 0.9472, Valid acc: 0.5741, Valid F1: 0.3138\n",
      "\n",
      "Epoch 47/50\n",
      "----------\n"
     ]
    },
    {
     "data": {
      "application/vnd.jupyter.widget-view+json": {
       "model_id": "037aabe8829641a3b5e3e419a6d446eb",
       "version_major": 2,
       "version_minor": 0
      },
      "text/plain": [
       "  0%|          | 0/54 [00:00<?, ?it/s]"
      ]
     },
     "metadata": {},
     "output_type": "display_data"
    },
    {
     "name": "stdout",
     "output_type": "stream",
     "text": [
      "Train loss: 0.8042, Train acc: 0.6296, Time: 10s\n",
      "Valid loss: 1.1489, Valid acc: 0.4630, Valid F1: 0.2320\n",
      "\n",
      "Epoch 48/50\n",
      "----------\n"
     ]
    },
    {
     "data": {
      "application/vnd.jupyter.widget-view+json": {
       "model_id": "5f904db32c79419697181ab9967bc1ec",
       "version_major": 2,
       "version_minor": 0
      },
      "text/plain": [
       "  0%|          | 0/54 [00:00<?, ?it/s]"
      ]
     },
     "metadata": {},
     "output_type": "display_data"
    },
    {
     "name": "stdout",
     "output_type": "stream",
     "text": [
      "Train loss: 0.8140, Train acc: 0.6111, Time: 9s\n",
      "Valid loss: 1.0212, Valid acc: 0.6481, Valid F1: 0.3488\n",
      "\n",
      "Epoch 49/50\n",
      "----------\n"
     ]
    },
    {
     "data": {
      "application/vnd.jupyter.widget-view+json": {
       "model_id": "213ae4b8871849b98cde37064fd1fdcc",
       "version_major": 2,
       "version_minor": 0
      },
      "text/plain": [
       "  0%|          | 0/54 [00:00<?, ?it/s]"
      ]
     },
     "metadata": {},
     "output_type": "display_data"
    },
    {
     "name": "stdout",
     "output_type": "stream",
     "text": [
      "Train loss: 0.9630, Train acc: 0.5926, Time: 9s\n",
      "Valid loss: 0.9765, Valid acc: 0.5556, Valid F1: 0.2939\n",
      "\n",
      "Epoch 50/50\n",
      "----------\n"
     ]
    },
    {
     "data": {
      "application/vnd.jupyter.widget-view+json": {
       "model_id": "75fcad2a33db458782cd0e014b61600e",
       "version_major": 2,
       "version_minor": 0
      },
      "text/plain": [
       "  0%|          | 0/54 [00:00<?, ?it/s]"
      ]
     },
     "metadata": {},
     "output_type": "display_data"
    },
    {
     "name": "stdout",
     "output_type": "stream",
     "text": [
      "Train loss: 0.8179, Train acc: 0.6296, Time: 9s\n",
      "Valid loss: 1.0430, Valid acc: 0.7037, Valid F1: 0.3778\n",
      "\n",
      "Training complete\n",
      "Best ACC: 0.7407 at epoch 41\n",
      "Best F1: 0.4941 at epoch 41\n"
     ]
    }
   ],
   "source": [
    "train_loss, valid_loss, train_acc, valid_acc, valid_f1 = run(train_loader, valid_loader, model,\n",
    "                                                             num_classes_n, epochs=epochs,\n",
    "                                                             save_path=save_path/'n')"
   ]
  },
  {
   "cell_type": "code",
   "execution_count": 38,
   "metadata": {},
   "outputs": [
    {
     "data": {
      "image/png": "[encoded data removed]",
      "text/plain": [
       "<Figure size 640x480 with 1 Axes>"
      ]
     },
     "metadata": {},
     "output_type": "display_data"
    }
   ],
   "source": [
    "plot_loss(train_loss, valid_loss)"
   ]
  },
  {
   "cell_type": "code",
   "execution_count": 39,
   "metadata": {},
   "outputs": [
    {
     "data": {
      "image/png": "[encoded data removed]",
      "text/plain": [
       "<Figure size 640x480 with 1 Axes>"
      ]
     },
     "metadata": {},
     "output_type": "display_data"
    }
   ],
   "source": [
    "plot_metrics(train_acc, valid_acc, valid_f1)"
   ]
  },
  {
   "cell_type": "code",
   "execution_count": 40,
   "metadata": {},
   "outputs": [
    {
     "name": "stdout",
     "output_type": "stream",
     "text": [
      "accuracy: 0.7407407407407407, f1 score: 0.49410722197607443\n"
     ]
    }
   ],
   "source": [
    "print(f'accuracy: {max(valid_acc)}, f1 score: {max(valid_f1)}')"
   ]
  },
  {
   "cell_type": "markdown",
   "metadata": {},
   "source": [
    "## M分類モデル"
   ]
  },
  {
   "cell_type": "code",
   "execution_count": 41,
   "metadata": {},
   "outputs": [],
   "source": [
    "batch_size=2\n",
    "epochs=50\n",
    "learning_rate=1e-5\n",
    "momentum=0.9"
   ]
  },
  {
   "cell_type": "code",
   "execution_count": 42,
   "metadata": {},
   "outputs": [],
   "source": [
    "train_data = []\n",
    "valid_data = []\n",
    "for x, y in zip(X_train, Ym_train):\n",
    "    data = [x, y]\n",
    "    train_data.append(data)\n",
    "for x, y in zip(X_valid, Ym_valid):\n",
    "    data = [x, y]\n",
    "    valid_data.append(data)\n",
    "    \n",
    "train_loader, valid_loader = build_data(train_data, valid_data, batch_size=batch_size)"
   ]
  },
  {
   "cell_type": "code",
   "execution_count": 43,
   "metadata": {},
   "outputs": [],
   "source": [
    "config = BertConfig.from_json_file(model_path / 'bert_config.json')\n",
    "bert = BertModel.from_pretrained(model_path / 'UTH_BERT.bin', config=config)\n",
    "model = Net(bert, num_classes_m).to(device)\n",
    "\n",
    "FREEZE=False\n",
    "if FREEZE: \n",
    "    idx=1 #Any\n",
    "    for name, param in model.named_parameters(): \n",
    "        param.requires_grad = False \n",
    "    for name, param in list(model.named_parameters())[idx:]: \n",
    "        param.requires_grad = True \n",
    "#     optimizer = optim.SGD([{'params':list(model.parameters())[idx:], 'lr':learning_rate, 'momentum':momentum}])\n",
    "    optimizer = optim.Adam([{'params':list(model.parameters())[idx:], 'lr':learning_rate}]) \n",
    "    criterion = nn.CrossEntropyLoss()\n",
    "else:  \n",
    "#     optimizer = optim.SGD(model.parameters(), lr=learning_rate, momentum=momentum)\n",
    "    optimizer = optim.Adam(model.parameters(), lr=learning_rate)\n",
    "    criterion = nn.CrossEntropyLoss()\n",
    "\n",
    "scheduler = StepLR(optimizer, step_size=3, gamma=0.1)"
   ]
  },
  {
   "cell_type": "code",
   "execution_count": 44,
   "metadata": {},
   "outputs": [
    {
     "name": "stdout",
     "output_type": "stream",
     "text": [
      "\n",
      "Epoch 1/50\n",
      "----------\n"
     ]
    },
    {
     "data": {
      "application/vnd.jupyter.widget-view+json": {
       "model_id": "958950b230b74c58ae8a59c69a0bc86a",
       "version_major": 2,
       "version_minor": 0
      },
      "text/plain": [
       "  0%|          | 0/54 [00:00<?, ?it/s]"
      ]
     },
     "metadata": {},
     "output_type": "display_data"
    },
    {
     "name": "stdout",
     "output_type": "stream",
     "text": [
      "Train loss: 0.9495, Train acc: 0.6759, Time: 10s\n",
      "Valid loss: 1.6074, Valid acc: 0.5000, Valid F1: 0.2222\n",
      "\n",
      "Epoch 2/50\n",
      "----------\n"
     ]
    },
    {
     "data": {
      "application/vnd.jupyter.widget-view+json": {
       "model_id": "0dfccef24b8541ebad7d9c405434fa74",
       "version_major": 2,
       "version_minor": 0
      },
      "text/plain": [
       "  0%|          | 0/54 [00:00<?, ?it/s]"
      ]
     },
     "metadata": {},
     "output_type": "display_data"
    },
    {
     "name": "stdout",
     "output_type": "stream",
     "text": [
      "Train loss: 0.8502, Train acc: 0.6944, Time: 10s\n",
      "Valid loss: 1.4256, Valid acc: 0.5556, Valid F1: 0.3260\n",
      "\n",
      "Epoch 3/50\n",
      "----------\n"
     ]
    },
    {
     "data": {
      "application/vnd.jupyter.widget-view+json": {
       "model_id": "2ca11585432f44a1a904510ff2bd06e5",
       "version_major": 2,
       "version_minor": 0
      },
      "text/plain": [
       "  0%|          | 0/54 [00:00<?, ?it/s]"
      ]
     },
     "metadata": {},
     "output_type": "display_data"
    },
    {
     "name": "stdout",
     "output_type": "stream",
     "text": [
      "Train loss: 0.7614, Train acc: 0.7407, Time: 10s\n",
      "Valid loss: 1.3345, Valid acc: 0.6852, Valid F1: 0.4848\n",
      "\n",
      "Epoch 4/50\n",
      "----------\n"
     ]
    },
    {
     "data": {
      "application/vnd.jupyter.widget-view+json": {
       "model_id": "5457e9bb3389438eabf0e8cfa5e2950c",
       "version_major": 2,
       "version_minor": 0
      },
      "text/plain": [
       "  0%|          | 0/54 [00:00<?, ?it/s]"
      ]
     },
     "metadata": {},
     "output_type": "display_data"
    },
    {
     "name": "stdout",
     "output_type": "stream",
     "text": [
      "Train loss: 0.7292, Train acc: 0.7685, Time: 10s\n",
      "Valid loss: 1.5455, Valid acc: 0.5926, Valid F1: 0.3942\n",
      "\n",
      "Epoch 5/50\n",
      "----------\n"
     ]
    },
    {
     "data": {
      "application/vnd.jupyter.widget-view+json": {
       "model_id": "c2420d44394d45af8d29fa73f99bcdec",
       "version_major": 2,
       "version_minor": 0
      },
      "text/plain": [
       "  0%|          | 0/54 [00:00<?, ?it/s]"
      ]
     },
     "metadata": {},
     "output_type": "display_data"
    },
    {
     "name": "stdout",
     "output_type": "stream",
     "text": [
      "Train loss: 0.6111, Train acc: 0.7593, Time: 10s\n",
      "Valid loss: 1.6178, Valid acc: 0.4630, Valid F1: 0.2374\n",
      "\n",
      "Epoch 6/50\n",
      "----------\n"
     ]
    },
    {
     "data": {
      "application/vnd.jupyter.widget-view+json": {
       "model_id": "b75a84835ae2453f9d71c125dae6f6af",
       "version_major": 2,
       "version_minor": 0
      },
      "text/plain": [
       "  0%|          | 0/54 [00:00<?, ?it/s]"
      ]
     },
     "metadata": {},
     "output_type": "display_data"
    },
    {
     "name": "stdout",
     "output_type": "stream",
     "text": [
      "Train loss: 0.6356, Train acc: 0.7593, Time: 10s\n",
      "Valid loss: 1.8549, Valid acc: 0.6111, Valid F1: 0.3257\n",
      "\n",
      "Epoch 7/50\n",
      "----------\n"
     ]
    },
    {
     "data": {
      "application/vnd.jupyter.widget-view+json": {
       "model_id": "2736ee34af06422aa9a27e080869c44d",
       "version_major": 2,
       "version_minor": 0
      },
      "text/plain": [
       "  0%|          | 0/54 [00:00<?, ?it/s]"
      ]
     },
     "metadata": {},
     "output_type": "display_data"
    },
    {
     "name": "stdout",
     "output_type": "stream",
     "text": [
      "Train loss: 0.6708, Train acc: 0.7500, Time: 9s\n",
      "Valid loss: 1.6932, Valid acc: 0.6111, Valid F1: 0.3153\n",
      "\n",
      "Epoch 8/50\n",
      "----------\n"
     ]
    },
    {
     "data": {
      "application/vnd.jupyter.widget-view+json": {
       "model_id": "e391a17efc9a451b91ed2f17a7893ad7",
       "version_major": 2,
       "version_minor": 0
      },
      "text/plain": [
       "  0%|          | 0/54 [00:00<?, ?it/s]"
      ]
     },
     "metadata": {},
     "output_type": "display_data"
    },
    {
     "name": "stdout",
     "output_type": "stream",
     "text": [
      "Train loss: 0.5368, Train acc: 0.8056, Time: 10s\n",
      "Valid loss: 1.5791, Valid acc: 0.6481, Valid F1: 0.4595\n",
      "\n",
      "Epoch 9/50\n",
      "----------\n"
     ]
    },
    {
     "data": {
      "application/vnd.jupyter.widget-view+json": {
       "model_id": "23cad761d9484b6baebc2e90d4c343fb",
       "version_major": 2,
       "version_minor": 0
      },
      "text/plain": [
       "  0%|          | 0/54 [00:00<?, ?it/s]"
      ]
     },
     "metadata": {},
     "output_type": "display_data"
    },
    {
     "name": "stdout",
     "output_type": "stream",
     "text": [
      "Train loss: 0.5981, Train acc: 0.8056, Time: 10s\n",
      "Valid loss: 1.7448, Valid acc: 0.6481, Valid F1: 0.3413\n",
      "\n",
      "Epoch 10/50\n",
      "----------\n"
     ]
    },
    {
     "data": {
      "application/vnd.jupyter.widget-view+json": {
       "model_id": "59595633f44d4604b7359cd66292bc1d",
       "version_major": 2,
       "version_minor": 0
      },
      "text/plain": [
       "  0%|          | 0/54 [00:00<?, ?it/s]"
      ]
     },
     "metadata": {},
     "output_type": "display_data"
    },
    {
     "name": "stdout",
     "output_type": "stream",
     "text": [
      "Train loss: 0.5734, Train acc: 0.7963, Time: 9s\n",
      "Valid loss: 1.5215, Valid acc: 0.7037, Valid F1: 0.3819\n",
      "\n",
      "Epoch 11/50\n",
      "----------\n"
     ]
    },
    {
     "data": {
      "application/vnd.jupyter.widget-view+json": {
       "model_id": "5389f54a7dd147458213844543605bd2",
       "version_major": 2,
       "version_minor": 0
      },
      "text/plain": [
       "  0%|          | 0/54 [00:00<?, ?it/s]"
      ]
     },
     "metadata": {},
     "output_type": "display_data"
    },
    {
     "name": "stdout",
     "output_type": "stream",
     "text": [
      "Train loss: 0.4476, Train acc: 0.8426, Time: 10s\n",
      "Valid loss: 1.6484, Valid acc: 0.6667, Valid F1: 0.3636\n",
      "\n",
      "Epoch 12/50\n",
      "----------\n"
     ]
    },
    {
     "data": {
      "application/vnd.jupyter.widget-view+json": {
       "model_id": "684d7073a4ac451594563d44f33de5e2",
       "version_major": 2,
       "version_minor": 0
      },
      "text/plain": [
       "  0%|          | 0/54 [00:00<?, ?it/s]"
      ]
     },
     "metadata": {},
     "output_type": "display_data"
    },
    {
     "name": "stdout",
     "output_type": "stream",
     "text": [
      "Train loss: 0.4814, Train acc: 0.8333, Time: 9s\n",
      "Valid loss: 1.8750, Valid acc: 0.5741, Valid F1: 0.3252\n",
      "\n",
      "Epoch 13/50\n",
      "----------\n"
     ]
    },
    {
     "data": {
      "application/vnd.jupyter.widget-view+json": {
       "model_id": "8e657ac535304aeab175f65e9dac34e3",
       "version_major": 2,
       "version_minor": 0
      },
      "text/plain": [
       "  0%|          | 0/54 [00:00<?, ?it/s]"
      ]
     },
     "metadata": {},
     "output_type": "display_data"
    },
    {
     "name": "stdout",
     "output_type": "stream",
     "text": [
      "Train loss: 0.4485, Train acc: 0.8519, Time: 9s\n",
      "Valid loss: 2.7833, Valid acc: 0.5000, Valid F1: 0.1688\n",
      "\n",
      "Epoch 14/50\n",
      "----------\n"
     ]
    },
    {
     "data": {
      "application/vnd.jupyter.widget-view+json": {
       "model_id": "51f470ea2f14421f8618867f398f5c62",
       "version_major": 2,
       "version_minor": 0
      },
      "text/plain": [
       "  0%|          | 0/54 [00:00<?, ?it/s]"
      ]
     },
     "metadata": {},
     "output_type": "display_data"
    },
    {
     "name": "stdout",
     "output_type": "stream",
     "text": [
      "Train loss: 0.5912, Train acc: 0.7963, Time: 9s\n",
      "Valid loss: 1.6173, Valid acc: 0.6296, Valid F1: 0.3431\n",
      "\n",
      "Epoch 15/50\n",
      "----------\n"
     ]
    },
    {
     "data": {
      "application/vnd.jupyter.widget-view+json": {
       "model_id": "86ee3bad9f2248f4a54fd6e5fd9212d2",
       "version_major": 2,
       "version_minor": 0
      },
      "text/plain": [
       "  0%|          | 0/54 [00:00<?, ?it/s]"
      ]
     },
     "metadata": {},
     "output_type": "display_data"
    },
    {
     "name": "stdout",
     "output_type": "stream",
     "text": [
      "Train loss: 0.5030, Train acc: 0.8148, Time: 10s\n",
      "Valid loss: 1.8481, Valid acc: 0.5741, Valid F1: 0.3550\n",
      "\n",
      "Epoch 16/50\n",
      "----------\n"
     ]
    },
    {
     "data": {
      "application/vnd.jupyter.widget-view+json": {
       "model_id": "f3a4f9c7ae3640228559b275f0352f43",
       "version_major": 2,
       "version_minor": 0
      },
      "text/plain": [
       "  0%|          | 0/54 [00:00<?, ?it/s]"
      ]
     },
     "metadata": {},
     "output_type": "display_data"
    },
    {
     "name": "stdout",
     "output_type": "stream",
     "text": [
      "Train loss: 0.5420, Train acc: 0.8148, Time: 11s\n",
      "Valid loss: 1.8291, Valid acc: 0.6111, Valid F1: 0.4067\n",
      "\n",
      "Epoch 17/50\n",
      "----------\n"
     ]
    },
    {
     "data": {
      "application/vnd.jupyter.widget-view+json": {
       "model_id": "2c86bdead55944b18155bb64825153b6",
       "version_major": 2,
       "version_minor": 0
      },
      "text/plain": [
       "  0%|          | 0/54 [00:00<?, ?it/s]"
      ]
     },
     "metadata": {},
     "output_type": "display_data"
    },
    {
     "name": "stdout",
     "output_type": "stream",
     "text": [
      "Train loss: 0.4882, Train acc: 0.8611, Time: 10s\n",
      "Valid loss: 1.7486, Valid acc: 0.6481, Valid F1: 0.4517\n",
      "\n",
      "Epoch 18/50\n",
      "----------\n"
     ]
    },
    {
     "data": {
      "application/vnd.jupyter.widget-view+json": {
       "model_id": "f911f8a695104ea6b7a6179bf578033a",
       "version_major": 2,
       "version_minor": 0
      },
      "text/plain": [
       "  0%|          | 0/54 [00:00<?, ?it/s]"
      ]
     },
     "metadata": {},
     "output_type": "display_data"
    },
    {
     "name": "stdout",
     "output_type": "stream",
     "text": [
      "Train loss: 0.6282, Train acc: 0.7870, Time: 10s\n",
      "Valid loss: 1.7730, Valid acc: 0.5556, Valid F1: 0.2589\n",
      "\n",
      "Epoch 19/50\n",
      "----------\n"
     ]
    },
    {
     "data": {
      "application/vnd.jupyter.widget-view+json": {
       "model_id": "a8c383a3e31840be9756a152539e3221",
       "version_major": 2,
       "version_minor": 0
      },
      "text/plain": [
       "  0%|          | 0/54 [00:00<?, ?it/s]"
      ]
     },
     "metadata": {},
     "output_type": "display_data"
    },
    {
     "name": "stdout",
     "output_type": "stream",
     "text": [
      "Train loss: 0.4893, Train acc: 0.8056, Time: 10s\n",
      "Valid loss: 1.6156, Valid acc: 0.5926, Valid F1: 0.3184\n",
      "\n",
      "Epoch 20/50\n",
      "----------\n"
     ]
    },
    {
     "data": {
      "application/vnd.jupyter.widget-view+json": {
       "model_id": "7f5890809ef44ed1ac4e7607c80b962e",
       "version_major": 2,
       "version_minor": 0
      },
      "text/plain": [
       "  0%|          | 0/54 [00:00<?, ?it/s]"
      ]
     },
     "metadata": {},
     "output_type": "display_data"
    },
    {
     "name": "stdout",
     "output_type": "stream",
     "text": [
      "Train loss: 0.4073, Train acc: 0.8519, Time: 10s\n",
      "Valid loss: 2.2544, Valid acc: 0.5741, Valid F1: 0.2685\n",
      "\n",
      "Epoch 21/50\n",
      "----------\n"
     ]
    },
    {
     "data": {
      "application/vnd.jupyter.widget-view+json": {
       "model_id": "8db29f5df86a44bb95442f417779f4f5",
       "version_major": 2,
       "version_minor": 0
      },
      "text/plain": [
       "  0%|          | 0/54 [00:00<?, ?it/s]"
      ]
     },
     "metadata": {},
     "output_type": "display_data"
    },
    {
     "name": "stdout",
     "output_type": "stream",
     "text": [
      "Train loss: 0.4152, Train acc: 0.8611, Time: 10s\n",
      "Valid loss: 1.7878, Valid acc: 0.6296, Valid F1: 0.3450\n",
      "\n",
      "Epoch 22/50\n",
      "----------\n"
     ]
    },
    {
     "data": {
      "application/vnd.jupyter.widget-view+json": {
       "model_id": "4bca9600b5d44489b09418e37735fbe0",
       "version_major": 2,
       "version_minor": 0
      },
      "text/plain": [
       "  0%|          | 0/54 [00:00<?, ?it/s]"
      ]
     },
     "metadata": {},
     "output_type": "display_data"
    },
    {
     "name": "stdout",
     "output_type": "stream",
     "text": [
      "Train loss: 0.3745, Train acc: 0.8704, Time: 10s\n",
      "Valid loss: 1.9877, Valid acc: 0.5926, Valid F1: 0.3818\n",
      "\n",
      "Epoch 23/50\n",
      "----------\n"
     ]
    },
    {
     "data": {
      "application/vnd.jupyter.widget-view+json": {
       "model_id": "281618b7720242ffbcb8023d4b90089b",
       "version_major": 2,
       "version_minor": 0
      },
      "text/plain": [
       "  0%|          | 0/54 [00:00<?, ?it/s]"
      ]
     },
     "metadata": {},
     "output_type": "display_data"
    },
    {
     "name": "stdout",
     "output_type": "stream",
     "text": [
      "Train loss: 0.6243, Train acc: 0.7593, Time: 10s\n",
      "Valid loss: 1.6445, Valid acc: 0.6481, Valid F1: 0.4618\n",
      "\n",
      "Epoch 24/50\n",
      "----------\n"
     ]
    },
    {
     "data": {
      "application/vnd.jupyter.widget-view+json": {
       "model_id": "f17debe2cc6c4fcaa38d72a78f9d6e03",
       "version_major": 2,
       "version_minor": 0
      },
      "text/plain": [
       "  0%|          | 0/54 [00:00<?, ?it/s]"
      ]
     },
     "metadata": {},
     "output_type": "display_data"
    },
    {
     "name": "stdout",
     "output_type": "stream",
     "text": [
      "Train loss: 0.4667, Train acc: 0.8796, Time: 10s\n",
      "Valid loss: 1.9055, Valid acc: 0.5926, Valid F1: 0.3043\n",
      "\n",
      "Epoch 25/50\n",
      "----------\n"
     ]
    },
    {
     "data": {
      "application/vnd.jupyter.widget-view+json": {
       "model_id": "acf1d9e33615489aa53b0f21ca486479",
       "version_major": 2,
       "version_minor": 0
      },
      "text/plain": [
       "  0%|          | 0/54 [00:00<?, ?it/s]"
      ]
     },
     "metadata": {},
     "output_type": "display_data"
    },
    {
     "name": "stdout",
     "output_type": "stream",
     "text": [
      "Train loss: 0.4319, Train acc: 0.8611, Time: 10s\n",
      "Valid loss: 1.8159, Valid acc: 0.5370, Valid F1: 0.2905\n",
      "\n",
      "Epoch 26/50\n",
      "----------\n"
     ]
    },
    {
     "data": {
      "application/vnd.jupyter.widget-view+json": {
       "model_id": "c677009f9ab44e3a8cdeef685d22ba2e",
       "version_major": 2,
       "version_minor": 0
      },
      "text/plain": [
       "  0%|          | 0/54 [00:00<?, ?it/s]"
      ]
     },
     "metadata": {},
     "output_type": "display_data"
    },
    {
     "name": "stdout",
     "output_type": "stream",
     "text": [
      "Train loss: 0.3841, Train acc: 0.8704, Time: 10s\n",
      "Valid loss: 2.0311, Valid acc: 0.5370, Valid F1: 0.3071\n",
      "\n",
      "Epoch 27/50\n",
      "----------\n"
     ]
    },
    {
     "data": {
      "application/vnd.jupyter.widget-view+json": {
       "model_id": "0ac2ff5c9eb04e80b6ec7647570e97e9",
       "version_major": 2,
       "version_minor": 0
      },
      "text/plain": [
       "  0%|          | 0/54 [00:00<?, ?it/s]"
      ]
     },
     "metadata": {},
     "output_type": "display_data"
    },
    {
     "name": "stdout",
     "output_type": "stream",
     "text": [
      "Train loss: 0.3937, Train acc: 0.8704, Time: 10s\n",
      "Valid loss: 2.0742, Valid acc: 0.6111, Valid F1: 0.3151\n",
      "\n",
      "Epoch 28/50\n",
      "----------\n"
     ]
    },
    {
     "data": {
      "application/vnd.jupyter.widget-view+json": {
       "model_id": "c8890cb80b294230a69b9e2361c502e4",
       "version_major": 2,
       "version_minor": 0
      },
      "text/plain": [
       "  0%|          | 0/54 [00:00<?, ?it/s]"
      ]
     },
     "metadata": {},
     "output_type": "display_data"
    },
    {
     "name": "stdout",
     "output_type": "stream",
     "text": [
      "Train loss: 0.3897, Train acc: 0.8611, Time: 10s\n",
      "Valid loss: 2.1079, Valid acc: 0.5556, Valid F1: 0.2821\n",
      "\n",
      "Epoch 29/50\n",
      "----------\n"
     ]
    },
    {
     "data": {
      "application/vnd.jupyter.widget-view+json": {
       "model_id": "683ec933da544fe39bfa2798a6ba4d8a",
       "version_major": 2,
       "version_minor": 0
      },
      "text/plain": [
       "  0%|          | 0/54 [00:00<?, ?it/s]"
      ]
     },
     "metadata": {},
     "output_type": "display_data"
    },
    {
     "name": "stdout",
     "output_type": "stream",
     "text": [
      "Train loss: 0.4487, Train acc: 0.8519, Time: 10s\n",
      "Valid loss: 1.7872, Valid acc: 0.6481, Valid F1: 0.4517\n",
      "\n",
      "Epoch 30/50\n",
      "----------\n"
     ]
    },
    {
     "data": {
      "application/vnd.jupyter.widget-view+json": {
       "model_id": "ed5ea25aa8214baca897043928459f3f",
       "version_major": 2,
       "version_minor": 0
      },
      "text/plain": [
       "  0%|          | 0/54 [00:00<?, ?it/s]"
      ]
     },
     "metadata": {},
     "output_type": "display_data"
    },
    {
     "name": "stdout",
     "output_type": "stream",
     "text": [
      "Train loss: 0.4172, Train acc: 0.8333, Time: 10s\n",
      "Valid loss: 2.1048, Valid acc: 0.5741, Valid F1: 0.3167\n",
      "\n",
      "Epoch 31/50\n",
      "----------\n"
     ]
    },
    {
     "data": {
      "application/vnd.jupyter.widget-view+json": {
       "model_id": "4571cad97d4b40cf9d75e66a7e970e3c",
       "version_major": 2,
       "version_minor": 0
      },
      "text/plain": [
       "  0%|          | 0/54 [00:00<?, ?it/s]"
      ]
     },
     "metadata": {},
     "output_type": "display_data"
    },
    {
     "name": "stdout",
     "output_type": "stream",
     "text": [
      "Train loss: 0.4844, Train acc: 0.7963, Time: 9s\n",
      "Valid loss: 2.3702, Valid acc: 0.5000, Valid F1: 0.1800\n",
      "\n",
      "Epoch 32/50\n",
      "----------\n"
     ]
    },
    {
     "data": {
      "application/vnd.jupyter.widget-view+json": {
       "model_id": "3f30317c27a04fc795af4128fc01a2ce",
       "version_major": 2,
       "version_minor": 0
      },
      "text/plain": [
       "  0%|          | 0/54 [00:00<?, ?it/s]"
      ]
     },
     "metadata": {},
     "output_type": "display_data"
    },
    {
     "name": "stdout",
     "output_type": "stream",
     "text": [
      "Train loss: 0.4262, Train acc: 0.8611, Time: 10s\n",
      "Valid loss: 1.7257, Valid acc: 0.7037, Valid F1: 0.3882\n",
      "\n",
      "Epoch 33/50\n",
      "----------\n"
     ]
    },
    {
     "data": {
      "application/vnd.jupyter.widget-view+json": {
       "model_id": "c2400376c5e04750a46ae23559a7912f",
       "version_major": 2,
       "version_minor": 0
      },
      "text/plain": [
       "  0%|          | 0/54 [00:00<?, ?it/s]"
      ]
     },
     "metadata": {},
     "output_type": "display_data"
    },
    {
     "name": "stdout",
     "output_type": "stream",
     "text": [
      "Train loss: 0.3884, Train acc: 0.8611, Time: 10s\n",
      "Valid loss: 1.6597, Valid acc: 0.6481, Valid F1: 0.3436\n",
      "\n",
      "Epoch 34/50\n",
      "----------\n"
     ]
    },
    {
     "data": {
      "application/vnd.jupyter.widget-view+json": {
       "model_id": "37e55784b96c429792dfafc60a3be780",
       "version_major": 2,
       "version_minor": 0
      },
      "text/plain": [
       "  0%|          | 0/54 [00:00<?, ?it/s]"
      ]
     },
     "metadata": {},
     "output_type": "display_data"
    },
    {
     "name": "stdout",
     "output_type": "stream",
     "text": [
      "Train loss: 0.3525, Train acc: 0.8889, Time: 10s\n",
      "Valid loss: 1.9727, Valid acc: 0.6111, Valid F1: 0.3099\n",
      "\n",
      "Epoch 35/50\n",
      "----------\n"
     ]
    },
    {
     "data": {
      "application/vnd.jupyter.widget-view+json": {
       "model_id": "fd3c66ac2d834d7cba16b02c51ad9127",
       "version_major": 2,
       "version_minor": 0
      },
      "text/plain": [
       "  0%|          | 0/54 [00:00<?, ?it/s]"
      ]
     },
     "metadata": {},
     "output_type": "display_data"
    },
    {
     "name": "stdout",
     "output_type": "stream",
     "text": [
      "Train loss: 0.4844, Train acc: 0.8241, Time: 10s\n",
      "Valid loss: 1.6285, Valid acc: 0.6667, Valid F1: 0.3652\n",
      "\n",
      "Epoch 36/50\n",
      "----------\n"
     ]
    },
    {
     "data": {
      "application/vnd.jupyter.widget-view+json": {
       "model_id": "778fed3c7198455185101d99fa12c510",
       "version_major": 2,
       "version_minor": 0
      },
      "text/plain": [
       "  0%|          | 0/54 [00:00<?, ?it/s]"
      ]
     },
     "metadata": {},
     "output_type": "display_data"
    },
    {
     "name": "stdout",
     "output_type": "stream",
     "text": [
      "Train loss: 0.3891, Train acc: 0.8704, Time: 10s\n",
      "Valid loss: 1.6353, Valid acc: 0.7407, Valid F1: 0.4112\n",
      "\n",
      "Epoch 37/50\n",
      "----------\n"
     ]
    },
    {
     "data": {
      "application/vnd.jupyter.widget-view+json": {
       "model_id": "3b72f18a60364c0b9b1fc781effa33df",
       "version_major": 2,
       "version_minor": 0
      },
      "text/plain": [
       "  0%|          | 0/54 [00:00<?, ?it/s]"
      ]
     },
     "metadata": {},
     "output_type": "display_data"
    },
    {
     "name": "stdout",
     "output_type": "stream",
     "text": [
      "Train loss: 0.3542, Train acc: 0.8796, Time: 10s\n",
      "Valid loss: 2.1249, Valid acc: 0.6111, Valid F1: 0.3151\n",
      "\n",
      "Epoch 38/50\n",
      "----------\n"
     ]
    },
    {
     "data": {
      "application/vnd.jupyter.widget-view+json": {
       "model_id": "2a12b9a69f7543ef82dba215ee918236",
       "version_major": 2,
       "version_minor": 0
      },
      "text/plain": [
       "  0%|          | 0/54 [00:00<?, ?it/s]"
      ]
     },
     "metadata": {},
     "output_type": "display_data"
    },
    {
     "name": "stdout",
     "output_type": "stream",
     "text": [
      "Train loss: 0.2676, Train acc: 0.9444, Time: 10s\n",
      "Valid loss: 2.1080, Valid acc: 0.5926, Valid F1: 0.3016\n",
      "\n",
      "Epoch 39/50\n",
      "----------\n"
     ]
    },
    {
     "data": {
      "application/vnd.jupyter.widget-view+json": {
       "model_id": "ee242739ce44482cbf43eb65c357e9e9",
       "version_major": 2,
       "version_minor": 0
      },
      "text/plain": [
       "  0%|          | 0/54 [00:00<?, ?it/s]"
      ]
     },
     "metadata": {},
     "output_type": "display_data"
    },
    {
     "name": "stdout",
     "output_type": "stream",
     "text": [
      "Train loss: 0.2837, Train acc: 0.9167, Time: 10s\n",
      "Valid loss: 2.2038, Valid acc: 0.5741, Valid F1: 0.2866\n",
      "\n",
      "Epoch 40/50\n",
      "----------\n"
     ]
    },
    {
     "data": {
      "application/vnd.jupyter.widget-view+json": {
       "model_id": "b09e37d1fcc64760ac982e7b19d0ec21",
       "version_major": 2,
       "version_minor": 0
      },
      "text/plain": [
       "  0%|          | 0/54 [00:00<?, ?it/s]"
      ]
     },
     "metadata": {},
     "output_type": "display_data"
    },
    {
     "name": "stdout",
     "output_type": "stream",
     "text": [
      "Train loss: 0.5871, Train acc: 0.8148, Time: 10s\n",
      "Valid loss: 1.6515, Valid acc: 0.7037, Valid F1: 0.5130\n",
      "\n",
      "Epoch 41/50\n",
      "----------\n"
     ]
    },
    {
     "data": {
      "application/vnd.jupyter.widget-view+json": {
       "model_id": "f76aee81d1a6448181c3d44283cb2e9d",
       "version_major": 2,
       "version_minor": 0
      },
      "text/plain": [
       "  0%|          | 0/54 [00:00<?, ?it/s]"
      ]
     },
     "metadata": {},
     "output_type": "display_data"
    },
    {
     "name": "stdout",
     "output_type": "stream",
     "text": [
      "Train loss: 0.6854, Train acc: 0.7222, Time: 10s\n",
      "Valid loss: 1.6336, Valid acc: 0.4444, Valid F1: 0.3107\n",
      "\n",
      "Epoch 42/50\n",
      "----------\n"
     ]
    },
    {
     "data": {
      "application/vnd.jupyter.widget-view+json": {
       "model_id": "4778a3a4fdd542c7947b6b657dded240",
       "version_major": 2,
       "version_minor": 0
      },
      "text/plain": [
       "  0%|          | 0/54 [00:00<?, ?it/s]"
      ]
     },
     "metadata": {},
     "output_type": "display_data"
    },
    {
     "name": "stdout",
     "output_type": "stream",
     "text": [
      "Train loss: 0.6234, Train acc: 0.7963, Time: 10s\n",
      "Valid loss: 1.5597, Valid acc: 0.6481, Valid F1: 0.3495\n",
      "\n",
      "Epoch 43/50\n",
      "----------\n"
     ]
    },
    {
     "data": {
      "application/vnd.jupyter.widget-view+json": {
       "model_id": "54211eca6c304f54b154e52aca594b15",
       "version_major": 2,
       "version_minor": 0
      },
      "text/plain": [
       "  0%|          | 0/54 [00:00<?, ?it/s]"
      ]
     },
     "metadata": {},
     "output_type": "display_data"
    },
    {
     "name": "stdout",
     "output_type": "stream",
     "text": [
      "Train loss: 0.4387, Train acc: 0.8241, Time: 10s\n",
      "Valid loss: 1.9666, Valid acc: 0.5556, Valid F1: 0.2766\n",
      "\n",
      "Epoch 44/50\n",
      "----------\n"
     ]
    },
    {
     "data": {
      "application/vnd.jupyter.widget-view+json": {
       "model_id": "c1c33daba9554e95ba5bff5e6c3cbd46",
       "version_major": 2,
       "version_minor": 0
      },
      "text/plain": [
       "  0%|          | 0/54 [00:00<?, ?it/s]"
      ]
     },
     "metadata": {},
     "output_type": "display_data"
    },
    {
     "name": "stdout",
     "output_type": "stream",
     "text": [
      "Train loss: 0.5468, Train acc: 0.8148, Time: 10s\n",
      "Valid loss: 1.7948, Valid acc: 0.6481, Valid F1: 0.3412\n",
      "\n",
      "Epoch 45/50\n",
      "----------\n"
     ]
    },
    {
     "data": {
      "application/vnd.jupyter.widget-view+json": {
       "model_id": "801286a6efb24997bf771f70f1fbf5f2",
       "version_major": 2,
       "version_minor": 0
      },
      "text/plain": [
       "  0%|          | 0/54 [00:00<?, ?it/s]"
      ]
     },
     "metadata": {},
     "output_type": "display_data"
    },
    {
     "name": "stdout",
     "output_type": "stream",
     "text": [
      "Train loss: 0.4347, Train acc: 0.8519, Time: 10s\n",
      "Valid loss: 1.7740, Valid acc: 0.6481, Valid F1: 0.3547\n",
      "\n",
      "Epoch 46/50\n",
      "----------\n"
     ]
    },
    {
     "data": {
      "application/vnd.jupyter.widget-view+json": {
       "model_id": "f6eef31bc2c84d63a02a142207475b92",
       "version_major": 2,
       "version_minor": 0
      },
      "text/plain": [
       "  0%|          | 0/54 [00:00<?, ?it/s]"
      ]
     },
     "metadata": {},
     "output_type": "display_data"
    },
    {
     "name": "stdout",
     "output_type": "stream",
     "text": [
      "Train loss: 0.4312, Train acc: 0.8519, Time: 10s\n",
      "Valid loss: 1.7985, Valid acc: 0.6481, Valid F1: 0.4517\n",
      "\n",
      "Epoch 47/50\n",
      "----------\n"
     ]
    },
    {
     "data": {
      "application/vnd.jupyter.widget-view+json": {
       "model_id": "08ef966b69c345bf9ff0847f739283a1",
       "version_major": 2,
       "version_minor": 0
      },
      "text/plain": [
       "  0%|          | 0/54 [00:00<?, ?it/s]"
      ]
     },
     "metadata": {},
     "output_type": "display_data"
    },
    {
     "name": "stdout",
     "output_type": "stream",
     "text": [
      "Train loss: 0.4674, Train acc: 0.8426, Time: 10s\n",
      "Valid loss: 1.7070, Valid acc: 0.6481, Valid F1: 0.3383\n",
      "\n",
      "Epoch 48/50\n",
      "----------\n"
     ]
    },
    {
     "data": {
      "application/vnd.jupyter.widget-view+json": {
       "model_id": "1ac567980b2c43a2b25abae788dfe692",
       "version_major": 2,
       "version_minor": 0
      },
      "text/plain": [
       "  0%|          | 0/54 [00:00<?, ?it/s]"
      ]
     },
     "metadata": {},
     "output_type": "display_data"
    },
    {
     "name": "stdout",
     "output_type": "stream",
     "text": [
      "Train loss: 0.4086, Train acc: 0.8426, Time: 10s\n",
      "Valid loss: 1.5518, Valid acc: 0.6667, Valid F1: 0.3694\n",
      "\n",
      "Epoch 49/50\n",
      "----------\n"
     ]
    },
    {
     "data": {
      "application/vnd.jupyter.widget-view+json": {
       "model_id": "f72e1b7c5f614df784271c096845c9be",
       "version_major": 2,
       "version_minor": 0
      },
      "text/plain": [
       "  0%|          | 0/54 [00:00<?, ?it/s]"
      ]
     },
     "metadata": {},
     "output_type": "display_data"
    },
    {
     "name": "stdout",
     "output_type": "stream",
     "text": [
      "Train loss: 0.4329, Train acc: 0.8426, Time: 9s\n",
      "Valid loss: 1.7871, Valid acc: 0.7037, Valid F1: 0.5100\n",
      "\n",
      "Epoch 50/50\n",
      "----------\n"
     ]
    },
    {
     "data": {
      "application/vnd.jupyter.widget-view+json": {
       "model_id": "b298e1e409204ce5bea2a567172a21c3",
       "version_major": 2,
       "version_minor": 0
      },
      "text/plain": [
       "  0%|          | 0/54 [00:00<?, ?it/s]"
      ]
     },
     "metadata": {},
     "output_type": "display_data"
    },
    {
     "name": "stdout",
     "output_type": "stream",
     "text": [
      "Train loss: 0.4813, Train acc: 0.8426, Time: 10s\n",
      "Valid loss: 1.6288, Valid acc: 0.7037, Valid F1: 0.3873\n",
      "\n",
      "Training complete\n",
      "Best ACC: 0.7407 at epoch 35\n",
      "Best F1: 0.5130 at epoch 39\n"
     ]
    }
   ],
   "source": [
    "train_loss, valid_loss, train_acc, valid_acc, valid_f1 = run(train_loader, valid_loader, model,\n",
    "                                                             num_classes_m, epochs=epochs,\n",
    "                                                             save_path=save_path/'m')"
   ]
  },
  {
   "cell_type": "code",
   "execution_count": 45,
   "metadata": {},
   "outputs": [
    {
     "data": {
      "image/png": "[encoded data removed]",
      "text/plain": [
       "<Figure size 640x480 with 1 Axes>"
      ]
     },
     "metadata": {},
     "output_type": "display_data"
    }
   ],
   "source": [
    "plot_loss(train_loss, valid_loss)"
   ]
  },
  {
   "cell_type": "code",
   "execution_count": 46,
   "metadata": {},
   "outputs": [
    {
     "data": {
      "image/png": "[encoded data removed]",
      "text/plain": [
       "<Figure size 640x480 with 1 Axes>"
      ]
     },
     "metadata": {},
     "output_type": "display_data"
    }
   ],
   "source": [
    "plot_metrics(train_acc, valid_acc, valid_f1)"
   ]
  },
  {
   "cell_type": "code",
   "execution_count": 47,
   "metadata": {},
   "outputs": [
    {
     "name": "stdout",
     "output_type": "stream",
     "text": [
      "accuracy: 0.7407407407407407, f1 score: 0.512966476913346\n"
     ]
    }
   ],
   "source": [
    "print(f'accuracy: {max(valid_acc)}, f1 score: {max(valid_f1)}')"
   ]
  },
  {
   "cell_type": "code",
   "execution_count": null,
   "metadata": {},
   "outputs": [],
   "source": []
  }
 ],
 "metadata": {
  "kernelspec": {
   "display_name": "env_radnlp",
   "language": "python",
   "name": "python3"
  },
  "language_info": {
   "codemirror_mode": {
    "name": "ipython",
    "version": 3
   },
   "file_extension": ".py",
   "mimetype": "text/x-python",
   "name": "python",
   "nbconvert_exporter": "python",
   "pygments_lexer": "ipython3",
   "version": "3.11.11"
  }
 },
 "nbformat": 4,
 "nbformat_minor": 4
}
